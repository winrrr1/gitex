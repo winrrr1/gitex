{
 "cells": [
  {
   "cell_type": "markdown",
   "id": "6a921533-cec7-4b6c-845c-c28330cf8e91",
   "metadata": {},
   "source": [
    "## 경로 잘볼것 !! "
   ]
  },
  {
   "cell_type": "code",
   "execution_count": 15,
   "id": "49ae6302-656d-4ac0-a4be-9efa14b311e3",
   "metadata": {},
   "outputs": [
    {
     "data": {
      "text/plain": [
       "'C:\\\\ex\\\\game'"
      ]
     },
     "execution_count": 15,
     "metadata": {},
     "output_type": "execute_result"
    }
   ],
   "source": [
    "pwd"
   ]
  },
  {
   "cell_type": "code",
   "execution_count": 19,
   "id": "13bcaccf-ab66-4983-8b58-a395b3a47bf8",
   "metadata": {},
   "outputs": [],
   "source": [
    "from sound import echo"
   ]
  },
  {
   "cell_type": "code",
   "execution_count": 21,
   "id": "aba70c3c-71c9-42ca-9c2c-81afbf138406",
   "metadata": {},
   "outputs": [
    {
     "name": "stdout",
     "output_type": "stream",
     "text": [
      "삐익 삐익\n"
     ]
    }
   ],
   "source": [
    "echo.game_sound()"
   ]
  },
  {
   "cell_type": "code",
   "execution_count": 23,
   "id": "877d2f48-7b1e-47f1-b752-9cef227b63c6",
   "metadata": {},
   "outputs": [],
   "source": [
    "from graphic import render"
   ]
  },
  {
   "cell_type": "code",
   "execution_count": 25,
   "id": "228ae59a-0135-4982-b8b6-face0bbd4d91",
   "metadata": {},
   "outputs": [
    {
     "name": "stdout",
     "output_type": "stream",
     "text": [
      "화면이 나온다\n"
     ]
    }
   ],
   "source": [
    "render.draw()"
   ]
  },
  {
   "cell_type": "code",
   "execution_count": null,
   "id": "64f0bf16-6eef-482c-bf95-ba0538973a1e",
   "metadata": {},
   "outputs": [],
   "source": []
  }
 ],
 "metadata": {
  "kernelspec": {
   "display_name": "Python 3 (ipykernel)",
   "language": "python",
   "name": "python3"
  },
  "language_info": {
   "codemirror_mode": {
    "name": "ipython",
    "version": 3
   },
   "file_extension": ".py",
   "mimetype": "text/x-python",
   "name": "python",
   "nbconvert_exporter": "python",
   "pygments_lexer": "ipython3",
   "version": "3.12.4"
  }
 },
 "nbformat": 4,
 "nbformat_minor": 5
}
