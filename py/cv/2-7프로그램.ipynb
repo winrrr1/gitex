{
 "cells": [
  {
   "cell_type": "code",
   "execution_count": 3,
   "metadata": {},
   "outputs": [],
   "source": [
    "import cv2 as cv\n",
    "import sys\n",
    "\n",
    "img=cv.imread('girl_laughing.jpg') \n",
    "  \n",
    "if img is None:\n",
    "    sys.exit('파일을 찾을 수 없습니다.')\n",
    "    \n",
    "def draw(event,x,y,flags,param):\t\t# 콜백 함수\n",
    "    if event==cv.EVENT_LBUTTONDOWN:\t# 마우스 왼쪽 버튼 클릭했을 때\n",
    "        cv.rectangle(img,(x,y),(x+200,y+200),(0,0,255),2)\n",
    "    elif event==cv.EVENT_RBUTTONDOWN:\t# 마우스 오른쪽 버튼 클릭했을 때\n",
    "        cv.rectangle(img,(x,y),(x+100,y+100),(255,0,0),2)  \n",
    "        \n",
    "    cv.imshow('Drawing',img)          \n",
    "    \n",
    "cv.namedWindow('Drawing')\n",
    "cv.imshow('Drawing',img)\n",
    "\n",
    "cv.setMouseCallback('Drawing',draw)\t# Drawing 윈도우에 draw 콜백 함수 지정\n",
    "\n",
    "while(True):\t\t# 마우스 이벤트가 언제 발생할지 모르므로 무한 반복\n",
    "    if cv.waitKey(1)==ord('q'): # q버튼 누르면 정지 \n",
    "        cv.destroyAllWindows() \n",
    "        break"
   ]
  },
  {
   "cell_type": "code",
   "execution_count": null,
   "metadata": {},
   "outputs": [],
   "source": []
  }
 ],
 "metadata": {
  "kernelspec": {
   "display_name": "cv",
   "language": "python",
   "name": "python3"
  },
  "language_info": {
   "codemirror_mode": {
    "name": "ipython",
    "version": 3
   },
   "file_extension": ".py",
   "mimetype": "text/x-python",
   "name": "python",
   "nbconvert_exporter": "python",
   "pygments_lexer": "ipython3",
   "version": "3.9.16"
  }
 },
 "nbformat": 4,
 "nbformat_minor": 2
}
