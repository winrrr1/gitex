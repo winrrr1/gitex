{
 "cells": [
  {
   "cell_type": "code",
   "execution_count": 24,
   "metadata": {},
   "outputs": [
    {
     "data": {
      "image/png": "[encoded data removed]",
      "text/plain": [
       "<Figure size 640x480 with 1 Axes>"
      ]
     },
     "metadata": {},
     "output_type": "display_data"
    }
   ],
   "source": [
    "# plt로 볼수 있게 \n",
    "import numpy as np\n",
    "import matplotlib.pyplot as plt\n",
    "\n",
    "# 한글 폰트 설정\n",
    "plt.rcParams['font.family'] = 'Malgun Gothic'  # Windows의 경우\n",
    "\n",
    "# 마이너스 기호가 깨지지 않도록 설정합니다.\n",
    "plt.rcParams['axes.unicode_minus'] = False\n",
    "\n",
    "# 주어진 이진 데이터\n",
    "data = [\n",
    "    [1, 2, 2, 2, 1, 1, 2, 0],\n",
    "    [2, 6, 7, 6, 6, 4, 3, 0],\n",
    "    [2, 6, 7, 6, 6, 4, 3, 2],\n",
    "    [2, 5, 6, 6, 6, 4, 3, 2],\n",
    "    [2, 5, 6, 6, 5, 5, 3, 2],\n",
    "    [2, 5, 5, 5, 3, 3, 3, 2],\n",
    "    [2, 2, 3, 3, 3, 1, 1, 1],\n",
    "    [2, 2, 1, 1, 1, 1, 1, 1]\n",
    "]\n",
    "\n",
    "# numpy 배열로 변환\n",
    "data_array = np.array(data)\n",
    "\n",
    "# 모든 픽셀 값(flatten된 배열)\n",
    "pixels = data_array.flatten()\n",
    "\n",
    "# 히스토그램 생성\n",
    "plt.hist(pixels, bins=np.arange(0, 9) - 0.5, edgecolor='black')\n",
    "\n",
    "# Y축의 범위를 0부터 20까지 설정\n",
    "plt.ylim(0, 20)\n",
    "\n",
    "# Y축 눈금을 5단위로 설정\n",
    "plt.yticks(np.arange(0, 21, 5))\n",
    "\n",
    "# 히스토그램의 제목과 축 레이블 설정\n",
    "plt.title('이진영상 히스토그램')\n",
    "plt.xlabel('Pixel Value')\n",
    "plt.ylabel('Frequency')\n",
    "\n",
    "# 히스토그램을 화면에 표시\n",
    "plt.show()\n"
   ]
  },
  {
   "cell_type": "code",
   "execution_count": 23,
   "metadata": {},
   "outputs": [],
   "source": [
    "# cv로 볼수 있게 \n",
    "import numpy as np\n",
    "import cv2\n",
    "import matplotlib.pyplot as plt\n",
    "\n",
    "# 주어진 이진 데이터\n",
    "data = [\n",
    "    [1, 2, 2, 2, 1, 1, 2, 0],\n",
    "    [2, 6, 7, 6, 6, 4, 3, 0],\n",
    "    [2, 6, 7, 6, 6, 4, 3, 2],\n",
    "    [2, 5, 6, 6, 6, 4, 3, 2],\n",
    "    [2, 5, 6, 6, 5, 5, 3, 2],\n",
    "    [2, 5, 5, 5, 3, 3, 3, 2],\n",
    "    [2, 2, 3, 3, 3, 1, 1, 1],\n",
    "    [2, 2, 1, 1, 1, 1, 1, 1]\n",
    "]\n",
    "\n",
    "# numpy 배열로 변환\n",
    "data_array = np.array(data)\n",
    "\n",
    "# 모든 픽셀 값(flatten된 배열)\n",
    "pixels = data_array.flatten()\n",
    "\n",
    "# 히스토그램 데이터 계산\n",
    "hist, bins = np.histogram(pixels, bins=np.arange(0, 9) - 0.5)\n",
    "\n",
    "# 히스토그램을 시각화하기 위한 이미지 크기와 초기화\n",
    "hist_img = np.zeros((300, 300, 3), dtype=np.uint8)\n",
    "\n",
    "# 히스토그램을 이미지에 그리기\n",
    "for i in range(len(hist)):\n",
    "    cv2.rectangle(hist_img, (i*30, 300), ((i+1)*30, 300 - hist[i]), (255, 255, 255), -1)\n",
    "\n",
    "# OpenCV를 사용하여 히스토그램 이미지 표시\n",
    "cv2.imshow('Histogram', hist_img)\n",
    "\n",
    "# 키 입력을 대기하여 창을 닫을 수 있도록 함\n",
    "cv2.waitKey(3000)\n",
    "cv2.destroyAllWindows()\n"
   ]
  },
  {
   "cell_type": "code",
   "execution_count": null,
   "metadata": {},
   "outputs": [],
   "source": []
  }
 ],
 "metadata": {
  "kernelspec": {
   "display_name": "cv",
   "language": "python",
   "name": "python3"
  },
  "language_info": {
   "codemirror_mode": {
    "name": "ipython",
    "version": 3
   },
   "file_extension": ".py",
   "mimetype": "text/x-python",
   "name": "python",
   "nbconvert_exporter": "python",
   "pygments_lexer": "ipython3",
   "version": "3.9.16"
  }
 },
 "nbformat": 4,
 "nbformat_minor": 2
}
