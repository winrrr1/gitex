{
 "cells": [
  {
   "cell_type": "code",
   "execution_count": 9,
   "metadata": {},
   "outputs": [],
   "source": [
    "import cv2 as cv\n",
    "import matplotlib.pyplot as plt\n",
    "from matplotlib import font_manager, rc\n",
    "\n",
    "# 한글 폰트 설정\n",
    "plt.rcParams['font.family'] = 'Malgun Gothic'  # Windows의 경우\n",
    "\n",
    "\n",
    "# 마이너스 기호가 깨지지 않도록 설정합니다.\n",
    "plt.rcParams['axes.unicode_minus'] = False"
   ]
  },
  {
   "cell_type": "code",
   "execution_count": 10,
   "metadata": {},
   "outputs": [
    {
     "data": {
      "text/plain": [
       "'c:\\\\ex\\\\py\\\\cv\\\\appx\\\\HelloCV'"
      ]
     },
     "execution_count": 10,
     "metadata": {},
     "output_type": "execute_result"
    }
   ],
   "source": [
    "pwd"
   ]
  },
  {
   "cell_type": "code",
   "execution_count": 20,
   "metadata": {},
   "outputs": [
    {
     "name": "stdout",
     "output_type": "stream",
     "text": [
      "Hello OpenCV 4.10.0\n"
     ]
    }
   ],
   "source": [
    "import cv2  \n",
    "import sys  # 시스템 관련 기능 - sys 모듈을 불러옵니다\n",
    "\n",
    "print(\"Hello OpenCV\", cv2.__version__)  # OpenCV 버전을 출력합니다\n",
    "\n",
    "# 이미지를 읽어옵니다\n",
    "img = cv2.imread('c:/ex/py/cv/img/4027.png')\n",
    "\n",
    "# 이미지가 성공적으로 로드되지 않았을 경우 에러 메시지를 출력하고 프로그램을 종료합니다\n",
    "if img is None:\n",
    "    print(\"이미지 오류!\", file=sys.stderr)  # 오류 메시지를 표준 오류로 출력합니다\n",
    "    sys.exit(-1)  # 비정상 종료를 의미하는 -1을 반환하며 프로그램을 종료합니다\n",
    "\n",
    "# 창에 이미지를 표시합니다\n",
    "cv2.imshow(\"king\", img) # 창 이름과 위에 생성한 이미지 표시 \n",
    "\n",
    "# 사용자의 키 입력을 기다립니다\n",
    "cv2.waitKey(3000) # 1000 = 1초\n",
    "\n",
    "# 모든 창을 닫고 프로그램을 종료합니다\n",
    "cv2.destroyAllWindows()\n"
   ]
  },
  {
   "cell_type": "code",
   "execution_count": null,
   "metadata": {},
   "outputs": [],
   "source": []
  }
 ],
 "metadata": {
  "kernelspec": {
   "display_name": "cv",
   "language": "python",
   "name": "python3"
  },
  "language_info": {
   "codemirror_mode": {
    "name": "ipython",
    "version": 3
   },
   "file_extension": ".py",
   "mimetype": "text/x-python",
   "name": "python",
   "nbconvert_exporter": "python",
   "pygments_lexer": "ipython3",
   "version": "3.9.16"
  }
 },
 "nbformat": 4,
 "nbformat_minor": 2
}
