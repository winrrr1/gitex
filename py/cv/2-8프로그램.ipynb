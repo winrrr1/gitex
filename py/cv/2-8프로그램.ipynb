{
 "cells": [
  {
   "cell_type": "code",
   "execution_count": 1,
   "metadata": {},
   "outputs": [],
   "source": [
    "import cv2 as cv\n",
    "import sys\n",
    "\n",
    "img=cv.imread('girl_laughing.jpg') \n",
    "  \n",
    "if img is None:\n",
    "    sys.exit('파일을 찾을 수 없습니다.')\n",
    "    \n",
    "def draw(event,x,y,flags,param):\n",
    "    global ix,iy\n",
    "    \n",
    "    if event==cv.EVENT_LBUTTONDOWN:\t# 마우스 왼쪽 버튼 클릭했을 때 초기 위치 저장\n",
    "        ix,iy=x,y\n",
    "    elif event==cv.EVENT_LBUTTONUP:\t# 마우스 왼쪽 버튼 클릭했을 때 직사각형 그리기\n",
    "        cv.rectangle(img,(ix,iy),(x,y),(0,0,255),2)\n",
    "    \n",
    "    cv.imshow('Drawing',img)\n",
    "    \n",
    "cv.namedWindow('Drawing')\n",
    "cv.imshow('Drawing',img)\n",
    "\n",
    "cv.setMouseCallback('Drawing',draw)\n",
    "\n",
    "while(True):\n",
    "    if cv.waitKey(1)==ord('q'):\n",
    "        cv.destroyAllWindows()      \n",
    "        break"
   ]
  },
  {
   "cell_type": "code",
   "execution_count": null,
   "metadata": {},
   "outputs": [],
   "source": []
  }
 ],
 "metadata": {
  "kernelspec": {
   "display_name": "cv",
   "language": "python",
   "name": "python3"
  },
  "language_info": {
   "codemirror_mode": {
    "name": "ipython",
    "version": 3
   },
   "file_extension": ".py",
   "mimetype": "text/x-python",
   "name": "python",
   "nbconvert_exporter": "python",
   "pygments_lexer": "ipython3",
   "version": "3.9.16"
  }
 },
 "nbformat": 4,
 "nbformat_minor": 2
}
