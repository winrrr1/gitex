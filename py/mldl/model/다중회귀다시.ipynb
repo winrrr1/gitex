{
 "cells": [
  {
   "cell_type": "code",
   "execution_count": 3,
   "metadata": {},
   "outputs": [],
   "source": [
    "import matplotlib.pyplot as plt\n",
    "import pandas as pd"
   ]
  },
  {
   "cell_type": "code",
   "execution_count": 4,
   "metadata": {},
   "outputs": [
    {
     "name": "stdout",
     "output_type": "stream",
     "text": [
      "[[ 8.4   2.11  1.41]\n",
      " [13.7   3.53  2.  ]\n",
      " [15.    3.82  2.43]\n",
      " [16.2   4.59  2.63]\n",
      " [17.4   4.59  2.94]\n",
      " [18.    5.22  3.32]\n",
      " [18.7   5.2   3.12]\n",
      " [19.    5.64  3.05]\n",
      " [19.6   5.14  3.04]\n",
      " [20.    5.08  2.77]\n",
      " [21.    5.69  3.56]\n",
      " [21.    5.92  3.31]\n",
      " [21.    5.69  3.67]\n",
      " [21.3   6.38  3.53]\n",
      " [22.    6.11  3.41]\n",
      " [22.    5.64  3.52]\n",
      " [22.    6.11  3.52]\n",
      " [22.    5.88  3.52]\n",
      " [22.    5.52  4.  ]\n",
      " [22.5   5.86  3.62]\n",
      " [22.5   6.79  3.62]\n",
      " [22.7   5.95  3.63]\n",
      " [23.    5.22  3.63]\n",
      " [23.5   6.28  3.72]\n",
      " [24.    7.29  3.72]\n",
      " [24.    6.38  3.82]\n",
      " [24.6   6.73  4.17]\n",
      " [25.    6.44  3.68]\n",
      " [25.6   6.56  4.24]\n",
      " [26.5   7.17  4.14]\n",
      " [27.3   8.32  5.14]\n",
      " [27.5   7.17  4.34]\n",
      " [27.5   7.05  4.34]\n",
      " [27.5   7.28  4.57]\n",
      " [28.    7.82  4.2 ]\n",
      " [28.7   7.59  4.64]\n",
      " [30.    7.62  4.77]\n",
      " [32.8  10.03  6.02]\n",
      " [34.5  10.26  6.39]\n",
      " [35.   11.49  7.8 ]\n",
      " [36.5  10.88  6.86]\n",
      " [36.   10.61  6.74]\n",
      " [37.   10.84  6.26]\n",
      " [37.   10.57  6.37]\n",
      " [39.   11.14  7.49]\n",
      " [39.   11.14  6.  ]\n",
      " [39.   12.43  7.35]\n",
      " [40.   11.93  7.11]\n",
      " [40.   11.73  7.22]\n",
      " [40.   12.38  7.46]\n",
      " [40.   11.14  6.63]\n",
      " [42.   12.8   6.87]\n",
      " [43.   11.93  7.28]\n",
      " [43.   12.51  7.42]\n",
      " [43.5  12.6   8.14]\n",
      " [44.   12.49  7.6 ]]\n"
     ]
    }
   ],
   "source": [
    "df = pd.read_csv('https://bit.ly/perch_csv_data')\n",
    "perch_full = df.to_numpy()\n",
    "print(perch_full)"
   ]
  },
  {
   "cell_type": "code",
   "execution_count": 6,
   "metadata": {},
   "outputs": [],
   "source": [
    "import numpy as np"
   ]
  },
  {
   "cell_type": "code",
   "execution_count": 7,
   "metadata": {},
   "outputs": [],
   "source": [
    "perch_weight = np.array(\n",
    "    [5.9, 32.0, 40.0, 51.5, 70.0, 100.0, 78.0, 80.0, 85.0, 85.0,\n",
    "     110.0, 115.0, 125.0, 130.0, 120.0, 120.0, 130.0, 135.0, 110.0,\n",
    "     130.0, 150.0, 145.0, 150.0, 170.0, 225.0, 145.0, 188.0, 180.0,\n",
    "     197.0, 218.0, 300.0, 260.0, 265.0, 250.0, 250.0, 300.0, 320.0,\n",
    "     514.0, 556.0, 840.0, 685.0, 700.0, 700.0, 690.0, 900.0, 650.0,\n",
    "     820.0, 850.0, 900.0, 1015.0, 820.0, 1100.0, 1000.0, 1100.0,\n",
    "     1000.0, 1000.0]\n",
    "     )"
   ]
  },
  {
   "cell_type": "code",
   "execution_count": 6,
   "metadata": {},
   "outputs": [],
   "source": [
    "from sklearn.model_selection import train_test_split\n",
    "\n",
    "train_input, test_input, train_target, test_target = train_test_split(perch_full, perch_weight, shuffle=False, random_state=42)"
   ]
  },
  {
   "cell_type": "code",
   "execution_count": 7,
   "metadata": {},
   "outputs": [],
   "source": [
    "#  8.4   2.11  1.41"
   ]
  },
  {
   "cell_type": "code",
   "execution_count": 12,
   "metadata": {},
   "outputs": [],
   "source": [
    "from sklearn.preprocessing import PolynomialFeatures"
   ]
  },
  {
   "cell_type": "code",
   "execution_count": 9,
   "metadata": {},
   "outputs": [],
   "source": [
    "poly_nominal = PolynomialFeatures(include_bias=False)\n",
    "poly_nominal.fit(train_input)\n",
    "train_poly=poly_nominal.transform(train_input)"
   ]
  },
  {
   "cell_type": "code",
   "execution_count": 10,
   "metadata": {},
   "outputs": [
    {
     "data": {
      "text/plain": [
       "array([ 8.4   ,  2.11  ,  1.41  , 70.56  , 17.724 , 11.844 ,  4.4521,\n",
       "        2.9751,  1.9881])"
      ]
     },
     "execution_count": 10,
     "metadata": {},
     "output_type": "execute_result"
    }
   ],
   "source": [
    "train_poly[0]"
   ]
  },
  {
   "cell_type": "code",
   "execution_count": 11,
   "metadata": {},
   "outputs": [
    {
     "data": {
      "text/plain": [
       "array([8.4 , 2.11, 1.41])"
      ]
     },
     "execution_count": 11,
     "metadata": {},
     "output_type": "execute_result"
    }
   ],
   "source": [
    "train_poly[0][0:3]"
   ]
  },
  {
   "cell_type": "code",
   "execution_count": 12,
   "metadata": {},
   "outputs": [
    {
     "data": {
      "text/plain": [
       "array([70.56  ,  4.4521,  1.9881])"
      ]
     },
     "execution_count": 12,
     "metadata": {},
     "output_type": "execute_result"
    }
   ],
   "source": [
    "train_poly[0][0:3]**2"
   ]
  },
  {
   "cell_type": "code",
   "execution_count": 8,
   "metadata": {},
   "outputs": [],
   "source": [
    "from sklearn.model_selection import train_test_split\n",
    "\n",
    "train_input, test_input, train_target, test_target = train_test_split(perch_full, perch_weight, shuffle=True, random_state=42)"
   ]
  },
  {
   "cell_type": "markdown",
   "metadata": {},
   "source": [
    "## 다중 회귀 모델 훈련하기"
   ]
  },
  {
   "cell_type": "code",
   "execution_count": 9,
   "metadata": {},
   "outputs": [],
   "source": [
    "from sklearn.linear_model import LinearRegression"
   ]
  },
  {
   "cell_type": "code",
   "execution_count": 13,
   "metadata": {},
   "outputs": [],
   "source": [
    "poly_nominal = PolynomialFeatures(include_bias=False)\n",
    "poly_nominal.fit(train_input)\n",
    "train_poly=poly_nominal.transform(train_input)"
   ]
  },
  {
   "cell_type": "code",
   "execution_count": null,
   "metadata": {},
   "outputs": [],
   "source": [
    "# 훈련세트에 대한 평가"
   ]
  },
  {
   "cell_type": "code",
   "execution_count": 14,
   "metadata": {},
   "outputs": [
    {
     "name": "stdout",
     "output_type": "stream",
     "text": [
      "0.9903183436982124\n"
     ]
    }
   ],
   "source": [
    "lr = LinearRegression()\n",
    "lr.fit(train_poly, train_target)\n",
    "print(lr.score(train_poly, train_target))"
   ]
  },
  {
   "cell_type": "code",
   "execution_count": null,
   "metadata": {},
   "outputs": [],
   "source": [
    "#테스트세트에 대한 평가"
   ]
  },
  {
   "cell_type": "code",
   "execution_count": 15,
   "metadata": {},
   "outputs": [],
   "source": [
    "poly_nominal.fit(test_input)\n",
    "test_poly=poly_nominal.transform(test_input)"
   ]
  },
  {
   "cell_type": "code",
   "execution_count": 16,
   "metadata": {},
   "outputs": [
    {
     "name": "stdout",
     "output_type": "stream",
     "text": [
      "0.9714559911594145\n"
     ]
    }
   ],
   "source": [
    "print(lr.score(test_poly, test_target))"
   ]
  },
  {
   "cell_type": "code",
   "execution_count": 17,
   "metadata": {},
   "outputs": [],
   "source": [
    "# 정규화(표준화-평균0,분산1)"
   ]
  },
  {
   "cell_type": "code",
   "execution_count": 18,
   "metadata": {},
   "outputs": [],
   "source": [
    "from sklearn.preprocessing import StandardScaler"
   ]
  },
  {
   "cell_type": "code",
   "execution_count": 19,
   "metadata": {},
   "outputs": [],
   "source": [
    "sc=StandardScaler()"
   ]
  },
  {
   "cell_type": "code",
   "execution_count": 22,
   "metadata": {},
   "outputs": [
    {
     "data": {
      "text/plain": [
       "array([19.6, 22. , 18.7, 17.4, 36. , 25. , 40. , 39. , 43. , 22. , 20. ,\n",
       "       22. , 24. , 27.5, 43. , 40. , 24. , 21. , 27.5, 40. , 32.8, 26.5,\n",
       "       36.5, 13.7, 22.7, 15. , 37. , 35. , 28.7, 23.5, 39. , 21. , 23. ,\n",
       "       22. , 44. , 22.5, 19. , 37. , 22. , 25.6, 42. , 34.5])"
      ]
     },
     "execution_count": 22,
     "metadata": {},
     "output_type": "execute_result"
    }
   ],
   "source": [
    "train_poly[:,0]"
   ]
  },
  {
   "cell_type": "code",
   "execution_count": 27,
   "metadata": {},
   "outputs": [
    {
     "data": {
      "text/plain": [
       "28.445238095238096"
      ]
     },
     "execution_count": 27,
     "metadata": {},
     "output_type": "execute_result"
    }
   ],
   "source": [
    "train_poly[:,0].mean()"
   ]
  },
  {
   "cell_type": "code",
   "execution_count": 28,
   "metadata": {},
   "outputs": [
    {
     "data": {
      "text/plain": [
       "8.728311961955496"
      ]
     },
     "execution_count": 28,
     "metadata": {},
     "output_type": "execute_result"
    }
   ],
   "source": [
    "train_poly[:,0].std()"
   ]
  },
  {
   "cell_type": "code",
   "execution_count": 29,
   "metadata": {},
   "outputs": [
    {
     "data": {
      "text/plain": [
       "-1.0133961909006288"
      ]
     },
     "execution_count": 29,
     "metadata": {},
     "output_type": "execute_result"
    }
   ],
   "source": [
    "(19.6 - 28.445238095238096) / 8.728311961955496"
   ]
  },
  {
   "cell_type": "code",
   "execution_count": 32,
   "metadata": {},
   "outputs": [],
   "source": [
    "# 반드시 훈련 세트로 학습한 변환기를 사용해 테스트 세트까지 변환해야함"
   ]
  },
  {
   "cell_type": "code",
   "execution_count": 30,
   "metadata": {},
   "outputs": [],
   "source": [
    "sc.fit(train_poly)\n",
    "train_scaled=sc.transform(train_poly)\n",
    "test_scaled=sc.transform(test_poly)"
   ]
  },
  {
   "cell_type": "code",
   "execution_count": 31,
   "metadata": {},
   "outputs": [
    {
     "data": {
      "text/plain": [
       "array([[-1.01339619, -1.01007487, -1.01952321, -0.9549757 , -0.9496784 ,\n",
       "        -0.95745849, -0.93942079, -0.94342509, -0.94100107],\n",
       "       [-0.73842893, -0.75254307, -0.74466913, -0.76472563, -0.7717585 ,\n",
       "        -0.77238267, -0.7747325 , -0.77298293, -0.76716811],\n",
       "       [-1.11650891, -0.98919391, -0.97371419, -1.02065999, -0.9714645 ,\n",
       "        -0.97031097, -0.92689165, -0.92331614, -0.91379551],\n",
       "       [-1.26544951, -1.20148364, -1.07678447, -1.11008743, -1.0794873 ,\n",
       "        -1.04481394, -1.04749571, -1.01503633, -0.97401432],\n",
       "       [ 0.86554673,  0.89357239,  1.09914363,  0.78258063,  0.79878122,\n",
       "         0.93990033,  0.80045116,  0.93459078,  1.05668676],\n",
       "       [-0.39471986, -0.55765413, -0.65305111, -0.49604314, -0.5750369 ,\n",
       "        -0.62146959, -0.63540138, -0.67211558, -0.70357069],\n",
       "       [ 1.3238255 ,  1.35295344,  1.31101032,  1.3618677 ,  1.39093563,\n",
       "         1.37273894,  1.40131663,  1.38189727,  1.33959041],\n",
       "       [ 1.2092558 ,  1.52696142,  1.44843736,  1.21132928,  1.43800209,\n",
       "         1.39605998,  1.64729487,  1.60161039,  1.53117765],\n",
       "       [ 1.66753457,  1.35295344,  1.40835447,  1.83634954,  1.61345985,\n",
       "         1.66958994,  1.40131663,  1.45005061,  1.47464108],\n",
       "       [-0.73842893, -0.83606689, -0.74466913, -0.76472563, -0.80458689,\n",
       "        -0.77238267, -0.83056835, -0.80137203, -0.76716811],\n",
       "       [-0.96756831, -1.03095583, -1.17412863, -0.92479179, -0.94435622,\n",
       "        -1.00082527, -0.95180452, -0.99564652, -1.02760288],\n",
       "       [-0.73842893, -0.6724994 , -0.74466913, -0.76472563, -0.74029797,\n",
       "        -0.77238267, -0.71904004, -0.7457767 , -0.76716811],\n",
       "       [-0.50928955, -0.26184057, -0.6301466 , -0.58941507, -0.48824064,\n",
       "        -0.64966214, -0.39971262, -0.55720154, -0.68722968],\n",
       "       [-0.10829564, -0.30360249, -0.27512675, -0.24593976, -0.35011895,\n",
       "        -0.33798932, -0.43475543, -0.42281704, -0.41135377],\n",
       "       [ 1.66753457,  1.55480269,  1.48852024,  1.83634954,  1.76852422,\n",
       "         1.73198669,  1.68758845,  1.65079734,  1.58825523],\n",
       "       [ 1.3238255 ,  1.28335025,  1.37399771,  1.3618677 ,  1.34119566,\n",
       "         1.41834454,  1.30575267,  1.37747156,  1.42661178],\n",
       "       [-0.50928955, -0.57853509, -0.57288533, -0.58941507, -0.62403078,\n",
       "        -0.62478636, -0.65093557, -0.6495199 , -0.64560429],\n",
       "       [-0.85299862, -0.73862243, -0.86491779, -0.84666426, -0.80309469,\n",
       "        -0.8545764 , -0.76520034, -0.81002856, -0.84635022],\n",
       "       [-0.10829564, -0.3453644 , -0.27512675, -0.24593976, -0.37063669,\n",
       "        -0.33798932, -0.46921662, -0.44031827, -0.41135377],\n",
       "       [ 1.3238255 ,  1.50956062,  1.51142475,  1.3618677 ,  1.50285058,\n",
       "         1.51784766,  1.62224266,  1.63502337,  1.6211139 ],\n",
       "       [ 0.49892372,  0.69172313,  0.68686252,  0.36305483,  0.46940311,\n",
       "         0.47157227,  0.55868969,  0.56054551,  0.54949731],\n",
       "       [-0.22286533, -0.30360249, -0.38964928, -0.34883943, -0.3946984 ,\n",
       "        -0.43790705, -0.43475543, -0.47100593, -0.50498332],\n",
       "       [ 0.92283158,  0.98753669,  1.16785715,  0.8516568 ,  0.89303848,\n",
       "         1.02022838,  0.91763011,  1.03961837,  1.14678311],\n",
       "       [-1.68935736, -1.57038055, -1.61504037, -1.32935902, -1.27536954,\n",
       "        -1.29104272, -1.22132034, -1.23126802, -1.23036935],\n",
       "       [-0.65823015, -0.72818195, -0.68168174, -0.70510098, -0.73628768,\n",
       "        -0.72096235, -0.75800881, -0.74270861, -0.72374852],\n",
       "       [-1.54041677, -1.46945593, -1.36881693, -1.25826297, -1.21979133,\n",
       "        -1.19724029, -1.17827415, -1.1565786 , -1.12520726],\n",
       "       [ 0.98011642,  0.87965175,  0.88727695,  0.92168575,  0.85554697,\n",
       "         0.86786421,  0.78334174,  0.79410705,  0.78889855],\n",
       "       [ 0.75097704,  1.19982642,  1.70611305,  0.64728661,  0.92431249,\n",
       "         1.25457897,  1.19320854,  1.54318892,  1.90754522],\n",
       "       [ 0.02918799, -0.15743579, -0.10334295, -0.11742949, -0.2216779 ,\n",
       "        -0.19476701, -0.30956099, -0.2850452 , -0.26262855],\n",
       "       [-0.5665744 , -0.61333668, -0.6301466 , -0.63467187, -0.65847571,\n",
       "        -0.66894087, -0.67650277, -0.68346047, -0.68722968],\n",
       "       [ 1.2092558 ,  1.07802084,  0.67541027,  1.21132928,  1.12519981,\n",
       "         0.85034751,  1.033252  ,  0.77761059,  0.53622576],\n",
       "       [-0.85299862, -0.8186661 , -0.72176462, -0.84666426, -0.8331252 ,\n",
       "        -0.80016062, -0.81912774, -0.78780924, -0.75153375],\n",
       "       [-0.62385924, -0.98223359, -0.68168174, -0.6789759 , -0.82958122,\n",
       "        -0.70967497, -0.92268296, -0.83175724, -0.72374852],\n",
       "       [-0.73842893, -0.87782881, -0.46981505, -0.76472563, -0.82100108,\n",
       "        -0.66292923, -0.85761384, -0.72652803, -0.56789618],\n",
       "       [ 1.78210426,  1.54784238,  1.59159052,  2.00213235,  1.84083371,\n",
       "         1.8909844 ,  1.67749082,  1.72136012,  1.73751044],\n",
       "       [-0.68114409, -0.43584855, -0.68740786, -0.72232715, -0.62617581,\n",
       "        -0.73081938, -0.54188724, -0.64252343, -0.72775096],\n",
       "       [-1.08213801, -0.83606689, -1.01379708, -0.99910823, -0.90978693,\n",
       "        -0.97439475, -0.83056835, -0.89045091, -0.93763902],\n",
       "       [ 0.98011642,  0.97361606,  0.82428956,  0.92168575,  0.91765977,\n",
       "         0.82567903,  0.90008447,  0.81183344,  0.71220072],\n",
       "       [-0.73842893, -0.6724994 , -0.80765652, -0.76472563, -0.74029797,\n",
       "        -0.79746575, -0.71904004, -0.7683623 , -0.80925172],\n",
       "       [-0.32597805, -0.51589222, -0.33238802, -0.43819065, -0.53191234,\n",
       "        -0.44999253, -0.60389678, -0.53382623, -0.45872061],\n",
       "       [ 1.55296488,  1.65572732,  1.17358328,  1.67437783,  1.76647245,\n",
       "         1.41564966,  1.83581963,  1.48653169,  1.15436291],\n",
       "       [ 0.6936922 ,  0.7717668 ,  0.8987292 ,  0.58106876,  0.62475349,\n",
       "         0.70995482,  0.6529349 ,  0.73464384,  0.80298714]])"
      ]
     },
     "execution_count": 31,
     "metadata": {},
     "output_type": "execute_result"
    }
   ],
   "source": [
    "train_scaled"
   ]
  },
  {
   "cell_type": "code",
   "execution_count": 33,
   "metadata": {},
   "outputs": [],
   "source": [
    "# 기준 0.9714559911594145"
   ]
  },
  {
   "cell_type": "code",
   "execution_count": 34,
   "metadata": {},
   "outputs": [
    {
     "name": "stdout",
     "output_type": "stream",
     "text": [
      "0.9857915060511934\n"
     ]
    }
   ],
   "source": [
    "# 릿지(L2) : 계수를 제곱한 값을 기준으로 적용\n",
    "\n",
    "from sklearn.linear_model import Ridge\n",
    "\n",
    "ridge = Ridge()\n",
    "ridge.fit(train_scaled, train_target)\n",
    "print(ridge.score(train_scaled, train_target))"
   ]
  },
  {
   "cell_type": "code",
   "execution_count": 35,
   "metadata": {},
   "outputs": [
    {
     "name": "stdout",
     "output_type": "stream",
     "text": [
      "0.9835057194929058\n"
     ]
    }
   ],
   "source": [
    "\n",
    "print(ridge.score(test_scaled, test_target))"
   ]
  },
  {
   "cell_type": "code",
   "execution_count": 36,
   "metadata": {},
   "outputs": [],
   "source": [
    "\n",
    "import matplotlib.pyplot as plt\n",
    "\n",
    "train_score = []\n",
    "test_score = []"
   ]
  },
  {
   "cell_type": "code",
   "execution_count": 37,
   "metadata": {},
   "outputs": [],
   "source": [
    "\n",
    "alpha_list = [0.001, 0.01, 0.1, 1, 10, 100]"
   ]
  },
  {
   "cell_type": "code",
   "execution_count": 38,
   "metadata": {},
   "outputs": [],
   "source": [
    "for alpha in alpha_list:\n",
    "    # 릿지 모델을 만듭니다\n",
    "    ridge = Ridge(alpha=alpha)\n",
    "    # 릿지 모델을 훈련합니다\n",
    "    ridge.fit(train_scaled, train_target)\n",
    "    # 훈련 점수와 테스트 점수를 저장합니다\n",
    "    train_score.append(ridge.score(train_scaled, train_target))\n",
    "    test_score.append(ridge.score(test_scaled, test_target))"
   ]
  },
  {
   "cell_type": "code",
   "execution_count": 40,
   "metadata": {},
   "outputs": [
    {
     "name": "stderr",
     "output_type": "stream",
     "text": [
      "C:\\Users\\kds\\AppData\\Local\\Temp\\ipykernel_5636\\2876504569.py:5: UserWarning: No artists with labels found to put in legend.  Note that artists whose label start with an underscore are ignored when legend() is called with no argument.\n",
      "  plt.legend()\n"
     ]
    },
    {
     "data": {
      "image/png": "[encoded data removed]",
      "text/plain": [
       "<Figure size 640x480 with 1 Axes>"
      ]
     },
     "metadata": {},
     "output_type": "display_data"
    }
   ],
   "source": [
    "\n",
    "plt.plot(np.log10(alpha_list), train_score, \"o--r\")\n",
    "plt.plot(np.log10(alpha_list), test_score, \"o--b\")\n",
    "plt.xlabel('alpha')\n",
    "plt.ylabel('R^2')\n",
    "plt.legend()\n",
    "plt.show()"
   ]
  },
  {
   "cell_type": "code",
   "execution_count": 41,
   "metadata": {},
   "outputs": [
    {
     "name": "stdout",
     "output_type": "stream",
     "text": [
      "0.9889354346720892\n",
      "0.9856564835209132\n"
     ]
    }
   ],
   "source": [
    "\n",
    "ridge = Ridge(alpha=0.1)\n",
    "ridge.fit(train_scaled, train_target)\n",
    "\n",
    "print(ridge.score(train_scaled, train_target))\n",
    "print(ridge.score(test_scaled, test_target))"
   ]
  },
  {
   "cell_type": "markdown",
   "metadata": {},
   "source": [
    "## 라쏘"
   ]
  },
  {
   "cell_type": "code",
   "execution_count": 42,
   "metadata": {},
   "outputs": [
    {
     "name": "stdout",
     "output_type": "stream",
     "text": [
      "0.986591255464559\n"
     ]
    }
   ],
   "source": [
    "from sklearn.linear_model import Lasso\n",
    "\n",
    "lasso = Lasso()\n",
    "lasso.fit(train_scaled, train_target)\n",
    "print(lasso.score(train_scaled, train_target))"
   ]
  },
  {
   "cell_type": "code",
   "execution_count": 43,
   "metadata": {},
   "outputs": [
    {
     "name": "stdout",
     "output_type": "stream",
     "text": [
      "0.9846056618190413\n"
     ]
    }
   ],
   "source": [
    "\n",
    "print(lasso.score(test_scaled, test_target))"
   ]
  },
  {
   "cell_type": "code",
   "execution_count": 44,
   "metadata": {},
   "outputs": [
    {
     "name": "stderr",
     "output_type": "stream",
     "text": [
      "c:\\ProgramData\\anaconda3\\envs\\mldltest2\\Lib\\site-packages\\sklearn\\linear_model\\_coordinate_descent.py:697: ConvergenceWarning: Objective did not converge. You might want to increase the number of iterations, check the scale of the features or consider increasing regularisation. Duality gap: 2.466e+04, tolerance: 5.183e+02\n",
      "  model = cd_fast.enet_coordinate_descent(\n",
      "c:\\ProgramData\\anaconda3\\envs\\mldltest2\\Lib\\site-packages\\sklearn\\linear_model\\_coordinate_descent.py:697: ConvergenceWarning: Objective did not converge. You might want to increase the number of iterations, check the scale of the features or consider increasing regularisation. Duality gap: 8.739e+03, tolerance: 5.183e+02\n",
      "  model = cd_fast.enet_coordinate_descent(\n"
     ]
    }
   ],
   "source": [
    "\n",
    "train_score = []\n",
    "test_score = []\n",
    "\n",
    "alpha_list = [0.001, 0.01, 0.1, 1, 10, 100]\n",
    "for alpha in alpha_list:\n",
    "    # 라쏘 모델을 만듭니다\n",
    "    lasso = Lasso(alpha=alpha, max_iter=10000)\n",
    "    # 라쏘 모델을 훈련합니다\n",
    "    lasso.fit(train_scaled, train_target)\n",
    "    # 훈련 점수와 테스트 점수를 저장합니다\n",
    "    train_score.append(lasso.score(train_scaled, train_target))\n",
    "    test_score.append(lasso.score(test_scaled, test_target))"
   ]
  },
  {
   "cell_type": "code",
   "execution_count": 45,
   "metadata": {},
   "outputs": [
    {
     "data": {
      "image/png": "[encoded data removed]",
      "text/plain": [
       "<Figure size 640x480 with 1 Axes>"
      ]
     },
     "metadata": {},
     "output_type": "display_data"
    }
   ],
   "source": [
    "plt.plot(np.log10(alpha_list), train_score)\n",
    "plt.plot(np.log10(alpha_list), test_score)\n",
    "plt.xlabel('alpha')\n",
    "plt.ylabel('R^2')\n",
    "plt.show()"
   ]
  },
  {
   "cell_type": "code",
   "execution_count": 46,
   "metadata": {},
   "outputs": [
    {
     "name": "stdout",
     "output_type": "stream",
     "text": [
      "0.9827254657543516\n",
      "0.9778291802263332\n"
     ]
    }
   ],
   "source": [
    "lasso = Lasso(alpha=10)\n",
    "lasso.fit(train_scaled, train_target)\n",
    "\n",
    "print(lasso.score(train_scaled, train_target))\n",
    "print(lasso.score(test_scaled, test_target))"
   ]
  }
 ],
 "metadata": {
  "kernelspec": {
   "display_name": "mldltest2",
   "language": "python",
   "name": "python3"
  },
  "language_info": {
   "codemirror_mode": {
    "name": "ipython",
    "version": 3
   },
   "file_extension": ".py",
   "mimetype": "text/x-python",
   "name": "python",
   "nbconvert_exporter": "python",
   "pygments_lexer": "ipython3",
   "version": "3.11.9"
  }
 },
 "nbformat": 4,
 "nbformat_minor": 2
}
