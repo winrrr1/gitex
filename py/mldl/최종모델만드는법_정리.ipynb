{
 "cells": [
  {
   "cell_type": "code",
   "execution_count": 1,
   "metadata": {},
   "outputs": [],
   "source": [
    "from tensorflow.keras.models import Sequential\n",
    "from tensorflow.keras.layers import Dense\n",
    "import pandas as pd"
   ]
  },
  {
   "cell_type": "code",
   "execution_count": 2,
   "metadata": {},
   "outputs": [],
   "source": [
    "df = pd.read_csv('./data/wine.csv', header=None)"
   ]
  },
  {
   "cell_type": "code",
   "execution_count": 3,
   "metadata": {},
   "outputs": [],
   "source": [
    "X = df.iloc[:, : 12]\n",
    "y = df.iloc[:,  12]"
   ]
  },
  {
   "cell_type": "code",
   "execution_count": 4,
   "metadata": {},
   "outputs": [],
   "source": [
    "from sklearn.model_selection import train_test_split"
   ]
  },
  {
   "cell_type": "code",
   "execution_count": null,
   "metadata": {},
   "outputs": [],
   "source": [
    "6497*0.2"
   ]
  },
  {
   "cell_type": "code",
   "execution_count": null,
   "metadata": {},
   "outputs": [],
   "source": [
    "X.shape"
   ]
  },
  {
   "cell_type": "code",
   "execution_count": null,
   "metadata": {},
   "outputs": [],
   "source": [
    "6487*0.8"
   ]
  },
  {
   "cell_type": "code",
   "execution_count": null,
   "metadata": {},
   "outputs": [],
   "source": [
    "6487*0.2"
   ]
  },
  {
   "cell_type": "code",
   "execution_count": 5,
   "metadata": {},
   "outputs": [],
   "source": [
    "X_train, X_test, y_train, y_test = train_test_split(\n",
    "    X, y, test_size=0.2, shuffle=True)"
   ]
  },
  {
   "cell_type": "code",
   "execution_count": 7,
   "metadata": {},
   "outputs": [
    {
     "name": "stdout",
     "output_type": "stream",
     "text": [
      "(5197, 12)\n",
      "(1300, 12)\n",
      "(5197,)\n",
      "(1300,)\n"
     ]
    }
   ],
   "source": [
    "print(X_train.shape)\n",
    "print(X_test.shape)\n",
    "print(y_train.shape)\n",
    "print(y_test.shape)"
   ]
  },
  {
   "cell_type": "code",
   "execution_count": 12,
   "metadata": {},
   "outputs": [],
   "source": [
    "# modelpath = \"./model/all/{epoch:02d}-{val_accuracy:.4f}.hdf5\"\n",
    "modelpath = \"./model/all/{epoch:02d}-{val_accuracy:.4f}.keras\""
   ]
  },
  {
   "cell_type": "code",
   "execution_count": 6,
   "metadata": {},
   "outputs": [],
   "source": [
    "from tensorflow.keras.callbacks import ModelCheckpoint"
   ]
  },
  {
   "cell_type": "code",
   "execution_count": 13,
   "metadata": {},
   "outputs": [],
   "source": [
    "checkpointer = ModelCheckpoint(filepath=modelpath, verbose=1)"
   ]
  },
  {
   "cell_type": "code",
   "execution_count": 16,
   "metadata": {},
   "outputs": [
    {
     "name": "stdout",
     "output_type": "stream",
     "text": [
      "Epoch 1/50\n"
     ]
    },
    {
     "name": "stderr",
     "output_type": "stream",
     "text": [
      "c:\\ProgramData\\anaconda3\\envs\\mldltest2\\Lib\\site-packages\\keras\\src\\layers\\core\\dense.py:87: UserWarning: Do not pass an `input_shape`/`input_dim` argument to a layer. When using Sequential models, prefer using an `Input(shape)` object as the first layer in the model instead.\n",
      "  super().__init__(activity_regularizer=activity_regularizer, **kwargs)\n"
     ]
    },
    {
     "name": "stdout",
     "output_type": "stream",
     "text": [
      "\u001b[1m1/8\u001b[0m \u001b[32m━━\u001b[0m\u001b[37m━━━━━━━━━━━━━━━━━━\u001b[0m \u001b[1m7s\u001b[0m 1s/step - accuracy: 0.7700 - loss: 1.0080\n",
      "Epoch 1: saving model to ./model/all/01-0.8723.keras\n",
      "\u001b[1m8/8\u001b[0m \u001b[32m━━━━━━━━━━━━━━━━━━━━\u001b[0m\u001b[37m\u001b[0m \u001b[1m1s\u001b[0m 37ms/step - accuracy: 0.7864 - loss: 0.8064 - val_accuracy: 0.8723 - val_loss: 0.4003\n",
      "Epoch 2/50\n",
      "\u001b[1m1/8\u001b[0m \u001b[32m━━\u001b[0m\u001b[37m━━━━━━━━━━━━━━━━━━\u001b[0m \u001b[1m0s\u001b[0m 30ms/step - accuracy: 0.8700 - loss: 0.4030\n",
      "Epoch 2: saving model to ./model/all/02-0.8492.keras\n",
      "\u001b[1m8/8\u001b[0m \u001b[32m━━━━━━━━━━━━━━━━━━━━\u001b[0m\u001b[37m\u001b[0m \u001b[1m0s\u001b[0m 9ms/step - accuracy: 0.8711 - loss: 0.3968 - val_accuracy: 0.8492 - val_loss: 0.3797\n",
      "Epoch 3/50\n",
      "\u001b[1m1/8\u001b[0m \u001b[32m━━\u001b[0m\u001b[37m━━━━━━━━━━━━━━━━━━\u001b[0m \u001b[1m0s\u001b[0m 27ms/step - accuracy: 0.8620 - loss: 0.3562\n",
      "Epoch 3: saving model to ./model/all/03-0.9162.keras\n",
      "\u001b[1m8/8\u001b[0m \u001b[32m━━━━━━━━━━━━━━━━━━━━\u001b[0m\u001b[37m\u001b[0m \u001b[1m0s\u001b[0m 10ms/step - accuracy: 0.8887 - loss: 0.3603 - val_accuracy: 0.9162 - val_loss: 0.3275\n",
      "Epoch 4/50\n",
      "\u001b[1m1/8\u001b[0m \u001b[32m━━\u001b[0m\u001b[37m━━━━━━━━━━━━━━━━━━\u001b[0m \u001b[1m0s\u001b[0m 30ms/step - accuracy: 0.9260 - loss: 0.4277\n",
      "Epoch 4: saving model to ./model/all/04-0.9238.keras\n",
      "\u001b[1m8/8\u001b[0m \u001b[32m━━━━━━━━━━━━━━━━━━━━\u001b[0m\u001b[37m\u001b[0m \u001b[1m0s\u001b[0m 10ms/step - accuracy: 0.9268 - loss: 0.3540 - val_accuracy: 0.9238 - val_loss: 0.3084\n",
      "Epoch 5/50\n",
      "\u001b[1m1/8\u001b[0m \u001b[32m━━\u001b[0m\u001b[37m━━━━━━━━━━━━━━━━━━\u001b[0m \u001b[1m0s\u001b[0m 25ms/step - accuracy: 0.9380 - loss: 0.2602\n",
      "Epoch 5: saving model to ./model/all/05-0.9223.keras\n",
      "\u001b[1m8/8\u001b[0m \u001b[32m━━━━━━━━━━━━━━━━━━━━\u001b[0m\u001b[37m\u001b[0m \u001b[1m0s\u001b[0m 9ms/step - accuracy: 0.9329 - loss: 0.3063 - val_accuracy: 0.9223 - val_loss: 0.2971\n",
      "Epoch 6/50\n",
      "\u001b[1m1/8\u001b[0m \u001b[32m━━\u001b[0m\u001b[37m━━━━━━━━━━━━━━━━━━\u001b[0m \u001b[1m0s\u001b[0m 31ms/step - accuracy: 0.9440 - loss: 0.2582\n",
      "Epoch 6: saving model to ./model/all/06-0.9262.keras\n",
      "\u001b[1m8/8\u001b[0m \u001b[32m━━━━━━━━━━━━━━━━━━━━\u001b[0m\u001b[37m\u001b[0m \u001b[1m0s\u001b[0m 10ms/step - accuracy: 0.9362 - loss: 0.2882 - val_accuracy: 0.9262 - val_loss: 0.2834\n",
      "Epoch 7/50\n",
      "\u001b[1m1/8\u001b[0m \u001b[32m━━\u001b[0m\u001b[37m━━━━━━━━━━━━━━━━━━\u001b[0m \u001b[1m0s\u001b[0m 32ms/step - accuracy: 0.9360 - loss: 0.3038\n",
      "Epoch 7: saving model to ./model/all/07-0.9254.keras\n",
      "\u001b[1m8/8\u001b[0m \u001b[32m━━━━━━━━━━━━━━━━━━━━\u001b[0m\u001b[37m\u001b[0m \u001b[1m0s\u001b[0m 10ms/step - accuracy: 0.9314 - loss: 0.2934 - val_accuracy: 0.9254 - val_loss: 0.2740\n",
      "Epoch 8/50\n",
      "\u001b[1m1/8\u001b[0m \u001b[32m━━\u001b[0m\u001b[37m━━━━━━━━━━━━━━━━━━\u001b[0m \u001b[1m0s\u001b[0m 30ms/step - accuracy: 0.9380 - loss: 0.2654\n",
      "Epoch 8: saving model to ./model/all/08-0.9254.keras\n",
      "\u001b[1m8/8\u001b[0m \u001b[32m━━━━━━━━━━━━━━━━━━━━\u001b[0m\u001b[37m\u001b[0m \u001b[1m0s\u001b[0m 10ms/step - accuracy: 0.9327 - loss: 0.2787 - val_accuracy: 0.9254 - val_loss: 0.2668\n",
      "Epoch 9/50\n",
      "\u001b[1m1/8\u001b[0m \u001b[32m━━\u001b[0m\u001b[37m━━━━━━━━━━━━━━━━━━\u001b[0m \u001b[1m0s\u001b[0m 30ms/step - accuracy: 0.9480 - loss: 0.2441\n",
      "Epoch 9: saving model to ./model/all/09-0.9246.keras\n",
      "\u001b[1m8/8\u001b[0m \u001b[32m━━━━━━━━━━━━━━━━━━━━\u001b[0m\u001b[37m\u001b[0m \u001b[1m0s\u001b[0m 9ms/step - accuracy: 0.9350 - loss: 0.2642 - val_accuracy: 0.9246 - val_loss: 0.2626\n",
      "Epoch 10/50\n",
      "\u001b[1m1/8\u001b[0m \u001b[32m━━\u001b[0m\u001b[37m━━━━━━━━━━━━━━━━━━\u001b[0m \u001b[1m0s\u001b[0m 34ms/step - accuracy: 0.9260 - loss: 0.2626\n",
      "Epoch 10: saving model to ./model/all/10-0.9246.keras\n",
      "\u001b[1m8/8\u001b[0m \u001b[32m━━━━━━━━━━━━━━━━━━━━\u001b[0m\u001b[37m\u001b[0m \u001b[1m0s\u001b[0m 11ms/step - accuracy: 0.9328 - loss: 0.2539 - val_accuracy: 0.9246 - val_loss: 0.2591\n",
      "Epoch 11/50\n",
      "\u001b[1m1/8\u001b[0m \u001b[32m━━\u001b[0m\u001b[37m━━━━━━━━━━━━━━━━━━\u001b[0m \u001b[1m0s\u001b[0m 31ms/step - accuracy: 0.9440 - loss: 0.2376\n",
      "Epoch 11: saving model to ./model/all/11-0.9285.keras\n",
      "\u001b[1m8/8\u001b[0m \u001b[32m━━━━━━━━━━━━━━━━━━━━\u001b[0m\u001b[37m\u001b[0m \u001b[1m0s\u001b[0m 9ms/step - accuracy: 0.9395 - loss: 0.2412 - val_accuracy: 0.9285 - val_loss: 0.2561\n",
      "Epoch 12/50\n",
      "\u001b[1m1/8\u001b[0m \u001b[32m━━\u001b[0m\u001b[37m━━━━━━━━━━━━━━━━━━\u001b[0m \u001b[1m0s\u001b[0m 33ms/step - accuracy: 0.9340 - loss: 0.2273\n",
      "Epoch 12: saving model to ./model/all/12-0.9269.keras\n",
      "\u001b[1m8/8\u001b[0m \u001b[32m━━━━━━━━━━━━━━━━━━━━\u001b[0m\u001b[37m\u001b[0m \u001b[1m0s\u001b[0m 9ms/step - accuracy: 0.9346 - loss: 0.2419 - val_accuracy: 0.9269 - val_loss: 0.2531\n",
      "Epoch 13/50\n",
      "\u001b[1m1/8\u001b[0m \u001b[32m━━\u001b[0m\u001b[37m━━━━━━━━━━━━━━━━━━\u001b[0m \u001b[1m0s\u001b[0m 33ms/step - accuracy: 0.9220 - loss: 0.2638\n",
      "Epoch 13: saving model to ./model/all/13-0.9277.keras\n",
      "\u001b[1m8/8\u001b[0m \u001b[32m━━━━━━━━━━━━━━━━━━━━\u001b[0m\u001b[37m\u001b[0m \u001b[1m0s\u001b[0m 9ms/step - accuracy: 0.9320 - loss: 0.2436 - val_accuracy: 0.9277 - val_loss: 0.2500\n",
      "Epoch 14/50\n",
      "\u001b[1m1/8\u001b[0m \u001b[32m━━\u001b[0m\u001b[37m━━━━━━━━━━━━━━━━━━\u001b[0m \u001b[1m0s\u001b[0m 30ms/step - accuracy: 0.9480 - loss: 0.1990\n",
      "Epoch 14: saving model to ./model/all/14-0.9246.keras\n",
      "\u001b[1m8/8\u001b[0m \u001b[32m━━━━━━━━━━━━━━━━━━━━\u001b[0m\u001b[37m\u001b[0m \u001b[1m0s\u001b[0m 10ms/step - accuracy: 0.9383 - loss: 0.2304 - val_accuracy: 0.9246 - val_loss: 0.2469\n",
      "Epoch 15/50\n",
      "\u001b[1m1/8\u001b[0m \u001b[32m━━\u001b[0m\u001b[37m━━━━━━━━━━━━━━━━━━\u001b[0m \u001b[1m0s\u001b[0m 29ms/step - accuracy: 0.9400 - loss: 0.2338\n",
      "Epoch 15: saving model to ./model/all/15-0.9262.keras\n",
      "\u001b[1m8/8\u001b[0m \u001b[32m━━━━━━━━━━━━━━━━━━━━\u001b[0m\u001b[37m\u001b[0m \u001b[1m0s\u001b[0m 9ms/step - accuracy: 0.9330 - loss: 0.2358 - val_accuracy: 0.9262 - val_loss: 0.2437\n",
      "Epoch 16/50\n",
      "\u001b[1m1/8\u001b[0m \u001b[32m━━\u001b[0m\u001b[37m━━━━━━━━━━━━━━━━━━\u001b[0m \u001b[1m0s\u001b[0m 34ms/step - accuracy: 0.9200 - loss: 0.2812\n",
      "Epoch 16: saving model to ./model/all/16-0.9254.keras\n",
      "\u001b[1m8/8\u001b[0m \u001b[32m━━━━━━━━━━━━━━━━━━━━\u001b[0m\u001b[37m\u001b[0m \u001b[1m0s\u001b[0m 10ms/step - accuracy: 0.9331 - loss: 0.2423 - val_accuracy: 0.9254 - val_loss: 0.2406\n",
      "Epoch 17/50\n",
      "\u001b[1m1/8\u001b[0m \u001b[32m━━\u001b[0m\u001b[37m━━━━━━━━━━━━━━━━━━\u001b[0m \u001b[1m0s\u001b[0m 28ms/step - accuracy: 0.9440 - loss: 0.1893\n",
      "Epoch 17: saving model to ./model/all/17-0.9246.keras\n",
      "\u001b[1m8/8\u001b[0m \u001b[32m━━━━━━━━━━━━━━━━━━━━\u001b[0m\u001b[37m\u001b[0m \u001b[1m0s\u001b[0m 9ms/step - accuracy: 0.9378 - loss: 0.2123 - val_accuracy: 0.9246 - val_loss: 0.2377\n",
      "Epoch 18/50\n",
      "\u001b[1m1/8\u001b[0m \u001b[32m━━\u001b[0m\u001b[37m━━━━━━━━━━━━━━━━━━\u001b[0m \u001b[1m0s\u001b[0m 26ms/step - accuracy: 0.9460 - loss: 0.2102\n",
      "Epoch 18: saving model to ./model/all/18-0.9254.keras\n",
      "\u001b[1m8/8\u001b[0m \u001b[32m━━━━━━━━━━━━━━━━━━━━\u001b[0m\u001b[37m\u001b[0m \u001b[1m0s\u001b[0m 10ms/step - accuracy: 0.9368 - loss: 0.2241 - val_accuracy: 0.9254 - val_loss: 0.2338\n",
      "Epoch 19/50\n",
      "\u001b[1m1/8\u001b[0m \u001b[32m━━\u001b[0m\u001b[37m━━━━━━━━━━━━━━━━━━\u001b[0m \u001b[1m0s\u001b[0m 33ms/step - accuracy: 0.9500 - loss: 0.1865\n",
      "Epoch 19: saving model to ./model/all/19-0.9262.keras\n",
      "\u001b[1m8/8\u001b[0m \u001b[32m━━━━━━━━━━━━━━━━━━━━\u001b[0m\u001b[37m\u001b[0m \u001b[1m0s\u001b[0m 11ms/step - accuracy: 0.9400 - loss: 0.2088 - val_accuracy: 0.9262 - val_loss: 0.2304\n",
      "Epoch 20/50\n",
      "\u001b[1m1/8\u001b[0m \u001b[32m━━\u001b[0m\u001b[37m━━━━━━━━━━━━━━━━━━\u001b[0m \u001b[1m0s\u001b[0m 24ms/step - accuracy: 0.9380 - loss: 0.2030\n",
      "Epoch 20: saving model to ./model/all/20-0.9262.keras\n",
      "\u001b[1m8/8\u001b[0m \u001b[32m━━━━━━━━━━━━━━━━━━━━\u001b[0m\u001b[37m\u001b[0m \u001b[1m0s\u001b[0m 11ms/step - accuracy: 0.9373 - loss: 0.2093 - val_accuracy: 0.9262 - val_loss: 0.2270\n",
      "Epoch 21/50\n",
      "\u001b[1m1/8\u001b[0m \u001b[32m━━\u001b[0m\u001b[37m━━━━━━━━━━━━━━━━━━\u001b[0m \u001b[1m0s\u001b[0m 31ms/step - accuracy: 0.9320 - loss: 0.1996\n",
      "Epoch 21: saving model to ./model/all/21-0.9262.keras\n",
      "\u001b[1m8/8\u001b[0m \u001b[32m━━━━━━━━━━━━━━━━━━━━\u001b[0m\u001b[37m\u001b[0m \u001b[1m0s\u001b[0m 10ms/step - accuracy: 0.9362 - loss: 0.2048 - val_accuracy: 0.9262 - val_loss: 0.2243\n",
      "Epoch 22/50\n",
      "\u001b[1m1/8\u001b[0m \u001b[32m━━\u001b[0m\u001b[37m━━━━━━━━━━━━━━━━━━\u001b[0m \u001b[1m0s\u001b[0m 29ms/step - accuracy: 0.9480 - loss: 0.1842\n",
      "Epoch 22: saving model to ./model/all/22-0.9254.keras\n",
      "\u001b[1m8/8\u001b[0m \u001b[32m━━━━━━━━━━━━━━━━━━━━\u001b[0m\u001b[37m\u001b[0m \u001b[1m0s\u001b[0m 9ms/step - accuracy: 0.9402 - loss: 0.1990 - val_accuracy: 0.9254 - val_loss: 0.2214\n",
      "Epoch 23/50\n",
      "\u001b[1m1/8\u001b[0m \u001b[32m━━\u001b[0m\u001b[37m━━━━━━━━━━━━━━━━━━\u001b[0m \u001b[1m0s\u001b[0m 30ms/step - accuracy: 0.9300 - loss: 0.2156\n",
      "Epoch 23: saving model to ./model/all/23-0.9269.keras\n",
      "\u001b[1m8/8\u001b[0m \u001b[32m━━━━━━━━━━━━━━━━━━━━\u001b[0m\u001b[37m\u001b[0m \u001b[1m0s\u001b[0m 10ms/step - accuracy: 0.9358 - loss: 0.2046 - val_accuracy: 0.9269 - val_loss: 0.2189\n",
      "Epoch 24/50\n",
      "\u001b[1m1/8\u001b[0m \u001b[32m━━\u001b[0m\u001b[37m━━━━━━━━━━━━━━━━━━\u001b[0m \u001b[1m0s\u001b[0m 33ms/step - accuracy: 0.9260 - loss: 0.2174\n",
      "Epoch 24: saving model to ./model/all/24-0.9254.keras\n",
      "\u001b[1m8/8\u001b[0m \u001b[32m━━━━━━━━━━━━━━━━━━━━\u001b[0m\u001b[37m\u001b[0m \u001b[1m0s\u001b[0m 9ms/step - accuracy: 0.9354 - loss: 0.2044 - val_accuracy: 0.9254 - val_loss: 0.2164\n",
      "Epoch 25/50\n",
      "\u001b[1m1/8\u001b[0m \u001b[32m━━\u001b[0m\u001b[37m━━━━━━━━━━━━━━━━━━\u001b[0m \u001b[1m0s\u001b[0m 34ms/step - accuracy: 0.9180 - loss: 0.2051\n",
      "Epoch 25: saving model to ./model/all/25-0.9285.keras\n",
      "\u001b[1m8/8\u001b[0m \u001b[32m━━━━━━━━━━━━━━━━━━━━\u001b[0m\u001b[37m\u001b[0m \u001b[1m0s\u001b[0m 10ms/step - accuracy: 0.9330 - loss: 0.2008 - val_accuracy: 0.9285 - val_loss: 0.2142\n",
      "Epoch 26/50\n",
      "\u001b[1m1/8\u001b[0m \u001b[32m━━\u001b[0m\u001b[37m━━━━━━━━━━━━━━━━━━\u001b[0m \u001b[1m0s\u001b[0m 33ms/step - accuracy: 0.9500 - loss: 0.1616\n",
      "Epoch 26: saving model to ./model/all/26-0.9223.keras\n",
      "\u001b[1m8/8\u001b[0m \u001b[32m━━━━━━━━━━━━━━━━━━━━\u001b[0m\u001b[37m\u001b[0m \u001b[1m0s\u001b[0m 10ms/step - accuracy: 0.9428 - loss: 0.1818 - val_accuracy: 0.9223 - val_loss: 0.2128\n",
      "Epoch 27/50\n",
      "\u001b[1m1/8\u001b[0m \u001b[32m━━\u001b[0m\u001b[37m━━━━━━━━━━━━━━━━━━\u001b[0m \u001b[1m0s\u001b[0m 32ms/step - accuracy: 0.9380 - loss: 0.1773\n",
      "Epoch 27: saving model to ./model/all/27-0.9262.keras\n",
      "\u001b[1m8/8\u001b[0m \u001b[32m━━━━━━━━━━━━━━━━━━━━\u001b[0m\u001b[37m\u001b[0m \u001b[1m0s\u001b[0m 9ms/step - accuracy: 0.9380 - loss: 0.1853 - val_accuracy: 0.9262 - val_loss: 0.2095\n",
      "Epoch 28/50\n",
      "\u001b[1m1/8\u001b[0m \u001b[32m━━\u001b[0m\u001b[37m━━━━━━━━━━━━━━━━━━\u001b[0m \u001b[1m0s\u001b[0m 26ms/step - accuracy: 0.9300 - loss: 0.2181\n",
      "Epoch 28: saving model to ./model/all/28-0.9262.keras\n",
      "\u001b[1m8/8\u001b[0m \u001b[32m━━━━━━━━━━━━━━━━━━━━\u001b[0m\u001b[37m\u001b[0m \u001b[1m0s\u001b[0m 11ms/step - accuracy: 0.9341 - loss: 0.1974 - val_accuracy: 0.9262 - val_loss: 0.2074\n",
      "Epoch 29/50\n",
      "\u001b[1m1/8\u001b[0m \u001b[32m━━\u001b[0m\u001b[37m━━━━━━━━━━━━━━━━━━\u001b[0m \u001b[1m0s\u001b[0m 35ms/step - accuracy: 0.9460 - loss: 0.1741\n",
      "Epoch 29: saving model to ./model/all/29-0.9262.keras\n",
      "\u001b[1m8/8\u001b[0m \u001b[32m━━━━━━━━━━━━━━━━━━━━\u001b[0m\u001b[37m\u001b[0m \u001b[1m0s\u001b[0m 9ms/step - accuracy: 0.9420 - loss: 0.1796 - val_accuracy: 0.9262 - val_loss: 0.2057\n",
      "Epoch 30/50\n",
      "\u001b[1m1/8\u001b[0m \u001b[32m━━\u001b[0m\u001b[37m━━━━━━━━━━━━━━━━━━\u001b[0m \u001b[1m0s\u001b[0m 26ms/step - accuracy: 0.9380 - loss: 0.1724\n",
      "Epoch 30: saving model to ./model/all/30-0.9277.keras\n",
      "\u001b[1m8/8\u001b[0m \u001b[32m━━━━━━━━━━━━━━━━━━━━\u001b[0m\u001b[37m\u001b[0m \u001b[1m0s\u001b[0m 10ms/step - accuracy: 0.9389 - loss: 0.1792 - val_accuracy: 0.9277 - val_loss: 0.2039\n",
      "Epoch 31/50\n",
      "\u001b[1m1/8\u001b[0m \u001b[32m━━\u001b[0m\u001b[37m━━━━━━━━━━━━━━━━━━\u001b[0m \u001b[1m0s\u001b[0m 30ms/step - accuracy: 0.9420 - loss: 0.1712\n",
      "Epoch 31: saving model to ./model/all/31-0.9277.keras\n",
      "\u001b[1m8/8\u001b[0m \u001b[32m━━━━━━━━━━━━━━━━━━━━\u001b[0m\u001b[37m\u001b[0m \u001b[1m0s\u001b[0m 9ms/step - accuracy: 0.9383 - loss: 0.1799 - val_accuracy: 0.9277 - val_loss: 0.2018\n",
      "Epoch 32/50\n",
      "\u001b[1m1/8\u001b[0m \u001b[32m━━\u001b[0m\u001b[37m━━━━━━━━━━━━━━━━━━\u001b[0m \u001b[1m0s\u001b[0m 26ms/step - accuracy: 0.9320 - loss: 0.1703\n",
      "Epoch 32: saving model to ./model/all/32-0.9277.keras\n",
      "\u001b[1m8/8\u001b[0m \u001b[32m━━━━━━━━━━━━━━━━━━━━\u001b[0m\u001b[37m\u001b[0m \u001b[1m0s\u001b[0m 11ms/step - accuracy: 0.9364 - loss: 0.1805 - val_accuracy: 0.9277 - val_loss: 0.2003\n",
      "Epoch 33/50\n",
      "\u001b[1m1/8\u001b[0m \u001b[32m━━\u001b[0m\u001b[37m━━━━━━━━━━━━━━━━━━\u001b[0m \u001b[1m0s\u001b[0m 33ms/step - accuracy: 0.9320 - loss: 0.1770\n",
      "Epoch 33: saving model to ./model/all/33-0.9277.keras\n",
      "\u001b[1m8/8\u001b[0m \u001b[32m━━━━━━━━━━━━━━━━━━━━\u001b[0m\u001b[37m\u001b[0m \u001b[1m0s\u001b[0m 14ms/step - accuracy: 0.9359 - loss: 0.1785 - val_accuracy: 0.9277 - val_loss: 0.1985\n",
      "Epoch 34/50\n",
      "\u001b[1m1/8\u001b[0m \u001b[32m━━\u001b[0m\u001b[37m━━━━━━━━━━━━━━━━━━\u001b[0m \u001b[1m0s\u001b[0m 32ms/step - accuracy: 0.9340 - loss: 0.1796\n",
      "Epoch 34: saving model to ./model/all/34-0.9269.keras\n",
      "\u001b[1m8/8\u001b[0m \u001b[32m━━━━━━━━━━━━━━━━━━━━\u001b[0m\u001b[37m\u001b[0m \u001b[1m0s\u001b[0m 9ms/step - accuracy: 0.9416 - loss: 0.1726 - val_accuracy: 0.9269 - val_loss: 0.1969\n",
      "Epoch 35/50\n",
      "\u001b[1m1/8\u001b[0m \u001b[32m━━\u001b[0m\u001b[37m━━━━━━━━━━━━━━━━━━\u001b[0m \u001b[1m0s\u001b[0m 31ms/step - accuracy: 0.9460 - loss: 0.1697\n",
      "Epoch 35: saving model to ./model/all/35-0.9277.keras\n",
      "\u001b[1m8/8\u001b[0m \u001b[32m━━━━━━━━━━━━━━━━━━━━\u001b[0m\u001b[37m\u001b[0m \u001b[1m0s\u001b[0m 9ms/step - accuracy: 0.9434 - loss: 0.1677 - val_accuracy: 0.9277 - val_loss: 0.1951\n",
      "Epoch 36/50\n",
      "\u001b[1m1/8\u001b[0m \u001b[32m━━\u001b[0m\u001b[37m━━━━━━━━━━━━━━━━━━\u001b[0m \u001b[1m0s\u001b[0m 30ms/step - accuracy: 0.9520 - loss: 0.1629\n",
      "Epoch 36: saving model to ./model/all/36-0.9292.keras\n",
      "\u001b[1m8/8\u001b[0m \u001b[32m━━━━━━━━━━━━━━━━━━━━\u001b[0m\u001b[37m\u001b[0m \u001b[1m0s\u001b[0m 10ms/step - accuracy: 0.9427 - loss: 0.1702 - val_accuracy: 0.9292 - val_loss: 0.1935\n",
      "Epoch 37/50\n",
      "\u001b[1m1/8\u001b[0m \u001b[32m━━\u001b[0m\u001b[37m━━━━━━━━━━━━━━━━━━\u001b[0m \u001b[1m0s\u001b[0m 32ms/step - accuracy: 0.9420 - loss: 0.1520\n",
      "Epoch 37: saving model to ./model/all/37-0.9262.keras\n",
      "\u001b[1m8/8\u001b[0m \u001b[32m━━━━━━━━━━━━━━━━━━━━\u001b[0m\u001b[37m\u001b[0m \u001b[1m0s\u001b[0m 10ms/step - accuracy: 0.9412 - loss: 0.1647 - val_accuracy: 0.9262 - val_loss: 0.1919\n",
      "Epoch 38/50\n",
      "\u001b[1m1/8\u001b[0m \u001b[32m━━\u001b[0m\u001b[37m━━━━━━━━━━━━━━━━━━\u001b[0m \u001b[1m0s\u001b[0m 26ms/step - accuracy: 0.9500 - loss: 0.1413\n",
      "Epoch 38: saving model to ./model/all/38-0.9292.keras\n",
      "\u001b[1m8/8\u001b[0m \u001b[32m━━━━━━━━━━━━━━━━━━━━\u001b[0m\u001b[37m\u001b[0m \u001b[1m0s\u001b[0m 12ms/step - accuracy: 0.9418 - loss: 0.1669 - val_accuracy: 0.9292 - val_loss: 0.1901\n",
      "Epoch 39/50\n",
      "\u001b[1m1/8\u001b[0m \u001b[32m━━\u001b[0m\u001b[37m━━━━━━━━━━━━━━━━━━\u001b[0m \u001b[1m0s\u001b[0m 25ms/step - accuracy: 0.9460 - loss: 0.1449\n",
      "Epoch 39: saving model to ./model/all/39-0.9300.keras\n",
      "\u001b[1m8/8\u001b[0m \u001b[32m━━━━━━━━━━━━━━━━━━━━\u001b[0m\u001b[37m\u001b[0m \u001b[1m0s\u001b[0m 10ms/step - accuracy: 0.9436 - loss: 0.1618 - val_accuracy: 0.9300 - val_loss: 0.1905\n",
      "Epoch 40/50\n",
      "\u001b[1m1/8\u001b[0m \u001b[32m━━\u001b[0m\u001b[37m━━━━━━━━━━━━━━━━━━\u001b[0m \u001b[1m0s\u001b[0m 30ms/step - accuracy: 0.9400 - loss: 0.1811\n",
      "Epoch 40: saving model to ./model/all/40-0.9300.keras\n",
      "\u001b[1m8/8\u001b[0m \u001b[32m━━━━━━━━━━━━━━━━━━━━\u001b[0m\u001b[37m\u001b[0m \u001b[1m0s\u001b[0m 9ms/step - accuracy: 0.9435 - loss: 0.1644 - val_accuracy: 0.9300 - val_loss: 0.1870\n",
      "Epoch 41/50\n",
      "\u001b[1m1/8\u001b[0m \u001b[32m━━\u001b[0m\u001b[37m━━━━━━━━━━━━━━━━━━\u001b[0m \u001b[1m0s\u001b[0m 29ms/step - accuracy: 0.9360 - loss: 0.1705\n",
      "Epoch 41: saving model to ./model/all/41-0.9331.keras\n",
      "\u001b[1m8/8\u001b[0m \u001b[32m━━━━━━━━━━━━━━━━━━━━\u001b[0m\u001b[37m\u001b[0m \u001b[1m0s\u001b[0m 11ms/step - accuracy: 0.9445 - loss: 0.1665 - val_accuracy: 0.9331 - val_loss: 0.1878\n",
      "Epoch 42/50\n",
      "\u001b[1m1/8\u001b[0m \u001b[32m━━\u001b[0m\u001b[37m━━━━━━━━━━━━━━━━━━\u001b[0m \u001b[1m0s\u001b[0m 30ms/step - accuracy: 0.9560 - loss: 0.1400\n",
      "Epoch 42: saving model to ./model/all/42-0.9315.keras\n",
      "\u001b[1m8/8\u001b[0m \u001b[32m━━━━━━━━━━━━━━━━━━━━\u001b[0m\u001b[37m\u001b[0m \u001b[1m0s\u001b[0m 9ms/step - accuracy: 0.9455 - loss: 0.1602 - val_accuracy: 0.9315 - val_loss: 0.1847\n",
      "Epoch 43/50\n",
      "\u001b[1m1/8\u001b[0m \u001b[32m━━\u001b[0m\u001b[37m━━━━━━━━━━━━━━━━━━\u001b[0m \u001b[1m0s\u001b[0m 28ms/step - accuracy: 0.9340 - loss: 0.1795\n",
      "Epoch 43: saving model to ./model/all/43-0.9331.keras\n",
      "\u001b[1m8/8\u001b[0m \u001b[32m━━━━━━━━━━━━━━━━━━━━\u001b[0m\u001b[37m\u001b[0m \u001b[1m0s\u001b[0m 11ms/step - accuracy: 0.9415 - loss: 0.1638 - val_accuracy: 0.9331 - val_loss: 0.1821\n",
      "Epoch 44/50\n",
      "\u001b[1m1/8\u001b[0m \u001b[32m━━\u001b[0m\u001b[37m━━━━━━━━━━━━━━━━━━\u001b[0m \u001b[1m0s\u001b[0m 26ms/step - accuracy: 0.9420 - loss: 0.1596\n",
      "Epoch 44: saving model to ./model/all/44-0.9323.keras\n",
      "\u001b[1m8/8\u001b[0m \u001b[32m━━━━━━━━━━━━━━━━━━━━\u001b[0m\u001b[37m\u001b[0m \u001b[1m0s\u001b[0m 9ms/step - accuracy: 0.9428 - loss: 0.1608 - val_accuracy: 0.9323 - val_loss: 0.1832\n",
      "Epoch 45/50\n",
      "\u001b[1m1/8\u001b[0m \u001b[32m━━\u001b[0m\u001b[37m━━━━━━━━━━━━━━━━━━\u001b[0m \u001b[1m0s\u001b[0m 34ms/step - accuracy: 0.9540 - loss: 0.1501\n",
      "Epoch 45: saving model to ./model/all/45-0.9338.keras\n",
      "\u001b[1m8/8\u001b[0m \u001b[32m━━━━━━━━━━━━━━━━━━━━\u001b[0m\u001b[37m\u001b[0m \u001b[1m0s\u001b[0m 11ms/step - accuracy: 0.9460 - loss: 0.1599 - val_accuracy: 0.9338 - val_loss: 0.1795\n",
      "Epoch 46/50\n",
      "\u001b[1m1/8\u001b[0m \u001b[32m━━\u001b[0m\u001b[37m━━━━━━━━━━━━━━━━━━\u001b[0m \u001b[1m0s\u001b[0m 25ms/step - accuracy: 0.9340 - loss: 0.1701\n",
      "Epoch 46: saving model to ./model/all/46-0.9338.keras\n",
      "\u001b[1m8/8\u001b[0m \u001b[32m━━━━━━━━━━━━━━━━━━━━\u001b[0m\u001b[37m\u001b[0m \u001b[1m0s\u001b[0m 9ms/step - accuracy: 0.9433 - loss: 0.1648 - val_accuracy: 0.9338 - val_loss: 0.1778\n",
      "Epoch 47/50\n",
      "\u001b[1m1/8\u001b[0m \u001b[32m━━\u001b[0m\u001b[37m━━━━━━━━━━━━━━━━━━\u001b[0m \u001b[1m0s\u001b[0m 31ms/step - accuracy: 0.9520 - loss: 0.1510\n",
      "Epoch 47: saving model to ./model/all/47-0.9346.keras\n",
      "\u001b[1m8/8\u001b[0m \u001b[32m━━━━━━━━━━━━━━━━━━━━\u001b[0m\u001b[37m\u001b[0m \u001b[1m0s\u001b[0m 11ms/step - accuracy: 0.9477 - loss: 0.1543 - val_accuracy: 0.9346 - val_loss: 0.1752\n",
      "Epoch 48/50\n",
      "\u001b[1m1/8\u001b[0m \u001b[32m━━\u001b[0m\u001b[37m━━━━━━━━━━━━━━━━━━\u001b[0m \u001b[1m0s\u001b[0m 25ms/step - accuracy: 0.9460 - loss: 0.1555\n",
      "Epoch 48: saving model to ./model/all/48-0.9346.keras\n",
      "\u001b[1m8/8\u001b[0m \u001b[32m━━━━━━━━━━━━━━━━━━━━\u001b[0m\u001b[37m\u001b[0m \u001b[1m0s\u001b[0m 10ms/step - accuracy: 0.9474 - loss: 0.1548 - val_accuracy: 0.9346 - val_loss: 0.1731\n",
      "Epoch 49/50\n",
      "\u001b[1m1/8\u001b[0m \u001b[32m━━\u001b[0m\u001b[37m━━━━━━━━━━━━━━━━━━\u001b[0m \u001b[1m0s\u001b[0m 31ms/step - accuracy: 0.9540 - loss: 0.1239\n",
      "Epoch 49: saving model to ./model/all/49-0.9369.keras\n",
      "\u001b[1m8/8\u001b[0m \u001b[32m━━━━━━━━━━━━━━━━━━━━\u001b[0m\u001b[37m\u001b[0m \u001b[1m0s\u001b[0m 9ms/step - accuracy: 0.9502 - loss: 0.1433 - val_accuracy: 0.9369 - val_loss: 0.1706\n",
      "Epoch 50/50\n",
      "\u001b[1m1/8\u001b[0m \u001b[32m━━\u001b[0m\u001b[37m━━━━━━━━━━━━━━━━━━\u001b[0m \u001b[1m0s\u001b[0m 27ms/step - accuracy: 0.9480 - loss: 0.1631\n",
      "Epoch 50: saving model to ./model/all/50-0.9400.keras\n",
      "\u001b[1m8/8\u001b[0m \u001b[32m━━━━━━━━━━━━━━━━━━━━\u001b[0m\u001b[37m\u001b[0m \u001b[1m0s\u001b[0m 10ms/step - accuracy: 0.9458 - loss: 0.1535 - val_accuracy: 0.9400 - val_loss: 0.1715\n"
     ]
    }
   ],
   "source": [
    "model = Sequential()\n",
    "model.add(Dense(36, input_dim=12, activation='relu'))\n",
    "model.add(Dense(12, activation='relu'))\n",
    "model.add(Dense(8, activation='relu'))\n",
    "model.add(Dense(1, activation='sigmoid'))\n",
    "model.compile(loss='binary_crossentropy',\n",
    "              optimizer='adam', metrics=['accuracy'])\n",
    "history = model.fit(X_train, y_train, epochs=50,\n",
    "                    batch_size=500, validation_split=0.25, callbacks=[checkpointer])"
   ]
  },
  {
   "cell_type": "markdown",
   "metadata": {},
   "source": [
    "validation_split  \n",
    "검증 데이터로 사용될 훈련 데이터의 비율입니다. 모델은 훈련 데이터의 이 부분을 구분하고,각 에포크가 끝날 때 이 데이터에 대한 손실과 모델 측정항목을 평가"
   ]
  },
  {
   "cell_type": "code",
   "execution_count": 9,
   "metadata": {},
   "outputs": [
    {
     "data": {
      "text/plain": [
       "<keras.src.callbacks.history.History at 0x1acbd376910>"
      ]
     },
     "execution_count": 9,
     "metadata": {},
     "output_type": "execute_result"
    }
   ],
   "source": [
    "history"
   ]
  },
  {
   "cell_type": "code",
   "execution_count": 13,
   "metadata": {},
   "outputs": [
    {
     "data": {
      "text/plain": [
       "{'accuracy': [0.259173721075058,\n",
       "  0.7290223240852356,\n",
       "  0.8971003293991089,\n",
       "  0.8832435011863708,\n",
       "  0.9078778624534607,\n",
       "  0.925070583820343,\n",
       "  0.9278932809829712,\n",
       "  0.9325121641159058,\n",
       "  0.9345650672912598,\n",
       "  0.9332820177078247,\n",
       "  0.9345650672912598,\n",
       "  0.9353348612785339,\n",
       "  0.9371311068534851,\n",
       "  0.936617910861969,\n",
       "  0.9381575584411621,\n",
       "  0.9394406080245972,\n",
       "  0.9402104020118713,\n",
       "  0.9409802556037903,\n",
       "  0.9407236576080322,\n",
       "  0.9435462951660156,\n",
       "  0.9420066475868225,\n",
       "  0.9417500495910645,\n",
       "  0.9422633051872253,\n",
       "  0.9438029527664185,\n",
       "  0.9427765011787415,\n",
       "  0.9432896971702576,\n",
       "  0.9453426003456116,\n",
       "  0.9435462951660156,\n",
       "  0.9450859427452087,\n",
       "  0.9438029527664185,\n",
       "  0.9455991983413696,\n",
       "  0.9455991983413696,\n",
       "  0.9461123943328857,\n",
       "  0.9461123943328857,\n",
       "  0.9473954439163208,\n",
       "  0.9455991983413696,\n",
       "  0.948421835899353,\n",
       "  0.9473954439163208,\n",
       "  0.9463689923286438,\n",
       "  0.9486784934997559,\n",
       "  0.948165237903595,\n",
       "  0.949191689491272,\n",
       "  0.9479086399078369,\n",
       "  0.9507313370704651,\n",
       "  0.94944828748703,\n",
       "  0.9499614834785461,\n",
       "  0.950474739074707,\n",
       "  0.9517577886581421,\n",
       "  0.9520143866539001,\n",
       "  0.9525275826454163],\n",
       " 'loss': [2.6355834007263184,\n",
       "  0.5113935470581055,\n",
       "  0.3013944923877716,\n",
       "  0.2991424798965454,\n",
       "  0.27440816164016724,\n",
       "  0.2531557083129883,\n",
       "  0.24076852202415466,\n",
       "  0.22793491184711456,\n",
       "  0.2184520810842514,\n",
       "  0.21187205612659454,\n",
       "  0.20650337636470795,\n",
       "  0.20238789916038513,\n",
       "  0.19831974804401398,\n",
       "  0.19438892602920532,\n",
       "  0.19019021093845367,\n",
       "  0.18760891258716583,\n",
       "  0.18482816219329834,\n",
       "  0.18237194418907166,\n",
       "  0.17924939095973969,\n",
       "  0.1770966798067093,\n",
       "  0.17478527128696442,\n",
       "  0.17314396798610687,\n",
       "  0.17127558588981628,\n",
       "  0.1703285276889801,\n",
       "  0.16812331974506378,\n",
       "  0.16620607674121857,\n",
       "  0.16472147405147552,\n",
       "  0.1634453535079956,\n",
       "  0.16281257569789886,\n",
       "  0.16102315485477448,\n",
       "  0.15932784974575043,\n",
       "  0.15764938294887543,\n",
       "  0.15627722442150116,\n",
       "  0.15523706376552582,\n",
       "  0.15321648120880127,\n",
       "  0.1518627554178238,\n",
       "  0.1511528491973877,\n",
       "  0.1499502956867218,\n",
       "  0.14930561184883118,\n",
       "  0.14943060278892517,\n",
       "  0.14696162939071655,\n",
       "  0.14773806929588318,\n",
       "  0.14496929943561554,\n",
       "  0.14254260063171387,\n",
       "  0.1411810666322708,\n",
       "  0.13926048576831818,\n",
       "  0.1378563791513443,\n",
       "  0.13678735494613647,\n",
       "  0.1360749453306198,\n",
       "  0.13486629724502563],\n",
       " 'val_accuracy': [0.4346153736114502,\n",
       "  0.9038461446762085,\n",
       "  0.8769230842590332,\n",
       "  0.8876923322677612,\n",
       "  0.9084615111351013,\n",
       "  0.9123076796531677,\n",
       "  0.9138461351394653,\n",
       "  0.9130769371986389,\n",
       "  0.9100000262260437,\n",
       "  0.9092307686805725,\n",
       "  0.9107692241668701,\n",
       "  0.9069230556488037,\n",
       "  0.9130769371986389,\n",
       "  0.9107692241668701,\n",
       "  0.9084615111351013,\n",
       "  0.9130769371986389,\n",
       "  0.9115384817123413,\n",
       "  0.9138461351394653,\n",
       "  0.9146153926849365,\n",
       "  0.9153845906257629,\n",
       "  0.9192307591438293,\n",
       "  0.9176923036575317,\n",
       "  0.9192307591438293,\n",
       "  0.920769214630127,\n",
       "  0.9230769276618958,\n",
       "  0.9238461256027222,\n",
       "  0.926153838634491,\n",
       "  0.9269230961799622,\n",
       "  0.9284615516662598,\n",
       "  0.9307692050933838,\n",
       "  0.931538462638855,\n",
       "  0.9307692050933838,\n",
       "  0.9323077201843262,\n",
       "  0.9330769181251526,\n",
       "  0.9353846311569214,\n",
       "  0.9346153736114502,\n",
       "  0.9353846311569214,\n",
       "  0.9353846311569214,\n",
       "  0.9353846311569214,\n",
       "  0.9361538290977478,\n",
       "  0.9353846311569214,\n",
       "  0.9361538290977478,\n",
       "  0.9353846311569214,\n",
       "  0.936923086643219,\n",
       "  0.9361538290977478,\n",
       "  0.9384615421295166,\n",
       "  0.936923086643219,\n",
       "  0.939230740070343,\n",
       "  0.9384615421295166,\n",
       "  0.936923086643219],\n",
       " 'val_loss': [0.773335874080658,\n",
       "  0.3307396471500397,\n",
       "  0.3205130696296692,\n",
       "  0.3077641427516937,\n",
       "  0.2810143232345581,\n",
       "  0.26959559321403503,\n",
       "  0.25874361395835876,\n",
       "  0.25174811482429504,\n",
       "  0.24642512202262878,\n",
       "  0.24167874455451965,\n",
       "  0.23764483630657196,\n",
       "  0.23470522463321686,\n",
       "  0.2326039969921112,\n",
       "  0.23099330067634583,\n",
       "  0.23150226473808289,\n",
       "  0.22904343903064728,\n",
       "  0.2249278575181961,\n",
       "  0.22026123106479645,\n",
       "  0.217940092086792,\n",
       "  0.2166876643896103,\n",
       "  0.2135079950094223,\n",
       "  0.2118586152791977,\n",
       "  0.21008341014385223,\n",
       "  0.20825831592082977,\n",
       "  0.2057202309370041,\n",
       "  0.2041846364736557,\n",
       "  0.2030237466096878,\n",
       "  0.20071960985660553,\n",
       "  0.1993381679058075,\n",
       "  0.19747652113437653,\n",
       "  0.1958504617214203,\n",
       "  0.19441835582256317,\n",
       "  0.1922849863767624,\n",
       "  0.19043602049350739,\n",
       "  0.18875564634799957,\n",
       "  0.18728385865688324,\n",
       "  0.18667826056480408,\n",
       "  0.18398599326610565,\n",
       "  0.18210172653198242,\n",
       "  0.18469710648059845,\n",
       "  0.18108192086219788,\n",
       "  0.18267621099948883,\n",
       "  0.17776049673557281,\n",
       "  0.17777365446090698,\n",
       "  0.17393824458122253,\n",
       "  0.17332138121128082,\n",
       "  0.17075218260288239,\n",
       "  0.17078618705272675,\n",
       "  0.16767282783985138,\n",
       "  0.16548268496990204]}"
      ]
     },
     "execution_count": 13,
     "metadata": {},
     "output_type": "execute_result"
    }
   ],
   "source": [
    "history.history"
   ]
  },
  {
   "cell_type": "code",
   "execution_count": 14,
   "metadata": {},
   "outputs": [
    {
     "data": {
      "text/plain": [
       "[0.4346153736114502,\n",
       " 0.9038461446762085,\n",
       " 0.8769230842590332,\n",
       " 0.8876923322677612,\n",
       " 0.9084615111351013,\n",
       " 0.9123076796531677,\n",
       " 0.9138461351394653,\n",
       " 0.9130769371986389,\n",
       " 0.9100000262260437,\n",
       " 0.9092307686805725,\n",
       " 0.9107692241668701,\n",
       " 0.9069230556488037,\n",
       " 0.9130769371986389,\n",
       " 0.9107692241668701,\n",
       " 0.9084615111351013,\n",
       " 0.9130769371986389,\n",
       " 0.9115384817123413,\n",
       " 0.9138461351394653,\n",
       " 0.9146153926849365,\n",
       " 0.9153845906257629,\n",
       " 0.9192307591438293,\n",
       " 0.9176923036575317,\n",
       " 0.9192307591438293,\n",
       " 0.920769214630127,\n",
       " 0.9230769276618958,\n",
       " 0.9238461256027222,\n",
       " 0.926153838634491,\n",
       " 0.9269230961799622,\n",
       " 0.9284615516662598,\n",
       " 0.9307692050933838,\n",
       " 0.931538462638855,\n",
       " 0.9307692050933838,\n",
       " 0.9323077201843262,\n",
       " 0.9330769181251526,\n",
       " 0.9353846311569214,\n",
       " 0.9346153736114502,\n",
       " 0.9353846311569214,\n",
       " 0.9353846311569214,\n",
       " 0.9353846311569214,\n",
       " 0.9361538290977478,\n",
       " 0.9353846311569214,\n",
       " 0.9361538290977478,\n",
       " 0.9353846311569214,\n",
       " 0.936923086643219,\n",
       " 0.9361538290977478,\n",
       " 0.9384615421295166,\n",
       " 0.936923086643219,\n",
       " 0.939230740070343,\n",
       " 0.9384615421295166,\n",
       " 0.936923086643219]"
      ]
     },
     "execution_count": 14,
     "metadata": {},
     "output_type": "execute_result"
    }
   ],
   "source": [
    "history.history['val_accuracy']"
   ]
  },
  {
   "cell_type": "code",
   "execution_count": 15,
   "metadata": {},
   "outputs": [
    {
     "data": {
      "text/plain": [
       "50"
      ]
     },
     "execution_count": 15,
     "metadata": {},
     "output_type": "execute_result"
    }
   ],
   "source": [
    "len(history.history['val_accuracy'])"
   ]
  },
  {
   "cell_type": "code",
   "execution_count": null,
   "metadata": {},
   "outputs": [],
   "source": [
    "print(5197*0.75, 5197*0.25)"
   ]
  },
  {
   "cell_type": "code",
   "execution_count": 17,
   "metadata": {},
   "outputs": [
    {
     "data": {
      "text/plain": [
       "(1300, 12)"
      ]
     },
     "execution_count": 17,
     "metadata": {},
     "output_type": "execute_result"
    }
   ],
   "source": [
    "X_test.shape"
   ]
  },
  {
   "cell_type": "code",
   "execution_count": 17,
   "metadata": {},
   "outputs": [
    {
     "name": "stdout",
     "output_type": "stream",
     "text": [
      "\u001b[1m41/41\u001b[0m \u001b[32m━━━━━━━━━━━━━━━━━━━━\u001b[0m\u001b[37m\u001b[0m \u001b[1m0s\u001b[0m 839us/step - accuracy: 0.9536 - loss: 0.1420\n"
     ]
    },
    {
     "data": {
      "text/plain": [
       "[0.14385366439819336, 0.9515384435653687]"
      ]
     },
     "execution_count": 17,
     "metadata": {},
     "output_type": "execute_result"
    }
   ],
   "source": [
    "model.evaluate(X_test, y_test)"
   ]
  },
  {
   "cell_type": "code",
   "execution_count": null,
   "metadata": {},
   "outputs": [],
   "source": []
  }
 ],
 "metadata": {
  "kernelspec": {
   "display_name": "mldltest2",
   "language": "python",
   "name": "python3"
  },
  "language_info": {
   "codemirror_mode": {
    "name": "ipython",
    "version": 3
   },
   "file_extension": ".py",
   "mimetype": "text/x-python",
   "name": "python",
   "nbconvert_exporter": "python",
   "pygments_lexer": "ipython3",
   "version": "3.11.9"
  }
 },
 "nbformat": 4,
 "nbformat_minor": 2
}
