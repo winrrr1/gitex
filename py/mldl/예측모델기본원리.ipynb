{
 "cells": [
  {
   "cell_type": "code",
   "execution_count": 70,
   "metadata": {},
   "outputs": [],
   "source": [
    "import tensorflow as tf\n",
    "import matplotlib.pyplot as plt\n",
    "from matplotlib import font_manager, rc\n",
    "\n",
    "# 한글 폰트 설정\n",
    "plt.rcParams['font.family'] = 'Malgun Gothic'  # Windows의 경우\n",
    "\n",
    "# 마이너스 기호가 깨지지 않도록 설정합니다.\n",
    "plt.rcParams['axes.unicode_minus'] = False"
   ]
  },
  {
   "cell_type": "code",
   "execution_count": 3,
   "metadata": {},
   "outputs": [],
   "source": [
    "# study_time=[2,4,6,8]\n",
    "# score=[81,93,91,97]"
   ]
  },
  {
   "cell_type": "code",
   "execution_count": 4,
   "metadata": {},
   "outputs": [],
   "source": [
    "import numpy as np"
   ]
  },
  {
   "cell_type": "code",
   "execution_count": 5,
   "metadata": {},
   "outputs": [
    {
     "data": {
      "text/plain": [
       "array([[ 2, 81],\n",
       "       [ 4, 93],\n",
       "       [ 6, 91],\n",
       "       [ 8, 97]])"
      ]
     },
     "execution_count": 5,
     "metadata": {},
     "output_type": "execute_result"
    }
   ],
   "source": [
    "np.array([[2, 81],\n",
    "          [4, 93],\n",
    "          [6, 91],\n",
    "          [8, 97]])"
   ]
  },
  {
   "cell_type": "code",
   "execution_count": 6,
   "metadata": {},
   "outputs": [],
   "source": [
    "X_y = np.array([[2, 81],\n",
    "                [4, 93],\n",
    "                [6, 91],\n",
    "                [8, 97]])"
   ]
  },
  {
   "cell_type": "code",
   "execution_count": 7,
   "metadata": {},
   "outputs": [
    {
     "data": {
      "text/plain": [
       "array([2, 4, 6, 8])"
      ]
     },
     "execution_count": 7,
     "metadata": {},
     "output_type": "execute_result"
    }
   ],
   "source": [
    "X_y[:, 0]"
   ]
  },
  {
   "cell_type": "code",
   "execution_count": 8,
   "metadata": {},
   "outputs": [],
   "source": [
    "study_mean = X_y[:, 0].mean()"
   ]
  },
  {
   "cell_type": "code",
   "execution_count": 9,
   "metadata": {},
   "outputs": [],
   "source": [
    "score_mean = X_y[:, 1].mean()"
   ]
  },
  {
   "cell_type": "code",
   "execution_count": 10,
   "metadata": {},
   "outputs": [],
   "source": [
    "# x 편차"
   ]
  },
  {
   "cell_type": "code",
   "execution_count": 11,
   "metadata": {},
   "outputs": [
    {
     "data": {
      "text/plain": [
       "array([-3., -1.,  1.,  3.])"
      ]
     },
     "execution_count": 11,
     "metadata": {},
     "output_type": "execute_result"
    }
   ],
   "source": [
    "X_y[:, 0] - study_mean"
   ]
  },
  {
   "cell_type": "code",
   "execution_count": 12,
   "metadata": {},
   "outputs": [],
   "source": [
    "# y 편차"
   ]
  },
  {
   "cell_type": "code",
   "execution_count": 13,
   "metadata": {},
   "outputs": [
    {
     "data": {
      "text/plain": [
       "array([-9.5,  2.5,  0.5,  6.5])"
      ]
     },
     "execution_count": 13,
     "metadata": {},
     "output_type": "execute_result"
    }
   ],
   "source": [
    "X_y[:, 1] - score_mean"
   ]
  },
  {
   "cell_type": "code",
   "execution_count": 14,
   "metadata": {},
   "outputs": [
    {
     "data": {
      "text/plain": [
       "array([28.5, -2.5,  0.5, 19.5])"
      ]
     },
     "execution_count": 14,
     "metadata": {},
     "output_type": "execute_result"
    }
   ],
   "source": [
    "(X_y[:, 0] - study_mean) * (X_y[:, 1] - score_mean)"
   ]
  },
  {
   "cell_type": "code",
   "execution_count": 15,
   "metadata": {},
   "outputs": [
    {
     "data": {
      "text/plain": [
       "46.0"
      ]
     },
     "execution_count": 15,
     "metadata": {},
     "output_type": "execute_result"
    }
   ],
   "source": [
    "sum((X_y[:, 0] - study_mean) * (X_y[:, 1] - score_mean))"
   ]
  },
  {
   "cell_type": "code",
   "execution_count": 16,
   "metadata": {},
   "outputs": [],
   "source": [
    "a = sum((X_y[:, 0] - study_mean) * (X_y[:, 1] - score_mean)) / \\\n",
    "    (sum((X_y[:, 0] - study_mean)**2))"
   ]
  },
  {
   "cell_type": "code",
   "execution_count": 17,
   "metadata": {},
   "outputs": [
    {
     "data": {
      "text/plain": [
       "2.3"
      ]
     },
     "execution_count": 17,
     "metadata": {},
     "output_type": "execute_result"
    }
   ],
   "source": [
    "a"
   ]
  },
  {
   "cell_type": "code",
   "execution_count": 18,
   "metadata": {},
   "outputs": [],
   "source": [
    "intercept = score_mean - (study_mean * a)"
   ]
  },
  {
   "cell_type": "code",
   "execution_count": 19,
   "metadata": {},
   "outputs": [
    {
     "data": {
      "text/plain": [
       "79.0"
      ]
     },
     "execution_count": 19,
     "metadata": {},
     "output_type": "execute_result"
    }
   ],
   "source": [
    "intercept"
   ]
  },
  {
   "cell_type": "code",
   "execution_count": 20,
   "metadata": {},
   "outputs": [],
   "source": [
    "# 회귀모델"
   ]
  },
  {
   "cell_type": "code",
   "execution_count": 21,
   "metadata": {},
   "outputs": [],
   "source": [
    "# y = 2.3*x + 79"
   ]
  },
  {
   "cell_type": "code",
   "execution_count": 22,
   "metadata": {},
   "outputs": [],
   "source": [
    "#  평균 제곱 오차"
   ]
  },
  {
   "cell_type": "code",
   "execution_count": 23,
   "metadata": {},
   "outputs": [],
   "source": [
    "fake_a = 3\n",
    "fake_b = 76"
   ]
  },
  {
   "cell_type": "code",
   "execution_count": 24,
   "metadata": {},
   "outputs": [],
   "source": [
    "def predict(x):\n",
    "    return fake_a * x + fake_b"
   ]
  },
  {
   "cell_type": "code",
   "execution_count": 25,
   "metadata": {},
   "outputs": [],
   "source": [
    "predict_result = []"
   ]
  },
  {
   "cell_type": "code",
   "execution_count": 26,
   "metadata": {},
   "outputs": [],
   "source": [
    "x = np.array([2, 4, 6, 8])\n",
    "y = np.array([81, 93, 91, 97])"
   ]
  },
  {
   "cell_type": "code",
   "execution_count": 27,
   "metadata": {},
   "outputs": [
    {
     "name": "stdout",
     "output_type": "stream",
     "text": [
      "공부시간=2.00, 실제점수=81.00, 예측점수=82.00,\n",
      "공부시간=4.00, 실제점수=93.00, 예측점수=88.00,\n",
      "공부시간=6.00, 실제점수=91.00, 예측점수=94.00,\n",
      "공부시간=8.00, 실제점수=97.00, 예측점수=100.00,\n"
     ]
    }
   ],
   "source": [
    "for i in range(len(x)):\n",
    "    predict_result.append(predict(x[i]))\n",
    "    print(\"공부시간=%.2f, 실제점수=%.2f, 예측점수=%.2f,\" % (x[i], y[i], predict(x[i])))"
   ]
  },
  {
   "cell_type": "code",
   "execution_count": 28,
   "metadata": {},
   "outputs": [],
   "source": [
    "n = len(x)\n",
    "\n",
    "\n",
    "def mse(y, y_pred):\n",
    "    return (1/n)*sum((y-y_pred)**2)"
   ]
  },
  {
   "cell_type": "code",
   "execution_count": 29,
   "metadata": {},
   "outputs": [
    {
     "name": "stdout",
     "output_type": "stream",
     "text": [
      "평균 제곱 오차: 11.0\n"
     ]
    }
   ],
   "source": [
    "print(\"평균 제곱 오차: \" + str(mse(y, predict_result)))"
   ]
  },
  {
   "cell_type": "code",
   "execution_count": 30,
   "metadata": {},
   "outputs": [],
   "source": [
    "import sympy as sp"
   ]
  },
  {
   "cell_type": "code",
   "execution_count": 31,
   "metadata": {},
   "outputs": [],
   "source": [
    "a, x, b = sp.symbols(\"a x b\")"
   ]
  },
  {
   "cell_type": "markdown",
   "metadata": {},
   "source": [
    "$$ "
   ]
  },
  {
   "cell_type": "code",
   "execution_count": 32,
   "metadata": {},
   "outputs": [
    {
     "name": "stdout",
     "output_type": "stream",
     "text": [
      "a x b\n"
     ]
    }
   ],
   "source": [
    "print(a, x, b)"
   ]
  },
  {
   "cell_type": "code",
   "execution_count": 33,
   "metadata": {},
   "outputs": [],
   "source": [
    "y = (a*x+b)**2"
   ]
  },
  {
   "cell_type": "code",
   "execution_count": 34,
   "metadata": {},
   "outputs": [
    {
     "data": {
      "text/latex": [
       "$\\displaystyle \\left(a x + b\\right)^{2}$"
      ],
      "text/plain": [
       "(a*x + b)**2"
      ]
     },
     "execution_count": 34,
     "metadata": {},
     "output_type": "execute_result"
    }
   ],
   "source": [
    "y"
   ]
  },
  {
   "cell_type": "code",
   "execution_count": 35,
   "metadata": {},
   "outputs": [
    {
     "data": {
      "text/latex": [
       "$\\displaystyle a^{2} x^{2} + 2 a b x + b^{2}$"
      ],
      "text/plain": [
       "a**2*x**2 + 2*a*b*x + b**2"
      ]
     },
     "execution_count": 35,
     "metadata": {},
     "output_type": "execute_result"
    }
   ],
   "source": [
    "y.expand()"
   ]
  },
  {
   "cell_type": "code",
   "execution_count": 36,
   "metadata": {},
   "outputs": [
    {
     "data": {
      "text/latex": [
       "$\\displaystyle 2 x \\left(a x + b\\right)$"
      ],
      "text/plain": [
       "2*x*(a*x + b)"
      ]
     },
     "execution_count": 36,
     "metadata": {},
     "output_type": "execute_result"
    }
   ],
   "source": [
    "sp.diff(y, a)"
   ]
  },
  {
   "cell_type": "code",
   "execution_count": 37,
   "metadata": {},
   "outputs": [
    {
     "data": {
      "text/latex": [
       "$\\displaystyle 2 a x + 2 b$"
      ],
      "text/plain": [
       "2*a*x + 2*b"
      ]
     },
     "execution_count": 37,
     "metadata": {},
     "output_type": "execute_result"
    }
   ],
   "source": [
    "sp.diff(y, b)"
   ]
  },
  {
   "cell_type": "code",
   "execution_count": 38,
   "metadata": {},
   "outputs": [
    {
     "data": {
      "text/latex": [
       "$\\displaystyle x$"
      ],
      "text/plain": [
       "x"
      ]
     },
     "execution_count": 38,
     "metadata": {},
     "output_type": "execute_result"
    }
   ],
   "source": [
    "x"
   ]
  },
  {
   "cell_type": "code",
   "execution_count": 39,
   "metadata": {},
   "outputs": [],
   "source": [
    "x = np.array([2, 4, 6, 8])\n",
    "y = np.array([81, 93, 91, 97])"
   ]
  },
  {
   "cell_type": "code",
   "execution_count": 40,
   "metadata": {},
   "outputs": [],
   "source": [
    "import matplotlib.pyplot as plt"
   ]
  },
  {
   "cell_type": "code",
   "execution_count": 41,
   "metadata": {},
   "outputs": [
    {
     "data": {
      "text/plain": [
       "[]"
      ]
     },
     "execution_count": 41,
     "metadata": {},
     "output_type": "execute_result"
    },
    {
     "data": {
      "image/png": "[encoded data removed]",
      "text/plain": [
       "<Figure size 640x480 with 1 Axes>"
      ]
     },
     "metadata": {},
     "output_type": "display_data"
    }
   ],
   "source": [
    "plt.plot(x, y, \"or\")\n",
    "plt.plot()"
   ]
  },
  {
   "cell_type": "code",
   "execution_count": 42,
   "metadata": {},
   "outputs": [
    {
     "data": {
      "text/plain": [
       "[]"
      ]
     },
     "execution_count": 42,
     "metadata": {},
     "output_type": "execute_result"
    },
    {
     "data": {
      "image/png": "[encoded data removed]",
      "text/plain": [
       "<Figure size 640x480 with 1 Axes>"
      ]
     },
     "metadata": {},
     "output_type": "display_data"
    }
   ],
   "source": [
    "plt.scatter(x, y)\n",
    "plt.plot()"
   ]
  },
  {
   "cell_type": "code",
   "execution_count": 43,
   "metadata": {},
   "outputs": [],
   "source": [
    "# 매개변수(parameter, weight) 초기화"
   ]
  },
  {
   "cell_type": "code",
   "execution_count": 44,
   "metadata": {},
   "outputs": [],
   "source": [
    "a, b = 0, 0"
   ]
  },
  {
   "cell_type": "code",
   "execution_count": 45,
   "metadata": {},
   "outputs": [],
   "source": [
    "learning_rate = 0.03  # 학습률"
   ]
  },
  {
   "cell_type": "code",
   "execution_count": 46,
   "metadata": {},
   "outputs": [],
   "source": [
    "epochs = 2001"
   ]
  },
  {
   "cell_type": "code",
   "execution_count": 47,
   "metadata": {},
   "outputs": [],
   "source": [
    "n = len(x)"
   ]
  },
  {
   "cell_type": "code",
   "execution_count": 48,
   "metadata": {},
   "outputs": [
    {
     "name": "stdout",
     "output_type": "stream",
     "text": [
      "epoch=0, 기울기=27.8400, 절편=5.4300\n",
      "epoch=100, 기울기=7.0739, 절편=50.5117\n",
      "epoch=200, 기울기=4.0960, 절편=68.2822\n",
      "epoch=300, 기울기=2.9757, 절편=74.9678\n",
      "epoch=400, 기울기=2.5542, 절편=77.4830\n",
      "epoch=500, 기울기=2.3956, 절편=78.4293\n",
      "epoch=600, 기울기=2.3360, 절편=78.7853\n",
      "epoch=700, 기울기=2.3135, 절편=78.9192\n",
      "epoch=800, 기울기=2.3051, 절편=78.9696\n",
      "epoch=900, 기울기=2.3019, 절편=78.9886\n",
      "epoch=1000, 기울기=2.3007, 절편=78.9957\n",
      "epoch=1100, 기울기=2.3003, 절편=78.9984\n",
      "epoch=1200, 기울기=2.3001, 절편=78.9994\n",
      "epoch=1300, 기울기=2.3000, 절편=78.9998\n",
      "epoch=1400, 기울기=2.3000, 절편=78.9999\n",
      "epoch=1500, 기울기=2.3000, 절편=79.0000\n",
      "epoch=1600, 기울기=2.3000, 절편=79.0000\n",
      "epoch=1700, 기울기=2.3000, 절편=79.0000\n",
      "epoch=1800, 기울기=2.3000, 절편=79.0000\n",
      "epoch=1900, 기울기=2.3000, 절편=79.0000\n",
      "epoch=2000, 기울기=2.3000, 절편=79.0000\n"
     ]
    }
   ],
   "source": [
    "for i in range(epochs):\n",
    "    y_pred = a*x+b\n",
    "    error = y-y_pred\n",
    "\n",
    "    a_diff = (2/n)*sum(-x*(error))\n",
    "    b_diff = (2/n)*sum(-(error))\n",
    "\n",
    "    a = a-learning_rate*a_diff\n",
    "    b = b-learning_rate*b_diff\n",
    "\n",
    "    if i % 100 == 0:\n",
    "        print(\"epoch=%.f, 기울기=%.04f, 절편=%.04f\" % (i, a, b))"
   ]
  },
  {
   "cell_type": "code",
   "execution_count": 49,
   "metadata": {},
   "outputs": [
    {
     "data": {
      "image/png": "[encoded data removed]",
      "text/plain": [
       "<Figure size 640x480 with 1 Axes>"
      ]
     },
     "metadata": {},
     "output_type": "display_data"
    }
   ],
   "source": [
    "plt.scatter(x, y)\n",
    "plt.plot(x, y_pred, 'r')\n",
    "plt.show()"
   ]
  },
  {
   "cell_type": "markdown",
   "metadata": {},
   "source": [
    "## 다중 선형 회귀"
   ]
  },
  {
   "cell_type": "code",
   "execution_count": 71,
   "metadata": {},
   "outputs": [],
   "source": [
    "import numpy as np"
   ]
  },
  {
   "cell_type": "code",
   "execution_count": 72,
   "metadata": {},
   "outputs": [],
   "source": [
    "import matplotlib.pyplot as plt"
   ]
  },
  {
   "cell_type": "code",
   "execution_count": 73,
   "metadata": {},
   "outputs": [],
   "source": [
    "from matplotlib import rc"
   ]
  },
  {
   "cell_type": "code",
   "execution_count": 103,
   "metadata": {},
   "outputs": [
    {
     "data": {
      "image/png": "[encoded data removed]",
      "text/plain": [
       "<Figure size 700x1000 with 1 Axes>"
      ]
     },
     "metadata": {},
     "output_type": "display_data"
    }
   ],
   "source": [
    "import numpy as np\n",
    "import matplotlib.pyplot as plt\n",
    "\n",
    "x1 = np.array([2, 4, 6, 8])  # 공부한 시간 데이터를 numpy 배열로 정의\n",
    "x2 = np.array([0, 4, 2, 3])  # 과외 횟수 데이터를 numpy 배열로 정의\n",
    "y = np.array([81, 93, 91, 97])  # 성적 데이터를 numpy 배열로 정의\n",
    "\n",
    "fig = plt.figure(figsize=(7,10))  # 새로운 그림(figure) 생성\n",
    "ax = fig.add_subplot(111, projection='3d')  # 3D 축 생성 및 그림에 추가\n",
    "# 시점 설정 (예: elev=30, azim=120)\n",
    "ax.view_init(elev=30, azim=120)  # 위도 30도, 경도 120도 시점으로 설정\n",
    "\n",
    "ax.scatter3D(x1, x2, y)  # 공부한 시간, 과외 횟수, 성적 데이터를 3D 산점도로 표시\n",
    "\n",
    "ax.set_xlabel('공부한시간')  # x축 라벨 설정\n",
    "ax.set_ylabel('과외 횟수')  # y축 라벨 설정\n",
    "ax.set_zlabel('성적')  # z축 라벨 설정\n",
    "\n",
    "plt.rcParams['font.family'] = 'Malgun Gothic'  # 한글 폰트 설정\n",
    "plt.rcParams['axes.unicode_minus'] = False  # 음수 기호 표시 문제 해결\n",
    "\n",
    "plt.show()  # 그림 표시\n"
   ]
  },
  {
   "cell_type": "code",
   "execution_count": 75,
   "metadata": {},
   "outputs": [],
   "source": [
    "a1, a2, b = 0, 0, 0"
   ]
  },
  {
   "cell_type": "code",
   "execution_count": 76,
   "metadata": {},
   "outputs": [],
   "source": [
    "y_pred = a1*x1 + a2*x2 + b"
   ]
  },
  {
   "cell_type": "code",
   "execution_count": 77,
   "metadata": {},
   "outputs": [],
   "source": [
    "error = y - y_pred"
   ]
  },
  {
   "cell_type": "code",
   "execution_count": 78,
   "metadata": {},
   "outputs": [],
   "source": [
    "n = len(x1)\n",
    "a1_diff = (2/n)*sum(-x1*(error))\n",
    "a2_diff = (2/n)*sum(-x2*(error))\n",
    "b_diff = (2/n)*sum(-(error))"
   ]
  },
  {
   "cell_type": "code",
   "execution_count": 79,
   "metadata": {},
   "outputs": [],
   "source": [
    "learning_rate = 0.03  # 학습률"
   ]
  },
  {
   "cell_type": "code",
   "execution_count": 80,
   "metadata": {},
   "outputs": [],
   "source": [
    "# a1 = a1 - learning_rate * a1_diff\n",
    "# a2 = a2 - learning_rate * a2_diff\n",
    "# b = b - learning_rate*b_diff"
   ]
  },
  {
   "cell_type": "code",
   "execution_count": 81,
   "metadata": {},
   "outputs": [],
   "source": [
    "epochs = 2001"
   ]
  },
  {
   "cell_type": "code",
   "execution_count": 82,
   "metadata": {},
   "outputs": [
    {
     "name": "stdout",
     "output_type": "stream",
     "text": [
      "epochs=0, 기울기1=9.2800, 기울기2=4.2250, 절편=1.8100\n",
      "epochs=100, 기울기1=9.5110, 기울기2=5.0270, 절편=22.9205\n",
      "epochs=200, 기울기1=7.3238, 기울기2=4.2950, 절편=37.8751\n",
      "epochs=300, 기울기1=5.7381, 기울기2=3.7489, 절편=48.7589\n",
      "epochs=400, 기울기1=4.5844, 기울기2=3.3507, 절편=56.6800\n",
      "epochs=500, 기울기1=3.7447, 기울기2=3.0608, 절편=62.4448\n",
      "epochs=600, 기울기1=3.1337, 기울기2=2.8498, 절편=66.6404\n",
      "epochs=700, 기울기1=2.6890, 기울기2=2.6962, 절편=69.6938\n",
      "epochs=800, 기울기1=2.3653, 기울기2=2.5845, 절편=71.9160\n",
      "epochs=900, 기울기1=2.1297, 기울기2=2.5032, 절편=73.5333\n",
      "epochs=1000, 기울기1=1.9583, 기울기2=2.4440, 절편=74.7103\n",
      "epochs=1100, 기울기1=1.8336, 기울기2=2.4009, 절편=75.5670\n",
      "epochs=1200, 기울기1=1.7428, 기울기2=2.3695, 절편=76.1904\n",
      "epochs=1300, 기울기1=1.6767, 기울기2=2.3467, 절편=76.6441\n",
      "epochs=1400, 기울기1=1.6286, 기울기2=2.3301, 절편=76.9743\n",
      "epochs=1500, 기울기1=1.5936, 기울기2=2.3180, 절편=77.2146\n",
      "epochs=1600, 기울기1=1.5681, 기울기2=2.3092, 절편=77.3895\n",
      "epochs=1700, 기울기1=1.5496, 기울기2=2.3028, 절편=77.5168\n",
      "epochs=1800, 기울기1=1.5361, 기울기2=2.2982, 절편=77.6095\n",
      "epochs=1900, 기울기1=1.5263, 기울기2=2.2948, 절편=77.6769\n",
      "epochs=2000, 기울기1=1.5191, 기울기2=2.2923, 절편=77.7260\n"
     ]
    }
   ],
   "source": [
    "x1 = np.array([2, 4, 6, 8])\n",
    "x2 = np.array([0, 4, 2, 3])\n",
    "y = np.array([81, 93, 91, 97])\n",
    "\n",
    "a1, a2, b = 0, 0, 0\n",
    "\n",
    "epochs = 2001\n",
    "\n",
    "learning_rate = 0.01\n",
    "\n",
    "n = len(x1)\n",
    "\n",
    "for i in range(epochs):\n",
    "    y_pred = a1*x1 + a2*x2 + b\n",
    "    error = y - y_pred\n",
    "\n",
    "    a1_diff = (2/n)*sum(-x1*(error))\n",
    "    a2_diff = (2/n)*sum(-x2*(error))\n",
    "    b_diff = (2/n)*sum(-(error))\n",
    "\n",
    "    a1 = a1 - learning_rate * a1_diff\n",
    "    a2 = a2 - learning_rate * a2_diff\n",
    "    b = b - learning_rate*b_diff\n",
    "\n",
    "    if i % 100 == 0:\n",
    "        print(\"epochs=%.f, 기울기1=%.04f, 기울기2=%.04f, 절편=%.04f\" % (i, a1, a2, b))"
   ]
  },
  {
   "cell_type": "code",
   "execution_count": 83,
   "metadata": {},
   "outputs": [
    {
     "name": "stdout",
     "output_type": "stream",
     "text": [
      "epochs=0, 기울기1=9.2800, 기울기2=4.2250, 절편=1.8100\n",
      "epochs=100, 기울기1=9.5110, 기울기2=5.0270, 절편=22.9205\n",
      "epochs=200, 기울기1=7.3238, 기울기2=4.2950, 절편=37.8751\n",
      "epochs=300, 기울기1=5.7381, 기울기2=3.7489, 절편=48.7589\n",
      "epochs=400, 기울기1=4.5844, 기울기2=3.3507, 절편=56.6800\n",
      "epochs=500, 기울기1=3.7447, 기울기2=3.0608, 절편=62.4448\n",
      "epochs=600, 기울기1=3.1337, 기울기2=2.8498, 절편=66.6404\n",
      "epochs=700, 기울기1=2.6890, 기울기2=2.6962, 절편=69.6938\n",
      "epochs=800, 기울기1=2.3653, 기울기2=2.5845, 절편=71.9160\n",
      "epochs=900, 기울기1=2.1297, 기울기2=2.5032, 절편=73.5333\n",
      "epochs=1000, 기울기1=1.9583, 기울기2=2.4440, 절편=74.7103\n",
      "epochs=1100, 기울기1=1.8336, 기울기2=2.4009, 절편=75.5670\n",
      "epochs=1200, 기울기1=1.7428, 기울기2=2.3695, 절편=76.1904\n",
      "epochs=1300, 기울기1=1.6767, 기울기2=2.3467, 절편=76.6441\n",
      "epochs=1400, 기울기1=1.6286, 기울기2=2.3301, 절편=76.9743\n",
      "epochs=1500, 기울기1=1.5936, 기울기2=2.3180, 절편=77.2146\n",
      "epochs=1600, 기울기1=1.5681, 기울기2=2.3092, 절편=77.3895\n",
      "epochs=1700, 기울기1=1.5496, 기울기2=2.3028, 절편=77.5168\n",
      "epochs=1800, 기울기1=1.5361, 기울기2=2.2982, 절편=77.6095\n",
      "epochs=1900, 기울기1=1.5263, 기울기2=2.2948, 절편=77.6769\n",
      "epochs=2000, 기울기1=1.5191, 기울기2=2.2923, 절편=77.7260\n",
      "epochs=2100, 기울기1=1.5139, 기울기2=2.2905, 절편=77.7617\n",
      "epochs=2200, 기울기1=1.5101, 기울기2=2.2892, 절편=77.7877\n",
      "epochs=2300, 기울기1=1.5074, 기울기2=2.2883, 절편=77.8066\n",
      "epochs=2400, 기울기1=1.5054, 기울기2=2.2876, 절편=77.8203\n",
      "epochs=2500, 기울기1=1.5039, 기울기2=2.2871, 절편=77.8304\n",
      "epochs=2600, 기울기1=1.5028, 기울기2=2.2867, 절편=77.8376\n",
      "epochs=2700, 기울기1=1.5021, 기울기2=2.2864, 절편=77.8430\n",
      "epochs=2800, 기울기1=1.5015, 기울기2=2.2862, 절편=77.8468\n",
      "epochs=2900, 기울기1=1.5011, 기울기2=2.2861, 절편=77.8496\n",
      "epochs=3000, 기울기1=1.5008, 기울기2=2.2860, 절편=77.8517\n",
      "epochs=3100, 기울기1=1.5006, 기울기2=2.2859, 절편=77.8532\n",
      "epochs=3200, 기울기1=1.5004, 기울기2=2.2859, 절편=77.8542\n",
      "epochs=3300, 기울기1=1.5003, 기울기2=2.2858, 절편=77.8550\n",
      "epochs=3400, 기울기1=1.5002, 기울기2=2.2858, 절편=77.8556\n",
      "epochs=3500, 기울기1=1.5002, 기울기2=2.2858, 절편=77.8560\n",
      "epochs=3600, 기울기1=1.5001, 기울기2=2.2858, 절편=77.8563\n",
      "epochs=3700, 기울기1=1.5001, 기울기2=2.2857, 절편=77.8566\n",
      "epochs=3800, 기울기1=1.5001, 기울기2=2.2857, 절편=77.8567\n",
      "epochs=3900, 기울기1=1.5000, 기울기2=2.2857, 절편=77.8568\n",
      "epochs=4000, 기울기1=1.5000, 기울기2=2.2857, 절편=77.8569\n",
      "epochs=4100, 기울기1=1.5000, 기울기2=2.2857, 절편=77.8570\n",
      "epochs=4200, 기울기1=1.5000, 기울기2=2.2857, 절편=77.8570\n",
      "epochs=4300, 기울기1=1.5000, 기울기2=2.2857, 절편=77.8571\n"
     ]
    }
   ],
   "source": [
    "x1 = np.array([2, 4, 6, 8])\n",
    "x2 = np.array([0, 4, 2, 3])\n",
    "y = np.array([81, 93, 91, 97])\n",
    "\n",
    "a1, a2, b = 0, 0, 0\n",
    "\n",
    "epochs = 4301\n",
    "\n",
    "learning_rate = 0.01\n",
    "\n",
    "n = len(x1)\n",
    "\n",
    "for i in range(epochs):\n",
    "    y_pred = a1*x1 + a2*x2 + b\n",
    "    error = y - y_pred\n",
    "\n",
    "    a1_diff = (2/n)*sum(-x1*(error))\n",
    "    a2_diff = (2/n)*sum(-x2*(error))\n",
    "    b_diff = (2/n)*sum(-(error))\n",
    "\n",
    "    a1 = a1 - learning_rate * a1_diff\n",
    "    a2 = a2 - learning_rate * a2_diff\n",
    "    b = b - learning_rate*b_diff\n",
    "\n",
    "    if i % 100 == 0:\n",
    "        print(\"epochs=%.f, 기울기1=%.04f, 기울기2=%.04f, 절편=%.04f\" % (i, a1, a2, b))"
   ]
  },
  {
   "cell_type": "code",
   "execution_count": 84,
   "metadata": {},
   "outputs": [
    {
     "name": "stdout",
     "output_type": "stream",
     "text": [
      "epochs=0, 기울기1=9.2800, 기울기2=4.2250, 절편=1.8100\n",
      "epochs=100, 기울기1=9.5110, 기울기2=5.0270, 절편=22.9205\n",
      "epochs=200, 기울기1=7.3238, 기울기2=4.2950, 절편=37.8751\n",
      "epochs=300, 기울기1=5.7381, 기울기2=3.7489, 절편=48.7589\n",
      "epochs=400, 기울기1=4.5844, 기울기2=3.3507, 절편=56.6800\n",
      "epochs=500, 기울기1=3.7447, 기울기2=3.0608, 절편=62.4448\n",
      "epochs=600, 기울기1=3.1337, 기울기2=2.8498, 절편=66.6404\n",
      "epochs=700, 기울기1=2.6890, 기울기2=2.6962, 절편=69.6938\n",
      "epochs=800, 기울기1=2.3653, 기울기2=2.5845, 절편=71.9160\n",
      "epochs=900, 기울기1=2.1297, 기울기2=2.5032, 절편=73.5333\n",
      "epochs=1000, 기울기1=1.9583, 기울기2=2.4440, 절편=74.7103\n",
      "epochs=1100, 기울기1=1.8336, 기울기2=2.4009, 절편=75.5670\n",
      "epochs=1200, 기울기1=1.7428, 기울기2=2.3695, 절편=76.1904\n",
      "epochs=1300, 기울기1=1.6767, 기울기2=2.3467, 절편=76.6441\n",
      "epochs=1400, 기울기1=1.6286, 기울기2=2.3301, 절편=76.9743\n",
      "epochs=1500, 기울기1=1.5936, 기울기2=2.3180, 절편=77.2146\n",
      "epochs=1600, 기울기1=1.5681, 기울기2=2.3092, 절편=77.3895\n",
      "epochs=1700, 기울기1=1.5496, 기울기2=2.3028, 절편=77.5168\n",
      "epochs=1800, 기울기1=1.5361, 기울기2=2.2982, 절편=77.6095\n",
      "epochs=1900, 기울기1=1.5263, 기울기2=2.2948, 절편=77.6769\n",
      "epochs=2000, 기울기1=1.5191, 기울기2=2.2923, 절편=77.7260\n",
      "epochs=2100, 기울기1=1.5139, 기울기2=2.2905, 절편=77.7617\n",
      "epochs=2200, 기울기1=1.5101, 기울기2=2.2892, 절편=77.7877\n",
      "epochs=2300, 기울기1=1.5074, 기울기2=2.2883, 절편=77.8066\n",
      "epochs=2400, 기울기1=1.5054, 기울기2=2.2876, 절편=77.8203\n",
      "epochs=2500, 기울기1=1.5039, 기울기2=2.2871, 절편=77.8304\n",
      "epochs=2600, 기울기1=1.5028, 기울기2=2.2867, 절편=77.8376\n",
      "epochs=2700, 기울기1=1.5021, 기울기2=2.2864, 절편=77.8430\n",
      "epochs=2800, 기울기1=1.5015, 기울기2=2.2862, 절편=77.8468\n",
      "epochs=2900, 기울기1=1.5011, 기울기2=2.2861, 절편=77.8496\n",
      "epochs=3000, 기울기1=1.5008, 기울기2=2.2860, 절편=77.8517\n",
      "epochs=3100, 기울기1=1.5006, 기울기2=2.2859, 절편=77.8532\n",
      "epochs=3200, 기울기1=1.5004, 기울기2=2.2859, 절편=77.8542\n",
      "epochs=3300, 기울기1=1.5003, 기울기2=2.2858, 절편=77.8550\n",
      "epochs=3400, 기울기1=1.5002, 기울기2=2.2858, 절편=77.8556\n",
      "epochs=3500, 기울기1=1.5002, 기울기2=2.2858, 절편=77.8560\n",
      "epochs=3600, 기울기1=1.5001, 기울기2=2.2858, 절편=77.8563\n",
      "epochs=3700, 기울기1=1.5001, 기울기2=2.2857, 절편=77.8566\n",
      "epochs=3800, 기울기1=1.5001, 기울기2=2.2857, 절편=77.8567\n",
      "epochs=3900, 기울기1=1.5000, 기울기2=2.2857, 절편=77.8568\n",
      "epochs=4000, 기울기1=1.5000, 기울기2=2.2857, 절편=77.8569\n",
      "epochs=4100, 기울기1=1.5000, 기울기2=2.2857, 절편=77.8570\n",
      "epochs=4200, 기울기1=1.5000, 기울기2=2.2857, 절편=77.8570\n",
      "epochs=4300, 기울기1=1.5000, 기울기2=2.2857, 절편=77.8571\n",
      "epochs=4400, 기울기1=1.5000, 기울기2=2.2857, 절편=77.8571\n",
      "epochs=4500, 기울기1=1.5000, 기울기2=2.2857, 절편=77.8571\n",
      "epochs=4600, 기울기1=1.5000, 기울기2=2.2857, 절편=77.8571\n",
      "epochs=4700, 기울기1=1.5000, 기울기2=2.2857, 절편=77.8571\n",
      "epochs=4800, 기울기1=1.5000, 기울기2=2.2857, 절편=77.8571\n",
      "epochs=4900, 기울기1=1.5000, 기울기2=2.2857, 절편=77.8571\n",
      "epochs=5000, 기울기1=1.5000, 기울기2=2.2857, 절편=77.8571\n"
     ]
    }
   ],
   "source": [
    "x1 = np.array([2, 4, 6, 8])\n",
    "x2 = np.array([0, 4, 2, 3])\n",
    "y = np.array([81, 93, 91, 97])\n",
    "\n",
    "a1, a2, b = 0, 0, 0\n",
    "\n",
    "epochs = 5001\n",
    "\n",
    "learning_rate = 0.01\n",
    "\n",
    "n = len(x1)\n",
    "\n",
    "for i in range(epochs):\n",
    "    y_pred = a1*x1 + a2*x2 + b\n",
    "    error = y - y_pred\n",
    "\n",
    "    a1_diff = (2/n)*sum(-x1*(error))\n",
    "    a2_diff = (2/n)*sum(-x2*(error))\n",
    "    b_diff = (2/n)*sum(-(error))\n",
    "\n",
    "    a1 = a1 - learning_rate * a1_diff\n",
    "    a2 = a2 - learning_rate * a2_diff\n",
    "    b = b - learning_rate*b_diff\n",
    "\n",
    "    if i % 100 == 0:\n",
    "        print(\"epochs=%.f, 기울기1=%.04f, 기울기2=%.04f, 절편=%.04f\" % (i, a1, a2, b))"
   ]
  },
  {
   "cell_type": "code",
   "execution_count": 85,
   "metadata": {},
   "outputs": [],
   "source": [
    "# y = 1.5*x1 + 2.2857*x2 +77.8571"
   ]
  },
  {
   "cell_type": "code",
   "execution_count": 65,
   "metadata": {},
   "outputs": [],
   "source": [
    "# 텐서플로에서 실행하는 선형 회귀, 다중 선형 회귀 모델"
   ]
  },
  {
   "cell_type": "code",
   "execution_count": 66,
   "metadata": {},
   "outputs": [],
   "source": [
    "import numpy as np\n",
    "import matplotlib.pyplot as plt\n",
    "\n",
    "# 텐서플로의 케라스 API에서 필요한 함수들을 불러 옵니다.\n",
    "from tensorflow.keras.models import Sequential\n",
    "from tensorflow.keras.layers import Dense"
   ]
  },
  {
   "cell_type": "code",
   "execution_count": 67,
   "metadata": {},
   "outputs": [],
   "source": [
    "x = np.array([2, 4, 6, 8])\n",
    "y = np.array([81, 93, 91, 97])"
   ]
  },
  {
   "cell_type": "code",
   "execution_count": 68,
   "metadata": {},
   "outputs": [],
   "source": [
    "model = Sequential()"
   ]
  },
  {
   "cell_type": "code",
   "execution_count": 69,
   "metadata": {},
   "outputs": [
    {
     "ename": "TypeError",
     "evalue": "__init__() missing 1 required positional argument: 'units'",
     "output_type": "error",
     "traceback": [
      "\u001b[1;31m---------------------------------------------------------------------------\u001b[0m",
      "\u001b[1;31mTypeError\u001b[0m                                 Traceback (most recent call last)",
      "Cell \u001b[1;32mIn[69], line 1\u001b[0m\n\u001b[1;32m----> 1\u001b[0m model\u001b[38;5;241m.\u001b[39madd(\u001b[43mDense\u001b[49m\u001b[43m(\u001b[49m\u001b[43m)\u001b[49m)\n",
      "File \u001b[1;32mc:\\ProgramData\\anaconda3\\envs\\ai2\\lib\\site-packages\\keras\\src\\dtensor\\utils.py:96\u001b[0m, in \u001b[0;36mallow_initializer_layout.<locals>._wrap_function\u001b[1;34m(layer_instance, *args, **kwargs)\u001b[0m\n\u001b[0;32m     93\u001b[0m         \u001b[38;5;28;01mif\u001b[39;00m layout:\n\u001b[0;32m     94\u001b[0m             layout_args[variable_name \u001b[38;5;241m+\u001b[39m \u001b[38;5;124m\"\u001b[39m\u001b[38;5;124m_layout\u001b[39m\u001b[38;5;124m\"\u001b[39m] \u001b[38;5;241m=\u001b[39m layout\n\u001b[1;32m---> 96\u001b[0m \u001b[43minit_method\u001b[49m\u001b[43m(\u001b[49m\u001b[43mlayer_instance\u001b[49m\u001b[43m,\u001b[49m\u001b[43m \u001b[49m\u001b[38;5;241;43m*\u001b[39;49m\u001b[43margs\u001b[49m\u001b[43m,\u001b[49m\u001b[43m \u001b[49m\u001b[38;5;241;43m*\u001b[39;49m\u001b[38;5;241;43m*\u001b[39;49m\u001b[43mkwargs\u001b[49m\u001b[43m)\u001b[49m\n\u001b[0;32m     98\u001b[0m \u001b[38;5;66;03m# Inject the layout parameter after the invocation of __init__()\u001b[39;00m\n\u001b[0;32m     99\u001b[0m \u001b[38;5;28;01mfor\u001b[39;00m layout_param_name, layout \u001b[38;5;129;01min\u001b[39;00m layout_args\u001b[38;5;241m.\u001b[39mitems():\n",
      "\u001b[1;31mTypeError\u001b[0m: __init__() missing 1 required positional argument: 'units'"
     ]
    }
   ],
   "source": [
    "model.add(Dense())"
   ]
  }
 ],
 "metadata": {
  "kernelspec": {
   "display_name": "Python 3",
   "language": "python",
   "name": "python3"
  },
  "language_info": {
   "codemirror_mode": {
    "name": "ipython",
    "version": 3
   },
   "file_extension": ".py",
   "mimetype": "text/x-python",
   "name": "python",
   "nbconvert_exporter": "python",
   "pygments_lexer": "ipython3",
   "version": "3.8.19"
  }
 },
 "nbformat": 4,
 "nbformat_minor": 2
}
