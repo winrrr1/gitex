{
  "cells": [
    {
      "cell_type": "markdown",
      "metadata": {
        "id": "LlS4gyYqJVpn"
      },
      "source": [
        "# 로지스틱 회귀"
      ]
    },
    {
      "cell_type": "markdown",
      "metadata": {
        "id": "m9MHDgx2JVpv"
      },
      "source": [
        "<table align=\"left\">\n",
        "  <td>\n",
        "    <a target=\"_blank\" href=\"https://colab.research.google.com/github/rickiepark/hg-mldl/blob/master/4-1.ipynb\"><img src=\"https://www.tensorflow.org/images/colab_logo_32px.png\" />구글 코랩에서 실행하기</a>\n",
        "  </td>\n",
        "</table>"
      ]
    },
    {
      "cell_type": "markdown",
      "metadata": {
        "id": "tQBDVUjBbIsL"
      },
      "source": [
        "## 럭키백의 확률"
      ]
    },
    {
      "cell_type": "markdown",
      "metadata": {
        "id": "ILi_LPl9JVpw"
      },
      "source": [
        "### 데이터 준비하기"
      ]
    },
    {
      "cell_type": "code",
      "execution_count": 2,
      "metadata": {
        "colab": {
          "base_uri": "https://localhost:8080/",
          "height": 206
        },
        "id": "Mba6QeEmLn3r",
        "outputId": "752ed0d7-c1cf-4dea-9baa-7953bfa0fbf3"
      },
      "outputs": [
        {
          "data": {
            "text/html": [
              "<div>\n",
              "<style scoped>\n",
              "    .dataframe tbody tr th:only-of-type {\n",
              "        vertical-align: middle;\n",
              "    }\n",
              "\n",
              "    .dataframe tbody tr th {\n",
              "        vertical-align: top;\n",
              "    }\n",
              "\n",
              "    .dataframe thead th {\n",
              "        text-align: right;\n",
              "    }\n",
              "</style>\n",
              "<table border=\"1\" class=\"dataframe\">\n",
              "  <thead>\n",
              "    <tr style=\"text-align: right;\">\n",
              "      <th></th>\n",
              "      <th>Species</th>\n",
              "      <th>Weight</th>\n",
              "      <th>Length</th>\n",
              "      <th>Diagonal</th>\n",
              "      <th>Height</th>\n",
              "      <th>Width</th>\n",
              "    </tr>\n",
              "  </thead>\n",
              "  <tbody>\n",
              "    <tr>\n",
              "      <th>0</th>\n",
              "      <td>Bream</td>\n",
              "      <td>242.0</td>\n",
              "      <td>25.4</td>\n",
              "      <td>30.0</td>\n",
              "      <td>11.5200</td>\n",
              "      <td>4.0200</td>\n",
              "    </tr>\n",
              "    <tr>\n",
              "      <th>1</th>\n",
              "      <td>Bream</td>\n",
              "      <td>290.0</td>\n",
              "      <td>26.3</td>\n",
              "      <td>31.2</td>\n",
              "      <td>12.4800</td>\n",
              "      <td>4.3056</td>\n",
              "    </tr>\n",
              "    <tr>\n",
              "      <th>2</th>\n",
              "      <td>Bream</td>\n",
              "      <td>340.0</td>\n",
              "      <td>26.5</td>\n",
              "      <td>31.1</td>\n",
              "      <td>12.3778</td>\n",
              "      <td>4.6961</td>\n",
              "    </tr>\n",
              "    <tr>\n",
              "      <th>3</th>\n",
              "      <td>Bream</td>\n",
              "      <td>363.0</td>\n",
              "      <td>29.0</td>\n",
              "      <td>33.5</td>\n",
              "      <td>12.7300</td>\n",
              "      <td>4.4555</td>\n",
              "    </tr>\n",
              "    <tr>\n",
              "      <th>4</th>\n",
              "      <td>Bream</td>\n",
              "      <td>430.0</td>\n",
              "      <td>29.0</td>\n",
              "      <td>34.0</td>\n",
              "      <td>12.4440</td>\n",
              "      <td>5.1340</td>\n",
              "    </tr>\n",
              "  </tbody>\n",
              "</table>\n",
              "</div>"
            ],
            "text/plain": [
              "  Species  Weight  Length  Diagonal   Height   Width\n",
              "0   Bream   242.0    25.4      30.0  11.5200  4.0200\n",
              "1   Bream   290.0    26.3      31.2  12.4800  4.3056\n",
              "2   Bream   340.0    26.5      31.1  12.3778  4.6961\n",
              "3   Bream   363.0    29.0      33.5  12.7300  4.4555\n",
              "4   Bream   430.0    29.0      34.0  12.4440  5.1340"
            ]
          },
          "execution_count": 2,
          "metadata": {},
          "output_type": "execute_result"
        }
      ],
      "source": [
        "import pandas as pd\n",
        "\n",
        "fish = pd.read_csv('https://bit.ly/fish_csv_data')\n",
        "fish.head()"
      ]
    },
    {
      "cell_type": "code",
      "execution_count": 4,
      "metadata": {
        "colab": {
          "base_uri": "https://localhost:8080/"
        },
        "id": "UWJWlRCHVWUg",
        "outputId": "3ce7ab01-0ab1-45eb-ddce-c0a7378f5220"
      },
      "outputs": [
        {
          "name": "stdout",
          "output_type": "stream",
          "text": [
            "['Bream' 'Roach' 'Whitefish' 'Parkki' 'Perch' 'Pike' 'Smelt']\n"
          ]
        }
      ],
      "source": [
        "# 'Species' 열에서 고유한 값들을 추출하여 출력합니다\n",
        "# pd.unique() 함수는 주어진 열에서 중복을 제거한 고유한 값들의 배열을 반환합니다\n",
        "print(pd.unique(fish['Species']))"
      ]
    },
    {
      "cell_type": "code",
      "execution_count": 5,
      "metadata": {
        "id": "8JjMXc9wVE7C"
      },
      "outputs": [],
      "source": [
        "import pandas as pd  # Pandas 라이브러리에서 데이터 분석을 위한 모듈을 불러옵니다\n",
        "\n",
        "# 'fish' DataFrame에서 'Weight', 'Length', 'Diagonal', 'Height', 'Width' 열만 선택하여 새로운 DataFrame을 만듭니다\n",
        "# .to_numpy() 메서드를 사용하여 이 DataFrame을 NumPy 배열로 변환합니다\n",
        "fish_input = fish[['Weight', 'Length', 'Diagonal', 'Height', 'Width']].to_numpy()\n"
      ]
    },
    {
      "cell_type": "code",
      "execution_count": 6,
      "metadata": {
        "colab": {
          "base_uri": "https://localhost:8080/"
        },
        "id": "1T6C1d5iMzb8",
        "outputId": "fbe78230-14cd-4327-da8f-377e72774930",
        "scrolled": true
      },
      "outputs": [
        {
          "name": "stdout",
          "output_type": "stream",
          "text": [
            "[[242.      25.4     30.      11.52     4.02  ]\n",
            " [290.      26.3     31.2     12.48     4.3056]\n",
            " [340.      26.5     31.1     12.3778   4.6961]\n",
            " [363.      29.      33.5     12.73     4.4555]\n",
            " [430.      29.      34.      12.444    5.134 ]]\n"
          ]
        }
      ],
      "source": [
        "print(fish_input[:5])"
      ]
    },
    {
      "cell_type": "code",
      "execution_count": 7,
      "metadata": {
        "id": "aB2oHhojTfWE"
      },
      "outputs": [],
      "source": [
        "fish_target = fish['Species'].to_numpy()"
      ]
    },
    {
      "cell_type": "code",
      "execution_count": 8,
      "metadata": {
        "id": "dkllezAJW63K"
      },
      "outputs": [],
      "source": [
        "from sklearn.model_selection import train_test_split\n",
        "\n",
        "train_input, test_input, train_target, test_target = train_test_split(\n",
        "    fish_input, fish_target, random_state=42)"
      ]
    },
    {
      "cell_type": "code",
      "execution_count": 9,
      "metadata": {
        "id": "H0ujq0BjXpfp"
      },
      "outputs": [],
      "source": [
        "from sklearn.preprocessing import StandardScaler  # Scikit-learn에서 표준화(정규화)를 위한 StandardScaler 클래스를 불러옵니다\n",
        "\n",
        "# StandardScaler 객체를 생성합니다\n",
        "# StandardScaler는 데이터를 표준화하여 평균이 0, 표준편차가 1이 되도록 변환합니다\n",
        "ss = StandardScaler()\n",
        "\n",
        "# 훈련 데이터를 사용하여 StandardScaler를 학습합니다\n",
        "# 이 단계에서 훈련 데이터의 평균과 표준편차를 계산하여 나중에 변환에 사용합니다\n",
        "ss.fit(train_input)\n",
        "\n",
        "# 훈련 데이터를 표준화하여 새로운 배열을 생성합니다\n",
        "# 각 특성의 평균이 0, 표준편차가 1이 되도록 변환합니다\n",
        "train_scaled = ss.transform(train_input)\n",
        "\n",
        "# 테스트 데이터도 같은 방식으로 표준화합니다\n",
        "# 훈련 데이터에서 계산한 평균과 표준편차를 사용하여 테스트 데이터를 변환합니다\n",
        "test_scaled = ss.transform(test_input)\n"
      ]
    },
    {
      "cell_type": "markdown",
      "metadata": {
        "id": "oAxk-V5kQcgc"
      },
      "source": [
        "### k-최근접 이웃 분류기의 확률 예측"
      ]
    },
    {
      "cell_type": "code",
      "execution_count": 19,
      "metadata": {
        "colab": {
          "base_uri": "https://localhost:8080/"
        },
        "id": "BYWTNPOdXOfr",
        "outputId": "4cd37f3b-5241-447a-a9f2-5ccfa71218b0"
      },
      "outputs": [
        {
          "name": "stdout",
          "output_type": "stream",
          "text": [
            "0.8907563025210085\n",
            "0.85\n"
          ]
        }
      ],
      "source": [
        "from sklearn.neighbors import KNeighborsClassifier  # Scikit-learn에서 K-최근접 이웃 분류기 클래스를 불러옵니다\n",
        "\n",
        "# K-최근접 이웃 분류기 모델 객체를 생성합니다\n",
        "# n_neighbors=3은 최근접 이웃의 개수를 3으로 설정합니다\n",
        "kn = KNeighborsClassifier(n_neighbors=3)\n",
        "\n",
        "# 표준화된 훈련 데이터(train_scaled)와 훈련 타겟 데이터(train_target)를 사용하여 모델을 학습합니다\n",
        "kn.fit(train_scaled, train_target)\n",
        "\n",
        "# 훈련 데이터에 대한 모델의 정확도(정확한 예측 비율)를 출력합니다\n",
        "print(kn.score(train_scaled, train_target))\n",
        "\n",
        "# 테스트 데이터에 대한 모델의 정확도(정확한 예측 비율)를 출력합니다\n",
        "print(kn.score(test_scaled, test_target))\n"
      ]
    },
    {
      "cell_type": "code",
      "execution_count": 20,
      "metadata": {
        "colab": {
          "base_uri": "https://localhost:8080/"
        },
        "id": "a879-O42RhFO",
        "outputId": "d7fffbf6-fb8d-420e-8000-56ad09c65c91"
      },
      "outputs": [
        {
          "name": "stdout",
          "output_type": "stream",
          "text": [
            "['Bream' 'Parkki' 'Perch' 'Pike' 'Roach' 'Smelt' 'Whitefish']\n"
          ]
        }
      ],
      "source": [
        "# 학습된 K-최근접 이웃 분류기 모델의 클래스 레이블을 출력합니다\n",
        "# kn.classes_는 모델이 인식하는 모든 클래스 레이블을 배열 형태로 반환합니다\n",
        "print(kn.classes_)\n"
      ]
    },
    {
      "cell_type": "code",
      "execution_count": 22,
      "metadata": {
        "colab": {
          "base_uri": "https://localhost:8080/"
        },
        "id": "EucmtF8HVOS_",
        "outputId": "a803d3da-7663-481d-88ef-24ddea427451"
      },
      "outputs": [
        {
          "name": "stdout",
          "output_type": "stream",
          "text": [
            "['Perch' 'Smelt' 'Pike' 'Perch' 'Perch']\n"
          ]
        }
      ],
      "source": [
        "# 테스트 데이터의 첫 5개 샘플에 대해 모델이 예측한 클래스 레이블을 출력합니다\n",
        "# test_scaled[:5]는 테스트 데이터의 첫 5개 샘플을 선택합니다\n",
        "# kn.predict() 메서드는 주어진 데이터에 대해 모델이 예측한 클래스 레이블을 반환합니다\n",
        "print(kn.predict(test_scaled[:5]))\n"
      ]
    },
    {
      "cell_type": "code",
      "execution_count": 27,
      "metadata": {
        "colab": {
          "base_uri": "https://localhost:8080/"
        },
        "id": "OSDr8WSKXbUa",
        "outputId": "ecc49bd9-8a45-43b9-a9a2-19329f5c6bb8"
      },
      "outputs": [
        {
          "name": "stdout",
          "output_type": "stream",
          "text": [
            "[[0.     0.     1.     0.     0.     0.     0.    ]\n",
            " [0.     0.     0.     0.     0.     1.     0.    ]\n",
            " [0.     0.     0.     1.     0.     0.     0.    ]\n",
            " [0.     0.     0.6667 0.     0.3333 0.     0.    ]\n",
            " [0.     0.     0.6667 0.     0.3333 0.     0.    ]]\n"
          ]
        }
      ],
      "source": [
        "import numpy as np  # NumPy 라이브러리를 불러옵니다. 수학적 연산 및 배열 작업을 위한 도구입니다\n",
        "\n",
        "# K-최근접 이웃 분류기 모델을 사용하여 테스트 데이터의 첫 5개 샘플에 대한 예측 확률을 계산합니다\n",
        "# kn.predict_proba() 메서드는 각 클래스에 대한 확률을 반환합니다\n",
        "proba = kn.predict_proba(test_scaled[:5])\n",
        "\n",
        "# np.round() 함수는 배열의 값을 지정된 소수점 자리까지 반올림합니다\n",
        "print(np.round(proba, decimals=4)) # decimals = 4 소수점 4자리까지 출력\n"
      ]
    },
    {
      "cell_type": "code",
      "execution_count": 29,
      "metadata": {
        "colab": {
          "base_uri": "https://localhost:8080/"
        },
        "id": "Hk-ywsfKkf7t",
        "outputId": "51bc04ca-95f0-480f-8558-3fce405c8756"
      },
      "outputs": [
        {
          "name": "stdout",
          "output_type": "stream",
          "text": [
            "[['Roach' 'Perch' 'Perch']]\n"
          ]
        }
      ],
      "source": [
        "# K-최근접 이웃 분류기 모델을 사용하여 테스트 데이터의 4번째 샘플(test_scaled[3:4])에 대한 최근접 이웃을 찾습니다\n",
        "# kn.kneighbors() 메서드는 입력 샘플에 대해 가장 가까운 이웃의 거리와 인덱스를 반환합니다\n",
        "distances, indexes = kn.kneighbors(test_scaled[3:4])\n",
        "\n",
        "# 찾은 최근접 이웃의 인덱스를 사용하여 훈련 데이터에서 해당 샘플의 타겟 값을 출력합니다\n",
        "# train_target[indexes]는 최근접 이웃 인덱스를 사용하여 훈련 타겟 데이터를 인덱싱하여 이웃 샘플의 타겟 값을 가져옵니다\n",
        "print(train_target[indexes])"
      ]
    },
    {
      "cell_type": "markdown",
      "metadata": {
        "id": "Q9_wuI_0tEqL"
      },
      "source": [
        "## 로지스틱 회귀"
      ]
    },
    {
      "cell_type": "code",
      "execution_count": 33,
      "metadata": {
        "colab": {
          "base_uri": "https://localhost:8080/",
          "height": 449
        },
        "id": "8rdDSaZ5uji2",
        "outputId": "8ea6c0b2-1965-47df-be28-465fdfc493f1"
      },
      "outputs": [
        {
          "name": "stdout",
          "output_type": "stream",
          "text": [
            "[0.00669285 0.00739154 0.00816257 0.0090133  0.0099518  0.01098694\n",
            " 0.01212843 0.01338692 0.01477403 0.0163025  0.01798621 0.01984031\n",
            " 0.02188127 0.02412702 0.02659699 0.02931223 0.03229546 0.03557119\n",
            " 0.03916572 0.04310725 0.04742587 0.05215356 0.05732418 0.06297336\n",
            " 0.06913842 0.07585818 0.0831727  0.09112296 0.09975049 0.10909682\n",
            " 0.11920292 0.13010847 0.14185106 0.15446527 0.16798161 0.18242552\n",
            " 0.19781611 0.21416502 0.23147522 0.24973989 0.26894142 0.2890505\n",
            " 0.31002552 0.33181223 0.35434369 0.37754067 0.40131234 0.42555748\n",
            " 0.450166   0.47502081 0.5        0.52497919 0.549834   0.57444252\n",
            " 0.59868766 0.62245933 0.64565631 0.66818777 0.68997448 0.7109495\n",
            " 0.73105858 0.75026011 0.76852478 0.78583498 0.80218389 0.81757448\n",
            " 0.83201839 0.84553473 0.85814894 0.86989153 0.88079708 0.89090318\n",
            " 0.90024951 0.90887704 0.9168273  0.92414182 0.93086158 0.93702664\n",
            " 0.94267582 0.94784644 0.95257413 0.95689275 0.96083428 0.96442881\n",
            " 0.96770454 0.97068777 0.97340301 0.97587298 0.97811873 0.98015969\n",
            " 0.98201379 0.9836975  0.98522597 0.98661308 0.98787157 0.98901306\n",
            " 0.9900482  0.9909867  0.99183743 0.99260846]\n"
          ]
        },
        {
          "data": {
            "image/png": "[encoded data removed]",
            "text/plain": [
              "<Figure size 640x480 with 1 Axes>"
            ]
          },
          "metadata": {},
          "output_type": "display_data"
        }
      ],
      "source": [
        "import numpy as np  # NumPy 라이브러리를 불러옵니다. 수학적 연산 및 배열 작업을 위한 도구\n",
        "import matplotlib.pyplot as plt  # Matplotlib 라이브러리에서 시각화 도구\n",
        "\n",
        "# -5에서 5까지 0.1 간격으로 숫자를 생성하여 배열을 만듭니다\n",
        "# np.arange() 함수는 주어진 범위와 간격으로 배열을 생성합니다\n",
        "z = np.arange(-5, 5, 0.1)\n",
        "# print(z)\n",
        "# 시그모이드 함수의 값을 계산합니다\n",
        "# 시그모이드 함수는 입력 값을 0과 1 사이로 변환합니다\n",
        "phi = 1 / (1 + np.exp(-z))\n",
        "print(phi)\n",
        "# 시그모이드 함수의 결과를 z 값에 대해 플로팅합니다\n",
        "plt.plot(z, phi)\n",
        "\n",
        "# x축 레이블을 'z'로 설정합니다\n",
        "plt.xlabel('z')\n",
        "\n",
        "# y축 레이블을 'phi'로 설정합니다\n",
        "plt.ylabel('phi')\n",
        "\n",
        "# 생성된 플롯을 화면에 표시합니다\n",
        "plt.show()\n"
      ]
    },
    {
      "cell_type": "markdown",
      "metadata": {
        "id": "1J6LGKpUJbFE"
      },
      "source": [
        "### 로지스틱 회귀로 이진 분류 수행하기"
      ]
    },
    {
      "cell_type": "code",
      "execution_count": 36,
      "metadata": {
        "colab": {
          "base_uri": "https://localhost:8080/"
        },
        "id": "JeR5cA_fIe24",
        "outputId": "a84389ab-489b-4bac-f99e-1dd86b6a1b1e"
      },
      "outputs": [
        {
          "name": "stdout",
          "output_type": "stream",
          "text": [
            "['A' 'C']\n"
          ]
        }
      ],
      "source": [
        "import numpy as np  # NumPy 라이브러리를 불러옵니다. 수학적 연산 및 배열 작업을 위한 도구입니다\n",
        "\n",
        "# 문자 배열을 생성합니다\n",
        "# 'char_arr'는 문자 요소를 가진 NumPy 배열입니다\n",
        "char_arr = np.array(['A', 'B', 'C', 'D', 'E'])\n",
        "\n",
        "# 불리언 배열을 사용하여 'char_arr'에서 특정 요소를 선택합니다\n",
        "# 불리언 배열 [True, False, True, False, False]에 해당하는 인덱스의 요소만 선택됩니다\n",
        "print(char_arr[[True, False, True, False, False]])\n"
      ]
    },
    {
      "cell_type": "code",
      "execution_count": 37,
      "metadata": {
        "id": "Khxh-3t5-2Tk"
      },
      "outputs": [],
      "source": [
        "# 'train_target' 배열에서 'Bream' 또는 'Smelt'인 샘플의 인덱스를 찾습니다\n",
        "# | (논리적 OR 연산자)를 사용하여 두 조건 중 하나라도 참인 경우를 선택합니다\n",
        "bream_smelt_indexes = (train_target == 'Bream') | (train_target == 'Smelt')\n",
        "\n",
        "# 'train_scaled' 배열에서 'bream_smelt_indexes' 조건을 만족하는 샘플만 선택하여 새로운 배열을 생성합니다\n",
        "# 선택된 샘플들은 'Bream' 또는 'Smelt'인 경우에 해당합니다\n",
        "train_bream_smelt = train_scaled[bream_smelt_indexes]\n",
        "\n",
        "# 'train_target' 배열에서 'bream_smelt_indexes' 조건을 만족하는 타겟 값만 선택하여 새로운 배열을 생성합니다\n",
        "# 선택된 타겟 값들은 'Bream' 또는 'Smelt'인 경우에 해당합니다\n",
        "target_bream_smelt = train_target[bream_smelt_indexes]\n"
      ]
    },
    {
      "cell_type": "code",
      "execution_count": 38,
      "metadata": {
        "colab": {
          "base_uri": "https://localhost:8080/",
          "height": 75
        },
        "id": "jEzP0aeXANra",
        "outputId": "0d636b60-eda6-4ead-c2e2-162dc1c97b06"
      },
      "outputs": [
        {
          "data": {
            "text/html": [
              "<style>#sk-container-id-1 {\n",
              "  /* Definition of color scheme common for light and dark mode */\n",
              "  --sklearn-color-text: black;\n",
              "  --sklearn-color-line: gray;\n",
              "  /* Definition of color scheme for unfitted estimators */\n",
              "  --sklearn-color-unfitted-level-0: #fff5e6;\n",
              "  --sklearn-color-unfitted-level-1: #f6e4d2;\n",
              "  --sklearn-color-unfitted-level-2: #ffe0b3;\n",
              "  --sklearn-color-unfitted-level-3: chocolate;\n",
              "  /* Definition of color scheme for fitted estimators */\n",
              "  --sklearn-color-fitted-level-0: #f0f8ff;\n",
              "  --sklearn-color-fitted-level-1: #d4ebff;\n",
              "  --sklearn-color-fitted-level-2: #b3dbfd;\n",
              "  --sklearn-color-fitted-level-3: cornflowerblue;\n",
              "\n",
              "  /* Specific color for light theme */\n",
              "  --sklearn-color-text-on-default-background: var(--sg-text-color, var(--theme-code-foreground, var(--jp-content-font-color1, black)));\n",
              "  --sklearn-color-background: var(--sg-background-color, var(--theme-background, var(--jp-layout-color0, white)));\n",
              "  --sklearn-color-border-box: var(--sg-text-color, var(--theme-code-foreground, var(--jp-content-font-color1, black)));\n",
              "  --sklearn-color-icon: #696969;\n",
              "\n",
              "  @media (prefers-color-scheme: dark) {\n",
              "    /* Redefinition of color scheme for dark theme */\n",
              "    --sklearn-color-text-on-default-background: var(--sg-text-color, var(--theme-code-foreground, var(--jp-content-font-color1, white)));\n",
              "    --sklearn-color-background: var(--sg-background-color, var(--theme-background, var(--jp-layout-color0, #111)));\n",
              "    --sklearn-color-border-box: var(--sg-text-color, var(--theme-code-foreground, var(--jp-content-font-color1, white)));\n",
              "    --sklearn-color-icon: #878787;\n",
              "  }\n",
              "}\n",
              "\n",
              "#sk-container-id-1 {\n",
              "  color: var(--sklearn-color-text);\n",
              "}\n",
              "\n",
              "#sk-container-id-1 pre {\n",
              "  padding: 0;\n",
              "}\n",
              "\n",
              "#sk-container-id-1 input.sk-hidden--visually {\n",
              "  border: 0;\n",
              "  clip: rect(1px 1px 1px 1px);\n",
              "  clip: rect(1px, 1px, 1px, 1px);\n",
              "  height: 1px;\n",
              "  margin: -1px;\n",
              "  overflow: hidden;\n",
              "  padding: 0;\n",
              "  position: absolute;\n",
              "  width: 1px;\n",
              "}\n",
              "\n",
              "#sk-container-id-1 div.sk-dashed-wrapped {\n",
              "  border: 1px dashed var(--sklearn-color-line);\n",
              "  margin: 0 0.4em 0.5em 0.4em;\n",
              "  box-sizing: border-box;\n",
              "  padding-bottom: 0.4em;\n",
              "  background-color: var(--sklearn-color-background);\n",
              "}\n",
              "\n",
              "#sk-container-id-1 div.sk-container {\n",
              "  /* jupyter's `normalize.less` sets `[hidden] { display: none; }`\n",
              "     but bootstrap.min.css set `[hidden] { display: none !important; }`\n",
              "     so we also need the `!important` here to be able to override the\n",
              "     default hidden behavior on the sphinx rendered scikit-learn.org.\n",
              "     See: https://github.com/scikit-learn/scikit-learn/issues/21755 */\n",
              "  display: inline-block !important;\n",
              "  position: relative;\n",
              "}\n",
              "\n",
              "#sk-container-id-1 div.sk-text-repr-fallback {\n",
              "  display: none;\n",
              "}\n",
              "\n",
              "div.sk-parallel-item,\n",
              "div.sk-serial,\n",
              "div.sk-item {\n",
              "  /* draw centered vertical line to link estimators */\n",
              "  background-image: linear-gradient(var(--sklearn-color-text-on-default-background), var(--sklearn-color-text-on-default-background));\n",
              "  background-size: 2px 100%;\n",
              "  background-repeat: no-repeat;\n",
              "  background-position: center center;\n",
              "}\n",
              "\n",
              "/* Parallel-specific style estimator block */\n",
              "\n",
              "#sk-container-id-1 div.sk-parallel-item::after {\n",
              "  content: \"\";\n",
              "  width: 100%;\n",
              "  border-bottom: 2px solid var(--sklearn-color-text-on-default-background);\n",
              "  flex-grow: 1;\n",
              "}\n",
              "\n",
              "#sk-container-id-1 div.sk-parallel {\n",
              "  display: flex;\n",
              "  align-items: stretch;\n",
              "  justify-content: center;\n",
              "  background-color: var(--sklearn-color-background);\n",
              "  position: relative;\n",
              "}\n",
              "\n",
              "#sk-container-id-1 div.sk-parallel-item {\n",
              "  display: flex;\n",
              "  flex-direction: column;\n",
              "}\n",
              "\n",
              "#sk-container-id-1 div.sk-parallel-item:first-child::after {\n",
              "  align-self: flex-end;\n",
              "  width: 50%;\n",
              "}\n",
              "\n",
              "#sk-container-id-1 div.sk-parallel-item:last-child::after {\n",
              "  align-self: flex-start;\n",
              "  width: 50%;\n",
              "}\n",
              "\n",
              "#sk-container-id-1 div.sk-parallel-item:only-child::after {\n",
              "  width: 0;\n",
              "}\n",
              "\n",
              "/* Serial-specific style estimator block */\n",
              "\n",
              "#sk-container-id-1 div.sk-serial {\n",
              "  display: flex;\n",
              "  flex-direction: column;\n",
              "  align-items: center;\n",
              "  background-color: var(--sklearn-color-background);\n",
              "  padding-right: 1em;\n",
              "  padding-left: 1em;\n",
              "}\n",
              "\n",
              "\n",
              "/* Toggleable style: style used for estimator/Pipeline/ColumnTransformer box that is\n",
              "clickable and can be expanded/collapsed.\n",
              "- Pipeline and ColumnTransformer use this feature and define the default style\n",
              "- Estimators will overwrite some part of the style using the `sk-estimator` class\n",
              "*/\n",
              "\n",
              "/* Pipeline and ColumnTransformer style (default) */\n",
              "\n",
              "#sk-container-id-1 div.sk-toggleable {\n",
              "  /* Default theme specific background. It is overwritten whether we have a\n",
              "  specific estimator or a Pipeline/ColumnTransformer */\n",
              "  background-color: var(--sklearn-color-background);\n",
              "}\n",
              "\n",
              "/* Toggleable label */\n",
              "#sk-container-id-1 label.sk-toggleable__label {\n",
              "  cursor: pointer;\n",
              "  display: block;\n",
              "  width: 100%;\n",
              "  margin-bottom: 0;\n",
              "  padding: 0.5em;\n",
              "  box-sizing: border-box;\n",
              "  text-align: center;\n",
              "}\n",
              "\n",
              "#sk-container-id-1 label.sk-toggleable__label-arrow:before {\n",
              "  /* Arrow on the left of the label */\n",
              "  content: \"▸\";\n",
              "  float: left;\n",
              "  margin-right: 0.25em;\n",
              "  color: var(--sklearn-color-icon);\n",
              "}\n",
              "\n",
              "#sk-container-id-1 label.sk-toggleable__label-arrow:hover:before {\n",
              "  color: var(--sklearn-color-text);\n",
              "}\n",
              "\n",
              "/* Toggleable content - dropdown */\n",
              "\n",
              "#sk-container-id-1 div.sk-toggleable__content {\n",
              "  max-height: 0;\n",
              "  max-width: 0;\n",
              "  overflow: hidden;\n",
              "  text-align: left;\n",
              "  /* unfitted */\n",
              "  background-color: var(--sklearn-color-unfitted-level-0);\n",
              "}\n",
              "\n",
              "#sk-container-id-1 div.sk-toggleable__content.fitted {\n",
              "  /* fitted */\n",
              "  background-color: var(--sklearn-color-fitted-level-0);\n",
              "}\n",
              "\n",
              "#sk-container-id-1 div.sk-toggleable__content pre {\n",
              "  margin: 0.2em;\n",
              "  border-radius: 0.25em;\n",
              "  color: var(--sklearn-color-text);\n",
              "  /* unfitted */\n",
              "  background-color: var(--sklearn-color-unfitted-level-0);\n",
              "}\n",
              "\n",
              "#sk-container-id-1 div.sk-toggleable__content.fitted pre {\n",
              "  /* unfitted */\n",
              "  background-color: var(--sklearn-color-fitted-level-0);\n",
              "}\n",
              "\n",
              "#sk-container-id-1 input.sk-toggleable__control:checked~div.sk-toggleable__content {\n",
              "  /* Expand drop-down */\n",
              "  max-height: 200px;\n",
              "  max-width: 100%;\n",
              "  overflow: auto;\n",
              "}\n",
              "\n",
              "#sk-container-id-1 input.sk-toggleable__control:checked~label.sk-toggleable__label-arrow:before {\n",
              "  content: \"▾\";\n",
              "}\n",
              "\n",
              "/* Pipeline/ColumnTransformer-specific style */\n",
              "\n",
              "#sk-container-id-1 div.sk-label input.sk-toggleable__control:checked~label.sk-toggleable__label {\n",
              "  color: var(--sklearn-color-text);\n",
              "  background-color: var(--sklearn-color-unfitted-level-2);\n",
              "}\n",
              "\n",
              "#sk-container-id-1 div.sk-label.fitted input.sk-toggleable__control:checked~label.sk-toggleable__label {\n",
              "  background-color: var(--sklearn-color-fitted-level-2);\n",
              "}\n",
              "\n",
              "/* Estimator-specific style */\n",
              "\n",
              "/* Colorize estimator box */\n",
              "#sk-container-id-1 div.sk-estimator input.sk-toggleable__control:checked~label.sk-toggleable__label {\n",
              "  /* unfitted */\n",
              "  background-color: var(--sklearn-color-unfitted-level-2);\n",
              "}\n",
              "\n",
              "#sk-container-id-1 div.sk-estimator.fitted input.sk-toggleable__control:checked~label.sk-toggleable__label {\n",
              "  /* fitted */\n",
              "  background-color: var(--sklearn-color-fitted-level-2);\n",
              "}\n",
              "\n",
              "#sk-container-id-1 div.sk-label label.sk-toggleable__label,\n",
              "#sk-container-id-1 div.sk-label label {\n",
              "  /* The background is the default theme color */\n",
              "  color: var(--sklearn-color-text-on-default-background);\n",
              "}\n",
              "\n",
              "/* On hover, darken the color of the background */\n",
              "#sk-container-id-1 div.sk-label:hover label.sk-toggleable__label {\n",
              "  color: var(--sklearn-color-text);\n",
              "  background-color: var(--sklearn-color-unfitted-level-2);\n",
              "}\n",
              "\n",
              "/* Label box, darken color on hover, fitted */\n",
              "#sk-container-id-1 div.sk-label.fitted:hover label.sk-toggleable__label.fitted {\n",
              "  color: var(--sklearn-color-text);\n",
              "  background-color: var(--sklearn-color-fitted-level-2);\n",
              "}\n",
              "\n",
              "/* Estimator label */\n",
              "\n",
              "#sk-container-id-1 div.sk-label label {\n",
              "  font-family: monospace;\n",
              "  font-weight: bold;\n",
              "  display: inline-block;\n",
              "  line-height: 1.2em;\n",
              "}\n",
              "\n",
              "#sk-container-id-1 div.sk-label-container {\n",
              "  text-align: center;\n",
              "}\n",
              "\n",
              "/* Estimator-specific */\n",
              "#sk-container-id-1 div.sk-estimator {\n",
              "  font-family: monospace;\n",
              "  border: 1px dotted var(--sklearn-color-border-box);\n",
              "  border-radius: 0.25em;\n",
              "  box-sizing: border-box;\n",
              "  margin-bottom: 0.5em;\n",
              "  /* unfitted */\n",
              "  background-color: var(--sklearn-color-unfitted-level-0);\n",
              "}\n",
              "\n",
              "#sk-container-id-1 div.sk-estimator.fitted {\n",
              "  /* fitted */\n",
              "  background-color: var(--sklearn-color-fitted-level-0);\n",
              "}\n",
              "\n",
              "/* on hover */\n",
              "#sk-container-id-1 div.sk-estimator:hover {\n",
              "  /* unfitted */\n",
              "  background-color: var(--sklearn-color-unfitted-level-2);\n",
              "}\n",
              "\n",
              "#sk-container-id-1 div.sk-estimator.fitted:hover {\n",
              "  /* fitted */\n",
              "  background-color: var(--sklearn-color-fitted-level-2);\n",
              "}\n",
              "\n",
              "/* Specification for estimator info (e.g. \"i\" and \"?\") */\n",
              "\n",
              "/* Common style for \"i\" and \"?\" */\n",
              "\n",
              ".sk-estimator-doc-link,\n",
              "a:link.sk-estimator-doc-link,\n",
              "a:visited.sk-estimator-doc-link {\n",
              "  float: right;\n",
              "  font-size: smaller;\n",
              "  line-height: 1em;\n",
              "  font-family: monospace;\n",
              "  background-color: var(--sklearn-color-background);\n",
              "  border-radius: 1em;\n",
              "  height: 1em;\n",
              "  width: 1em;\n",
              "  text-decoration: none !important;\n",
              "  margin-left: 1ex;\n",
              "  /* unfitted */\n",
              "  border: var(--sklearn-color-unfitted-level-1) 1pt solid;\n",
              "  color: var(--sklearn-color-unfitted-level-1);\n",
              "}\n",
              "\n",
              ".sk-estimator-doc-link.fitted,\n",
              "a:link.sk-estimator-doc-link.fitted,\n",
              "a:visited.sk-estimator-doc-link.fitted {\n",
              "  /* fitted */\n",
              "  border: var(--sklearn-color-fitted-level-1) 1pt solid;\n",
              "  color: var(--sklearn-color-fitted-level-1);\n",
              "}\n",
              "\n",
              "/* On hover */\n",
              "div.sk-estimator:hover .sk-estimator-doc-link:hover,\n",
              ".sk-estimator-doc-link:hover,\n",
              "div.sk-label-container:hover .sk-estimator-doc-link:hover,\n",
              ".sk-estimator-doc-link:hover {\n",
              "  /* unfitted */\n",
              "  background-color: var(--sklearn-color-unfitted-level-3);\n",
              "  color: var(--sklearn-color-background);\n",
              "  text-decoration: none;\n",
              "}\n",
              "\n",
              "div.sk-estimator.fitted:hover .sk-estimator-doc-link.fitted:hover,\n",
              ".sk-estimator-doc-link.fitted:hover,\n",
              "div.sk-label-container:hover .sk-estimator-doc-link.fitted:hover,\n",
              ".sk-estimator-doc-link.fitted:hover {\n",
              "  /* fitted */\n",
              "  background-color: var(--sklearn-color-fitted-level-3);\n",
              "  color: var(--sklearn-color-background);\n",
              "  text-decoration: none;\n",
              "}\n",
              "\n",
              "/* Span, style for the box shown on hovering the info icon */\n",
              ".sk-estimator-doc-link span {\n",
              "  display: none;\n",
              "  z-index: 9999;\n",
              "  position: relative;\n",
              "  font-weight: normal;\n",
              "  right: .2ex;\n",
              "  padding: .5ex;\n",
              "  margin: .5ex;\n",
              "  width: min-content;\n",
              "  min-width: 20ex;\n",
              "  max-width: 50ex;\n",
              "  color: var(--sklearn-color-text);\n",
              "  box-shadow: 2pt 2pt 4pt #999;\n",
              "  /* unfitted */\n",
              "  background: var(--sklearn-color-unfitted-level-0);\n",
              "  border: .5pt solid var(--sklearn-color-unfitted-level-3);\n",
              "}\n",
              "\n",
              ".sk-estimator-doc-link.fitted span {\n",
              "  /* fitted */\n",
              "  background: var(--sklearn-color-fitted-level-0);\n",
              "  border: var(--sklearn-color-fitted-level-3);\n",
              "}\n",
              "\n",
              ".sk-estimator-doc-link:hover span {\n",
              "  display: block;\n",
              "}\n",
              "\n",
              "/* \"?\"-specific style due to the `<a>` HTML tag */\n",
              "\n",
              "#sk-container-id-1 a.estimator_doc_link {\n",
              "  float: right;\n",
              "  font-size: 1rem;\n",
              "  line-height: 1em;\n",
              "  font-family: monospace;\n",
              "  background-color: var(--sklearn-color-background);\n",
              "  border-radius: 1rem;\n",
              "  height: 1rem;\n",
              "  width: 1rem;\n",
              "  text-decoration: none;\n",
              "  /* unfitted */\n",
              "  color: var(--sklearn-color-unfitted-level-1);\n",
              "  border: var(--sklearn-color-unfitted-level-1) 1pt solid;\n",
              "}\n",
              "\n",
              "#sk-container-id-1 a.estimator_doc_link.fitted {\n",
              "  /* fitted */\n",
              "  border: var(--sklearn-color-fitted-level-1) 1pt solid;\n",
              "  color: var(--sklearn-color-fitted-level-1);\n",
              "}\n",
              "\n",
              "/* On hover */\n",
              "#sk-container-id-1 a.estimator_doc_link:hover {\n",
              "  /* unfitted */\n",
              "  background-color: var(--sklearn-color-unfitted-level-3);\n",
              "  color: var(--sklearn-color-background);\n",
              "  text-decoration: none;\n",
              "}\n",
              "\n",
              "#sk-container-id-1 a.estimator_doc_link.fitted:hover {\n",
              "  /* fitted */\n",
              "  background-color: var(--sklearn-color-fitted-level-3);\n",
              "}\n",
              "</style><div id=\"sk-container-id-1\" class=\"sk-top-container\"><div class=\"sk-text-repr-fallback\"><pre>LogisticRegression()</pre><b>In a Jupyter environment, please rerun this cell to show the HTML representation or trust the notebook. <br />On GitHub, the HTML representation is unable to render, please try loading this page with nbviewer.org.</b></div><div class=\"sk-container\" hidden><div class=\"sk-item\"><div class=\"sk-estimator fitted sk-toggleable\"><input class=\"sk-toggleable__control sk-hidden--visually\" id=\"sk-estimator-id-1\" type=\"checkbox\" checked><label for=\"sk-estimator-id-1\" class=\"sk-toggleable__label fitted sk-toggleable__label-arrow fitted\">&nbsp;&nbsp;LogisticRegression<a class=\"sk-estimator-doc-link fitted\" rel=\"noreferrer\" target=\"_blank\" href=\"https://scikit-learn.org/1.5/modules/generated/sklearn.linear_model.LogisticRegression.html\">?<span>Documentation for LogisticRegression</span></a><span class=\"sk-estimator-doc-link fitted\">i<span>Fitted</span></span></label><div class=\"sk-toggleable__content fitted\"><pre>LogisticRegression()</pre></div> </div></div></div></div>"
            ],
            "text/plain": [
              "LogisticRegression()"
            ]
          },
          "execution_count": 38,
          "metadata": {},
          "output_type": "execute_result"
        }
      ],
      "source": [
        "from sklearn.linear_model import LogisticRegression\n",
        "\n",
        "lr = LogisticRegression()\n",
        "lr.fit(train_bream_smelt, target_bream_smelt)"
      ]
    },
    {
      "cell_type": "code",
      "execution_count": 43,
      "metadata": {
        "colab": {
          "base_uri": "https://localhost:8080/"
        },
        "id": "VtEWtsB7EIgm",
        "outputId": "6c374a95-a9f2-4983-faba-beb8aaf4c58e"
      },
      "outputs": [
        {
          "name": "stdout",
          "output_type": "stream",
          "text": [
            "['Bream' 'Smelt' 'Bream' 'Bream' 'Bream']\n"
          ]
        }
      ],
      "source": [
        "print(lr.predict(train_bream_smelt[:5]))"
      ]
    },
    {
      "cell_type": "code",
      "execution_count": 44,
      "metadata": {
        "colab": {
          "base_uri": "https://localhost:8080/"
        },
        "id": "3H_qieV-_CTt",
        "outputId": "f38633e8-1b98-4b17-f86b-95685099e372"
      },
      "outputs": [
        {
          "name": "stdout",
          "output_type": "stream",
          "text": [
            "[[0.99760007 0.00239993]\n",
            " [0.02737325 0.97262675]\n",
            " [0.99486386 0.00513614]\n",
            " [0.98585047 0.01414953]\n",
            " [0.99767419 0.00232581]]\n"
          ]
        }
      ],
      "source": [
        "print(lr.predict_proba(train_bream_smelt[:5]))"
      ]
    },
    {
      "cell_type": "code",
      "execution_count": 45,
      "metadata": {
        "colab": {
          "base_uri": "https://localhost:8080/"
        },
        "id": "Mm60bpr7EQKU",
        "outputId": "1f439ee9-e3a5-44ff-a0b3-1462670728fb"
      },
      "outputs": [
        {
          "name": "stdout",
          "output_type": "stream",
          "text": [
            "['Bream' 'Smelt']\n"
          ]
        }
      ],
      "source": [
        "print(lr.classes_)"
      ]
    },
    {
      "cell_type": "code",
      "execution_count": 47,
      "metadata": {
        "colab": {
          "base_uri": "https://localhost:8080/"
        },
        "id": "1mvoYhUVQmFY",
        "outputId": "a8eee751-d8f9-47d7-a890-0cb480ba03c2"
      },
      "outputs": [
        {
          "name": "stdout",
          "output_type": "stream",
          "text": [
            "[[-0.40451732 -0.57582787 -0.66248158 -1.01329614 -0.73123131]] [-2.16172774]\n"
          ]
        }
      ],
      "source": [
        "# 선형 회귀 모델(lr)의 회귀 계수(coef_)와 절편(intercept_)을 출력합니다\n",
        "# lr.coef_는 각 특성(feature)별 회귀 계수를 나타내며,\n",
        "# lr.intercept_는 회귀 직선의 절편을 나타냅니다\n",
        "print(lr.coef_, lr.intercept_)\n"
      ]
    },
    {
      "cell_type": "code",
      "execution_count": 50,
      "metadata": {
        "colab": {
          "base_uri": "https://localhost:8080/"
        },
        "id": "SxrRy9m8A5Hy",
        "outputId": "a092eee9-5329-4de9-ee2a-65c2782e36ce"
      },
      "outputs": [
        {
          "name": "stdout",
          "output_type": "stream",
          "text": [
            "[-6.02991358  3.57043428 -5.26630496 -4.24382314 -6.06135688]\n"
          ]
        }
      ],
      "source": [
        "# 선형 회귀 모델(lr)을 사용하여 'train_bream_smelt' 데이터의 첫 5개 샘플에 대해 결정 함수를 계산합니다\n",
        "# 결정 함수(decision_function)는 각 샘플에 대해 모델이 예측한 연속적 값(점수)를 반환합니다\n",
        "decisions = lr.decision_function(train_bream_smelt[:5])\n",
        "\n",
        "# 계산된 결정 함수의 값을 출력합니다\n",
        "# 결정 함수 값은 각 샘플에 대해 모델의 예측 점수를 나타냅니다\n",
        "print(decisions)\n"
      ]
    },
    {
      "attachments": {
        "image.png": {
          "image/png": "[encoded data removed]"
        }
      },
      "cell_type": "markdown",
      "metadata": {},
      "source": [
        "![image.png](attachment:image.png)"
      ]
    },
    {
      "attachments": {
        "image.png": {
          "image/png": "[encoded data removed]"
        }
      },
      "cell_type": "markdown",
      "metadata": {},
      "source": [
        "![image.png](attachment:image.png)"
      ]
    },
    {
      "cell_type": "code",
      "execution_count": 52,
      "metadata": {
        "colab": {
          "base_uri": "https://localhost:8080/"
        },
        "id": "SeuhSRuiA9yZ",
        "outputId": "f9127243-4293-4dca-b0c6-4f81af5d0fe1"
      },
      "outputs": [
        {
          "name": "stdout",
          "output_type": "stream",
          "text": [
            "[0.00239993 0.97262675 0.00513614 0.01414953 0.00232581]\n"
          ]
        }
      ],
      "source": [
        "from scipy.special import expit  # 시그모이드 함수(로지스틱 함수)를 제공하는 expit 함수를 불러옵니다\n",
        "\n",
        "# 결정 함수(decision_function)로부터 얻은 예측 점수를 시그모이드 함수를 통해 변환합니다\n",
        "# expit 함수는 입력 값에 대해 시그모이드 함수를 적용하여 0과 1 사이의 값을 반환합니다\n",
        "print(expit(decisions))"
      ]
    },
    {
      "cell_type": "markdown",
      "metadata": {
        "id": "6ee-s4l7EuVo"
      },
      "source": [
        "### 로지스틱 회귀로 다중 분류 수행하기"
      ]
    },
    {
      "cell_type": "code",
      "execution_count": 54,
      "metadata": {
        "colab": {
          "base_uri": "https://localhost:8080/"
        },
        "id": "7QugsbD2X8bf",
        "outputId": "1b5f1118-3b3a-43a6-b7d5-a5826475c001"
      },
      "outputs": [
        {
          "name": "stdout",
          "output_type": "stream",
          "text": [
            "0.9327731092436975\n",
            "0.925\n"
          ]
        }
      ],
      "source": [
        "from sklearn.linear_model import LogisticRegression  # 로지스틱 회귀 모델을 제공하는 클래스를 불러옵니다\n",
        "\n",
        "# 로지스틱 회귀 모델을 생성합니다\n",
        "# C=20: 정규화 강도를 조절하는 하이퍼파라미터로, 값이 클수록 정규화가 약해집니다\n",
        "# max_iter=1000: 최대 반복 횟수로, 모델 학습을 위한 반복 횟수를 설정합니다\n",
        "lr = LogisticRegression(C=20, max_iter=1000)\n",
        "\n",
        "# 훈련 데이터(train_scaled)와 타겟 데이터(train_target)를 사용하여 로지스틱 회귀 모델을 학습합니다\n",
        "lr.fit(train_scaled, train_target)\n",
        "\n",
        "# 훈련 데이터에 대한 모델의 정확도를 출력합니다\n",
        "# 학습 데이터에서의 정확도는 모델이 훈련 데이터에서 얼마나 잘 맞는지를 나타냅니다\n",
        "print(lr.score(train_scaled, train_target))\n",
        "\n",
        "# 테스트 데이터에 대한 모델의 정확도를 출력합니다\n",
        "# 테스트 데이터에서의 정확도는 모델이 이전에 보지 못한 데이터에서 얼마나 잘 맞는지를 나타냅니다\n",
        "print(lr.score(test_scaled, test_target))\n"
      ]
    },
    {
      "cell_type": "code",
      "execution_count": 55,
      "metadata": {
        "colab": {
          "base_uri": "https://localhost:8080/"
        },
        "id": "0taO0XnF9dha",
        "outputId": "e13af0b2-9a8f-4703-92f5-420bae40bc42"
      },
      "outputs": [
        {
          "name": "stdout",
          "output_type": "stream",
          "text": [
            "['Perch' 'Smelt' 'Pike' 'Roach' 'Perch']\n"
          ]
        }
      ],
      "source": [
        "print(lr.predict(test_scaled[:5]))"
      ]
    },
    {
      "cell_type": "code",
      "execution_count": 61,
      "metadata": {
        "colab": {
          "base_uri": "https://localhost:8080/"
        },
        "id": "pqZosYezZOi3",
        "outputId": "366bf3bc-5df7-4056-de6a-838320bc7cb7"
      },
      "outputs": [
        {
          "name": "stdout",
          "output_type": "stream",
          "text": [
            "[[0.    0.014 0.842 0.    0.135 0.007 0.003]\n",
            " [0.    0.003 0.044 0.    0.007 0.946 0.   ]\n",
            " [0.    0.    0.034 0.934 0.015 0.016 0.   ]\n",
            " [0.011 0.034 0.305 0.006 0.567 0.    0.076]\n",
            " [0.    0.    0.904 0.002 0.089 0.002 0.001]]\n"
          ]
        }
      ],
      "source": [
        "# 로지스틱 회귀 모델을 훈련시킵니다\n",
        "# lr = LogisticRegression(C=20, max_iter=1000)\n",
        "# lr.fit(train_scaled, train_target)\n",
        "\n",
        "# 테스트 데이터의 첫 5개 샘플에 대해 예측 확률을 계산합니다\n",
        "# predict_proba 함수는 각 샘플에 대해 클래스별 확률을 반환합니다\n",
        "proba = lr.predict_proba(test_scaled[:5])\n",
        "\n",
        "# np.round 함수는 배열의 각 요소를 지정된 소수점 자리까지 반올림합니다\n",
        "print(np.round(proba, decimals=3))  # 예측 확률을 소수점 3자리까지 반올림하여 출력합니다\n"
      ]
    },
    {
      "cell_type": "code",
      "execution_count": 62,
      "metadata": {
        "colab": {
          "base_uri": "https://localhost:8080/"
        },
        "id": "CXASv4WU87UF",
        "outputId": "6f8b2061-88b0-4cd9-9f11-cd907919ef24"
      },
      "outputs": [
        {
          "name": "stdout",
          "output_type": "stream",
          "text": [
            "['Bream' 'Parkki' 'Perch' 'Pike' 'Roach' 'Smelt' 'Whitefish']\n"
          ]
        }
      ],
      "source": [
        "print(lr.classes_)"
      ]
    },
    {
      "cell_type": "code",
      "execution_count": 64,
      "metadata": {
        "colab": {
          "base_uri": "https://localhost:8080/"
        },
        "id": "1swPv6ZOZTjg",
        "outputId": "c52ceba6-b8ab-4f90-ecd6-38ebb6acbbef"
      },
      "outputs": [
        {
          "name": "stdout",
          "output_type": "stream",
          "text": [
            "(7, 5) (7,)\n"
          ]
        }
      ],
      "source": [
        "print(lr.coef_.shape, lr.intercept_.shape)"
      ]
    },
    {
      "cell_type": "code",
      "execution_count": 69,
      "metadata": {
        "colab": {
          "base_uri": "https://localhost:8080/"
        },
        "id": "s9iRz1iAd7Oe",
        "outputId": "07f4b83c-1211-45eb-f698-28a381388c57"
      },
      "outputs": [
        {
          "name": "stdout",
          "output_type": "stream",
          "text": [
            "[[ -6.51   1.04   5.17  -2.76   3.34   0.35  -0.63]\n",
            " [-10.88   1.94   4.78  -2.42   2.99   7.84  -4.25]\n",
            " [ -4.34  -6.24   3.17   6.48   2.36   2.43  -3.87]\n",
            " [ -0.69   0.45   2.64  -1.21   3.26  -5.7    1.26]\n",
            " [ -6.4   -1.99   5.82  -0.13   3.5   -0.09  -0.7 ]]\n"
          ]
        }
      ],
      "source": [
        "decision = lr.decision_function(test_scaled[:5])\n",
        "print(np.round(decision, decimals=2))"
      ]
    },
    {
      "attachments": {
        "image.png": {
          "image/png": "[encoded data removed]"
        }
      },
      "cell_type": "markdown",
      "metadata": {},
      "source": [
        "![image.png](attachment:image.png)"
      ]
    },
    {
      "cell_type": "code",
      "execution_count": 73,
      "metadata": {
        "colab": {
          "base_uri": "https://localhost:8080/"
        },
        "id": "49CcsDHZeJma",
        "outputId": "53f704df-743d-45ad-e76e-6729cecfbb03"
      },
      "outputs": [
        {
          "name": "stdout",
          "output_type": "stream",
          "text": [
            "[[0.    0.014 0.842 0.    0.135 0.007 0.003]\n",
            " [0.    0.003 0.044 0.    0.007 0.946 0.   ]\n",
            " [0.    0.    0.034 0.934 0.015 0.016 0.   ]\n",
            " [0.011 0.034 0.305 0.006 0.567 0.    0.076]\n",
            " [0.    0.    0.904 0.002 0.089 0.002 0.001]]\n"
          ]
        }
      ],
      "source": [
        "from scipy.special import softmax  # 소프트맥스 함수를 제공하는 모듈을 불러옵니다\n",
        "\n",
        "# 'decision' 배열이 모델의 결정 함수 값이라면, 이를 소프트맥스 함수를 사용하여 확률로 변환합니다\n",
        "# 'decision'은 각 샘플에 대해 클래스별 점수를 담고 있는 배열입니다\n",
        "proba = softmax(decision, axis=1)\n",
        "\n",
        "# 소프트맥스 함수로 변환된 확률 값을 소수점 3자리까지 반올림하여 출력합니다\n",
        "# np.round 함수는 배열의 각 요소를 지정된 소수점 자리까지 반올림합니다\n",
        "print(np.round(proba, decimals=3))\n"
      ]
    },
    {
      "cell_type": "code",
      "execution_count": null,
      "metadata": {},
      "outputs": [],
      "source": []
    }
  ],
  "metadata": {
    "colab": {
      "name": "4-1 로지스틱 회귀.ipynb",
      "provenance": []
    },
    "kernelspec": {
      "display_name": "practice_mldl",
      "language": "python",
      "name": "python3"
    },
    "language_info": {
      "codemirror_mode": {
        "name": "ipython",
        "version": 3
      },
      "file_extension": ".py",
      "mimetype": "text/x-python",
      "name": "python",
      "nbconvert_exporter": "python",
      "pygments_lexer": "ipython3",
      "version": "3.11.9"
    }
  },
  "nbformat": 4,
  "nbformat_minor": 0
}
