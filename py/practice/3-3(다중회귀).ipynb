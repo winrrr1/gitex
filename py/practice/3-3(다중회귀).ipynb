{
  "cells": [
    {
      "cell_type": "markdown",
      "metadata": {
        "id": "XjTc5n2flYUu"
      },
      "source": [
        "# 특성 공학과 규제"
      ]
    },
    {
      "cell_type": "markdown",
      "metadata": {
        "id": "B8YOr2hElYUv"
      },
      "source": [
        "<table align=\"left\">\n",
        "  <td>\n",
        "    <a target=\"_blank\" href=\"https://colab.research.google.com/github/rickiepark/hg-mldl/blob/master/3-3.ipynb\"><img src=\"https://www.tensorflow.org/images/colab_logo_32px.png\" />구글 코랩에서 실행하기</a>\n",
        "  </td>\n",
        "</table>"
      ]
    },
    {
      "cell_type": "markdown",
      "metadata": {
        "id": "fZwhQU2l8tI6"
      },
      "source": [
        "## 데이터 준비"
      ]
    },
    {
      "cell_type": "code",
      "execution_count": 4,
      "metadata": {
        "id": "3kjaTfOqEVwY"
      },
      "outputs": [],
      "source": [
        "import pandas as pd"
      ]
    },
    {
      "cell_type": "code",
      "execution_count": 11,
      "metadata": {
        "colab": {
          "base_uri": "https://localhost:8080/"
        },
        "id": "8qmTS1RzKRKT",
        "outputId": "62a1790e-34bf-4a28-f135-e66469a5f25b"
      },
      "outputs": [
        {
          "name": "stdout",
          "output_type": "stream",
          "text": [
            "[[ 8.4   2.11  1.41]\n",
            " [13.7   3.53  2.  ]\n",
            " [15.    3.82  2.43]\n",
            " [16.2   4.59  2.63]\n",
            " [17.4   4.59  2.94]\n",
            " [18.    5.22  3.32]\n",
            " [18.7   5.2   3.12]\n",
            " [19.    5.64  3.05]\n",
            " [19.6   5.14  3.04]\n",
            " [20.    5.08  2.77]\n",
            " [21.    5.69  3.56]\n",
            " [21.    5.92  3.31]\n",
            " [21.    5.69  3.67]\n",
            " [21.3   6.38  3.53]\n",
            " [22.    6.11  3.41]\n",
            " [22.    5.64  3.52]\n",
            " [22.    6.11  3.52]\n",
            " [22.    5.88  3.52]\n",
            " [22.    5.52  4.  ]\n",
            " [22.5   5.86  3.62]\n",
            " [22.5   6.79  3.62]\n",
            " [22.7   5.95  3.63]\n",
            " [23.    5.22  3.63]\n",
            " [23.5   6.28  3.72]\n",
            " [24.    7.29  3.72]\n",
            " [24.    6.38  3.82]\n",
            " [24.6   6.73  4.17]\n",
            " [25.    6.44  3.68]\n",
            " [25.6   6.56  4.24]\n",
            " [26.5   7.17  4.14]\n",
            " [27.3   8.32  5.14]\n",
            " [27.5   7.17  4.34]\n",
            " [27.5   7.05  4.34]\n",
            " [27.5   7.28  4.57]\n",
            " [28.    7.82  4.2 ]\n",
            " [28.7   7.59  4.64]\n",
            " [30.    7.62  4.77]\n",
            " [32.8  10.03  6.02]\n",
            " [34.5  10.26  6.39]\n",
            " [35.   11.49  7.8 ]\n",
            " [36.5  10.88  6.86]\n",
            " [36.   10.61  6.74]\n",
            " [37.   10.84  6.26]\n",
            " [37.   10.57  6.37]\n",
            " [39.   11.14  7.49]\n",
            " [39.   11.14  6.  ]\n",
            " [39.   12.43  7.35]\n",
            " [40.   11.93  7.11]\n",
            " [40.   11.73  7.22]\n",
            " [40.   12.38  7.46]\n",
            " [40.   11.14  6.63]\n",
            " [42.   12.8   6.87]\n",
            " [43.   11.93  7.28]\n",
            " [43.   12.51  7.42]\n",
            " [43.5  12.6   8.14]\n",
            " [44.   12.49  7.6 ]]\n"
          ]
        }
      ],
      "source": [
        "# 웹에서 CSV 파일을 읽어와 DataFrame으로 로드합니다\n",
        "df = pd.read_csv('https://bit.ly/perch_csv_data')\n",
        "\n",
        "# DataFrame을 NumPy 배열로 변환합니다\n",
        "perch_full = df.to_numpy()\n",
        "\n",
        "# 변환된 NumPy 배열을 출력합니다\n",
        "print(perch_full)\n"
      ]
    },
    {
      "cell_type": "code",
      "execution_count": 12,
      "metadata": {
        "id": "PsRC7rvE9SbL"
      },
      "outputs": [],
      "source": [
        "import numpy as np\n",
        "\n",
        "perch_weight = np.array(\n",
        "    [5.9, 32.0, 40.0, 51.5, 70.0, 100.0, 78.0, 80.0, 85.0, 85.0,\n",
        "     110.0, 115.0, 125.0, 130.0, 120.0, 120.0, 130.0, 135.0, 110.0,\n",
        "     130.0, 150.0, 145.0, 150.0, 170.0, 225.0, 145.0, 188.0, 180.0,\n",
        "     197.0, 218.0, 300.0, 260.0, 265.0, 250.0, 250.0, 300.0, 320.0,\n",
        "     514.0, 556.0, 840.0, 685.0, 700.0, 700.0, 690.0, 900.0, 650.0,\n",
        "     820.0, 850.0, 900.0, 1015.0, 820.0, 1100.0, 1000.0, 1100.0,\n",
        "     1000.0, 1000.0]\n",
        "     )"
      ]
    },
    {
      "cell_type": "code",
      "execution_count": 13,
      "metadata": {
        "id": "cRKkoWoZ9J0m"
      },
      "outputs": [],
      "source": [
        "from sklearn.model_selection import train_test_split\n",
        "\n",
        "train_input, test_input, train_target, test_target = train_test_split(perch_full, perch_weight, random_state=42)"
      ]
    },
    {
      "cell_type": "markdown",
      "metadata": {
        "id": "y5uMFE_8V1tx"
      },
      "source": [
        "## 사이킷런의 변환기"
      ]
    },
    {
      "cell_type": "code",
      "execution_count": 14,
      "metadata": {
        "id": "EclugdXmSs-L"
      },
      "outputs": [],
      "source": [
        "from sklearn.preprocessing import PolynomialFeatures"
      ]
    },
    {
      "cell_type": "code",
      "execution_count": 20,
      "metadata": {
        "colab": {
          "base_uri": "https://localhost:8080/"
        },
        "id": "V5is7cZhKbPU",
        "outputId": "a27d2b55-7547-4add-b3e9-3a97c23eb954"
      },
      "outputs": [
        {
          "name": "stdout",
          "output_type": "stream",
          "text": [
            "[[1. 2. 3. 4. 6. 9.]]\n"
          ]
        }
      ],
      "source": [
        "# 기본적으로 2차 다항식 변환을 적용합니다  = degree = 2\n",
        "poly = PolynomialFeatures()\n",
        "\n",
        "# PolynomialFeatures 객체를 학습시키기 위해 예제 데이터를 사용합니다\n",
        "# 여기서는 [2, 3]이라는 단일 샘플을 사용하여 다항식 변환의 기준을 설정합니다\n",
        "poly.fit([[2, 3]])\n",
        "\n",
        "# 변환할 데이터를 [2, 3]으로 설정하고, 해당 데이터에 대해 다항식 변환을 적용합니다\n",
        "# 이 경우, 변환된 결과는 [1, 2, 3, 4, 6, 9]입니다. (제곱 및 상호작용 항 포함)\n",
        "print(poly.transform([[2, 3]]))\n"
      ]
    },
    {
      "cell_type": "code",
      "execution_count": 21,
      "metadata": {
        "colab": {
          "base_uri": "https://localhost:8080/"
        },
        "id": "bKXkK0oJc4nG",
        "outputId": "ee304884-059a-4e6a-c358-64530cb1129d"
      },
      "outputs": [
        {
          "name": "stdout",
          "output_type": "stream",
          "text": [
            "[[2. 3. 4. 6. 9.]]\n"
          ]
        }
      ],
      "source": [
        "# PolynomialFeatures 객체를 생성합니다\n",
        "# include_bias=False로 설정하여 편향 항(bias term) (즉, 상수 1)을 포함하지 않습니다\n",
        "poly = PolynomialFeatures(include_bias=False)\n",
        "\n",
        "# PolynomialFeatures 객체를 학습시키기 위해 예제 데이터를 사용합니다\n",
        "# 여기서는 [2, 3]이라는 단일 샘플을 사용하여 다항식 변환의 기준을 설정합니다\n",
        "poly.fit([[2, 3]])\n",
        "\n",
        "# 변환할 데이터를 [2, 3]으로 설정하고, 해당 데이터에 대해 다항식 변환을 적용합니다\n",
        "# include_bias=False로 설정했기 때문에 상수 항이 제외된 변환 결과가 출력됩니다\n",
        "print(poly.transform([[2, 3]]))\n"
      ]
    },
    {
      "cell_type": "code",
      "execution_count": 22,
      "metadata": {
        "id": "__kE6eJdNZfm"
      },
      "outputs": [],
      "source": [
        "# PolynomialFeatures 객체를 생성합니다\n",
        "# include_bias=False로 설정하여 편향 항(bias term) (즉, 상수 1)을 포함하지 않습니다\n",
        "poly = PolynomialFeatures(include_bias=False)\n",
        "\n",
        "# 학습 데이터를 사용하여 PolynomialFeatures 객체를 학습시킵니다\n",
        "# 이 과정에서 입력 데이터에 대한 다항식 변환 기준이 설정됩니다\n",
        "poly.fit(train_input)\n",
        "\n",
        "# 학습된 PolynomialFeatures 객체를 사용하여 훈련 데이터에 다항식 변환을 적용합니다\n",
        "# 변환된 데이터는 원래의 입력 값에 대해 제곱 및 상호작용 항을 포함합니다\n",
        "train_poly = poly.transform(train_input)\n"
      ]
    },
    {
      "cell_type": "code",
      "execution_count": 23,
      "metadata": {
        "colab": {
          "base_uri": "https://localhost:8080/"
        },
        "id": "2a_lmkKle4kF",
        "outputId": "15ad4a84-a8e1-4079-8cc6-6bb9ef128e2f"
      },
      "outputs": [
        {
          "name": "stdout",
          "output_type": "stream",
          "text": [
            "(42, 9)\n"
          ]
        }
      ],
      "source": [
        "print(train_poly.shape)"
      ]
    },
    {
      "cell_type": "code",
      "execution_count": 24,
      "metadata": {
        "colab": {
          "base_uri": "https://localhost:8080/"
        },
        "id": "X6GUwfXTfKbl",
        "outputId": "a47e9c30-9730-497c-e897-8ff248cc9074"
      },
      "outputs": [
        {
          "data": {
            "text/plain": [
              "array(['x0', 'x1', 'x2', 'x0^2', 'x0 x1', 'x0 x2', 'x1^2', 'x1 x2',\n",
              "       'x2^2'], dtype=object)"
            ]
          },
          "execution_count": 24,
          "metadata": {},
          "output_type": "execute_result"
        }
      ],
      "source": [
        "poly.get_feature_names_out()"
      ]
    },
    {
      "cell_type": "code",
      "execution_count": 27,
      "metadata": {
        "id": "DJMPxe2mgbOo"
      },
      "outputs": [],
      "source": [
        "test_poly = poly.transform(test_input)"
      ]
    },
    {
      "cell_type": "markdown",
      "metadata": {
        "id": "PdDAslHzNk3H"
      },
      "source": [
        "## 다중 회귀 모델 훈련하기"
      ]
    },
    {
      "cell_type": "code",
      "execution_count": 28,
      "metadata": {
        "colab": {
          "base_uri": "https://localhost:8080/"
        },
        "id": "E9ygy-8WOvIP",
        "outputId": "73ec508e-d9f9-4147-bad6-21109aafd93d"
      },
      "outputs": [
        {
          "name": "stdout",
          "output_type": "stream",
          "text": [
            "0.9903183436982126\n"
          ]
        }
      ],
      "source": [
        "from sklearn.linear_model import LinearRegression\n",
        "\n",
        "lr = LinearRegression()\n",
        "lr.fit(train_poly, train_target)\n",
        "print(lr.score(train_poly, train_target))"
      ]
    },
    {
      "cell_type": "code",
      "execution_count": 29,
      "metadata": {
        "colab": {
          "base_uri": "https://localhost:8080/"
        },
        "id": "GKKyfFcAd7zm",
        "outputId": "80944369-a45b-4e14-c38e-0652efe39723"
      },
      "outputs": [
        {
          "name": "stdout",
          "output_type": "stream",
          "text": [
            "0.9714559911594143\n"
          ]
        }
      ],
      "source": [
        "print(lr.score(test_poly, test_target))"
      ]
    },
    {
      "cell_type": "code",
      "execution_count": 30,
      "metadata": {
        "id": "2fDt5mrReMwU"
      },
      "outputs": [],
      "source": [
        "poly = PolynomialFeatures(degree=5, include_bias=False)\n",
        "\n",
        "poly.fit(train_input)\n",
        "train_poly = poly.transform(train_input)\n",
        "test_poly = poly.transform(test_input)"
      ]
    },
    {
      "cell_type": "code",
      "execution_count": 31,
      "metadata": {
        "colab": {
          "base_uri": "https://localhost:8080/"
        },
        "id": "hcM8R4VHSzR8",
        "outputId": "ab384f3c-04d9-41b3-b5c7-f6ac6de6df9e"
      },
      "outputs": [
        {
          "name": "stdout",
          "output_type": "stream",
          "text": [
            "(42, 55)\n"
          ]
        }
      ],
      "source": [
        "print(train_poly.shape)"
      ]
    },
    {
      "cell_type": "code",
      "execution_count": 32,
      "metadata": {
        "colab": {
          "base_uri": "https://localhost:8080/"
        },
        "id": "UffVFVTGP8xj",
        "outputId": "c76714a5-18eb-46a1-d29f-6f26c5a83a19"
      },
      "outputs": [
        {
          "name": "stdout",
          "output_type": "stream",
          "text": [
            "0.999999999998714\n"
          ]
        }
      ],
      "source": [
        "lr.fit(train_poly, train_target)\n",
        "print(lr.score(train_poly, train_target))"
      ]
    },
    {
      "cell_type": "code",
      "execution_count": 33,
      "metadata": {
        "colab": {
          "base_uri": "https://localhost:8080/"
        },
        "id": "GtITdlYFg7AY",
        "outputId": "c2c167cf-e680-44a5-a7ff-71efe48b9a03"
      },
      "outputs": [
        {
          "name": "stdout",
          "output_type": "stream",
          "text": [
            "-144.4066764700865\n"
          ]
        }
      ],
      "source": [
        "print(lr.score(test_poly, test_target))"
      ]
    },
    {
      "cell_type": "markdown",
      "metadata": {
        "id": "K2YMPSelQBpO"
      },
      "source": [
        "## 규제"
      ]
    },
    {
      "cell_type": "code",
      "execution_count": 35,
      "metadata": {
        "id": "hCC7wKy3QQrE"
      },
      "outputs": [],
      "source": [
        "from sklearn.preprocessing import StandardScaler  # Scikit-learn에서 StandardScaler 클래스를 불러옵니다\n",
        "\n",
        "# StandardScaler 객체를 생성합니다\n",
        "# StandardScaler는 데이터의 평균을 0으로, 표준편차를 1로 변환하여 데이터의 스케일을 조정합니다\n",
        "ss = StandardScaler()\n",
        "\n",
        "# 훈련 데이터(train_poly)를 사용하여 StandardScaler 객체를 학습시킵니다\n",
        "# 이 과정에서 훈련 데이터의 평균과 표준편차를 계산\n",
        "ss.fit(train_poly)\n",
        "\n",
        "# 훈련 데이터에 대해 변환을 적용하여 스케일 조정된 데이터를 생성합니다\n",
        "# 각 특성이 평균 0, 표준편차 1로 변환됩니다\n",
        "train_scaled = ss.transform(train_poly)\n",
        "\n",
        "# 테스트 데이터(test_poly)에 대해서도 동일한 스케일 변환을 적용합니다\n",
        "# 훈련 데이터에서 계산한 평균과 표준편차를 사용하여 테스트 데이터를 변환합니다\n",
        "test_scaled = ss.transform(test_poly)\n"
      ]
    },
    {
      "cell_type": "markdown",
      "metadata": {
        "id": "qyLI7JQsJ7RQ"
      },
      "source": [
        "## 릿지"
      ]
    },
    {
      "cell_type": "code",
      "execution_count": 40,
      "metadata": {
        "colab": {
          "base_uri": "https://localhost:8080/"
        },
        "id": "LdNuDNQGQipv",
        "outputId": "11558a6c-0c97-4b1f-f345-933018b18221"
      },
      "outputs": [
        {
          "name": "stdout",
          "output_type": "stream",
          "text": [
            "0.9896101671037343\n"
          ]
        }
      ],
      "source": [
        "from sklearn.linear_model import Ridge  # Scikit-learn에서 Ridge 회귀 클래스를 불러옵니다\n",
        "\n",
        "# Ridge 회귀 모델 객체를 생성합니다\n",
        "# Ridge 회귀는 L2 정규화를 포함하여 과대적합을 방지합니다\n",
        "ridge = Ridge()\n",
        "\n",
        "# 표준화된 훈련 데이터(train_scaled)와 훈련 타겟 데이터(train_target)를 사용하여 모델을 학습합니다\n",
        "# L2 정규화를 적용하여 과대적합을 줄이고 일반화 성능을 향상시킵니다\n",
        "ridge.fit(train_scaled, train_target)\n",
        "\n",
        "# 훈련 데이터에 대한 모델의 성능 점수를 출력합니다\n",
        "# score() 메서드는 R^2 (결정 계수) 값을 반환합니다\n",
        "# 값이 1에 가까울수록 모델이 훈련 데이터에 잘 맞는 것입니다\n",
        "print(ridge.score(train_scaled, train_target))\n"
      ]
    },
    {
      "cell_type": "code",
      "execution_count": 41,
      "metadata": {
        "colab": {
          "base_uri": "https://localhost:8080/"
        },
        "id": "p5mXLecwhdnF",
        "outputId": "0e2ddf45-68a9-4f8b-8ab2-e4b9f5360087"
      },
      "outputs": [
        {
          "name": "stdout",
          "output_type": "stream",
          "text": [
            "0.9790693977615391\n"
          ]
        }
      ],
      "source": [
        "print(ridge.score(test_scaled, test_target))"
      ]
    },
    {
      "cell_type": "code",
      "execution_count": 44,
      "metadata": {
        "id": "wXd3_Kq6hlbM"
      },
      "outputs": [],
      "source": [
        "import matplotlib.pyplot as plt  # Matplotlib의 pyplot 모듈을 불러옵니다. 시각화를 위한 도구입니다.\n",
        "\n",
        "# 훈련 데이터의 성능 점수를 저장할 빈 리스트를 생성합니다\n",
        "# 모델의 성능을 반복적으로 평가하기 위해 사용됩니다\n",
        "train_score = []\n",
        "\n",
        "# 테스트 데이터의 성능 점수를 저장할 빈 리스트를 생성합니다\n",
        "# 모델의 일반화 성능을 반복적으로 평가하기 위해 사용됩니다\n",
        "test_score = []\n"
      ]
    },
    {
      "cell_type": "code",
      "execution_count": 45,
      "metadata": {
        "id": "9MvIvQOrhfqC"
      },
      "outputs": [],
      "source": [
        "alpha_list = [0.001, 0.01, 0.1, 1, 10, 100]  # Ridge 회귀 모델의 정규화 강도(alpha)를 설정할 값들을 리스트로 정의합니다\n",
        "\n",
        "for alpha in alpha_list:  # 정의된 alpha 값들을 반복하며 모델을 학습합니다\n",
        "    # 현재 alpha 값으로 Ridge 회귀 모델 객체를 생성합니다\n",
        "    ridge = Ridge(alpha=alpha)\n",
        "    \n",
        "    # 표준화된 훈련 데이터(train_scaled)와 훈련 타겟 데이터(train_target)를 사용하여 모델을 학습합니다\n",
        "    ridge.fit(train_scaled, train_target)\n",
        "    \n",
        "    # 학습된 모델의 훈련 데이터에 대한 성능 점수를 계산하여 train_score 리스트에 추가합니다\n",
        "    train_score.append(ridge.score(train_scaled, train_target))\n",
        "    \n",
        "    # 학습된 모델의 테스트 데이터에 대한 성능 점수를 계산하여 test_score 리스트에 추가합니다\n",
        "    test_score.append(ridge.score(test_scaled, test_target))\n"
      ]
    },
    {
      "cell_type": "code",
      "execution_count": 47,
      "metadata": {
        "colab": {
          "base_uri": "https://localhost:8080/",
          "height": 449
        },
        "id": "95DjrJxlhiow",
        "outputId": "a004ea2c-a338-448d-9dbd-2b68aff09892"
      },
      "outputs": [
        {
          "data": {
            "image/png": "[encoded data removed]",
            "text/plain": [
              "<Figure size 640x480 with 1 Axes>"
            ]
          },
          "metadata": {},
          "output_type": "display_data"
        }
      ],
      "source": [
        "# alpha_list의 로그 스케일에 따른 훈련 데이터의 성능 점수를 그래프로 표시합니다\n",
        "# np.log10(alpha_list)로 alpha 값을 로그 스케일로 변환하여 x축에 사용합니다\n",
        "plt.plot(np.log10(alpha_list), train_score, label='Train Score')\n",
        "\n",
        "# alpha_list의 로그 스케일에 따른 테스트 데이터의 성능 점수를 그래프로 표시합니다\n",
        "# np.log10(alpha_list)로 alpha 값을 로그 스케일로 변환하여 x축에 사용합니다\n",
        "plt.plot(np.log10(alpha_list), test_score, label='Test Score')\n",
        "\n",
        "# x축 레이블을 'alpha'로 설정합니다\n",
        "# 로그 스케일로 변환된 alpha 값을 나타냅니다\n",
        "plt.xlabel('alpha')\n",
        "\n",
        "# y축 레이블을 'R^2'로 설정합니다\n",
        "# R^2 (결정 계수) 값으로 모델의 성능을 나타냅니다\n",
        "plt.ylabel('R^2')\n",
        "\n",
        "# 그래프에 레이블을 추가합니다\n",
        "plt.legend()\n",
        "\n",
        "# 그래프를 화면에 표시합니다\n",
        "plt.show()\n"
      ]
    },
    {
      "cell_type": "code",
      "execution_count": 49,
      "metadata": {
        "colab": {
          "base_uri": "https://localhost:8080/"
        },
        "id": "5S5vhi-vhjzT",
        "outputId": "ac52eb28-1bf2-434f-d21f-b123a6d1f0cd"
      },
      "outputs": [
        {
          "name": "stdout",
          "output_type": "stream",
          "text": [
            "0.9903815817570366\n",
            "0.9827976465386989\n"
          ]
        }
      ],
      "source": [
        "# 정규화 강도 alpha=0.1로 Ridge 회귀 모델 객체를 생성합니다\n",
        "ridge = Ridge(alpha=0.1)\n",
        "\n",
        "# 표준화된 훈련 데이터(train_scaled)와 훈련 타겟 데이터(train_target)를 사용하여 모델을 학습합니다\n",
        "ridge.fit(train_scaled, train_target)\n",
        "\n",
        "# 학습된 Ridge 회귀 모델의 훈련 데이터에 대한 R^2 점수를 출력합니다\n",
        "# 이 값은 모델이 훈련 데이터에 얼마나 잘 적합되는지를 나타냅니다\n",
        "print(ridge.score(train_scaled, train_target))\n",
        "\n",
        "# 학습된 Ridge 회귀 모델의 테스트 데이터에 대한 R^2 점수를 출력합니다\n",
        "# 이 값은 모델의 일반화 성능을 나타내며, 테스트 데이터에 대해 얼마나 잘 예측하는지를 나타냅니다\n",
        "print(ridge.score(test_scaled, test_target))\n"
      ]
    },
    {
      "cell_type": "markdown",
      "metadata": {
        "id": "jUph9pH_KA9_"
      },
      "source": [
        "## 라쏘"
      ]
    },
    {
      "cell_type": "code",
      "execution_count": 51,
      "metadata": {
        "colab": {
          "base_uri": "https://localhost:8080/"
        },
        "id": "Ymu-jmekh0IK",
        "outputId": "dab813ee-5531-4905-93b2-52d16c8e8b21"
      },
      "outputs": [
        {
          "name": "stdout",
          "output_type": "stream",
          "text": [
            "0.989789897208096\n"
          ]
        }
      ],
      "source": [
        "from sklearn.linear_model import Lasso  # Scikit-learn에서 Lasso 회귀 클래스를 불러옵니다\n",
        "\n",
        "# Lasso 회귀 모델 객체를 생성합니다\n",
        "# Lasso 회귀는 L1 정규화를 적용하여 과대적합을 방지하고, 일부 특성의 계수를 0으로 만들어 특성 선택을 수행합니다\n",
        "lasso = Lasso()\n",
        "\n",
        "# 표준화된 훈련 데이터(train_scaled)와 훈련 타겟 데이터(train_target)를 사용하여 모델을 학습합니다\n",
        "lasso.fit(train_scaled, train_target)\n",
        "\n",
        "# 학습된 Lasso 회귀 모델의 훈련 데이터에 대한 R^2 점수를 출력합니다\n",
        "# 이 값은 모델이 훈련 데이터에 얼마나 잘 적합되는지를 나타냅니다\n",
        "print(lasso.score(train_scaled, train_target))\n"
      ]
    },
    {
      "cell_type": "code",
      "execution_count": 53,
      "metadata": {
        "colab": {
          "base_uri": "https://localhost:8080/"
        },
        "id": "t3jO37UMh2iI",
        "outputId": "232674e2-4d08-4ae2-bba0-040a72a53e44"
      },
      "outputs": [
        {
          "name": "stdout",
          "output_type": "stream",
          "text": [
            "0.9800593698421886\n"
          ]
        }
      ],
      "source": [
        "print(lasso.score(test_scaled, test_target))"
      ]
    },
    {
      "cell_type": "code",
      "execution_count": 55,
      "metadata": {},
      "outputs": [
        {
          "name": "stderr",
          "output_type": "stream",
          "text": [
            "c:\\ProgramData\\anaconda3\\envs\\practice_mldl\\Lib\\site-packages\\sklearn\\linear_model\\_coordinate_descent.py:697: ConvergenceWarning: Objective did not converge. You might want to increase the number of iterations, check the scale of the features or consider increasing regularisation. Duality gap: 1.878e+04, tolerance: 5.183e+02\n",
            "  model = cd_fast.enet_coordinate_descent(\n",
            "c:\\ProgramData\\anaconda3\\envs\\practice_mldl\\Lib\\site-packages\\sklearn\\linear_model\\_coordinate_descent.py:697: ConvergenceWarning: Objective did not converge. You might want to increase the number of iterations, check the scale of the features or consider increasing regularisation. Duality gap: 1.297e+04, tolerance: 5.183e+02\n",
            "  model = cd_fast.enet_coordinate_descent(\n"
          ]
        }
      ],
      "source": [
        "from sklearn.linear_model import Lasso  # Scikit-learn에서 Lasso 회귀 클래스를 불러옵니다\n",
        "\n",
        "# 훈련 데이터의 성능 점수를 저장할 빈 리스트를 생성합니다\n",
        "train_score = []\n",
        "\n",
        "# 테스트 데이터의 성능 점수를 저장할 빈 리스트를 생성합니다\n",
        "test_score = []\n",
        "\n",
        "# 다양한 alpha 값을 리스트로 정의합니다\n",
        "alpha_list = [0.001, 0.01, 0.1, 1, 10, 100]\n",
        "\n",
        "# 각 alpha 값에 대해 반복하며 Lasso 회귀 모델을 학습합니다\n",
        "for alpha in alpha_list:\n",
        "    # 현재 alpha 값과 max_iter=10000을 설정하여 Lasso 회귀 모델 객체를 생성합니다\n",
        "    # max_iter는 최적화 알고리즘의 최대 반복 횟수를 설정하여 수렴을 보장합니다\n",
        "    lasso = Lasso(alpha=alpha, max_iter=10000)\n",
        "    \n",
        "    # 표준화된 훈련 데이터(train_scaled)와 훈련 타겟 데이터(train_target)를 사용하여 모델을 학습합니다\n",
        "    lasso.fit(train_scaled, train_target)\n",
        "    \n",
        "    # 학습된 Lasso 모델의 훈련 데이터에 대한 R^2 점수를 계산하여 train_score 리스트에 추가합니다\n",
        "    train_score.append(lasso.score(train_scaled, train_target))\n",
        "    \n",
        "    # 학습된 Lasso 모델의 테스트 데이터에 대한 R^2 점수를 계산하여 test_score 리스트에 추가합니다\n",
        "    test_score.append(lasso.score(test_scaled, test_target))\n"
      ]
    },
    {
      "cell_type": "code",
      "execution_count": 61,
      "metadata": {
        "colab": {
          "base_uri": "https://localhost:8080/",
          "height": 449
        },
        "id": "7rkH8Dvzh9UI",
        "outputId": "a1b647d7-25d5-4206-edc8-1bf07a279d9d"
      },
      "outputs": [
        {
          "data": {
            "image/png": "[encoded data removed]",
            "text/plain": [
              "<Figure size 640x480 with 1 Axes>"
            ]
          },
          "metadata": {},
          "output_type": "display_data"
        }
      ],
      "source": [
        "# alpha_list의 로그 스케일에 따른 훈련 데이터의 성능 점수를 그래프로 표시합니다\n",
        "# np.log10(alpha_list)로 alpha 값을 로그 스케일로 변환하여 x축에 사용합니다\n",
        "plt.plot(np.log10(alpha_list), train_score, label='Train Score')\n",
        "\n",
        "# alpha_list의 로그 스케일에 따른 테스트 데이터의 성능 점수를 그래프로 표시합니다\n",
        "# np.log10(alpha_list)로 alpha 값을 로그 스케일로 변환하여 x축에 사용합니다\n",
        "plt.plot(np.log10(alpha_list), test_score, label='Test Score')\n",
        "\n",
        "# x축 레이블을 'alpha'로 설정합니다\n",
        "# 로그 스케일로 변환된 alpha 값을 나타냅니다\n",
        "plt.xlabel('alpha')\n",
        "\n",
        "# y축 레이블을 'R^2'로 설정합니다\n",
        "# R^2 (결정 계수) 값으로 모델의 성능을 나타냅니다\n",
        "plt.ylabel('R^2')\n",
        "\n",
        "# 그래프에 레이블을 추가합니다\n",
        "# 'Train Score'와 'Test Score'는 각 선을 설명하는 범례로 추가됩니다\n",
        "plt.legend()\n",
        "\n",
        "# 그래프를 화면에 표시합니다\n",
        "plt.show()\n"
      ]
    },
    {
      "cell_type": "code",
      "execution_count": 62,
      "metadata": {
        "colab": {
          "base_uri": "https://localhost:8080/"
        },
        "id": "t4uFD9Flh_Dw",
        "outputId": "6946c4fd-97af-44b4-b99a-facb65d14661"
      },
      "outputs": [
        {
          "name": "stdout",
          "output_type": "stream",
          "text": [
            "0.9888067471131867\n",
            "0.9824470598706695\n"
          ]
        }
      ],
      "source": [
        "lasso = Lasso(alpha=10)\n",
        "lasso.fit(train_scaled, train_target)\n",
        "\n",
        "print(lasso.score(train_scaled, train_target))\n",
        "print(lasso.score(test_scaled, test_target))"
      ]
    },
    {
      "cell_type": "code",
      "execution_count": 64,
      "metadata": {
        "colab": {
          "base_uri": "https://localhost:8080/"
        },
        "id": "z_bQc3s8Uoai",
        "outputId": "5ad2a313-3880-4078-ac63-4019049b5ec4"
      },
      "outputs": [
        {
          "name": "stdout",
          "output_type": "stream",
          "text": [
            "40\n"
          ]
        }
      ],
      "source": [
        "# Lasso 회귀 모델의 계수 중 0인 값의 개수를 계산하여 출력합니다\n",
        "# lasso.coef_는 Lasso 모델의 각 특성에 대한 계수를 나타냅니다\n",
        "# np.sum(lasso.coef_ == 0) 은 계수 값이 0인 경우를 True로 간주하고 이를 합산하여 0인 계수의 개수를 계산\n",
        "print(np.sum(lasso.coef_ == 0))\n"
      ]
    },
    {
      "cell_type": "code",
      "execution_count": null,
      "metadata": {},
      "outputs": [],
      "source": []
    }
  ],
  "metadata": {
    "colab": {
      "name": "3-3 특성 공학과 규제.ipynb",
      "provenance": []
    },
    "kernelspec": {
      "display_name": "practice_mldl",
      "language": "python",
      "name": "python3"
    },
    "language_info": {
      "codemirror_mode": {
        "name": "ipython",
        "version": 3
      },
      "file_extension": ".py",
      "mimetype": "text/x-python",
      "name": "python",
      "nbconvert_exporter": "python",
      "pygments_lexer": "ipython3",
      "version": "3.11.9"
    }
  },
  "nbformat": 4,
  "nbformat_minor": 0
}
