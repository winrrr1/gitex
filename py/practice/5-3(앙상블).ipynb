{
  "cells": [
    {
      "cell_type": "markdown",
      "metadata": {
        "id": "zp6fW8MP-mrO"
      },
      "source": [
        "# 트리의 앙상블"
      ]
    },
    {
      "cell_type": "markdown",
      "metadata": {
        "id": "pv1IwHmU-mrU"
      },
      "source": [
        "<table align=\"left\">\n",
        "  <td>\n",
        "    <a target=\"_blank\" href=\"https://colab.research.google.com/github/rickiepark/hg-mldl/blob/master/5-3.ipynb\"><img src=\"https://www.tensorflow.org/images/colab_logo_32px.png\" />구글 코랩에서 실행하기</a>\n",
        "  </td>\n",
        "</table>"
      ]
    },
    {
      "cell_type": "markdown",
      "metadata": {
        "id": "dIaIAizcRSG-"
      },
      "source": [
        "## 랜덤포레스트"
      ]
    },
    {
      "cell_type": "code",
      "execution_count": 1,
      "metadata": {
        "id": "ioJUlZ0M_uSZ"
      },
      "outputs": [],
      "source": [
        "import numpy as np  # 수치 데이터를 효율적으로 처리하기 위해 numpy를 가져옵니다.\n",
        "import pandas as pd  # 표 형식의 데이터를 다루기 위해 pandas를 가져옵니다.\n",
        "from sklearn.model_selection import train_test_split  # 데이터를 학습용과 테스트용으로 나누기 위해 train_test_split을 가져옵니다.\n",
        "\n",
        "wine = pd.read_csv('https://bit.ly/wine_csv_data')  # 와인 데이터셋을 CSV 파일에서 불러옵니다.\n",
        "\n",
        "data = wine[['alcohol', 'sugar', 'pH']].to_numpy()  # 'alcohol', 'sugar', 'pH' 열의 데이터를 numpy 배열로 변환합니다.\n",
        "target = wine['class'].to_numpy()  # 'class' 열의 데이터를 numpy 배열로 변환하여 목표 변수로 사용합니다.\n",
        "\n",
        "train_input, test_input, train_target, test_target = train_test_split(data, target, test_size=0.2, random_state=42)  \n",
        "# 데이터를 학습용과 테스트용으로 8:2 비율로 나누고, 무작위성 제어를 위해 시드 값을 설정합니다.\n"
      ]
    },
    {
      "cell_type": "code",
      "execution_count": 2,
      "metadata": {
        "colab": {
          "base_uri": "https://localhost:8080/"
        },
        "id": "JDKQudr7_8nu",
        "outputId": "e9dc5d13-d6ef-4c68-a5c0-52e7f97eaf50"
      },
      "outputs": [
        {
          "name": "stdout",
          "output_type": "stream",
          "text": [
            "0.9973541965122431 0.8905151032797809\n"
          ]
        }
      ],
      "source": [
        "from sklearn.model_selection import cross_validate  # 교차 검증을 수행하기 위해 cross_validate 함수를 가져옵니다.\n",
        "from sklearn.ensemble import RandomForestClassifier  # 랜덤 포레스트 분류기를 사용하기 위해 RandomForestClassifier를 가져옵니다.\n",
        "\n",
        "rf = RandomForestClassifier(n_jobs=-1, random_state=42)  # 랜덤 포레스트 분류기 객체를 생성합니다.\n",
        "# n_jobs=-1: 모든 CPU 코어를 사용해 병렬 처리합니다.\n",
        "# random_state=42: 무작위성을 제어하기 위해 시드 값을 설정합니다.\n",
        "\n",
        "scores = cross_validate(rf, train_input, train_target, return_train_score=True, n_jobs=-1)  \n",
        "# cross_validate를 사용해 교차 검증을 수행합니다.\n",
        "# rf: 사용할 모델 (랜덤 포레스트 분류기).\n",
        "# train_input, train_target: 교차 검증에 사용할 학습 데이터와 레이블.\n",
        "# return_train_score=True: 학습 점수도 반환하도록 설정합니다.\n",
        "# n_jobs=-1: 모든 CPU 코어를 사용해 병렬 처리합니다.\n",
        "\n",
        "print(np.mean(scores['train_score']), np.mean(scores['test_score']))  \n",
        "# 학습 점수와 테스트 점수의 평균을 계산하고 출력합니다."
      ]
    },
    {
      "cell_type": "code",
      "execution_count": 3,
      "metadata": {
        "colab": {
          "base_uri": "https://localhost:8080/"
        },
        "id": "XYDbzXNLG8fK",
        "outputId": "c8b93973-9dbd-433b-f41c-dc0b79a6f94b"
      },
      "outputs": [
        {
          "name": "stdout",
          "output_type": "stream",
          "text": [
            "[0.23167441 0.50039841 0.26792718]\n"
          ]
        }
      ],
      "source": [
        "rf.fit(train_input, train_target)\n",
        "print(rf.feature_importances_)"
      ]
    },
    {
      "cell_type": "code",
      "execution_count": 4,
      "metadata": {
        "colab": {
          "base_uri": "https://localhost:8080/"
        },
        "id": "oMc06S1Fa_A-",
        "outputId": "4a521cc0-651a-4d3d-be00-68403fdcd2b3"
      },
      "outputs": [
        {
          "name": "stdout",
          "output_type": "stream",
          "text": [
            "0.8934000384837406\n"
          ]
        }
      ],
      "source": [
        "rf = RandomForestClassifier(oob_score=True, n_jobs=-1, random_state=42)\n",
        "\n",
        "rf.fit(train_input, train_target)\n",
        "print(rf.oob_score_)"
      ]
    },
    {
      "cell_type": "markdown",
      "metadata": {
        "id": "KdrVoeQZRU14"
      },
      "source": [
        "## 엑스트라트리"
      ]
    },
    {
      "cell_type": "code",
      "execution_count": 5,
      "metadata": {
        "colab": {
          "base_uri": "https://localhost:8080/"
        },
        "id": "noMLdywdOGrE",
        "outputId": "eac10009-dfbb-4b2d-ca78-1a2bb721bb3e"
      },
      "outputs": [
        {
          "name": "stdout",
          "output_type": "stream",
          "text": [
            "0.9974503966084433 0.8887848893166506\n"
          ]
        }
      ],
      "source": [
        "from sklearn.ensemble import ExtraTreesClassifier  # 앙상블 학습 모델인 ExtraTreesClassifier를 사용하기 위해 가져옵니다.\n",
        "\n",
        "et = ExtraTreesClassifier(n_jobs=-1, random_state=42)  # Extra Trees 분류기 객체를 생성합니다.\n",
        "# n_jobs=-1: 모든 CPU 코어를 사용해 병렬 처리합니다.\n",
        "# random_state=42: 무작위성을 제어하기 위해 시드 값을 설정합니다.\n",
        "\n",
        "scores = cross_validate(et, train_input, train_target, return_train_score=True, n_jobs=-1)  \n",
        "# cross_validate를 사용해 Extra Trees 분류기를 교차 검증합니다.\n",
        "# et: 사용할 모델 (Extra Trees 분류기).\n",
        "# train_input, train_target: 교차 검증에 사용할 학습 데이터와 레이블.\n",
        "# return_train_score=True: 학습 점수도 반환하도록 설정합니다.\n",
        "# n_jobs=-1: 모든 CPU 코어를 사용해 병렬 처리합니다.\n",
        "\n",
        "print(np.mean(scores['train_score']), np.mean(scores['test_score']))  \n",
        "# 학습 점수와 테스트 점수의 평균을 계산하고 출력합니다."
      ]
    },
    {
      "cell_type": "code",
      "execution_count": 6,
      "metadata": {
        "colab": {
          "base_uri": "https://localhost:8080/"
        },
        "id": "HnB0_mBqfcXL",
        "outputId": "dea60ed0-c89c-4b28-f36b-f1a632ce6da4"
      },
      "outputs": [
        {
          "name": "stdout",
          "output_type": "stream",
          "text": [
            "[0.20183568 0.52242907 0.27573525]\n"
          ]
        }
      ],
      "source": [
        "et.fit(train_input, train_target)\n",
        "print(et.feature_importances_)"
      ]
    },
    {
      "cell_type": "markdown",
      "metadata": {
        "id": "csKxnaxeRX8s"
      },
      "source": [
        "## 그레이디언트 부스팅"
      ]
    },
    {
      "cell_type": "code",
      "execution_count": 7,
      "metadata": {
        "colab": {
          "base_uri": "https://localhost:8080/"
        },
        "id": "_IlNEFkaNsoG",
        "outputId": "17aa4d4b-4f9e-46cc-da26-0fcb9b698e3c"
      },
      "outputs": [
        {
          "name": "stdout",
          "output_type": "stream",
          "text": [
            "0.8881086892152563 0.8720430147331015\n"
          ]
        }
      ],
      "source": [
        "from sklearn.ensemble import GradientBoostingClassifier  # Gradient Boosting 모델을 사용하기 위해 GradientBoostingClassifier를 가져옵니다.\n",
        "\n",
        "gb = GradientBoostingClassifier(random_state=42)  # Gradient Boosting 분류기 객체를 생성합니다.\n",
        "# random_state=42: 무작위성을 제어하기 위해 시드 값을 설정합니다.\n",
        "\n",
        "scores = cross_validate(gb, train_input, train_target, return_train_score=True, n_jobs=-1)  \n",
        "# cross_validate를 사용해 Gradient Boosting 분류기를 교차 검증합니다.\n",
        "# gb: 사용할 모델 (Gradient Boosting 분류기).\n",
        "# train_input, train_target: 교차 검증에 사용할 학습 데이터와 레이블.\n",
        "# return_train_score=True: 학습 점수도 반환하도록 설정합니다.\n",
        "# n_jobs=-1: 모든 CPU 코어를 사용해 병렬 처리합니다.\n",
        "\n",
        "print(np.mean(scores['train_score']), np.mean(scores['test_score']))  \n",
        "# 학습 점수와 테스트 점수의 평균을 계산하고 출력합니다.\n"
      ]
    },
    {
      "cell_type": "code",
      "execution_count": 8,
      "metadata": {
        "colab": {
          "base_uri": "https://localhost:8080/"
        },
        "id": "pNpeS8EWpeEi",
        "outputId": "4753ea63-ef6d-40c0-8e84-5306c56d3ec5"
      },
      "outputs": [
        {
          "name": "stdout",
          "output_type": "stream",
          "text": [
            "0.9464595437171814 0.8780082549788999\n"
          ]
        }
      ],
      "source": [
        "gb = GradientBoostingClassifier(n_estimators=500, learning_rate=0.2, random_state=42)  \n",
        "# Gradient Boosting 분류기 객체를 생성합니다.\n",
        "# n_estimators=500: 500개의 트리를 사용하여 모델을 학습합니다.\n",
        "# learning_rate=0.2: 각 트리의 기여도를 조절하는 학습률을 설정합니다.\n",
        "# random_state=42: 무작위성을 제어하기 위해 시드 값을 설정합니다.\n",
        "\n",
        "scores = cross_validate(gb, train_input, train_target, return_train_score=True, n_jobs=-1)  \n",
        "# cross_validate를 사용해 Gradient Boosting 분류기를 교차 검증합니다.\n",
        "# gb: 사용할 모델 (Gradient Boosting 분류기).\n",
        "# train_input, train_target: 교차 검증에 사용할 학습 데이터와 레이블.\n",
        "# return_train_score=True: 학습 점수도 반환하도록 설정합니다.\n",
        "# n_jobs=-1: 모든 CPU 코어를 사용해 병렬 처리합니다.\n",
        "\n",
        "print(np.mean(scores['train_score']), np.mean(scores['test_score']))  \n",
        "# 학습 점수와 테스트 점수의 평균을 계산하고 출력합니다.\n"
      ]
    },
    {
      "cell_type": "code",
      "execution_count": 9,
      "metadata": {
        "colab": {
          "base_uri": "https://localhost:8080/"
        },
        "id": "qD6iWVsGqCAE",
        "outputId": "d621da25-66a8-4aef-ce4f-d85b9ac20228"
      },
      "outputs": [
        {
          "name": "stdout",
          "output_type": "stream",
          "text": [
            "[0.15882696 0.6799705  0.16120254]\n"
          ]
        }
      ],
      "source": [
        "gb.fit(train_input, train_target)  \n",
        "# Gradient Boosting 분류기를 사용해 주어진 학습 데이터(train_input)와 레이블(train_target)로 모델을 학습합니다.\n",
        "\n",
        "print(gb.feature_importances_)  \n",
        "# 학습된 모델에서 각 특징의 중요도를 출력합니다.\n",
        "# 중요도는 모델이 예측을 수행할 때 각 특징이 기여한 정도를 나타냅니다.\n"
      ]
    },
    {
      "cell_type": "markdown",
      "metadata": {
        "id": "BthW_II9RbLa"
      },
      "source": [
        "## 히스토그램 기반 부스팅"
      ]
    },
    {
      "cell_type": "code",
      "execution_count": 10,
      "metadata": {
        "colab": {
          "base_uri": "https://localhost:8080/"
        },
        "id": "_3Ct_NNWQbdA",
        "outputId": "ce062886-1cf1-4169-e6e1-2e2d105eeba7"
      },
      "outputs": [
        {
          "name": "stdout",
          "output_type": "stream",
          "text": [
            "0.9321723946453317 0.8801241948619236\n"
          ]
        }
      ],
      "source": [
        "# 사이킷런 1.0 버전 아래에서는 다음 라인의 주석을 해제하고 실행하세요.\n",
        "# from sklearn.experimental import enable_hist_gradient_boosting\n",
        "\n",
        "from sklearn.ensemble import HistGradientBoostingClassifier  \n",
        "# HistGradientBoostingClassifier를 사용하기 위해 가져옵니다.\n",
        "# 히스토그램 기반의 Gradient Boosting 모델로, 큰 데이터셋에 대해 효율적으로 학습할 수 있습니다.\n",
        "\n",
        "hgb = HistGradientBoostingClassifier(random_state=42)  \n",
        "# HistGradientBoostingClassifier 객체를 생성합니다.\n",
        "# random_state=42: 무작위성을 제어하기 위해 시드 값을 설정합니다.\n",
        "\n",
        "scores = cross_validate(hgb, train_input, train_target, return_train_score=True, n_jobs=-1)  \n",
        "# cross_validate를 사용해 HistGradientBoostingClassifier를 교차 검증합니다.\n",
        "# hgb: 사용할 모델 (HistGradientBoostingClassifier).\n",
        "# train_input, train_target: 교차 검증에 사용할 학습 데이터와 레이블.\n",
        "# return_train_score=True: 학습 점수도 반환하도록 설정합니다.\n",
        "# n_jobs=-1: 모든 CPU 코어를 사용해 병렬 처리합니다.\n",
        "\n",
        "print(np.mean(scores['train_score']), np.mean(scores['test_score']))  \n",
        "# 학습 점수와 테스트 점수의 평균을 계산하고 출력합니다.\n"
      ]
    },
    {
      "cell_type": "code",
      "execution_count": 11,
      "metadata": {
        "colab": {
          "base_uri": "https://localhost:8080/"
        },
        "id": "TvlB0GMTS3hn",
        "outputId": "62c06ffb-979f-4488-ff6b-3f42023d135a"
      },
      "outputs": [
        {
          "name": "stdout",
          "output_type": "stream",
          "text": [
            "[0.08876275 0.23438522 0.08027708]\n"
          ]
        }
      ],
      "source": [
        "from sklearn.inspection import permutation_importance  \n",
        "# permutation_importance를 사용하기 위해 가져옵니다.\n",
        "# permutation_importance는 모델의 성능이 각 특징의 무작위 변동에 어떻게 반응하는지를 평가하여 특징의 중요도를 측정합니다.\n",
        "\n",
        "hgb.fit(train_input, train_target)  \n",
        "# HistGradientBoostingClassifier 모델을 학습합니다.\n",
        "# 주어진 학습 데이터(train_input)와 레이블(train_target)로 모델을 학습합니다.\n",
        "\n",
        "result = permutation_importance(hgb, train_input, train_target, n_repeats=10,  \n",
        "                                random_state=42, n_jobs=-1)  \n",
        "# permutation_importance를 사용해 각 특징의 중요도를 평가합니다.\n",
        "# hgb: 평가할 모델 (HistGradientBoostingClassifier).\n",
        "# train_input, train_target: 평가에 사용할 학습 데이터와 레이블.\n",
        "# n_repeats=10: 각 특징에 대해 10번의 반복 평가를 수행합니다.\n",
        "# random_state=42: 무작위성을 제어하기 위해 시드 값을 설정합니다.\n",
        "# n_jobs=-1: 모든 CPU 코어를 사용해 병렬 처리합니다.\n",
        "\n",
        "print(result.importances_mean)  \n",
        "# 각 특징의 중요도 평균을 출력합니다.\n",
        "# result.importances_mean은 각 특징의 중요도의 평균값을 포함하는 배열입니다.\n"
      ]
    },
    {
      "cell_type": "code",
      "execution_count": 12,
      "metadata": {
        "colab": {
          "base_uri": "https://localhost:8080/"
        },
        "id": "S8FfxInn-xBQ",
        "outputId": "fe562fce-1d79-4da9-962b-1d7b91b88899"
      },
      "outputs": [
        {
          "name": "stdout",
          "output_type": "stream",
          "text": [
            "[0.05969231 0.20238462 0.049     ]\n"
          ]
        }
      ],
      "source": [
        "result = permutation_importance(hgb, test_input, test_target, n_repeats=10,  \n",
        "                                random_state=42, n_jobs=-1)  \n",
        "# permutation_importance를 사용해 각 특징의 중요도를 테스트 데이터에서 평가합니다.\n",
        "# hgb: 평가할 모델 (HistGradientBoostingClassifier).\n",
        "# test_input, test_target: 평가에 사용할 테스트 데이터와 레이블.\n",
        "# n_repeats=10: 각 특징에 대해 10번의 반복 평가를 수행합니다.\n",
        "# random_state=42: 무작위성을 제어하기 위해 시드 값을 설정합니다.\n",
        "# n_jobs=-1: 모든 CPU 코어를 사용해 병렬 처리합니다.\n",
        "\n",
        "print(result.importances_mean)  \n",
        "# 각 특징의 중요도 평균을 출력합니다.\n",
        "# result.importances_mean은 각 특징의 중요도의 평균값을 포함하는 배열입니다.\n"
      ]
    },
    {
      "cell_type": "code",
      "execution_count": 13,
      "metadata": {
        "colab": {
          "base_uri": "https://localhost:8080/"
        },
        "id": "pqplZjh0j2nw",
        "outputId": "a24b9e23-ca52-46ec-b360-647935214597"
      },
      "outputs": [
        {
          "data": {
            "text/plain": [
              "0.8723076923076923"
            ]
          },
          "execution_count": 13,
          "metadata": {},
          "output_type": "execute_result"
        }
      ],
      "source": [
        "hgb.score(test_input, test_target)"
      ]
    },
    {
      "cell_type": "markdown",
      "metadata": {
        "id": "8fz_FrezBezR"
      },
      "source": [
        "#### XGBoost"
      ]
    },
    {
      "cell_type": "code",
      "execution_count": 17,
      "metadata": {
        "colab": {
          "base_uri": "https://localhost:8080/"
        },
        "id": "YBYLvOiV6rga",
        "outputId": "58d75137-1c27-4156-a3d1-16a86b7ef197"
      },
      "outputs": [],
      "source": [
        "from xgboost import XGBClassifier  \n",
        "# XGBoost 라이브러리에서 XGBClassifier를 가져옵니다.\n",
        "# XGBClassifier는 XGBoost 알고리즘을 사용하여 분류 문제를 해결합니다.\n",
        "\n",
        "xgb = XGBClassifier(tree_method='hist', random_state=42)  \n",
        "# XGBClassifier 객체를 생성합니다.\n",
        "# tree_method='hist': 히스토그램 기반의 트리 방법을 사용하여 학습을 가속화합니다.\n",
        "# random_state=42: 무작위성을 제어하기 위해 시드 값을 설정합니다.\n",
        "\n",
        "scores = cross_validate(xgb, train_input, train_target, return_train_score=True, n_jobs=-1)  \n",
        "# cross_validate를 사용해 XGBClassifier를 교차 검증합니다.\n",
        "# xgb: 사용할 모델 (XGBClassifier).\n",
        "# train_input, train_target: 교차 검증에 사용할 학습 데이터와 레이블.\n",
        "# return_train_\n"
      ]
    },
    {
      "cell_type": "code",
      "execution_count": 15,
      "metadata": {},
      "outputs": [
        {
          "name": "stdout",
          "output_type": "stream",
          "text": [
            "XGBClassifier(base_score=None, booster=None, callbacks=None,\n",
            "              colsample_bylevel=None, colsample_bynode=None,\n",
            "              colsample_bytree=None, device=None, early_stopping_rounds=None,\n",
            "              enable_categorical=False, eval_metric=None, feature_types=None,\n",
            "              gamma=None, grow_policy=None, importance_type=None,\n",
            "              interaction_constraints=None, learning_rate=None, max_bin=None,\n",
            "              max_cat_threshold=None, max_cat_to_onehot=None,\n",
            "              max_delta_step=None, max_depth=None, max_leaves=None,\n",
            "              min_child_weight=None, missing=nan, monotone_constraints=None,\n",
            "              multi_strategy=None, n_estimators=None, n_jobs=None,\n",
            "              num_parallel_tree=None, random_state=42, ...)\n"
          ]
        }
      ],
      "source": [
        "print(xgb)\n",
        "# print(scores)"
      ]
    },
    {
      "cell_type": "markdown",
      "metadata": {
        "id": "zl6nh6DOBd-B"
      },
      "source": [
        "#### LightGBM"
      ]
    },
    {
      "cell_type": "code",
      "execution_count": 18,
      "metadata": {
        "colab": {
          "base_uri": "https://localhost:8080/"
        },
        "id": "maihlDMP7lmY",
        "outputId": "83921d16-47d4-4bca-c7ff-4548116da90b"
      },
      "outputs": [
        {
          "name": "stdout",
          "output_type": "stream",
          "text": [
            "0.935828414851749 0.8801251203079884\n"
          ]
        }
      ],
      "source": [
        "from lightgbm import LGBMClassifier  \n",
        "# LightGBM 라이브러리에서 LGBMClassifier를 가져옵니다.\n",
        "# LGBMClassifier는 LightGBM 알고리즘을 사용하여 분류 문제를 해결합니다.\n",
        "\n",
        "lgb = LGBMClassifier(random_state=42)  \n",
        "# LGBMClassifier 객체를 생성합니다.\n",
        "# random_state=42: 무작위성을 제어하기 위해 시드 값을 설정합니다.\n",
        "\n",
        "scores = cross_validate(lgb, train_input, train_target, return_train_score=True, n_jobs=-1)  \n",
        "# cross_validate를 사용해 LGBMClassifier를 교차 검증합니다.\n",
        "# lgb: 사용할 모델 (LGBMClassifier).\n",
        "# train_input, train_target: 교차 검증에 사용할 학습 데이터와 레이블.\n",
        "# return_train_score=True: 학습 점수도 반환하도록 설정합니다.\n",
        "# n_jobs=-1: 모든 CPU 코어를 사용해 병렬 처리합니다.\n",
        "\n",
        "print(np.mean(scores['train_score']), np.mean(scores['test_score']))  \n",
        "# 학습 점수와 테스트 점수의 평균을 계산하고 출력합니다.\n",
        "# scores['train_score']: 학습 점수 배열의 평균값.\n",
        "# scores['test_score']: 테스트 점수 배열의 평균값."
      ]
    },
    {
      "cell_type": "code",
      "execution_count": null,
      "metadata": {},
      "outputs": [],
      "source": []
    }
  ],
  "metadata": {
    "colab": {
      "name": "5-3 트리의 앙상블.ipynb",
      "provenance": []
    },
    "kernelspec": {
      "display_name": "practice_mldl",
      "language": "python",
      "name": "python3"
    },
    "language_info": {
      "codemirror_mode": {
        "name": "ipython",
        "version": 3
      },
      "file_extension": ".py",
      "mimetype": "text/x-python",
      "name": "python",
      "nbconvert_exporter": "python",
      "pygments_lexer": "ipython3",
      "version": "3.11.9"
    }
  },
  "nbformat": 4,
  "nbformat_minor": 0
}
