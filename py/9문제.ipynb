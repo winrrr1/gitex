{
 "cells": [
  {
   "cell_type": "code",
   "execution_count": 1,
   "metadata": {},
   "outputs": [
    {
     "name": "stdout",
     "output_type": "stream",
     "text": [
      "[[210, 210], [200, 200]]\n"
     ]
    }
   ],
   "source": [
    "matrix_a = [[1,2,3,5], [1,2,3,4]]\n",
    "matrix_b = [[40,40], [30,30], [20,20], [10,10]]\n",
    "print([[sum([t[0]*t[1] for t in zip(i,j)]) for j in zip(*matrix_b)] for i \n",
    "in matrix_a])"
   ]
  },
  {
   "cell_type": "code",
   "execution_count": 4,
   "metadata": {},
   "outputs": [
    {
     "name": "stdout",
     "output_type": "stream",
     "text": [
      "[[12, 3], [15, 3], [18, 3]]\n"
     ]
    }
   ],
   "source": [
    "a = [1, 2, 3]\n",
    "b = [4, 5, 6]\n",
    "c = [7, 8, 9]\n",
    "print([[sum(k), len(k)] for k in zip(a, b, c)])"
   ]
  },
  {
   "cell_type": "code",
   "execution_count": 8,
   "metadata": {},
   "outputs": [
    {
     "name": "stdout",
     "output_type": "stream",
     "text": [
      "[0, 0, 1, 1, 3]\n"
     ]
    }
   ],
   "source": [
    "int_list = [1, 2, 3, 5, 10]\n",
    "result = [ i//3 for i in int_list]\n",
    "print(result)"
   ]
  },
  {
   "cell_type": "code",
   "execution_count": 11,
   "metadata": {},
   "outputs": [
    {
     "data": {
      "text/plain": [
       "[(1, 2, 3), (4, 5, 6), (7, 8, 9)]"
      ]
     },
     "execution_count": 11,
     "metadata": {},
     "output_type": "execute_result"
    }
   ],
   "source": [
    "def transpose_list(two_dimensional_list):\n",
    "    return [row for row in zip(*two_dimensional_list)]\n",
    "transpose_list([[1, 4, 7], [2, 5, 8], [3, 6, 9]])\n"
   ]
  },
  {
   "cell_type": "code",
   "execution_count": 12,
   "metadata": {},
   "outputs": [
    {
     "data": {
      "text/plain": [
       "'2019-9-6'"
      ]
     },
     "execution_count": 12,
     "metadata": {},
     "output_type": "execute_result"
    }
   ],
   "source": [
    ">>> date_info = {'year': \"2019\", 'month': \"9\", 'day': \"6\"}\n",
    ">>> result = \"{year}-{month}-{day}\".format(**date_info)\n",
    ">>> result"
   ]
  },
  {
   "cell_type": "code",
   "execution_count": 14,
   "metadata": {},
   "outputs": [
    {
     "name": "stdout",
     "output_type": "stream",
     "text": [
      "[5, 10, 15, 20]\n"
     ]
    }
   ],
   "source": [
    "def scalar_vector_product(scalar, vector):\n",
    "    return [scalar * element for element in vector]\n",
    "\n",
    "# 예제 실행\n",
    "result = scalar_vector_product(5, [1, 2, 3, 4])\n",
    "print(result)\n"
   ]
  },
  {
   "cell_type": "code",
   "execution_count": 17,
   "metadata": {},
   "outputs": [
    {
     "ename": "IndentationError",
     "evalue": "expected an indented block (1935793836.py, line 3)",
     "output_type": "error",
     "traceback": [
      "\u001b[1;36m  Cell \u001b[1;32mIn[17], line 3\u001b[1;36m\u001b[0m\n\u001b[1;33m    self.__password = 5678\u001b[0m\n\u001b[1;37m    ^\u001b[0m\n\u001b[1;31mIndentationError\u001b[0m\u001b[1;31m:\u001b[0m expected an indented block\n"
     ]
    }
   ],
   "source": [
    "class Bit(object):\n",
    "    def __init__(self):\n",
    "    self.__password = 5678\n",
    "\n",
    "    def set_password(self, new_pw):\n",
    "    self.__password = new_pw\n",
    "    print('Password changed')\n",
    "\n",
    "    def get_password(self):\n",
    "    print('Your password is :', self.__password)\n",
    "coin = Bit()\n",
    "coin.get_password()\n",
    "coin.set_password(1234)\n",
    "print(coin.__password)"
   ]
  },
  {
   "cell_type": "code",
   "execution_count": 20,
   "metadata": {},
   "outputs": [
    {
     "name": "stdout",
     "output_type": "stream",
     "text": [
      "I left the company\n",
      "I got a job at a company\n",
      "My name is james\n",
      "I am a man\n"
     ]
    }
   ],
   "source": [
    "class Company:\n",
    "    def __init__(self):\n",
    "        self.work = True\n",
    "        self.name = 'Jane' \n",
    "        self.gender = 'woman' \n",
    "\n",
    "    def retire(self):\n",
    "        self.work = False\n",
    "class Employee(Company):\n",
    "    def __init__(self, name, gender):\n",
    "        super().__init__()\n",
    "        self.name = name\n",
    "        self.gender = gender\n",
    " \n",
    "    def introduce(self):\n",
    "        if self.work == True:\n",
    "            print('I got a job at a company')\n",
    "            print('My name is', self.name)\n",
    "            print('I am a', self.gender)\n",
    "        if self.work == False:\n",
    "            print('I left the company')\n",
    "            \n",
    "em = Employee('james', 'man')\n",
    "em.retire()\n",
    "em.introduce()\n",
    "Employee('james', 'man').introduce()"
   ]
  },
  {
   "cell_type": "code",
   "execution_count": 21,
   "metadata": {},
   "outputs": [
    {
     "name": "stdout",
     "output_type": "stream",
     "text": [
      "Korean\n",
      "English\n",
      "I'm Groot!\n"
     ]
    }
   ],
   "source": [
    "class Person(object):\n",
    "    def __init__(self, name): \n",
    "        self.name = name\n",
    "def language(self): \n",
    "    pass\n",
    "class Earthling(Person):\n",
    "    def language(self, language): \n",
    "        return language\n",
    "class Groot(Person):\n",
    "    def language(self, language): \n",
    "        return \"I'm Groot!\"\n",
    "    \n",
    "name = ['Hanbit', 'Dr.Strange', 'Groot']\n",
    "country = ['Korea', 'USA', 'Galaxy']\n",
    "language = ['Korean', 'English', 'Groot']\n",
    "\n",
    "for idx, name in enumerate(name):\n",
    "    if country[idx].upper() != 'GALAXY': \n",
    "        person = Earthling(name) \n",
    "        print(person.language(language[idx]))\n",
    "    else:\n",
    "        groot = Groot(name) \n",
    "        print(groot.language(language[idx]))"
   ]
  },
  {
   "cell_type": "code",
   "execution_count": 22,
   "metadata": {},
   "outputs": [
    {
     "name": "stdout",
     "output_type": "stream",
     "text": [
      "module loaded\n",
      "module run\n"
     ]
    }
   ],
   "source": [
    "print('module loaded')\n",
    "if __name__ == '__main__':\n",
    " print('module run')\n",
    "else:\n",
    " print('module imported')"
   ]
  },
  {
   "cell_type": "code",
   "execution_count": 24,
   "metadata": {},
   "outputs": [
    {
     "data": {
      "text/plain": [
       "[[1, 2, 3, 5], [1, 2, 3, 4]]"
      ]
     },
     "execution_count": 24,
     "metadata": {},
     "output_type": "execute_result"
    }
   ],
   "source": [
    "matrix_a = [[1,2,3,5], [1,2,3,4]]\n",
    "matrix_a"
   ]
  },
  {
   "cell_type": "code",
   "execution_count": 25,
   "metadata": {},
   "outputs": [
    {
     "data": {
      "text/plain": [
       "[[40, 40], [30, 30], [20, 20], [10, 10]]"
      ]
     },
     "execution_count": 25,
     "metadata": {},
     "output_type": "execute_result"
    }
   ],
   "source": [
    "matrix_b = [[40,40], [30,30], [20,20], [10,10]]\n",
    "matrix_b"
   ]
  },
  {
   "cell_type": "code",
   "execution_count": 32,
   "metadata": {},
   "outputs": [
    {
     "name": "stdout",
     "output_type": "stream",
     "text": [
      "[[210, 210], [200, 200]]\n"
     ]
    }
   ],
   "source": [
    "print([[sum([t[0]*t[1] for t in zip(i,j)]) for j in zip(*matrix_b)] for i \n",
    "in matrix_a])"
   ]
  },
  {
   "cell_type": "code",
   "execution_count": null,
   "metadata": {},
   "outputs": [],
   "source": [
    "matrix_a = [[1,2,3,5], [1,2,3,4]]\n",
    "matrix_b = [[40,40], [30,30], [20,20], [10,10]]\n",
    "print([[sum([t[0]*t[1] for t in zip(i,j)]) for j in zip(*matrix_b)] for i \n",
    "in matrix_a])"
   ]
  }
 ],
 "metadata": {
  "kernelspec": {
   "display_name": "ai1",
   "language": "python",
   "name": "python3"
  },
  "language_info": {
   "codemirror_mode": {
    "name": "ipython",
    "version": 3
   },
   "file_extension": ".py",
   "mimetype": "text/x-python",
   "name": "python",
   "nbconvert_exporter": "python",
   "pygments_lexer": "ipython3",
   "version": "3.9.19"
  }
 },
 "nbformat": 4,
 "nbformat_minor": 2
}
