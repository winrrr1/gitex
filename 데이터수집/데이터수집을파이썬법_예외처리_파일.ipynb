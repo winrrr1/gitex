{
 "cells": [
  {
   "cell_type": "markdown",
   "metadata": {},
   "source": [
    "## 예외처리"
   ]
  },
  {
   "cell_type": "code",
   "execution_count": 1,
   "metadata": {},
   "outputs": [
    {
     "name": "stdout",
     "output_type": "stream",
     "text": [
      "hi\n"
     ]
    }
   ],
   "source": [
    "print(\"hi\")"
   ]
  },
  {
   "cell_type": "code",
   "execution_count": 3,
   "metadata": {},
   "outputs": [
    {
     "data": {
      "text/plain": [
       "2.0"
      ]
     },
     "execution_count": 3,
     "metadata": {},
     "output_type": "execute_result"
    }
   ],
   "source": [
    "4 / 2"
   ]
  },
  {
   "cell_type": "code",
   "execution_count": 2,
   "metadata": {},
   "outputs": [
    {
     "ename": "ZeroDivisionError",
     "evalue": "division by zero",
     "output_type": "error",
     "traceback": [
      "\u001b[1;31m---------------------------------------------------------------------------\u001b[0m",
      "\u001b[1;31mZeroDivisionError\u001b[0m                         Traceback (most recent call last)",
      "Cell \u001b[1;32mIn[2], line 1\u001b[0m\n\u001b[1;32m----> 1\u001b[0m \u001b[38;5;241;43m4\u001b[39;49m\u001b[43m \u001b[49m\u001b[38;5;241;43m/\u001b[39;49m\u001b[43m \u001b[49m\u001b[38;5;241;43m0\u001b[39;49m\n",
      "\u001b[1;31mZeroDivisionError\u001b[0m: division by zero"
     ]
    }
   ],
   "source": [
    "4 / 0"
   ]
  },
  {
   "cell_type": "code",
   "execution_count": 4,
   "metadata": {},
   "outputs": [
    {
     "name": "stdout",
     "output_type": "stream",
     "text": [
      "hi\n"
     ]
    }
   ],
   "source": [
    "try:\n",
    "    4/2\n",
    "    print(\"hi\")\n",
    "except Exception:\n",
    "    print(\"0으로 나누지 마세요\")"
   ]
  },
  {
   "cell_type": "code",
   "execution_count": 5,
   "metadata": {},
   "outputs": [
    {
     "name": "stdout",
     "output_type": "stream",
     "text": [
      "0으로 나누지 마세요\n"
     ]
    }
   ],
   "source": [
    "try:\n",
    "    4/0\n",
    "    print(\"hi\")\n",
    "except Exception:\n",
    "    print(\"0으로 나누지 마세요\")"
   ]
  },
  {
   "cell_type": "code",
   "execution_count": 1,
   "metadata": {},
   "outputs": [
    {
     "name": "stdout",
     "output_type": "stream",
     "text": [
      "hi\n",
      "무조건 여기는 찍힘\n"
     ]
    }
   ],
   "source": [
    "try:\n",
    "    4/2\n",
    "    print(\"hi\")\n",
    "except Exception:\n",
    "    print(\"0으로 나누지 마세요\")\n",
    "finally:\n",
    "    print(\"무조건 여기는 찍힘\")"
   ]
  },
  {
   "cell_type": "code",
   "execution_count": 2,
   "metadata": {},
   "outputs": [
    {
     "name": "stdout",
     "output_type": "stream",
     "text": [
      "0으로 나누지 마세요\n",
      "무조건 여기는 찍힘\n"
     ]
    }
   ],
   "source": [
    "try:\n",
    "    4/0\n",
    "    print(\"hi\")\n",
    "except Exception:\n",
    "    print(\"0으로 나누지 마세요\")\n",
    "finally:\n",
    "    print(\"무조건 여기는 찍힘\")"
   ]
  },
  {
   "cell_type": "code",
   "execution_count": 4,
   "metadata": {},
   "outputs": [
    {
     "ename": "Exception",
     "evalue": "",
     "output_type": "error",
     "traceback": [
      "\u001b[1;31m---------------------------------------------------------------------------\u001b[0m",
      "\u001b[1;31mException\u001b[0m                                 Traceback (most recent call last)",
      "Cell \u001b[1;32mIn[4], line 4\u001b[0m\n\u001b[0;32m      1\u001b[0m \u001b[38;5;66;03m# 강제로 예외를 발생시키는 예약어\u001b[39;00m\n\u001b[0;32m      3\u001b[0m \u001b[38;5;28;01mif\u001b[39;00m \u001b[38;5;28;01mTrue\u001b[39;00m:\n\u001b[1;32m----> 4\u001b[0m     \u001b[38;5;28;01mraise\u001b[39;00m \u001b[38;5;167;01mException\u001b[39;00m\n\u001b[0;32m      5\u001b[0m \u001b[38;5;28;01melse\u001b[39;00m:\n\u001b[0;32m      6\u001b[0m     \u001b[38;5;28mprint\u001b[39m(\u001b[38;5;124m\"\u001b[39m\u001b[38;5;124mhi\u001b[39m\u001b[38;5;124m\"\u001b[39m)\n",
      "\u001b[1;31mException\u001b[0m: "
     ]
    }
   ],
   "source": [
    "# 강제로 예외를 발생시키는 예약어\n",
    "\n",
    "if True:\n",
    "    raise Exception\n",
    "else:\n",
    "    print(\"hi\")"
   ]
  },
  {
   "cell_type": "code",
   "execution_count": 5,
   "metadata": {},
   "outputs": [
    {
     "name": "stdout",
     "output_type": "stream",
     "text": [
      "hi\n"
     ]
    }
   ],
   "source": [
    "if False:\n",
    "    raise Exception\n",
    "else:\n",
    "    print(\"hi\")"
   ]
  },
  {
   "cell_type": "code",
   "execution_count": 11,
   "metadata": {},
   "outputs": [
    {
     "data": {
      "text/plain": [
       "'c:\\\\ex\\\\데이터수집'"
      ]
     },
     "execution_count": 11,
     "metadata": {},
     "output_type": "execute_result"
    }
   ],
   "source": [
    "pwd"
   ]
  },
  {
   "cell_type": "markdown",
   "metadata": {},
   "source": [
    "## 파일 다루기"
   ]
  },
  {
   "cell_type": "code",
   "execution_count": 12,
   "metadata": {},
   "outputs": [
    {
     "name": "stdout",
     "output_type": "stream",
     "text": [
      "Help on function open in module io:\n",
      "\n",
      "open(file, mode='r', buffering=-1, encoding=None, errors=None, newline=None, closefd=True, opener=None)\n",
      "    Open file and return a stream.  Raise OSError upon failure.\n",
      "    \n",
      "    file is either a text or byte string giving the name (and the path\n",
      "    if the file isn't in the current working directory) of the file to\n",
      "    be opened or an integer file descriptor of the file to be\n",
      "    wrapped. (If a file descriptor is given, it is closed when the\n",
      "    returned I/O object is closed, unless closefd is set to False.)\n",
      "    \n",
      "    mode is an optional string that specifies the mode in which the file\n",
      "    is opened. It defaults to 'r' which means open for reading in text\n",
      "    mode.  Other common values are 'w' for writing (truncating the file if\n",
      "    it already exists), 'x' for creating and writing to a new file, and\n",
      "    'a' for appending (which on some Unix systems, means that all writes\n",
      "    append to the end of the file regardless of the current seek position).\n",
      "    In text mode, if encoding is not specified the encoding used is platform\n",
      "    dependent: locale.getpreferredencoding(False) is called to get the\n",
      "    current locale encoding. (For reading and writing raw bytes use binary\n",
      "    mode and leave encoding unspecified.) The available modes are:\n",
      "    \n",
      "    ========= ===============================================================\n",
      "    Character Meaning\n",
      "    --------- ---------------------------------------------------------------\n",
      "    'r'       open for reading (default)\n",
      "    'w'       open for writing, truncating the file first\n",
      "    'x'       create a new file and open it for writing\n",
      "    'a'       open for writing, appending to the end of the file if it exists\n",
      "    'b'       binary mode\n",
      "    't'       text mode (default)\n",
      "    '+'       open a disk file for updating (reading and writing)\n",
      "    'U'       universal newline mode (deprecated)\n",
      "    ========= ===============================================================\n",
      "    \n",
      "    The default mode is 'rt' (open for reading text). For binary random\n",
      "    access, the mode 'w+b' opens and truncates the file to 0 bytes, while\n",
      "    'r+b' opens the file without truncation. The 'x' mode implies 'w' and\n",
      "    raises an `FileExistsError` if the file already exists.\n",
      "    \n",
      "    Python distinguishes between files opened in binary and text modes,\n",
      "    even when the underlying operating system doesn't. Files opened in\n",
      "    binary mode (appending 'b' to the mode argument) return contents as\n",
      "    bytes objects without any decoding. In text mode (the default, or when\n",
      "    't' is appended to the mode argument), the contents of the file are\n",
      "    returned as strings, the bytes having been first decoded using a\n",
      "    platform-dependent encoding or using the specified encoding if given.\n",
      "    \n",
      "    'U' mode is deprecated and will raise an exception in future versions\n",
      "    of Python.  It has no effect in Python 3.  Use newline to control\n",
      "    universal newlines mode.\n",
      "    \n",
      "    buffering is an optional integer used to set the buffering policy.\n",
      "    Pass 0 to switch buffering off (only allowed in binary mode), 1 to select\n",
      "    line buffering (only usable in text mode), and an integer > 1 to indicate\n",
      "    the size of a fixed-size chunk buffer.  When no buffering argument is\n",
      "    given, the default buffering policy works as follows:\n",
      "    \n",
      "    * Binary files are buffered in fixed-size chunks; the size of the buffer\n",
      "      is chosen using a heuristic trying to determine the underlying device's\n",
      "      \"block size\" and falling back on `io.DEFAULT_BUFFER_SIZE`.\n",
      "      On many systems, the buffer will typically be 4096 or 8192 bytes long.\n",
      "    \n",
      "    * \"Interactive\" text files (files for which isatty() returns True)\n",
      "      use line buffering.  Other text files use the policy described above\n",
      "      for binary files.\n",
      "    \n",
      "    encoding is the name of the encoding used to decode or encode the\n",
      "    file. This should only be used in text mode. The default encoding is\n",
      "    platform dependent, but any encoding supported by Python can be\n",
      "    passed.  See the codecs module for the list of supported encodings.\n",
      "    \n",
      "    errors is an optional string that specifies how encoding errors are to\n",
      "    be handled---this argument should not be used in binary mode. Pass\n",
      "    'strict' to raise a ValueError exception if there is an encoding error\n",
      "    (the default of None has the same effect), or pass 'ignore' to ignore\n",
      "    errors. (Note that ignoring encoding errors can lead to data loss.)\n",
      "    See the documentation for codecs.register or run 'help(codecs.Codec)'\n",
      "    for a list of the permitted encoding error strings.\n",
      "    \n",
      "    newline controls how universal newlines works (it only applies to text\n",
      "    mode). It can be None, '', '\\n', '\\r', and '\\r\\n'.  It works as\n",
      "    follows:\n",
      "    \n",
      "    * On input, if newline is None, universal newlines mode is\n",
      "      enabled. Lines in the input can end in '\\n', '\\r', or '\\r\\n', and\n",
      "      these are translated into '\\n' before being returned to the\n",
      "      caller. If it is '', universal newline mode is enabled, but line\n",
      "      endings are returned to the caller untranslated. If it has any of\n",
      "      the other legal values, input lines are only terminated by the given\n",
      "      string, and the line ending is returned to the caller untranslated.\n",
      "    \n",
      "    * On output, if newline is None, any '\\n' characters written are\n",
      "      translated to the system default line separator, os.linesep. If\n",
      "      newline is '' or '\\n', no translation takes place. If newline is any\n",
      "      of the other legal values, any '\\n' characters written are translated\n",
      "      to the given string.\n",
      "    \n",
      "    If closefd is False, the underlying file descriptor will be kept open\n",
      "    when the file is closed. This does not work when a file name is given\n",
      "    and must be True in that case.\n",
      "    \n",
      "    A custom opener can be used by passing a callable as *opener*. The\n",
      "    underlying file descriptor for the file object is then obtained by\n",
      "    calling *opener* with (*file*, *flags*). *opener* must return an open\n",
      "    file descriptor (passing os.open as *opener* results in functionality\n",
      "    similar to passing None).\n",
      "    \n",
      "    open() returns a file object whose type depends on the mode, and\n",
      "    through which the standard file operations such as reading and writing\n",
      "    are performed. When open() is used to open a file in a text mode ('w',\n",
      "    'r', 'wt', 'rt', etc.), it returns a TextIOWrapper. When used to open\n",
      "    a file in a binary mode, the returned class varies: in read binary\n",
      "    mode, it returns a BufferedReader; in write binary and append binary\n",
      "    modes, it returns a BufferedWriter, and in read/write mode, it returns\n",
      "    a BufferedRandom.\n",
      "    \n",
      "    It is also possible to use a string or bytearray as a file for both\n",
      "    reading and writing. For strings StringIO can be used like a file\n",
      "    opened in a text mode, and for bytes a BytesIO can be used like a file\n",
      "    opened in a binary mode.\n",
      "\n"
     ]
    }
   ],
   "source": [
    "help(open)"
   ]
  },
  {
   "cell_type": "code",
   "execution_count": 13,
   "metadata": {},
   "outputs": [
    {
     "data": {
      "text/plain": [
       "<_io.TextIOWrapper name='hello.txt' mode='w' encoding='UTF-8'>"
      ]
     },
     "execution_count": 13,
     "metadata": {},
     "output_type": "execute_result"
    }
   ],
   "source": [
    "open('hello.txt', mode='w')"
   ]
  },
  {
   "cell_type": "code",
   "execution_count": 14,
   "metadata": {},
   "outputs": [
    {
     "data": {
      "text/plain": [
       "<_io.TextIOWrapper name='C:/ex/game/run.py' mode='w' encoding='UTF-8'>"
      ]
     },
     "execution_count": 14,
     "metadata": {},
     "output_type": "execute_result"
    }
   ],
   "source": [
    "open('C:/ex/game/run.py', mode='w')"
   ]
  },
  {
   "cell_type": "code",
   "execution_count": 15,
   "metadata": {},
   "outputs": [],
   "source": [
    "f = open('hello2.txt', mode='w')"
   ]
  },
  {
   "cell_type": "markdown",
   "metadata": {},
   "source": []
  },
  {
   "cell_type": "code",
   "execution_count": 16,
   "metadata": {},
   "outputs": [],
   "source": [
    "f.close()"
   ]
  },
  {
   "cell_type": "code",
   "execution_count": 17,
   "metadata": {},
   "outputs": [],
   "source": [
    "with open('hello3.txt', mode='w') as f2:\n",
    "    f2.write(\"hi\")"
   ]
  },
  {
   "cell_type": "code",
   "execution_count": 19,
   "metadata": {},
   "outputs": [
    {
     "name": "stdout",
     "output_type": "stream",
     "text": [
      "hi\n"
     ]
    }
   ],
   "source": [
    "with open('hello3.txt') as f3:\n",
    "    print(f3.read())"
   ]
  },
  {
   "cell_type": "code",
   "execution_count": 23,
   "metadata": {},
   "outputs": [],
   "source": [
    "with open('song2.txt', mode='w') as f4:\n",
    "    f4.write('''동해물과 백두산이\n",
    "             마르고 닳도록2\n",
    "             ''')"
   ]
  },
  {
   "cell_type": "code",
   "execution_count": 24,
   "metadata": {},
   "outputs": [
    {
     "name": "stdout",
     "output_type": "stream",
     "text": [
      "동해물과 백두산이\n",
      "             마르고 닳도록2\n",
      "             \n"
     ]
    }
   ],
   "source": [
    "with open('song2.txt') as f5:\n",
    "    result = f5.read()\n",
    "    print(result)"
   ]
  },
  {
   "cell_type": "code",
   "execution_count": 25,
   "metadata": {},
   "outputs": [
    {
     "data": {
      "text/plain": [
       "'동해물과 백두산이\\n             마르고 닳도록2\\n             '"
      ]
     },
     "execution_count": 25,
     "metadata": {},
     "output_type": "execute_result"
    }
   ],
   "source": [
    "result"
   ]
  },
  {
   "cell_type": "code",
   "execution_count": 26,
   "metadata": {},
   "outputs": [
    {
     "name": "stdout",
     "output_type": "stream",
     "text": [
      "동해물과 백두산이\n",
      "             마르고 닳도록2\n",
      "             \n"
     ]
    }
   ],
   "source": [
    "with open('song2.txt') as f5:\n",
    "    result = f5.read()\n",
    "    print(result)"
   ]
  },
  {
   "cell_type": "markdown",
   "metadata": {},
   "source": [
    "## 데이터 수집"
   ]
  },
  {
   "cell_type": "code",
   "execution_count": 27,
   "metadata": {},
   "outputs": [],
   "source": [
    "import requests"
   ]
  },
  {
   "cell_type": "code",
   "execution_count": 29,
   "metadata": {},
   "outputs": [],
   "source": [
    "# help(requests)"
   ]
  },
  {
   "cell_type": "code",
   "execution_count": 53,
   "metadata": {},
   "outputs": [],
   "source": [
    "status_code = requests.get(\n",
    "    'https://n.news.naver.com/article/005/0001715267?cds=news_media_pc&type=editn')"
   ]
  },
  {
   "cell_type": "code",
   "execution_count": 36,
   "metadata": {},
   "outputs": [
    {
     "data": {
      "text/plain": [
       "<Response [200]>"
      ]
     },
     "execution_count": 36,
     "metadata": {},
     "output_type": "execute_result"
    }
   ],
   "source": [
    "status_code"
   ]
  },
  {
   "cell_type": "code",
   "execution_count": 37,
   "metadata": {},
   "outputs": [
    {
     "data": {
      "text/plain": [
       "b'<!DOCTYPE html>\\n<html lang=\"ko\">\\n<head>\\n  <meta charset=\"utf-8\" />\\n  <meta name=\"viewport\" content=\"width=device-width,initial-scale=1,maximum-scale=1,minimum-scale=1,user-scalable=no\">\\n\\n  <meta property=\"og:title\" content=\"\\xec\\x82\\xbc\\xec\\x84\\xb1\\xec\\xa0\\x84\\xec\\x9e\\x90 - \\xeb\\x84\\xa4\\xec\\x9d\\xb4\\xeb\\xb2\\x84\\xed\\x8e\\x98\\xec\\x9d\\xb4 \\xec\\xa6\\x9d\\xea\\xb6\\x8c\" />\\n  <meta property=\"og:type\" content=\"article\" />\\n  <meta property=\"og:url\" content=\"https://m.stock.naver.com/domestic/stock/005930/total\" />\\n  <meta property=\"og:description\" content=\"\\xea\\xb4\\x80\\xec\\x8b\\xac\\xec\\xa2\\x85\\xeb\\xaa\\xa9\\xec\\x9d\\x98 \\xec\\x8b\\xa4\\xec\\x8b\\x9c\\xea\\xb0\\x84 \\xec\\xa3\\xbc\\xea\\xb0\\x80\\xeb\\xa5\\xbc \\xea\\xb0\\x80\\xec\\x9e\\xa5 \\xeb\\xb9\\xa0\\xeb\\xa5\\xb4\\xea\\xb2\\x8c \\xed\\x99\\x95\\xec\\x9d\\xb8\\xed\\x95\\x98\\xeb\\x8a\\x94 \\xea\\xb3\\xb3\"/>\\n  <meta property=\"og:image\" content=\"https://ssl.pstatic.net/static/m/stock/im/2016/08/og_stock-200.png\"/>\\n  <meta property=\"og:article:author\" content=\"\\xeb\\x84\\xa4\\xec\\x9d\\xb4\\xeb\\xb2\\x84\\xed\\x8e\\x98\\xec\\x9d\\xb4\\xec\\xa6\\x9d\\xea\\xb6\\x8c\"/>\\n  <meta property=\"og:article:author:url\" content=\"https://m.stock.naver.com\"/>\\n  <meta property=\"og:article:thumbnailUrl\" content=\"https://ssl.pstatic.net/static/m/stock/im/2016/08/og_stock-200.png\"/>\\n\\n  <title>\\xeb\\x84\\xa4\\xec\\x9d\\xb4\\xeb\\xb2\\x84\\xed\\x8e\\x98\\xec\\x9d\\xb4 \\xec\\xa6\\x9d\\xea\\xb6\\x8c</title>\\n  <link rel=\"shortcut icon\" href=\"https://ssl.pstatic.net/imgstock/favi/favicon.ico\">\\n  <meta name=\"apple-mobile-web-app-title\" content=\"\\xeb\\x84\\xa4\\xec\\x9d\\xb4\\xeb\\xb2\\x84\\xed\\x8e\\x98\\xec\\x9d\\xb4 \\xec\\xa6\\x9d\\xea\\xb6\\x8c\" />\\n  <link rel=\"apple-touch-icon-precomposed\" href=\"https://ssl.pstatic.net/imgstock/favi/favicon-96x96.png\"/>\\n  <link rel=\"apple-touch-icon-precomposed\" sizes=\"180x180\" href=\"https://ssl.pstatic.net/imgstock/favi/favicon-180x180.png\"/>\\n  <link rel=\"apple-touch-icon-precomposed\" sizes=\"192x192\" href=\"https://ssl.pstatic.net/imgstock/favi/favicon-192x192.png\"/>\\n  <link rel=\"icon\" type=\"image/png\" sizes=\"16x16\" href=\"https://ssl.pstatic.net/imgstock/favi/favicon-16x16.png\"/>\\n  <link rel=\"icon\" type=\"image/png\" sizes=\"32x32\" href=\"https://ssl.pstatic.net/imgstock/favi/favicon-32x32.png\"/>\\n  <link rel=\"icon\" type=\"image/png\" sizes=\"96x96\" href=\"https://ssl.pstatic.net/imgstock/favi/favicon-96x96.png\"/>\\n  <link rel=\"icon\" type=\"image/png\" sizes=\"192x192\" href=\"https://ssl.pstatic.net/imgstock/favi/favicon-192x192.png\"/>\\n\\n  <link href=\"https://ssl.pstatic.net/imgstock/stock/build/prod/mobile/20240725174417/static/css/8.f54351d9.chunk.css\" rel=\"stylesheet\">\\n<link href=\"https://ssl.pstatic.net/imgstock/stock/build/prod/mobile/20240725174417/static/css/main.3ed069da.chunk.css\" rel=\"stylesheet\">\\n  <script type=\"text/javascript\" src=\"https://ssl.pstatic.net/imgstock/stock/build/prod/mobile/20240725174417/header.js?20240725174417\"></script>\\n<script type=\"text/javascript\" src=\"https://ssl.pstatic.net/tveta/libs/glad/prod/gfp-core.js\"></script>\\n</head>\\n<body class=\"international\">\\n <div id=\"root\"></div>\\n <script>!function(e){function t(t){for(var n,o,c=t[0],i=t[1],f=t[2],l=0,d=[];l<c.length;l++)o=c[l],Object.prototype.hasOwnProperty.call(a,o)&&a[o]&&d.push(a[o][0]),a[o]=0;for(n in i)Object.prototype.hasOwnProperty.call(i,n)&&(e[n]=i[n]);for(s&&s(t);d.length;)d.shift()();return u.push.apply(u,f||[]),r()}function r(){for(var e,t=0;t<u.length;t++){for(var r=u[t],n=!0,o=1;o<r.length;o++){var i=r[o];0!==a[i]&&(n=!1)}n&&(u.splice(t--,1),e=c(c.s=r[0]))}return e}var n={},o={7:0},a={7:0},u=[];function c(t){if(n[t])return n[t].exports;var r=n[t]={i:t,l:!1,exports:{}};return e[t].call(r.exports,r,r.exports,c),r.l=!0,r.exports}c.e=function(e){var t=[];o[e]?t.push(o[e]):0!==o[e]&&{3:1,4:1,9:1,10:1,11:1,12:1,13:1}[e]&&t.push(o[e]=new Promise((function(t,r){for(var n=\"static/css/\"+({}[e]||e)+\".\"+{0:\"31d6cfe0\",1:\"31d6cfe0\",2:\"31d6cfe0\",3:\"90f0529c\",4:\"d0f8b570\",5:\"31d6cfe0\",9:\"e5b2684d\",10:\"2d79b669\",11:\"0a191f0d\",12:\"9b0f1a99\",13:\"ee301ce6\"}[e]+\".chunk.css\",a=c.p+n,u=document.getElementsByTagName(\"link\"),i=0;i<u.length;i++){var f=(s=u[i]).getAttribute(\"data-href\")||s.getAttribute(\"href\");if(\"stylesheet\"===s.rel&&(f===n||f===a))return t()}var l=document.getElementsByTagName(\"style\");for(i=0;i<l.length;i++){var s;if((f=(s=l[i]).getAttribute(\"data-href\"))===n||f===a)return t()}var d=document.createElement(\"link\");d.rel=\"stylesheet\",d.type=\"text/css\",d.onload=t,d.onerror=function(t){var n=t&&t.target&&t.target.src||a,u=new Error(\"Loading CSS chunk \"+e+\" failed.\\\\n(\"+n+\")\");u.code=\"CSS_CHUNK_LOAD_FAILED\",u.request=n,delete o[e],d.parentNode.removeChild(d),r(u)},d.href=a,document.getElementsByTagName(\"head\")[0].appendChild(d)})).then((function(){o[e]=0})));var r=a[e];if(0!==r)if(r)t.push(r[2]);else{var n=new Promise((function(t,n){r=a[e]=[t,n]}));t.push(r[2]=n);var u,i=document.createElement(\"script\");i.charset=\"utf-8\",i.timeout=120,c.nc&&i.setAttribute(\"nonce\",c.nc),i.src=function(e){return c.p+\"static/js/\"+({}[e]||e)+\".\"+{0:\"f716a191\",1:\"001b70c6\",2:\"04fec60d\",3:\"3ff8fdc8\",4:\"40fa26af\",5:\"4e057780\",9:\"7bafed4d\",10:\"b7044b50\",11:\"d36949ae\",12:\"bf7825d8\",13:\"c38fd425\"}[e]+\".chunk.js\"}(e);var f=new Error;u=function(t){i.onerror=i.onload=null,clearTimeout(l);var r=a[e];if(0!==r){if(r){var n=t&&(\"load\"===t.type?\"missing\":t.type),o=t&&t.target&&t.target.src;f.message=\"Loading chunk \"+e+\" failed.\\\\n(\"+n+\": \"+o+\")\",f.name=\"ChunkLoadError\",f.type=n,f.request=o,r[1](f)}a[e]=void 0}};var l=setTimeout((function(){u({type:\"timeout\",target:i})}),12e4);i.onerror=i.onload=u,document.head.appendChild(i)}return Promise.all(t)},c.m=e,c.c=n,c.d=function(e,t,r){c.o(e,t)||Object.defineProperty(e,t,{enumerable:!0,get:r})},c.r=function(e){\"undefined\"!=typeof Symbol&&Symbol.toStringTag&&Object.defineProperty(e,Symbol.toStringTag,{value:\"Module\"}),Object.defineProperty(e,\"__esModule\",{value:!0})},c.t=function(e,t){if(1&t&&(e=c(e)),8&t)return e;if(4&t&&\"object\"==typeof e&&e&&e.__esModule)return e;var r=Object.create(null);if(c.r(r),Object.defineProperty(r,\"default\",{enumerable:!0,value:e}),2&t&&\"string\"!=typeof e)for(var n in e)c.d(r,n,function(t){return e[t]}.bind(null,n));return r},c.n=function(e){var t=e&&e.__esModule?function(){return e.default}:function(){return e};return c.d(t,\"a\",t),t},c.o=function(e,t){return Object.prototype.hasOwnProperty.call(e,t)},c.p=\"https://ssl.pstatic.net/imgstock/stock/build/prod/mobile/20240725174417/\",c.oe=function(e){throw console.error(e),e};var i=this[\"webpackJsonpweb-mobile-frontend\"]=this[\"webpackJsonpweb-mobile-frontend\"]||[],f=i.push.bind(i);i.push=t,i=i.slice();for(var l=0;l<i.length;l++)t(i[l]);var s=f;r()}([])</script>\\n <script src=\"https://ssl.pstatic.net/imgstock/stock/build/prod/mobile/20240725174417/static/js/8.3e995b77.chunk.js\"></script>\\n <script src=\"https://ssl.pstatic.net/imgstock/stock/build/prod/mobile/20240725174417/static/js/main.c1aa759a.chunk.js\"></script>\\n</body>\\n</html>\\n'"
      ]
     },
     "execution_count": 37,
     "metadata": {},
     "output_type": "execute_result"
    }
   ],
   "source": [
    "status_code.content"
   ]
  },
  {
   "cell_type": "code",
   "execution_count": 33,
   "metadata": {},
   "outputs": [],
   "source": [
    "# BeautifulSoup HTML 분석해주는 클래스"
   ]
  },
  {
   "cell_type": "code",
   "execution_count": 31,
   "metadata": {},
   "outputs": [],
   "source": [
    "from bs4 import BeautifulSoup"
   ]
  },
  {
   "cell_type": "code",
   "execution_count": 40,
   "metadata": {},
   "outputs": [
    {
     "name": "stdout",
     "output_type": "stream",
     "text": [
      "Help on class BeautifulSoup in module bs4:\n",
      "\n",
      "class BeautifulSoup(bs4.element.Tag)\n",
      " |  BeautifulSoup(markup='', features=None, builder=None, parse_only=None, from_encoding=None, exclude_encodings=None, element_classes=None, **kwargs)\n",
      " |  \n",
      " |  A data structure representing a parsed HTML or XML document.\n",
      " |  \n",
      " |  Most of the methods you'll call on a BeautifulSoup object are inherited from\n",
      " |  PageElement or Tag.\n",
      " |  \n",
      " |  Internally, this class defines the basic interface called by the\n",
      " |  tree builders when converting an HTML/XML document into a data\n",
      " |  structure. The interface abstracts away the differences between\n",
      " |  parsers. To write a new tree builder, you'll need to understand\n",
      " |  these methods as a whole.\n",
      " |  \n",
      " |  These methods will be called by the BeautifulSoup constructor:\n",
      " |    * reset()\n",
      " |    * feed(markup)\n",
      " |  \n",
      " |  The tree builder may call these methods from its feed() implementation:\n",
      " |    * handle_starttag(name, attrs) # See note about return value\n",
      " |    * handle_endtag(name)\n",
      " |    * handle_data(data) # Appends to the current data node\n",
      " |    * endData(containerClass) # Ends the current data node\n",
      " |  \n",
      " |  No matter how complicated the underlying parser is, you should be\n",
      " |  able to build a tree using 'start tag' events, 'end tag' events,\n",
      " |  'data' events, and \"done with data\" events.\n",
      " |  \n",
      " |  If you encounter an empty-element tag (aka a self-closing tag,\n",
      " |  like HTML's <br> tag), call handle_starttag and then\n",
      " |  handle_endtag.\n",
      " |  \n",
      " |  Method resolution order:\n",
      " |      BeautifulSoup\n",
      " |      bs4.element.Tag\n",
      " |      bs4.element.PageElement\n",
      " |      builtins.object\n",
      " |  \n",
      " |  Methods defined here:\n",
      " |  \n",
      " |  __getstate__(self)\n",
      " |  \n",
      " |  __init__(self, markup='', features=None, builder=None, parse_only=None, from_encoding=None, exclude_encodings=None, element_classes=None, **kwargs)\n",
      " |      Constructor.\n",
      " |      \n",
      " |      :param markup: A string or a file-like object representing\n",
      " |       markup to be parsed.\n",
      " |      \n",
      " |      :param features: Desirable features of the parser to be\n",
      " |       used. This may be the name of a specific parser (\"lxml\",\n",
      " |       \"lxml-xml\", \"html.parser\", or \"html5lib\") or it may be the\n",
      " |       type of markup to be used (\"html\", \"html5\", \"xml\"). It's\n",
      " |       recommended that you name a specific parser, so that\n",
      " |       Beautiful Soup gives you the same results across platforms\n",
      " |       and virtual environments.\n",
      " |      \n",
      " |      :param builder: A TreeBuilder subclass to instantiate (or\n",
      " |       instance to use) instead of looking one up based on\n",
      " |       `features`. You only need to use this if you've implemented a\n",
      " |       custom TreeBuilder.\n",
      " |      \n",
      " |      :param parse_only: A SoupStrainer. Only parts of the document\n",
      " |       matching the SoupStrainer will be considered. This is useful\n",
      " |       when parsing part of a document that would otherwise be too\n",
      " |       large to fit into memory.\n",
      " |      \n",
      " |      :param from_encoding: A string indicating the encoding of the\n",
      " |       document to be parsed. Pass this in if Beautiful Soup is\n",
      " |       guessing wrongly about the document's encoding.\n",
      " |      \n",
      " |      :param exclude_encodings: A list of strings indicating\n",
      " |       encodings known to be wrong. Pass this in if you don't know\n",
      " |       the document's encoding but you know Beautiful Soup's guess is\n",
      " |       wrong.\n",
      " |      \n",
      " |      :param element_classes: A dictionary mapping BeautifulSoup\n",
      " |       classes like Tag and NavigableString, to other classes you'd\n",
      " |       like to be instantiated instead as the parse tree is\n",
      " |       built. This is useful for subclassing Tag or NavigableString\n",
      " |       to modify default behavior.\n",
      " |      \n",
      " |      :param kwargs: For backwards compatibility purposes, the\n",
      " |       constructor accepts certain keyword arguments used in\n",
      " |       Beautiful Soup 3. None of these arguments do anything in\n",
      " |       Beautiful Soup 4; they will result in a warning and then be\n",
      " |       ignored.\n",
      " |       \n",
      " |       Apart from this, any keyword arguments passed into the\n",
      " |       BeautifulSoup constructor are propagated to the TreeBuilder\n",
      " |       constructor. This makes it possible to configure a\n",
      " |       TreeBuilder by passing in arguments, not just by saying which\n",
      " |       one to use.\n",
      " |  \n",
      " |  __setstate__(self, state)\n",
      " |  \n",
      " |  decode(self, pretty_print=False, eventual_encoding='utf-8', formatter='minimal', iterator=None)\n",
      " |      Returns a string or Unicode representation of the parse tree\n",
      " |          as an HTML or XML document.\n",
      " |      \n",
      " |      :param pretty_print: If this is True, indentation will be used to\n",
      " |          make the document more readable.\n",
      " |      :param eventual_encoding: The encoding of the final document.\n",
      " |          If this is None, the document will be a Unicode string.\n",
      " |  \n",
      " |  endData(self, containerClass=None)\n",
      " |      Method called by the TreeBuilder when the end of a data segment\n",
      " |      occurs.\n",
      " |  \n",
      " |  handle_data(self, data)\n",
      " |      Called by the tree builder when a chunk of textual data is encountered.\n",
      " |  \n",
      " |  handle_endtag(self, name, nsprefix=None)\n",
      " |      Called by the tree builder when an ending tag is encountered.\n",
      " |      \n",
      " |      :param name: Name of the tag.\n",
      " |      :param nsprefix: Namespace prefix for the tag.\n",
      " |  \n",
      " |  handle_starttag(self, name, namespace, nsprefix, attrs, sourceline=None, sourcepos=None, namespaces=None)\n",
      " |      Called by the tree builder when a new tag is encountered.\n",
      " |      \n",
      " |      :param name: Name of the tag.\n",
      " |      :param nsprefix: Namespace prefix for the tag.\n",
      " |      :param attrs: A dictionary of attribute values.\n",
      " |      :param sourceline: The line number where this tag was found in its\n",
      " |          source document.\n",
      " |      :param sourcepos: The character position within `sourceline` where this\n",
      " |          tag was found.\n",
      " |      :param namespaces: A dictionary of all namespace prefix mappings \n",
      " |          currently in scope in the document.\n",
      " |      \n",
      " |      If this method returns None, the tag was rejected by an active\n",
      " |      SoupStrainer. You should proceed as if the tag had not occurred\n",
      " |      in the document. For instance, if this was a self-closing tag,\n",
      " |      don't call handle_endtag.\n",
      " |  \n",
      " |  insert_after(self, *args)\n",
      " |      This method is part of the PageElement API, but `BeautifulSoup` doesn't implement\n",
      " |      it because there is nothing before or after it in the parse tree.\n",
      " |  \n",
      " |  insert_before(self, *args)\n",
      " |      This method is part of the PageElement API, but `BeautifulSoup` doesn't implement\n",
      " |      it because there is nothing before or after it in the parse tree.\n",
      " |  \n",
      " |  new_string(self, s, subclass=None)\n",
      " |      Create a new NavigableString associated with this BeautifulSoup\n",
      " |      object.\n",
      " |  \n",
      " |  new_tag(self, name, namespace=None, nsprefix=None, attrs={}, sourceline=None, sourcepos=None, **kwattrs)\n",
      " |      Create a new Tag associated with this BeautifulSoup object.\n",
      " |      \n",
      " |      :param name: The name of the new Tag.\n",
      " |      :param namespace: The URI of the new Tag's XML namespace, if any.\n",
      " |      :param prefix: The prefix for the new Tag's XML namespace, if any.\n",
      " |      :param attrs: A dictionary of this Tag's attribute values; can\n",
      " |          be used instead of `kwattrs` for attributes like 'class'\n",
      " |          that are reserved words in Python.\n",
      " |      :param sourceline: The line number where this tag was\n",
      " |          (purportedly) found in its source document.\n",
      " |      :param sourcepos: The character position within `sourceline` where this\n",
      " |          tag was (purportedly) found.\n",
      " |      :param kwattrs: Keyword arguments for the new Tag's attribute values.\n",
      " |  \n",
      " |  object_was_parsed(self, o, parent=None, most_recent_element=None)\n",
      " |      Method called by the TreeBuilder to integrate an object into the parse tree.\n",
      " |  \n",
      " |  popTag(self)\n",
      " |      Internal method called by _popToTag when a tag is closed.\n",
      " |  \n",
      " |  pushTag(self, tag)\n",
      " |      Internal method called by handle_starttag when a tag is opened.\n",
      " |  \n",
      " |  reset(self)\n",
      " |      Reset this object to a state as though it had never parsed any\n",
      " |      markup.\n",
      " |  \n",
      " |  string_container(self, base_class=None)\n",
      " |  \n",
      " |  ----------------------------------------------------------------------\n",
      " |  Data and other attributes defined here:\n",
      " |  \n",
      " |  ASCII_SPACES = ' \\n\\t\\x0c\\r'\n",
      " |  \n",
      " |  DEFAULT_BUILDER_FEATURES = ['html', 'fast']\n",
      " |  \n",
      " |  NO_PARSER_SPECIFIED_WARNING = 'No parser was explicitly specified, so ...\n",
      " |  \n",
      " |  ROOT_TAG_NAME = '[document]'\n",
      " |  \n",
      " |  ----------------------------------------------------------------------\n",
      " |  Methods inherited from bs4.element.Tag:\n",
      " |  \n",
      " |  __bool__(self)\n",
      " |      A tag is non-None even if it has no contents.\n",
      " |  \n",
      " |  __call__(self, *args, **kwargs)\n",
      " |      Calling a Tag like a function is the same as calling its\n",
      " |      find_all() method. Eg. tag('a') returns a list of all the A tags\n",
      " |      found within this tag.\n",
      " |  \n",
      " |  __contains__(self, x)\n",
      " |  \n",
      " |  __copy__(self)\n",
      " |      A copy of a Tag must always be a deep copy, because a Tag's\n",
      " |      children can only have one parent at a time.\n",
      " |  \n",
      " |  __deepcopy__(self, memo, recursive=True)\n",
      " |      A deepcopy of a Tag is a new Tag, unconnected to the parse tree.\n",
      " |      Its contents are a copy of the old Tag's contents.\n",
      " |  \n",
      " |  __delitem__(self, key)\n",
      " |      Deleting tag[key] deletes all 'key' attributes for the tag.\n",
      " |  \n",
      " |  __eq__(self, other)\n",
      " |      Returns true iff this Tag has the same name, the same attributes,\n",
      " |      and the same contents (recursively) as `other`.\n",
      " |  \n",
      " |  __getattr__(self, tag)\n",
      " |      Calling tag.subtag is the same as calling tag.find(name=\"subtag\")\n",
      " |  \n",
      " |  __getitem__(self, key)\n",
      " |      tag[key] returns the value of the 'key' attribute for the Tag,\n",
      " |      and throws an exception if it's not there.\n",
      " |  \n",
      " |  __hash__(self)\n",
      " |      Return hash(self).\n",
      " |  \n",
      " |  __iter__(self)\n",
      " |      Iterating over a Tag iterates over its contents.\n",
      " |  \n",
      " |  __len__(self)\n",
      " |      The length of a Tag is the length of its list of contents.\n",
      " |  \n",
      " |  __ne__(self, other)\n",
      " |      Returns true iff this Tag is not identical to `other`,\n",
      " |      as defined in __eq__.\n",
      " |  \n",
      " |  __repr__ = __unicode__(self)\n",
      " |  \n",
      " |  __setitem__(self, key, value)\n",
      " |      Setting tag[key] sets the value of the 'key' attribute for the\n",
      " |      tag.\n",
      " |  \n",
      " |  __str__ = __unicode__(self)\n",
      " |  \n",
      " |  __unicode__(self)\n",
      " |      Renders this PageElement as a Unicode string.\n",
      " |  \n",
      " |  childGenerator(self)\n",
      " |      Deprecated generator.\n",
      " |  \n",
      " |  clear(self, decompose=False)\n",
      " |      Wipe out all children of this PageElement by calling extract()\n",
      " |         on them.\n",
      " |      \n",
      " |      :param decompose: If this is True, decompose() (a more\n",
      " |          destructive method) will be called instead of extract().\n",
      " |  \n",
      " |  decode_contents(self, indent_level=None, eventual_encoding='utf-8', formatter='minimal')\n",
      " |      Renders the contents of this tag as a Unicode string.\n",
      " |      \n",
      " |      :param indent_level: Each line of the rendering will be\n",
      " |         indented this many levels. (The formatter decides what a\n",
      " |         'level' means in terms of spaces or other characters\n",
      " |         output.) Used internally in recursive calls while\n",
      " |         pretty-printing.\n",
      " |      \n",
      " |      :param eventual_encoding: The tag is destined to be\n",
      " |         encoded into this encoding. decode_contents() is _not_\n",
      " |         responsible for performing that encoding. This information\n",
      " |         is passed in so that it can be substituted in if the\n",
      " |         document contains a <META> tag that mentions the document's\n",
      " |         encoding.\n",
      " |      \n",
      " |      :param formatter: A Formatter object, or a string naming one of\n",
      " |          the standard Formatters.\n",
      " |  \n",
      " |  decompose(self)\n",
      " |      Recursively destroys this PageElement and its children.\n",
      " |      \n",
      " |      This element will be removed from the tree and wiped out; so\n",
      " |      will everything beneath it.\n",
      " |      \n",
      " |      The behavior of a decomposed PageElement is undefined and you\n",
      " |      should never use one for anything, but if you need to _check_\n",
      " |      whether an element has been decomposed, you can use the\n",
      " |      `decomposed` property.\n",
      " |  \n",
      " |  encode(self, encoding='utf-8', indent_level=None, formatter='minimal', errors='xmlcharrefreplace')\n",
      " |      Render a bytestring representation of this PageElement and its\n",
      " |      contents.\n",
      " |      \n",
      " |      :param encoding: The destination encoding.\n",
      " |      :param indent_level: Each line of the rendering will be\n",
      " |         indented this many levels. (The formatter decides what a\n",
      " |         'level' means in terms of spaces or other characters\n",
      " |         output.) Used internally in recursive calls while\n",
      " |         pretty-printing.\n",
      " |      :param formatter: A Formatter object, or a string naming one of\n",
      " |          the standard formatters.\n",
      " |      :param errors: An error handling strategy such as\n",
      " |          'xmlcharrefreplace'. This value is passed along into\n",
      " |          encode() and its value should be one of the constants\n",
      " |          defined by Python.\n",
      " |      :return: A bytestring.\n",
      " |  \n",
      " |  encode_contents(self, indent_level=None, encoding='utf-8', formatter='minimal')\n",
      " |      Renders the contents of this PageElement as a bytestring.\n",
      " |      \n",
      " |      :param indent_level: Each line of the rendering will be\n",
      " |         indented this many levels. (The formatter decides what a\n",
      " |         'level' means in terms of spaces or other characters\n",
      " |         output.) Used internally in recursive calls while\n",
      " |         pretty-printing.\n",
      " |      \n",
      " |      :param eventual_encoding: The bytestring will be in this encoding.\n",
      " |      \n",
      " |      :param formatter: A Formatter object, or a string naming one of\n",
      " |          the standard Formatters.\n",
      " |      \n",
      " |      :return: A bytestring.\n",
      " |  \n",
      " |  find(self, name=None, attrs={}, recursive=True, string=None, **kwargs)\n",
      " |      Look in the children of this PageElement and find the first\n",
      " |      PageElement that matches the given criteria.\n",
      " |      \n",
      " |      All find_* methods take a common set of arguments. See the online\n",
      " |      documentation for detailed explanations.\n",
      " |      \n",
      " |      :param name: A filter on tag name.\n",
      " |      :param attrs: A dictionary of filters on attribute values.\n",
      " |      :param recursive: If this is True, find() will perform a\n",
      " |          recursive search of this PageElement's children. Otherwise,\n",
      " |          only the direct children will be considered.\n",
      " |      :param limit: Stop looking after finding this many results.\n",
      " |      :kwargs: A dictionary of filters on attribute values.\n",
      " |      :return: A PageElement.\n",
      " |      :rtype: bs4.element.Tag | bs4.element.NavigableString\n",
      " |  \n",
      " |  findAll = find_all(self, name=None, attrs={}, recursive=True, string=None, limit=None, **kwargs)\n",
      " |  \n",
      " |  findChild = find(self, name=None, attrs={}, recursive=True, string=None, **kwargs)\n",
      " |  \n",
      " |  findChildren = find_all(self, name=None, attrs={}, recursive=True, string=None, limit=None, **kwargs)\n",
      " |  \n",
      " |  find_all(self, name=None, attrs={}, recursive=True, string=None, limit=None, **kwargs)\n",
      " |      Look in the children of this PageElement and find all\n",
      " |      PageElements that match the given criteria.\n",
      " |      \n",
      " |      All find_* methods take a common set of arguments. See the online\n",
      " |      documentation for detailed explanations.\n",
      " |      \n",
      " |      :param name: A filter on tag name.\n",
      " |      :param attrs: A dictionary of filters on attribute values.\n",
      " |      :param recursive: If this is True, find_all() will perform a\n",
      " |          recursive search of this PageElement's children. Otherwise,\n",
      " |          only the direct children will be considered.\n",
      " |      :param limit: Stop looking after finding this many results.\n",
      " |      :kwargs: A dictionary of filters on attribute values.\n",
      " |      :return: A ResultSet of PageElements.\n",
      " |      :rtype: bs4.element.ResultSet\n",
      " |  \n",
      " |  get(self, key, default=None)\n",
      " |      Returns the value of the 'key' attribute for the tag, or\n",
      " |      the value given for 'default' if it doesn't have that\n",
      " |      attribute.\n",
      " |  \n",
      " |  get_attribute_list(self, key, default=None)\n",
      " |      The same as get(), but always returns a list.\n",
      " |      \n",
      " |      :param key: The attribute to look for.\n",
      " |      :param default: Use this value if the attribute is not present\n",
      " |          on this PageElement.\n",
      " |      :return: A list of values, probably containing only a single\n",
      " |          value.\n",
      " |  \n",
      " |  has_attr(self, key)\n",
      " |      Does this PageElement have an attribute with the given name?\n",
      " |  \n",
      " |  has_key(self, key)\n",
      " |      Deprecated method. This was kind of misleading because has_key()\n",
      " |      (attributes) was different from __in__ (contents).\n",
      " |      \n",
      " |      has_key() is gone in Python 3, anyway.\n",
      " |  \n",
      " |  index(self, element)\n",
      " |      Find the index of a child by identity, not value.\n",
      " |      \n",
      " |      Avoids issues with tag.contents.index(element) getting the\n",
      " |      index of equal elements.\n",
      " |      \n",
      " |      :param element: Look for this PageElement in `self.contents`.\n",
      " |  \n",
      " |  prettify(self, encoding=None, formatter='minimal')\n",
      " |      Pretty-print this PageElement as a string.\n",
      " |      \n",
      " |      :param encoding: The eventual encoding of the string. If this is None,\n",
      " |          a Unicode string will be returned.\n",
      " |      :param formatter: A Formatter object, or a string naming one of\n",
      " |          the standard formatters.\n",
      " |      :return: A Unicode string (if encoding==None) or a bytestring\n",
      " |          (otherwise).\n",
      " |  \n",
      " |  recursiveChildGenerator(self)\n",
      " |      Deprecated generator.\n",
      " |  \n",
      " |  renderContents(self, encoding='utf-8', prettyPrint=False, indentLevel=0)\n",
      " |      Deprecated method for BS3 compatibility.\n",
      " |  \n",
      " |  select(self, selector, namespaces=None, limit=None, **kwargs)\n",
      " |      Perform a CSS selection operation on the current element.\n",
      " |      \n",
      " |      This uses the SoupSieve library.\n",
      " |      \n",
      " |      :param selector: A string containing a CSS selector.\n",
      " |      \n",
      " |      :param namespaces: A dictionary mapping namespace prefixes\n",
      " |         used in the CSS selector to namespace URIs. By default,\n",
      " |         Beautiful Soup will use the prefixes it encountered while\n",
      " |         parsing the document.\n",
      " |      \n",
      " |      :param limit: After finding this number of results, stop looking.\n",
      " |      \n",
      " |      :param kwargs: Keyword arguments to be passed into SoupSieve's\n",
      " |         soupsieve.select() method.\n",
      " |      \n",
      " |      :return: A ResultSet of Tags.\n",
      " |      :rtype: bs4.element.ResultSet\n",
      " |  \n",
      " |  select_one(self, selector, namespaces=None, **kwargs)\n",
      " |      Perform a CSS selection operation on the current element.\n",
      " |      \n",
      " |      :param selector: A CSS selector.\n",
      " |      \n",
      " |      :param namespaces: A dictionary mapping namespace prefixes\n",
      " |         used in the CSS selector to namespace URIs. By default,\n",
      " |         Beautiful Soup will use the prefixes it encountered while\n",
      " |         parsing the document.\n",
      " |      \n",
      " |      :param kwargs: Keyword arguments to be passed into Soup Sieve's\n",
      " |         soupsieve.select() method.\n",
      " |      \n",
      " |      :return: A Tag.\n",
      " |      :rtype: bs4.element.Tag\n",
      " |  \n",
      " |  smooth(self)\n",
      " |      Smooth out this element's children by consolidating consecutive\n",
      " |      strings.\n",
      " |      \n",
      " |      This makes pretty-printed output look more natural following a\n",
      " |      lot of operations that modified the tree.\n",
      " |  \n",
      " |  ----------------------------------------------------------------------\n",
      " |  Readonly properties inherited from bs4.element.Tag:\n",
      " |  \n",
      " |  children\n",
      " |      Iterate over all direct children of this PageElement.\n",
      " |      \n",
      " |      :yield: A sequence of PageElements.\n",
      " |  \n",
      " |  css\n",
      " |      Return an interface to the CSS selector API.\n",
      " |  \n",
      " |  descendants\n",
      " |      Iterate over all children of this PageElement in a\n",
      " |      breadth-first sequence.\n",
      " |      \n",
      " |      :yield: A sequence of PageElements.\n",
      " |  \n",
      " |  isSelfClosing\n",
      " |      Is this tag an empty-element tag? (aka a self-closing tag)\n",
      " |      \n",
      " |      A tag that has contents is never an empty-element tag.\n",
      " |      \n",
      " |      A tag that has no contents may or may not be an empty-element\n",
      " |      tag. It depends on the builder used to create the tag. If the\n",
      " |      builder has a designated list of empty-element tags, then only\n",
      " |      a tag whose name shows up in that list is considered an\n",
      " |      empty-element tag.\n",
      " |      \n",
      " |      If the builder has no designated list of empty-element tags,\n",
      " |      then any tag with no contents is an empty-element tag.\n",
      " |  \n",
      " |  is_empty_element\n",
      " |      Is this tag an empty-element tag? (aka a self-closing tag)\n",
      " |      \n",
      " |      A tag that has contents is never an empty-element tag.\n",
      " |      \n",
      " |      A tag that has no contents may or may not be an empty-element\n",
      " |      tag. It depends on the builder used to create the tag. If the\n",
      " |      builder has a designated list of empty-element tags, then only\n",
      " |      a tag whose name shows up in that list is considered an\n",
      " |      empty-element tag.\n",
      " |      \n",
      " |      If the builder has no designated list of empty-element tags,\n",
      " |      then any tag with no contents is an empty-element tag.\n",
      " |  \n",
      " |  self_and_descendants\n",
      " |      Iterate over this PageElement and its children in a\n",
      " |      breadth-first sequence.\n",
      " |      \n",
      " |      :yield: A sequence of PageElements.\n",
      " |  \n",
      " |  strings\n",
      " |      Yield all strings of certain classes, possibly stripping them.\n",
      " |      \n",
      " |      :param strip: If True, all strings will be stripped before being\n",
      " |          yielded.\n",
      " |      \n",
      " |      :param types: A tuple of NavigableString subclasses. Any strings of\n",
      " |          a subclass not found in this list will be ignored. By\n",
      " |          default, the subclasses considered are the ones found in\n",
      " |          self.interesting_string_types. If that's not specified,\n",
      " |          only NavigableString and CData objects will be\n",
      " |          considered. That means no comments, processing\n",
      " |          instructions, etc.\n",
      " |      \n",
      " |      :yield: A sequence of strings.\n",
      " |  \n",
      " |  ----------------------------------------------------------------------\n",
      " |  Data descriptors inherited from bs4.element.Tag:\n",
      " |  \n",
      " |  parserClass\n",
      " |  \n",
      " |  string\n",
      " |      Convenience property to get the single string within this\n",
      " |      PageElement.\n",
      " |      \n",
      " |      TODO It might make sense to have NavigableString.string return\n",
      " |      itself.\n",
      " |      \n",
      " |      :return: If this element has a single string child, return\n",
      " |       value is that string. If this element has one child tag,\n",
      " |       return value is the 'string' attribute of the child tag,\n",
      " |       recursively. If this element is itself a string, has no\n",
      " |       children, or has more than one child, return value is None.\n",
      " |  \n",
      " |  ----------------------------------------------------------------------\n",
      " |  Data and other attributes inherited from bs4.element.Tag:\n",
      " |  \n",
      " |  DEFAULT_INTERESTING_STRING_TYPES = (<class 'bs4.element.NavigableStrin...\n",
      " |  \n",
      " |  EMPTY_ELEMENT_EVENT = <object object>\n",
      " |  \n",
      " |  END_ELEMENT_EVENT = <object object>\n",
      " |  \n",
      " |  START_ELEMENT_EVENT = <object object>\n",
      " |  \n",
      " |  STRING_ELEMENT_EVENT = <object object>\n",
      " |  \n",
      " |  ----------------------------------------------------------------------\n",
      " |  Methods inherited from bs4.element.PageElement:\n",
      " |  \n",
      " |  append(self, tag)\n",
      " |      Appends the given PageElement to the contents of this one.\n",
      " |      \n",
      " |      :param tag: A PageElement.\n",
      " |  \n",
      " |  extend(self, tags)\n",
      " |      Appends the given PageElements to this one's contents.\n",
      " |      \n",
      " |      :param tags: A list of PageElements. If a single Tag is\n",
      " |          provided instead, this PageElement's contents will be extended\n",
      " |          with that Tag's contents.\n",
      " |  \n",
      " |  extract(self, _self_index=None)\n",
      " |      Destructively rips this element out of the tree.\n",
      " |      \n",
      " |      :param _self_index: The location of this element in its parent's\n",
      " |         .contents, if known. Passing this in allows for a performance\n",
      " |         optimization.\n",
      " |      \n",
      " |      :return: `self`, no longer part of the tree.\n",
      " |  \n",
      " |  fetchNextSiblings = find_next_siblings(self, name=None, attrs={}, string=None, limit=None, **kwargs)\n",
      " |  \n",
      " |  fetchParents = find_parents(self, name=None, attrs={}, limit=None, **kwargs)\n",
      " |  \n",
      " |  fetchPrevious = find_all_previous(self, name=None, attrs={}, string=None, limit=None, **kwargs)\n",
      " |  \n",
      " |  fetchPreviousSiblings = find_previous_siblings(self, name=None, attrs={}, string=None, limit=None, **kwargs)\n",
      " |  \n",
      " |  findAllNext = find_all_next(self, name=None, attrs={}, string=None, limit=None, **kwargs)\n",
      " |  \n",
      " |  findAllPrevious = find_all_previous(self, name=None, attrs={}, string=None, limit=None, **kwargs)\n",
      " |  \n",
      " |  findNext = find_next(self, name=None, attrs={}, string=None, **kwargs)\n",
      " |  \n",
      " |  findNextSibling = find_next_sibling(self, name=None, attrs={}, string=None, **kwargs)\n",
      " |  \n",
      " |  findNextSiblings = find_next_siblings(self, name=None, attrs={}, string=None, limit=None, **kwargs)\n",
      " |  \n",
      " |  findParent = find_parent(self, name=None, attrs={}, **kwargs)\n",
      " |  \n",
      " |  findParents = find_parents(self, name=None, attrs={}, limit=None, **kwargs)\n",
      " |  \n",
      " |  findPrevious = find_previous(self, name=None, attrs={}, string=None, **kwargs)\n",
      " |  \n",
      " |  findPreviousSibling = find_previous_sibling(self, name=None, attrs={}, string=None, **kwargs)\n",
      " |  \n",
      " |  findPreviousSiblings = find_previous_siblings(self, name=None, attrs={}, string=None, limit=None, **kwargs)\n",
      " |  \n",
      " |  find_all_next(self, name=None, attrs={}, string=None, limit=None, **kwargs)\n",
      " |      Find all PageElements that match the given criteria and appear\n",
      " |      later in the document than this PageElement.\n",
      " |      \n",
      " |      All find_* methods take a common set of arguments. See the online\n",
      " |      documentation for detailed explanations.\n",
      " |      \n",
      " |      :param name: A filter on tag name.\n",
      " |      :param attrs: A dictionary of filters on attribute values.\n",
      " |      :param string: A filter for a NavigableString with specific text.\n",
      " |      :param limit: Stop looking after finding this many results.\n",
      " |      :kwargs: A dictionary of filters on attribute values.\n",
      " |      :return: A ResultSet containing PageElements.\n",
      " |  \n",
      " |  find_all_previous(self, name=None, attrs={}, string=None, limit=None, **kwargs)\n",
      " |      Look backwards in the document from this PageElement and find all\n",
      " |      PageElements that match the given criteria.\n",
      " |      \n",
      " |      All find_* methods take a common set of arguments. See the online\n",
      " |      documentation for detailed explanations.\n",
      " |      \n",
      " |      :param name: A filter on tag name.\n",
      " |      :param attrs: A dictionary of filters on attribute values.\n",
      " |      :param string: A filter for a NavigableString with specific text.\n",
      " |      :param limit: Stop looking after finding this many results.\n",
      " |      :kwargs: A dictionary of filters on attribute values.\n",
      " |      :return: A ResultSet of PageElements.\n",
      " |      :rtype: bs4.element.ResultSet\n",
      " |  \n",
      " |  find_next(self, name=None, attrs={}, string=None, **kwargs)\n",
      " |      Find the first PageElement that matches the given criteria and\n",
      " |      appears later in the document than this PageElement.\n",
      " |      \n",
      " |      All find_* methods take a common set of arguments. See the online\n",
      " |      documentation for detailed explanations.\n",
      " |      \n",
      " |      :param name: A filter on tag name.\n",
      " |      :param attrs: A dictionary of filters on attribute values.\n",
      " |      :param string: A filter for a NavigableString with specific text.\n",
      " |      :kwargs: A dictionary of filters on attribute values.\n",
      " |      :return: A PageElement.\n",
      " |      :rtype: bs4.element.Tag | bs4.element.NavigableString\n",
      " |  \n",
      " |  find_next_sibling(self, name=None, attrs={}, string=None, **kwargs)\n",
      " |      Find the closest sibling to this PageElement that matches the\n",
      " |      given criteria and appears later in the document.\n",
      " |      \n",
      " |      All find_* methods take a common set of arguments. See the\n",
      " |      online documentation for detailed explanations.\n",
      " |      \n",
      " |      :param name: A filter on tag name.\n",
      " |      :param attrs: A dictionary of filters on attribute values.\n",
      " |      :param string: A filter for a NavigableString with specific text.\n",
      " |      :kwargs: A dictionary of filters on attribute values.\n",
      " |      :return: A PageElement.\n",
      " |      :rtype: bs4.element.Tag | bs4.element.NavigableString\n",
      " |  \n",
      " |  find_next_siblings(self, name=None, attrs={}, string=None, limit=None, **kwargs)\n",
      " |      Find all siblings of this PageElement that match the given criteria\n",
      " |      and appear later in the document.\n",
      " |      \n",
      " |      All find_* methods take a common set of arguments. See the online\n",
      " |      documentation for detailed explanations.\n",
      " |      \n",
      " |      :param name: A filter on tag name.\n",
      " |      :param attrs: A dictionary of filters on attribute values.\n",
      " |      :param string: A filter for a NavigableString with specific text.\n",
      " |      :param limit: Stop looking after finding this many results.\n",
      " |      :kwargs: A dictionary of filters on attribute values.\n",
      " |      :return: A ResultSet of PageElements.\n",
      " |      :rtype: bs4.element.ResultSet\n",
      " |  \n",
      " |  find_parent(self, name=None, attrs={}, **kwargs)\n",
      " |      Find the closest parent of this PageElement that matches the given\n",
      " |      criteria.\n",
      " |      \n",
      " |      All find_* methods take a common set of arguments. See the online\n",
      " |      documentation for detailed explanations.\n",
      " |      \n",
      " |      :param name: A filter on tag name.\n",
      " |      :param attrs: A dictionary of filters on attribute values.\n",
      " |      :kwargs: A dictionary of filters on attribute values.\n",
      " |      \n",
      " |      :return: A PageElement.\n",
      " |      :rtype: bs4.element.Tag | bs4.element.NavigableString\n",
      " |  \n",
      " |  find_parents(self, name=None, attrs={}, limit=None, **kwargs)\n",
      " |      Find all parents of this PageElement that match the given criteria.\n",
      " |      \n",
      " |      All find_* methods take a common set of arguments. See the online\n",
      " |      documentation for detailed explanations.\n",
      " |      \n",
      " |      :param name: A filter on tag name.\n",
      " |      :param attrs: A dictionary of filters on attribute values.\n",
      " |      :param limit: Stop looking after finding this many results.\n",
      " |      :kwargs: A dictionary of filters on attribute values.\n",
      " |      \n",
      " |      :return: A PageElement.\n",
      " |      :rtype: bs4.element.Tag | bs4.element.NavigableString\n",
      " |  \n",
      " |  find_previous(self, name=None, attrs={}, string=None, **kwargs)\n",
      " |      Look backwards in the document from this PageElement and find the\n",
      " |      first PageElement that matches the given criteria.\n",
      " |      \n",
      " |      All find_* methods take a common set of arguments. See the online\n",
      " |      documentation for detailed explanations.\n",
      " |      \n",
      " |      :param name: A filter on tag name.\n",
      " |      :param attrs: A dictionary of filters on attribute values.\n",
      " |      :param string: A filter for a NavigableString with specific text.\n",
      " |      :kwargs: A dictionary of filters on attribute values.\n",
      " |      :return: A PageElement.\n",
      " |      :rtype: bs4.element.Tag | bs4.element.NavigableString\n",
      " |  \n",
      " |  find_previous_sibling(self, name=None, attrs={}, string=None, **kwargs)\n",
      " |      Returns the closest sibling to this PageElement that matches the\n",
      " |      given criteria and appears earlier in the document.\n",
      " |      \n",
      " |      All find_* methods take a common set of arguments. See the online\n",
      " |      documentation for detailed explanations.\n",
      " |      \n",
      " |      :param name: A filter on tag name.\n",
      " |      :param attrs: A dictionary of filters on attribute values.\n",
      " |      :param string: A filter for a NavigableString with specific text.\n",
      " |      :kwargs: A dictionary of filters on attribute values.\n",
      " |      :return: A PageElement.\n",
      " |      :rtype: bs4.element.Tag | bs4.element.NavigableString\n",
      " |  \n",
      " |  find_previous_siblings(self, name=None, attrs={}, string=None, limit=None, **kwargs)\n",
      " |      Returns all siblings to this PageElement that match the\n",
      " |      given criteria and appear earlier in the document.\n",
      " |      \n",
      " |      All find_* methods take a common set of arguments. See the online\n",
      " |      documentation for detailed explanations.\n",
      " |      \n",
      " |      :param name: A filter on tag name.\n",
      " |      :param attrs: A dictionary of filters on attribute values.\n",
      " |      :param string: A filter for a NavigableString with specific text.\n",
      " |      :param limit: Stop looking after finding this many results.\n",
      " |      :kwargs: A dictionary of filters on attribute values.\n",
      " |      :return: A ResultSet of PageElements.\n",
      " |      :rtype: bs4.element.ResultSet\n",
      " |  \n",
      " |  format_string(self, s, formatter)\n",
      " |      Format the given string using the given formatter.\n",
      " |      \n",
      " |      :param s: A string.\n",
      " |      :param formatter: A Formatter object, or a string naming one of the standard formatters.\n",
      " |  \n",
      " |  formatter_for_name(self, formatter)\n",
      " |      Look up or create a Formatter for the given identifier,\n",
      " |      if necessary.\n",
      " |      \n",
      " |      :param formatter: Can be a Formatter object (used as-is), a\n",
      " |          function (used as the entity substitution hook for an\n",
      " |          XMLFormatter or HTMLFormatter), or a string (used to look\n",
      " |          up an XMLFormatter or HTMLFormatter in the appropriate\n",
      " |          registry.\n",
      " |  \n",
      " |  getText = get_text(self, separator='', strip=False, types=<object object at 0x0000020D46D8B8B0>)\n",
      " |  \n",
      " |  get_text(self, separator='', strip=False, types=<object object at 0x0000020D46D8B8B0>)\n",
      " |      Get all child strings of this PageElement, concatenated using the\n",
      " |      given separator.\n",
      " |      \n",
      " |      :param separator: Strings will be concatenated using this separator.\n",
      " |      \n",
      " |      :param strip: If True, strings will be stripped before being\n",
      " |          concatenated.\n",
      " |      \n",
      " |      :param types: A tuple of NavigableString subclasses. Any\n",
      " |          strings of a subclass not found in this list will be\n",
      " |          ignored. Although there are exceptions, the default\n",
      " |          behavior in most cases is to consider only NavigableString\n",
      " |          and CData objects. That means no comments, processing\n",
      " |          instructions, etc.\n",
      " |      \n",
      " |      :return: A string.\n",
      " |  \n",
      " |  insert(self, position, new_child)\n",
      " |      Insert a new PageElement in the list of this PageElement's children.\n",
      " |      \n",
      " |      This works the same way as `list.insert`.\n",
      " |      \n",
      " |      :param position: The numeric position that should be occupied\n",
      " |         in `self.children` by the new PageElement.\n",
      " |      :param new_child: A PageElement.\n",
      " |  \n",
      " |  nextGenerator(self)\n",
      " |      # Old non-property versions of the generators, for backwards\n",
      " |      # compatibility with BS3.\n",
      " |  \n",
      " |  nextSiblingGenerator(self)\n",
      " |  \n",
      " |  parentGenerator(self)\n",
      " |  \n",
      " |  previousGenerator(self)\n",
      " |  \n",
      " |  previousSiblingGenerator(self)\n",
      " |  \n",
      " |  replaceWith = replace_with(self, *args)\n",
      " |  \n",
      " |  replaceWithChildren = unwrap(self)\n",
      " |  \n",
      " |  replace_with(self, *args)\n",
      " |      Replace this PageElement with one or more PageElements, keeping the\n",
      " |      rest of the tree the same.\n",
      " |      \n",
      " |      :param args: One or more PageElements.\n",
      " |      :return: `self`, no longer part of the tree.\n",
      " |  \n",
      " |  replace_with_children = unwrap(self)\n",
      " |  \n",
      " |  setup(self, parent=None, previous_element=None, next_element=None, previous_sibling=None, next_sibling=None)\n",
      " |      Sets up the initial relations between this element and\n",
      " |      other elements.\n",
      " |      \n",
      " |      :param parent: The parent of this element.\n",
      " |      \n",
      " |      :param previous_element: The element parsed immediately before\n",
      " |          this one.\n",
      " |      \n",
      " |      :param next_element: The element parsed immediately before\n",
      " |          this one.\n",
      " |      \n",
      " |      :param previous_sibling: The most recently encountered element\n",
      " |          on the same level of the parse tree as this one.\n",
      " |      \n",
      " |      :param previous_sibling: The next element to be encountered\n",
      " |          on the same level of the parse tree as this one.\n",
      " |  \n",
      " |  unwrap(self)\n",
      " |      Replace this PageElement with its contents.\n",
      " |      \n",
      " |      :return: `self`, no longer part of the tree.\n",
      " |  \n",
      " |  wrap(self, wrap_inside)\n",
      " |      Wrap this PageElement inside another one.\n",
      " |      \n",
      " |      :param wrap_inside: A PageElement.\n",
      " |      :return: `wrap_inside`, occupying the position in the tree that used\n",
      " |         to be occupied by `self`, and with `self` inside it.\n",
      " |  \n",
      " |  ----------------------------------------------------------------------\n",
      " |  Readonly properties inherited from bs4.element.PageElement:\n",
      " |  \n",
      " |  decomposed\n",
      " |      Check whether a PageElement has been decomposed.\n",
      " |      \n",
      " |      :rtype: bool\n",
      " |  \n",
      " |  next\n",
      " |      The PageElement, if any, that was parsed just after this one.\n",
      " |      \n",
      " |      :return: A PageElement.\n",
      " |      :rtype: bs4.element.Tag | bs4.element.NavigableString\n",
      " |  \n",
      " |  next_elements\n",
      " |      All PageElements that were parsed after this one.\n",
      " |      \n",
      " |      :yield: A sequence of PageElements.\n",
      " |  \n",
      " |  next_siblings\n",
      " |      All PageElements that are siblings of this one but were parsed\n",
      " |      later.\n",
      " |      \n",
      " |      :yield: A sequence of PageElements.\n",
      " |  \n",
      " |  parents\n",
      " |      All PageElements that are parents of this PageElement.\n",
      " |      \n",
      " |      :yield: A sequence of PageElements.\n",
      " |  \n",
      " |  previous\n",
      " |      The PageElement, if any, that was parsed just before this one.\n",
      " |      \n",
      " |      :return: A PageElement.\n",
      " |      :rtype: bs4.element.Tag | bs4.element.NavigableString\n",
      " |  \n",
      " |  previous_elements\n",
      " |      All PageElements that were parsed before this one.\n",
      " |      \n",
      " |      :yield: A sequence of PageElements.\n",
      " |  \n",
      " |  previous_siblings\n",
      " |      All PageElements that are siblings of this one but were parsed\n",
      " |      earlier.\n",
      " |      \n",
      " |      :yield: A sequence of PageElements.\n",
      " |  \n",
      " |  stripped_strings\n",
      " |      Yield all strings in this PageElement, stripping them first.\n",
      " |      \n",
      " |      :yield: A sequence of stripped strings.\n",
      " |  \n",
      " |  text\n",
      " |      Get all child strings of this PageElement, concatenated using the\n",
      " |      given separator.\n",
      " |      \n",
      " |      :param separator: Strings will be concatenated using this separator.\n",
      " |      \n",
      " |      :param strip: If True, strings will be stripped before being\n",
      " |          concatenated.\n",
      " |      \n",
      " |      :param types: A tuple of NavigableString subclasses. Any\n",
      " |          strings of a subclass not found in this list will be\n",
      " |          ignored. Although there are exceptions, the default\n",
      " |          behavior in most cases is to consider only NavigableString\n",
      " |          and CData objects. That means no comments, processing\n",
      " |          instructions, etc.\n",
      " |      \n",
      " |      :return: A string.\n",
      " |  \n",
      " |  ----------------------------------------------------------------------\n",
      " |  Data descriptors inherited from bs4.element.PageElement:\n",
      " |  \n",
      " |  __dict__\n",
      " |      dictionary for instance variables (if defined)\n",
      " |  \n",
      " |  __weakref__\n",
      " |      list of weak references to the object (if defined)\n",
      " |  \n",
      " |  nextSibling\n",
      " |  \n",
      " |  previousSibling\n",
      " |  \n",
      " |  ----------------------------------------------------------------------\n",
      " |  Data and other attributes inherited from bs4.element.PageElement:\n",
      " |  \n",
      " |  default = <object object>\n",
      " |  \n",
      " |  known_xml = None\n",
      "\n"
     ]
    }
   ],
   "source": [
    "help(BeautifulSoup)"
   ]
  },
  {
   "cell_type": "code",
   "execution_count": 46,
   "metadata": {},
   "outputs": [
    {
     "data": {
      "text/plain": [
       "bytes"
      ]
     },
     "execution_count": 46,
     "metadata": {},
     "output_type": "execute_result"
    }
   ],
   "source": [
    "type(status_code.content)"
   ]
  },
  {
   "cell_type": "code",
   "execution_count": 48,
   "metadata": {},
   "outputs": [
    {
     "data": {
      "text/plain": [
       "<!DOCTYPE html>\n",
       "\n",
       "<html lang=\"ko\">\n",
       "<head>\n",
       "<meta charset=\"utf-8\"/>\n",
       "<meta content=\"width=device-width,initial-scale=1,maximum-scale=1,minimum-scale=1,user-scalable=no\" name=\"viewport\"/>\n",
       "<meta content=\"삼성전자 - 네이버페이 증권\" property=\"og:title\">\n",
       "<meta content=\"article\" property=\"og:type\"/>\n",
       "<meta content=\"https://m.stock.naver.com/domestic/stock/005930/total\" property=\"og:url\"/>\n",
       "<meta content=\"관심종목의 실시간 주가를 가장 빠르게 확인하는 곳\" property=\"og:description\"/>\n",
       "<meta content=\"https://ssl.pstatic.net/static/m/stock/im/2016/08/og_stock-200.png\" property=\"og:image\"/>\n",
       "<meta content=\"네이버페이증권\" property=\"og:article:author\"/>\n",
       "<meta content=\"https://m.stock.naver.com\" property=\"og:article:author:url\"/>\n",
       "<meta content=\"https://ssl.pstatic.net/static/m/stock/im/2016/08/og_stock-200.png\" property=\"og:article:thumbnailUrl\"/>\n",
       "<title>네이버페이 증권</title>\n",
       "<link href=\"https://ssl.pstatic.net/imgstock/favi/favicon.ico\" rel=\"shortcut icon\"/>\n",
       "<meta content=\"네이버페이 증권\" name=\"apple-mobile-web-app-title\"/>\n",
       "<link href=\"https://ssl.pstatic.net/imgstock/favi/favicon-96x96.png\" rel=\"apple-touch-icon-precomposed\">\n",
       "<link href=\"https://ssl.pstatic.net/imgstock/favi/favicon-180x180.png\" rel=\"apple-touch-icon-precomposed\" sizes=\"180x180\"/>\n",
       "<link href=\"https://ssl.pstatic.net/imgstock/favi/favicon-192x192.png\" rel=\"apple-touch-icon-precomposed\" sizes=\"192x192\"/>\n",
       "<link href=\"https://ssl.pstatic.net/imgstock/favi/favicon-16x16.png\" rel=\"icon\" sizes=\"16x16\" type=\"image/png\"/>\n",
       "<link href=\"https://ssl.pstatic.net/imgstock/favi/favicon-32x32.png\" rel=\"icon\" sizes=\"32x32\" type=\"image/png\"/>\n",
       "<link href=\"https://ssl.pstatic.net/imgstock/favi/favicon-96x96.png\" rel=\"icon\" sizes=\"96x96\" type=\"image/png\"/>\n",
       "<link href=\"https://ssl.pstatic.net/imgstock/favi/favicon-192x192.png\" rel=\"icon\" sizes=\"192x192\" type=\"image/png\"/>\n",
       "<link href=\"https://ssl.pstatic.net/imgstock/stock/build/prod/mobile/20240725174417/static/css/8.f54351d9.chunk.css\" rel=\"stylesheet\"/>\n",
       "<link href=\"https://ssl.pstatic.net/imgstock/stock/build/prod/mobile/20240725174417/static/css/main.3ed069da.chunk.css\" rel=\"stylesheet\"/>\n",
       "<script src=\"https://ssl.pstatic.net/imgstock/stock/build/prod/mobile/20240725174417/header.js?20240725174417\" type=\"text/javascript\"></script>\n",
       "<script src=\"https://ssl.pstatic.net/tveta/libs/glad/prod/gfp-core.js\" type=\"text/javascript\"></script>\n",
       "</link></meta></head>\n",
       "<body class=\"international\">\n",
       "<div id=\"root\"></div>\n",
       "<script>!function(e){function t(t){for(var n,o,c=t[0],i=t[1],f=t[2],l=0,d=[];l<c.length;l++)o=c[l],Object.prototype.hasOwnProperty.call(a,o)&&a[o]&&d.push(a[o][0]),a[o]=0;for(n in i)Object.prototype.hasOwnProperty.call(i,n)&&(e[n]=i[n]);for(s&&s(t);d.length;)d.shift()();return u.push.apply(u,f||[]),r()}function r(){for(var e,t=0;t<u.length;t++){for(var r=u[t],n=!0,o=1;o<r.length;o++){var i=r[o];0!==a[i]&&(n=!1)}n&&(u.splice(t--,1),e=c(c.s=r[0]))}return e}var n={},o={7:0},a={7:0},u=[];function c(t){if(n[t])return n[t].exports;var r=n[t]={i:t,l:!1,exports:{}};return e[t].call(r.exports,r,r.exports,c),r.l=!0,r.exports}c.e=function(e){var t=[];o[e]?t.push(o[e]):0!==o[e]&&{3:1,4:1,9:1,10:1,11:1,12:1,13:1}[e]&&t.push(o[e]=new Promise((function(t,r){for(var n=\"static/css/\"+({}[e]||e)+\".\"+{0:\"31d6cfe0\",1:\"31d6cfe0\",2:\"31d6cfe0\",3:\"90f0529c\",4:\"d0f8b570\",5:\"31d6cfe0\",9:\"e5b2684d\",10:\"2d79b669\",11:\"0a191f0d\",12:\"9b0f1a99\",13:\"ee301ce6\"}[e]+\".chunk.css\",a=c.p+n,u=document.getElementsByTagName(\"link\"),i=0;i<u.length;i++){var f=(s=u[i]).getAttribute(\"data-href\")||s.getAttribute(\"href\");if(\"stylesheet\"===s.rel&&(f===n||f===a))return t()}var l=document.getElementsByTagName(\"style\");for(i=0;i<l.length;i++){var s;if((f=(s=l[i]).getAttribute(\"data-href\"))===n||f===a)return t()}var d=document.createElement(\"link\");d.rel=\"stylesheet\",d.type=\"text/css\",d.onload=t,d.onerror=function(t){var n=t&&t.target&&t.target.src||a,u=new Error(\"Loading CSS chunk \"+e+\" failed.\\n(\"+n+\")\");u.code=\"CSS_CHUNK_LOAD_FAILED\",u.request=n,delete o[e],d.parentNode.removeChild(d),r(u)},d.href=a,document.getElementsByTagName(\"head\")[0].appendChild(d)})).then((function(){o[e]=0})));var r=a[e];if(0!==r)if(r)t.push(r[2]);else{var n=new Promise((function(t,n){r=a[e]=[t,n]}));t.push(r[2]=n);var u,i=document.createElement(\"script\");i.charset=\"utf-8\",i.timeout=120,c.nc&&i.setAttribute(\"nonce\",c.nc),i.src=function(e){return c.p+\"static/js/\"+({}[e]||e)+\".\"+{0:\"f716a191\",1:\"001b70c6\",2:\"04fec60d\",3:\"3ff8fdc8\",4:\"40fa26af\",5:\"4e057780\",9:\"7bafed4d\",10:\"b7044b50\",11:\"d36949ae\",12:\"bf7825d8\",13:\"c38fd425\"}[e]+\".chunk.js\"}(e);var f=new Error;u=function(t){i.onerror=i.onload=null,clearTimeout(l);var r=a[e];if(0!==r){if(r){var n=t&&(\"load\"===t.type?\"missing\":t.type),o=t&&t.target&&t.target.src;f.message=\"Loading chunk \"+e+\" failed.\\n(\"+n+\": \"+o+\")\",f.name=\"ChunkLoadError\",f.type=n,f.request=o,r[1](f)}a[e]=void 0}};var l=setTimeout((function(){u({type:\"timeout\",target:i})}),12e4);i.onerror=i.onload=u,document.head.appendChild(i)}return Promise.all(t)},c.m=e,c.c=n,c.d=function(e,t,r){c.o(e,t)||Object.defineProperty(e,t,{enumerable:!0,get:r})},c.r=function(e){\"undefined\"!=typeof Symbol&&Symbol.toStringTag&&Object.defineProperty(e,Symbol.toStringTag,{value:\"Module\"}),Object.defineProperty(e,\"__esModule\",{value:!0})},c.t=function(e,t){if(1&t&&(e=c(e)),8&t)return e;if(4&t&&\"object\"==typeof e&&e&&e.__esModule)return e;var r=Object.create(null);if(c.r(r),Object.defineProperty(r,\"default\",{enumerable:!0,value:e}),2&t&&\"string\"!=typeof e)for(var n in e)c.d(r,n,function(t){return e[t]}.bind(null,n));return r},c.n=function(e){var t=e&&e.__esModule?function(){return e.default}:function(){return e};return c.d(t,\"a\",t),t},c.o=function(e,t){return Object.prototype.hasOwnProperty.call(e,t)},c.p=\"https://ssl.pstatic.net/imgstock/stock/build/prod/mobile/20240725174417/\",c.oe=function(e){throw console.error(e),e};var i=this[\"webpackJsonpweb-mobile-frontend\"]=this[\"webpackJsonpweb-mobile-frontend\"]||[],f=i.push.bind(i);i.push=t,i=i.slice();for(var l=0;l<i.length;l++)t(i[l]);var s=f;r()}([])</script>\n",
       "<script src=\"https://ssl.pstatic.net/imgstock/stock/build/prod/mobile/20240725174417/static/js/8.3e995b77.chunk.js\"></script>\n",
       "<script src=\"https://ssl.pstatic.net/imgstock/stock/build/prod/mobile/20240725174417/static/js/main.c1aa759a.chunk.js\"></script>\n",
       "</body>\n",
       "</html>"
      ]
     },
     "execution_count": 48,
     "metadata": {},
     "output_type": "execute_result"
    }
   ],
   "source": [
    "BeautifulSoup(status_code.content, 'html.parser')"
   ]
  },
  {
   "cell_type": "code",
   "execution_count": 54,
   "metadata": {},
   "outputs": [],
   "source": [
    "bs = BeautifulSoup(status_code.content, 'html.parser')"
   ]
  },
  {
   "cell_type": "code",
   "execution_count": 52,
   "metadata": {},
   "outputs": [
    {
     "data": {
      "text/plain": [
       "<!DOCTYPE html>\n",
       "\n",
       "<html lang=\"ko\">\n",
       "<head>\n",
       "<meta charset=\"utf-8\"/>\n",
       "<meta content=\"width=device-width,initial-scale=1,maximum-scale=1,minimum-scale=1,user-scalable=no\" name=\"viewport\"/>\n",
       "<meta content=\"삼성전자 - 네이버페이 증권\" property=\"og:title\">\n",
       "<meta content=\"article\" property=\"og:type\"/>\n",
       "<meta content=\"https://m.stock.naver.com/domestic/stock/005930/total\" property=\"og:url\"/>\n",
       "<meta content=\"관심종목의 실시간 주가를 가장 빠르게 확인하는 곳\" property=\"og:description\"/>\n",
       "<meta content=\"https://ssl.pstatic.net/static/m/stock/im/2016/08/og_stock-200.png\" property=\"og:image\"/>\n",
       "<meta content=\"네이버페이증권\" property=\"og:article:author\"/>\n",
       "<meta content=\"https://m.stock.naver.com\" property=\"og:article:author:url\"/>\n",
       "<meta content=\"https://ssl.pstatic.net/static/m/stock/im/2016/08/og_stock-200.png\" property=\"og:article:thumbnailUrl\"/>\n",
       "<title>네이버페이 증권</title>\n",
       "<link href=\"https://ssl.pstatic.net/imgstock/favi/favicon.ico\" rel=\"shortcut icon\"/>\n",
       "<meta content=\"네이버페이 증권\" name=\"apple-mobile-web-app-title\"/>\n",
       "<link href=\"https://ssl.pstatic.net/imgstock/favi/favicon-96x96.png\" rel=\"apple-touch-icon-precomposed\">\n",
       "<link href=\"https://ssl.pstatic.net/imgstock/favi/favicon-180x180.png\" rel=\"apple-touch-icon-precomposed\" sizes=\"180x180\"/>\n",
       "<link href=\"https://ssl.pstatic.net/imgstock/favi/favicon-192x192.png\" rel=\"apple-touch-icon-precomposed\" sizes=\"192x192\"/>\n",
       "<link href=\"https://ssl.pstatic.net/imgstock/favi/favicon-16x16.png\" rel=\"icon\" sizes=\"16x16\" type=\"image/png\"/>\n",
       "<link href=\"https://ssl.pstatic.net/imgstock/favi/favicon-32x32.png\" rel=\"icon\" sizes=\"32x32\" type=\"image/png\"/>\n",
       "<link href=\"https://ssl.pstatic.net/imgstock/favi/favicon-96x96.png\" rel=\"icon\" sizes=\"96x96\" type=\"image/png\"/>\n",
       "<link href=\"https://ssl.pstatic.net/imgstock/favi/favicon-192x192.png\" rel=\"icon\" sizes=\"192x192\" type=\"image/png\"/>\n",
       "<link href=\"https://ssl.pstatic.net/imgstock/stock/build/prod/mobile/20240725174417/static/css/8.f54351d9.chunk.css\" rel=\"stylesheet\"/>\n",
       "<link href=\"https://ssl.pstatic.net/imgstock/stock/build/prod/mobile/20240725174417/static/css/main.3ed069da.chunk.css\" rel=\"stylesheet\"/>\n",
       "<script src=\"https://ssl.pstatic.net/imgstock/stock/build/prod/mobile/20240725174417/header.js?20240725174417\" type=\"text/javascript\"></script>\n",
       "<script src=\"https://ssl.pstatic.net/tveta/libs/glad/prod/gfp-core.js\" type=\"text/javascript\"></script>\n",
       "</link></meta></head>\n",
       "<body class=\"international\">\n",
       "<div id=\"root\"></div>\n",
       "<script>!function(e){function t(t){for(var n,o,c=t[0],i=t[1],f=t[2],l=0,d=[];l<c.length;l++)o=c[l],Object.prototype.hasOwnProperty.call(a,o)&&a[o]&&d.push(a[o][0]),a[o]=0;for(n in i)Object.prototype.hasOwnProperty.call(i,n)&&(e[n]=i[n]);for(s&&s(t);d.length;)d.shift()();return u.push.apply(u,f||[]),r()}function r(){for(var e,t=0;t<u.length;t++){for(var r=u[t],n=!0,o=1;o<r.length;o++){var i=r[o];0!==a[i]&&(n=!1)}n&&(u.splice(t--,1),e=c(c.s=r[0]))}return e}var n={},o={7:0},a={7:0},u=[];function c(t){if(n[t])return n[t].exports;var r=n[t]={i:t,l:!1,exports:{}};return e[t].call(r.exports,r,r.exports,c),r.l=!0,r.exports}c.e=function(e){var t=[];o[e]?t.push(o[e]):0!==o[e]&&{3:1,4:1,9:1,10:1,11:1,12:1,13:1}[e]&&t.push(o[e]=new Promise((function(t,r){for(var n=\"static/css/\"+({}[e]||e)+\".\"+{0:\"31d6cfe0\",1:\"31d6cfe0\",2:\"31d6cfe0\",3:\"90f0529c\",4:\"d0f8b570\",5:\"31d6cfe0\",9:\"e5b2684d\",10:\"2d79b669\",11:\"0a191f0d\",12:\"9b0f1a99\",13:\"ee301ce6\"}[e]+\".chunk.css\",a=c.p+n,u=document.getElementsByTagName(\"link\"),i=0;i<u.length;i++){var f=(s=u[i]).getAttribute(\"data-href\")||s.getAttribute(\"href\");if(\"stylesheet\"===s.rel&&(f===n||f===a))return t()}var l=document.getElementsByTagName(\"style\");for(i=0;i<l.length;i++){var s;if((f=(s=l[i]).getAttribute(\"data-href\"))===n||f===a)return t()}var d=document.createElement(\"link\");d.rel=\"stylesheet\",d.type=\"text/css\",d.onload=t,d.onerror=function(t){var n=t&&t.target&&t.target.src||a,u=new Error(\"Loading CSS chunk \"+e+\" failed.\\n(\"+n+\")\");u.code=\"CSS_CHUNK_LOAD_FAILED\",u.request=n,delete o[e],d.parentNode.removeChild(d),r(u)},d.href=a,document.getElementsByTagName(\"head\")[0].appendChild(d)})).then((function(){o[e]=0})));var r=a[e];if(0!==r)if(r)t.push(r[2]);else{var n=new Promise((function(t,n){r=a[e]=[t,n]}));t.push(r[2]=n);var u,i=document.createElement(\"script\");i.charset=\"utf-8\",i.timeout=120,c.nc&&i.setAttribute(\"nonce\",c.nc),i.src=function(e){return c.p+\"static/js/\"+({}[e]||e)+\".\"+{0:\"f716a191\",1:\"001b70c6\",2:\"04fec60d\",3:\"3ff8fdc8\",4:\"40fa26af\",5:\"4e057780\",9:\"7bafed4d\",10:\"b7044b50\",11:\"d36949ae\",12:\"bf7825d8\",13:\"c38fd425\"}[e]+\".chunk.js\"}(e);var f=new Error;u=function(t){i.onerror=i.onload=null,clearTimeout(l);var r=a[e];if(0!==r){if(r){var n=t&&(\"load\"===t.type?\"missing\":t.type),o=t&&t.target&&t.target.src;f.message=\"Loading chunk \"+e+\" failed.\\n(\"+n+\": \"+o+\")\",f.name=\"ChunkLoadError\",f.type=n,f.request=o,r[1](f)}a[e]=void 0}};var l=setTimeout((function(){u({type:\"timeout\",target:i})}),12e4);i.onerror=i.onload=u,document.head.appendChild(i)}return Promise.all(t)},c.m=e,c.c=n,c.d=function(e,t,r){c.o(e,t)||Object.defineProperty(e,t,{enumerable:!0,get:r})},c.r=function(e){\"undefined\"!=typeof Symbol&&Symbol.toStringTag&&Object.defineProperty(e,Symbol.toStringTag,{value:\"Module\"}),Object.defineProperty(e,\"__esModule\",{value:!0})},c.t=function(e,t){if(1&t&&(e=c(e)),8&t)return e;if(4&t&&\"object\"==typeof e&&e&&e.__esModule)return e;var r=Object.create(null);if(c.r(r),Object.defineProperty(r,\"default\",{enumerable:!0,value:e}),2&t&&\"string\"!=typeof e)for(var n in e)c.d(r,n,function(t){return e[t]}.bind(null,n));return r},c.n=function(e){var t=e&&e.__esModule?function(){return e.default}:function(){return e};return c.d(t,\"a\",t),t},c.o=function(e,t){return Object.prototype.hasOwnProperty.call(e,t)},c.p=\"https://ssl.pstatic.net/imgstock/stock/build/prod/mobile/20240725174417/\",c.oe=function(e){throw console.error(e),e};var i=this[\"webpackJsonpweb-mobile-frontend\"]=this[\"webpackJsonpweb-mobile-frontend\"]||[],f=i.push.bind(i);i.push=t,i=i.slice();for(var l=0;l<i.length;l++)t(i[l]);var s=f;r()}([])</script>\n",
       "<script src=\"https://ssl.pstatic.net/imgstock/stock/build/prod/mobile/20240725174417/static/js/8.3e995b77.chunk.js\"></script>\n",
       "<script src=\"https://ssl.pstatic.net/imgstock/stock/build/prod/mobile/20240725174417/static/js/main.c1aa759a.chunk.js\"></script>\n",
       "</body>\n",
       "</html>"
      ]
     },
     "execution_count": 52,
     "metadata": {},
     "output_type": "execute_result"
    }
   ],
   "source": [
    "bs"
   ]
  },
  {
   "cell_type": "code",
   "execution_count": 55,
   "metadata": {},
   "outputs": [
    {
     "data": {
      "text/plain": [
       "<article class=\"go_trans _article_content\" id=\"dic_area\">\n",
       "<strong class=\"media_end_summary\">몰도바 유도 국가대표 아딜 오스마노프<br/>동메달 따며 본인 인생 첫 메달 획득<br/>기쁨에 오른팔 휘두르다 어깨 탈구</strong><span class=\"end_photo_org\"><div class=\"nbd_im_w _LAZY_LOADING_WRAP\">\n",
       "<div class=\"nbd_a _LAZY_LOADING_ERROR_HIDE\" id=\"img_a1\">\n",
       "<img alt=\"인스타 @modernnotoriety 캡처\" class=\"_LAZY_LOADING _LAZY_LOADING_INIT_HIDE\" data-src=\"https://imgnews.pstatic.net/image/005/2024/08/02/2024080213313241390_1722573092_0020378136_20240802135210491.jpg?type=w647\" id=\"img1\" style=\"display: none;\">\n",
       "</img></div>\n",
       "</div><em class=\"img_desc\">인스타 @modernnotoriety 캡처</em></span><br/><br/>2024 파리 올림픽에서 첫 메달을 딴 유도 선수가 승리의 세리머니를 하다가 어깨 탈구 부상을 당했다.<br/><br/>동유럽 국가 몰도바의 유도 국가대표 아딜 오스마노프(24)는 지난달 29일(현지시간) 유도 남자 73kg급 준결승 대회에 나섰다. 그는 이탈리아의 마누엘 롬바르도(25)를 누르고 동메달의 주인공이 됐다.<br/><br/>오스마노프는 심판이 왼손을 들어 자신의 승리를 확정 짓자 기쁨의 소리를 지르며 제자리에서 껑충 뛰었다. 이어 무릎을 꿇은 채 양 주먹을 불끈 쥐고 오른팔을 휘둘렀다. 그러나 곧바로 어깨를 감싸 안고 고개를 떨궜다. 극심한 어깨 통증이 찾아온 듯 표정을 찡그리기도 했다.<br/><br/>그는 평소 어깨가 좋지 않아 올림픽 이후 어깨 수술을 계획하고 있었던 것으로 전해졌다. 오스마노프는 이날 응급처치를 받고 시상대에 오를 수 있었다.<br/><br/>영국 매체 데일리 메일은 지난 1일(현지시간) “흥분한 오스마노프 선수가 결과 발표 후 오른팔을 내던지면서 기쁨은 곧 고통으로 바뀌었다”고 전했다.<br/><br/>오스마노프는 수상 소감에서 “메달을 돌아가신 아버지께 바친다”고 말했다. 삼보 선수였던 그의 아버지는 생전 올림픽 출전의 꿈을 이루지 못했다.<br/><br/>오스마노프는 아버지의 권유에 따라 2011년 모스크바에서 유도를 시작했다. 그의 어머니는 체조 선수, 형제자매도 유도 선수인 것으로 알려졌다.<br/><br/>몰도바의 대통령 마이아 산두는 “오스마노프 선수는 올림픽에서 인상적인 활약을 보여줬다. 그의 업적은 우리 모두에게 승리”라고 말했다.\n",
       "\t\t</article>"
      ]
     },
     "execution_count": 55,
     "metadata": {},
     "output_type": "execute_result"
    }
   ],
   "source": [
    "bs.find('article', {'id': 'dic_area'})"
   ]
  },
  {
   "cell_type": "code",
   "execution_count": 56,
   "metadata": {},
   "outputs": [],
   "source": [
    "news_text = bs.find('article', {'id': 'dic_area'})"
   ]
  },
  {
   "cell_type": "code",
   "execution_count": 57,
   "metadata": {},
   "outputs": [
    {
     "name": "stdout",
     "output_type": "stream",
     "text": [
      "\n",
      "몰도바 유도 국가대표 아딜 오스마노프동메달 따며 본인 인생 첫 메달 획득기쁨에 오른팔 휘두르다 어깨 탈구\n",
      "\n",
      "\n",
      "\n",
      "인스타 @modernnotoriety 캡처2024 파리 올림픽에서 첫 메달을 딴 유도 선수가 승리의 세리머니를 하다가 어깨 탈구 부상을 당했다.동유럽 국가 몰도바의 유도 국가대표 아딜 오스마노프(24)는 지난달 29일(현지시간) 유도 남자 73kg급 준결승 대회에 나섰다. 그는 이탈리아의 마누엘 롬바르도(25)를 누르고 동메달의 주인공이 됐다.오스마노프는 심판이 왼손을 들어 자신의 승리를 확정 짓자 기쁨의 소리를 지르며 제자리에서 껑충 뛰었다. 이어 무릎을 꿇은 채 양 주먹을 불끈 쥐고 오른팔을 휘둘렀다. 그러나 곧바로 어깨를 감싸 안고 고개를 떨궜다. 극심한 어깨 통증이 찾아온 듯 표정을 찡그리기도 했다.그는 평소 어깨가 좋지 않아 올림픽 이후 어깨 수술을 계획하고 있었던 것으로 전해졌다. 오스마노프는 이날 응급처치를 받고 시상대에 오를 수 있었다.영국 매체 데일리 메일은 지난 1일(현지시간) “흥분한 오스마노프 선수가 결과 발표 후 오른팔을 내던지면서 기쁨은 곧 고통으로 바뀌었다”고 전했다.오스마노프는 수상 소감에서 “메달을 돌아가신 아버지께 바친다”고 말했다. 삼보 선수였던 그의 아버지는 생전 올림픽 출전의 꿈을 이루지 못했다.오스마노프는 아버지의 권유에 따라 2011년 모스크바에서 유도를 시작했다. 그의 어머니는 체조 선수, 형제자매도 유도 선수인 것으로 알려졌다.몰도바의 대통령 마이아 산두는 “오스마노프 선수는 올림픽에서 인상적인 활약을 보여줬다. 그의 업적은 우리 모두에게 승리”라고 말했다.\n",
      "\t\t\n"
     ]
    }
   ],
   "source": [
    "print(news_text.text)"
   ]
  },
  {
   "cell_type": "code",
   "execution_count": 58,
   "metadata": {},
   "outputs": [],
   "source": [
    "with open('naver_news.txt', 'w') as naverfile:\n",
    "    naverfile.write(news_text.text)"
   ]
  },
  {
   "cell_type": "markdown",
   "metadata": {},
   "source": [
    "### 주식 정보 가져오기"
   ]
  },
  {
   "cell_type": "code",
   "execution_count": 59,
   "metadata": {},
   "outputs": [],
   "source": [
    "import urllib.request\n",
    "import re"
   ]
  },
  {
   "cell_type": "code",
   "execution_count": 78,
   "metadata": {},
   "outputs": [],
   "source": [
    "url = 'https://finance.naver.com/item/main.nhn?code=005930'\n",
    "html = urllib.request.urlopen(url)"
   ]
  },
  {
   "cell_type": "code",
   "execution_count": 72,
   "metadata": {},
   "outputs": [
    {
     "data": {
      "text/plain": [
       "<http.client.HTTPResponse at 0x20d490b56d0>"
      ]
     },
     "execution_count": 72,
     "metadata": {},
     "output_type": "execute_result"
    }
   ],
   "source": [
    "html"
   ]
  },
  {
   "cell_type": "code",
   "execution_count": 75,
   "metadata": {},
   "outputs": [
    {
     "data": {
      "text/plain": [
       "b'\\n\\n\\t\\n\\t\\n\\t\\n\\t\\n<html lang=\\'ko\\'>\\n<head>\\n\\n\\n\\t\\n\\t\\t<title>\\xbb\\xef\\xbc\\xba\\xc0\\xfc\\xc0\\xda : \\xb3\\xd7\\xc0\\xcc\\xb9\\xf6\\xc6\\xe4\\xc0\\xcc \\xc1\\xf5\\xb1\\xc7</title>\\n\\t\\n\\t\\n\\n\\n\\n\\n<meta http-equiv=\"Content-Type\" content=\"text/html; charset=utf-8\" />\\n\\n<meta http-equiv=\"Content-Script-Type\" content=\"text/javascript\">\\n<meta http-equiv=\"Content-Style-Type\" content=\"text/css\">\\n<meta name=\"apple-mobile-web-app-title\" content=\"\\xb3\\xd7\\xc0\\xcc\\xb9\\xf6\\xc6\\xe4\\xc0\\xcc \\xc1\\xf5\\xb1\\xc7\" />\\n\\n\\n\\n\\n\\n\\t\\n    \\n        <meta property=\"og:url\" content=\"https://finance.naver.com/item/main.naver?code=005930\"/>\\n        \\n\\t\\t\\t\\n\\t\\t    \\n\\t\\t    \\t<meta property=\"og:title\" content=\"\\xbb\\xef\\xbc\\xba\\xc0\\xfc\\xc0\\xda - \\xb3\\xd7\\xc0\\xcc\\xb9\\xf6\\xc6\\xe4\\xc0\\xcc \\xc1\\xf5\\xb1\\xc7 : \\xb3\\xd7\\xc0\\xcc\\xb9\\xf6\\xc6\\xe4\\xc0\\xcc \\xc1\\xf5\\xb1\\xc7\"/>\\n\\t\\t     \\n\\t\\t\\n\\t\\t\\n\\t\\t\\t\\n\\t\\t\\t   <meta property=\"og:description\" content=\"\\xb0\\xfc\\xbd\\xc9\\xc1\\xbe\\xb8\\xf1\\xc0\\xc7 \\xbd\\xc7\\xbd\\xc3\\xb0\\xa3 \\xc1\\xd6\\xb0\\xa1\\xb8\\xa6 \\xb0\\xa1\\xc0\\xe5 \\xba\\xfc\\xb8\\xa3\\xb0\\xd4 \\xc8\\xae\\xc0\\xce\\xc7\\xcf\\xb4\\xc2 \\xb0\\xf7\"/>\\n\\t\\t    \\n\\t\\t    \\n\\t\\t\\n\\t\\t \\n\\t\\t\\t\\n\\t\\t\\t    <meta property=\"og:image\" content=\"https://ssl.pstatic.net/static/m/stock/im/2016/08/og_stock-200.png\"/>\\n\\t\\t    \\n\\t\\t    \\n\\t\\t\\n    \\n\\n<meta property=\"og:type\" content=\"article\"/>\\n<meta property=\"og:article:thumbnailUrl\" content=\"\"/>\\n<meta property=\"og:article:author\" content=\"\\xb3\\xd7\\xc0\\xcc\\xb9\\xf6\\xc6\\xe4\\xc0\\xcc \\xc1\\xf5\\xb1\\xc7\"/>\\n<meta property=\"og:article:author:url\" content=\"http://FINANCE.NAVER.COM\"/>\\n\\n\\n\\n\\n\\n\\n<link rel=\\'stylesheet\\' type=\\'text/css\\' href=\\'https://ssl.pstatic.net/imgstock/static.pc/20240725112316/css/finance_header.css\\'>\\n\\n\\t\\n\\t\\n\\t\\n\\t\\n\\t\\t\\n\\t\\t<link rel=\"stylesheet\" type=\"text/css\" href=\"https://ssl.pstatic.net/imgstock/static.pc/20240725112316/css/newstock.css\">\\n\\t\\t<link rel=\"stylesheet\" type=\"text/css\" href=\"https://ssl.pstatic.net/imgstock/static.pc/20240725112316/css/common.css\">\\n\\t\\t<link rel=\"stylesheet\" type=\"text/css\" href=\"https://ssl.pstatic.net/imgstock/static.pc/20240725112316/css/layout.css\">\\n\\t\\t<link rel=\"stylesheet\" type=\"text/css\" href=\"https://ssl.pstatic.net/imgstock/static.pc/20240725112316/css/main.css\">\\n\\t\\t<link rel=\"stylesheet\" type=\"text/css\" href=\"https://ssl.pstatic.net/imgstock/static.pc/20240725112316/css/newstock2.css\">\\n\\t\\t<link rel=\"stylesheet\" type=\"text/css\" href=\"https://ssl.pstatic.net/imgstock/static.pc/20240725112316/css/newstock3.css\">\\n\\t\\t<link rel=\"stylesheet\" type=\"text/css\" href=\"https://ssl.pstatic.net/imgstock/static.pc/20240725112316/css/world.css\">\\n\\t\\t\\n\\t\\t\\t\\n\\t\\t\\t\\n\\t\\t\\t\\t<script type=\"text/javascript\" src=\"https://ssl.pstatic.net/imgstock/static.pc/20240725112316/js/jindo.min.ns.1.5.3.euckr.js\"></script>\\n\\t\\t\\t\\t<script type=\"text/javascript\" src=\"https://ssl.pstatic.net/imgstock/static.pc/20240725112316/js/release/common.js\"></script>\\n\\t\\t\\t\\t<script type=\"text/javascript\" src=\"https://ssl.pstatic.net/imgstock/static.pc/20240725112316/js/jindoComponent/jindo.Component.1.0.3.js\"></script>\\n\\t\\t\\t\\t<script type=\"text/javascript\" src=\"https://ssl.pstatic.net/imgstock/static.pc/20240725112316/js/nhn.autocomplete.stock.js\"></script>\\n\\t\\t\\t\\n\\t\\t\\n\\n\\t\\t\\n\\t\\n\\n<script>\\n\\tvar ieVersion = (function () {\\n        var version = -1;\\n        if (\\n          navigator.appName == \\'Microsoft Internet Explorer\\' &&\\n          navigator.userAgent.toLowerCase().indexOf(\\'msie\\') != -1 &&\\n          new RegExp(\\'MSIE ([0-9]{1,}[\\\\./0-9]{0,})\\').exec(navigator.userAgent) != null\\n        ) {\\n          version = parseInt(RegExp.$1);\\n        }\\n        return version;\\n      })();\\n</script>\\n\\t\\n\\t<!-- smart channel \\xb1\\xa4\\xb0\\xed -->\\n\\t<script async src=\"https://ssl.pstatic.net/tveta/libs/glad/prod/gfp-core.js\">\\n\\t\\t</script>\\n\\t<script type=\"text/javascript\">\\n\\t\\t(function(){\\n\\t\\t\\tif (ieVersion === -1 || ieVersion > 10) {\\n\\t\\t\\t\\twindow.gladsdk = window.gladsdk || { cmd: [] };\\n\\n\\t\\t\\t\\tgladsdk.cmd.push(function() {\\n\\t\\t\\t\\t\\t\\tgladsdk.defineAdSlot({\\n\\t\\t\\t\\t\\t\\t\\tadUnitId: \"p_new_stock\",\\n\\t\\t\\t\\t\\t\\t\\tadSlotElementId: \"_SmartChannelTopBanner\",\\n\\t\\t\\t\\t\\t\\t\\tuct: \"KR\",\\n\\t\\t\\t\\t\\t\\t\\tcustomParam: {\\n\\t\\t\\t\\t\\t\\t\\t\\tcalp: \\n\\t\\t\\t\\t\\t\\t\\t\\t\\t\\n\\t\\t\\t\\t\\t\\t\\t\\t\\t\\n\\t\\t\\t\\t\\t\\t\\t\\t\\t\\n\\t\\t\\t\\t\\t\\t\\t\\t\\t\\n\\t\\t\\t\\t\\t\\t\\t\\t\\t\\n\\t\\t\\t\\t\\t\\t\\t\\t\\t\\n\\t\\t\\t\\t\\t\\t\\t\\t\\t\"home\"\\n\\t\\t\\t\\t\\t\\t\\t},\\n\\t\\t\\t\\t\\t\\t});\\n\\n\\n\\n\\t\\t\\t\\t\\t\\tgladsdk.addEventListener(gladsdk.event.AD_LOADED, function(ad) {\\n\\t\\t\\t\\t\\t\\t\\t//console.log(gladsdk.event.AD_LOADED);\\n\\t\\t\\t\\t\\t\\t});\\n\\t\\t\\t\\t\\t\\tgladsdk.addEventListener(gladsdk.event.AD_CLICKED, function(ad) {\\n\\t\\t\\t\\t\\t\\t\\t//console.log(gladsdk.event.AD_CLICKED);\\n\\t\\t\\t\\t\\t\\t});\\n\\t\\t\\t\\t\\t\\tgladsdk.addEventListener(gladsdk.event.AD_IMPRESSED, function(ad) {\\n\\t\\t\\t\\t\\t\\t\\t//console.log(gladsdk.event.AD_IMPRESSED);\\n\\t\\t\\t\\t\\t\\t});\\n\\t\\t\\t\\t\\t\\tgladsdk.addEventListener(gladsdk.event.ERROR, function(ad, error) {\\n\\t\\t\\t\\t\\t\\t\\t//TODO: \\xbf\\xc0\\xb7\\xf9 \\xb7\\xce\\xb1\\xeb\\xc3\\xb3\\xb8\\xae\\n\\t\\t\\t\\t\\t\\t\\t//console.log(gladsdk.event.ERROR);\\n\\t\\t\\t\\t\\t\\t});\\n\\t\\t\\t\\t\\t});\\n\\t\\t\\t}\\n\\t\\t})();\\n\\t</script>\\n\\t\\n\\n\\t<link rel=\"shortcut icon\" href=\"https://ssl.pstatic.net/imgstock/favi/favicon.ico\" type=\"image/x-icon\">\\n\\t\\n\\t<script type=\"text/javascript\">\\n    (function(){\\n\\t\\tdocument.write(\\n\\t\\t\\t\\t[\\n\\t\\t\\t\\t\\t\\'<link rel=\"apple-touch-icon-precomposed\" href=\"https://ssl.pstatic.net/imgstock/favi/favicon-96x96.png\"/>\\',\\n\\t\\t\\t\\t\\t\\'<link rel=\"apple-touch-icon-precomposed\" sizes=\"180x180\" href=\"https://ssl.pstatic.net/imgstock/favi/favicon-180x180.png\"/>\\',\\n\\t\\t\\t\\t\\t\\'<link rel=\"apple-touch-icon-precomposed\" sizes=\"192x192\" href=\"https://ssl.pstatic.net/imgstock/favi/favicon-192x192.png\"/>\\',\\n\\t\\t\\t\\t\\t\\'<link rel=\"icon\" type=\"image/png\" sizes=\"16x16\" href=\"https://ssl.pstatic.net/imgstock/favi/favicon-16x16.png\"/>\\',\\n\\t\\t\\t\\t\\t\\'<link rel=\"icon\" type=\"image/png\" sizes=\"32x32\" href=\"https://ssl.pstatic.net/imgstock/favi/favicon-32x32.png\"/>\\',\\n\\t\\t\\t\\t\\t\\'<link rel=\"icon\" type=\"image/png\" sizes=\"96x96\" href=\"https://ssl.pstatic.net/imgstock/favi/favicon-96x96.png\"/>\\',\\n\\t\\t\\t\\t\\t\\'<link rel=\"icon\" type=\"image/png\" sizes=\"192x192\" href=\"https://ssl.pstatic.net/imgstock/favi/favicon-192x192.png\"/>\\'\\n\\t\\t\\t\\t]\\n\\t\\t\\t.join(\\'\\\\n\\')\\n\\t\\t);\\n    })();\\n    </script>\\n</head>\\n\\n\\n\\n\\n<body onload=\\'getGNB();\\'>\\n\\n\\n\\n<script type=\"text/javascript\">\\n\\tvar nclk_evt = 3;\\n\\tnclk_do();\\n</script>\\n\\n\\n<script type=\"text/javascript\">\\n\\n\\n\\n\\n\\n\\n\\nvar nsc=\"finance.stockend\";\\n\\n\\nvar ccsrv=\"cc.naver.com\";\\n\\n\\n\\t\\n\\t\\n\\tvar gnb_service=\\'finance\\';\\n\\t\\n\\n\\nvar gnb_logout=document.URL; //GNB\\xbf\\xa1\\xbc\\xad \\xb7\\xce\\xb1\\xd7\\xbe\\xc6\\xbf\\xf4 \\xc8\\xc4 redirect \\xb5\\xc9 URL\\nvar gnb_searchbox=\\'off\\'; //\\xb9\\xcc\\xb4\\xcf \\xb0\\xcb\\xbb\\xf6\\xc3\\xa2\\xc0\\xbb on \\xc7\\xd2\\xc1\\xf6 off \\xc7\\xd2\\xc1\\xf6. default\\xb4\\xc2 off\\nvar gnb_shortnick=\\'off\\'; //\\xb4\\xd0\\xb3\\xd7\\xc0\\xd3 \\xb8\\xbb\\xc1\\xd9\\xc0\\xd3(10\\xc0\\xda)\\xc0\\xbb on\\xc7\\xd2\\xc1\\xf6 off \\xc7\\xd2\\xc1\\xf6. default\\xb4\\xc2 off.\\n\\n\\nvar gnb_naverme_layer_open_callback = function(){\\n\\t   var naverLayerSize = gnbNaverMeLayer.getLayerSize();\\n\\t\\t\\n\\t\\tvar me_layers = document.getElementById(\"me_layers\");\\n\\t\\tme_layers.width=naverLayerSize.width;\\n\\t\\tme_layers.height=naverLayerSize.height;};\\n\\nvar gnb_naverme_layer_close_callback = function(){\\n\\t\\t\\n\\t\\t\\tvar me_layers = document.getElementById(\"me_layers\");\\n\\t\\t\\tme_layers.width=\"0\";\\n\\t\\t\\tme_layers.height=\"0\";};\\n</script>\\n\\n\\n<div id=\"u_skip\">\\n\\t<a href=\"#menu\" tabindex=\"1\"><span>\\xb8\\xde\\xc0\\xce \\xb8\\xde\\xb4\\xba\\xb7\\xce \\xb9\\xd9\\xb7\\xce\\xb0\\xa1\\xb1\\xe2</span></a>\\n\\n\\t\\n\\t\\t<a href=\"#middle\" tabindex=\"2\"><span>\\xba\\xbb\\xb9\\xae\\xc0\\xb8\\xb7\\xce \\xb9\\xd9\\xb7\\xce\\xb0\\xa1\\xb1\\xe2</span></a>\\n\\t\\n\\t\\n\\n</div>\\n\\n\\n<div id=\"header\">\\n\\t<div class=\"header_area\">\\n\\t\\t<div class=\"header_inner\">\\n\\t\\t\\t<div class=\"logo_area\">\\n\\t\\t\\t\\t<h1 class=\"service\">\\n\\t\\t\\t\\t\\t<a href=\"https://www.naver.com/\" class=\"logo_link\" onClick=\"clickcr(this, \\'STA.naver\\', \\'\\', \\'\\', event);\">\\n\\t\\t\\t\\t\\t\\t<svg width=\"22\" height=\"22\" viewBox=\"0 0 22 22\" fill=\"none\" xmlns=\"http://www.w3.org/2000/svg\">\\n\\t\\t\\t\\t\\t\\t\\t<path d=\"M22 11C22 13.1756 21.3549 15.3023 20.1462 17.1113C18.9375 18.9202 17.2195 20.3301 15.2095 21.1627C13.1995 21.9952 10.9878 22.2131 8.85401 21.7886C6.72022 21.3642 4.76021 20.3166 3.22183 18.7782C1.68345 17.2398 0.635805 15.2798 0.211368 13.146C-0.213069 11.0122 0.00476298 8.80047 0.837327 6.79048C1.66989 4.78049 3.07979 3.06253 4.88873 1.85383C6.69768 0.645137 8.82441 0 11 0C13.9174 0 16.7153 1.15893 18.7782 3.22183C20.8411 5.28473 22 8.08262 22 11ZM12.8398 5.83V11.3602L8.98976 5.83H5.83V16.1838H9.1575V10.637L13.0075 16.17H16.1783V5.83H12.8398Z\" fill=\"#000\"/>\\n\\t\\t\\t\\t\\t\\t</svg>\\n\\t\\t\\t\\t\\t\\t<span class=\"blind\">\\xb3\\xd7\\xc0\\xcc\\xb9\\xf6</span>\\n\\t\\t\\t\\t\\t</a>\\n\\t\\t\\t\\t\\t<a href=\"https://new-m.pay.naver.com/\" class=\"logo_link\" onClick=\"clickcr(this, \\'STA.pay\\', \\'\\', \\'\\', event);\">\\n\\t\\t\\t\\t\\t\\t<svg width=\"37\" height=\"22\" viewBox=\"0 0 37 22\" fill=\"none\" xmlns=\"http://www.w3.org/2000/svg\">\\n\\t\\t\\t\\t\\t\\t\\t<path d=\"M34.4319 5.21944L31.3913 12.1478L27.9518 5.21944H25.3072L30.1783 14.8317L28.1703 19.3358H30.7384L37 5.2331L34.4319 5.21944ZM23.6171 15.9331H21.1037V14.9328C20.1894 15.7342 19.0108 16.1685 17.7953 16.1518C14.7901 16.1518 12.4379 13.692 12.4379 10.5763C12.4379 7.46057 14.7874 5.00079 17.7953 5.00079C19.0104 4.9833 20.189 5.41657 21.1037 6.21701V5.21944H23.6171V15.9331ZM21.3987 10.5899C21.3987 8.57019 19.9891 7.03694 18.1204 7.03694C16.2517 7.03694 14.842 8.57019 14.842 10.5899C14.842 12.6097 16.249 14.1429 18.1204 14.1429C19.9918 14.1429 21.3987 12.596 21.3987 10.5899ZM0.00819554 19.3358H2.63088V15.023C3.52823 15.7695 4.66309 16.1699 5.83001 16.1518C8.83516 16.1518 11.1901 13.692 11.1901 10.5763C11.1901 7.46057 8.83789 5.00079 5.83001 5.00079C4.61166 4.9789 3.42899 5.4126 2.51341 6.21701V5.21944H0L0.00819554 19.3358ZM5.51856 7.03694C7.38722 7.03694 8.79691 8.57019 8.79691 10.5899C8.79691 12.6097 7.38722 14.1429 5.51856 14.1429C3.6499 14.1429 2.24021 12.6097 2.24021 10.5899C2.24021 8.57019 3.63351 7.03694 5.51856 7.03694Z\" fill=\"#000\"/>\\n\\t\\t\\t\\t\\t\\t</svg>\\n\\t\\t\\t\\t\\t\\t<span class=\"blind\">\\xc6\\xe4\\xc0\\xcc</span>\\n\\t\\t\\t\\t\\t</a>\\n\\t\\t\\t\\t\\t<a href=\"/\" class=\"logo_link\" onClick=\"clickcr(this, \\'STA.finance\\', \\'\\', \\'\\', event);\">\\n\\t\\t\\t\\t\\t\\t<svg width=\"34\" height=\"22\" viewBox=\"0 0 34 22\" fill=\"none\" xmlns=\"http://www.w3.org/2000/svg\">\\n\\t\\t\\t\\t\\t\\t\\t<path d=\"M2.43006 8.88998L1.85406 6.99998C5.29206 6.31598 7.00206 5.34398 7.45206 4.31798H2.71806V2.35598H14.3641V4.31798H9.75606C9.70206 4.65998 9.61206 4.98398 9.46806 5.28998L15.2101 6.98198L14.4901 8.88998L8.02806 6.92798C6.84006 7.75598 5.00406 8.40398 2.43006 8.88998ZM0.612061 11.5V9.53798H16.4521V11.5H0.612061ZM6.53406 12.796H10.5301C13.2301 12.796 14.7961 14.128 14.7961 15.91C14.7961 17.71 13.2301 19.024 10.5301 19.024H6.53406C3.85206 19.024 2.28606 17.71 2.28606 15.91C2.28606 14.128 3.85206 12.796 6.53406 12.796ZM6.96606 17.044H10.1161C11.7901 17.044 12.4921 16.594 12.4921 15.892C12.4921 15.19 11.7901 14.776 10.1161 14.776H6.96606C5.29206 14.776 4.57206 15.19 4.57206 15.892C4.57206 16.594 5.29206 17.044 6.96606 17.044Z\" fill=\"#000\"/>\\n\\t\\t\\t\\t\\t\\t\\t<path d=\"M25.1904 13.354V11.536H29.4564V2.03198H31.7604V15.334H29.4564V13.354H25.1904ZM21.3384 10.564C20.9244 10.582 20.5464 10.582 20.1684 10.582H17.4504L17.3604 8.61998H20.3844C21.5004 8.61998 22.9584 8.56598 24.4884 8.45798C24.7224 6.99998 24.8484 5.63198 24.8664 4.62398H18.4404V2.66198H27.0984V3.56198C27.0984 5.16398 26.9724 6.76598 26.7564 8.25998L28.2684 8.09798L28.5024 10.006C26.9724 10.222 25.2264 10.384 23.5704 10.474C23.4984 11.5 23.3904 12.562 23.2644 13.714L21.0684 13.588C21.1764 12.508 21.2664 11.536 21.3384 10.564ZM22.4724 14.254V16.756H32.3724V18.844H20.1684V14.254H22.4724Z\" fill=\"#000\"/>\\n\\t\\t\\t\\t\\t\\t</svg>\\n\\t\\t\\t\\t\\t\\t<span class=\"blind\">\\xc1\\xf5\\xb1\\xc7</span>\\n\\t\\t\\t\\t\\t</a>\\n\\t\\t\\t\\t</h1>\\n\\t\\t\\t</div>\\n\\n\\t\\t\\t<div class=\"right_area\">\\n\\t\\t\\t\\t<div class=\"search_area\">\\n\\t\\t\\t\\t\\t<form name=\"search\" action=\"/search/search.naver\"  method=\"get\" onsubmit=\"return delayed_submit(this)\" style=\"margin:0; padding:0;\">\\n\\t\\t\\t\\t\\t<label for=\"stock_items\" class=\"blind\">\\xc1\\xf5\\xb1\\xc7 \\xc1\\xbe\\xb8\\xf1\\xb8\\xed\\xa1\\xa4\\xc1\\xf6\\xbc\\xf6\\xb8\\xed \\xb0\\xcb\\xbb\\xf6</label>\\n\\t\\t\\t\\t\\t<input type=\"text\" id=\"stock_items\" name=\"query\" title=\"\\xc1\\xbe\\xb8\\xf1\\xb8\\xed\\xa1\\xa4\\xc1\\xf6\\xbc\\xf6\\xb8\\xed \\xb0\\xcb\\xbb\\xf6\" class=\"search_input\" placeholder=\"\\xc1\\xbe\\xb8\\xf1\\xb8\\xed&middot;\\xc1\\xf6\\xbc\\xf6\\xb8\\xed \\xc0\\xd4\\xb7\\xc2\" accesskey=\"s\" autocomplete=\"off\">\\n\\t\\t\\t\\t\\t<input type=\"hidden\" id=\"_endUrl\" name=\"endUrl\" value=\"\" />\\n\\t\\t\\t\\t\\t<button type=\"button\" class=\"search_button\" onclick=\"clickcr(this, \\'STA.search\\', \\'\\', \\'\\', event);\">\\n\\t\\t\\t\\t\\t\\t<svg width=\"16\" height=\"16\" viewBox=\"0 0 16 16\" fill=\"none\" xmlns=\"http://www.w3.org/2000/svg\">\\n\\t\\t\\t\\t\\t\\t\\t<path fill-rule=\"evenodd\" clip-rule=\"evenodd\" d=\"M6.9999 2.59996C4.56985 2.59996 2.5999 4.56991 2.5999 6.99996C2.5999 9.43002 4.56985 11.4 6.9999 11.4C9.42996 11.4 11.3999 9.43002 11.3999 6.99996C11.3999 4.56991 9.42996 2.59996 6.9999 2.59996ZM1.3999 6.99996C1.3999 3.90717 3.90711 1.39996 6.9999 1.39996C10.0927 1.39996 12.5999 3.90717 12.5999 6.99996C12.5999 10.0928 10.0927 12.6 6.9999 12.6C3.90711 12.6 1.3999 10.0928 1.3999 6.99996Z\" fill=\"#404048\"></path>\\n\\t\\t\\t\\t\\t\\t\\t<path fill-rule=\"evenodd\" clip-rule=\"evenodd\" d=\"M10.2421 10.2424C10.4765 10.0081 10.8564 10.0081 11.0907 10.2424L14.424 13.5758C14.6583 13.8101 14.6583 14.19 14.424 14.4243C14.1897 14.6586 13.8098 14.6586 13.5755 14.4243L10.2421 11.091C10.0078 10.8567 10.0078 10.4768 10.2421 10.2424Z\" fill=\"#404048\"></path>\\n\\t\\t\\t\\t\\t\\t</svg>\\n\\t\\t\\t\\t\\t\\t<span class=\"blind\">\\xb0\\xcb\\xbb\\xf6</span>\\n\\t\\t\\t\\t\\t</button>\\n\\t\\t\\t\\t\\t<div class=\"auto_area\">\\n\\t\\t\\t\\t\\t\\t<span class=\"blind\">\\xc0\\xda\\xb5\\xbf\\xbf\\xcf\\xbc\\xba</span>\\n\\t\\t\\t\\t\\t\\t<div id=\"autoFrame\" style=\"display: none;\">\\n\\t\\t\\t\\t\\t\\t\\t<div class=\"wrap\" id=\"atcmp\" style=\"display:none;\">\\n\\t\\t\\t\\t\\t\\t\\t\\t<div class=\"wrap_in\">\\n\\t\\t\\t\\t\\t\\t\\t\\t\\t<div class=\"words\">\\n\\t\\t\\t\\t\\t\\t\\t\\t\\t\\t<ul class=\"_resultBox\">\\n\\t\\t\\t\\t\\t\\t\\t\\t\\t\\t\\t<li>\\n\\t\\t\\t\\t\\t\\t\\t\\t\\t\\t\\t\\t<a href=\"#\" onclick=\"clickcr(this, \\'AUT.list\\', \\'\\', \\'\\', event); return false;\" class=\"_au_real_list\">\\n\\t\\t\\t\\t\\t\\t\\t\\t\\t\\t\\t\\t\\t<span class=\"num _au_real_list\">@code@</span>\\n\\t\\t\\t\\t\\t\\t\\t\\t\\t\\t\\t\\t\\t<span class=\"_au_real_list\">@txt@</span>\\n\\t\\t\\t\\t\\t\\t\\t\\t\\t\\t\\t\\t\\t<span class=\"type _au_real_list\">@market@</span>\\n\\t\\t\\t\\t\\t\\t\\t\\t\\t\\t\\t\\t</a>\\n\\t\\t\\t\\t\\t\\t\\t\\t\\t\\t\\t\\t<div style=\"display:none\" class=\"_au_full\">@full_txt@</div>\\n\\t\\t\\t\\t\\t\\t\\t\\t\\t\\t\\t\\t<div style=\"display:none\" class=\"_au_code\">@in_code@</div>\\n\\t\\t\\t\\t\\t\\t\\t\\t\\t\\t\\t\\t<div style=\"display:none\" class=\"_au_name\">@in_name@</div>\\n\\t\\t\\t\\t\\t\\t\\t\\t\\t\\t\\t\\t<div style=\"display:none\" class=\"_au_link\">@in_link@</div>\\n\\t\\t\\t\\t\\t\\t\\t\\t\\t\\t\\t\\t<div style=\"display:none\" class=\"_au_market\">@in_market@</div>\\n\\t\\t\\t\\t\\t\\t\\t\\t\\t\\t\\t</li>\\n\\t\\t\\t\\t\\t\\t\\t\\t\\t\\t</ul>\\n\\t\\t\\t\\t\\t\\t\\t\\t\\t</div>\\n\\t\\t\\t\\t\\t\\t\\t\\t</div>\\n\\t\\t\\t\\t\\t\\t\\t\\t<!-- \\xc7\\xf6\\xc0\\xe7 \\xc0\\xda\\xb5\\xbf\\xbf\\xcf\\xbc\\xba \\xb1\\xe2\\xb4\\xc9\\xc0\\xbb \\xbb\\xe7\\xbf\\xeb\\xc7\\xcf\\xb0\\xed \\xb0\\xe8\\xbd\\xca\\xb4\\xcf\\xb4\\xd9 -->\\n\\t\\t\\t\\t\\t\\t\\t\\t<div class=\"wrap\" id=\"atcmpIng\" style=\"display:none;\">\\n\\t\\t\\t\\t\\t\\t\\t\\t\\t<div class=\"wrap_in\">\\n\\t\\t\\t\\t\\t\\t\\t\\t\\t\\t<div class=\"words\">\\n\\t\\t\\t\\t\\t\\t\\t\\t\\t\\t\\t<p class=\"msg\">\\n\\t\\t\\t\\t\\t\\t\\t\\t\\t\\t\\t\\t\\xc7\\xf6\\xc0\\xe7 \\xc0\\xda\\xb5\\xbf\\xbf\\xcf\\xbc\\xba \\xb1\\xe2\\xb4\\xc9\\xc0\\xbb \\xbb\\xe7\\xbf\\xeb\\xc7\\xcf\\xb0\\xed \\xb0\\xe8\\xbd\\xca\\xb4\\xcf\\xb4\\xd9.\\n\\t\\t\\t\\t\\t\\t\\t\\t\\t\\t\\t</p>\\n\\t\\t\\t\\t\\t\\t\\t\\t\\t\\t</div>\\n\\t\\t\\t\\t\\t\\t\\t\\t\\t</div>\\n\\t\\t\\t\\t\\t\\t\\t\\t</div>\\n\\t\\t\\t\\t\\t\\t\\t\\t<!--// \\xc7\\xf6\\xc0\\xe7 \\xc0\\xda\\xb5\\xbf\\xbf\\xcf\\xbc\\xba \\xb1\\xe2\\xb4\\xc9\\xc0\\xbb \\xbb\\xe7\\xbf\\xeb\\xc7\\xcf\\xb0\\xed \\xb0\\xe8\\xbd\\xca\\xb4\\xcf\\xb4\\xd9 -->\\n\\t\\t\\t\\t\\t\\t\\t\\t<!-- \\xc0\\xda\\xb5\\xbf\\xbf\\xcf\\xbc\\xba \\xb1\\xe2\\xb4\\xc9\\xc0\\xcc \\xc8\\xb0\\xbc\\xba\\xc8\\xad -->\\n\\t\\t\\t\\t\\t\\t\\t\\t<div class=\"wrap\" id=\"atcmpStart\" style=\"display:none;\">\\n\\t\\t\\t\\t\\t\\t\\t\\t\\t<div class=\"wrap_in\">\\n\\t\\t\\t\\t\\t\\t\\t\\t\\t\\t<div class=\"words\">\\n\\t\\t\\t\\t\\t\\t\\t\\t\\t\\t\\t<p class=\"msg\">\\n\\t\\t\\t\\t\\t\\t\\t\\t\\t\\t\\t\\t\\xc0\\xda\\xb5\\xbf\\xbf\\xcf\\xbc\\xba \\xb1\\xe2\\xb4\\xc9\\xc0\\xcc \\xc8\\xb0\\xbc\\xba\\xc8\\xad\\xb5\\xc7\\xbe\\xfa\\xbd\\xc0\\xb4\\xcf\\xb4\\xd9.\\n\\t\\t\\t\\t\\t\\t\\t\\t\\t\\t\\t</p>\\n\\t\\t\\t\\t\\t\\t\\t\\t\\t\\t</div>\\n\\t\\t\\t\\t\\t\\t\\t\\t\\t</div>\\n\\t\\t\\t\\t\\t\\t\\t\\t</div>\\n\\t\\t\\t\\t\\t\\t\\t</div>\\n\\t\\t\\t\\t\\t\\t</div>\\n\\t\\t\\t\\t\\t</div>\\n\\t\\t\\t\\t\\t</form>\\n\\t\\t\\t\\t</div>\\n\\t\\t\\t\\t<div class=\"gnb_area\">\\n\\t\\t\\t\\t\\t<div id=\"gnb\">\\n\\t\\t\\t\\t\\t\\t<script charset=\"EUC-KR\" type=\"text/javascript\">\\n\\t\\t\\t\\t\\t\\t\\tvar gnb_service = \"finance\";\\n\\t\\t\\t\\t\\t\\t\\tvar gnb_template = location.protocol === \"http:\" ? \"gnb_quirks_euckr\" : \"gnb_utf8\" ;\\n\\t\\t\\t\\t\\t\\t\\tvar gnb_logout=encodeURIComponent(location.href);\\n\\t\\t\\t\\t\\t\\t\\tvar gnb_brightness = 1;\\n\\t\\t\\t\\t\\t\\t\\tvar gnb_one_naver = 0;\\n\\t\\t\\t\\t\\t\\t</script>\\n\\t\\t\\t\\t\\t\\t<script type=\"text/javascript\" charset=\"utf-8\" src=\"https://ssl.pstatic.net/static.gn/templates/gnb_utf8.nhn?20240802\">\\n\\t\\t\\t\\t\\t\\t</script>\\n\\t\\t\\t\\t\\t</div>\\n\\t\\t\\t\\t</div>\\n\\t\\t\\t</div>\\n\\t\\t</div>\\n\\t</div>\\n\\t<div class=\"lnb_area \">\\n\\t\\t<div class=\"lnb_inner\">\\n\\t\\t\\t<div id=\"menu\">\\n\\t\\t\\t\\t<ul class=\"menu\">\\n\\t\\t\\t\\t\\t<li class=\"m1 first \"><a href=\"/\" onClick=\"clickcr(this, \\'LNB.home\\', \\'\\', \\'\\', event);\"><span class=\"tx\">\\xc1\\xf5\\xb1\\xc7 \\xc8\\xa8</span></a></li>\\n\\t\\t\\t\\t\\t<li class=\"m2 on\"><a href=\"/sise/\" onClick=\"clickcr(this, \\'LNB.sise\\', \\'\\', \\'\\', event);\"><span class=\"tx\">\\xb1\\xb9\\xb3\\xbb\\xc1\\xf5\\xbd\\xc3</span><span class=\"blind\">\\xbc\\xb1\\xc5\\xc3\\xb5\\xca</span></a></li>\\n\\t\\t\\t\\t\\t<li class=\"m3 \"><a href=\"/world/\" onClick=\"clickcr(this, \\'LNB.world\\', \\'\\', \\'\\', event);\"><span class=\"tx\">\\xc7\\xd8\\xbf\\xdc\\xc1\\xf5\\xbd\\xc3</span></a></li>\\n\\t\\t\\t\\t\\t<li class=\"m4 \"><a href=\"/marketindex/\" onClick=\"clickcr(this, \\'LNB.market\\', \\'\\', \\'\\', event);\"><span class=\"tx\">\\xbd\\xc3\\xc0\\xe5\\xc1\\xf6\\xc7\\xa5</span></a></li>\\n\\t\\t\\t\\t\\t<li class=\"m6 \"><a href=\"/research/\" onClick=\"clickcr(this, \\'LNB.research\\', \\'\\', \\'\\', event);\"><span class=\"tx\">\\xb8\\xae\\xbc\\xad\\xc4\\xa1</span></a></li>\\n\\t\\t\\t\\t\\t<li class=\"m7 \"><a href=\"/news/\"><span class=\"tx\">\\xb4\\xba\\xbd\\xba</span></a></li>\\n\\t\\t\\t\\t\\t<li class=\"m8 \"><a href=\"/mystock/\" onClick=\"clickcr(this, \\'LNB.mystock\\', \\'\\', \\'\\', event);\"><span class=\"tx\">MY</span></a></li>\\n\\t\\t\\t\\t</ul>\\n\\t\\t\\t</div>\\n\\t\\t</div>\\n\\t</div>\\n\\t\\n\\t\\n\\t\\n\\t\\n\\n\\t\\n\\t<script type=\"text/JavaScript\">\\n\\t\\t/* lcs \\xc1\\xfd\\xb0\\xe8 */\\n        ;(function(){\\n            var eventType = \"onpageshow\" in window ? \"pageshow\" : \"load\";\\n            jindo.$Fn(function(){\\n                lcs_do();\\n            }).attach(window, eventType);\\n        })();\\n\\n\\t\\t/* \\xb0\\xcb\\xbb\\xf6 \\xc0\\xda\\xb5\\xbf\\xbf\\xcf\\xbc\\xba [ \\xc0\\xce\\xc0\\xda1 : \\xb0\\xcb\\xbb\\xf6input\\xc0\\xc7 ID, \\xc0\\xce\\xc0\\xda2 : iframe \\xc5\\xc2\\xb1\\xd7 ID ]   */\\n\\t\\t// AutoComplete \\xbb\\xfd\\xbc\\xba\\n\\t\\tvar acDomain = \"ac.stock.naver.com\";\\n\\t\\tif (location.hostname.indexOf(\"staging-\") > -1) {\\n\\t\\t\\tacDomain = \"staging-\" + acDomain;\\n\\t\\t} else if (location.hostname.indexOf(\"test-\") > -1) {\\n\\t\\t\\tacDomain = \"test-\" + acDomain;\\n\\t\\t} else if (location.hostname.indexOf(\"dev-\") > -1 || location.hostname.indexOf(\"localhost\") > -1 || location.hostname.indexOf(\"local-\") > -1) {\\n\\t\\t\\tacDomain = \"dev-\" + acDomain;\\n\\t\\t}\\n\\n        var acUrl = \"https://\" + acDomain + \"/ac\";\\n\\n\\t\\tsmartSearch = new nhn.Autocomplete(\\n\\t\\t\\t// InputManager \\xbb\\xfd\\xbc\\xba\\n\\t\\t\\tnew nhn.AcInputManager(jindo.$(\"stock_items\")),\\n\\t\\t\\t// DataManager \\xbb\\xfd\\xbc\\xba\\n\\t\\t\\tnew nhn.AcDataManager(acUrl, \"xhr\", \"get\", {}),\\n\\t\\t\\t// ViewManager \\xbb\\xfd\\xbc\\xba\\n\\t\\t\\tnew nhn.AcStockViewManager(jindo.$(\"autoFrame\"), jindo.$(\"nautocomplete\"), {\\n                                        strMax: 200,\\n                                        listMax: [7, 2, 2],\\n                                        aRedirectUrl : [\\n\\t\\t\\t\\t\\t\\t\\t\\t\\t\\t\"https://\" + window.location.hostname,\\n                            \\t\\t\\t\"https://finance.naver.com\",\\n                            \\t\\t\\t\"https://finance.naver.com\"]}),\\n\\t\\t\\t// Autocomplete Option\\n            {formId:\"search\", cookieDomain:location.hostname, cookieName:\"NaverCommonStock_disable\"});\\n\\n\\t\\t\\tsmartSearch.attach({\\n\\t            onFocus: function () {\\n\\t                var weInput = jindo.$Element(\\'stock_items\\');\\n\\t                if (weInput && weInput.hasClass(\"snb_default\")) {\\n\\t                        weInput.text(\"\");\\n\\t                        weInput.removeClass(\\'snb_default\\');\\n\\t                }\\n\\t            }\\n\\t        });\\n\\n\\t\\t/* \\xc5\\xeb\\xc7\\xd5\\xb0\\xcb\\xbb\\xf6  start ----->  */\\n\\t\\tvar sSearchHintText = \\'\\xc1\\xbe\\xb8\\xf1\\xb8\\xed\\xa1\\xa4\\xc1\\xf6\\xbc\\xf6\\xb8\\xed\\xa1\\xa4\\xc8\\xaf\\xc0\\xb2\\xb8\\xed\\xa1\\xa4\\xbf\\xf8\\xc0\\xda\\xc0\\xe7\\xb8\\xed \\xc0\\xd4\\xb7\\xc2\\';\\n\\t\\tfunction itegrationSearch() {\\n\\t\\t\\tvar query = jindo.$(\\'stock_items\\').value;\\n\\n\\t\\t\\tif ( query == \\'\\'  || encodeURIComponent(query) == encodeURIComponent(sSearchHintText))\\n\\t\\t\\t{\\n\\t\\t\\t\\talert ( \\'\\xb0\\xcb\\xbb\\xf6\\xbe\\xee\\xb8\\xa6 \\xc0\\xd4\\xb7\\xc2\\xc7\\xd8 \\xc1\\xd6\\xbc\\xbc\\xbf\\xe4.\\' );\\n\\t\\t\\t\\treturn;\\n\\t\\t\\t}\\n\\n            var url = location.protocol + \"//search.naver.com/search.naver?sm=sta_hty.finance&where=nexearch&ie=UTF8&query=\" + encodeURIComponent(query);\\n            window.open(url, \"_blank\");\\n\\n\\t\\t\\treturn false;\\n\\t\\t}\\n\\n\\t\\tfunction delayed_submit(object) {\\n\\t\\t\\tif (navigator.userAgent.indexOf(\\'MSIE\\') == -1) {\\n\\t\\t\\t\\twindow.setTimeout(function() {stock_search(object)}, 300);\\n\\t\\t\\t} else {\\n\\t\\t\\t\\tstock_search(object);\\n\\t\\t\\t}\\n\\t\\t\\treturn false;\\n\\t\\t}\\n\\n\\t\\tfunction stock_search (object)\\n\\t\\t{\\n\\t\\t\\t// endUrl check\\n\\t\\t\\tif (object.endUrl.value) {\\n\\t\\t\\t\\tlocation.href = object.endUrl.value;\\n\\t\\t\\t\\treturn;\\n\\t\\t\\t}\\n\\n\\t\\t\\t// query check\\n\\t\\t\\tquery = object.query.value.replace(/^\\\\s*/,\\'\\').replace(/\\\\s*$/,\\'\\');\\t// trim\\n\\t\\t\\tobject.query.value=query;\\n\\n\\t\\t\\tif ( query == \\'\\' || query == sSearchHintText.replace(/^\\\\s*/,\\'\\').replace(/\\\\s*$/,\\'\\'))\\n\\t\\t\\t{\\n\\t\\t\\t\\talert ( \\'\\xb0\\xcb\\xbb\\xf6\\xbe\\xee\\xb8\\xa6 \\xc0\\xd4\\xb7\\xc2\\xc7\\xd8 \\xc1\\xd6\\xbc\\xbc\\xbf\\xe4.\\' );\\n\\t\\t\\t\\treturn;\\n\\t\\t\\t}\\n\\t\\t\\telse {\\n\\t\\t\\t\\tobject.submit();\\n\\t\\t\\t}\\n\\t\\t}\\n\\t\\t/* <---------- \\xc5\\xeb\\xc7\\xd5\\xb0\\xcb\\xbb\\xf6  end */\\n\\n\\t\\tfunction popup()\\n\\t\\t{\\n\\t\\t\\twin = window.open(\\'/template/group_limit_pop.jsp\\',\\'finan_popup\\',\\'width=569 height=278 scrollbars=no status=no\\');\\n\\t\\t\\twin.focus();\\n\\t\\t}\\n\\t</script>\\n\\n\\t<iframe id=\"me_layers\" name=\"test\" title=\"\\xb3\\xd7\\xc0\\xcc\\xb9\\xf6\\xb9\\xcc \\xbf\\xb5\\xbf\\xaa\" width=\"0\" height=\"0\" scrolling=\"no\" frameborder=\"0\" style=\"display:block;top: 22px; right: 209px; position: absolute; z-index: 15;\"></iframe>\\n</div>\\n<div id=\"wrap\"  >\\n\\t\\n\\t\\t<div class=\"banner_smart\">\\n\\t\\t\\t<div id=\"_SmartChannelTopBanner\">\\n\\t\\t\\t\\t<script type=\"text/javascript\">\\n\\t\\t\\t\\tif (ieVersion === -1 || ieVersion > 10) {\\n\\t\\t\\t\\t\\tgladsdk.cmd.push(function() {\\n\\t\\t\\t\\t\\t\\tgladsdk.displayAd(\"_SmartChannelTopBanner\");\\n\\t\\t\\t\\t\\t});\\n\\t\\t\\t\\t}\\n\\t\\t\\t\\t</script>\\n\\t\\t\\t</div>\\n\\t\\t</div>\\n\\t\\n\\n\\n<script language=\"javascript\" src=\"https://ssl.pstatic.net/imgstock/static.pc/20240725112316/js/ellipse.js\"></script>\\n<script type=\"text/javascript\">\\n\\tfunction financialInfoCommentToggle() {\\n\\t\\tif(jindo.$Element(jindo.$$.getSingle(\"div.ly_moreifrs\")).visible()) {\\n\\t\\t\\tjindo.$Element(jindo.$$.getSingle(\"a.more_ifrs\")).html(\"\\xc7\\xd7\\xb8\\xf1\\xba\\xb0 \\xbb\\xf3\\xbc\\xbc\\xb1\\xe2\\xc1\\xd8 \\xba\\xb8\\xb1\\xe2\");\\n\\t\\t\\tjindo.$Element(jindo.$$.getSingle(\"a.more_ifrs\")).removeClass(\"fd\");\\n\\t\\t} else {\\n\\t\\t\\tjindo.$Element(jindo.$$.getSingle(\"a.more_ifrs\")).html(\"\\xc7\\xd7\\xb8\\xf1\\xba\\xb0 \\xbb\\xf3\\xbc\\xbc\\xb1\\xe2\\xc1\\xd8 \\xb4\\xdd\\xb1\\xe2\");\\n\\t\\t\\tjindo.$Element(jindo.$$.getSingle(\"a.more_ifrs\")).addClass(\"fd\");\\n\\t\\t}\\n\\t\\tjindo.$Element(jindo.$$.getSingle(\"div.ly_moreifrs\")).toggle();\\n\\t}\\n\\n</script>\\n\\n\\n\\n\\t\\n\\t\\n\\t\\n\\t\\n\\n<script language=javascript src=\\'https://ssl.pstatic.net/imgstock/static.pc/20240725112316/js/recent_code.js\\'></script>\\n<script language=javascript>addCode(\\'005930\\');</script>\\n<script language=\"JavaScript\" src=\"https://ssl.pstatic.net/imgstock/static.pc/20240725112316/js/summary.js\"></script>\\n<script language=\"JavaScript\">fchartStatus.setChartStatus(\\'on\\');</script>\\n<style>\\n\\n.hide_chart {\\nposition: absolute;\\ntop: 0;\\nleft: -9999px;\\n}\\n</style>\\n\\t<div id=\"middle\" class=\"new_totalinfo\">\\n\\t\\t\\n\\n\\t\\t\\n\\t\\t\\t\\n\\t\\t\\t\\n\\t\\t\\t\\n\\t\\t\\t\\t\\n\\t\\t\\t\\n\\t\\t\\n\\n\\t\\t\\n\\t\\t\\t\\n\\t\\t\\t\\t\\n\\t\\t\\t\\t\\n\\t\\t\\t\\n\\t\\t\\t\\n\\t\\t\\n\\n\\t\\t\\n        <dl class=\"blind\">\\n\\t        <dt>\\xc1\\xbe\\xb8\\xf1 \\xbd\\xc3\\xbc\\xbc \\xc1\\xa4\\xba\\xb8</dt>\\n\\t        <dd>2024\\xb3\\xe2 08\\xbf\\xf9 02\\xc0\\xcf 16\\xbd\\xc3 10\\xba\\xd0 \\xb1\\xe2\\xc1\\xd8 \\xc0\\xe5\\xb8\\xb6\\xb0\\xa8</dd>\\n\\t        <dd>\\xc1\\xbe\\xb8\\xf1\\xb8\\xed \\xbb\\xef\\xbc\\xba\\xc0\\xfc\\xc0\\xda</dd>\\n\\t        <dd>\\xc1\\xbe\\xb8\\xf1\\xc4\\xda\\xb5\\xe5 005930 \\xc4\\xda\\xbd\\xba\\xc7\\xc7</dd>\\n\\t        <dd>\\xc7\\xf6\\xc0\\xe7\\xb0\\xa1 79,600 \\xc0\\xfc\\xc0\\xcf\\xb4\\xeb\\xba\\xf1 \\xc7\\xcf\\xb6\\xf4 3,500 \\xb8\\xb6\\xc0\\xcc\\xb3\\xca\\xbd\\xba 4.21 \\xc6\\xdb\\xbc\\xbe\\xc6\\xae</dd>\\n\\t        <dd>\\xc0\\xfc\\xc0\\xcf\\xb0\\xa1 83,100</dd>\\n\\t        <dd>\\xbd\\xc3\\xb0\\xa1 81,000</dd>\\n\\t        <dd>\\xb0\\xed\\xb0\\xa1 81,400</dd>\\n\\t        <dd>\\xbb\\xf3\\xc7\\xd1\\xb0\\xa1 108,000</dd>\\n\\t        <dd>\\xc0\\xfa\\xb0\\xa1 79,500</dd>\\n\\t        <dd>\\xc7\\xcf\\xc7\\xd1\\xb0\\xa1 58,200</dd>\\n\\t        <dd>\\xb0\\xc5\\xb7\\xa1\\xb7\\xae 25,422,371</dd>\\n\\t        <dd>\\xb0\\xc5\\xb7\\xa1\\xb4\\xeb\\xb1\\xdd 2,042,433\\xb9\\xe9\\xb8\\xb8</dd>\\n        </dl>\\n        \\n\\n\\t\\t<div class=\"h_company\">\\n\\t\\t \\t<div class=\"wrap_company\">\\n\\t\\t\\t\\t<h2><a href=\"#\" onClick=\"clickcr(this, \\'sop.title\\', \\'\\', \\'\\', event);window.location.reload();\">\\xbb\\xef\\xbc\\xba\\xc0\\xfc\\xc0\\xda</a></h2>\\n\\n\\t\\t\\t\\t<div class=\"description\">\\n\\t\\t\\t\\t\\t<span class=\"code\">005930</span>\\n\\t\\t\\t\\t\\t\\n\\t\\t\\t\\t\\t\\t<img src=\"https://ssl.pstatic.net/imgstock/item_renewal/btn_kospi.gif\" width=\"33\" height=\"16\" alt=\"\\xc4\\xda\\xbd\\xba\\xc7\\xc7\" class=\"kospi\">\\n\\t\\t\\t\\t\\t\\n\\t\\t\\t\\t\\t\\n\\t\\t\\t\\t\\t\\n\\t\\t\\t\\t\\t<span class=\"blind\">\\xb3\\xaf\\xc2\\xa5</span>\\n\\t\\t\\t\\t\\t<span id=\"time\">\\n\\t\\t\\t\\t\\t\\n\\t\\t\\t\\t\\t\\t\\n\\t\\t\\t\\t\\t\\t\\n\\t\\t\\t\\t\\t\\t\\n\\t\\t\\t\\t\\t\\t\\t<em class=\"date\">2024.08.02 <span>\\xb1\\xe2\\xc1\\xd8(\\xc0\\xe5\\xb8\\xb6\\xb0\\xa8)</span></em>\\n\\t\\t\\t\\t\\t\\t\\n\\t\\t\\t\\t\\t\\n\\t\\t\\t\\t\\t</span>\\n\\n\\t\\t\\t\\t\\t<em class=\"realtime\">\\n\\t\\t\\t\\t\\t\\t<span class=\"blind\">\\xbd\\xc7\\xbd\\xc3\\xb0\\xa3</span>\\n\\t\\t\\t\\t\\t</em>\\n\\t\\t\\t\\t\\t\\t\\n\\t\\t\\t\\t\\t\\t\\n\\t\\t\\t\\t\\t\\t\\t\\n\\t\\t\\t\\t\\t\\t\\t<em class=\"summary\">\\n\\t\\t\\t\\t\\t\\t\\n\\t\\t\\t\\t\\t\\t\\t<a href=\"#\" onclick=\"togglePannel(\\'summary_lyr\\'); return false;\"></a>\\n\\t\\t\\t\\t\\t\\t\\t\\n\\t\\t\\t\\t\\t\\t\\t<span class=\"blind\">\\xb1\\xe2\\xbe\\xf7\\xb0\\xb3\\xbf\\xe4</span>\\n\\t\\t\\t\\t\\t\\t\\t<div id=\"summary_lyr\" class=\"summary_lyr\" style=\"display:none;top:22px;left:0\">\\n\\t\\t\\t\\t\\t\\t\\t\\t<iframe id=\"summary_ifr\" name=\"summary_ifr\" width=\"410\" height=\"\" src=\"\" scrolling=\"no\" frameborder=\"0\" style=\"position:absolute;left:0;top:-2;z-index:20\"></iframe>\\n\\t\\t\\t\\t\\t\\t\\t\\t<div id=\"summary_info\" class=\"summary_info\">\\n\\t\\t\\t\\t\\t\\t\\t\\t\\t<h4>\\xb1\\xe2\\xbe\\xf7\\xb0\\xb3\\xbf\\xe4</h4>\\n\\t\\t\\t\\t\\t\\t\\t\\t\\t\\n\\t\\t\\t\\t\\t\\t\\t\\t\\t\\t<p>\\xc7\\xd1\\xb1\\xb9 \\xb9\\xd7 DX\\xba\\xce\\xb9\\xae \\xc7\\xd8\\xbf\\xdc 9\\xb0\\xb3 \\xc1\\xf6\\xbf\\xaa\\xc3\\xd1\\xb0\\xfd\\xb0\\xfa DS\\xba\\xce\\xb9\\xae \\xc7\\xd8\\xbf\\xdc 5\\xb0\\xb3 \\xc1\\xf6\\xbf\\xaa\\xc3\\xd1\\xb0\\xfd, SDC, Harman \\xb5\\xee 227\\xb0\\xb3\\xc0\\xc7 \\xc1\\xbe\\xbc\\xd3\\xb1\\xe2\\xbe\\xf7\\xc0\\xb8\\xb7\\xce \\xb1\\xb8\\xbc\\xba\\xb5\\xc8 \\xb1\\xdb\\xb7\\xce\\xb9\\xfa \\xc0\\xfc\\xc0\\xda\\xb1\\xe2\\xbe\\xf7\\xc0\\xd3.</p>\\n\\t\\t\\t\\t\\t\\t\\t\\t\\t\\n\\t\\t\\t\\t\\t\\t\\t\\t\\t\\n\\t\\t\\t\\t\\t\\t\\t\\t\\t\\t<p>\\xbc\\xbc\\xc6\\xae\\xbb\\xe7\\xbe\\xf7\\xc0\\xba TV\\xb8\\xa6 \\xba\\xf1\\xb7\\xd4 \\xb8\\xf0\\xb4\\xcf\\xc5\\xcd, \\xb3\\xc3\\xc0\\xe5\\xb0\\xed, \\xbc\\xbc\\xc5\\xb9\\xb1\\xe2, \\xbf\\xa1\\xbe\\xee\\xc4\\xc1, \\xbd\\xba\\xb8\\xb6\\xc6\\xae\\xc6\\xf9, \\xb3\\xd7\\xc6\\xae\\xbf\\xf6\\xc5\\xa9\\xbd\\xc3\\xbd\\xba\\xc5\\xdb, \\xc4\\xc4\\xc7\\xbb\\xc5\\xcd \\xb5\\xee\\xc0\\xbb \\xbb\\xfd\\xbb\\xea\\xc7\\xcf\\xb4\\xc2 DX\\xba\\xce\\xb9\\xae\\xc0\\xcc \\xc0\\xd6\\xc0\\xbd.</p>\\n\\t\\t\\t\\t\\t\\t\\t\\t\\t\\n\\t\\t\\t\\t            \\t\\t\\n\\t\\t\\t\\t\\t\\t\\t\\t\\t\\t<p>\\xba\\xce\\xc7\\xb0 \\xbb\\xe7\\xbe\\xf7\\xbf\\xa1\\xb4\\xc2 DRAM, NAND Flash, \\xb8\\xf0\\xb9\\xd9\\xc0\\xcfAP \\xb5\\xee\\xc0\\xc7 \\xc1\\xa6\\xc7\\xb0\\xc0\\xbb \\xbb\\xfd\\xbb\\xea\\xc7\\xcf\\xb0\\xed \\xc0\\xd6\\xb4\\xc2 DS \\xba\\xce\\xb9\\xae\\xb0\\xfa \\xc1\\xdf\\xbc\\xd2\\xc7\\xfcOLED \\xb5\\xee\\xc0\\xc7 \\xb5\\xf0\\xbd\\xba\\xc7\\xc3\\xb7\\xb9\\xc0\\xcc \\xc6\\xd0\\xb3\\xce\\xc0\\xbb \\xbb\\xfd\\xbb\\xea\\xc7\\xcf\\xb0\\xed \\xc0\\xd6\\xb4\\xc2 SDC\\xb0\\xa1 \\xc0\\xd6\\xc0\\xbd.</p>\\n\\t\\t\\t\\t\\t\\t\\t\\t\\t\\n\\t\\t\\t\\t\\t\\t\\t\\t\\t\\n\\t\\t\\t\\t\\t\\t\\t\\t\\t\\n\\t\\t\\t\\t\\t\\t\\t\\t\\t<div class=\"txt_notice\">\\xc3\\xe2\\xc3\\xb3 : \\xbf\\xa1\\xc7\\xc1\\xbe\\xd8\\xb0\\xa1\\xc0\\xcc\\xb5\\xe5</div>\\n\\t\\t\\t\\t\\t\\t\\t\\t\\t\\t<div class=\"btn_area_top\">\\n\\t\\t\\t\\t\\t\\t\\t\\t\\t\\t\\t<a href=\"#\" onclick=\"hidePannel(\\'summary_lyr\\'); return false;\"><img src=\"https://ssl.pstatic.net/static/nfinance/img/btn_close.gif\" alt=\"\\xb4\\xdd\\xb1\\xe2\" width=\"11\" height=\"11\"></a>\\n\\t\\t\\t\\t\\t\\t\\t\\t\\t\\t</div>\\n\\t\\t\\t\\t\\t\\t\\t\\t\\t<div class=\"bg_btm\"></div>\\n\\t\\t\\t\\t\\t\\t\\t\\t</div>\\n\\t\\t\\t\\t\\t\\t\\t\\t<span class=\"bg_lt\"></span>\\n\\t\\t\\t\\t\\t\\t\\t\\t<span class=\"bg_rt\"></span>\\n\\t\\t\\t\\t\\t\\t\\t\\t<div class=\"bu_arrow\"></div>\\n\\t\\t\\t\\t\\t\\t\\t</div>\\n\\t\\t\\t\\t\\t\\t</em>\\n\\t\\t\\t\\t\\t\\t\\n\\t\\t\\t\\t\\t\\t\\n\\t\\t\\t\\t\\t\\t\\n\\t\\t\\t\\t\\t\\t\\n\\t\\t\\t\\t\\t\\t\\n\\t\\t\\t</div>\\n\\t\\t</div>\\n\\n\\t\\t<div class=\"quick\">\\n\\t\\t\\t<p>\\n\\t\\t\\t\\t<a href=\"#\" class=\"snb_top1\" onClick=\"clickcr(this,\\'sop.2\\',\\'\\',\\'\\',event);\"><span class=\"blind\">MY STOCK \\xc3\\xdf\\xb0\\xa1</span></a>\\n\\t\\t\\t\\t<a href=\"javascript:quickorder(\\'on\\')\" class=\"snb_top3\" onClick=\"clickcr(this,\\'sop.3\\',\\'\\',\\'\\',event);\"><span class=\"blind\">\\xba\\xfc\\xb8\\xa5\\xc1\\xd6\\xb9\\xae</span></a>\\n\\t\\t\\t</p>\\n\\t\\t\\t\\n\\t\\t\\t<div class=\"ly_lstmove blind NE=a:sop*m\">\\n\\t\\t\\t\\t<span class=\"bg\"></span>\\n\\t\\t\\t\\t<div class=\"txt _ly_group\">\\n\\t\\t\\t\\t\\t<div class=\"bx_sel scr_white2 _ly_group_list\">\\n\\t\\t\\t\\t\\t\\t<ul></ul>\\n\\t\\t\\t\\t\\t</div>\\n\\t\\t\\t\\t\\t<div class=\"bx_sel _ly_group_blank\" style=\"display:none;\">\\n\\t\\t\\t\\t\\t\\t<p class=\"txt_inner type7\">\\xc3\\xdf\\xb0\\xa1\\xc7\\xd2 \\xb1\\xd7\\xb7\\xec\\xc0\\xcc \\xbe\\xf8\\xbd\\xc0\\xb4\\xcf\\xb4\\xd9.<br>\\xb1\\xd7\\xb7\\xec\\xc0\\xbb \\xc3\\xdf\\xb0\\xa1\\xc7\\xd8\\xc1\\xd6\\xbc\\xbc\\xbf\\xe4.</p>\\n\\t\\t\\t\\t\\t</div>\\n\\t\\t\\t\\t\\t<p class=\"rgt\"><button type=\"button\" class=\"btn_spr btn_groupadd2 NPI=a:add\"><span class=\"blind\">\\xb1\\xd7\\xb7\\xec\\xc3\\xdf\\xb0\\xa1</span></button></p>\\n\\t\\t\\t\\t\\t<p>\\n\\t\\t\\t\\t\\t\\t<button type=\"button\" class=\"btn_spr btn_cfm2 _btn_ok NPI=a:confirm\"><span class=\"blind\">\\xc8\\xae\\xc0\\xce</span></button>\\n\\t\\t\\t\\t\\t\\t<button type=\"button\" class=\"btn_spr btn_clse2 _btn_cancel NPI=a:close\"><span class=\"blind\">\\xb4\\xdd\\xb1\\xe2</span></button>\\n\\t\\t\\t\\t\\t</p>\\n\\t\\t\\t\\t</div>\\n\\t\\t\\t\\t<div class=\"txt _ly_message\" style=\"display:none;\">\\n\\t\\t\\t\\t</div>\\n\\t\\t\\t</div>\\n\\t\\t\\t\\n\\n\\t        \\n            <div class=\"layer_quick_order\" id=\"quickOrderArea\" style=\"display:none\">\\n                <div class=\"content\">\\n                    <h5>\\xb3\\xd7\\xc0\\xcc\\xb9\\xf6 \\xc1\\xd6\\xbd\\xc4\\xb0\\xc5\\xb7\\xa1\\xbf\\xac\\xb0\\xe1<br>\\xba\\xfc\\xb8\\xa5 \\xc1\\xd6\\xb9\\xae\\xc0\\xbb \\xb5\\xb5\\xbf\\xcd\\xb5\\xe5\\xb8\\xb3\\xb4\\xcf\\xb4\\xd9!</h5>\\n                    <ul>\\n                    <li>\\xba\\xbb \\xbc\\xad\\xba\\xf1\\xbd\\xba\\xb4\\xc2 \\xb0\\xed\\xb0\\xb4\\xb4\\xd4\\xc0\\xc7 \\xba\\xfc\\xb8\\xa5 \\xc1\\xd6\\xb9\\xae\\xc0\\xbb \\xb5\\xbd\\xb1\\xe2 \\xc0\\xa7\\xc7\\xd8<br><span>\\xc1\\xf5\\xb1\\xc7\\xbb\\xe7\\xc0\\xc7 \\xb7\\xce\\xb1\\xd7\\xc0\\xce\\xc0\\xbb \\xbf\\xac\\xb0\\xe1</span>\\xc7\\xd8\\xb5\\xe5\\xb8\\xae\\xb0\\xed \\xc0\\xd6\\xbd\\xc0\\xb4\\xcf\\xb4\\xd9.</li>\\n                    <li>\\xb0\\xed\\xb0\\xb4\\xb4\\xd4\\xc0\\xcc \\xba\\xb8\\xc0\\xaf\\xc7\\xcf\\xb0\\xed \\xb0\\xe8\\xbd\\xc5 \\xc1\\xf5\\xb1\\xc7\\xbb\\xe7\\xb8\\xa6 \\xc5\\xac\\xb8\\xaf\\xc7\\xd1 \\xc8\\xc4<br><span>\\xc1\\xf5\\xb1\\xc7\\xbb\\xe7\\xc0\\xc7 \\xbe\\xc6\\xc0\\xcc\\xb5\\xf0, \\xba\\xf1\\xb9\\xd0\\xb9\\xf8\\xc8\\xa3, \\xb0\\xf8\\xc0\\xce\\xc0\\xce\\xc1\\xf5\\xbc\\xad\\xb7\\xce \\xc1\\xd6\\xb9\\xae</span>\\xc0\\xbb<br>\\xc7\\xcf\\xbd\\xc7 \\xbc\\xf6 \\xc0\\xd6\\xbd\\xc0\\xb4\\xcf\\xb4\\xd9. </li>\\n                    <li>\\xc1\\xf5\\xb1\\xc7\\xbb\\xe7 \\xb7\\xce\\xb1\\xd7\\xc0\\xce \\xc0\\xcc\\xc8\\xc4 \\xbd\\xc3\\xbd\\xba\\xc5\\xdb \\xb9\\xae\\xc1\\xa6\\xb0\\xa1 \\xb9\\xdf\\xbb\\xfd\\xc7\\xcf\\xb8\\xe9,<br><span>\\xc1\\xf5\\xb1\\xc7\\xbb\\xe7 \\xb0\\xed\\xb0\\xb4\\xbc\\xbe\\xc5\\xcd\\xb7\\xce \\xc1\\xf7\\xc1\\xa2 \\xb9\\xae\\xc0\\xc7</span> \\xc7\\xcf\\xbd\\xc3\\xb1\\xe2 \\xb9\\xd9\\xb6\\xf8\\xb4\\xcf\\xb4\\xd9.   </li>\\n                    <li>\\xb3\\xd7\\xc0\\xcc\\xb9\\xf6\\xb4\\xc2 \\xc1\\xf5\\xb1\\xc7\\xbb\\xe7 \\xbc\\xad\\xba\\xf1\\xbd\\xba\\xc0\\xc7 \\xbd\\xc3\\xbd\\xba\\xc5\\xdb \\xc0\\xe5\\xbe\\xd6\\xbf\\xa1 \\xb5\\xfb\\xb8\\xa5<br>\\xb9\\xfd\\xc0\\xfb \\xc3\\xa5\\xc0\\xd3\\xc0\\xbb \\xc1\\xf6\\xc1\\xf6 \\xbe\\xca\\xbd\\xc0\\xb4\\xcf\\xb4\\xd9. </li>\\n                    </ul>\\n                    \\n                    <div class=\"ci_area\">\\n                    \\t<div id=\"quickOrderCiBanner0\"></div>\\n                    \\t<div id=\"quickOrderCiBanner1\"></div>\\n                    \\t<div id=\"quickOrderCiBanner2\"></div>\\n                    \\t<div id=\"quickOrderCiBanner3\"></div>\\n                    </div>\\n                    <div class=\"btn_area_btm\"><a href=\"javascript:quickorder(\\'off\\')\"><img src=\"https://ssl.pstatic.net/imgstock/item_renewal/btn_close.gif\" alt=\"\\xb4\\xdd\\xb1\\xe2\" width=\"38\" height=\"20\"></a></div>\\n                    <div class=\"btn_area_top\"><a href=\"javascript:quickorder(\\'off\\')\"><img src=\"https://ssl.pstatic.net/imgstock/item_renewal/btn_close_x.gif\" alt=\"\\xb4\\xdd\\xb1\\xe2\" width=\"19\" height=\"19\"></a></div>\\n                </div>\\n            </div>\\n            \\n\\t\\t</div>\\n\\n\\t\\t\\n\\t</div>\\n\\n\\t<div class=\"content_wrap\">\\n\\t<div id=\"content\">\\n\\n\\t\\t<div id=\"chart_area\" class=\"spot\"><!-- chart\\xb0\\xa1 \\xbb\\xe7\\xb6\\xf3\\xc1\\xfa\\xb6\\xa7  <div class=\"spot spot_short\">-->\\n\\t\\t\\t<div class=\"rate_info\">\\n\\n\\t\\t\\t\\t\\n                <dl class=\"blind\">\\n                        <dt><strong>\\xbb\\xef\\xbc\\xba\\xc0\\xfc\\xc0\\xda</strong></dt>\\n                        <dd>\\xbf\\xc0\\xb4\\xc3\\xc0\\xc7\\xbd\\xc3\\xbc\\xbc 79,600 \\xc6\\xf7\\xc0\\xce\\xc6\\xae</dd>\\n                        <dd>3,500 \\xc6\\xf7\\xc0\\xce\\xc6\\xae \\xc7\\xcf\\xb6\\xf4</dd>\\n                        <dd>4.21% \\xb8\\xb6\\xc0\\xcc\\xb3\\xca\\xbd\\xba</dd>\\n                </dl>\\n                \\n\\n\\t\\t\\t\\t<div class=\"today\">\\n\\t\\t\\t\\t\\t<p class=\"no_today\">\\n\\t\\t\\t\\t\\t\\t\\n\\t\\t\\t\\t\\t\\t\\t\\n\\t\\t\\t\\t\\t\\t\\t\\n\\t\\t\\t\\t\\t\\t\\t\\t<em class=\"no_down\">\\n\\t\\t\\t\\t\\t\\t\\t\\n\\t\\t\\t\\t\\t\\t\\t\\n\\t\\t\\t\\t\\t\\t\\n\\t\\t\\t\\t\\t\\t\\t<span class=\"blind\">79,600</span>\\n\\t\\t\\t\\t\\t\\t\\t<span class=\"no7\">7</span><span class=\"no9\">9</span><span class=\"shim\">,</span><span class=\"no6\">6</span><span class=\"no0\">0</span><span class=\"no0\">0</span>\\n\\t\\t\\t\\t\\t\\t</em>\\n\\t\\t\\t\\t\\t</p>\\n\\t\\t\\t\\t\\t<p class=\"no_exday\">\\n\\t\\t\\t\\t\\t\\t<span class=\"sptxt sp_txt1\">\\xc0\\xfc\\xc0\\xcf\\xb4\\xeb\\xba\\xf1</span>\\n\\t\\t\\t\\t\\t\\t\\n\\t\\t\\t\\t\\t\\t\\t\\n\\t\\t\\t\\t\\t\\t\\t\\n\\t\\t\\t\\t\\t\\t\\t\\n\\t\\t\\t\\t\\t\\t\\t\\n\\t\\t\\t\\t\\t\\t\\t\\t<em class=\"no_down\">\\n\\t\\t\\t\\t\\t\\t\\t\\t\\t<span class=\"ico down\">\\xc7\\xcf\\xb6\\xf4</span>\\n\\t\\t\\t\\t\\t\\t\\t\\n\\t\\t\\t\\t\\t\\t\\t\\n\\t\\t\\t\\t\\t\\t\\n\\t\\t\\t\\t\\t\\t\\t<span class=\"blind\">3,500</span>\\n\\t\\t\\t\\t\\t\\t\\t<span class=\"no3\">3</span><span class=\"shim\">,</span><span class=\"no5\">5</span><span class=\"no0\">0</span><span class=\"no0\">0</span>\\n\\t\\t\\t\\t\\t\\t</em>\\n\\t\\t\\t\\t\\t\\t<span class=\"bar\">l</span>\\n\\t\\t\\t\\t\\t\\t\\n\\t\\t\\t\\t\\t\\t\\t\\n\\t\\t\\t\\t\\t\\t\\t\\n\\t\\t\\t\\t\\t\\t\\t\\t<em class=\"no_down\">\\n\\t\\t\\t\\t\\t\\t\\t\\t\\t<span class=\"ico minus\">-</span>\\n\\t\\t\\t\\t\\t\\t\\t\\n\\t\\t\\t\\t\\t\\t\\t\\n\\t\\t\\t\\t\\t\\t\\n\\t\\t\\t\\t\\t\\t\\t<span class=\"blind\">4.21</span>\\n\\t\\t\\t\\t\\t\\t\\t<span class=\"no4\">4</span><span class=\"jum\">.</span><span class=\"no2\">2</span><span class=\"no1\">1</span>\\n\\t\\t\\t\\t\\t\\t\\t<span class=\"per\">%</span>\\n\\t\\t\\t\\t\\t\\t</em>\\n\\t\\t\\t\\t\\t</p>\\n\\t\\t\\t\\t</div>\\n\\t\\t\\t\\t<table summary=\"\\xc1\\xd6\\xbf\\xe4 \\xbd\\xc3\\xbc\\xbc(\\xc0\\xfc\\xc0\\xcf\\xc1\\xbe\\xb0\\xa1, \\xbd\\xc3\\xb0\\xed\\xc0\\xfa\\xb0\\xa1, \\xb0\\xc5\\xb7\\xa1\\xb7\\xae, \\xb0\\xc5\\xb7\\xa1\\xb4\\xeb\\xb1\\xdd)\\xc0\\xbb \\xc1\\xa6\\xb0\\xf8\\xc7\\xd5\\xb4\\xcf\\xb4\\xd9.\" class=\"no_info\">\\n\\t\\t\\t\\t<caption>\\xc1\\xd6\\xbf\\xe4 \\xbd\\xc3\\xbc\\xbc</caption>\\n\\t\\t\\t\\t<colgroup><col><col width=\"214\"><col width=\"157\"></colgroup>\\n\\t\\t\\t\\t<tr>\\n\\t\\t\\t\\t\\t<td class=\"first\">\\n\\t\\t\\t\\t\\t\\t<span class=\"sptxt sp_txt2\">\\xc0\\xfc\\xc0\\xcf</span>\\n\\t\\t\\t\\t\\t\\t<em>\\n\\t\\t\\t\\t\\t\\t\\t<span class=\"blind\">83,100</span>\\n\\t\\t\\t\\t\\t\\t\\t<span class=\"no8\">8</span><span class=\"no3\">3</span><span class=\"shim\">,</span><span class=\"no1\">1</span><span class=\"no0\">0</span><span class=\"no0\">0</span>\\n\\t\\t\\t\\t\\t\\t</em>\\n\\t\\t\\t\\t\\t</td>\\n\\t\\t\\t\\t\\t<td>\\n\\t\\t\\t\\t\\t\\t<span class=\"sptxt sp_txt4\">\\xb0\\xed\\xb0\\xa1</span>\\n\\t\\t\\t\\t\\t\\t\\n\\t\\t\\t\\t\\t\\t\\t\\n\\t\\t\\t\\t\\t\\t\\t\\n\\t\\t\\t\\t\\t\\t\\t\\t\\n\\t\\t\\t\\t\\t\\t\\t\\t\\t\\n\\t\\t\\t\\t\\t\\t\\t\\t\\t\\n\\t\\t\\t\\t\\t\\t\\t\\t\\t<em class=\"no_down\">\\n\\t\\t\\t\\t\\t\\t\\t\\t\\t\\n\\t\\t\\t\\t\\t\\t\\t\\t\\n\\t\\t\\t\\t\\t\\t\\t\\n\\t\\t\\t\\t\\t\\t\\n\\t\\t\\t\\t\\t\\t\\n\\t\\t\\t\\t\\t\\t\\t\\n\\t\\t\\t\\t\\t\\t\\t<span class=\"blind\">81,400</span><span class=\"no8\">8</span><span class=\"no1\">1</span><span class=\"shim\">,</span><span class=\"no4\">4</span><span class=\"no0\">0</span><span class=\"no0\">0</span>\\n\\t\\t\\t\\t\\t\\t\\n\\t\\t\\t\\t\\t\\t</em>\\n\\t\\t\\t\\t\\t\\t<span class=\"sptxt sp_txt6\">(\\xbb\\xf3\\xc7\\xd1\\xb0\\xa1</span>\\n\\t\\t\\t\\t\\t\\t<em class=\"no_cha\">\\n\\t\\t\\t\\t\\t\\t\\t\\n\\t\\t\\t\\t\\t\\t\\t\\t\\n\\t\\t\\t\\t\\t\\t\\t\\t<span class=\"blind\">108,000</span><span class=\"no1\">1</span><span class=\"no0\">0</span><span class=\"no8\">8</span><span class=\"shim\">,</span><span class=\"no0\">0</span><span class=\"no0\">0</span><span class=\"no0\">0</span>\\n\\t\\t\\t\\t\\t\\t\\t\\n\\t\\t\\t\\t\\t\\t</em>\\n\\t\\t\\t\\t\\t\\t<span class=\"sptxt sp_txt8\">)</span>\\n\\t\\t\\t\\t\\t</td>\\n\\t\\t\\t\\t\\t<td>\\n\\t\\t\\t\\t\\t\\t<span class=\"sptxt sp_txt9\">\\xb0\\xc5\\xb7\\xa1\\xb7\\xae</span>\\n\\t\\t\\t\\t\\t\\t<em>\\n\\t\\t\\t\\t\\t\\t\\t<span class=\"blind\">25,422,371</span>\\n\\t\\t\\t\\t\\t\\t\\t<span class=\"no2\">2</span><span class=\"no5\">5</span><span class=\"shim\">,</span><span class=\"no4\">4</span><span class=\"no2\">2</span><span class=\"no2\">2</span><span class=\"shim\">,</span><span class=\"no3\">3</span><span class=\"no7\">7</span><span class=\"no2\">2</span>\\n\\t\\t\\t\\t\\t\\t</em>\\n\\t\\t\\t\\t\\t</td>\\n\\t\\t\\t\\t</tr>\\n\\t\\t\\t\\t<tr>\\n\\t\\t\\t\\t\\t<td class=\"first\">\\n\\t\\t\\t\\t\\t\\t<span class=\"sptxt sp_txt3\">\\xbd\\xc3\\xb0\\xa1</span>\\n\\t\\t\\t\\t\\t\\t\\n\\t\\t\\t\\t\\t\\t\\t\\n\\t\\t\\t\\t\\t\\t\\t\\n\\t\\t\\t\\t\\t\\t\\t\\t\\n\\t\\t\\t\\t\\t\\t\\t\\t\\t\\n\\t\\t\\t\\t\\t\\t\\t\\t\\t\\n\\t\\t\\t\\t\\t\\t\\t\\t\\t<em class=\"no_down\">\\n\\t\\t\\t\\t\\t\\t\\t\\t\\t\\n\\t\\t\\t\\t\\t\\t\\t\\t\\n\\t\\t\\t\\t\\t\\t\\t\\n\\t\\t\\t\\t\\t\\t\\n\\t\\t\\t\\t\\t\\t\\n\\t\\t\\t\\t\\t\\t\\t\\n\\t\\t\\t\\t\\t\\t\\t<span class=\"blind\">81,000</span><span class=\"no8\">8</span><span class=\"no1\">1</span><span class=\"shim\">,</span><span class=\"no0\">0</span><span class=\"no0\">0</span><span class=\"no0\">0</span>\\n\\t\\t\\t\\t\\t\\t\\n\\t\\t\\t\\t\\t\\t</em>\\n\\t\\t\\t\\t\\t</td>\\n\\t\\t\\t\\t\\t<td>\\n\\t\\t\\t\\t\\t\\t<span class=\"sptxt sp_txt5\">\\xc0\\xfa\\xb0\\xa1</span>\\n\\t\\t\\t\\t\\t\\t\\n\\t\\t\\t\\t\\t\\t\\t\\n\\t\\t\\t\\t\\t\\t\\t\\n\\t\\t\\t\\t\\t\\t\\t\\t\\n\\t\\t\\t\\t\\t\\t\\t\\t\\t\\n\\t\\t\\t\\t\\t\\t\\t\\t\\t\\n\\t\\t\\t\\t\\t\\t\\t\\t\\t<em class=\"no_down\">\\n\\t\\t\\t\\t\\t\\t\\t\\t\\t\\n\\t\\t\\t\\t\\t\\t\\t\\t\\n\\t\\t\\t\\t\\t\\t\\t\\n\\t\\t\\t\\t\\t\\t\\n\\t\\t\\t\\t\\t\\t\\n\\t\\t\\t\\t\\t\\t\\t\\n\\t\\t\\t\\t\\t\\t\\t<span class=\"blind\">79,500</span><span class=\"no7\">7</span><span class=\"no9\">9</span><span class=\"shim\">,</span><span class=\"no5\">5</span><span class=\"no0\">0</span><span class=\"no0\">0</span>\\n\\t\\t\\t\\t\\t\\t\\n\\t\\t\\t\\t\\t\\t</em>\\n\\t\\t\\t\\t\\t\\t<span class=\"sptxt sp_txt7\">(\\xc7\\xcf\\xc7\\xd1\\xb0\\xa1</span>\\n\\t\\t\\t\\t\\t\\t<em class=\"no_cha\">\\n\\t\\t\\t\\t\\t\\t\\t\\n\\t\\t\\t\\t\\t\\t\\t\\t\\n\\t\\t\\t\\t\\t\\t\\t\\t<span class=\"no5\">5</span><span class=\"no8\">8</span><span class=\"shim\">,</span><span class=\"no2\">2</span><span class=\"no0\">0</span><span class=\"no0\">0</span>\\n\\t\\t\\t\\t\\t\\t\\t\\n\\t\\t\\t\\t\\t\\t</em>\\n\\t\\t\\t\\t\\t\\t<span class=\"sptxt sp_txt8\">)</span>\\n\\t\\t\\t\\t\\t</td>\\n\\t\\t\\t\\t\\t<td>\\n\\t\\t\\t\\t\\t\\t<span class=\"sptxt sp_txt10\">\\xb0\\xc5\\xb7\\xa1\\xb4\\xeb\\xb1\\xdd</span>\\n\\t\\t\\t\\t\\t\\t<em>\\n\\t\\t\\t\\t\\t\\t\\n\\t\\t\\t\\t\\t\\t\\t\\n\\t\\t\\t\\t\\t\\t\\t\\t<span class=\"blind\">2,042,433</span>\\n\\t\\t\\t\\t\\t\\t\\t\\t<span class=\"no2\">2</span><span class=\"shim\">,</span><span class=\"no0\">0</span><span class=\"no4\">4</span><span class=\"no2\">2</span><span class=\"shim\">,</span><span class=\"no4\">4</span><span class=\"no3\">3</span><span class=\"no3\">3</span>\\n\\t\\t\\t\\t\\t\\t\\t\\n\\t\\t\\t\\t\\t\\t\\t\\n\\t\\t\\t\\t\\t\\t\\n\\t\\t\\t\\t\\t\\t</em>\\n\\t\\t\\t\\t\\t\\t<span class=\"sptxt sp_txt11\">\\xb9\\xe9\\xb8\\xb8</span>\\n\\t\\t\\t\\t\\t</td>\\n\\t\\t\\t\\t</tr>\\n\\t\\t\\t\\t</table>\\n\\t\\t\\t</div>\\n\\t\\t\\t<div class=\"chart\">\\n\\t\\t\\t\\t<p class=\"blind\">\\xc1\\xbe\\xb8\\xf1 \\xbd\\xc3\\xbc\\xbc \\xc2\\xf7\\xc6\\xae</p>\\n\\t\\t\\t\\t\\t<div class=\"chart_control_area\">\\n\\t\\t\\t\\t\\t\\t<dl class=\"line\">\\n\\t\\t\\t\\t\\t\\t\\t<dt>\\xbc\\xb1\\xc2\\xf7\\xc6\\xae</dt>\\n\\t\\t\\t\\t\\t\\t\\t<dd>\\n\\t\\t\\t\\t\\t\\t\\t\\t<ul>\\n\\t\\t\\t\\t\\t\\t\\t\\t\\t<li class=\"day\"><a href=\"#\" class=\"on\" onclick=\"showChart(\\'day\\')\">1\\xc0\\xcf</a></li>\\n\\t\\t\\t\\t\\t\\t\\t\\t\\t<li class=\"week\"><a href=\"#\" onclick=\"showChart(\\'week\\')\">1\\xc1\\xd6\\xc0\\xcf</a></li>\\n\\t\\t\\t\\t\\t\\t\\t\\t\\t<li class=\"month3\"><a href=\"#\" onclick=\"showChart(\\'month3\\');\">3\\xb0\\xb3\\xbf\\xf9</a></li>\\n\\t\\t\\t\\t\\t\\t\\t\\t\\t<li class=\"year\"><a href=\"#\" onclick=\"showChart(\\'year\\');\">1\\xb3\\xe2</a></li>\\n\\t\\t\\t\\t\\t\\t\\t\\t\\t<li class=\"year3\"><a href=\"#\" onclick=\"showChart(\\'year3\\');\">3\\xb3\\xe2</a></li>\\n\\t\\t\\t\\t\\t\\t\\t\\t\\t<li class=\"year5\"><a href=\"#\" onclick=\"showChart(\\'year5\\');\">5\\xb3\\xe2</a></li>\\n\\t\\t\\t\\t\\t\\t\\t\\t\\t<li class=\"year10\"><a href=\"#\" onclick=\"showChart(\\'year10\\');\">10\\xb3\\xe2</a></li>\\n\\t\\t\\t\\t\\t\\t\\t\\t</ul>\\n\\t\\t\\t\\t\\t\\t\\t</dd>\\n\\t\\t\\t\\t\\t\\t</dl>\\n\\t\\t\\t\\t\\t\\t<dl class=\"bar\">\\n\\t\\t\\t\\t\\t\\t\\t<dt>\\xba\\xc0\\xc2\\xf7\\xc6\\xae</dt>\\n\\t\\t\\t\\t\\t\\t\\t<dd>\\n\\t\\t\\t\\t\\t\\t\\t\\t<ul>\\n\\t\\t\\t\\t\\t\\t\\t\\t\\t<li class=\"day\"><a href=\"#\" onclick=\"showBarChart(\\'day\\');\">\\xc0\\xcf\\xba\\xc0</a></li>\\n\\t\\t\\t\\t\\t\\t\\t\\t\\t<li class=\"week\"><a href=\"#\" onclick=\"showBarChart(\\'week\\');\">\\xc1\\xd6\\xba\\xc0</a></li>\\n\\t\\t\\t\\t\\t\\t\\t\\t\\t<li class=\"month\"><a href=\"#\" onclick=\"showBarChart(\\'month\\');\">\\xbf\\xf9\\xba\\xc0</a></li>\\n\\t\\t\\t\\t\\t\\t\\t\\t</ul>\\n\\t\\t\\t\\t\\t\\t\\t</dd>\\n\\t\\t\\t\\t\\t\\t</dl>\\n\\t\\t\\t\\t\\t</div>\\n\\t\\t\\t\\t\\t<h5 class=\"blind\">\\xc0\\xcc\\xb9\\xcc\\xc1\\xf6 \\xc2\\xf7\\xc6\\xae</h5>\\n\\t\\t\\t\\t\\t<img id=\"img_chart_area\" src=\"https://ssl.pstatic.net/imgfinance/chart/item/area/day/005930.png?sidcode=1722583635904\" width=\"700\" height=\"289\" alt=\"\\xc0\\xcc\\xb9\\xcc\\xc1\\xf6 \\xc2\\xf7\\xc6\\xae\" onerror=\"this.src=\\'https://ssl.pstatic.net/imgstock/chart3/world2008/error_700x289.png\\'\">\\n\\t\\t\\t</div>\\n\\t\\t\\t<a href=\"javascript:fchartStatus.showChartArea(\\'005930\\', \\'%BB%EF%BC%BA%C0%FC%C0%DA\\', \\'false\\')\" class=\"btn_close\" onClick=\"clickcr(this,\\'sop.toggle\\',\\'\\',\\'\\',event);\">\\n\\t\\t\\t\\t<div id=\"btn_close\">\\n\\t\\t\\t\\t\\t\\n\\t\\t\\t\\t\\t\\t<img src=\"https://ssl.pstatic.net/imgstock/item_renewal/btn_lay_close.gif\" alt=\"\\xc2\\xf7\\xc6\\xae\\xb4\\xdd\\xb1\\xe2\" width=\"45\" height=\"11\">\\n\\t\\t\\t\\t\\t\\t\\n\\t\\t\\t\\t\\t\\n\\t\\t\\t\\t</div>\\n\\t\\t\\t</a>\\n\\t\\t</div>\\n\\n<script type=\"text/template\" id=\"summaryTpl\">\\n\\t<div class=\"today\">\\n\\t\\t<p class=\"no_today\">\\n\\t\\t\\t{if rf == 1 || rf == 2}\\n\\t\\t\\t\\t<em class=\"no_up\">\\n\\t\\t\\t{elseif rf == 4 || rf == 5}\\n\\t\\t\\t\\t<em class=\"no_down\">\\n\\t\\t\\t{else}\\n\\t\\t\\t\\t<em class=\"X\">\\n\\t\\t\\t{/if}\\n\\t\\t\\t{js numberFont(changeNumberFormat(=nv))}\\n\\t\\t\\t</em>\\n\\t\\t</p>\\n\\t\\t<p class=\"no_exday\">\\n\\t\\t\\t<span class=\"sptxt sp_txt1\">\\xc0\\xfc\\xc0\\xcf\\xb4\\xeb\\xba\\xf1</span>\\n\\t\\t\\t{if rf == 1}\\n\\t\\t\\t\\t\\t<em class=\"no_up\">\\n\\t\\t\\t\\t\\t\\t<span class=\"ico up_price\">\\xbb\\xf3\\xc7\\xd1\\xb0\\xa1</span>\\n\\t\\t\\t{elseif rf == 2}\\n\\t\\t\\t\\t\\t<em class=\"no_up\">\\n\\t\\t\\t\\t\\t\\t<span class=\"ico up\">\\xbb\\xf3\\xbd\\xc2</span>\\n\\t\\t\\t{elseif rf == 4}\\n\\t\\t\\t\\t\\t<em class=\"no_down\">\\n\\t\\t\\t\\t\\t\\t<span class=\"ico down_price\">\\xc7\\xcf\\xc7\\xd1\\xb0\\xa1</span>\\n\\t\\t\\t{elseif rf == 5}\\n\\t\\t\\t\\t\\t<em class=\"no_down\">\\n\\t\\t\\t\\t\\t\\t<span class=\"ico down\">\\xc7\\xcf\\xb6\\xf4</span>\\n\\t\\t\\t{else}\\n\\t\\t\\t\\t\\t<em class=\"X\">\\n\\t\\t\\t\\t\\t\\t<span class=\"ico sam\">\\xba\\xb8\\xc7\\xd5</span>\\n\\t\\t\\t{/if}\\n\\t\\t\\t{js numberFont(changeNumberFormat(=cv))}\\n\\t\\t\\t</em>\\n\\n\\t\\t\\t<span class=\"bar\">l</span>\\n\\t\\t\\t{if rf == 1 || rf == 2}\\n\\t\\t\\t\\t\\t<em class=\"no_up\">\\n\\t\\t\\t\\t\\t\\t<span class=\"ico plus\">+</span>\\n\\t\\t\\t{elseif rf == 4 || rf == 5}\\n\\t\\t\\t\\t\\t<em class=\"no_down\">\\n\\t\\t\\t\\t\\t\\t<span class=\"ico minus\">-</span>\\n\\t\\t\\t{else}\\n\\t\\t\\t\\t\\t<em class=\"X\">\\n\\t\\t\\t{/if}\\n\\t\\t\\t{if cr != null}\\n\\t\\t\\t\\t\\t{js numberFont(changeNumberFormat(=cr.toFixed(2)))}\\n\\t\\t\\t{/if}\\n\\t\\t\\t\\t<span class=\"per\">%</span>\\n\\t\\t\\t</em>\\n\\t\\t</p>\\n\\t</div>\\n\\t<table summary=\"\\xc1\\xd6\\xbf\\xe4 \\xbd\\xc3\\xbc\\xbc(\\xc0\\xfc\\xc0\\xcf\\xc1\\xbe\\xb0\\xa1, \\xbd\\xc3\\xb0\\xed\\xc0\\xfa\\xb0\\xa1, \\xb0\\xc5\\xb7\\xa1\\xb7\\xae, \\xb0\\xc5\\xb7\\xa1\\xb4\\xeb\\xb1\\xdd)\\xc0\\xbb \\xc1\\xa6\\xb0\\xf8\\xc7\\xd5\\xb4\\xcf\\xb4\\xd9.\" class=\"no_info\">\\n\\t<caption>\\xc1\\xd6\\xbf\\xe4 \\xbd\\xc3\\xbc\\xbc</caption>\\n\\t<colgroup><col><col width=\"214\"><col width=\"157\"></colgroup>\\n\\t<tr>\\n\\t\\t<td class=\"first\">\\n\\t\\t\\t<span class=\"sptxt sp_txt2\">\\xc0\\xfc\\xc0\\xcf</span>\\n\\t\\t\\t<em>\\n                {if sv == 0}\\n\\t\\t\\t\\t{js numberFont(changeNumberFormat(=pcv))}\\n                {else}\\n\\t\\t\\t\\t{js numberFont(changeNumberFormat(=sv))}\\n                {/if}\\n\\t\\t\\t</em>\\n\\t\\t</td>\\n\\t\\t<td>\\n\\t\\t\\t<span class=\"sptxt sp_txt4\">\\xb0\\xed\\xb0\\xa1</span>\\n\\t\\t\\t{if tyn == \"Y\"}\\n\\t\\t\\t\\t<em>\\n\\t\\t\\t{else}\\n\\t\\t\\t\\t{if hv == 0}\\n\\t\\t\\t\\t<em>\\n\\t\\t\\t\\t{elseif pcv < hv}\\n\\t\\t\\t\\t<em class=\"no_up\">\\n\\t\\t\\t\\t{elseif pcv > hv}\\n\\t\\t\\t\\t<em class=\"no_down\">\\n\\t\\t\\t\\t{else}\\n\\t\\t\\t\\t<em>\\n\\t\\t\\t\\t{/if}\\n\\t\\t\\t{/if}\\n\\t\\t\\t{if ms == \"PREOPEN\"}\\n\\t\\t\\t\\t{js numberFont(0)}\\n\\t\\t\\t{else}\\n\\t\\t\\t\\t{js numberFont(changeNumberFormat(=hv))}\\n\\t\\t\\t{/if}\\n\\t\\t\\t</em>\\n\\t\\t\\t<span class=\"sptxt sp_txt6\">(\\xbb\\xf3\\xc7\\xd1\\xb0\\xa1</span>\\n\\t\\t\\t<em class=\"no_cha\">\\n\\t\\t\\t\\t{if ms == \"PREOPEN\"}\\n\\t\\t\\t\\t\\t{js numberFont(0)}\\n\\t\\t\\t\\t{else}\\n\\t\\t\\t\\t\\t{js numberFont(changeNumberFormat(=ul))}\\n\\t\\t\\t\\t{/if}\\n\\t\\t\\t</em>\\n\\t\\t\\t<span class=\"sptxt sp_txt8\">)</span>\\n\\t\\t</td>\\n\\t\\t<td>\\n\\t\\t\\t<span class=\"sptxt sp_txt9\">\\xb0\\xc5\\xb7\\xa1\\xb7\\xae</span>\\n\\t\\t\\t<em>\\n\\t\\t\\t\\t{js numberFont(changeNumberFormat(=aq))}\\n\\t\\t\\t</em>\\n\\t\\t</td>\\n\\t</tr>\\n\\t<tr>\\n\\t\\t<td class=\"first\">\\n\\t\\t\\t<span class=\"sptxt sp_txt3\">\\xbd\\xc3\\xb0\\xa1</span>\\n\\t\\t\\t{if tyn == \"Y\"}\\n\\t\\t\\t\\t<em>\\n\\t\\t\\t{else}\\n\\t\\t\\t\\t{if ov == 0}\\n\\t\\t\\t\\t<em>\\n\\t\\t\\t\\t{elseif pcv < ov}\\n\\t\\t\\t\\t<em class=\"no_up\">\\n\\t\\t\\t\\t{elseif pcv > ov}\\n\\t\\t\\t\\t<em class=\"no_down\">\\n\\t\\t\\t\\t{else}\\n\\t\\t\\t\\t<em>\\n\\t\\t\\t\\t{/if}\\n\\t\\t\\t{/if}\\n\\t\\t\\t{if ms == \"PREOPEN\"}\\n\\t\\t\\t\\t{js numberFont(0)}\\n\\t\\t\\t{else}\\n\\t\\t\\t\\t{js numberFont(changeNumberFormat(=ov))}\\n\\t\\t\\t{/if}\\n\\t\\t\\t</em>\\n\\t\\t</td>\\n\\t\\t<td>\\n\\t\\t\\t<span class=\"sptxt sp_txt5\">\\xc0\\xfa\\xb0\\xa1</span>\\n\\t\\t\\t{if tyn == \"Y\"}\\n\\t\\t\\t\\t<em>\\n\\t\\t\\t{else}\\n\\t\\t\\t\\t{if lv == 0}\\n\\t\\t\\t\\t<em>\\n\\t\\t\\t\\t{elseif pcv < lv}\\n\\t\\t\\t\\t<em class=\"no_up\">\\n\\t\\t\\t\\t{elseif pcv > lv}\\n\\t\\t\\t\\t<em class=\"no_down\">\\n\\t\\t\\t\\t{else}\\n\\t\\t\\t\\t<em>\\n\\t\\t\\t\\t{/if}\\n\\t\\t\\t{/if}\\n\\t\\t\\t{if ms == \"PREOPEN\"}\\n\\t\\t\\t\\t{js numberFont(0)}\\n\\t\\t\\t{else}\\n\\t\\t\\t\\t{js numberFont(changeNumberFormat(=lv))}\\n\\t\\t\\t{/if}\\n\\t\\t\\t</em>\\n\\t\\t\\t<span class=\"sptxt sp_txt7\">(\\xc7\\xcf\\xc7\\xd1\\xb0\\xa1</span>\\n\\t\\t\\t<em class=\"no_cha\">\\n\\t\\t\\t\\t{if ms == \"PREOPEN\"}\\n\\t\\t\\t\\t\\t{js numberFont(0)}\\n\\t\\t\\t\\t{else}\\n\\t\\t\\t\\t\\t{js numberFont(changeNumberFormat(=ll))}\\n\\t\\t\\t\\t{/if}\\n\\t\\t\\t</em>\\n\\t\\t\\t<span class=\"sptxt sp_txt8\">)</span>\\n\\t\\t</td>\\n\\t\\t<td>\\n\\t\\t\\t<span class=\"sptxt sp_txt10\">\\xb0\\xc5\\xb7\\xa1\\xb4\\xeb\\xb1\\xdd</span>\\n\\t\\t\\t<em>\\n\\t\\t\\t\\t{js numberFont(changeNumberFormat((=aa/1000000).toFixed(0)))}\\n\\t\\t\\t</em>\\n\\t\\t\\t<span class=\"sptxt sp_txt11\">\\xb9\\xe9\\xb8\\xb8</span>\\n\\t\\t</td>\\n\\t</tr>\\n\\t</table>\\n</script>\\n\\n<script type=\"text/javascript\">\\nvar pollingInterval = 2000;\\nvar timer = null;\\nvar pollingAjax = null;\\nvar itemcodes = \\'\\';\\n\\nvar startTimer = function() {\\n\\tclearTimer();\\n\\ttimer = setInterval(\\'doPolling()\\', pollingInterval);\\n}\\n\\nvar clearTimer = function() {\\n\\tif (pollingAjax) {\\n\\t\\tpollingAjax.abort();\\n\\t\\tpollingAjax = null;\\n\\t}\\n\\n\\ttimer = window.clearInterval(timer);\\n}\\n\\nvar doPolling = function() {\\n\\tvar pollingApiUrl = \"https://polling.finance.naver.com/api/realtime?query=SERVICE_ITEM:\" + \"005930\"\\n\\n\\tif (requestType == \\'recent\\' && itemcodes != \"\") {\\n\\t\\tpollingApiUrl += \"|\" + \"SERVICE_RECENT_ITEM:\" + itemcodes;\\n\\t} else if (requestType == \\'mystock\\' && itemcodes != \"\"){\\n\\t\\tpollingApiUrl += \"|\" + \"SERVICE_MYSTOCK_ITEM:\" + itemcodes;\\n\\t}\\n\\n\\tpollingAjax = jindo.$Ajax(pollingApiUrl, {\\n\\t\\ttype : \\'jsonp\\',\\n\\t\\tjsonp_charset : \"euc-kr\",\\n\\t\\tonload : function(response) {\\n\\t\\t\\tif(response != null && response.readyState() == 4) {\\n\\t\\t\\t\\trefreshQuote(response.json());\\n\\t\\t\\t\\tstartTimer();\\n\\t\\t\\t}\\n\\t\\t},\\n\\t\\ttimeout : 2,\\n\\t\\tontimeout : function() {\\n\\t\\t\\tstartTimer();\\n\\t\\t},\\n\\t\\tasync : true\\n\\t});\\n\\tpollingAjax.request();\\n}\\n\\nfunction displayTime(ms, time) {\\n\\tvar result;\\n\\n\\tvar utcDate = new Date(time);\\n\\tutcDate.setMinutes(utcDate.getMinutes() + utcDate.getTimezoneOffset());\\n\\tutcDate.setHours(utcDate.getHours() + 9);\\n\\n\\tvar oDate = jindo.$Date(utcDate);\\n\\n\\tif (ms == \"PREOPEN\") {\\n\\t\\tcloseDate = oDate.format(\\'Y.m.d\\')\\n\\t\\tresult = \\'<em class=\"date\">\\' + oDate.format(\\'Y.m.d\\') + \\' <span>\\xb1\\xe2\\xc1\\xd8(\\xb0\\xb3\\xc0\\xe5\\xc0\\xfc)</span></em> \\';\\n\\t} else if (ms == \"CLOSE\") {\\n\\t\\tresult = \\'<em class=\"date\">\\' + closeDate + \\' <span>\\xb1\\xe2\\xc1\\xd8(\\xc0\\xe5\\xb8\\xb6\\xb0\\xa8)</span></em> \\';\\n\\t} else {\\n\\t\\tcloseDate = oDate.format(\\'Y.m.d\\')\\n\\t\\tresult = \\'<em class=\"date\">\\' + oDate.format(\\'Y.m.d H:i\\') + \\' <span>\\xb1\\xe2\\xc1\\xd8(\\xc0\\xe5\\xc1\\xdf)</span></em> \\';\\n\\t}\\n\\n\\treturn result;\\n}\\n\\n/**\\n * \\xbf\\xec\\xc3\\xf8\\xbb\\xf3\\xb4\\xdc \\xc5\\xf5\\xc0\\xda\\xc1\\xa4\\xba\\xb8 \\xbf\\xb5\\xbf\\xaa \\xc1\\xdf, NAV \\xb0\\xaa \\xb0\\xbb\\xbd\\xc5\\n */\\nfunction refreshEtfNav(etfNav) {\\n\\tvar elEtfNav = jindo.$Element(jindo.$$.getSingle(\"#on_board_last_nav\"));\\n\\tif (elEtfNav != null) {\\n\\t\\tif (etfNav != null) {\\n\\t\\t\\telEtfNav.html(\"<em><strong>\" + changeNumberFormat(etfNav.toFixed(0)) + \"</strong></em>\");\\n\\t\\t} else {\\n\\t\\t\\telEtfNav.html(\"<em><strong>N/A</strong></em>\");\\n\\t\\t}\\n\\t}\\n}\\n\\nfunction refreshInvestmentSummary(nv) {\\n\\tif (!(false && false && false)) {\\n\\t\\treturn;\\n\\t}\\n\\n\\tvar averageBuyingPrice = 0;\\n\\tvar holdingShares = 0;\\n\\n\\tvar elEvaluationProfitAmount = jindo.$Element(jindo.$$.getSingle(\"#evaluation_profit_amount\"));\\n\\t// \\xc6\\xf2\\xb0\\xa1\\xbc\\xd5\\xc0\\xcd = (nv - \\xc6\\xf2\\xb1\\xd5\\xb8\\xc5\\xc0\\xd4\\xb0\\xa1) * \\xba\\xb8\\xc0\\xaf\\xbc\\xf6\\xb7\\xae\\n\\tvar evaluationProfitAmount = (nv - 0) * 0;\\n\\t// \\xc6\\xf2\\xb0\\xa1\\xbc\\xf6\\xc0\\xcd\\xb7\\xfc = \\xc6\\xf2\\xb0\\xa1\\xbc\\xd5\\xc0\\xcd / (\\xc6\\xf2\\xb1\\xd5\\xb8\\xc5\\xc0\\xd4\\xb0\\xa1 * \\xba\\xb8\\xc0\\xaf\\xbc\\xf6\\xb7\\xae) * 100\\n\\tvar evaluationProfitRate = evaluationProfitAmount / (0 * 0) * 100;\\n\\n\\tvar sPointClass = \"\";\\n\\tvar sSign = \"\";\\n\\tif (evaluationProfitAmount > 0) {\\n\\t\\tsPointClass = \"f_up\";\\n\\t\\tsSign = \"+\";\\n\\t} else {\\n\\t\\tsPointClass = \"f_down\";\\n\\t\\tsSign = \"\";\\n\\t}\\n\\n\\tvar evaluationProfitAmoutText = \"\"\\n\\tif (evaluationProfitAmount > 10000000000) {\\n\\t\\tvar evaluationProfitAmountDivideBillion = evaluationProfitAmount / 100000000;\\n\\t\\tevaluationProfitAmountText = \"<em>\" + sSign + changeNumberFormat(evaluationProfitAmountDivideBillion.toFixed(0)) + \"\\xbe\\xef</em>\";\\n\\t} else {\\n\\t\\tevaluationProfitAmountText = \"<em>\" + sSign + changeNumberFormat(evaluationProfitAmount) + \"</em>\";\\n\\t}\\n\\n\\tif (elEvaluationProfitAmount != null) {\\n\\t\\telEvaluationProfitAmount.removeClass(\"f_up\");\\n\\t\\telEvaluationProfitAmount.removeClass(\"f_down\");\\n\\t\\telEvaluationProfitAmount.addClass(sPointClass);\\n\\t\\telEvaluationProfitAmount.html(evaluationProfitAmountText);\\n\\t}\\n\\n\\tvar elEvaluationProfitRate = jindo.$Element(jindo.$$.getSingle(\"#evaluation_profit_rate\"));\\n\\tif (elEvaluationProfitRate != null) {\\n\\n\\t\\telEvaluationProfitRate.removeClass(\"f_up\");\\n\\t\\telEvaluationProfitRate.removeClass(\"f_down\");\\n\\t\\telEvaluationProfitRate.addClass(sPointClass);\\n\\n\\t\\telEvaluationProfitRate.html(\"<em>\" + sSign + changeNumberFormat(evaluationProfitRate.toFixed(2)) + \"%</em>\");\\n\\t}\\n}\\n\\n\\nfunction refreshCompanyValue(json) {\\n\\tvar sPer = \"N/A\";\\n\\tvar sKrxPer = \"N/A\";\\n\\t/* if ((json.per !== undefined) && (json.per !== null)) {\\n\\t\\tsPer = converToFixedPointNotation(json.per, 2);\\n\\t}\\n\\n\\tjindo.$A(jindo.$$(\"#_per\")).forEach(function(v) {\\n\\t\\tjindo.$Element(v).text(sPer);\\n\\t}, this); */\\n\\n\\tif ((json.eps !== undefined) && (json.eps !== null)) {\\n\\t\\tsPer = converToFixedPointNotation(json.nv / json.eps, 2);\\n\\t}\\n\\n\\tjindo.$A(jindo.$$(\"#_per\")).forEach(function(v) {\\n\\t\\tjindo.$Element(v).text(sPer);\\n\\t}, this);\\n\\n\\tif ((json.keps !== undefined) && (json.keps !== null)) {\\n\\t\\tsKrxPer = converToFixedPointNotation(json.nv / json.keps, 2);\\n\\t}\\n\\n\\tjindo.$A(jindo.$$(\"#krx_per\")).forEach(function(v) {\\n\\t\\tjindo.$Element(v).text(sKrxPer);\\n\\t}, this);\\n\\n\\tvar sCnsPer = \"N/A\";\\n\\tif ((json.cnsEps !== undefined) && (json.cnsEps !== null)) {\\n\\t\\tsCnsPer = converToFixedPointNotation(json.nv / json.cnsEps, 2);\\n\\t}\\n\\n\\tjindo.$A(jindo.$$(\"#_cns_per\")).forEach(function(v) {\\n\\t\\tjindo.$Element(v).text(sCnsPer);\\n\\t}, this);\\n\\n\\tvar sPbr = \"N/A\";\\n\\tif ((json.bps !== undefined) && (json.bps !== null)) {\\n\\t\\tvar bps = converToFixedPointNotation(json.bps, 0)\\n\\t\\tsPbr = converToFixedPointNotation(json.nv / bps, 2);\\n\\t}\\n\\n\\tjindo.$A(jindo.$$(\"#_pbr\")).forEach(function(v) {\\n\\t\\tjindo.$Element(v).text(sPbr);\\n\\t}, this);\\n\\n\\tvar sDvr = \"N/A\";\\n\\tif ((json.dv !== undefined) && (json.dv !== null)) {\\n\\t\\tvar dv = converToFixedPointNotation(json.dv, 0)\\n\\t\\tsDvr = converToFixedPointNotation((dv * 100)/ json.nv, 2);\\n\\t}\\n\\n\\tjindo.$A(jindo.$$(\"#_dvr\")).forEach(function(v) {\\n\\t\\tjindo.$Element(v).text(sDvr);\\n\\t}, this);\\n}\\n\\nfunction refreshQuote(res) {\\n\\tif(res != null && res.resultCode == \\'success\\') {\\n\\t\\tpollingInterval = res.result.pollingInterval;\\n\\n\\t\\tfor (var index = 0 ; index < res.result.areas.length ; index++) {\\n\\t\\t\\tif (res.result.areas[index].name == \"SERVICE_ITEM\" && res.result.areas[index].datas[0]) {\\n\\t\\t\\t\\tvar ms = \"NOT DEFINED\";\\n\\t\\t\\t\\tms = res.result.areas[index].datas[0].ms;\\n\\t\\t\\t\\tdocument.getElementById(\"time\").innerHTML = displayTime(ms, res.result.time);\\n\\n\\t\\t\\t\\tjindo.$Element(jindo.$$.getSingle(\"#chart_area .rate_info\")).html(jindo.$Template(\"summaryTpl\").process(res.result.areas[index].datas[0]));\\n\\n\\t\\t\\t\\trefreshInvestmentSummary(res.result.areas[index].datas[0].nv);\\n\\t\\t\\t\\trefreshEtfNav(res.result.areas[index].datas[0].nav);\\n\\t\\t\\t\\trefreshCompanyValue(res.result.areas[index].datas[0]);\\n\\t\\t\\t} else if (res.result.areas[index].name == \"SERVICE_RECENT_ITEM\") {\\n\\t\\t\\t\\trenderRecentAreaRealtime(\"recent\", res.result.areas[index]);\\n\\t\\t\\t} else if (res.result.areas[index].name == \"SERVICE_MYSTOCK_ITEM\") {\\n\\t\\t\\t\\trenderRecentAreaRealtime(\"mystock\", res.result.areas[index]);\\n\\t\\t\\t}\\n\\t\\t}\\n\\t}\\n}\\n\\nfunction numberFont(value) {\\n\\tvalue = value + \"\";\\n\\tvar result = \"\";\\n\\n\\tfor (i = 0; i < value.length; i++) {\\n\\t\\tvar tmpChar = value.charAt(i);\\n\\n\\t\\tresult += \\'<span class=\"\\';\\n\\t\\tif (tmpChar == \".\") {\\n\\t\\t\\tresult += \"jum\";\\n\\t\\t} else if (tmpChar == \",\") {\\n\\t\\t\\tresult += \"shim\";\\n\\t\\t} else {\\n\\t\\t\\tresult += \"no\" + tmpChar;\\n\\t\\t}\\n\\t\\tresult += \\'\">\\' + tmpChar + \\'</span>\\';\\n\\t}\\n\\n\\treturn result;\\n}\\n\\nfunction changeNumberFormat(vNumber){\\n\\tvar sUnderNumber = \"\";\\n\\tvar sNumberString = vNumber || 0;\\n\\tsNumberString = (typeof sNumberString != \"String\") ? String(sNumberString) : sNumberString;\\n\\n\\tif(sNumberString.indexOf(\".\") > -1){\\n\\t\\tvar aNumber = sNumberString.split(\".\");\\n\\t\\tsNumberString = aNumber[0];\\n\\t\\tsUnderNumber = \".\" + aNumber[1];\\n\\t}\\n\\n\\treturn sNumberString.replace(/(\\\\d)(?=(\\\\d{3})+$)/igm, \"$1,\") + sUnderNumber;\\n}\\n\\nfunction converToFixedPointNotation (nNumber, nDecimalLength){\\n\\treturn parseFloat(nNumber).toFixed(nDecimalLength || 0);\\n}\\n\\n// 1\\xba\\xd0\\xb8\\xb6\\xb4\\xd9 \\xc1\\xa4\\xba\\xb8 \\xbe\\xf7\\xb5\\xa5\\xc0\\xcc\\xc6\\xae\\nvar updateInformationInterval = 60000;\\nvar informationTimer = null;\\nvar oUpdateAjax = null;\\n\\nvar startInformationTimer = function() {\\n\\tclearInformationTimer();\\n\\tinformationTimer = setInterval(\\'doUpdateInformation()\\', updateInformationInterval);\\n}\\n\\nvar clearInformationTimer = function() {\\n\\tif (oUpdateAjax) {\\n\\t\\toUpdateAjax.abort();\\n\\t\\toUpdateAjax = null;\\n\\t}\\n\\n\\tinformationTimer = window.clearInterval(informationTimer);\\n}\\n\\nvar doUpdateInformation = function() {\\n\\tvar sApiUrl = \"/item/siseLast.naver?code=005930\"\\n\\n\\toUpdateAjax = jindo.$Ajax(sApiUrl, {\\n\\t\\ttype : \\'jsonp\\',\\n\\t\\tjsonp_charset : \"utf-8\",\\n\\t\\tonload : function(response) {\\n\\t\\t\\tif(response != null && response.readyState() == 4) {\\n\\t\\t\\t\\tvar json = response.json();\\n\\n\\t\\t\\t\\tif (json.now == undefined) {\\n\\t\\t\\t\\t\\tstartInformationTimer();\\n\\t\\t\\t\\t\\treturn;\\n\\t\\t\\t\\t}\\n\\n\\t\\t\\t\\tvar sMarketSum = (json.marketSum + \"\");\\n\\t\\t\\t\\tsMarketSum = sMarketSum.substring(0, sMarketSum.length - 2);\\n\\t\\t\\t\\tsMarketSum = changeNumberFormat(sMarketSum);\\n\\n\\t\\t\\t\\tvar sPer = changeNumberFormat(json.per);\\n\\t\\t\\t\\tvar sEps = changeNumberFormat(json.eps);\\n\\t\\t\\t\\tvar sNowVal = changeNumberFormat(json.now);\\n\\t\\t\\t\\tvar sDiff = changeNumberFormat(json.diff);\\n\\t\\t\\t\\tvar sRate = changeNumberFormat(json.rate) + \"%\";\\n\\t\\t\\t\\tvar sQuant = changeNumberFormat(json.quant);\\n\\t\\t\\t\\tvar sAmount = changeNumberFormat(json.amount);\\n\\t\\t\\t\\tvar sHigh = changeNumberFormat(json.high);\\n\\t\\t\\t\\tvar sLow = changeNumberFormat(json.low);\\n\\n\\t\\t\\t\\tif (sRate == \"0%\") {\\n\\t\\t\\t\\t\\tsRate = \"0.00%\";\\n\\t\\t\\t\\t}\\n\\n\\t\\t\\t\\tif (json.per == undefined) {\\n\\t\\t\\t\\t\\tsPer = \"N/A\";\\n\\t\\t\\t\\t}\\n\\n\\t\\t\\t\\tif (json.eps == undefined) {\\n\\t\\t\\t\\t\\tsEps = \"N/A\";\\n\\t\\t\\t\\t}\\n\\n\\t\\t\\t\\tjindo.$A(jindo.$$(\"#_sise_market_sum\")).forEach(function(v) {\\n\\t\\t\\t\\t\\tjindo.$Element(v).text(sMarketSum);\\n\\t\\t\\t\\t}, this);\\n\\n\\t\\t\\t\\tjindo.$A(jindo.$$(\"#_sise_per\")).forEach(function(v) {\\n\\t\\t\\t\\t\\tjindo.$Element(v).text(sPer);\\n\\t\\t\\t\\t}, this);\\n\\n\\t\\t\\t\\tjindo.$A(jindo.$$(\"#_sise_eps\")).forEach(function(v) {\\n\\t\\t\\t\\t\\tjindo.$Element(v).text(sEps);\\n\\t\\t\\t\\t}, this);\\n\\n\\t\\t\\t\\tjindo.$A(jindo.$$(\"#_nowVal\")).forEach(function(v) {\\n\\t\\t\\t\\t\\tjindo.$Element(v).text(sNowVal);\\n\\t\\t\\t\\t}, this);\\n\\n\\t\\t\\t\\tjindo.$A(jindo.$$(\"#_diff\")).forEach(function(v) {\\n\\t\\t\\t\\t\\tvar sFormat = null;\\n\\t\\t\\t\\t\\tvar sDiffToDisplay = sDiff.replace(\"-\", \"\");\\n\\n\\t\\t\\t\\t\\tif (json.risefall == 1) {\\n\\t\\t\\t\\t\\t\\tsFormat = \"<em class=\\\\\"bu_p bu_pup2\\\\\" style=\\\\\"margin:0 4px 0 0\\\\\"><span class=\\\\\"blind\\\\\">\\xbb\\xf3\\xc7\\xd1</span></em><span class=\\\\\"tah p11 red01\\\\\">%s</span>\";\\n\\t\\t\\t\\t\\t} else if (json.risefall == 2) {\\n\\t\\t\\t\\t\\t\\tsFormat = \"<em class=\\\\\"bu_p bu_pup\\\\\" style=\\\\\"margin:0 4px 0 0\\\\\"><span class=\\\\\"blind\\\\\">\\xbb\\xf3\\xbd\\xc2</span></em><span class=\\\\\"tah p11 red01\\\\\">%s</span>\";\\n\\t\\t\\t\\t\\t} else if (json.risefall == 3) {\\n\\t\\t\\t\\t\\t\\tsFormat = \"<span class=\\\\\"tah p11\\\\\">%s</span>\";\\n\\t\\t\\t\\t\\t} else if (json.risefall == 4) {\\n\\t\\t\\t\\t\\t\\tsFormat = \"<em class=\\\\\"bu_p bu_pdn2\\\\\" style=\\\\\"margin:0 4px 0 0\\\\\"><span class=\\\\\"blind\\\\\">\\xc7\\xcf\\xc7\\xd1</span></em><span class=\\\\\"tah p11 nv01\\\\\">%s</span>\";\\n\\t\\t\\t\\t\\t} else {\\n\\t\\t\\t\\t\\t\\tsFormat = \"<em class=\\\\\"bu_p bu_pdn\\\\\" style=\\\\\"margin:0 4px 0 0\\\\\"><span class=\\\\\"blind\\\\\">\\xc7\\xcf\\xb6\\xf4</span></em><span class=\\\\\"tah p11 nv01\\\\\">%s</span>\";\\n\\t\\t\\t\\t\\t}\\n\\n\\t\\t\\t\\t\\tvar sHtml = jindo.$S(sFormat).format(sDiffToDisplay);\\n\\n\\t\\t\\t\\t\\tjindo.$Element(v).html(sHtml);\\n\\t\\t\\t\\t}, this);\\n\\n\\t\\t\\t\\tjindo.$A(jindo.$$(\"#_rate\")).forEach(function(v) {\\n\\t\\t\\t\\t\\tvar sCss = \"red01\";\\n\\t\\t\\t\\t\\tvar sRateToDisplay = sRate;\\n\\n\\t\\t\\t\\t\\tif (sRate.indexOf(\"-\") > -1) {\\n\\t\\t\\t\\t\\t\\tsCss = \"nv01\";\\n\\t\\t\\t\\t\\t} else if (sRate.indexOf(\"0.00\") > -1) {\\n\\t\\t\\t\\t\\t\\tsCss = \"\";\\n\\t\\t\\t\\t\\t} else {\\n\\t\\t\\t\\t\\t\\tsRateToDisplay = \"+\" + sRateToDisplay;\\n\\t\\t\\t\\t\\t}\\n\\n\\t\\t\\t\\t\\tvar sHtml = \"<span class=\\\\\"tah p11 \" + sCss + \"\\\\\">\" + sRateToDisplay + \"</span>\";\\n\\t\\t\\t\\t\\tjindo.$Element(v).html(sHtml);\\n\\t\\t\\t\\t}, this);\\n\\n\\t\\t\\t\\tjindo.$A(jindo.$$(\"#_quant\")).forEach(function(v) {\\n\\t\\t\\t\\t\\tjindo.$Element(v).text(sQuant);\\n\\t\\t\\t\\t}, this);\\n\\n\\t\\t\\t\\tjindo.$A(jindo.$$(\"#_amount\")).forEach(function(v) {\\n\\t\\t\\t\\t\\tjindo.$Element(v).text(sAmount);\\n\\t\\t\\t\\t}, this);\\n\\n\\t\\t\\t\\tjindo.$A(jindo.$$(\"#_high\")).forEach(function(v) {\\n\\t\\t\\t\\t\\tjindo.$Element(v).text(sHigh);\\n\\t\\t\\t\\t}, this);\\n\\n\\t\\t\\t\\tjindo.$A(jindo.$$(\"#_low\")).forEach(function(v) {\\n\\t\\t\\t\\t\\tjindo.$Element(v).text(sLow);\\n\\t\\t\\t\\t}, this);\\n\\n\\t\\t\\t\\tstartInformationTimer();\\n\\t\\t\\t}\\n\\t\\t},\\n\\t\\ttimeout : 2,\\n\\t\\tontimeout : function() {\\n\\t\\t\\tstartInformationTimer();\\n\\t\\t},\\n\\t\\tasync : true\\n\\t});\\n\\toUpdateAjax.request();\\n}\\n\\nvar dateTime = \"20240802161059\";\\nvar closeDate = dateTime.substring(0,4) + \".\" + dateTime.substring(4,6) + \".\" + dateTime.substring(6,8);\\n\\n\\n\\n/**\\n * \\xbc\\xb1\\xc5\\xc3\\xc7\\xd1 \\xc5\\xb8\\xc0\\xd4(1\\xc0\\xcf, \\xc0\\xcf\\xc1\\xd6\\xc0\\xcf, 3\\xb0\\xb3\\xbf\\xf9, 1\\xb3\\xe2, 3\\xb3\\xe2, 5\\xb3\\xe2 , 10\\xb3\\xe2)\\xbf\\xa1 \\xb5\\xfb\\xb6\\xf3 \\xc0\\xcc\\xb9\\xcc\\xc1\\xf6 \\xc2\\xf7\\xc6\\xae \\xba\\xaf\\xb0\\xe6\\n *\\n * @param chartType \\xc2\\xf7\\xc6\\xae\\xc1\\xbe\\xb7\\xf9(1\\xc0\\xcf, \\xc0\\xcf\\xc1\\xd6\\xc0\\xcf, 3\\xb0\\xb3\\xbf\\xf9, 1\\xb3\\xe2, 3\\xb3\\xe2, 5\\xb3\\xe2, 10\\xb3\\xe2)\\n */\\n// \\xbc\\xb1 \\xc2\\xf7\\xc6\\xae \\xb3\\xeb\\xc3\\xe2\\nfunction showChart(target) {\\n    jindo.$A(jindo.$$(\"dl.line dd ul li\")).forEach(function(v) {\\n        if (jindo.$Element(v).className() == target) {\\n            jindo.$Element(v).child()[0].addClass(\"on\");\\n            jindo.$Element(jindo.$$.getSingle(\"#img_chart_area\")).attr(\"src\", \"https://ssl.pstatic.net/imgfinance/chart/item/area/\" + target + \"/005930.png?sidcode=1722583635904\");\\n        } else {\\n            jindo.$Element(v).child()[0].removeClass(\"on\");\\n        }\\n    });\\n\\n    jindo.$A(jindo.$$(\"dl.bar dd ul li\")).forEach(function(v) {\\n        jindo.$Element(v).child()[0].removeClass(\"on\");\\n    });\\n\\n}\\n\\n/**\\n * \\xbc\\xb1\\xc5\\xc3\\xc7\\xd1 \\xc5\\xb8\\xc0\\xd4(\\xc0\\xcf\\xba\\xc0, \\xc1\\xd6\\xba\\xc0, \\xbf\\xf9\\xba\\xc0)\\xbf\\xa1 \\xb5\\xfb\\xb6\\xf3 \\xc0\\xcc\\xb9\\xcc\\xc1\\xf6 \\xc2\\xf7\\xc6\\xae \\xba\\xaf\\xb0\\xe6\\n *\\n * @param chartType \\xc2\\xf7\\xc6\\xae\\xc1\\xbe\\xb7\\xf9(\\xc0\\xcf\\xba\\xc0, \\xc1\\xd6\\xba\\xc0, \\xbf\\xf9\\xba\\xc0)\\n */\\n// \\xba\\xc0 \\xc2\\xf7\\xc6\\xae \\xb3\\xeb\\xc3\\xe2\\nfunction showBarChart(target) {\\n    jindo.$A(jindo.$$(\"dl.bar dd ul li\")).forEach(function(v) {\\n        if (jindo.$Element(v).className() == target) {\\n            jindo.$Element(v).child()[0].addClass(\"on\");\\n            jindo.$Element(jindo.$$.getSingle(\"#img_chart_area\")).attr(\"src\", \"https://ssl.pstatic.net/imgfinance/chart/item/candle/\" + target + \"/005930.png?sidcode=1722583635904\");\\n        } else {\\n            jindo.$Element(v).child()[0].removeClass(\"on\");\\n        }\\n    });\\n\\n    jindo.$A(jindo.$$(\"dl.line dd ul li\")).forEach(function(v) {\\n        jindo.$Element(v).child()[0].removeClass(\"on\");\\n    });\\n}\\n\\n/**\\n * \\xc7\\xc3\\xb7\\xa1\\xbd\\xc3 \\xc1\\xf6\\xbf\\xf8\\xbf\\xa9\\xba\\xce \\xc8\\xae\\xc0\\xce\\n */\\nfunction isInstalledFlash() {\\n    var aFlash = jindo.$Agent().flash();\\n    var bResult = false;\\n\\n    if (aFlash != null && aFlash.installed) {\\n        bResult = true;\\n    }\\n\\n    return bResult;\\n}\\n\\n/**\\n * \\xc7\\xc3\\xb7\\xa1\\xbd\\xc3 \\xc1\\xf6\\xbf\\xf8\\xbf\\xa9\\xba\\xce\\xbf\\xa1 \\xb5\\xfb\\xb6\\xf3 \\xc2\\xf7\\xc6\\xae \\xb3\\xeb\\xc3\\xe2\\n */\\nfunction initChartArea(flashAreaClassName, htmlAreaClassName) {\\n    var eFlashChartArea = jindo.$Element(jindo.$$.getSingle(\".\" + flashAreaClassName));\\n    var eImgChartArea = jindo.$Element(jindo.$$.getSingle(\".\" + htmlAreaClassName));\\n\\n    if (eFlashChartArea != null && eImgChartArea != null) {\\n        if (isInstalledFlash()) {\\n            eImgChartArea.hide();\\n        } else {\\n            eFlashChartArea.hide();\\n        }\\n    }\\n}\\n\\n</script>\\n<script type=\"text/javascript\">\\n<!--\\njindo.$Fn(function() {\\n\\tvar itemAddLayer = new MyFinance.MyStock.ItemAddLayer(jindo.$$.getSingle(\\'.ly_lstmove\\'), {\\n\\t\\t\\'LayerPosition\\': {\\n\\t\\t\\tsPosition : \"outside-bottom\",\\n\\t\\t\\tsAlign : \"left\",\\n\\t\\t\\tnTop : 4,\\n\\t\\t\\tnLeft : -96\\n\\t\\t}\\n\\t});\\n\\n\\tjindo.$Fn(function(e) {\\n\\t\\te.stopDefault();\\n\\t\\titemAddLayer.open([\\'005930\\'], e.element);\\n\\t}, this).attach(jindo.$$.getSingle(\\'.snb_top1\\'), \\'click\\');\\n\\n\\t\\n}, this).attach(document, \\'domready\\');\\n\\n// \\xbd\\xc5\\xb1\\xd4 \\xb7\\xa9\\xc5\\xb7\\xbc\\xf6\\xc1\\xfd \\xbf\\xe4\\xc3\\xbb\\n;(function(){\\n\\tvar eventType = \"onpageshow\" in window ? \"pageshow\" : \"load\";\\n\\tjindo.$Fn(function(){\\n\\t\\t// TODO: \\xbb\\xf5\\xb7\\xce\\xb0\\xed\\xc4\\xa7\\xbf\\xa1\\xbc\\xad\\xb4\\xc2 \\xc0\\xfc\\xbc\\xdb\\xb5\\xc7\\xc1\\xf6 \\xbe\\xca\\xb5\\xb5\\xb7\\xcf \\xbc\\xf6\\xc1\\xa4 \\xc7\\xca\\xbf\\xe4\\n\\t\\tconst currentURL =window.location.href;\\n\\t\\tconst oldURL = window.sessionStorage.getItem(\"LOCATION_HREF\");\\n\\n\\t\\tif (window.location.href.indexOf(\"/item/main.naver\") > 0 && (!oldURL || oldURL !== currentURL)) {\\n\\t\\t\\tconst rankingData = {\\n\\t\\t\\t\\turl: window.location.href,\\n\\t\\t\\t\\treferrer: window.document.referrer,\\n\\t\\t\\t\\trankingType: \"STOCK_LOCAL\",\\n\\t\\t\\t\\tcategory1: \"domestic\",\\n\\t\\t\\t\\tcategory2: \"stock\",\\n\\t\\t\\t\\treutersCode: \"005930\",\\n\\t\\t\\t\\tnationType: \"KOR\",\\n\\t\\t\\t\\tstockExchangeType: \"KS\"\\n\\t\\t\\t};\\n\\n\\t\\t\\tconst oAjax = new jindo.$Ajax(\\'https://api.stock.naver.com/rdc\\', {\\n\\t\\t\\t\\ttype: \\'xhr\\',\\n\\t\\t\\t\\tmethod: \\'post\\',\\n\\t\\t\\t\\ttimeout: 1,\\n\\t\\t\\t\\tpostBody: true,\\n\\t\\t\\t\\tasync: true,\\n\\t\\t\\t\\tonload : function(res) {\\n\\t\\t\\t\\t\\twindow.sessionStorage.setItem(\"LOCATION_HREF\", window.location.href);\\n\\t\\t\\t\\t},\\n\\t\\t\\t\\tonerror : function(){},\\n\\t\\t\\t\\tontimeout : function(){}\\n\\t\\t\\t});\\n\\n\\t\\t\\toAjax.header(\\'Content-Type\\', \\'text/plain\\');\\n\\t\\t\\toAjax.request(btoa(JSON.stringify(rankingData)));\\n\\t\\t}\\n\\t}).attach(window, eventType);\\n})();\\n\\n//-->\\n</script>\\n<script type=\"text/javascript\" src=\"https://ssl.pstatic.net/imgstock/static.pc/20240725112316/js/release/commonSummary.js\"></script>\\n\\n\\n\\n\\n\\n\\n\\n\\t\\n\\t\\n\\t\\t\\n\\t\\t\\t\\n\\t\\t\\t\\t\\n\\t\\t\\t\\n\\t\\t\\t\\n\\t\\t\\t\\n\\t\\t\\t\\n\\t\\t\\t\\n\\t\\t\\t\\n\\t\\t\\t\\n\\t\\t\\t\\n\\t\\t\\t\\n\\t\\t\\t\\n\\t\\t\\t\\t\\t\\t\\t\\n\\t\\t\\t\\n\\t\\t\\t\\n\\t\\t\\t\\n\\t\\t\\t\\n\\t\\t\\t\\n\\t\\t\\t\\n\\t\\t\\n\\t\\t\\n\\t\\t\\t\\n\\t\\t\\t\\n\\t\\t\\t\\n\\t\\t\\t\\t<ul class=\"tabs_submenu tab_total_submenu\"> \\n\\t\\t\\t\\t\\t<li class=\"tab_on\"><a href=\"/item/main.naver?code=005930\" class=\"tab1\" onClick=\"clickcr(this,\\'sop.4\\',\\'\\',\\'\\',event);\"><span>\\xc1\\xbe\\xc7\\xd5\\xc1\\xa4\\xba\\xb8</span></a></li>\\n\\t\\t\\t\\t\\t<li class=\"\"><a href=\"/item/sise.naver?code=005930\" class=\"tab2\" onClick=\"clickcr(this,\\'sop.5\\',\\'\\',\\'\\',event);\"><span>\\xbd\\xc3\\xbc\\xbc</span></a></li>\\n\\t\\t\\t\\t\\t<li class=\"\"><a href=\"/item/fchart.naver?code=005930\" class=\"tab3\" onClick=\"clickcr(this,\\'sop.6\\',\\'\\',\\'\\',event);\"><span>\\xc2\\xf7\\xc6\\xae</span></a></li>\\n\\t\\t\\t\\t\\t<li class=\"\"><a href=\"/item/frgn.naver?code=005930\" class=\"tab4\" onClick=\"clickcr(this,\\'sop.10\\',\\'\\',\\'\\',event);\"><span>\\xc5\\xf5\\xc0\\xda\\xc0\\xda\\xba\\xb0 \\xb8\\xc5\\xb8\\xc5\\xb5\\xbf\\xc7\\xe2</span></a></li>\\n\\t\\t\\t\\t\\t<li class=\"\"><a href=\"/item/news.naver?code=005930\" class=\"tab5\" onClick=\"clickcr(this,\\'sop.7\\',\\'\\',\\'\\',event);\"><span>\\xb4\\xba\\xbd\\xba&middot;\\xb0\\xf8\\xbd\\xc3</span></a></li>\\n\\t\\t\\t\\t\\t<li class=\"\"><a href=\"/item/coinfo.naver?code=005930\" class=\"tab6\" onClick=\"clickcr(this,\\'sop.9\\',\\'\\',\\'\\',event);\"><span>\\xc1\\xbe\\xb8\\xf1\\xba\\xd0\\xbc\\xae</span></a></li>\\n\\t\\t\\t\\t\\t<li class=\"\"><a href=\"/item/board.naver?code=005930\" class=\"tab7\" onClick=\"clickcr(this,\\'sop.11\\',\\'\\',\\'\\',event);\"><span>\\xc1\\xbe\\xb8\\xf1\\xc5\\xe4\\xb7\\xd0\\xbd\\xc7</span></a></li>\\n\\t\\t\\t\\t\\t<li class=\"\"><a href=\"/item/dart.naver?code=005930\" class=\"tab8\" onClick=\"clickcr(this,\\'sop.12\\',\\'\\',\\'\\',event);\"><span>\\xc0\\xfc\\xc0\\xda\\xb0\\xf8\\xbd\\xc3</span></a></li>\\n\\t\\t\\t\\t\\t<li class=\"\"><a href=\"/item/short_trade.naver?code=005930\" class=\"tab9\" onClick=\"clickcr(this,\\'sop.13\\',\\'\\',\\'\\',event);\"><span>\\xb0\\xf8\\xb8\\xc5\\xb5\\xb5\\xc7\\xf6\\xc8\\xb2</span></a></li>\\n\\t\\t\\t\\t</ul>\\n\\t\\t\\t\\n\\t\\t\\n\\t\\n\\n\\n\\n\\n\\n\\t\\n\\t\\n\\t\\t<hr>\\n\\t\\t<h3 class=\"blind\">\\xc1\\xbe\\xc7\\xd5\\xc1\\xa4\\xba\\xb8</h3>\\n\\t\\t\\n\\t\\t<div class=\"section invest_trend\">\\n\\t\\t\\t<h4 class=\"h_sub sub_tit2\"><span>\\xc5\\xf5\\xc0\\xda\\xc0\\xda\\xba\\xb0 \\xb8\\xc5\\xb8\\xc5\\xb5\\xbf\\xc7\\xe2</span><em style=\"position:relative;left:100px;font-style:normal;font-weight:normal;font-size:11px;color:#666;\">\\xb0\\xc5\\xb7\\xa1\\xbf\\xf8 \\xc1\\xa4\\xba\\xb8 : \\xc0\\xcf\\xba\\xb0 \\xbb\\xf3\\xc0\\xa7 5\\xc0\\xa7 \\xb0\\xc5\\xb7\\xa1\\xbf\\xf8\\xc0\\xc7 \\xb4\\xa9\\xc0\\xfb \\xc1\\xa4\\xba\\xb8 \\xb1\\xe2\\xc1\\xd8 (20\\xba\\xd0 \\xc1\\xf6\\xbf\\xac)</em></h4>\\n\\t\\t\\t<div class=\"sub_section\">\\n\\t\\t\\t\\t<h5 class=\"h_th th_di\"><span>\\xb0\\xc5\\xb7\\xa1\\xbf\\xf8 \\xc1\\xa4\\xba\\xb8</span></h5>\\n\\t\\t\\t\\t<table summary=\"\\xc5\\xf5\\xc0\\xda\\xc0\\xda\\xba\\xb0 \\xb8\\xc5\\xb8\\xc5\\xb5\\xbf\\xc7\\xe2 \\xbd\\xc3\\xbc\\xbc\\xc1\\xa4\\xba\\xb8\\xbf\\xa1 \\xb4\\xeb\\xc7\\xd1 \\xc7\\xa5 \\xc1\\xdf \\xb0\\xc5\\xb7\\xa1\\xbf\\xf8 \\xc1\\xa4\\xba\\xb8(\\xb8\\xc5\\xb5\\xb5\\xbb\\xf3\\xc0\\xa7, \\xb8\\xc5\\xbc\\xf6\\xbb\\xf3\\xc0\\xa7, \\xb0\\xc5\\xb7\\xa1\\xb7\\xae)\\xb8\\xa6 \\xc1\\xa6\\xb0\\xf8\\xc7\\xd5\\xb4\\xcf\\xb4\\xd9.\" class=\"tb_type1\">\\n\\t\\t\\t\\t\\t<caption>\\xb0\\xc5\\xb7\\xa1\\xbf\\xf8 \\xc1\\xa4\\xba\\xb8</caption>\\n\\t\\t\\t\\t\\t<colgroup><col><col width=\"80\"><col width=\"90\"><col width=\"80\"></colgroup>\\n\\t\\t\\t\\t\\t<thead>\\n\\t\\t\\t\\t\\t<tr>\\n\\t\\t\\t\\t\\t\\t<th scope=\"col\" class=\"h_th th_sale_top\"><span>\\xb8\\xc5\\xb5\\xb5\\xbb\\xf3\\xc0\\xa7</span></th>\\n\\t\\t\\t\\t\\t\\t<th scope=\"col\" class=\"h_th th_deal_amount\"><span>\\xb0\\xc5\\xb7\\xa1\\xb7\\xae</span></th>\\n\\t\\t\\t\\t\\t\\t<th scope=\"col\" class=\"h_th th_buy_top\"><span>\\xb8\\xc5\\xbc\\xf6\\xbb\\xf3\\xc0\\xa7</span></th>\\n\\t\\t\\t\\t\\t\\t<th scope=\"col\" class=\"h_th th_deal_amount\"><span>\\xb0\\xc5\\xb0\\xb3\\xb7\\xae</span></th>\\n\\t\\t\\t\\t\\t</tr>\\n\\t\\t\\t\\t\\t</thead>\\n\\t\\t\\t\\t\\t<tfoot>\\n\\t\\t\\t\\t\\t<tr>\\n\\t\\t\\t\\t\\t\\t<td class=\"left\"><strong>\\xbf\\xdc\\xb1\\xb9\\xb0\\xe8\\xc3\\xdf\\xc1\\xa4\\xc7\\xd5</strong></td>\\n\\t\\t\\t\\t\\t\\t<td>\\n\\t\\t\\t\\t\\t\\t\\t<em class=\"f_down\">2,948,311</em>\\n\\t\\t\\t\\t\\t\\t</td>\\n\\t\\t\\t\\t\\t\\t<td class=\"left\">\\n\\t\\t\\t\\t\\t\\t\\t\\n\\t\\t\\t\\t<em class=\"f_down\">\\n\\t\\t\\t\\t-1,137,874\\n\\t\\t\\t\\t</em>\\n\\t\\t\\t\\n\\t\\t\\t\\t\\t\\t</td>\\n\\t\\t\\t\\t\\t\\t<td>\\n\\t\\t\\t\\t\\t\\t\\t<em class=\"f_up\">1,810,437</em>\\n\\t\\t\\t\\t\\t\\t</td>\\n\\t\\t\\t\\t\\t</tr>\\n\\t\\t\\t\\t\\t</tfoot>\\n\\t\\t\\t\\t\\t<tbody>\\n\\t\\t\\t\\t\\t<tr><td class=\"space\"></td></tr>\\n\\t\\t\\t\\t\\t\\n\\t\\t\\t\\t\\t\\t<tr>\\n\\t\\t\\t\\t\\t\\t\\t\\n\\t\\t\\t\\t\\t\\t\\t\\n\\t\\t\\t\\t\\t\\t<td class=\"left\">\\xb9\\xcc\\xb7\\xa1\\xbf\\xa1\\xbc\\xc2\\xc1\\xf5\\xb1\\xc7</td>\\n\\t\\t\\t\\t\\t\\t<td><em>3,502,720</em></td>\\n\\t\\t\\t\\n\\t\\t\\t\\t\\t\\t\\t\\n\\t\\t\\t\\t\\t\\t<td class=\"left\">\\xb9\\xcc\\xb7\\xa1\\xbf\\xa1\\xbc\\xc2\\xc1\\xf5\\xb1\\xc7</td>\\n\\t\\t\\t\\t\\t\\t<td><em>4,075,935</em></td>\\n\\t\\t\\t\\n\\t\\t\\t\\t\\t\\t</tr>\\n\\t\\t\\t\\t\\t\\n\\t\\t\\t\\t\\t\\t<tr>\\n\\t\\t\\t\\t\\t\\t\\t\\n\\t\\t\\t\\t\\t\\t\\t\\n\\t\\t\\t\\t\\t\\t<td class=\"left\"><span class=\"f_down\">\\xb0\\xf1\\xb5\\xe5\\xb8\\xb8</span></td>\\n\\t\\t\\t\\t\\t\\t<td><em class=\"f_down\">2,097,883</em></td>\\n\\t\\t\\t\\n\\t\\t\\t\\t\\t\\t\\t\\n\\t\\t\\t\\t\\t\\t<td class=\"left\">\\xc5\\xb0\\xbf\\xf2\\xc1\\xf5\\xb1\\xc7</td>\\n\\t\\t\\t\\t\\t\\t<td><em>2,298,563</em></td>\\n\\t\\t\\t\\n\\t\\t\\t\\t\\t\\t</tr>\\n\\t\\t\\t\\t\\t\\n\\t\\t\\t\\t\\t\\t<tr>\\n\\t\\t\\t\\t\\t\\t\\t\\n\\t\\t\\t\\t\\t\\t\\t\\n\\t\\t\\t\\t\\t\\t<td class=\"left\">\\xbd\\xc5\\xc7\\xd1\\xc5\\xf5\\xc0\\xda\\xc1\\xf5\\xb1\\xc7</td>\\n\\t\\t\\t\\t\\t\\t<td><em>1,793,509</em></td>\\n\\t\\t\\t\\n\\t\\t\\t\\t\\t\\t\\t\\n\\t\\t\\t\\t\\t\\t<td class=\"left\">KB\\xc1\\xf5\\xb1\\xc7</td>\\n\\t\\t\\t\\t\\t\\t<td><em>2,154,701</em></td>\\n\\t\\t\\t\\n\\t\\t\\t\\t\\t\\t</tr>\\n\\t\\t\\t\\t\\t\\n\\t\\t\\t\\t\\t\\t<tr>\\n\\t\\t\\t\\t\\t\\t\\t\\n\\t\\t\\t\\t\\t\\t\\t\\n\\t\\t\\t\\t\\t\\t<td class=\"left\">\\xc0\\xcc\\xba\\xa3\\xbd\\xba\\xc6\\xae</td>\\n\\t\\t\\t\\t\\t\\t<td><em>1,751,779</em></td>\\n\\t\\t\\t\\n\\t\\t\\t\\t\\t\\t\\t\\n\\t\\t\\t\\t\\t\\t<td class=\"left\">NH\\xc5\\xf5\\xc0\\xda\\xc1\\xf5\\xb1\\xc7</td>\\n\\t\\t\\t\\t\\t\\t<td><em>1,914,664</em></td>\\n\\t\\t\\t\\n\\t\\t\\t\\t\\t\\t</tr>\\n\\t\\t\\t\\t\\t\\n\\t\\t\\t\\t\\t\\t<tr>\\n\\t\\t\\t\\t\\t\\t\\t\\n\\t\\t\\t\\t\\t\\t\\t\\n\\t\\t\\t\\t\\t\\t<td class=\"left\">KB\\xc1\\xf5\\xb1\\xc7</td>\\n\\t\\t\\t\\t\\t\\t<td><em>1,673,561</em></td>\\n\\t\\t\\t\\n\\t\\t\\t\\t\\t\\t\\t\\n\\t\\t\\t\\t\\t\\t<td class=\"left\">\\xbb\\xef\\xbc\\xba</td>\\n\\t\\t\\t\\t\\t\\t<td><em>1,762,887</em></td>\\n\\t\\t\\t\\n\\t\\t\\t\\t\\t\\t</tr>\\n\\t\\t\\t\\t\\t\\n\\t\\t\\t\\t\\t</tbody>\\n\\t\\t\\t\\t</table>\\n\\t\\t\\t</div>\\n\\n\\t\\t\\t<div class=\"sub_section right\">\\n\\t\\t\\t\\t<h5 class=\"h_th th_fo\"><span>\\xbf\\xdc\\xb1\\xb9\\xc0\\xce \\xb1\\xe2\\xb0\\xfc</span></h5>\\n\\t\\t\\t\\t<table summary=\"\\xc5\\xf5\\xc0\\xda\\xc0\\xda\\xba\\xb0 \\xb8\\xc5\\xb8\\xc5\\xb5\\xbf\\xc7\\xe2 \\xbd\\xc3\\xbc\\xbc\\xc1\\xa4\\xba\\xb8\\xbf\\xa1 \\xb4\\xeb\\xc7\\xd1 \\xc7\\xa5 \\xc1\\xdf \\xbf\\xdc\\xb1\\xb9\\xc0\\xce \\xb1\\xe2\\xb0\\xfc \\xc1\\xa4\\xba\\xb8(\\xb3\\xaf\\xc2\\xa5, \\xc1\\xbe\\xb0\\xa1, \\xc0\\xfc\\xc0\\xcf\\xba\\xf1, \\xbf\\xdc\\xb1\\xb9\\xc0\\xce, \\xb1\\xe2\\xb0\\xfc)\\xb8\\xa6 \\xc1\\xa6\\xb0\\xf8\\xc7\\xd5\\xb4\\xcf\\xb4\\xd9.\" class=\"tb_type1\">\\n\\t\\t\\t\\t\\t<caption>\\xbf\\xdc\\xb1\\xb9\\xc0\\xce \\xb1\\xe2\\xb0\\xfc</caption>\\n\\t\\t\\t\\t\\t<colgroup><col width=\"50\"><col width=\"65\"><col width=\"70\"><col width=\"70\"><col></colgroup>\\n\\t\\t\\t\\t\\t<thead>\\n\\t\\t\\t\\t\\t<tr>\\n\\t\\t\\t\\t\\t\\t<th class=\"h_th th_date\"><span>\\xb3\\xaf\\xc2\\xa5</span></th>\\n\\t\\t\\t\\t\\t\\t<th scope=\"col\" class=\"h_th th_pass_price\"><span>\\xc1\\xbe\\xb0\\xa1</span></th>\\n\\t\\t\\t\\t\\t\\t<th scope=\"col\" class=\"h_th th_pass_day\"><span>\\xc0\\xfc\\xc0\\xcf\\xba\\xf1</span></th>\\n\\t\\t\\t\\t\\t\\t<th scope=\"col\" class=\"h_th th_foreigner\"><span>\\xbf\\xdc\\xb1\\xb9\\xc0\\xce</span></th>\\n\\t\\t\\t\\t\\t\\t<th scope=\"col\" class=\"h_th th_organ\"><span>\\xb1\\xe2\\xb0\\xfc</span></th>\\n\\t\\t\\t\\t\\t</tr>\\n\\t\\t\\t\\t\\t</thead>\\n\\t\\t\\t\\t\\t<tbody>\\n\\t\\t\\t\\t\\t<tr><td class=\"space\"></td></tr>\\n\\t\\t\\t\\t\\t\\n\\t\\t\\t\\t\\t\\t<tr>\\n\\t\\t\\t\\t\\t\\t\\t<th scope=\"row\">08/01</th>\\n\\t\\t\\t\\t\\t\\t\\t<td><em>83,100</em></td>\\n\\t\\t\\t\\t\\t\\t\\t<td>\\n\\t\\t\\t\\t\\t\\t\\t\\t\\n\\t\\t\\t\\t<em class=\"f_down down\"><span>\\xc7\\xcf\\xc7\\xe2</span>\\n\\t\\t\\t\\t800\\n\\t\\t\\t\\t</em>\\n\\t\\t\\t\\n\\t\\t\\t\\t\\t\\t\\t</td>\\n\\t\\t\\t\\t\\t\\t\\t<td>\\n\\t\\t\\t\\t\\t\\t\\t\\t\\n\\t\\t\\t\\t<em class=\"f_up\">\\n\\t\\t\\t\\t+329,840\\n\\t\\t\\t\\t</em>\\n\\t\\t\\t\\n\\t\\t\\t\\t\\t\\t\\t</td>\\n\\t\\t\\t\\t\\t\\t\\t<td>\\n\\t\\t\\t\\t\\t\\t\\t\\t\\n\\t\\t\\t\\t<em class=\"f_down\">\\n\\t\\t\\t\\t-1,061,536\\n\\t\\t\\t\\t</em>\\n\\t\\t\\t\\n\\t\\t\\t\\t\\t\\t\\t</td>\\n\\t\\t\\t\\t\\t\\t</tr>\\n\\t\\t\\t\\t\\t\\n\\t\\t\\t\\t\\t\\t<tr>\\n\\t\\t\\t\\t\\t\\t\\t<th scope=\"row\">07/31</th>\\n\\t\\t\\t\\t\\t\\t\\t<td><em>83,900</em></td>\\n\\t\\t\\t\\t\\t\\t\\t<td>\\n\\t\\t\\t\\t\\t\\t\\t\\t\\n\\t\\t\\t\\t<em class=\"f_up up\"><span>\\xbb\\xf3\\xc7\\xe2</span>\\n\\t\\t\\t\\t2,900\\n\\t\\t\\t\\t</em>\\n\\t\\t\\t\\n\\t\\t\\t\\t\\t\\t\\t</td>\\n\\t\\t\\t\\t\\t\\t\\t<td>\\n\\t\\t\\t\\t\\t\\t\\t\\t\\n\\t\\t\\t\\t<em class=\"f_up\">\\n\\t\\t\\t\\t+1,683,299\\n\\t\\t\\t\\t</em>\\n\\t\\t\\t\\n\\t\\t\\t\\t\\t\\t\\t</td>\\n\\t\\t\\t\\t\\t\\t\\t<td>\\n\\t\\t\\t\\t\\t\\t\\t\\t\\n\\t\\t\\t\\t<em class=\"f_up\">\\n\\t\\t\\t\\t+958,338\\n\\t\\t\\t\\t</em>\\n\\t\\t\\t\\n\\t\\t\\t\\t\\t\\t\\t</td>\\n\\t\\t\\t\\t\\t\\t</tr>\\n\\t\\t\\t\\t\\t\\n\\t\\t\\t\\t\\t\\t<tr>\\n\\t\\t\\t\\t\\t\\t\\t<th scope=\"row\">07/30</th>\\n\\t\\t\\t\\t\\t\\t\\t<td><em>81,000</em></td>\\n\\t\\t\\t\\t\\t\\t\\t<td>\\n\\t\\t\\t\\t\\t\\t\\t\\t\\n\\t\\t\\t\\t<em class=\"f_down down\"><span>\\xc7\\xcf\\xc7\\xe2</span>\\n\\t\\t\\t\\t200\\n\\t\\t\\t\\t</em>\\n\\t\\t\\t\\n\\t\\t\\t\\t\\t\\t\\t</td>\\n\\t\\t\\t\\t\\t\\t\\t<td>\\n\\t\\t\\t\\t\\t\\t\\t\\t\\n\\t\\t\\t\\t<em class=\"f_down\">\\n\\t\\t\\t\\t-318,329\\n\\t\\t\\t\\t</em>\\n\\t\\t\\t\\n\\t\\t\\t\\t\\t\\t\\t</td>\\n\\t\\t\\t\\t\\t\\t\\t<td>\\n\\t\\t\\t\\t\\t\\t\\t\\t\\n\\t\\t\\t\\t<em class=\"f_down\">\\n\\t\\t\\t\\t-1,379,203\\n\\t\\t\\t\\t</em>\\n\\t\\t\\t\\n\\t\\t\\t\\t\\t\\t\\t</td>\\n\\t\\t\\t\\t\\t\\t</tr>\\n\\t\\t\\t\\t\\t\\n\\t\\t\\t\\t\\t\\t<tr>\\n\\t\\t\\t\\t\\t\\t\\t<th scope=\"row\">07/29</th>\\n\\t\\t\\t\\t\\t\\t\\t<td><em>81,200</em></td>\\n\\t\\t\\t\\t\\t\\t\\t<td>\\n\\t\\t\\t\\t\\t\\t\\t\\t\\n\\t\\t\\t\\t<em class=\"f_up up\"><span>\\xbb\\xf3\\xc7\\xe2</span>\\n\\t\\t\\t\\t300\\n\\t\\t\\t\\t</em>\\n\\t\\t\\t\\n\\t\\t\\t\\t\\t\\t\\t</td>\\n\\t\\t\\t\\t\\t\\t\\t<td>\\n\\t\\t\\t\\t\\t\\t\\t\\t\\n\\t\\t\\t\\t<em class=\"f_up\">\\n\\t\\t\\t\\t+52,996\\n\\t\\t\\t\\t</em>\\n\\t\\t\\t\\n\\t\\t\\t\\t\\t\\t\\t</td>\\n\\t\\t\\t\\t\\t\\t\\t<td>\\n\\t\\t\\t\\t\\t\\t\\t\\t\\n\\t\\t\\t\\t<em class=\"f_down\">\\n\\t\\t\\t\\t-554,806\\n\\t\\t\\t\\t</em>\\n\\t\\t\\t\\n\\t\\t\\t\\t\\t\\t\\t</td>\\n\\t\\t\\t\\t\\t\\t</tr>\\n\\t\\t\\t\\t\\t\\n\\t\\t\\t\\t\\t\\t<tr>\\n\\t\\t\\t\\t\\t\\t\\t<th scope=\"row\">07/26</th>\\n\\t\\t\\t\\t\\t\\t\\t<td><em>80,900</em></td>\\n\\t\\t\\t\\t\\t\\t\\t<td>\\n\\t\\t\\t\\t\\t\\t\\t\\t\\n\\t\\t\\t\\t<em class=\"f_up up\"><span>\\xbb\\xf3\\xc7\\xe2</span>\\n\\t\\t\\t\\t500\\n\\t\\t\\t\\t</em>\\n\\t\\t\\t\\n\\t\\t\\t\\t\\t\\t\\t</td>\\n\\t\\t\\t\\t\\t\\t\\t<td>\\n\\t\\t\\t\\t\\t\\t\\t\\t\\n\\t\\t\\t\\t<em class=\"f_down\">\\n\\t\\t\\t\\t-1,793,928\\n\\t\\t\\t\\t</em>\\n\\t\\t\\t\\n\\t\\t\\t\\t\\t\\t\\t</td>\\n\\t\\t\\t\\t\\t\\t\\t<td>\\n\\t\\t\\t\\t\\t\\t\\t\\t\\n\\t\\t\\t\\t<em class=\"f_up\">\\n\\t\\t\\t\\t+719,026\\n\\t\\t\\t\\t</em>\\n\\t\\t\\t\\n\\t\\t\\t\\t\\t\\t\\t</td>\\n\\t\\t\\t\\t\\t\\t</tr>\\n\\t\\t\\t\\t\\t\\n\\t\\t\\t\\t\\t\\t<tr>\\n\\t\\t\\t\\t\\t\\t\\t<th scope=\"row\">07/25</th>\\n\\t\\t\\t\\t\\t\\t\\t<td><em>80,400</em></td>\\n\\t\\t\\t\\t\\t\\t\\t<td>\\n\\t\\t\\t\\t\\t\\t\\t\\t\\n\\t\\t\\t\\t<em class=\"f_down down\"><span>\\xc7\\xcf\\xc7\\xe2</span>\\n\\t\\t\\t\\t1,600\\n\\t\\t\\t\\t</em>\\n\\t\\t\\t\\n\\t\\t\\t\\t\\t\\t\\t</td>\\n\\t\\t\\t\\t\\t\\t\\t<td>\\n\\t\\t\\t\\t\\t\\t\\t\\t\\n\\t\\t\\t\\t<em class=\"f_up\">\\n\\t\\t\\t\\t+189,842\\n\\t\\t\\t\\t</em>\\n\\t\\t\\t\\n\\t\\t\\t\\t\\t\\t\\t</td>\\n\\t\\t\\t\\t\\t\\t\\t<td>\\n\\t\\t\\t\\t\\t\\t\\t\\t\\n\\t\\t\\t\\t<em class=\"f_down\">\\n\\t\\t\\t\\t-1,877,734\\n\\t\\t\\t\\t</em>\\n\\t\\t\\t\\n\\t\\t\\t\\t\\t\\t\\t</td>\\n\\t\\t\\t\\t\\t\\t</tr>\\n\\t\\t\\t\\t\\t\\n\\n\\t\\t\\t\\t\\t<tr><td class=\"space2\"></td></tr>\\n\\t\\t\\t\\t\\t</tbody>\\n\\t\\t\\t\\t</table>\\n\\t\\t\\t</div>\\n\\t\\t\\t<div class=\"dummy\"></div>\\n\\t\\t\\t<a href=\"/item/frgn.naver?code=005930\" class=\"more\" onClick=\"clickcr(this, \\'dle.7\\', \\'\\', \\'\\', event);\">\\xb4\\xf5\\xba\\xb8\\xb1\\xe2</a>\\n\\t\\t</div>\\n\\t\\t\\n\\t\\t<hr>\\n\\t\\t\\n\\t\\t<div class=\"section new_bbs\">\\n\\t\\t\\t<div class=\"sub_section news_section\">\\n\\t\\t\\t\\t<h4 class=\"h_sub sub_tit3\"><span>\\xb4\\xba\\xbd\\xba\\xb0\\xf8\\xbd\\xc3</span></h4>\\n\\t\\t\\t\\t\\n\\t\\t\\t\\t\\t\\n\\t\\t\\t\\t\\t\\t<ul>\\n\\t\\t\\t\\t\\t\\t\\n\\t\\t\\t\\t\\t\\t\\t\\n\\t\\t\\t\\t\\t\\t\\t\\t<li>\\n\\t\\t\\t\\t\\t\\t\\t<span class=\"txt\">\\n\\t\\t\\t\\t\\t\\t\\t\\n\\t\\t\\t\\t\\t\\t\\t\\t\\n\\t\\t\\t\\t\\t\\t\\t\\t\\n\\t\\t\\t\\t\\t\\t\\t\\t\\t\\n\\t\\t\\t\\t\\t\\t\\t\\t\\n\\t\\t\\t\\t\\t\\t\\t\\n\\t\\t\\t\\t\\t\\t\\t<a href=\"/item/news_read.naver?article_id=0014849819&office_id=001&code=005930&sm=title_entity_id.basic\" onClick=\"clickcr(this, \\'dle.1\\', \\'\\', \\'1\\', event);\">\\xda\\xb8 \\xb0\\xe6\\xb1\\xe2\\xc4\\xa7\\xc3\\xbc \\xb0\\xf8\\xc6\\xf7\\xbf\\xa1 \\xc1\\xf7\\xb0\\xdd\\xc5\\xba&hellip;SK\\xc7\\xcf\\xc0\\xcc\\xb4\\xd0\\xbd\\xba 10% \\xbb\\xef\\xbc\\xba\\xc0\\xfc...</a>\\n\\t\\t\\t\\t\\t\\t\\t\\n\\t\\t\\t\\t\\t\\t\\t</span>\\n\\t\\t\\t\\t\\t\\t\\t\\t\\t<em> 08/02</em>\\n\\t\\t\\t\\t\\t\\t\\t\\t</li>\\n\\t\\t\\t\\t\\t\\t\\t\\n\\t\\t\\t\\t\\t\\t\\t\\n\\t\\t\\t\\t\\t\\t\\n\\t\\t\\t\\t\\t\\t\\t\\n\\t\\t\\t\\t\\t\\t\\t\\t<li>\\n\\t\\t\\t\\t\\t\\t\\t<span class=\"txt\">\\n\\t\\t\\t\\t\\t\\t\\t\\n\\t\\t\\t\\t\\t\\t\\t\\t\\n\\t\\t\\t\\t\\t\\t\\t\\t\\n\\t\\t\\t\\t\\t\\t\\t\\t\\t\\n\\t\\t\\t\\t\\t\\t\\t\\t\\n\\t\\t\\t\\t\\t\\t\\t\\n\\t\\t\\t\\t\\t\\t\\t<a href=\"/item/news_read.naver?article_id=0002179094&office_id=138&code=005930&sm=title_entity_id.basic\" onClick=\"clickcr(this, \\'dle.1\\', \\'\\', \\'2\\', event);\">\\xbb\\xef\\xbc\\xba\\xc0\\xfc\\xc0\\xda-\\xbe\\xd6\\xc7\\xc3 15\\xc0\\xc7 \\xb4\\xeb\\xb0\\xe1&hellip;2Q \\xb0\\xa1\\xc0\\xe5 \\xb8\\xb9\\xc0\\xcc \\xc6\\xc8\\xb8\\xb0 \\xc6\\xf9 \\xbe\\xc6...</a>\\n\\t\\t\\t\\t\\t\\t\\t\\n\\t\\t\\t\\t\\t\\t\\t</span>\\n\\t\\t\\t\\t\\t\\t\\t\\t\\t<em> 08/02</em>\\n\\t\\t\\t\\t\\t\\t\\t\\t</li>\\n\\t\\t\\t\\t\\t\\t\\t\\n\\t\\t\\t\\t\\t\\t\\t\\n\\t\\t\\t\\t\\t\\t\\n\\t\\t\\t\\t\\t\\t\\t\\n\\t\\t\\t\\t\\t\\t\\t\\t<li>\\n\\t\\t\\t\\t\\t\\t\\t<span class=\"txt\">\\n\\t\\t\\t\\t\\t\\t\\t\\n\\t\\t\\t\\t\\t\\t\\t\\t\\n\\t\\t\\t\\t\\t\\t\\t\\t\\n\\t\\t\\t\\t\\t\\t\\t\\t\\t\\n\\t\\t\\t\\t\\t\\t\\t\\t\\n\\t\\t\\t\\t\\t\\t\\t\\n\\t\\t\\t\\t\\t\\t\\t<a href=\"/item/news_read.naver?article_id=0000979620&office_id=144&code=005930&sm=title_entity_id.basic\" onClick=\"clickcr(this, \\'dle.1\\', \\'\\', \\'3\\', event);\">\\xbb\\xef\\xbc\\xba\\xc0\\xfc\\xc0\\xda, IOC \\xc8\\xa8\\xc6\\xe4\\xc0\\xcc\\xc1\\xf6\\xbf\\xa1 \\xbf\\xc3\\xb8\\xb2\\xc7\\xc8 \\xc6\\xd2 \\xc0\\xa7\\xc7\\xd1 \\xb5\\xf0\\xc1\\xf6\\xc5\\xd0 ...</a>\\n\\t\\t\\t\\t\\t\\t\\t\\n\\t\\t\\t\\t\\t\\t\\t</span>\\n\\t\\t\\t\\t\\t\\t\\t\\t\\t<em> 08/02</em>\\n\\t\\t\\t\\t\\t\\t\\t\\t</li>\\n\\t\\t\\t\\t\\t\\t\\t\\n\\t\\t\\t\\t\\t\\t\\t\\n\\t\\t\\t\\t\\t\\t\\n\\t\\t\\t\\t\\t\\t\\t\\n\\t\\t\\t\\t\\t\\t\\t\\t<li>\\n\\t\\t\\t\\t\\t\\t\\t<span class=\"txt\">\\n\\t\\t\\t\\t\\t\\t\\t\\n\\t\\t\\t\\t\\t\\t\\t\\t\\n\\t\\t\\t\\t\\t\\t\\t\\t\\t\\n\\t\\t\\t\\t\\t\\t\\t\\t\\n\\t\\t\\t\\t\\t\\t\\t\\t\\n\\t\\t\\t\\t\\t\\t\\t\\n\\t\\t\\t\\t\\t\\t\\t<a href=\"/item/news_read.naver?article_id=0007705915&office_id=421&code=005930&sm=title_entity_id.basic\" onClick=\"clickcr(this, \\'dle.1\\', \\'\\', \\'4\\', event);\">\\xbb\\xef\\xbc\\xba \\xb3\\xeb\\xbb\\xe7\\xb0\\xa5\\xb5\\xee 2R&hellip;\\'\\xb4\\xeb\\xc7\\xa5\\xb1\\xb3\\xbc\\xb7\\xb1\\xc7 \\xc0\\xaf...</a>\\n\\t\\t\\t\\t\\t\\t\\t<a href=\"/item/news.naver?code=005930&clusterId=4210007705915\" class=\"link_relation\" onClick=\"clickcr(this, \\'dle.11\\', \\'\\', \\'\\', event);\"><span class=\"bar\"></span>\\xb0\\xfc\\xb7\\xc3 <em>12</em>\\xb0\\xc7</a>\\n\\t\\t\\t\\t\\t\\t\\t</span>\\n\\t\\t\\t\\t\\t\\t\\t\\t\\t<em> 08/02</em>\\n\\t\\t\\t\\t\\t\\t\\t\\t</li>\\n\\t\\t\\t\\t\\t\\t\\t\\n\\t\\t\\t\\t\\t\\t\\t\\n\\t\\t\\t\\t\\t\\t\\n\\t\\t\\t\\t\\t\\t\\t\\n\\t\\t\\t\\t\\t\\t\\t\\t<li>\\n\\t\\t\\t\\t\\t\\t\\t<span class=\"txt\">\\n\\t\\t\\t\\t\\t\\t\\t\\n\\t\\t\\t\\t\\t\\t\\t\\t\\n\\t\\t\\t\\t\\t\\t\\t\\t\\n\\t\\t\\t\\t\\t\\t\\t\\t\\t\\n\\t\\t\\t\\t\\t\\t\\t\\t\\n\\t\\t\\t\\t\\t\\t\\t\\n\\t\\t\\t\\t\\t\\t\\t<a href=\"/item/news_read.naver?article_id=0005344526&office_id=009&code=005930&sm=title_entity_id.basic\" onClick=\"clickcr(this, \\'dle.1\\', \\'\\', \\'5\\', event);\">\\xbb\\xf5\\xc6\\xc4\\xb6\\xfe\\xb0\\xd4 \\xc1\\xfa\\xb8\\xb0 \\xc4\\xda\\xbd\\xba\\xc7\\xc7, 2700\\xbc\\xb1 \\xba\\xd8\\xb1\\xab&hellip;\\xbb\\xef\\xbc\\xba\\xc0\\xfc\\xc0\\xda\\xb5\\xb5 7...</a>\\n\\t\\t\\t\\t\\t\\t\\t\\n\\t\\t\\t\\t\\t\\t\\t</span>\\n\\t\\t\\t\\t\\t\\t\\t\\t\\t<em> 08/02</em>\\n\\t\\t\\t\\t\\t\\t\\t\\t</li>\\n\\t\\t\\t\\t\\t\\t\\t\\n\\t\\t\\t\\t\\t\\t\\t</ul><ul class=\"line_dot\" />\\n\\t\\t\\t\\t\\t\\t\\n\\t\\t\\t\\t\\t\\t\\t\\n\\t\\t\\t\\t\\t\\t\\t\\t<li>\\n\\t\\t\\t\\t\\t\\t\\t<span class=\"txt\">\\n\\t\\t\\t\\t\\t\\t\\t\\n\\t\\t\\t\\t\\t\\t\\t\\t\\n\\t\\t\\t\\t\\t\\t\\t\\t\\n\\t\\t\\t\\t\\t\\t\\t\\t\\t\\n\\t\\t\\t\\t\\t\\t\\t\\t\\n\\t\\t\\t\\t\\t\\t\\t\\n\\t\\t\\t\\t\\t\\t\\t<a href=\"/item/news_read.naver?article_id=0002340716&office_id=092&code=005930&sm=title_entity_id.basic\" onClick=\"clickcr(this, \\'dle.1\\', \\'\\', \\'6\\', event);\">[\\xc0\\xaf\\xb9\\xcc\\'s \\xc7\\xc8] \\'\\xb8\\xb6\\xc7\\xcf\\'\\xb7\\xce \\xc0\\xc7\\xb1\\xe2\\xc5\\xf5\\xc7\\xd5 \\xc7\\xd1 \\xb3\\xd7\\xc0\\xcc\\xb9\\xf6-\\xbb\\xef\\xbc\\xba&hellip;\\xbe\\xe7...</a>\\n\\t\\t\\t\\t\\t\\t\\t\\n\\t\\t\\t\\t\\t\\t\\t</span>\\n\\t\\t\\t\\t\\t\\t\\t\\t\\t<em> 08/02</em>\\n\\t\\t\\t\\t\\t\\t\\t\\t</li>\\n\\t\\t\\t\\t\\t\\t\\t\\n\\t\\t\\t\\t\\t\\t\\t\\n\\t\\t\\t\\t\\t\\t\\n\\t\\t\\t\\t\\t\\t\\t\\n\\t\\t\\t\\t\\t\\t\\t\\t<li>\\n\\t\\t\\t\\t\\t\\t\\t<span class=\"txt\">\\n\\t\\t\\t\\t\\t\\t\\t\\n\\t\\t\\t\\t\\t\\t\\t\\t\\n\\t\\t\\t\\t\\t\\t\\t\\t\\t\\n\\t\\t\\t\\t\\t\\t\\t\\t\\n\\t\\t\\t\\t\\t\\t\\t\\t\\n\\t\\t\\t\\t\\t\\t\\t\\n\\t\\t\\t\\t\\t\\t\\t<a href=\"/item/news_read.naver?article_id=0005344500&office_id=009&code=005930&sm=title_entity_id.basic\" onClick=\"clickcr(this, \\'dle.1\\', \\'\\', \\'7\\', event);\">&ldquo;\\xbe\\xdf\\xbd\\xc4 \\xb8\\xd4\\xc0\\xb8\\xb8\\xe9\\xbc\\xad \\xbf\\xc3\\xb8\\xb2\\xc7\\xc8 \\xba\\xc1\\xbf\\xe4&rdquo;......</a>\\n\\t\\t\\t\\t\\t\\t\\t<a href=\"/item/news.naver?code=005930&clusterId=0090005344500\" class=\"link_relation\" onClick=\"clickcr(this, \\'dle.11\\', \\'\\', \\'\\', event);\"><span class=\"bar\"></span>\\xb0\\xfc\\xb7\\xc3 <em>8</em>\\xb0\\xc7</a>\\n\\t\\t\\t\\t\\t\\t\\t</span>\\n\\t\\t\\t\\t\\t\\t\\t\\t\\t<em> 08/02</em>\\n\\t\\t\\t\\t\\t\\t\\t\\t</li>\\n\\t\\t\\t\\t\\t\\t\\t\\n\\t\\t\\t\\t\\t\\t\\t\\n\\t\\t\\t\\t\\t\\t\\n\\t\\t\\t\\t\\t\\t\\t\\n\\t\\t\\t\\t\\t\\t\\t\\t<li>\\n\\t\\t\\t\\t\\t\\t\\t<span class=\"txt\">\\n\\t\\t\\t\\t\\t\\t\\t\\n\\t\\t\\t\\t\\t\\t\\t\\t\\n\\t\\t\\t\\t\\t\\t\\t\\t\\n\\t\\t\\t\\t\\t\\t\\t\\t\\t\\n\\t\\t\\t\\t\\t\\t\\t\\t\\n\\t\\t\\t\\t\\t\\t\\t\\n\\t\\t\\t\\t\\t\\t\\t<a href=\"/item/news_read.naver?article_id=0002344695&office_id=016&code=005930&sm=title_entity_id.basic\" onClick=\"clickcr(this, \\'dle.1\\', \\'\\', \\'8\\', event);\">\\xbb\\xef\\xbc\\xba \\xb7\\xce\\xba\\xbf\\xc3\\xbb\\xbc\\xd2\\xb1\\xe2 \\xbd\\xe1\\xba\\xb8\\xb4\\xcf&hellip;&ldquo;\\xbc\\xd5 \\xc7\\xcf\\xb3\\xaa \\xb1\\xee\\xb5\\xfc \\xbe\\xc8 \\xc7\\xd8\\xb5\\xb5 ...</a>\\n\\t\\t\\t\\t\\t\\t\\t\\n\\t\\t\\t\\t\\t\\t\\t</span>\\n\\t\\t\\t\\t\\t\\t\\t\\t\\t<em> 08/02</em>\\n\\t\\t\\t\\t\\t\\t\\t\\t</li>\\n\\t\\t\\t\\t\\t\\t\\t\\n\\t\\t\\t\\t\\t\\t\\t\\n\\t\\t\\t\\t\\t\\t\\n\\t\\t\\t\\t\\t\\t\\t\\n\\t\\t\\t\\t\\t\\t\\t\\t<li>\\n\\t\\t\\t\\t\\t\\t\\t<span class=\"txt\">\\n\\t\\t\\t\\t\\t\\t\\t\\n\\t\\t\\t\\t\\t\\t\\t\\t\\n\\t\\t\\t\\t\\t\\t\\t\\t\\n\\t\\t\\t\\t\\t\\t\\t\\t\\t\\n\\t\\t\\t\\t\\t\\t\\t\\t\\n\\t\\t\\t\\t\\t\\t\\t\\n\\t\\t\\t\\t\\t\\t\\t<a href=\"/item/news_read.naver?article_id=0001018515&office_id=417&code=005930&sm=title_entity_id.basic\" onClick=\"clickcr(this, \\'dle.1\\', \\'\\', \\'9\\', event);\">&quot;\\xb5\\xde\\xc5\\xeb\\xbc\\xf6 \\xb8\\xc2\\xbe\\xd2\\xb3\\xd7&quot; \\xbb\\xef\\xbc\\xba\\xc0\\xfc\\xc0\\xda \\xb9\\xcc\\xb1\\xb9 \\xbc\\xee\\xc5\\xa9\\xbf\\xa1 4% \\xb1\\xde\\xb6\\xf4, 38...</a>\\n\\t\\t\\t\\t\\t\\t\\t\\n\\t\\t\\t\\t\\t\\t\\t</span>\\n\\t\\t\\t\\t\\t\\t\\t\\t\\t<em> 08/02</em>\\n\\t\\t\\t\\t\\t\\t\\t\\t</li>\\n\\t\\t\\t\\t\\t\\t\\t\\n\\t\\t\\t\\t\\t\\t\\t\\n\\t\\t\\t\\t\\t\\t\\n\\t\\t\\t\\t\\t\\t\\t\\n\\t\\t\\t\\t\\t\\t\\t\\t<li>\\n\\t\\t\\t\\t\\t\\t\\t<span class=\"txt\">\\n\\t\\t\\t\\t\\t\\t\\t\\n\\t\\t\\t\\t\\t\\t\\t\\t\\n\\t\\t\\t\\t\\t\\t\\t\\t\\n\\t\\t\\t\\t\\t\\t\\t\\t\\t\\n\\t\\t\\t\\t\\t\\t\\t\\t\\n\\t\\t\\t\\t\\t\\t\\t\\n\\t\\t\\t\\t\\t\\t\\t<a href=\"/item/news_read.naver?article_id=0012705839&office_id=003&code=005930&sm=title_entity_id.basic\" onClick=\"clickcr(this, \\'dle.1\\', \\'\\', \\'10\\', event);\">\\xb9\\xf6\\xc1\\xee3 \\xb9\\xe8\\xbc\\xdb \\xb9\\xd0\\xb8\\xae\\xc0\\xda LGU+\\xb5\\xb5 \\xc6\\xc7\\xb8\\xc5 \\xc1\\xdf\\xb4\\xdc&hellip;\\xbb\\xef\\xbc\\xba &quot;\\xba\\xfc\\xb8\\xa3\\xb0\\xd4...</a>\\n\\t\\t\\t\\t\\t\\t\\t\\n\\t\\t\\t\\t\\t\\t\\t</span>\\n\\t\\t\\t\\t\\t\\t\\t\\t\\t<em> 08/02</em>\\n\\t\\t\\t\\t\\t\\t\\t\\t</li>\\n\\t\\t\\t\\t\\t\\t\\t\\n\\t\\t\\t\\t\\t\\t\\t\\n\\t\\t\\t\\t\\t\\t\\n\\t\\t\\t\\t\\t\\t</ul>\\n\\t\\t\\t\\t\\t\\n\\n\\t\\t\\t\\t\\t\\n\\t\\t\\t\\t\\n\\t\\t\\t\\t<a href=\"/item/news.naver?code=005930\" class=\"more\" onClick=\"clickcr(this, \\'dle.2\\', \\'\\', \\'\\', event);\">\\xb4\\xf5\\xba\\xb8\\xb1\\xe2</a>\\n\\t\\t\\t</div>\\n\\t\\t\\t<div class=\"sub_section right\">\\n\\t\\t\\t\\t<h4 class=\"h_sub sub_tit4\"><span>\\xc1\\xbe\\xb8\\xf1\\xc5\\xe4\\xb7\\xd0\\xbd\\xc7</span><a href=\"/item/board_write_edit.naver?code=005930&mode=write\" onClick=\"clickcr(this, \\'dle.16\\', \\'\\', \\'\\', event);\" style=\"position:relative;left:60px\"><img src=\"https://ssl.pstatic.net/imgstock/item_renewal/btn_write_n.gif\" alt=\"\\xb1\\xdb\\xbe\\xb2\\xb1\\xe2\" width=\"42\" height=\"18\"></a></h4>\\n\\t\\t\\t\\t\\n\\t\\t\\t\\t\\t\\n\\t\\t\\t\\t\\t\\t<ul>\\n\\t\\t\\t\\t\\t\\t\\n\\t\\t\\t\\t\\t\\t\\t<li>\\n\\t\\t\\t\\t\\t\\t\\t\\t<span class=\"txt\">\\n\\t\\t\\t\\t\\t\\t\\t\\t\\t\\n\\t\\t\\t\\t\\t\\t\\t\\t\\t\\t\\n\\t\\t\\t\\t\\t\\t\\t\\t\\t\\t\\n\\t\\t\\t\\t\\t\\t\\t\\t\\t\\t\\t<a href=\"/item/board_read.naver?code=005930&nid=285627327\" onClick=\"clickcr(this, \\'dle.3\\', \\'\\', \\'1\\', event);\">\\n\\t\\t\\t\\t\\t\\t\\t\\t\\t\\t\\t\\xb1\\xd9\\xb5\\xa5 \\xb0\\xa9\\xc0\\xda\\xb1\\xe2 25\\xb8\\xb8\\xbf\\xf8\\xc0\\xba \\xbf\\xd6</a><em class=\"ea_reply\">[2]</em><img src=\"https://ssl.pstatic.net/imgstock/item_renewal/ico_new.gif\" alt=\"new\" width=\"8\" height=\"8\">\\n\\t\\t\\t\\t\\t\\t\\t\\t\\t\\t\\n\\t\\t\\t\\t\\t\\t\\t\\t\\t\\n\\t\\t\\t\\t\\t\\t\\t\\t</span>\\n\\t\\t\\t\\t\\t\\t\\t\\t<em>08/02 16:20</em>\\n\\t\\t\\t\\t\\t\\t\\t</li>\\n\\t\\t\\t\\t\\t\\t\\t\\n\\t\\t\\t\\t\\t\\t\\n\\t\\t\\t\\t\\t\\t\\t<li>\\n\\t\\t\\t\\t\\t\\t\\t\\t<span class=\"txt\">\\n\\t\\t\\t\\t\\t\\t\\t\\t\\t\\n\\t\\t\\t\\t\\t\\t\\t\\t\\t\\t\\n\\t\\t\\t\\t\\t\\t\\t\\t\\t\\t\\n\\t\\t\\t\\t\\t\\t\\t\\t\\t\\t\\t<a href=\"/item/board_read.naver?code=005930&nid=285627326\" onClick=\"clickcr(this, \\'dle.3\\', \\'\\', \\'2\\', event);\">\\n\\t\\t\\t\\t\\t\\t\\t\\t\\t\\t\\t\\xc7\\xd1\\xb0\\xad\\xb9\\xb0 \\xb5\\xfb\\xb6\\xe6\\xc7\\xd8\\xbc\\xad \\xb4\\xd9\\xc7\\xe0\\xc0\\xcc\\xb4\\xd9.</a><em class=\"ea_reply\">[1]</em><img src=\"https://ssl.pstatic.net/imgstock/item_renewal/ico_new.gif\" alt=\"new\" width=\"8\" height=\"8\">\\n\\t\\t\\t\\t\\t\\t\\t\\t\\t\\t\\n\\t\\t\\t\\t\\t\\t\\t\\t\\t\\n\\t\\t\\t\\t\\t\\t\\t\\t</span>\\n\\t\\t\\t\\t\\t\\t\\t\\t<em>08/02 16:20</em>\\n\\t\\t\\t\\t\\t\\t\\t</li>\\n\\t\\t\\t\\t\\t\\t\\t\\n\\t\\t\\t\\t\\t\\t\\n\\t\\t\\t\\t\\t\\t\\t<li>\\n\\t\\t\\t\\t\\t\\t\\t\\t<span class=\"txt\">\\n\\t\\t\\t\\t\\t\\t\\t\\t\\t\\n\\t\\t\\t\\t\\t\\t\\t\\t\\t\\t\\n\\t\\t\\t\\t\\t\\t\\t\\t\\t\\t\\n\\t\\t\\t\\t\\t\\t\\t\\t\\t\\t\\t<a href=\"/item/board_read.naver?code=005930&nid=285627324\" onClick=\"clickcr(this, \\'dle.3\\', \\'\\', \\'3\\', event);\">\\n\\t\\t\\t\\t\\t\\t\\t\\t\\t\\t\\t\\xb0\\xed\\xbc\\xf6\\xc0\\xc7 \\xc2\\xf7\\xc6\\xae \\xba\\xd0\\xbc\\xae\\xc0\\xb8\\xb7\\xce\\xb4\\xc2</a><img src=\"https://ssl.pstatic.net/imgstock/item_renewal/ico_new.gif\" alt=\"new\" width=\"8\" height=\"8\">\\n\\t\\t\\t\\t\\t\\t\\t\\t\\t\\t\\n\\t\\t\\t\\t\\t\\t\\t\\t\\t\\n\\t\\t\\t\\t\\t\\t\\t\\t</span>\\n\\t\\t\\t\\t\\t\\t\\t\\t<em>08/02 16:20</em>\\n\\t\\t\\t\\t\\t\\t\\t</li>\\n\\t\\t\\t\\t\\t\\t\\t\\n\\t\\t\\t\\t\\t\\t\\n\\t\\t\\t\\t\\t\\t\\t<li>\\n\\t\\t\\t\\t\\t\\t\\t\\t<span class=\"txt\">\\n\\t\\t\\t\\t\\t\\t\\t\\t\\t\\n\\t\\t\\t\\t\\t\\t\\t\\t\\t\\t\\n\\t\\t\\t\\t\\t\\t\\t\\t\\t\\t\\n\\t\\t\\t\\t\\t\\t\\t\\t\\t\\t\\t<a href=\"/item/board_read.naver?code=005930&nid=285627285\" onClick=\"clickcr(this, \\'dle.3\\', \\'\\', \\'4\\', event);\">\\n\\t\\t\\t\\t\\t\\t\\t\\t\\t\\t\\t\\xb4\\xeb\\xc5\\xeb\\xb7\\xc9\\xc5\\xbf \\xc7\\xcf\\xb4\\xc2 \\xb3\\xf0\\xb5\\xe9 \\xba\\xb8\\xb0\\xc5\\xb6\\xf3</a><em class=\"ea_reply\">[2]</em><img src=\"https://ssl.pstatic.net/imgstock/item_renewal/ico_new.gif\" alt=\"new\" width=\"8\" height=\"8\">\\n\\t\\t\\t\\t\\t\\t\\t\\t\\t\\t\\n\\t\\t\\t\\t\\t\\t\\t\\t\\t\\n\\t\\t\\t\\t\\t\\t\\t\\t</span>\\n\\t\\t\\t\\t\\t\\t\\t\\t<em>08/02 16:19</em>\\n\\t\\t\\t\\t\\t\\t\\t</li>\\n\\t\\t\\t\\t\\t\\t\\t\\n\\t\\t\\t\\t\\t\\t\\n\\t\\t\\t\\t\\t\\t\\t<li>\\n\\t\\t\\t\\t\\t\\t\\t\\t<span class=\"txt\">\\n\\t\\t\\t\\t\\t\\t\\t\\t\\t\\n\\t\\t\\t\\t\\t\\t\\t\\t\\t\\t\\n\\t\\t\\t\\t\\t\\t\\t\\t\\t\\t\\n\\t\\t\\t\\t\\t\\t\\t\\t\\t\\t\\t<a href=\"/item/board_read.naver?code=005930&nid=285627273\" onClick=\"clickcr(this, \\'dle.3\\', \\'\\', \\'5\\', event);\">\\n\\t\\t\\t\\t\\t\\t\\t\\t\\t\\t\\t\\xb6\\xc8\\xb6\\xc8\\xc7\\xd1 \\xb3\\xd1\\xb5\\xe9 ..... \\xbc\\xf6\\xb1\\xb8\\xb2\\xc3\\xc5\\xeb \\xb9\\xce\\xc1\\xd6\\xb2\\xc1\\xb4\\xeb\\xb3\\xd1\\xb5\\xe9\\xc0\\xbb \\xc7\\xd1\\xb4\\xab\\xbf\\xa1 </a><em class=\"ea_reply\">[1]</em><img src=\"https://ssl.pstatic.net/imgstock/item_renewal/ico_new.gif\" alt=\"new\" width=\"8\" height=\"8\">\\n\\t\\t\\t\\t\\t\\t\\t\\t\\t\\t\\n\\t\\t\\t\\t\\t\\t\\t\\t\\t\\n\\t\\t\\t\\t\\t\\t\\t\\t</span>\\n\\t\\t\\t\\t\\t\\t\\t\\t<em>08/02 16:19</em>\\n\\t\\t\\t\\t\\t\\t\\t</li>\\n\\t\\t\\t\\t\\t\\t\\t\\n\\t\\t\\t\\t\\t\\t\\t\\t</ul>\\n\\t\\t\\t\\t\\t\\t\\t\\t<ul class=\"line_dot\">\\n\\t\\t\\t\\t\\t\\t\\t\\n\\t\\t\\t\\t\\t\\t\\n\\t\\t\\t\\t\\t\\t\\t<li>\\n\\t\\t\\t\\t\\t\\t\\t\\t<span class=\"txt\">\\n\\t\\t\\t\\t\\t\\t\\t\\t\\t\\n\\t\\t\\t\\t\\t\\t\\t\\t\\t\\t\\n\\t\\t\\t\\t\\t\\t\\t\\t\\t\\t\\n\\t\\t\\t\\t\\t\\t\\t\\t\\t\\t\\t<a href=\"/item/board_read.naver?code=005930&nid=285627344\" onClick=\"clickcr(this, \\'dle.3\\', \\'\\', \\'6\\', event);\">\\n\\t\\t\\t\\t\\t\\t\\t\\t\\t\\t\\t\\xb0\\xb3\\xbb\\xd4\\xc0\\xcc\\xb4\\xd9 \\xb6\\xc8\\xb6\\xc8\\xc7\\xd1 \\xb3\\xd1\\xb5\\xe9 ..... \\xbc\\xf6\\xb1\\xb8\\xb2\\xc3\\xc5\\xeb \\xb9\\xce\\xc1\\xd6\\xb2\\xc1\\xb4\\xeb\\xb3\\xd1\\xb5\\xe9\\xc0\\xbb</a><img src=\"https://ssl.pstatic.net/imgstock/item_renewal/ico_new.gif\" alt=\"new\" width=\"8\" height=\"8\">\\n\\t\\t\\t\\t\\t\\t\\t\\t\\t\\t\\n\\t\\t\\t\\t\\t\\t\\t\\t\\t\\n\\t\\t\\t\\t\\t\\t\\t\\t</span>\\n\\t\\t\\t\\t\\t\\t\\t\\t<em>08/02 16:20</em>\\n\\t\\t\\t\\t\\t\\t\\t</li>\\n\\t\\t\\t\\t\\t\\t\\t\\n\\t\\t\\t\\t\\t\\t\\n\\t\\t\\t\\t\\t\\t\\t<li>\\n\\t\\t\\t\\t\\t\\t\\t\\t<span class=\"txt\">\\n\\t\\t\\t\\t\\t\\t\\t\\t\\t\\n\\t\\t\\t\\t\\t\\t\\t\\t\\t\\t\\n\\t\\t\\t\\t\\t\\t\\t\\t\\t\\t\\n\\t\\t\\t\\t\\t\\t\\t\\t\\t\\t\\t<a href=\"/item/board_read.naver?code=005930&nid=285627271\" onClick=\"clickcr(this, \\'dle.3\\', \\'\\', \\'7\\', event);\">\\n\\t\\t\\t\\t\\t\\t\\t\\t\\t\\t\\t\\xbc\\xad\\xb9\\xce\\xb5\\xe9\\xba\\xce\\xc5\\xcd \\xb0\\xe6\\xc1\\xa6\\xc6\\xc4\\xc5\\xba \\xbd\\xc3\\xc4\\xd1\\xbe\\xdf \\xb3\\xaa\\xb6\\xf3\\xb0\\xa1 \\xc0\\xdf\\xb5\\xb9\\xbe\\xc6\\xb0\\xa8.</a><em class=\"ea_reply\">[1]</em><img src=\"https://ssl.pstatic.net/imgstock/item_renewal/ico_new.gif\" alt=\"new\" width=\"8\" height=\"8\">\\n\\t\\t\\t\\t\\t\\t\\t\\t\\t\\t\\n\\t\\t\\t\\t\\t\\t\\t\\t\\t\\n\\t\\t\\t\\t\\t\\t\\t\\t</span>\\n\\t\\t\\t\\t\\t\\t\\t\\t<em>08/02 16:19</em>\\n\\t\\t\\t\\t\\t\\t\\t</li>\\n\\t\\t\\t\\t\\t\\t\\t\\n\\t\\t\\t\\t\\t\\t\\n\\t\\t\\t\\t\\t\\t\\t<li>\\n\\t\\t\\t\\t\\t\\t\\t\\t<span class=\"txt\">\\n\\t\\t\\t\\t\\t\\t\\t\\t\\t\\n\\t\\t\\t\\t\\t\\t\\t\\t\\t\\t\\n\\t\\t\\t\\t\\t\\t\\t\\t\\t\\t\\n\\t\\t\\t\\t\\t\\t\\t\\t\\t\\t\\t<a href=\"/item/board_read.naver?code=005930&nid=285627259\" onClick=\"clickcr(this, \\'dle.3\\', \\'\\', \\'8\\', event);\">\\n\\t\\t\\t\\t\\t\\t\\t\\t\\t\\t\\t\\xb8\\xe4\\xb5\\xc5\\xc1\\xf6\\xb0\\xa1 100\\xc1\\xb6 \\xc7\\xaa\\xb4\\xc2\\xb0\\xc7 \\xb1\\xa6\\xc2\\xfa\\xb0\\xed 13\\xc1\\xb6 \\xc7\\xaa\\xb4\\xc2\\xb0\\xc7 \\xb9\\xb9? \\xb3\\xaa\\xb6\\xf3</a><em class=\"ea_reply\">[4]</em><img src=\"https://ssl.pstatic.net/imgstock/item_renewal/ico_new.gif\" alt=\"new\" width=\"8\" height=\"8\">\\n\\t\\t\\t\\t\\t\\t\\t\\t\\t\\t\\n\\t\\t\\t\\t\\t\\t\\t\\t\\t\\n\\t\\t\\t\\t\\t\\t\\t\\t</span>\\n\\t\\t\\t\\t\\t\\t\\t\\t<em>08/02 16:19</em>\\n\\t\\t\\t\\t\\t\\t\\t</li>\\n\\t\\t\\t\\t\\t\\t\\t\\n\\t\\t\\t\\t\\t\\t\\n\\t\\t\\t\\t\\t\\t\\t<li>\\n\\t\\t\\t\\t\\t\\t\\t\\t<span class=\"txt\">\\n\\t\\t\\t\\t\\t\\t\\t\\t\\t\\n\\t\\t\\t\\t\\t\\t\\t\\t\\t\\t\\n\\t\\t\\t\\t\\t\\t\\t\\t\\t\\t\\n\\t\\t\\t\\t\\t\\t\\t\\t\\t\\t\\t<a href=\"/item/board_read.naver?code=005930&nid=285627219\" onClick=\"clickcr(this, \\'dle.3\\', \\'\\', \\'9\\', event);\">\\n\\t\\t\\t\\t\\t\\t\\t\\t\\t\\t\\t\\xc0\\xcc\\xb9\\xf8\\xbf\\xa1 \\xb0\\xc9\\xb8\\xb0 \\xb8\\xb6\\xbe\\xe0\\xb8\\xb8 2200\\xbe\\xef</a><img src=\"https://ssl.pstatic.net/imgstock/item_renewal/ico_new.gif\" alt=\"new\" width=\"8\" height=\"8\">\\n\\t\\t\\t\\t\\t\\t\\t\\t\\t\\t\\n\\t\\t\\t\\t\\t\\t\\t\\t\\t\\n\\t\\t\\t\\t\\t\\t\\t\\t</span>\\n\\t\\t\\t\\t\\t\\t\\t\\t<em>08/02 16:18</em>\\n\\t\\t\\t\\t\\t\\t\\t</li>\\n\\t\\t\\t\\t\\t\\t\\t\\n\\t\\t\\t\\t\\t\\t\\n\\t\\t\\t\\t\\t\\t\\t<li>\\n\\t\\t\\t\\t\\t\\t\\t\\t<span class=\"txt\">\\n\\t\\t\\t\\t\\t\\t\\t\\t\\t\\n\\t\\t\\t\\t\\t\\t\\t\\t\\t\\t\\n\\t\\t\\t\\t\\t\\t\\t\\t\\t\\t\\n\\t\\t\\t\\t\\t\\t\\t\\t\\t\\t\\t<a href=\"/item/board_read.naver?code=005930&nid=285627217\" onClick=\"clickcr(this, \\'dle.3\\', \\'\\', \\'10\\', event);\">\\n\\t\\t\\t\\t\\t\\t\\t\\t\\t\\t\\t\\xb0\\xbb\\xbb\\xf3\\xb5\\xb5\\xc0\\xce\\xc0\\xba 25\\xb8\\xb8\\xbf\\xf8 \\xb9\\xde\\xc1\\xf6\\xb8\\xb6\\xb6\\xf3 </a><img src=\"https://ssl.pstatic.net/imgstock/item_renewal/ico_new.gif\" alt=\"new\" width=\"8\" height=\"8\">\\n\\t\\t\\t\\t\\t\\t\\t\\t\\t\\t\\n\\t\\t\\t\\t\\t\\t\\t\\t\\t\\n\\t\\t\\t\\t\\t\\t\\t\\t</span>\\n\\t\\t\\t\\t\\t\\t\\t\\t<em>08/02 16:18</em>\\n\\t\\t\\t\\t\\t\\t\\t</li>\\n\\t\\t\\t\\t\\t\\t\\t\\n\\t\\t\\t\\t\\t\\t\\n\\n\\t\\t\\t\\t\\t\\t</ul>\\n\\t\\t\\t\\t\\t\\n\\t\\t\\t\\t\\t\\n\\t\\t\\t\\t\\n\\t\\t\\t\\t<a href=\"/item/board.naver?code=005930\" class=\"more\" onClick=\"clickcr(this, \\'dle.4\\', \\'\\', \\'\\', event);\">\\xb4\\xf5\\xba\\xb8\\xb1\\xe2</a>\\n\\t\\t\\t</div>\\n\\t\\t</div>\\n\\t\\t\\n\\t\\t<hr>\\n\\t\\t\\n\\n\\t\\t\\t\\n\\n\\t\\t\\t<div class=\"section cop_analysis\">\\n\\t\\t\\t\\t<h4 class=\"h_sub sub_tit6\"><span>\\xb1\\xe2\\xbe\\xf7\\xbd\\xc7\\xc0\\xfb\\xba\\xd0\\xbc\\xae</span></h4>\\n\\t\\t\\t\\t\\n\\t\\t\\t\\t\\t\\n\\t\\t\\t\\t\\t\\t<div class=\"sub_section\">\\n\\t\\t\\t\\t\\t\\t\\t<table summary=\"\\xb1\\xe2\\xbe\\xf7\\xbd\\xc7\\xc0\\xfb\\xba\\xd0\\xbc\\xae\\xbf\\xa1 \\xb0\\xfc\\xc7\\xd1\\xc7\\xa5\\xc0\\xcc\\xb8\\xe7 \\xc1\\xd6\\xbf\\xe4\\xc0\\xe7\\xb9\\xab\\xc1\\xa4\\xba\\xb8\\xb8\\xa6 \\xc3\\xd6\\xb1\\xd9 \\xbf\\xac\\xb0\\xa3 \\xbd\\xc7\\xc0\\xfb, \\xba\\xd0\\xb1\\xe2 \\xbd\\xc7\\xc0\\xfb\\xbf\\xa1 \\xb5\\xfb\\xb6\\xf3 \\xc1\\xa4\\xba\\xb8\\xb8\\xa6 \\xc1\\xa6\\xb0\\xf8\\xc7\\xd5\\xb4\\xcf\\xb4\\xd9.\" class=\"tb_type1 tb_num tb_type1_ifrs\">\\n\\t\\t\\t\\t\\t\\t\\t\\t<caption>\\xb1\\xe2\\xbe\\xf7\\xbd\\xc7\\xc0\\xfb\\xba\\xd0\\xbc\\xae \\xc5\\xd7\\xc0\\xcc\\xba\\xed</caption>\\n\\t\\t\\t\\t\\t\\t\\t\\t<colgroup>\\n\\t\\t\\t\\t\\t\\t\\t\\t\\t<col width=\"86\">\\n\\t\\t\\t\\t\\t\\t\\t\\t\\t<col width=\"59\">\\n\\t\\t\\t\\t\\t\\t\\t\\t\\t<col width=\"59\">\\n\\t\\t\\t\\t\\t\\t\\t\\t\\t<col width=\"59\">\\n\\t\\t\\t\\t\\t\\t\\t\\t\\t<col width=\"62\">\\n\\t\\t\\t\\t\\t\\t\\t\\t\\t<col width=\"58\">\\n\\t\\t\\t\\t\\t\\t\\t\\t\\t<col width=\"58\">\\n\\t\\t\\t\\t\\t\\t\\t\\t\\t<col width=\"58\">\\n\\t\\t\\t\\t\\t\\t\\t\\t\\t<col width=\"58\">\\n\\t\\t\\t\\t\\t\\t\\t\\t\\t<col>\\n\\t\\t\\t\\t\\t\\t\\t\\t</colgroup>\\n\\t\\t\\t\\t\\t\\t\\t\\t<thead>\\n\\t\\t\\t\\t\\t\\t\\t\\t<tr class=\"t_line\">\\n\\t\\t\\t\\t\\t\\t\\t\\t\\t<th rowspan=\"3\" class=\"h_th2 th_cop_anal5 b_line\"><strong>\\xc1\\xd6\\xbf\\xe4\\xc0\\xe7\\xb9\\xab\\xc1\\xa4\\xba\\xb8</strong></th>\\n\\t\\t\\t\\t\\t\\t\\t\\t\\t<th scope=\"col\" colspan=\"4\" class=\"h_th2 th_cop_anal6\"><strong>\\xc3\\xd6\\xb1\\xd9 \\xbf\\xac\\xb0\\xa3 \\xbd\\xc7\\xc0\\xfb</strong></th>\\n\\t\\t\\t\\t\\t\\t\\t\\t\\t<th scope=\"col\" colspan=\"6\" class=\"h_th2 th_cop_anal7 last\"><strong>\\xc3\\xd6\\xb1\\xd9 \\xba\\xd0\\xb1\\xe2 \\xbd\\xc7\\xc0\\xfb</strong></th>\\n\\t\\t\\t\\t\\t\\t\\t\\t</tr>\\n\\t\\t\\t\\t\\t\\t\\t\\t<tr>\\n\\t\\t\\t\\t\\t\\t\\t\\t\\t\\n\\t\\t\\t\\t\\t\\t\\t\\t\\t\\t\\n\\t\\t\\t\\t\\t\\t\\t\\t\\t\\t\\n\\t\\t\\t\\t\\t\\t\\t\\t\\t\\t\\n\\t\\t\\t\\t\\t\\t\\t\\t\\t\\t\\n\\t\\t\\t\\t\\t\\t\\t\\t\\t\\t<th scope=\"col\" class=\"\">\\n\\t\\t\\t\\t\\t\\t\\t\\t\\t\\t\\t2021.12\\n\\t\\t\\t\\t\\t\\t\\t\\t\\t\\t</th>\\n\\t\\t\\t\\t\\t\\t\\t\\t\\t\\t\\n\\t\\t\\t\\t\\t\\t\\t\\t\\t\\n\\t\\t\\t\\t\\t\\t\\t\\t\\t\\t\\n\\t\\t\\t\\t\\t\\t\\t\\t\\t\\t\\n\\t\\t\\t\\t\\t\\t\\t\\t\\t\\t\\n\\t\\t\\t\\t\\t\\t\\t\\t\\t\\t\\n\\t\\t\\t\\t\\t\\t\\t\\t\\t\\t<th scope=\"col\" class=\"\">\\n\\t\\t\\t\\t\\t\\t\\t\\t\\t\\t\\t2022.12\\n\\t\\t\\t\\t\\t\\t\\t\\t\\t\\t</th>\\n\\t\\t\\t\\t\\t\\t\\t\\t\\t\\t\\n\\t\\t\\t\\t\\t\\t\\t\\t\\t\\n\\t\\t\\t\\t\\t\\t\\t\\t\\t\\t\\n\\t\\t\\t\\t\\t\\t\\t\\t\\t\\t\\n\\t\\t\\t\\t\\t\\t\\t\\t\\t\\t\\n\\t\\t\\t\\t\\t\\t\\t\\t\\t\\t\\n\\t\\t\\t\\t\\t\\t\\t\\t\\t\\t<th scope=\"col\" class=\"\">\\n\\t\\t\\t\\t\\t\\t\\t\\t\\t\\t\\t2023.12\\n\\t\\t\\t\\t\\t\\t\\t\\t\\t\\t</th>\\n\\t\\t\\t\\t\\t\\t\\t\\t\\t\\t\\n\\t\\t\\t\\t\\t\\t\\t\\t\\t\\n\\t\\t\\t\\t\\t\\t\\t\\t\\t\\t\\n\\t\\t\\t\\t\\t\\t\\t\\t\\t\\t\\n\\t\\t\\t\\t\\t\\t\\t\\t\\t\\t\\n\\t\\t\\t\\t\\t\\t\\t\\t\\t\\t\\t\\n\\t\\t\\t\\t\\t\\t\\t\\t\\t\\t\\n\\t\\t\\t\\t\\t\\t\\t\\t\\t\\t\\n\\t\\t\\t\\t\\t\\t\\t\\t\\t\\t<th scope=\"col\" class=\"t_line cell_strong\">\\n\\t\\t\\t\\t\\t\\t\\t\\t\\t\\t\\t2024.12<em>&#40;E&#41;</em>\\n\\t\\t\\t\\t\\t\\t\\t\\t\\t\\t</th>\\n\\t\\t\\t\\t\\t\\t\\t\\t\\t\\t\\n\\t\\t\\t\\t\\t\\t\\t\\t\\t\\n\\t\\t\\t\\t\\t\\t\\t\\t\\t\\t\\n\\t\\t\\t\\t\\t\\t\\t\\t\\t\\t\\n\\t\\t\\t\\t\\t\\t\\t\\t\\t\\t\\n\\t\\t\\t\\t\\t\\t\\t\\t\\t\\t\\n\\t\\t\\t\\t\\t\\t\\t\\t\\t\\t<th scope=\"col\" class=\"\">\\n\\t\\t\\t\\t\\t\\t\\t\\t\\t\\t\\t2023.03\\n\\t\\t\\t\\t\\t\\t\\t\\t\\t\\t</th>\\n\\t\\t\\t\\t\\t\\t\\t\\t\\t\\t\\n\\t\\t\\t\\t\\t\\t\\t\\t\\t\\n\\t\\t\\t\\t\\t\\t\\t\\t\\t\\t\\n\\t\\t\\t\\t\\t\\t\\t\\t\\t\\t\\n\\t\\t\\t\\t\\t\\t\\t\\t\\t\\t\\n\\t\\t\\t\\t\\t\\t\\t\\t\\t\\t\\n\\t\\t\\t\\t\\t\\t\\t\\t\\t\\t<th scope=\"col\" class=\"\">\\n\\t\\t\\t\\t\\t\\t\\t\\t\\t\\t\\t2023.06\\n\\t\\t\\t\\t\\t\\t\\t\\t\\t\\t</th>\\n\\t\\t\\t\\t\\t\\t\\t\\t\\t\\t\\n\\t\\t\\t\\t\\t\\t\\t\\t\\t\\n\\t\\t\\t\\t\\t\\t\\t\\t\\t\\t\\n\\t\\t\\t\\t\\t\\t\\t\\t\\t\\t\\n\\t\\t\\t\\t\\t\\t\\t\\t\\t\\t\\n\\t\\t\\t\\t\\t\\t\\t\\t\\t\\t\\n\\t\\t\\t\\t\\t\\t\\t\\t\\t\\t<th scope=\"col\" class=\"\">\\n\\t\\t\\t\\t\\t\\t\\t\\t\\t\\t\\t2023.09\\n\\t\\t\\t\\t\\t\\t\\t\\t\\t\\t</th>\\n\\t\\t\\t\\t\\t\\t\\t\\t\\t\\t\\n\\t\\t\\t\\t\\t\\t\\t\\t\\t\\n\\t\\t\\t\\t\\t\\t\\t\\t\\t\\t\\n\\t\\t\\t\\t\\t\\t\\t\\t\\t\\t\\n\\t\\t\\t\\t\\t\\t\\t\\t\\t\\t\\n\\t\\t\\t\\t\\t\\t\\t\\t\\t\\t\\n\\t\\t\\t\\t\\t\\t\\t\\t\\t\\t<th scope=\"col\" class=\"\">\\n\\t\\t\\t\\t\\t\\t\\t\\t\\t\\t\\t2023.12\\n\\t\\t\\t\\t\\t\\t\\t\\t\\t\\t</th>\\n\\t\\t\\t\\t\\t\\t\\t\\t\\t\\t\\n\\t\\t\\t\\t\\t\\t\\t\\t\\t\\n\\t\\t\\t\\t\\t\\t\\t\\t\\t\\t\\n\\t\\t\\t\\t\\t\\t\\t\\t\\t\\t\\n\\t\\t\\t\\t\\t\\t\\t\\t\\t\\t\\n\\t\\t\\t\\t\\t\\t\\t\\t\\t\\t\\n\\t\\t\\t\\t\\t\\t\\t\\t\\t\\t<th scope=\"col\" class=\"\">\\n\\t\\t\\t\\t\\t\\t\\t\\t\\t\\t\\t2024.03\\n\\t\\t\\t\\t\\t\\t\\t\\t\\t\\t</th>\\n\\t\\t\\t\\t\\t\\t\\t\\t\\t\\t\\n\\t\\t\\t\\t\\t\\t\\t\\t\\t\\n\\t\\t\\t\\t\\t\\t\\t\\t\\t\\t\\n\\t\\t\\t\\t\\t\\t\\t\\t\\t\\t\\n\\t\\t\\t\\t\\t\\t\\t\\t\\t\\t\\n\\t\\t\\t\\t\\t\\t\\t\\t\\t\\t\\n\\t\\t\\t\\t\\t\\t\\t\\t\\t\\t\\t\\n\\t\\t\\t\\t\\t\\t\\t\\t\\t\\t\\n\\t\\t\\t\\t\\t\\t\\t\\t\\t\\t<th scope=\"col\" class=\"last cell_strong\">\\n\\t\\t\\t\\t\\t\\t\\t\\t\\t\\t\\t2024.06<em>&#40;E&#41;</em>\\n\\t\\t\\t\\t\\t\\t\\t\\t\\t\\t</th>\\n\\t\\t\\t\\t\\t\\t\\t\\t\\t\\t\\n\\t\\t\\t\\t\\t\\t\\t\\t\\t\\n\\t\\t\\t\\t\\t\\t\\t\\t</tr>\\n\\t\\t\\t\\t\\t\\t\\t\\t<tr class=\"b_line\">\\n\\t\\t\\t\\t\\t\\t\\t\\t\\t\\n\\t\\t\\t\\t\\t\\t\\t\\t\\t\\t\\n\\t\\t\\t\\t\\t\\t\\t\\t\\t\\t\\n\\t\\t\\t\\t\\t\\t\\t\\t\\t\\t\\n\\t\\t\\t\\t\\t\\t\\t\\t\\t\\t \\n\\n\\n\\t\\t\\t\\t\\t\\t\\t\\t\\t\\t\\n\\t\\t\\t\\t\\t\\t\\t\\t\\t\\t\\n\\t\\t\\t\\t\\t\\t\\t\\t\\t\\t\\n\\t\\t\\t\\t\\t\\t\\t\\t\\t\\t\\n\\t\\t\\t\\t\\t\\t\\t\\t\\t\\t<th scope=\"col\" class=\"link_ifrs\"><span>\\n\\t\\t\\t\\t\\t\\t\\t\\t\\t\\t\\n\\t\\t\\t\\t\\t\\t\\t\\t\\t\\t\\t\\n\\t\\t\\t\\t\\t\\t\\t\\t\\t\\t\\t\\n\\t\\t\\t\\t\\t\\t\\t\\t\\t\\t\\tIFRS\\xbf\\xac\\xb0\\xe1\\n\\t\\t\\t\\t\\t\\t\\t\\t\\t\\t\\n\\t\\t\\t\\t\\t\\t\\t\\t\\t</span></th>\\n\\t\\t\\t\\t\\t\\t\\t\\t\\t\\t\\n\\t\\t\\t\\t\\t\\t\\t\\t\\t\\n\\t\\t\\t\\t\\t\\t\\t\\t\\t\\t\\n\\t\\t\\t\\t\\t\\t\\t\\t\\t\\t\\n\\t\\t\\t\\t\\t\\t\\t\\t\\t\\t\\n\\t\\t\\t\\t\\t\\t\\t\\t\\t\\t \\n\\n\\n\\t\\t\\t\\t\\t\\t\\t\\t\\t\\t\\n\\t\\t\\t\\t\\t\\t\\t\\t\\t\\t\\n\\t\\t\\t\\t\\t\\t\\t\\t\\t\\t\\n\\t\\t\\t\\t\\t\\t\\t\\t\\t\\t\\n\\t\\t\\t\\t\\t\\t\\t\\t\\t\\t<th scope=\"col\" class=\"link_ifrs\"><span>\\n\\t\\t\\t\\t\\t\\t\\t\\t\\t\\t\\n\\t\\t\\t\\t\\t\\t\\t\\t\\t\\t\\t\\n\\t\\t\\t\\t\\t\\t\\t\\t\\t\\t\\t\\n\\t\\t\\t\\t\\t\\t\\t\\t\\t\\t\\tIFRS\\xbf\\xac\\xb0\\xe1\\n\\t\\t\\t\\t\\t\\t\\t\\t\\t\\t\\n\\t\\t\\t\\t\\t\\t\\t\\t\\t</span></th>\\n\\t\\t\\t\\t\\t\\t\\t\\t\\t\\t\\n\\t\\t\\t\\t\\t\\t\\t\\t\\t\\n\\t\\t\\t\\t\\t\\t\\t\\t\\t\\t\\n\\t\\t\\t\\t\\t\\t\\t\\t\\t\\t\\n\\t\\t\\t\\t\\t\\t\\t\\t\\t\\t\\n\\t\\t\\t\\t\\t\\t\\t\\t\\t\\t \\n\\n\\n\\t\\t\\t\\t\\t\\t\\t\\t\\t\\t\\n\\t\\t\\t\\t\\t\\t\\t\\t\\t\\t\\n\\t\\t\\t\\t\\t\\t\\t\\t\\t\\t\\n\\t\\t\\t\\t\\t\\t\\t\\t\\t\\t\\n\\t\\t\\t\\t\\t\\t\\t\\t\\t\\t<th scope=\"col\" class=\"link_ifrs\"><span>\\n\\t\\t\\t\\t\\t\\t\\t\\t\\t\\t\\n\\t\\t\\t\\t\\t\\t\\t\\t\\t\\t\\t\\n\\t\\t\\t\\t\\t\\t\\t\\t\\t\\t\\t\\n\\t\\t\\t\\t\\t\\t\\t\\t\\t\\t\\tIFRS\\xbf\\xac\\xb0\\xe1\\n\\t\\t\\t\\t\\t\\t\\t\\t\\t\\t\\n\\t\\t\\t\\t\\t\\t\\t\\t\\t</span></th>\\n\\t\\t\\t\\t\\t\\t\\t\\t\\t\\t\\n\\t\\t\\t\\t\\t\\t\\t\\t\\t\\n\\t\\t\\t\\t\\t\\t\\t\\t\\t\\t\\n\\t\\t\\t\\t\\t\\t\\t\\t\\t\\t\\n\\t\\t\\t\\t\\t\\t\\t\\t\\t\\t\\n\\t\\t\\t\\t\\t\\t\\t\\t\\t\\t \\n\\n\\n\\t\\t\\t\\t\\t\\t\\t\\t\\t\\t\\n\\t\\t\\t\\t\\t\\t\\t\\t\\t\\t\\n\\t\\t\\t\\t\\t\\t\\t\\t\\t\\t\\n\\t\\t\\t\\t\\t\\t\\t\\t\\t\\t\\t\\n\\t\\t\\t\\t\\t\\t\\t\\t\\t\\t\\n\\t\\t\\t\\t\\t\\t\\t\\t\\t\\t\\n\\t\\t\\t\\t\\t\\t\\t\\t\\t\\t<th scope=\"col\" class=\"link_ifrs t_line cell_strong\"><span>\\n\\t\\t\\t\\t\\t\\t\\t\\t\\t\\t\\n\\t\\t\\t\\t\\t\\t\\t\\t\\t\\t\\t\\n\\t\\t\\t\\t\\t\\t\\t\\t\\t\\t\\t\\n\\t\\t\\t\\t\\t\\t\\t\\t\\t\\t\\tIFRS\\xbf\\xac\\xb0\\xe1\\n\\t\\t\\t\\t\\t\\t\\t\\t\\t\\t\\n\\t\\t\\t\\t\\t\\t\\t\\t\\t</span></th>\\n\\t\\t\\t\\t\\t\\t\\t\\t\\t\\t\\n\\t\\t\\t\\t\\t\\t\\t\\t\\t\\n\\t\\t\\t\\t\\t\\t\\t\\t\\t\\t\\n\\t\\t\\t\\t\\t\\t\\t\\t\\t\\t\\n\\t\\t\\t\\t\\t\\t\\t\\t\\t\\t\\n\\t\\t\\t\\t\\t\\t\\t\\t\\t\\t \\n\\n\\n\\t\\t\\t\\t\\t\\t\\t\\t\\t\\t\\n\\t\\t\\t\\t\\t\\t\\t\\t\\t\\t\\n\\t\\t\\t\\t\\t\\t\\t\\t\\t\\t\\n\\t\\t\\t\\t\\t\\t\\t\\t\\t\\t\\n\\t\\t\\t\\t\\t\\t\\t\\t\\t\\t<th scope=\"col\" class=\"link_ifrs\"><span>\\n\\t\\t\\t\\t\\t\\t\\t\\t\\t\\t\\n\\t\\t\\t\\t\\t\\t\\t\\t\\t\\t\\t\\n\\t\\t\\t\\t\\t\\t\\t\\t\\t\\t\\t\\n\\t\\t\\t\\t\\t\\t\\t\\t\\t\\t\\tIFRS\\xbf\\xac\\xb0\\xe1\\n\\t\\t\\t\\t\\t\\t\\t\\t\\t\\t\\n\\t\\t\\t\\t\\t\\t\\t\\t\\t</span></th>\\n\\t\\t\\t\\t\\t\\t\\t\\t\\t\\t\\n\\t\\t\\t\\t\\t\\t\\t\\t\\t\\n\\t\\t\\t\\t\\t\\t\\t\\t\\t\\t\\n\\t\\t\\t\\t\\t\\t\\t\\t\\t\\t\\n\\t\\t\\t\\t\\t\\t\\t\\t\\t\\t\\n\\t\\t\\t\\t\\t\\t\\t\\t\\t\\t \\n\\n\\n\\t\\t\\t\\t\\t\\t\\t\\t\\t\\t\\n\\t\\t\\t\\t\\t\\t\\t\\t\\t\\t\\n\\t\\t\\t\\t\\t\\t\\t\\t\\t\\t\\n\\t\\t\\t\\t\\t\\t\\t\\t\\t\\t\\n\\t\\t\\t\\t\\t\\t\\t\\t\\t\\t<th scope=\"col\" class=\"link_ifrs\"><span>\\n\\t\\t\\t\\t\\t\\t\\t\\t\\t\\t\\n\\t\\t\\t\\t\\t\\t\\t\\t\\t\\t\\t\\n\\t\\t\\t\\t\\t\\t\\t\\t\\t\\t\\t\\n\\t\\t\\t\\t\\t\\t\\t\\t\\t\\t\\tIFRS\\xbf\\xac\\xb0\\xe1\\n\\t\\t\\t\\t\\t\\t\\t\\t\\t\\t\\n\\t\\t\\t\\t\\t\\t\\t\\t\\t</span></th>\\n\\t\\t\\t\\t\\t\\t\\t\\t\\t\\t\\n\\t\\t\\t\\t\\t\\t\\t\\t\\t\\n\\t\\t\\t\\t\\t\\t\\t\\t\\t\\t\\n\\t\\t\\t\\t\\t\\t\\t\\t\\t\\t\\n\\t\\t\\t\\t\\t\\t\\t\\t\\t\\t\\n\\t\\t\\t\\t\\t\\t\\t\\t\\t\\t \\n\\n\\n\\t\\t\\t\\t\\t\\t\\t\\t\\t\\t\\n\\t\\t\\t\\t\\t\\t\\t\\t\\t\\t\\n\\t\\t\\t\\t\\t\\t\\t\\t\\t\\t\\n\\t\\t\\t\\t\\t\\t\\t\\t\\t\\t\\n\\t\\t\\t\\t\\t\\t\\t\\t\\t\\t<th scope=\"col\" class=\"link_ifrs\"><span>\\n\\t\\t\\t\\t\\t\\t\\t\\t\\t\\t\\n\\t\\t\\t\\t\\t\\t\\t\\t\\t\\t\\t\\n\\t\\t\\t\\t\\t\\t\\t\\t\\t\\t\\t\\n\\t\\t\\t\\t\\t\\t\\t\\t\\t\\t\\tIFRS\\xbf\\xac\\xb0\\xe1\\n\\t\\t\\t\\t\\t\\t\\t\\t\\t\\t\\n\\t\\t\\t\\t\\t\\t\\t\\t\\t</span></th>\\n\\t\\t\\t\\t\\t\\t\\t\\t\\t\\t\\n\\t\\t\\t\\t\\t\\t\\t\\t\\t\\n\\t\\t\\t\\t\\t\\t\\t\\t\\t\\t\\n\\t\\t\\t\\t\\t\\t\\t\\t\\t\\t\\n\\t\\t\\t\\t\\t\\t\\t\\t\\t\\t\\n\\t\\t\\t\\t\\t\\t\\t\\t\\t\\t \\n\\n\\n\\t\\t\\t\\t\\t\\t\\t\\t\\t\\t\\n\\t\\t\\t\\t\\t\\t\\t\\t\\t\\t\\n\\t\\t\\t\\t\\t\\t\\t\\t\\t\\t\\n\\t\\t\\t\\t\\t\\t\\t\\t\\t\\t\\n\\t\\t\\t\\t\\t\\t\\t\\t\\t\\t<th scope=\"col\" class=\"link_ifrs\"><span>\\n\\t\\t\\t\\t\\t\\t\\t\\t\\t\\t\\n\\t\\t\\t\\t\\t\\t\\t\\t\\t\\t\\t\\n\\t\\t\\t\\t\\t\\t\\t\\t\\t\\t\\t\\n\\t\\t\\t\\t\\t\\t\\t\\t\\t\\t\\tIFRS\\xbf\\xac\\xb0\\xe1\\n\\t\\t\\t\\t\\t\\t\\t\\t\\t\\t\\n\\t\\t\\t\\t\\t\\t\\t\\t\\t</span></th>\\n\\t\\t\\t\\t\\t\\t\\t\\t\\t\\t\\n\\t\\t\\t\\t\\t\\t\\t\\t\\t\\n\\t\\t\\t\\t\\t\\t\\t\\t\\t\\t\\n\\t\\t\\t\\t\\t\\t\\t\\t\\t\\t\\n\\t\\t\\t\\t\\t\\t\\t\\t\\t\\t\\n\\t\\t\\t\\t\\t\\t\\t\\t\\t\\t \\n\\n\\n\\t\\t\\t\\t\\t\\t\\t\\t\\t\\t\\n\\t\\t\\t\\t\\t\\t\\t\\t\\t\\t\\n\\t\\t\\t\\t\\t\\t\\t\\t\\t\\t\\n\\t\\t\\t\\t\\t\\t\\t\\t\\t\\t\\n\\t\\t\\t\\t\\t\\t\\t\\t\\t\\t<th scope=\"col\" class=\"link_ifrs\"><span>\\n\\t\\t\\t\\t\\t\\t\\t\\t\\t\\t\\n\\t\\t\\t\\t\\t\\t\\t\\t\\t\\t\\t\\n\\t\\t\\t\\t\\t\\t\\t\\t\\t\\t\\t\\n\\t\\t\\t\\t\\t\\t\\t\\t\\t\\t\\tIFRS\\xbf\\xac\\xb0\\xe1\\n\\t\\t\\t\\t\\t\\t\\t\\t\\t\\t\\n\\t\\t\\t\\t\\t\\t\\t\\t\\t</span></th>\\n\\t\\t\\t\\t\\t\\t\\t\\t\\t\\t\\n\\t\\t\\t\\t\\t\\t\\t\\t\\t\\n\\t\\t\\t\\t\\t\\t\\t\\t\\t\\t\\n\\t\\t\\t\\t\\t\\t\\t\\t\\t\\t\\n\\t\\t\\t\\t\\t\\t\\t\\t\\t\\t\\n\\t\\t\\t\\t\\t\\t\\t\\t\\t\\t \\n\\n\\n\\t\\t\\t\\t\\t\\t\\t\\t\\t\\t\\n\\t\\t\\t\\t\\t\\t\\t\\t\\t\\t\\n\\t\\t\\t\\t\\t\\t\\t\\t\\t\\t\\n\\t\\t\\t\\t\\t\\t\\t\\t\\t\\t\\n\\t\\t\\t\\t\\t\\t\\t\\t\\t\\t\\t\\n\\t\\t\\t\\t\\t\\t\\t\\t\\t\\t\\n\\t\\t\\t\\t\\t\\t\\t\\t\\t\\t<th scope=\"col\" class=\"link_ifrs last cell_strong\"><span>\\n\\t\\t\\t\\t\\t\\t\\t\\t\\t\\t\\n\\t\\t\\t\\t\\t\\t\\t\\t\\t\\t\\t\\n\\t\\t\\t\\t\\t\\t\\t\\t\\t\\t\\t\\n\\t\\t\\t\\t\\t\\t\\t\\t\\t\\t\\tIFRS\\xbf\\xac\\xb0\\xe1\\n\\t\\t\\t\\t\\t\\t\\t\\t\\t\\t\\n\\t\\t\\t\\t\\t\\t\\t\\t\\t</span></th>\\n\\t\\t\\t\\t\\t\\t\\t\\t\\t\\t\\n\\t\\t\\t\\t\\t\\t\\t\\t\\t\\n\\t\\t\\t\\t\\t\\t\\t\\t</tr>\\n\\t\\t\\t\\t\\t\\t\\t\\t</thead>\\n\\t\\t\\t\\t\\t\\t\\t\\t<tbody>\\n\\t\\t\\t\\t\\t\\t\\t\\t<tr>\\n\\t\\t\\t\\t\\t\\t\\t\\t\\t<th scope=\"row\" class=\"h_th2 th_cop_anal8\"><strong>\\xb8\\xc5\\xc3\\xe2\\xbe\\xd7</strong></th>\\n\\t\\t\\t\\t\\t\\t\\t\\t\\t\\n\\t\\t\\t\\t\\t\\t\\t\\t\\t\\t\\n\\t\\t\\t\\t\\t\\t\\t\\t\\t\\t\\n\\t\\t\\t\\t\\t\\t\\t\\t\\t\\t\\n\\t\\t\\t\\t\\t\\t\\t\\t\\t\\t\\n\\t\\t\\t\\t\\t\\t\\t\\t\\t\\t\\n\\n\\t\\t\\t\\t\\t\\t\\t\\t\\t\\t<td class=\"\">\\n\\t\\t\\t\\t\\t\\t\\t\\t\\t\\t\\t\\n\\t\\t\\t\\t\\t\\t\\t\\t\\t\\t\\t\\n\\t\\t\\t\\t\\t\\t\\t\\t\\t\\t\\t\\t\\n\\t\\t\\t\\t2,796,048\\n\\t\\t\\t\\n\\t\\t\\t\\t\\t\\t\\t\\t\\t\\t\\t\\n\\t\\t\\t\\t\\t\\t\\t\\t\\t\\t</td>\\n\\t\\t\\t\\t\\t\\t\\t\\t\\t\\t\\n\\t\\t\\t\\t\\t\\t\\t\\t\\t\\n\\t\\t\\t\\t\\t\\t\\t\\t\\t\\t\\n\\t\\t\\t\\t\\t\\t\\t\\t\\t\\t\\n\\t\\t\\t\\t\\t\\t\\t\\t\\t\\t\\n\\t\\t\\t\\t\\t\\t\\t\\t\\t\\t\\n\\t\\t\\t\\t\\t\\t\\t\\t\\t\\t\\n\\n\\t\\t\\t\\t\\t\\t\\t\\t\\t\\t<td class=\"\">\\n\\t\\t\\t\\t\\t\\t\\t\\t\\t\\t\\t\\n\\t\\t\\t\\t\\t\\t\\t\\t\\t\\t\\t\\n\\t\\t\\t\\t\\t\\t\\t\\t\\t\\t\\t\\t\\n\\t\\t\\t\\t3,022,314\\n\\t\\t\\t\\n\\t\\t\\t\\t\\t\\t\\t\\t\\t\\t\\t\\n\\t\\t\\t\\t\\t\\t\\t\\t\\t\\t</td>\\n\\t\\t\\t\\t\\t\\t\\t\\t\\t\\t\\n\\t\\t\\t\\t\\t\\t\\t\\t\\t\\n\\t\\t\\t\\t\\t\\t\\t\\t\\t\\t\\n\\t\\t\\t\\t\\t\\t\\t\\t\\t\\t\\n\\t\\t\\t\\t\\t\\t\\t\\t\\t\\t\\n\\t\\t\\t\\t\\t\\t\\t\\t\\t\\t\\n\\t\\t\\t\\t\\t\\t\\t\\t\\t\\t\\n\\n\\t\\t\\t\\t\\t\\t\\t\\t\\t\\t<td class=\"\">\\n\\t\\t\\t\\t\\t\\t\\t\\t\\t\\t\\t\\n\\t\\t\\t\\t\\t\\t\\t\\t\\t\\t\\t\\n\\t\\t\\t\\t\\t\\t\\t\\t\\t\\t\\t\\t\\n\\t\\t\\t\\t2,589,355\\n\\t\\t\\t\\n\\t\\t\\t\\t\\t\\t\\t\\t\\t\\t\\t\\n\\t\\t\\t\\t\\t\\t\\t\\t\\t\\t</td>\\n\\t\\t\\t\\t\\t\\t\\t\\t\\t\\t\\n\\t\\t\\t\\t\\t\\t\\t\\t\\t\\n\\t\\t\\t\\t\\t\\t\\t\\t\\t\\t\\n\\t\\t\\t\\t\\t\\t\\t\\t\\t\\t\\n\\t\\t\\t\\t\\t\\t\\t\\t\\t\\t\\n\\t\\t\\t\\t\\t\\t\\t\\t\\t\\t\\n\\t\\t\\t\\t\\t\\t\\t\\t\\t\\t\\t\\n\\t\\t\\t\\t\\t\\t\\t\\t\\t\\t\\n\\t\\t\\t\\t\\t\\t\\t\\t\\t\\t\\n\\n\\t\\t\\t\\t\\t\\t\\t\\t\\t\\t<td class=\" t_line cell_strong\">\\n\\t\\t\\t\\t\\t\\t\\t\\t\\t\\t\\t\\n\\t\\t\\t\\t\\t\\t\\t\\t\\t\\t\\t\\n\\t\\t\\t\\t\\t\\t\\t\\t\\t\\t\\t\\t\\n\\t\\t\\t\\t3,144,676\\n\\t\\t\\t\\n\\t\\t\\t\\t\\t\\t\\t\\t\\t\\t\\t\\n\\t\\t\\t\\t\\t\\t\\t\\t\\t\\t</td>\\n\\t\\t\\t\\t\\t\\t\\t\\t\\t\\t\\n\\t\\t\\t\\t\\t\\t\\t\\t\\t\\n\\t\\t\\t\\t\\t\\t\\t\\t\\t\\t\\n\\t\\t\\t\\t\\t\\t\\t\\t\\t\\t\\n\\t\\t\\t\\t\\t\\t\\t\\t\\t\\t\\n\\t\\t\\t\\t\\t\\t\\t\\t\\t\\t\\n\\t\\t\\t\\t\\t\\t\\t\\t\\t\\t\\n\\n\\t\\t\\t\\t\\t\\t\\t\\t\\t\\t<td class=\"\">\\n\\t\\t\\t\\t\\t\\t\\t\\t\\t\\t\\t\\n\\t\\t\\t\\t\\t\\t\\t\\t\\t\\t\\t\\n\\t\\t\\t\\t\\t\\t\\t\\t\\t\\t\\t\\t\\n\\t\\t\\t\\t637,454\\n\\t\\t\\t\\n\\t\\t\\t\\t\\t\\t\\t\\t\\t\\t\\t\\n\\t\\t\\t\\t\\t\\t\\t\\t\\t\\t</td>\\n\\t\\t\\t\\t\\t\\t\\t\\t\\t\\t\\n\\t\\t\\t\\t\\t\\t\\t\\t\\t\\n\\t\\t\\t\\t\\t\\t\\t\\t\\t\\t\\n\\t\\t\\t\\t\\t\\t\\t\\t\\t\\t\\n\\t\\t\\t\\t\\t\\t\\t\\t\\t\\t\\n\\t\\t\\t\\t\\t\\t\\t\\t\\t\\t\\n\\t\\t\\t\\t\\t\\t\\t\\t\\t\\t\\n\\n\\t\\t\\t\\t\\t\\t\\t\\t\\t\\t<td class=\"\">\\n\\t\\t\\t\\t\\t\\t\\t\\t\\t\\t\\t\\n\\t\\t\\t\\t\\t\\t\\t\\t\\t\\t\\t\\n\\t\\t\\t\\t\\t\\t\\t\\t\\t\\t\\t\\t\\n\\t\\t\\t\\t600,055\\n\\t\\t\\t\\n\\t\\t\\t\\t\\t\\t\\t\\t\\t\\t\\t\\n\\t\\t\\t\\t\\t\\t\\t\\t\\t\\t</td>\\n\\t\\t\\t\\t\\t\\t\\t\\t\\t\\t\\n\\t\\t\\t\\t\\t\\t\\t\\t\\t\\n\\t\\t\\t\\t\\t\\t\\t\\t\\t\\t\\n\\t\\t\\t\\t\\t\\t\\t\\t\\t\\t\\n\\t\\t\\t\\t\\t\\t\\t\\t\\t\\t\\n\\t\\t\\t\\t\\t\\t\\t\\t\\t\\t\\n\\t\\t\\t\\t\\t\\t\\t\\t\\t\\t\\n\\n\\t\\t\\t\\t\\t\\t\\t\\t\\t\\t<td class=\"\">\\n\\t\\t\\t\\t\\t\\t\\t\\t\\t\\t\\t\\n\\t\\t\\t\\t\\t\\t\\t\\t\\t\\t\\t\\n\\t\\t\\t\\t\\t\\t\\t\\t\\t\\t\\t\\t\\n\\t\\t\\t\\t674,047\\n\\t\\t\\t\\n\\t\\t\\t\\t\\t\\t\\t\\t\\t\\t\\t\\n\\t\\t\\t\\t\\t\\t\\t\\t\\t\\t</td>\\n\\t\\t\\t\\t\\t\\t\\t\\t\\t\\t\\n\\t\\t\\t\\t\\t\\t\\t\\t\\t\\n\\t\\t\\t\\t\\t\\t\\t\\t\\t\\t\\n\\t\\t\\t\\t\\t\\t\\t\\t\\t\\t\\n\\t\\t\\t\\t\\t\\t\\t\\t\\t\\t\\n\\t\\t\\t\\t\\t\\t\\t\\t\\t\\t\\n\\t\\t\\t\\t\\t\\t\\t\\t\\t\\t\\n\\n\\t\\t\\t\\t\\t\\t\\t\\t\\t\\t<td class=\"\">\\n\\t\\t\\t\\t\\t\\t\\t\\t\\t\\t\\t\\n\\t\\t\\t\\t\\t\\t\\t\\t\\t\\t\\t\\n\\t\\t\\t\\t\\t\\t\\t\\t\\t\\t\\t\\t\\n\\t\\t\\t\\t677,799\\n\\t\\t\\t\\n\\t\\t\\t\\t\\t\\t\\t\\t\\t\\t\\t\\n\\t\\t\\t\\t\\t\\t\\t\\t\\t\\t</td>\\n\\t\\t\\t\\t\\t\\t\\t\\t\\t\\t\\n\\t\\t\\t\\t\\t\\t\\t\\t\\t\\n\\t\\t\\t\\t\\t\\t\\t\\t\\t\\t\\n\\t\\t\\t\\t\\t\\t\\t\\t\\t\\t\\n\\t\\t\\t\\t\\t\\t\\t\\t\\t\\t\\n\\t\\t\\t\\t\\t\\t\\t\\t\\t\\t\\n\\t\\t\\t\\t\\t\\t\\t\\t\\t\\t\\n\\n\\t\\t\\t\\t\\t\\t\\t\\t\\t\\t<td class=\"\">\\n\\t\\t\\t\\t\\t\\t\\t\\t\\t\\t\\t\\n\\t\\t\\t\\t\\t\\t\\t\\t\\t\\t\\t\\n\\t\\t\\t\\t\\t\\t\\t\\t\\t\\t\\t\\t\\n\\t\\t\\t\\t719,156\\n\\t\\t\\t\\n\\t\\t\\t\\t\\t\\t\\t\\t\\t\\t\\t\\n\\t\\t\\t\\t\\t\\t\\t\\t\\t\\t</td>\\n\\t\\t\\t\\t\\t\\t\\t\\t\\t\\t\\n\\t\\t\\t\\t\\t\\t\\t\\t\\t\\n\\t\\t\\t\\t\\t\\t\\t\\t\\t\\t\\n\\t\\t\\t\\t\\t\\t\\t\\t\\t\\t\\n\\t\\t\\t\\t\\t\\t\\t\\t\\t\\t\\n\\t\\t\\t\\t\\t\\t\\t\\t\\t\\t\\n\\t\\t\\t\\t\\t\\t\\t\\t\\t\\t\\n\\t\\t\\t\\t\\t\\t\\t\\t\\t\\t\\t\\n\\t\\t\\t\\t\\t\\t\\t\\t\\t\\t\\n\\n\\t\\t\\t\\t\\t\\t\\t\\t\\t\\t<td class=\" last cell_strong\">\\n\\t\\t\\t\\t\\t\\t\\t\\t\\t\\t\\t\\n\\t\\t\\t\\t\\t\\t\\t\\t\\t\\t\\t\\n\\t\\t\\t\\t\\t\\t\\t\\t\\t\\t\\t\\t\\n\\t\\t\\t\\t737,160\\n\\t\\t\\t\\n\\t\\t\\t\\t\\t\\t\\t\\t\\t\\t\\t\\n\\t\\t\\t\\t\\t\\t\\t\\t\\t\\t</td>\\n\\t\\t\\t\\t\\t\\t\\t\\t\\t\\t\\n\\t\\t\\t\\t\\t\\t\\t\\t\\t\\n\\t\\t\\t\\t\\t\\t\\t\\t</tr>\\n\\t\\t\\t\\t\\t\\t\\t\\t<tr>\\n\\t\\t\\t\\t\\t\\t\\t\\t\\t<th scope=\"row\" class=\"h_th2 th_cop_anal9\"><strong>\\xbf\\xb5\\xbe\\xf7\\xc0\\xcc\\xc0\\xcd</strong></th>\\n\\n\\t\\t\\t\\t\\t\\t\\t\\t\\t\\n\\t\\t\\t\\t\\t\\t\\t\\t\\t\\t\\n\\t\\t\\t\\t\\t\\t\\t\\t\\t\\t\\n\\t\\t\\t\\t\\t\\t\\t\\t\\t\\t\\n\\t\\t\\t\\t\\t\\t\\t\\t\\t\\t\\n\\t\\t\\t\\t\\t\\t\\t\\t\\t\\t\\n\\n\\t\\t\\t\\t\\t\\t\\t\\t\\t\\t<td class=\"\">\\n\\t\\t\\t\\t\\t\\t\\t\\t\\t\\t\\t\\n\\t\\t\\t\\t\\t\\t\\t\\t\\t\\t\\t\\n\\t\\t\\t\\t\\t\\t\\t\\t\\t\\t\\t\\t\\n\\t\\t\\t\\t516,339\\n\\t\\t\\t\\n\\t\\t\\t\\t\\t\\t\\t\\t\\t\\t\\t\\n\\t\\t\\t\\t\\t\\t\\t\\t\\t\\t</td>\\n\\t\\t\\t\\t\\t\\t\\t\\t\\t\\t\\n\\t\\t\\t\\t\\t\\t\\t\\t\\t\\n\\t\\t\\t\\t\\t\\t\\t\\t\\t\\t\\n\\t\\t\\t\\t\\t\\t\\t\\t\\t\\t\\n\\t\\t\\t\\t\\t\\t\\t\\t\\t\\t\\n\\t\\t\\t\\t\\t\\t\\t\\t\\t\\t\\n\\t\\t\\t\\t\\t\\t\\t\\t\\t\\t\\n\\n\\t\\t\\t\\t\\t\\t\\t\\t\\t\\t<td class=\"\">\\n\\t\\t\\t\\t\\t\\t\\t\\t\\t\\t\\t\\n\\t\\t\\t\\t\\t\\t\\t\\t\\t\\t\\t\\n\\t\\t\\t\\t\\t\\t\\t\\t\\t\\t\\t\\t\\n\\t\\t\\t\\t433,766\\n\\t\\t\\t\\n\\t\\t\\t\\t\\t\\t\\t\\t\\t\\t\\t\\n\\t\\t\\t\\t\\t\\t\\t\\t\\t\\t</td>\\n\\t\\t\\t\\t\\t\\t\\t\\t\\t\\t\\n\\t\\t\\t\\t\\t\\t\\t\\t\\t\\n\\t\\t\\t\\t\\t\\t\\t\\t\\t\\t\\n\\t\\t\\t\\t\\t\\t\\t\\t\\t\\t\\n\\t\\t\\t\\t\\t\\t\\t\\t\\t\\t\\n\\t\\t\\t\\t\\t\\t\\t\\t\\t\\t\\n\\t\\t\\t\\t\\t\\t\\t\\t\\t\\t\\n\\n\\t\\t\\t\\t\\t\\t\\t\\t\\t\\t<td class=\"\">\\n\\t\\t\\t\\t\\t\\t\\t\\t\\t\\t\\t\\n\\t\\t\\t\\t\\t\\t\\t\\t\\t\\t\\t\\n\\t\\t\\t\\t\\t\\t\\t\\t\\t\\t\\t\\t\\n\\t\\t\\t\\t65,670\\n\\t\\t\\t\\n\\t\\t\\t\\t\\t\\t\\t\\t\\t\\t\\t\\n\\t\\t\\t\\t\\t\\t\\t\\t\\t\\t</td>\\n\\t\\t\\t\\t\\t\\t\\t\\t\\t\\t\\n\\t\\t\\t\\t\\t\\t\\t\\t\\t\\n\\t\\t\\t\\t\\t\\t\\t\\t\\t\\t\\n\\t\\t\\t\\t\\t\\t\\t\\t\\t\\t\\n\\t\\t\\t\\t\\t\\t\\t\\t\\t\\t\\n\\t\\t\\t\\t\\t\\t\\t\\t\\t\\t\\n\\t\\t\\t\\t\\t\\t\\t\\t\\t\\t\\t\\n\\t\\t\\t\\t\\t\\t\\t\\t\\t\\t\\n\\t\\t\\t\\t\\t\\t\\t\\t\\t\\t\\n\\n\\t\\t\\t\\t\\t\\t\\t\\t\\t\\t<td class=\" t_line cell_strong\">\\n\\t\\t\\t\\t\\t\\t\\t\\t\\t\\t\\t\\n\\t\\t\\t\\t\\t\\t\\t\\t\\t\\t\\t\\n\\t\\t\\t\\t\\t\\t\\t\\t\\t\\t\\t\\t\\n\\t\\t\\t\\t452,507\\n\\t\\t\\t\\n\\t\\t\\t\\t\\t\\t\\t\\t\\t\\t\\t\\n\\t\\t\\t\\t\\t\\t\\t\\t\\t\\t</td>\\n\\t\\t\\t\\t\\t\\t\\t\\t\\t\\t\\n\\t\\t\\t\\t\\t\\t\\t\\t\\t\\n\\t\\t\\t\\t\\t\\t\\t\\t\\t\\t\\n\\t\\t\\t\\t\\t\\t\\t\\t\\t\\t\\n\\t\\t\\t\\t\\t\\t\\t\\t\\t\\t\\n\\t\\t\\t\\t\\t\\t\\t\\t\\t\\t\\n\\t\\t\\t\\t\\t\\t\\t\\t\\t\\t\\n\\n\\t\\t\\t\\t\\t\\t\\t\\t\\t\\t<td class=\"\">\\n\\t\\t\\t\\t\\t\\t\\t\\t\\t\\t\\t\\n\\t\\t\\t\\t\\t\\t\\t\\t\\t\\t\\t\\n\\t\\t\\t\\t\\t\\t\\t\\t\\t\\t\\t\\t\\n\\t\\t\\t\\t6,402\\n\\t\\t\\t\\n\\t\\t\\t\\t\\t\\t\\t\\t\\t\\t\\t\\n\\t\\t\\t\\t\\t\\t\\t\\t\\t\\t</td>\\n\\t\\t\\t\\t\\t\\t\\t\\t\\t\\t\\n\\t\\t\\t\\t\\t\\t\\t\\t\\t\\n\\t\\t\\t\\t\\t\\t\\t\\t\\t\\t\\n\\t\\t\\t\\t\\t\\t\\t\\t\\t\\t\\n\\t\\t\\t\\t\\t\\t\\t\\t\\t\\t\\n\\t\\t\\t\\t\\t\\t\\t\\t\\t\\t\\n\\t\\t\\t\\t\\t\\t\\t\\t\\t\\t\\n\\n\\t\\t\\t\\t\\t\\t\\t\\t\\t\\t<td class=\"\">\\n\\t\\t\\t\\t\\t\\t\\t\\t\\t\\t\\t\\n\\t\\t\\t\\t\\t\\t\\t\\t\\t\\t\\t\\n\\t\\t\\t\\t\\t\\t\\t\\t\\t\\t\\t\\t\\n\\t\\t\\t\\t6,685\\n\\t\\t\\t\\n\\t\\t\\t\\t\\t\\t\\t\\t\\t\\t\\t\\n\\t\\t\\t\\t\\t\\t\\t\\t\\t\\t</td>\\n\\t\\t\\t\\t\\t\\t\\t\\t\\t\\t\\n\\t\\t\\t\\t\\t\\t\\t\\t\\t\\n\\t\\t\\t\\t\\t\\t\\t\\t\\t\\t\\n\\t\\t\\t\\t\\t\\t\\t\\t\\t\\t\\n\\t\\t\\t\\t\\t\\t\\t\\t\\t\\t\\n\\t\\t\\t\\t\\t\\t\\t\\t\\t\\t\\n\\t\\t\\t\\t\\t\\t\\t\\t\\t\\t\\n\\n\\t\\t\\t\\t\\t\\t\\t\\t\\t\\t<td class=\"\">\\n\\t\\t\\t\\t\\t\\t\\t\\t\\t\\t\\t\\n\\t\\t\\t\\t\\t\\t\\t\\t\\t\\t\\t\\n\\t\\t\\t\\t\\t\\t\\t\\t\\t\\t\\t\\t\\n\\t\\t\\t\\t24,335\\n\\t\\t\\t\\n\\t\\t\\t\\t\\t\\t\\t\\t\\t\\t\\t\\n\\t\\t\\t\\t\\t\\t\\t\\t\\t\\t</td>\\n\\t\\t\\t\\t\\t\\t\\t\\t\\t\\t\\n\\t\\t\\t\\t\\t\\t\\t\\t\\t\\n\\t\\t\\t\\t\\t\\t\\t\\t\\t\\t\\n\\t\\t\\t\\t\\t\\t\\t\\t\\t\\t\\n\\t\\t\\t\\t\\t\\t\\t\\t\\t\\t\\n\\t\\t\\t\\t\\t\\t\\t\\t\\t\\t\\n\\t\\t\\t\\t\\t\\t\\t\\t\\t\\t\\n\\n\\t\\t\\t\\t\\t\\t\\t\\t\\t\\t<td class=\"\">\\n\\t\\t\\t\\t\\t\\t\\t\\t\\t\\t\\t\\n\\t\\t\\t\\t\\t\\t\\t\\t\\t\\t\\t\\n\\t\\t\\t\\t\\t\\t\\t\\t\\t\\t\\t\\t\\n\\t\\t\\t\\t28,247\\n\\t\\t\\t\\n\\t\\t\\t\\t\\t\\t\\t\\t\\t\\t\\t\\n\\t\\t\\t\\t\\t\\t\\t\\t\\t\\t</td>\\n\\t\\t\\t\\t\\t\\t\\t\\t\\t\\t\\n\\t\\t\\t\\t\\t\\t\\t\\t\\t\\n\\t\\t\\t\\t\\t\\t\\t\\t\\t\\t\\n\\t\\t\\t\\t\\t\\t\\t\\t\\t\\t\\n\\t\\t\\t\\t\\t\\t\\t\\t\\t\\t\\n\\t\\t\\t\\t\\t\\t\\t\\t\\t\\t\\n\\t\\t\\t\\t\\t\\t\\t\\t\\t\\t\\n\\n\\t\\t\\t\\t\\t\\t\\t\\t\\t\\t<td class=\"\">\\n\\t\\t\\t\\t\\t\\t\\t\\t\\t\\t\\t\\n\\t\\t\\t\\t\\t\\t\\t\\t\\t\\t\\t\\n\\t\\t\\t\\t\\t\\t\\t\\t\\t\\t\\t\\t\\n\\t\\t\\t\\t66,060\\n\\t\\t\\t\\n\\t\\t\\t\\t\\t\\t\\t\\t\\t\\t\\t\\n\\t\\t\\t\\t\\t\\t\\t\\t\\t\\t</td>\\n\\t\\t\\t\\t\\t\\t\\t\\t\\t\\t\\n\\t\\t\\t\\t\\t\\t\\t\\t\\t\\n\\t\\t\\t\\t\\t\\t\\t\\t\\t\\t\\n\\t\\t\\t\\t\\t\\t\\t\\t\\t\\t\\n\\t\\t\\t\\t\\t\\t\\t\\t\\t\\t\\n\\t\\t\\t\\t\\t\\t\\t\\t\\t\\t\\n\\t\\t\\t\\t\\t\\t\\t\\t\\t\\t\\n\\t\\t\\t\\t\\t\\t\\t\\t\\t\\t\\t\\n\\t\\t\\t\\t\\t\\t\\t\\t\\t\\t\\n\\n\\t\\t\\t\\t\\t\\t\\t\\t\\t\\t<td class=\" last cell_strong\">\\n\\t\\t\\t\\t\\t\\t\\t\\t\\t\\t\\t\\n\\t\\t\\t\\t\\t\\t\\t\\t\\t\\t\\t\\n\\t\\t\\t\\t\\t\\t\\t\\t\\t\\t\\t\\t\\n\\t\\t\\t\\t82,288\\n\\t\\t\\t\\n\\t\\t\\t\\t\\t\\t\\t\\t\\t\\t\\t\\n\\t\\t\\t\\t\\t\\t\\t\\t\\t\\t</td>\\n\\t\\t\\t\\t\\t\\t\\t\\t\\t\\t\\n\\t\\t\\t\\t\\t\\t\\t\\t\\t\\n\\t\\t\\t\\t\\t\\t\\t\\t</tr>\\n\\t\\t\\t\\t\\t\\t\\t\\t<tr class=\"line_end\">\\n\\t\\t\\t\\t\\t\\t\\t\\t\\t<th scope=\"row\" class=\"h_th2 th_cop_anal10\"><strong>\\xb4\\xe7\\xb1\\xe2\\xbc\\xf8\\xc0\\xcc\\xc0\\xcd</strong></th>\\n\\t\\t\\t\\t\\t\\t\\t\\t\\t\\n\\t\\t\\t\\t\\t\\t\\t\\t\\t\\t\\n\\t\\t\\t\\t\\t\\t\\t\\t\\t\\t\\n\\t\\t\\t\\t\\t\\t\\t\\t\\t\\t\\n\\t\\t\\t\\t\\t\\t\\t\\t\\t\\t\\n\\t\\t\\t\\t\\t\\t\\t\\t\\t\\t\\n\\t\\t\\t\\t\\t\\t\\t\\t\\t\\t<td class=\"\">\\n\\t\\t\\t\\t\\t\\t\\t\\t\\t\\t\\t\\n\\t\\t\\t\\t\\t\\t\\t\\t\\t\\t\\t\\n\\t\\t\\t\\t\\t\\t\\t\\t\\t\\t\\t\\t\\n\\t\\t\\t\\t399,074\\n\\t\\t\\t\\n\\t\\t\\t\\t\\t\\t\\t\\t\\t\\t\\t\\n\\t\\t\\t\\t\\t\\t\\t\\t\\t\\t</td>\\n\\t\\t\\t\\t\\t\\t\\t\\t\\t\\t\\n\\t\\t\\t\\t\\t\\t\\t\\t\\t\\n\\t\\t\\t\\t\\t\\t\\t\\t\\t\\t\\n\\t\\t\\t\\t\\t\\t\\t\\t\\t\\t\\n\\t\\t\\t\\t\\t\\t\\t\\t\\t\\t\\n\\t\\t\\t\\t\\t\\t\\t\\t\\t\\t\\n\\t\\t\\t\\t\\t\\t\\t\\t\\t\\t\\n\\t\\t\\t\\t\\t\\t\\t\\t\\t\\t<td class=\"\">\\n\\t\\t\\t\\t\\t\\t\\t\\t\\t\\t\\t\\n\\t\\t\\t\\t\\t\\t\\t\\t\\t\\t\\t\\n\\t\\t\\t\\t\\t\\t\\t\\t\\t\\t\\t\\t\\n\\t\\t\\t\\t556,541\\n\\t\\t\\t\\n\\t\\t\\t\\t\\t\\t\\t\\t\\t\\t\\t\\n\\t\\t\\t\\t\\t\\t\\t\\t\\t\\t</td>\\n\\t\\t\\t\\t\\t\\t\\t\\t\\t\\t\\n\\t\\t\\t\\t\\t\\t\\t\\t\\t\\n\\t\\t\\t\\t\\t\\t\\t\\t\\t\\t\\n\\t\\t\\t\\t\\t\\t\\t\\t\\t\\t\\n\\t\\t\\t\\t\\t\\t\\t\\t\\t\\t\\n\\t\\t\\t\\t\\t\\t\\t\\t\\t\\t\\n\\t\\t\\t\\t\\t\\t\\t\\t\\t\\t\\n\\t\\t\\t\\t\\t\\t\\t\\t\\t\\t<td class=\"\">\\n\\t\\t\\t\\t\\t\\t\\t\\t\\t\\t\\t\\n\\t\\t\\t\\t\\t\\t\\t\\t\\t\\t\\t\\n\\t\\t\\t\\t\\t\\t\\t\\t\\t\\t\\t\\t\\n\\t\\t\\t\\t154,871\\n\\t\\t\\t\\n\\t\\t\\t\\t\\t\\t\\t\\t\\t\\t\\t\\n\\t\\t\\t\\t\\t\\t\\t\\t\\t\\t</td>\\n\\t\\t\\t\\t\\t\\t\\t\\t\\t\\t\\n\\t\\t\\t\\t\\t\\t\\t\\t\\t\\n\\t\\t\\t\\t\\t\\t\\t\\t\\t\\t\\n\\t\\t\\t\\t\\t\\t\\t\\t\\t\\t\\n\\t\\t\\t\\t\\t\\t\\t\\t\\t\\t\\n\\t\\t\\t\\t\\t\\t\\t\\t\\t\\t\\n\\t\\t\\t\\t\\t\\t\\t\\t\\t\\t\\t\\n\\t\\t\\t\\t\\t\\t\\t\\t\\t\\t\\n\\t\\t\\t\\t\\t\\t\\t\\t\\t\\t\\n\\t\\t\\t\\t\\t\\t\\t\\t\\t\\t<td class=\" t_line cell_strong\">\\n\\t\\t\\t\\t\\t\\t\\t\\t\\t\\t\\t\\n\\t\\t\\t\\t\\t\\t\\t\\t\\t\\t\\t\\n\\t\\t\\t\\t\\t\\t\\t\\t\\t\\t\\t\\t\\n\\t\\t\\t\\t413,919\\n\\t\\t\\t\\n\\t\\t\\t\\t\\t\\t\\t\\t\\t\\t\\t\\n\\t\\t\\t\\t\\t\\t\\t\\t\\t\\t</td>\\n\\t\\t\\t\\t\\t\\t\\t\\t\\t\\t\\n\\t\\t\\t\\t\\t\\t\\t\\t\\t\\n\\t\\t\\t\\t\\t\\t\\t\\t\\t\\t\\n\\t\\t\\t\\t\\t\\t\\t\\t\\t\\t\\n\\t\\t\\t\\t\\t\\t\\t\\t\\t\\t\\n\\t\\t\\t\\t\\t\\t\\t\\t\\t\\t\\n\\t\\t\\t\\t\\t\\t\\t\\t\\t\\t\\n\\t\\t\\t\\t\\t\\t\\t\\t\\t\\t<td class=\"\">\\n\\t\\t\\t\\t\\t\\t\\t\\t\\t\\t\\t\\n\\t\\t\\t\\t\\t\\t\\t\\t\\t\\t\\t\\n\\t\\t\\t\\t\\t\\t\\t\\t\\t\\t\\t\\t\\n\\t\\t\\t\\t15,746\\n\\t\\t\\t\\n\\t\\t\\t\\t\\t\\t\\t\\t\\t\\t\\t\\n\\t\\t\\t\\t\\t\\t\\t\\t\\t\\t</td>\\n\\t\\t\\t\\t\\t\\t\\t\\t\\t\\t\\n\\t\\t\\t\\t\\t\\t\\t\\t\\t\\n\\t\\t\\t\\t\\t\\t\\t\\t\\t\\t\\n\\t\\t\\t\\t\\t\\t\\t\\t\\t\\t\\n\\t\\t\\t\\t\\t\\t\\t\\t\\t\\t\\n\\t\\t\\t\\t\\t\\t\\t\\t\\t\\t\\n\\t\\t\\t\\t\\t\\t\\t\\t\\t\\t\\n\\t\\t\\t\\t\\t\\t\\t\\t\\t\\t<td class=\"\">\\n\\t\\t\\t\\t\\t\\t\\t\\t\\t\\t\\t\\n\\t\\t\\t\\t\\t\\t\\t\\t\\t\\t\\t\\n\\t\\t\\t\\t\\t\\t\\t\\t\\t\\t\\t\\t\\n\\t\\t\\t\\t17,236\\n\\t\\t\\t\\n\\t\\t\\t\\t\\t\\t\\t\\t\\t\\t\\t\\n\\t\\t\\t\\t\\t\\t\\t\\t\\t\\t</td>\\n\\t\\t\\t\\t\\t\\t\\t\\t\\t\\t\\n\\t\\t\\t\\t\\t\\t\\t\\t\\t\\n\\t\\t\\t\\t\\t\\t\\t\\t\\t\\t\\n\\t\\t\\t\\t\\t\\t\\t\\t\\t\\t\\n\\t\\t\\t\\t\\t\\t\\t\\t\\t\\t\\n\\t\\t\\t\\t\\t\\t\\t\\t\\t\\t\\n\\t\\t\\t\\t\\t\\t\\t\\t\\t\\t\\n\\t\\t\\t\\t\\t\\t\\t\\t\\t\\t<td class=\"\">\\n\\t\\t\\t\\t\\t\\t\\t\\t\\t\\t\\t\\n\\t\\t\\t\\t\\t\\t\\t\\t\\t\\t\\t\\n\\t\\t\\t\\t\\t\\t\\t\\t\\t\\t\\t\\t\\n\\t\\t\\t\\t58,442\\n\\t\\t\\t\\n\\t\\t\\t\\t\\t\\t\\t\\t\\t\\t\\t\\n\\t\\t\\t\\t\\t\\t\\t\\t\\t\\t</td>\\n\\t\\t\\t\\t\\t\\t\\t\\t\\t\\t\\n\\t\\t\\t\\t\\t\\t\\t\\t\\t\\n\\t\\t\\t\\t\\t\\t\\t\\t\\t\\t\\n\\t\\t\\t\\t\\t\\t\\t\\t\\t\\t\\n\\t\\t\\t\\t\\t\\t\\t\\t\\t\\t\\n\\t\\t\\t\\t\\t\\t\\t\\t\\t\\t\\n\\t\\t\\t\\t\\t\\t\\t\\t\\t\\t\\n\\t\\t\\t\\t\\t\\t\\t\\t\\t\\t<td class=\"\">\\n\\t\\t\\t\\t\\t\\t\\t\\t\\t\\t\\t\\n\\t\\t\\t\\t\\t\\t\\t\\t\\t\\t\\t\\n\\t\\t\\t\\t\\t\\t\\t\\t\\t\\t\\t\\t\\n\\t\\t\\t\\t63,448\\n\\t\\t\\t\\n\\t\\t\\t\\t\\t\\t\\t\\t\\t\\t\\t\\n\\t\\t\\t\\t\\t\\t\\t\\t\\t\\t</td>\\n\\t\\t\\t\\t\\t\\t\\t\\t\\t\\t\\n\\t\\t\\t\\t\\t\\t\\t\\t\\t\\n\\t\\t\\t\\t\\t\\t\\t\\t\\t\\t\\n\\t\\t\\t\\t\\t\\t\\t\\t\\t\\t\\n\\t\\t\\t\\t\\t\\t\\t\\t\\t\\t\\n\\t\\t\\t\\t\\t\\t\\t\\t\\t\\t\\n\\t\\t\\t\\t\\t\\t\\t\\t\\t\\t\\n\\t\\t\\t\\t\\t\\t\\t\\t\\t\\t<td class=\"\">\\n\\t\\t\\t\\t\\t\\t\\t\\t\\t\\t\\t\\n\\t\\t\\t\\t\\t\\t\\t\\t\\t\\t\\t\\n\\t\\t\\t\\t\\t\\t\\t\\t\\t\\t\\t\\t\\n\\t\\t\\t\\t67,547\\n\\t\\t\\t\\n\\t\\t\\t\\t\\t\\t\\t\\t\\t\\t\\t\\n\\t\\t\\t\\t\\t\\t\\t\\t\\t\\t</td>\\n\\t\\t\\t\\t\\t\\t\\t\\t\\t\\t\\n\\t\\t\\t\\t\\t\\t\\t\\t\\t\\n\\t\\t\\t\\t\\t\\t\\t\\t\\t\\t\\n\\t\\t\\t\\t\\t\\t\\t\\t\\t\\t\\n\\t\\t\\t\\t\\t\\t\\t\\t\\t\\t\\n\\t\\t\\t\\t\\t\\t\\t\\t\\t\\t\\n\\t\\t\\t\\t\\t\\t\\t\\t\\t\\t\\n\\t\\t\\t\\t\\t\\t\\t\\t\\t\\t\\t\\n\\t\\t\\t\\t\\t\\t\\t\\t\\t\\t\\n\\t\\t\\t\\t\\t\\t\\t\\t\\t\\t<td class=\" last cell_strong\">\\n\\t\\t\\t\\t\\t\\t\\t\\t\\t\\t\\t\\n\\t\\t\\t\\t\\t\\t\\t\\t\\t\\t\\t\\n\\t\\t\\t\\t\\t\\t\\t\\t\\t\\t\\t\\t\\n\\t\\t\\t\\t71,768\\n\\t\\t\\t\\n\\t\\t\\t\\t\\t\\t\\t\\t\\t\\t\\t\\n\\t\\t\\t\\t\\t\\t\\t\\t\\t\\t</td>\\n\\t\\t\\t\\t\\t\\t\\t\\t\\t\\t\\n\\t\\t\\t\\t\\t\\t\\t\\t\\t\\n\\t\\t\\t\\t\\t\\t\\t\\t</tr>\\n\\t\\t\\t\\t\\t\\t\\t\\t<tr>\\n\\t\\t\\t\\t\\t\\t\\t\\t\\t<th scope=\"row\" class=\"h_th2 th_cop_anal11\"><strong>\\xbf\\xb5\\xbe\\xf7\\xc0\\xcc\\xc0\\xcd\\xb7\\xfc</strong></th>\\n\\t\\t\\t\\t\\t\\t\\t\\t\\t\\n\\t\\t\\t\\t\\t\\t\\t\\t\\t\\t\\n\\t\\t\\t\\t\\t\\t\\t\\t\\t\\t\\n\\t\\t\\t\\t\\t\\t\\t\\t\\t\\t\\n\\t\\t\\t\\t\\t\\t\\t\\t\\t\\t\\n\\t\\t\\t\\t\\t\\t\\t\\t\\t\\t\\n\\t\\t\\t\\t\\t\\t\\t\\t\\t\\t<td class=\"\">\\n\\t\\t\\t\\t\\t\\t\\t\\t\\t\\t\\t\\n\\t\\t\\t\\t\\t\\t\\t\\t\\t\\t\\t\\n\\t\\t\\t\\t\\t\\t\\t\\t\\t\\t\\t\\t\\n\\t\\t\\t\\t18.47\\n\\t\\t\\t\\n\\t\\t\\t\\t\\t\\t\\t\\t\\t\\t\\t\\n\\t\\t\\t\\t\\t\\t\\t\\t\\t\\t</td>\\n\\t\\t\\t\\t\\t\\t\\t\\t\\t\\t\\n\\t\\t\\t\\t\\t\\t\\t\\t\\t\\n\\t\\t\\t\\t\\t\\t\\t\\t\\t\\t\\n\\t\\t\\t\\t\\t\\t\\t\\t\\t\\t\\n\\t\\t\\t\\t\\t\\t\\t\\t\\t\\t\\n\\t\\t\\t\\t\\t\\t\\t\\t\\t\\t\\n\\t\\t\\t\\t\\t\\t\\t\\t\\t\\t\\n\\t\\t\\t\\t\\t\\t\\t\\t\\t\\t<td class=\"\">\\n\\t\\t\\t\\t\\t\\t\\t\\t\\t\\t\\t\\n\\t\\t\\t\\t\\t\\t\\t\\t\\t\\t\\t\\n\\t\\t\\t\\t\\t\\t\\t\\t\\t\\t\\t\\t\\n\\t\\t\\t\\t14.35\\n\\t\\t\\t\\n\\t\\t\\t\\t\\t\\t\\t\\t\\t\\t\\t\\n\\t\\t\\t\\t\\t\\t\\t\\t\\t\\t</td>\\n\\t\\t\\t\\t\\t\\t\\t\\t\\t\\t\\n\\t\\t\\t\\t\\t\\t\\t\\t\\t\\n\\t\\t\\t\\t\\t\\t\\t\\t\\t\\t\\n\\t\\t\\t\\t\\t\\t\\t\\t\\t\\t\\n\\t\\t\\t\\t\\t\\t\\t\\t\\t\\t\\n\\t\\t\\t\\t\\t\\t\\t\\t\\t\\t\\n\\t\\t\\t\\t\\t\\t\\t\\t\\t\\t\\n\\t\\t\\t\\t\\t\\t\\t\\t\\t\\t<td class=\"\">\\n\\t\\t\\t\\t\\t\\t\\t\\t\\t\\t\\t\\n\\t\\t\\t\\t\\t\\t\\t\\t\\t\\t\\t\\n\\t\\t\\t\\t\\t\\t\\t\\t\\t\\t\\t\\t\\n\\t\\t\\t\\t2.54\\n\\t\\t\\t\\n\\t\\t\\t\\t\\t\\t\\t\\t\\t\\t\\t\\n\\t\\t\\t\\t\\t\\t\\t\\t\\t\\t</td>\\n\\t\\t\\t\\t\\t\\t\\t\\t\\t\\t\\n\\t\\t\\t\\t\\t\\t\\t\\t\\t\\n\\t\\t\\t\\t\\t\\t\\t\\t\\t\\t\\n\\t\\t\\t\\t\\t\\t\\t\\t\\t\\t\\n\\t\\t\\t\\t\\t\\t\\t\\t\\t\\t\\n\\t\\t\\t\\t\\t\\t\\t\\t\\t\\t\\n\\t\\t\\t\\t\\t\\t\\t\\t\\t\\t\\t\\n\\t\\t\\t\\t\\t\\t\\t\\t\\t\\t\\n\\t\\t\\t\\t\\t\\t\\t\\t\\t\\t\\n\\t\\t\\t\\t\\t\\t\\t\\t\\t\\t<td class=\" t_line cell_strong\">\\n\\t\\t\\t\\t\\t\\t\\t\\t\\t\\t\\t\\n\\t\\t\\t\\t\\t\\t\\t\\t\\t\\t\\t\\n\\t\\t\\t\\t\\t\\t\\t\\t\\t\\t\\t\\t\\n\\t\\t\\t\\t14.39\\n\\t\\t\\t\\n\\t\\t\\t\\t\\t\\t\\t\\t\\t\\t\\t\\n\\t\\t\\t\\t\\t\\t\\t\\t\\t\\t</td>\\n\\t\\t\\t\\t\\t\\t\\t\\t\\t\\t\\n\\t\\t\\t\\t\\t\\t\\t\\t\\t\\n\\t\\t\\t\\t\\t\\t\\t\\t\\t\\t\\n\\t\\t\\t\\t\\t\\t\\t\\t\\t\\t\\n\\t\\t\\t\\t\\t\\t\\t\\t\\t\\t\\n\\t\\t\\t\\t\\t\\t\\t\\t\\t\\t\\n\\t\\t\\t\\t\\t\\t\\t\\t\\t\\t\\n\\t\\t\\t\\t\\t\\t\\t\\t\\t\\t<td class=\"\">\\n\\t\\t\\t\\t\\t\\t\\t\\t\\t\\t\\t\\n\\t\\t\\t\\t\\t\\t\\t\\t\\t\\t\\t\\n\\t\\t\\t\\t\\t\\t\\t\\t\\t\\t\\t\\t\\n\\t\\t\\t\\t1.00\\n\\t\\t\\t\\n\\t\\t\\t\\t\\t\\t\\t\\t\\t\\t\\t\\n\\t\\t\\t\\t\\t\\t\\t\\t\\t\\t</td>\\n\\t\\t\\t\\t\\t\\t\\t\\t\\t\\t\\n\\t\\t\\t\\t\\t\\t\\t\\t\\t\\n\\t\\t\\t\\t\\t\\t\\t\\t\\t\\t\\n\\t\\t\\t\\t\\t\\t\\t\\t\\t\\t\\n\\t\\t\\t\\t\\t\\t\\t\\t\\t\\t\\n\\t\\t\\t\\t\\t\\t\\t\\t\\t\\t\\n\\t\\t\\t\\t\\t\\t\\t\\t\\t\\t\\n\\t\\t\\t\\t\\t\\t\\t\\t\\t\\t<td class=\"\">\\n\\t\\t\\t\\t\\t\\t\\t\\t\\t\\t\\t\\n\\t\\t\\t\\t\\t\\t\\t\\t\\t\\t\\t\\n\\t\\t\\t\\t\\t\\t\\t\\t\\t\\t\\t\\t\\n\\t\\t\\t\\t1.11\\n\\t\\t\\t\\n\\t\\t\\t\\t\\t\\t\\t\\t\\t\\t\\t\\n\\t\\t\\t\\t\\t\\t\\t\\t\\t\\t</td>\\n\\t\\t\\t\\t\\t\\t\\t\\t\\t\\t\\n\\t\\t\\t\\t\\t\\t\\t\\t\\t\\n\\t\\t\\t\\t\\t\\t\\t\\t\\t\\t\\n\\t\\t\\t\\t\\t\\t\\t\\t\\t\\t\\n\\t\\t\\t\\t\\t\\t\\t\\t\\t\\t\\n\\t\\t\\t\\t\\t\\t\\t\\t\\t\\t\\n\\t\\t\\t\\t\\t\\t\\t\\t\\t\\t\\n\\t\\t\\t\\t\\t\\t\\t\\t\\t\\t<td class=\"\">\\n\\t\\t\\t\\t\\t\\t\\t\\t\\t\\t\\t\\n\\t\\t\\t\\t\\t\\t\\t\\t\\t\\t\\t\\n\\t\\t\\t\\t\\t\\t\\t\\t\\t\\t\\t\\t\\n\\t\\t\\t\\t3.61\\n\\t\\t\\t\\n\\t\\t\\t\\t\\t\\t\\t\\t\\t\\t\\t\\n\\t\\t\\t\\t\\t\\t\\t\\t\\t\\t</td>\\n\\t\\t\\t\\t\\t\\t\\t\\t\\t\\t\\n\\t\\t\\t\\t\\t\\t\\t\\t\\t\\n\\t\\t\\t\\t\\t\\t\\t\\t\\t\\t\\n\\t\\t\\t\\t\\t\\t\\t\\t\\t\\t\\n\\t\\t\\t\\t\\t\\t\\t\\t\\t\\t\\n\\t\\t\\t\\t\\t\\t\\t\\t\\t\\t\\n\\t\\t\\t\\t\\t\\t\\t\\t\\t\\t\\n\\t\\t\\t\\t\\t\\t\\t\\t\\t\\t<td class=\"\">\\n\\t\\t\\t\\t\\t\\t\\t\\t\\t\\t\\t\\n\\t\\t\\t\\t\\t\\t\\t\\t\\t\\t\\t\\n\\t\\t\\t\\t\\t\\t\\t\\t\\t\\t\\t\\t\\n\\t\\t\\t\\t4.17\\n\\t\\t\\t\\n\\t\\t\\t\\t\\t\\t\\t\\t\\t\\t\\t\\n\\t\\t\\t\\t\\t\\t\\t\\t\\t\\t</td>\\n\\t\\t\\t\\t\\t\\t\\t\\t\\t\\t\\n\\t\\t\\t\\t\\t\\t\\t\\t\\t\\n\\t\\t\\t\\t\\t\\t\\t\\t\\t\\t\\n\\t\\t\\t\\t\\t\\t\\t\\t\\t\\t\\n\\t\\t\\t\\t\\t\\t\\t\\t\\t\\t\\n\\t\\t\\t\\t\\t\\t\\t\\t\\t\\t\\n\\t\\t\\t\\t\\t\\t\\t\\t\\t\\t\\n\\t\\t\\t\\t\\t\\t\\t\\t\\t\\t<td class=\"\">\\n\\t\\t\\t\\t\\t\\t\\t\\t\\t\\t\\t\\n\\t\\t\\t\\t\\t\\t\\t\\t\\t\\t\\t\\n\\t\\t\\t\\t\\t\\t\\t\\t\\t\\t\\t\\t\\n\\t\\t\\t\\t9.19\\n\\t\\t\\t\\n\\t\\t\\t\\t\\t\\t\\t\\t\\t\\t\\t\\n\\t\\t\\t\\t\\t\\t\\t\\t\\t\\t</td>\\n\\t\\t\\t\\t\\t\\t\\t\\t\\t\\t\\n\\t\\t\\t\\t\\t\\t\\t\\t\\t\\n\\t\\t\\t\\t\\t\\t\\t\\t\\t\\t\\n\\t\\t\\t\\t\\t\\t\\t\\t\\t\\t\\n\\t\\t\\t\\t\\t\\t\\t\\t\\t\\t\\n\\t\\t\\t\\t\\t\\t\\t\\t\\t\\t\\n\\t\\t\\t\\t\\t\\t\\t\\t\\t\\t\\n\\t\\t\\t\\t\\t\\t\\t\\t\\t\\t\\t\\n\\t\\t\\t\\t\\t\\t\\t\\t\\t\\t\\n\\t\\t\\t\\t\\t\\t\\t\\t\\t\\t<td class=\" last cell_strong\">\\n\\t\\t\\t\\t\\t\\t\\t\\t\\t\\t\\t\\n\\t\\t\\t\\t\\t\\t\\t\\t\\t\\t\\t\\n\\t\\t\\t\\t\\t\\t\\t\\t\\t\\t\\t\\t\\n\\t\\t\\t\\t11.16\\n\\t\\t\\t\\n\\t\\t\\t\\t\\t\\t\\t\\t\\t\\t\\t\\n\\t\\t\\t\\t\\t\\t\\t\\t\\t\\t</td>\\n\\t\\t\\t\\t\\t\\t\\t\\t\\t\\t\\n\\t\\t\\t\\t\\t\\t\\t\\t\\t\\n\\t\\t\\t\\t\\t\\t\\t\\t</tr>\\n\\t\\t\\t\\t\\t\\t\\t\\t<tr>\\n\\t\\t\\t\\t\\t\\t\\t\\t\\t<th scope=\"row\" class=\"h_th2 th_cop_anal12\"><strong>\\xbc\\xf8\\xc0\\xcc\\xc0\\xcd\\xb7\\xfc</strong></th>\\n\\t\\t\\t\\t\\t\\t\\t\\t\\t\\n\\t\\t\\t\\t\\t\\t\\t\\t\\t\\t\\n\\t\\t\\t\\t\\t\\t\\t\\t\\t\\t\\n\\t\\t\\t\\t\\t\\t\\t\\t\\t\\t\\n\\t\\t\\t\\t\\t\\t\\t\\t\\t\\t\\n\\t\\t\\t\\t\\t\\t\\t\\t\\t\\t\\n\\t\\t\\t\\t\\t\\t\\t\\t\\t\\t<td class=\"\">\\n\\t\\t\\t\\t\\t\\t\\t\\t\\t\\t\\t\\n\\t\\t\\t\\t\\t\\t\\t\\t\\t\\t\\t\\n\\t\\t\\t\\t\\t\\t\\t\\t\\t\\t\\t\\t\\n\\t\\t\\t\\t14.27\\n\\t\\t\\t\\n\\t\\t\\t\\t\\t\\t\\t\\t\\t\\t\\t\\n\\t\\t\\t\\t\\t\\t\\t\\t\\t\\t</td>\\n\\t\\t\\t\\t\\t\\t\\t\\t\\t\\t\\n\\t\\t\\t\\t\\t\\t\\t\\t\\t\\n\\t\\t\\t\\t\\t\\t\\t\\t\\t\\t\\n\\t\\t\\t\\t\\t\\t\\t\\t\\t\\t\\n\\t\\t\\t\\t\\t\\t\\t\\t\\t\\t\\n\\t\\t\\t\\t\\t\\t\\t\\t\\t\\t\\n\\t\\t\\t\\t\\t\\t\\t\\t\\t\\t\\n\\t\\t\\t\\t\\t\\t\\t\\t\\t\\t<td class=\"\">\\n\\t\\t\\t\\t\\t\\t\\t\\t\\t\\t\\t\\n\\t\\t\\t\\t\\t\\t\\t\\t\\t\\t\\t\\n\\t\\t\\t\\t\\t\\t\\t\\t\\t\\t\\t\\t\\n\\t\\t\\t\\t18.41\\n\\t\\t\\t\\n\\t\\t\\t\\t\\t\\t\\t\\t\\t\\t\\t\\n\\t\\t\\t\\t\\t\\t\\t\\t\\t\\t</td>\\n\\t\\t\\t\\t\\t\\t\\t\\t\\t\\t\\n\\t\\t\\t\\t\\t\\t\\t\\t\\t\\n\\t\\t\\t\\t\\t\\t\\t\\t\\t\\t\\n\\t\\t\\t\\t\\t\\t\\t\\t\\t\\t\\n\\t\\t\\t\\t\\t\\t\\t\\t\\t\\t\\n\\t\\t\\t\\t\\t\\t\\t\\t\\t\\t\\n\\t\\t\\t\\t\\t\\t\\t\\t\\t\\t\\n\\t\\t\\t\\t\\t\\t\\t\\t\\t\\t<td class=\"\">\\n\\t\\t\\t\\t\\t\\t\\t\\t\\t\\t\\t\\n\\t\\t\\t\\t\\t\\t\\t\\t\\t\\t\\t\\n\\t\\t\\t\\t\\t\\t\\t\\t\\t\\t\\t\\t\\n\\t\\t\\t\\t5.98\\n\\t\\t\\t\\n\\t\\t\\t\\t\\t\\t\\t\\t\\t\\t\\t\\n\\t\\t\\t\\t\\t\\t\\t\\t\\t\\t</td>\\n\\t\\t\\t\\t\\t\\t\\t\\t\\t\\t\\n\\t\\t\\t\\t\\t\\t\\t\\t\\t\\n\\t\\t\\t\\t\\t\\t\\t\\t\\t\\t\\n\\t\\t\\t\\t\\t\\t\\t\\t\\t\\t\\n\\t\\t\\t\\t\\t\\t\\t\\t\\t\\t\\n\\t\\t\\t\\t\\t\\t\\t\\t\\t\\t\\n\\t\\t\\t\\t\\t\\t\\t\\t\\t\\t\\t\\n\\t\\t\\t\\t\\t\\t\\t\\t\\t\\t\\n\\t\\t\\t\\t\\t\\t\\t\\t\\t\\t\\n\\t\\t\\t\\t\\t\\t\\t\\t\\t\\t<td class=\" t_line cell_strong\">\\n\\t\\t\\t\\t\\t\\t\\t\\t\\t\\t\\t\\n\\t\\t\\t\\t\\t\\t\\t\\t\\t\\t\\t\\n\\t\\t\\t\\t\\t\\t\\t\\t\\t\\t\\t\\t\\n\\t\\t\\t\\t13.16\\n\\t\\t\\t\\n\\t\\t\\t\\t\\t\\t\\t\\t\\t\\t\\t\\n\\t\\t\\t\\t\\t\\t\\t\\t\\t\\t</td>\\n\\t\\t\\t\\t\\t\\t\\t\\t\\t\\t\\n\\t\\t\\t\\t\\t\\t\\t\\t\\t\\n\\t\\t\\t\\t\\t\\t\\t\\t\\t\\t\\n\\t\\t\\t\\t\\t\\t\\t\\t\\t\\t\\n\\t\\t\\t\\t\\t\\t\\t\\t\\t\\t\\n\\t\\t\\t\\t\\t\\t\\t\\t\\t\\t\\n\\t\\t\\t\\t\\t\\t\\t\\t\\t\\t\\n\\t\\t\\t\\t\\t\\t\\t\\t\\t\\t<td class=\"\">\\n\\t\\t\\t\\t\\t\\t\\t\\t\\t\\t\\t\\n\\t\\t\\t\\t\\t\\t\\t\\t\\t\\t\\t\\n\\t\\t\\t\\t\\t\\t\\t\\t\\t\\t\\t\\t\\n\\t\\t\\t\\t2.47\\n\\t\\t\\t\\n\\t\\t\\t\\t\\t\\t\\t\\t\\t\\t\\t\\n\\t\\t\\t\\t\\t\\t\\t\\t\\t\\t</td>\\n\\t\\t\\t\\t\\t\\t\\t\\t\\t\\t\\n\\t\\t\\t\\t\\t\\t\\t\\t\\t\\n\\t\\t\\t\\t\\t\\t\\t\\t\\t\\t\\n\\t\\t\\t\\t\\t\\t\\t\\t\\t\\t\\n\\t\\t\\t\\t\\t\\t\\t\\t\\t\\t\\n\\t\\t\\t\\t\\t\\t\\t\\t\\t\\t\\n\\t\\t\\t\\t\\t\\t\\t\\t\\t\\t\\n\\t\\t\\t\\t\\t\\t\\t\\t\\t\\t<td class=\"\">\\n\\t\\t\\t\\t\\t\\t\\t\\t\\t\\t\\t\\n\\t\\t\\t\\t\\t\\t\\t\\t\\t\\t\\t\\n\\t\\t\\t\\t\\t\\t\\t\\t\\t\\t\\t\\t\\n\\t\\t\\t\\t2.87\\n\\t\\t\\t\\n\\t\\t\\t\\t\\t\\t\\t\\t\\t\\t\\t\\n\\t\\t\\t\\t\\t\\t\\t\\t\\t\\t</td>\\n\\t\\t\\t\\t\\t\\t\\t\\t\\t\\t\\n\\t\\t\\t\\t\\t\\t\\t\\t\\t\\n\\t\\t\\t\\t\\t\\t\\t\\t\\t\\t\\n\\t\\t\\t\\t\\t\\t\\t\\t\\t\\t\\n\\t\\t\\t\\t\\t\\t\\t\\t\\t\\t\\n\\t\\t\\t\\t\\t\\t\\t\\t\\t\\t\\n\\t\\t\\t\\t\\t\\t\\t\\t\\t\\t\\n\\t\\t\\t\\t\\t\\t\\t\\t\\t\\t<td class=\"\">\\n\\t\\t\\t\\t\\t\\t\\t\\t\\t\\t\\t\\n\\t\\t\\t\\t\\t\\t\\t\\t\\t\\t\\t\\n\\t\\t\\t\\t\\t\\t\\t\\t\\t\\t\\t\\t\\n\\t\\t\\t\\t8.67\\n\\t\\t\\t\\n\\t\\t\\t\\t\\t\\t\\t\\t\\t\\t\\t\\n\\t\\t\\t\\t\\t\\t\\t\\t\\t\\t</td>\\n\\t\\t\\t\\t\\t\\t\\t\\t\\t\\t\\n\\t\\t\\t\\t\\t\\t\\t\\t\\t\\n\\t\\t\\t\\t\\t\\t\\t\\t\\t\\t\\n\\t\\t\\t\\t\\t\\t\\t\\t\\t\\t\\n\\t\\t\\t\\t\\t\\t\\t\\t\\t\\t\\n\\t\\t\\t\\t\\t\\t\\t\\t\\t\\t\\n\\t\\t\\t\\t\\t\\t\\t\\t\\t\\t\\n\\t\\t\\t\\t\\t\\t\\t\\t\\t\\t<td class=\"\">\\n\\t\\t\\t\\t\\t\\t\\t\\t\\t\\t\\t\\n\\t\\t\\t\\t\\t\\t\\t\\t\\t\\t\\t\\n\\t\\t\\t\\t\\t\\t\\t\\t\\t\\t\\t\\t\\n\\t\\t\\t\\t9.36\\n\\t\\t\\t\\n\\t\\t\\t\\t\\t\\t\\t\\t\\t\\t\\t\\n\\t\\t\\t\\t\\t\\t\\t\\t\\t\\t</td>\\n\\t\\t\\t\\t\\t\\t\\t\\t\\t\\t\\n\\t\\t\\t\\t\\t\\t\\t\\t\\t\\n\\t\\t\\t\\t\\t\\t\\t\\t\\t\\t\\n\\t\\t\\t\\t\\t\\t\\t\\t\\t\\t\\n\\t\\t\\t\\t\\t\\t\\t\\t\\t\\t\\n\\t\\t\\t\\t\\t\\t\\t\\t\\t\\t\\n\\t\\t\\t\\t\\t\\t\\t\\t\\t\\t\\n\\t\\t\\t\\t\\t\\t\\t\\t\\t\\t<td class=\"\">\\n\\t\\t\\t\\t\\t\\t\\t\\t\\t\\t\\t\\n\\t\\t\\t\\t\\t\\t\\t\\t\\t\\t\\t\\n\\t\\t\\t\\t\\t\\t\\t\\t\\t\\t\\t\\t\\n\\t\\t\\t\\t9.39\\n\\t\\t\\t\\n\\t\\t\\t\\t\\t\\t\\t\\t\\t\\t\\t\\n\\t\\t\\t\\t\\t\\t\\t\\t\\t\\t</td>\\n\\t\\t\\t\\t\\t\\t\\t\\t\\t\\t\\n\\t\\t\\t\\t\\t\\t\\t\\t\\t\\n\\t\\t\\t\\t\\t\\t\\t\\t\\t\\t\\n\\t\\t\\t\\t\\t\\t\\t\\t\\t\\t\\n\\t\\t\\t\\t\\t\\t\\t\\t\\t\\t\\n\\t\\t\\t\\t\\t\\t\\t\\t\\t\\t\\n\\t\\t\\t\\t\\t\\t\\t\\t\\t\\t\\n\\t\\t\\t\\t\\t\\t\\t\\t\\t\\t\\t\\n\\t\\t\\t\\t\\t\\t\\t\\t\\t\\t\\n\\t\\t\\t\\t\\t\\t\\t\\t\\t\\t<td class=\" last cell_strong\">\\n\\t\\t\\t\\t\\t\\t\\t\\t\\t\\t\\t\\n\\t\\t\\t\\t\\t\\t\\t\\t\\t\\t\\t\\n\\t\\t\\t\\t\\t\\t\\t\\t\\t\\t\\t\\t\\n\\t\\t\\t\\t9.74\\n\\t\\t\\t\\n\\t\\t\\t\\t\\t\\t\\t\\t\\t\\t\\t\\n\\t\\t\\t\\t\\t\\t\\t\\t\\t\\t</td>\\n\\t\\t\\t\\t\\t\\t\\t\\t\\t\\t\\n\\t\\t\\t\\t\\t\\t\\t\\t\\t\\n\\t\\t\\t\\t\\t\\t\\t\\t</tr>\\n\\t\\t\\t\\t\\t\\t\\t\\t<tr class=\"line_end\">\\n\\t\\t\\t\\t\\t\\t\\t\\t\\t<th scope=\"row\" class=\"h_th2 th_cop_anal13\"><strong>ROE(\\xc1\\xf6\\xb9\\xe8\\xc1\\xd6\\xc1\\xd6)</strong></th>\\n\\t\\t\\t\\t\\t\\t\\t\\t\\t\\n\\t\\t\\t\\t\\t\\t\\t\\t\\t\\t\\n\\t\\t\\t\\t\\t\\t\\t\\t\\t\\t\\n\\t\\t\\t\\t\\t\\t\\t\\t\\t\\t\\n\\t\\t\\t\\t\\t\\t\\t\\t\\t\\t\\n\\t\\t\\t\\t\\t\\t\\t\\t\\t\\t\\n\\t\\t\\t\\t\\t\\t\\t\\t\\t\\t<td class=\"\">\\n\\t\\t\\t\\t\\t\\t\\t\\t\\t\\t\\t\\n\\t\\t\\t\\t\\t\\t\\t\\t\\t\\t\\t\\n\\t\\t\\t\\t\\t\\t\\t\\t\\t\\t\\t\\t\\n\\t\\t\\t\\t13.92\\n\\t\\t\\t\\n\\t\\t\\t\\t\\t\\t\\t\\t\\t\\t\\t\\n\\t\\t\\t\\t\\t\\t\\t\\t\\t\\t</td>\\n\\t\\t\\t\\t\\t\\t\\t\\t\\t\\t\\n\\t\\t\\t\\t\\t\\t\\t\\t\\t\\n\\t\\t\\t\\t\\t\\t\\t\\t\\t\\t\\n\\t\\t\\t\\t\\t\\t\\t\\t\\t\\t\\n\\t\\t\\t\\t\\t\\t\\t\\t\\t\\t\\n\\t\\t\\t\\t\\t\\t\\t\\t\\t\\t\\n\\t\\t\\t\\t\\t\\t\\t\\t\\t\\t\\n\\t\\t\\t\\t\\t\\t\\t\\t\\t\\t<td class=\"\">\\n\\t\\t\\t\\t\\t\\t\\t\\t\\t\\t\\t\\n\\t\\t\\t\\t\\t\\t\\t\\t\\t\\t\\t\\n\\t\\t\\t\\t\\t\\t\\t\\t\\t\\t\\t\\t\\n\\t\\t\\t\\t17.07\\n\\t\\t\\t\\n\\t\\t\\t\\t\\t\\t\\t\\t\\t\\t\\t\\n\\t\\t\\t\\t\\t\\t\\t\\t\\t\\t</td>\\n\\t\\t\\t\\t\\t\\t\\t\\t\\t\\t\\n\\t\\t\\t\\t\\t\\t\\t\\t\\t\\n\\t\\t\\t\\t\\t\\t\\t\\t\\t\\t\\n\\t\\t\\t\\t\\t\\t\\t\\t\\t\\t\\n\\t\\t\\t\\t\\t\\t\\t\\t\\t\\t\\n\\t\\t\\t\\t\\t\\t\\t\\t\\t\\t\\n\\t\\t\\t\\t\\t\\t\\t\\t\\t\\t\\n\\t\\t\\t\\t\\t\\t\\t\\t\\t\\t<td class=\"\">\\n\\t\\t\\t\\t\\t\\t\\t\\t\\t\\t\\t\\n\\t\\t\\t\\t\\t\\t\\t\\t\\t\\t\\t\\n\\t\\t\\t\\t\\t\\t\\t\\t\\t\\t\\t\\t\\n\\t\\t\\t\\t4.15\\n\\t\\t\\t\\n\\t\\t\\t\\t\\t\\t\\t\\t\\t\\t\\t\\n\\t\\t\\t\\t\\t\\t\\t\\t\\t\\t</td>\\n\\t\\t\\t\\t\\t\\t\\t\\t\\t\\t\\n\\t\\t\\t\\t\\t\\t\\t\\t\\t\\n\\t\\t\\t\\t\\t\\t\\t\\t\\t\\t\\n\\t\\t\\t\\t\\t\\t\\t\\t\\t\\t\\n\\t\\t\\t\\t\\t\\t\\t\\t\\t\\t\\n\\t\\t\\t\\t\\t\\t\\t\\t\\t\\t\\n\\t\\t\\t\\t\\t\\t\\t\\t\\t\\t\\t\\n\\t\\t\\t\\t\\t\\t\\t\\t\\t\\t\\n\\t\\t\\t\\t\\t\\t\\t\\t\\t\\t\\n\\t\\t\\t\\t\\t\\t\\t\\t\\t\\t<td class=\" t_line cell_strong\">\\n\\t\\t\\t\\t\\t\\t\\t\\t\\t\\t\\t\\n\\t\\t\\t\\t\\t\\t\\t\\t\\t\\t\\t\\n\\t\\t\\t\\t\\t\\t\\t\\t\\t\\t\\t\\t\\n\\t\\t\\t\\t10.83\\n\\t\\t\\t\\n\\t\\t\\t\\t\\t\\t\\t\\t\\t\\t\\t\\n\\t\\t\\t\\t\\t\\t\\t\\t\\t\\t</td>\\n\\t\\t\\t\\t\\t\\t\\t\\t\\t\\t\\n\\t\\t\\t\\t\\t\\t\\t\\t\\t\\n\\t\\t\\t\\t\\t\\t\\t\\t\\t\\t\\n\\t\\t\\t\\t\\t\\t\\t\\t\\t\\t\\n\\t\\t\\t\\t\\t\\t\\t\\t\\t\\t\\n\\t\\t\\t\\t\\t\\t\\t\\t\\t\\t\\n\\t\\t\\t\\t\\t\\t\\t\\t\\t\\t\\n\\t\\t\\t\\t\\t\\t\\t\\t\\t\\t<td class=\"\">\\n\\t\\t\\t\\t\\t\\t\\t\\t\\t\\t\\t\\n\\t\\t\\t\\t\\t\\t\\t\\t\\t\\t\\t\\n\\t\\t\\t\\t\\t\\t\\t\\t\\t\\t\\t\\t\\n\\t\\t\\t\\t13.71\\n\\t\\t\\t\\n\\t\\t\\t\\t\\t\\t\\t\\t\\t\\t\\t\\n\\t\\t\\t\\t\\t\\t\\t\\t\\t\\t</td>\\n\\t\\t\\t\\t\\t\\t\\t\\t\\t\\t\\n\\t\\t\\t\\t\\t\\t\\t\\t\\t\\n\\t\\t\\t\\t\\t\\t\\t\\t\\t\\t\\n\\t\\t\\t\\t\\t\\t\\t\\t\\t\\t\\n\\t\\t\\t\\t\\t\\t\\t\\t\\t\\t\\n\\t\\t\\t\\t\\t\\t\\t\\t\\t\\t\\n\\t\\t\\t\\t\\t\\t\\t\\t\\t\\t\\n\\t\\t\\t\\t\\t\\t\\t\\t\\t\\t<td class=\"\">\\n\\t\\t\\t\\t\\t\\t\\t\\t\\t\\t\\t\\n\\t\\t\\t\\t\\t\\t\\t\\t\\t\\t\\t\\n\\t\\t\\t\\t\\t\\t\\t\\t\\t\\t\\t\\t\\n\\t\\t\\t\\t10.66\\n\\t\\t\\t\\n\\t\\t\\t\\t\\t\\t\\t\\t\\t\\t\\t\\n\\t\\t\\t\\t\\t\\t\\t\\t\\t\\t</td>\\n\\t\\t\\t\\t\\t\\t\\t\\t\\t\\t\\n\\t\\t\\t\\t\\t\\t\\t\\t\\t\\n\\t\\t\\t\\t\\t\\t\\t\\t\\t\\t\\n\\t\\t\\t\\t\\t\\t\\t\\t\\t\\t\\n\\t\\t\\t\\t\\t\\t\\t\\t\\t\\t\\n\\t\\t\\t\\t\\t\\t\\t\\t\\t\\t\\n\\t\\t\\t\\t\\t\\t\\t\\t\\t\\t\\n\\t\\t\\t\\t\\t\\t\\t\\t\\t\\t<td class=\"\">\\n\\t\\t\\t\\t\\t\\t\\t\\t\\t\\t\\t\\n\\t\\t\\t\\t\\t\\t\\t\\t\\t\\t\\t\\n\\t\\t\\t\\t\\t\\t\\t\\t\\t\\t\\t\\t\\n\\t\\t\\t\\t9.27\\n\\t\\t\\t\\n\\t\\t\\t\\t\\t\\t\\t\\t\\t\\t\\t\\n\\t\\t\\t\\t\\t\\t\\t\\t\\t\\t</td>\\n\\t\\t\\t\\t\\t\\t\\t\\t\\t\\t\\n\\t\\t\\t\\t\\t\\t\\t\\t\\t\\n\\t\\t\\t\\t\\t\\t\\t\\t\\t\\t\\n\\t\\t\\t\\t\\t\\t\\t\\t\\t\\t\\n\\t\\t\\t\\t\\t\\t\\t\\t\\t\\t\\n\\t\\t\\t\\t\\t\\t\\t\\t\\t\\t\\n\\t\\t\\t\\t\\t\\t\\t\\t\\t\\t\\n\\t\\t\\t\\t\\t\\t\\t\\t\\t\\t<td class=\"\">\\n\\t\\t\\t\\t\\t\\t\\t\\t\\t\\t\\t\\n\\t\\t\\t\\t\\t\\t\\t\\t\\t\\t\\t\\n\\t\\t\\t\\t\\t\\t\\t\\t\\t\\t\\t\\t\\n\\t\\t\\t\\t4.15\\n\\t\\t\\t\\n\\t\\t\\t\\t\\t\\t\\t\\t\\t\\t\\t\\n\\t\\t\\t\\t\\t\\t\\t\\t\\t\\t</td>\\n\\t\\t\\t\\t\\t\\t\\t\\t\\t\\t\\n\\t\\t\\t\\t\\t\\t\\t\\t\\t\\n\\t\\t\\t\\t\\t\\t\\t\\t\\t\\t\\n\\t\\t\\t\\t\\t\\t\\t\\t\\t\\t\\n\\t\\t\\t\\t\\t\\t\\t\\t\\t\\t\\n\\t\\t\\t\\t\\t\\t\\t\\t\\t\\t\\n\\t\\t\\t\\t\\t\\t\\t\\t\\t\\t\\n\\t\\t\\t\\t\\t\\t\\t\\t\\t\\t<td class=\"\">\\n\\t\\t\\t\\t\\t\\t\\t\\t\\t\\t\\t\\n\\t\\t\\t\\t\\t\\t\\t\\t\\t\\t\\t\\n\\t\\t\\t\\t\\t\\t\\t\\t\\t\\t\\t\\t\\n\\t\\t\\t\\t5.53\\n\\t\\t\\t\\n\\t\\t\\t\\t\\t\\t\\t\\t\\t\\t\\t\\n\\t\\t\\t\\t\\t\\t\\t\\t\\t\\t</td>\\n\\t\\t\\t\\t\\t\\t\\t\\t\\t\\t\\n\\t\\t\\t\\t\\t\\t\\t\\t\\t\\n\\t\\t\\t\\t\\t\\t\\t\\t\\t\\t\\n\\t\\t\\t\\t\\t\\t\\t\\t\\t\\t\\n\\t\\t\\t\\t\\t\\t\\t\\t\\t\\t\\n\\t\\t\\t\\t\\t\\t\\t\\t\\t\\t\\t\\n\\t\\t\\t\\t\\t\\t\\t\\t\\t\\t\\n\\t\\t\\t\\t\\t\\t\\t\\t\\t\\t\\n\\t\\t\\t\\t\\t\\t\\t\\t\\t\\t\\n\\t\\t\\t\\t\\t\\t\\t\\t\\t\\t\\t\\n\\t\\t\\t\\t\\t\\t\\t\\t\\t\\t\\n\\t\\t\\t\\t\\t\\t\\t\\t\\t\\t<td class=\" null last cell_strong\">\\n\\t\\t\\t\\t\\t\\t\\t\\t\\t\\t\\t&nbsp;\\n\\t\\t\\t\\t\\t\\t\\t\\t\\t\\t\\t\\n\\t\\t\\t\\t\\t\\t\\t\\t\\t\\t</td>\\n\\t\\t\\t\\t\\t\\t\\t\\t\\t\\t\\n\\t\\t\\t\\t\\t\\t\\t\\t\\t\\n\\t\\t\\t\\t\\t\\t\\t\\t</tr>\\n\\t\\t\\t\\t\\t\\t\\t\\t<tr>\\n\\t\\t\\t\\t\\t\\t\\t\\t\\t<th scope=\"row\" class=\"h_th2 th_cop_anal14\"><strong>\\xba\\xce\\xc3\\xa4\\xba\\xf1\\xc0\\xb2</strong></th>\\n\\t\\t\\t\\t\\t\\t\\t\\t\\t\\n\\t\\t\\t\\t\\t\\t\\t\\t\\t\\t\\n\\t\\t\\t\\t\\t\\t\\t\\t\\t\\t\\n\\t\\t\\t\\t\\t\\t\\t\\t\\t\\t\\n\\t\\t\\t\\t\\t\\t\\t\\t\\t\\t\\n\\t\\t\\t\\t\\t\\t\\t\\t\\t\\t\\n\\t\\t\\t\\t\\t\\t\\t\\t\\t\\t<td class=\"\">\\n\\t\\t\\t\\t\\t\\t\\t\\t\\t\\t\\t\\n\\t\\t\\t\\t\\t\\t\\t\\t\\t\\t\\t\\n\\t\\t\\t\\t\\t\\t\\t\\t\\t\\t\\t\\t\\n\\t\\t\\t\\t39.92\\n\\t\\t\\t\\n\\t\\t\\t\\t\\t\\t\\t\\t\\t\\t\\t\\n\\t\\t\\t\\t\\t\\t\\t\\t\\t\\t</td>\\n\\t\\t\\t\\t\\t\\t\\t\\t\\t\\t\\n\\t\\t\\t\\t\\t\\t\\t\\t\\t\\n\\t\\t\\t\\t\\t\\t\\t\\t\\t\\t\\n\\t\\t\\t\\t\\t\\t\\t\\t\\t\\t\\n\\t\\t\\t\\t\\t\\t\\t\\t\\t\\t\\n\\t\\t\\t\\t\\t\\t\\t\\t\\t\\t\\n\\t\\t\\t\\t\\t\\t\\t\\t\\t\\t\\n\\t\\t\\t\\t\\t\\t\\t\\t\\t\\t<td class=\"\">\\n\\t\\t\\t\\t\\t\\t\\t\\t\\t\\t\\t\\n\\t\\t\\t\\t\\t\\t\\t\\t\\t\\t\\t\\n\\t\\t\\t\\t\\t\\t\\t\\t\\t\\t\\t\\t\\n\\t\\t\\t\\t26.41\\n\\t\\t\\t\\n\\t\\t\\t\\t\\t\\t\\t\\t\\t\\t\\t\\n\\t\\t\\t\\t\\t\\t\\t\\t\\t\\t</td>\\n\\t\\t\\t\\t\\t\\t\\t\\t\\t\\t\\n\\t\\t\\t\\t\\t\\t\\t\\t\\t\\n\\t\\t\\t\\t\\t\\t\\t\\t\\t\\t\\n\\t\\t\\t\\t\\t\\t\\t\\t\\t\\t\\n\\t\\t\\t\\t\\t\\t\\t\\t\\t\\t\\n\\t\\t\\t\\t\\t\\t\\t\\t\\t\\t\\n\\t\\t\\t\\t\\t\\t\\t\\t\\t\\t\\n\\t\\t\\t\\t\\t\\t\\t\\t\\t\\t<td class=\"\">\\n\\t\\t\\t\\t\\t\\t\\t\\t\\t\\t\\t\\n\\t\\t\\t\\t\\t\\t\\t\\t\\t\\t\\t\\n\\t\\t\\t\\t\\t\\t\\t\\t\\t\\t\\t\\t\\n\\t\\t\\t\\t25.36\\n\\t\\t\\t\\n\\t\\t\\t\\t\\t\\t\\t\\t\\t\\t\\t\\n\\t\\t\\t\\t\\t\\t\\t\\t\\t\\t</td>\\n\\t\\t\\t\\t\\t\\t\\t\\t\\t\\t\\n\\t\\t\\t\\t\\t\\t\\t\\t\\t\\n\\t\\t\\t\\t\\t\\t\\t\\t\\t\\t\\n\\t\\t\\t\\t\\t\\t\\t\\t\\t\\t\\n\\t\\t\\t\\t\\t\\t\\t\\t\\t\\t\\n\\t\\t\\t\\t\\t\\t\\t\\t\\t\\t\\t\\n\\t\\t\\t\\t\\t\\t\\t\\t\\t\\t\\n\\t\\t\\t\\t\\t\\t\\t\\t\\t\\t\\n\\t\\t\\t\\t\\t\\t\\t\\t\\t\\t\\t\\n\\t\\t\\t\\t\\t\\t\\t\\t\\t\\t\\n\\t\\t\\t\\t\\t\\t\\t\\t\\t\\t\\n\\t\\t\\t\\t\\t\\t\\t\\t\\t\\t<td class=\" null t_line cell_strong\">\\n\\t\\t\\t\\t\\t\\t\\t\\t\\t\\t\\t&nbsp;\\n\\t\\t\\t\\t\\t\\t\\t\\t\\t\\t\\t\\n\\t\\t\\t\\t\\t\\t\\t\\t\\t\\t</td>\\n\\t\\t\\t\\t\\t\\t\\t\\t\\t\\t\\n\\t\\t\\t\\t\\t\\t\\t\\t\\t\\n\\t\\t\\t\\t\\t\\t\\t\\t\\t\\t\\n\\t\\t\\t\\t\\t\\t\\t\\t\\t\\t\\n\\t\\t\\t\\t\\t\\t\\t\\t\\t\\t\\n\\t\\t\\t\\t\\t\\t\\t\\t\\t\\t\\n\\t\\t\\t\\t\\t\\t\\t\\t\\t\\t\\n\\t\\t\\t\\t\\t\\t\\t\\t\\t\\t<td class=\"\">\\n\\t\\t\\t\\t\\t\\t\\t\\t\\t\\t\\t\\n\\t\\t\\t\\t\\t\\t\\t\\t\\t\\t\\t\\n\\t\\t\\t\\t\\t\\t\\t\\t\\t\\t\\t\\t\\n\\t\\t\\t\\t26.21\\n\\t\\t\\t\\n\\t\\t\\t\\t\\t\\t\\t\\t\\t\\t\\t\\n\\t\\t\\t\\t\\t\\t\\t\\t\\t\\t</td>\\n\\t\\t\\t\\t\\t\\t\\t\\t\\t\\t\\n\\t\\t\\t\\t\\t\\t\\t\\t\\t\\n\\t\\t\\t\\t\\t\\t\\t\\t\\t\\t\\n\\t\\t\\t\\t\\t\\t\\t\\t\\t\\t\\n\\t\\t\\t\\t\\t\\t\\t\\t\\t\\t\\n\\t\\t\\t\\t\\t\\t\\t\\t\\t\\t\\n\\t\\t\\t\\t\\t\\t\\t\\t\\t\\t\\n\\t\\t\\t\\t\\t\\t\\t\\t\\t\\t<td class=\"\">\\n\\t\\t\\t\\t\\t\\t\\t\\t\\t\\t\\t\\n\\t\\t\\t\\t\\t\\t\\t\\t\\t\\t\\t\\n\\t\\t\\t\\t\\t\\t\\t\\t\\t\\t\\t\\t\\n\\t\\t\\t\\t24.80\\n\\t\\t\\t\\n\\t\\t\\t\\t\\t\\t\\t\\t\\t\\t\\t\\n\\t\\t\\t\\t\\t\\t\\t\\t\\t\\t</td>\\n\\t\\t\\t\\t\\t\\t\\t\\t\\t\\t\\n\\t\\t\\t\\t\\t\\t\\t\\t\\t\\n\\t\\t\\t\\t\\t\\t\\t\\t\\t\\t\\n\\t\\t\\t\\t\\t\\t\\t\\t\\t\\t\\n\\t\\t\\t\\t\\t\\t\\t\\t\\t\\t\\n\\t\\t\\t\\t\\t\\t\\t\\t\\t\\t\\n\\t\\t\\t\\t\\t\\t\\t\\t\\t\\t\\n\\t\\t\\t\\t\\t\\t\\t\\t\\t\\t<td class=\"\">\\n\\t\\t\\t\\t\\t\\t\\t\\t\\t\\t\\t\\n\\t\\t\\t\\t\\t\\t\\t\\t\\t\\t\\t\\n\\t\\t\\t\\t\\t\\t\\t\\t\\t\\t\\t\\t\\n\\t\\t\\t\\t24.89\\n\\t\\t\\t\\n\\t\\t\\t\\t\\t\\t\\t\\t\\t\\t\\t\\n\\t\\t\\t\\t\\t\\t\\t\\t\\t\\t</td>\\n\\t\\t\\t\\t\\t\\t\\t\\t\\t\\t\\n\\t\\t\\t\\t\\t\\t\\t\\t\\t\\n\\t\\t\\t\\t\\t\\t\\t\\t\\t\\t\\n\\t\\t\\t\\t\\t\\t\\t\\t\\t\\t\\n\\t\\t\\t\\t\\t\\t\\t\\t\\t\\t\\n\\t\\t\\t\\t\\t\\t\\t\\t\\t\\t\\n\\t\\t\\t\\t\\t\\t\\t\\t\\t\\t\\n\\t\\t\\t\\t\\t\\t\\t\\t\\t\\t<td class=\"\">\\n\\t\\t\\t\\t\\t\\t\\t\\t\\t\\t\\t\\n\\t\\t\\t\\t\\t\\t\\t\\t\\t\\t\\t\\n\\t\\t\\t\\t\\t\\t\\t\\t\\t\\t\\t\\t\\n\\t\\t\\t\\t25.36\\n\\t\\t\\t\\n\\t\\t\\t\\t\\t\\t\\t\\t\\t\\t\\t\\n\\t\\t\\t\\t\\t\\t\\t\\t\\t\\t</td>\\n\\t\\t\\t\\t\\t\\t\\t\\t\\t\\t\\n\\t\\t\\t\\t\\t\\t\\t\\t\\t\\n\\t\\t\\t\\t\\t\\t\\t\\t\\t\\t\\n\\t\\t\\t\\t\\t\\t\\t\\t\\t\\t\\n\\t\\t\\t\\t\\t\\t\\t\\t\\t\\t\\n\\t\\t\\t\\t\\t\\t\\t\\t\\t\\t\\n\\t\\t\\t\\t\\t\\t\\t\\t\\t\\t\\n\\t\\t\\t\\t\\t\\t\\t\\t\\t\\t<td class=\"\">\\n\\t\\t\\t\\t\\t\\t\\t\\t\\t\\t\\t\\n\\t\\t\\t\\t\\t\\t\\t\\t\\t\\t\\t\\n\\t\\t\\t\\t\\t\\t\\t\\t\\t\\t\\t\\t\\n\\t\\t\\t\\t26.61\\n\\t\\t\\t\\n\\t\\t\\t\\t\\t\\t\\t\\t\\t\\t\\t\\n\\t\\t\\t\\t\\t\\t\\t\\t\\t\\t</td>\\n\\t\\t\\t\\t\\t\\t\\t\\t\\t\\t\\n\\t\\t\\t\\t\\t\\t\\t\\t\\t\\n\\t\\t\\t\\t\\t\\t\\t\\t\\t\\t\\n\\t\\t\\t\\t\\t\\t\\t\\t\\t\\t\\n\\t\\t\\t\\t\\t\\t\\t\\t\\t\\t\\n\\t\\t\\t\\t\\t\\t\\t\\t\\t\\t\\t\\n\\t\\t\\t\\t\\t\\t\\t\\t\\t\\t\\n\\t\\t\\t\\t\\t\\t\\t\\t\\t\\t\\n\\t\\t\\t\\t\\t\\t\\t\\t\\t\\t\\n\\t\\t\\t\\t\\t\\t\\t\\t\\t\\t\\t\\n\\t\\t\\t\\t\\t\\t\\t\\t\\t\\t\\n\\t\\t\\t\\t\\t\\t\\t\\t\\t\\t<td class=\" null last cell_strong\">\\n\\t\\t\\t\\t\\t\\t\\t\\t\\t\\t\\t&nbsp;\\n\\t\\t\\t\\t\\t\\t\\t\\t\\t\\t\\t\\n\\t\\t\\t\\t\\t\\t\\t\\t\\t\\t</td>\\n\\t\\t\\t\\t\\t\\t\\t\\t\\t\\t\\n\\t\\t\\t\\t\\t\\t\\t\\t\\t\\n\\t\\t\\t\\t\\t\\t\\t\\t</tr>\\n\\t\\t\\t\\t\\t\\t\\t\\t<tr>\\n\\t\\t\\t\\t\\t\\t\\t\\t\\t<th scope=\"row\" class=\"h_th2 th_cop_anal15\"><strong>\\xb4\\xe7\\xc1\\xc2\\xba\\xf1\\xc0\\xb2</strong></th>\\n\\t\\t\\t\\t\\t\\t\\t\\t\\t\\n\\t\\t\\t\\t\\t\\t\\t\\t\\t\\t\\n\\t\\t\\t\\t\\t\\t\\t\\t\\t\\t\\n\\t\\t\\t\\t\\t\\t\\t\\t\\t\\t\\n\\t\\t\\t\\t\\t\\t\\t\\t\\t\\t\\n\\t\\t\\t\\t\\t\\t\\t\\t\\t\\t\\n\\t\\t\\t\\t\\t\\t\\t\\t\\t\\t<td class=\"\">\\n\\t\\t\\t\\t\\t\\t\\t\\t\\t\\t\\t\\n\\t\\t\\t\\t\\t\\t\\t\\t\\t\\t\\t\\n\\t\\t\\t\\t\\t\\t\\t\\t\\t\\t\\t\\t\\n\\t\\t\\t\\t196.75\\n\\t\\t\\t\\n\\t\\t\\t\\t\\t\\t\\t\\t\\t\\t\\t\\n\\t\\t\\t\\t\\t\\t\\t\\t\\t\\t</td>\\n\\t\\t\\t\\t\\t\\t\\t\\t\\t\\t\\n\\t\\t\\t\\t\\t\\t\\t\\t\\t\\n\\t\\t\\t\\t\\t\\t\\t\\t\\t\\t\\n\\t\\t\\t\\t\\t\\t\\t\\t\\t\\t\\n\\t\\t\\t\\t\\t\\t\\t\\t\\t\\t\\n\\t\\t\\t\\t\\t\\t\\t\\t\\t\\t\\n\\t\\t\\t\\t\\t\\t\\t\\t\\t\\t\\n\\t\\t\\t\\t\\t\\t\\t\\t\\t\\t<td class=\"\">\\n\\t\\t\\t\\t\\t\\t\\t\\t\\t\\t\\t\\n\\t\\t\\t\\t\\t\\t\\t\\t\\t\\t\\t\\n\\t\\t\\t\\t\\t\\t\\t\\t\\t\\t\\t\\t\\n\\t\\t\\t\\t211.68\\n\\t\\t\\t\\n\\t\\t\\t\\t\\t\\t\\t\\t\\t\\t\\t\\n\\t\\t\\t\\t\\t\\t\\t\\t\\t\\t</td>\\n\\t\\t\\t\\t\\t\\t\\t\\t\\t\\t\\n\\t\\t\\t\\t\\t\\t\\t\\t\\t\\n\\t\\t\\t\\t\\t\\t\\t\\t\\t\\t\\n\\t\\t\\t\\t\\t\\t\\t\\t\\t\\t\\n\\t\\t\\t\\t\\t\\t\\t\\t\\t\\t\\n\\t\\t\\t\\t\\t\\t\\t\\t\\t\\t\\n\\t\\t\\t\\t\\t\\t\\t\\t\\t\\t\\n\\t\\t\\t\\t\\t\\t\\t\\t\\t\\t<td class=\"\">\\n\\t\\t\\t\\t\\t\\t\\t\\t\\t\\t\\t\\n\\t\\t\\t\\t\\t\\t\\t\\t\\t\\t\\t\\n\\t\\t\\t\\t\\t\\t\\t\\t\\t\\t\\t\\t\\n\\t\\t\\t\\t189.46\\n\\t\\t\\t\\n\\t\\t\\t\\t\\t\\t\\t\\t\\t\\t\\t\\n\\t\\t\\t\\t\\t\\t\\t\\t\\t\\t</td>\\n\\t\\t\\t\\t\\t\\t\\t\\t\\t\\t\\n\\t\\t\\t\\t\\t\\t\\t\\t\\t\\n\\t\\t\\t\\t\\t\\t\\t\\t\\t\\t\\n\\t\\t\\t\\t\\t\\t\\t\\t\\t\\t\\n\\t\\t\\t\\t\\t\\t\\t\\t\\t\\t\\n\\t\\t\\t\\t\\t\\t\\t\\t\\t\\t\\t\\n\\t\\t\\t\\t\\t\\t\\t\\t\\t\\t\\n\\t\\t\\t\\t\\t\\t\\t\\t\\t\\t\\n\\t\\t\\t\\t\\t\\t\\t\\t\\t\\t\\t\\n\\t\\t\\t\\t\\t\\t\\t\\t\\t\\t\\n\\t\\t\\t\\t\\t\\t\\t\\t\\t\\t\\n\\t\\t\\t\\t\\t\\t\\t\\t\\t\\t<td class=\" null t_line cell_strong\">\\n\\t\\t\\t\\t\\t\\t\\t\\t\\t\\t\\t&nbsp;\\n\\t\\t\\t\\t\\t\\t\\t\\t\\t\\t\\t\\n\\t\\t\\t\\t\\t\\t\\t\\t\\t\\t</td>\\n\\t\\t\\t\\t\\t\\t\\t\\t\\t\\t\\n\\t\\t\\t\\t\\t\\t\\t\\t\\t\\n\\t\\t\\t\\t\\t\\t\\t\\t\\t\\t\\n\\t\\t\\t\\t\\t\\t\\t\\t\\t\\t\\n\\t\\t\\t\\t\\t\\t\\t\\t\\t\\t\\n\\t\\t\\t\\t\\t\\t\\t\\t\\t\\t\\n\\t\\t\\t\\t\\t\\t\\t\\t\\t\\t\\n\\t\\t\\t\\t\\t\\t\\t\\t\\t\\t<td class=\"\">\\n\\t\\t\\t\\t\\t\\t\\t\\t\\t\\t\\t\\n\\t\\t\\t\\t\\t\\t\\t\\t\\t\\t\\t\\n\\t\\t\\t\\t\\t\\t\\t\\t\\t\\t\\t\\t\\n\\t\\t\\t\\t210.35\\n\\t\\t\\t\\n\\t\\t\\t\\t\\t\\t\\t\\t\\t\\t\\t\\n\\t\\t\\t\\t\\t\\t\\t\\t\\t\\t</td>\\n\\t\\t\\t\\t\\t\\t\\t\\t\\t\\t\\n\\t\\t\\t\\t\\t\\t\\t\\t\\t\\n\\t\\t\\t\\t\\t\\t\\t\\t\\t\\t\\n\\t\\t\\t\\t\\t\\t\\t\\t\\t\\t\\n\\t\\t\\t\\t\\t\\t\\t\\t\\t\\t\\n\\t\\t\\t\\t\\t\\t\\t\\t\\t\\t\\n\\t\\t\\t\\t\\t\\t\\t\\t\\t\\t\\n\\t\\t\\t\\t\\t\\t\\t\\t\\t\\t<td class=\"\">\\n\\t\\t\\t\\t\\t\\t\\t\\t\\t\\t\\t\\n\\t\\t\\t\\t\\t\\t\\t\\t\\t\\t\\t\\n\\t\\t\\t\\t\\t\\t\\t\\t\\t\\t\\t\\t\\n\\t\\t\\t\\t209.73\\n\\t\\t\\t\\n\\t\\t\\t\\t\\t\\t\\t\\t\\t\\t\\t\\n\\t\\t\\t\\t\\t\\t\\t\\t\\t\\t</td>\\n\\t\\t\\t\\t\\t\\t\\t\\t\\t\\t\\n\\t\\t\\t\\t\\t\\t\\t\\t\\t\\n\\t\\t\\t\\t\\t\\t\\t\\t\\t\\t\\n\\t\\t\\t\\t\\t\\t\\t\\t\\t\\t\\n\\t\\t\\t\\t\\t\\t\\t\\t\\t\\t\\n\\t\\t\\t\\t\\t\\t\\t\\t\\t\\t\\n\\t\\t\\t\\t\\t\\t\\t\\t\\t\\t\\n\\t\\t\\t\\t\\t\\t\\t\\t\\t\\t<td class=\"\">\\n\\t\\t\\t\\t\\t\\t\\t\\t\\t\\t\\t\\n\\t\\t\\t\\t\\t\\t\\t\\t\\t\\t\\t\\n\\t\\t\\t\\t\\t\\t\\t\\t\\t\\t\\t\\t\\n\\t\\t\\t\\t205.30\\n\\t\\t\\t\\n\\t\\t\\t\\t\\t\\t\\t\\t\\t\\t\\t\\n\\t\\t\\t\\t\\t\\t\\t\\t\\t\\t</td>\\n\\t\\t\\t\\t\\t\\t\\t\\t\\t\\t\\n\\t\\t\\t\\t\\t\\t\\t\\t\\t\\n\\t\\t\\t\\t\\t\\t\\t\\t\\t\\t\\n\\t\\t\\t\\t\\t\\t\\t\\t\\t\\t\\n\\t\\t\\t\\t\\t\\t\\t\\t\\t\\t\\n\\t\\t\\t\\t\\t\\t\\t\\t\\t\\t\\n\\t\\t\\t\\t\\t\\t\\t\\t\\t\\t\\n\\t\\t\\t\\t\\t\\t\\t\\t\\t\\t<td class=\"\">\\n\\t\\t\\t\\t\\t\\t\\t\\t\\t\\t\\t\\n\\t\\t\\t\\t\\t\\t\\t\\t\\t\\t\\t\\n\\t\\t\\t\\t\\t\\t\\t\\t\\t\\t\\t\\t\\n\\t\\t\\t\\t189.46\\n\\t\\t\\t\\n\\t\\t\\t\\t\\t\\t\\t\\t\\t\\t\\t\\n\\t\\t\\t\\t\\t\\t\\t\\t\\t\\t</td>\\n\\t\\t\\t\\t\\t\\t\\t\\t\\t\\t\\n\\t\\t\\t\\t\\t\\t\\t\\t\\t\\n\\t\\t\\t\\t\\t\\t\\t\\t\\t\\t\\n\\t\\t\\t\\t\\t\\t\\t\\t\\t\\t\\n\\t\\t\\t\\t\\t\\t\\t\\t\\t\\t\\n\\t\\t\\t\\t\\t\\t\\t\\t\\t\\t\\n\\t\\t\\t\\t\\t\\t\\t\\t\\t\\t\\n\\t\\t\\t\\t\\t\\t\\t\\t\\t\\t<td class=\"\">\\n\\t\\t\\t\\t\\t\\t\\t\\t\\t\\t\\t\\n\\t\\t\\t\\t\\t\\t\\t\\t\\t\\t\\t\\n\\t\\t\\t\\t\\t\\t\\t\\t\\t\\t\\t\\t\\n\\t\\t\\t\\t189.76\\n\\t\\t\\t\\n\\t\\t\\t\\t\\t\\t\\t\\t\\t\\t\\t\\n\\t\\t\\t\\t\\t\\t\\t\\t\\t\\t</td>\\n\\t\\t\\t\\t\\t\\t\\t\\t\\t\\t\\n\\t\\t\\t\\t\\t\\t\\t\\t\\t\\n\\t\\t\\t\\t\\t\\t\\t\\t\\t\\t\\n\\t\\t\\t\\t\\t\\t\\t\\t\\t\\t\\n\\t\\t\\t\\t\\t\\t\\t\\t\\t\\t\\n\\t\\t\\t\\t\\t\\t\\t\\t\\t\\t\\t\\n\\t\\t\\t\\t\\t\\t\\t\\t\\t\\t\\n\\t\\t\\t\\t\\t\\t\\t\\t\\t\\t\\n\\t\\t\\t\\t\\t\\t\\t\\t\\t\\t\\n\\t\\t\\t\\t\\t\\t\\t\\t\\t\\t\\t\\n\\t\\t\\t\\t\\t\\t\\t\\t\\t\\t\\n\\t\\t\\t\\t\\t\\t\\t\\t\\t\\t<td class=\" null last cell_strong\">\\n\\t\\t\\t\\t\\t\\t\\t\\t\\t\\t\\t&nbsp;\\n\\t\\t\\t\\t\\t\\t\\t\\t\\t\\t\\t\\n\\t\\t\\t\\t\\t\\t\\t\\t\\t\\t</td>\\n\\t\\t\\t\\t\\t\\t\\t\\t\\t\\t\\n\\t\\t\\t\\t\\t\\t\\t\\t\\t\\n\\t\\t\\t\\t\\t\\t\\t\\t</tr>\\n\\t\\t\\t\\t\\t\\t\\t\\t<tr class=\"line_end\">\\n\\t\\t\\t\\t\\t\\t\\t\\t\\t<th scope=\"row\" class=\"h_th2 th_cop_anal16\"><strong>\\xc0\\xaf\\xba\\xb8\\xc0\\xb2</strong></th>\\n\\t\\t\\t\\t\\t\\t\\t\\t\\t\\n\\t\\t\\t\\t\\t\\t\\t\\t\\t\\t\\n\\t\\t\\t\\t\\t\\t\\t\\t\\t\\t\\n\\t\\t\\t\\t\\t\\t\\t\\t\\t\\t\\n\\t\\t\\t\\t\\t\\t\\t\\t\\t\\t\\n\\t\\t\\t\\t\\t\\t\\t\\t\\t\\t\\n\\t\\t\\t\\t\\t\\t\\t\\t\\t\\t<td class=\"\">\\n\\t\\t\\t\\t\\t\\t\\t\\t\\t\\t\\t\\n\\t\\t\\t\\t\\t\\t\\t\\t\\t\\t\\t\\n\\t\\t\\t\\t\\t\\t\\t\\t\\t\\t\\t\\t\\n\\t\\t\\t\\t33,143.62\\n\\t\\t\\t\\n\\t\\t\\t\\t\\t\\t\\t\\t\\t\\t\\t\\n\\t\\t\\t\\t\\t\\t\\t\\t\\t\\t</td>\\n\\t\\t\\t\\t\\t\\t\\t\\t\\t\\t\\n\\t\\t\\t\\t\\t\\t\\t\\t\\t\\n\\t\\t\\t\\t\\t\\t\\t\\t\\t\\t\\n\\t\\t\\t\\t\\t\\t\\t\\t\\t\\t\\n\\t\\t\\t\\t\\t\\t\\t\\t\\t\\t\\n\\t\\t\\t\\t\\t\\t\\t\\t\\t\\t\\n\\t\\t\\t\\t\\t\\t\\t\\t\\t\\t\\n\\t\\t\\t\\t\\t\\t\\t\\t\\t\\t<td class=\"\">\\n\\t\\t\\t\\t\\t\\t\\t\\t\\t\\t\\t\\n\\t\\t\\t\\t\\t\\t\\t\\t\\t\\t\\t\\n\\t\\t\\t\\t\\t\\t\\t\\t\\t\\t\\t\\t\\n\\t\\t\\t\\t38,144.29\\n\\t\\t\\t\\n\\t\\t\\t\\t\\t\\t\\t\\t\\t\\t\\t\\n\\t\\t\\t\\t\\t\\t\\t\\t\\t\\t</td>\\n\\t\\t\\t\\t\\t\\t\\t\\t\\t\\t\\n\\t\\t\\t\\t\\t\\t\\t\\t\\t\\n\\t\\t\\t\\t\\t\\t\\t\\t\\t\\t\\n\\t\\t\\t\\t\\t\\t\\t\\t\\t\\t\\n\\t\\t\\t\\t\\t\\t\\t\\t\\t\\t\\n\\t\\t\\t\\t\\t\\t\\t\\t\\t\\t\\n\\t\\t\\t\\t\\t\\t\\t\\t\\t\\t\\n\\t\\t\\t\\t\\t\\t\\t\\t\\t\\t<td class=\"\">\\n\\t\\t\\t\\t\\t\\t\\t\\t\\t\\t\\t\\n\\t\\t\\t\\t\\t\\t\\t\\t\\t\\t\\t\\n\\t\\t\\t\\t\\t\\t\\t\\t\\t\\t\\t\\t\\n\\t\\t\\t\\t39,114.28\\n\\t\\t\\t\\n\\t\\t\\t\\t\\t\\t\\t\\t\\t\\t\\t\\n\\t\\t\\t\\t\\t\\t\\t\\t\\t\\t</td>\\n\\t\\t\\t\\t\\t\\t\\t\\t\\t\\t\\n\\t\\t\\t\\t\\t\\t\\t\\t\\t\\n\\t\\t\\t\\t\\t\\t\\t\\t\\t\\t\\n\\t\\t\\t\\t\\t\\t\\t\\t\\t\\t\\n\\t\\t\\t\\t\\t\\t\\t\\t\\t\\t\\n\\t\\t\\t\\t\\t\\t\\t\\t\\t\\t\\t\\n\\t\\t\\t\\t\\t\\t\\t\\t\\t\\t\\n\\t\\t\\t\\t\\t\\t\\t\\t\\t\\t\\n\\t\\t\\t\\t\\t\\t\\t\\t\\t\\t\\t\\n\\t\\t\\t\\t\\t\\t\\t\\t\\t\\t\\n\\t\\t\\t\\t\\t\\t\\t\\t\\t\\t\\n\\t\\t\\t\\t\\t\\t\\t\\t\\t\\t<td class=\" null t_line cell_strong\">\\n\\t\\t\\t\\t\\t\\t\\t\\t\\t\\t\\t&nbsp;\\n\\t\\t\\t\\t\\t\\t\\t\\t\\t\\t\\t\\n\\t\\t\\t\\t\\t\\t\\t\\t\\t\\t</td>\\n\\t\\t\\t\\t\\t\\t\\t\\t\\t\\t\\n\\t\\t\\t\\t\\t\\t\\t\\t\\t\\n\\t\\t\\t\\t\\t\\t\\t\\t\\t\\t\\n\\t\\t\\t\\t\\t\\t\\t\\t\\t\\t\\n\\t\\t\\t\\t\\t\\t\\t\\t\\t\\t\\n\\t\\t\\t\\t\\t\\t\\t\\t\\t\\t\\n\\t\\t\\t\\t\\t\\t\\t\\t\\t\\t\\n\\t\\t\\t\\t\\t\\t\\t\\t\\t\\t<td class=\"\">\\n\\t\\t\\t\\t\\t\\t\\t\\t\\t\\t\\t\\n\\t\\t\\t\\t\\t\\t\\t\\t\\t\\t\\t\\n\\t\\t\\t\\t\\t\\t\\t\\t\\t\\t\\t\\t\\n\\t\\t\\t\\t38,025.67\\n\\t\\t\\t\\n\\t\\t\\t\\t\\t\\t\\t\\t\\t\\t\\t\\n\\t\\t\\t\\t\\t\\t\\t\\t\\t\\t</td>\\n\\t\\t\\t\\t\\t\\t\\t\\t\\t\\t\\n\\t\\t\\t\\t\\t\\t\\t\\t\\t\\n\\t\\t\\t\\t\\t\\t\\t\\t\\t\\t\\n\\t\\t\\t\\t\\t\\t\\t\\t\\t\\t\\n\\t\\t\\t\\t\\t\\t\\t\\t\\t\\t\\n\\t\\t\\t\\t\\t\\t\\t\\t\\t\\t\\n\\t\\t\\t\\t\\t\\t\\t\\t\\t\\t\\n\\t\\t\\t\\t\\t\\t\\t\\t\\t\\t<td class=\"\">\\n\\t\\t\\t\\t\\t\\t\\t\\t\\t\\t\\t\\n\\t\\t\\t\\t\\t\\t\\t\\t\\t\\t\\t\\n\\t\\t\\t\\t\\t\\t\\t\\t\\t\\t\\t\\t\\n\\t\\t\\t\\t38,184.87\\n\\t\\t\\t\\n\\t\\t\\t\\t\\t\\t\\t\\t\\t\\t\\t\\n\\t\\t\\t\\t\\t\\t\\t\\t\\t\\t</td>\\n\\t\\t\\t\\t\\t\\t\\t\\t\\t\\t\\n\\t\\t\\t\\t\\t\\t\\t\\t\\t\\n\\t\\t\\t\\t\\t\\t\\t\\t\\t\\t\\n\\t\\t\\t\\t\\t\\t\\t\\t\\t\\t\\n\\t\\t\\t\\t\\t\\t\\t\\t\\t\\t\\n\\t\\t\\t\\t\\t\\t\\t\\t\\t\\t\\n\\t\\t\\t\\t\\t\\t\\t\\t\\t\\t\\n\\t\\t\\t\\t\\t\\t\\t\\t\\t\\t<td class=\"\">\\n\\t\\t\\t\\t\\t\\t\\t\\t\\t\\t\\t\\n\\t\\t\\t\\t\\t\\t\\t\\t\\t\\t\\t\\n\\t\\t\\t\\t\\t\\t\\t\\t\\t\\t\\t\\t\\n\\t\\t\\t\\t38,609.91\\n\\t\\t\\t\\n\\t\\t\\t\\t\\t\\t\\t\\t\\t\\t\\t\\n\\t\\t\\t\\t\\t\\t\\t\\t\\t\\t</td>\\n\\t\\t\\t\\t\\t\\t\\t\\t\\t\\t\\n\\t\\t\\t\\t\\t\\t\\t\\t\\t\\n\\t\\t\\t\\t\\t\\t\\t\\t\\t\\t\\n\\t\\t\\t\\t\\t\\t\\t\\t\\t\\t\\n\\t\\t\\t\\t\\t\\t\\t\\t\\t\\t\\n\\t\\t\\t\\t\\t\\t\\t\\t\\t\\t\\n\\t\\t\\t\\t\\t\\t\\t\\t\\t\\t\\n\\t\\t\\t\\t\\t\\t\\t\\t\\t\\t<td class=\"\">\\n\\t\\t\\t\\t\\t\\t\\t\\t\\t\\t\\t\\n\\t\\t\\t\\t\\t\\t\\t\\t\\t\\t\\t\\n\\t\\t\\t\\t\\t\\t\\t\\t\\t\\t\\t\\t\\n\\t\\t\\t\\t39,114.28\\n\\t\\t\\t\\n\\t\\t\\t\\t\\t\\t\\t\\t\\t\\t\\t\\n\\t\\t\\t\\t\\t\\t\\t\\t\\t\\t</td>\\n\\t\\t\\t\\t\\t\\t\\t\\t\\t\\t\\n\\t\\t\\t\\t\\t\\t\\t\\t\\t\\n\\t\\t\\t\\t\\t\\t\\t\\t\\t\\t\\n\\t\\t\\t\\t\\t\\t\\t\\t\\t\\t\\n\\t\\t\\t\\t\\t\\t\\t\\t\\t\\t\\n\\t\\t\\t\\t\\t\\t\\t\\t\\t\\t\\n\\t\\t\\t\\t\\t\\t\\t\\t\\t\\t\\n\\t\\t\\t\\t\\t\\t\\t\\t\\t\\t<td class=\"\">\\n\\t\\t\\t\\t\\t\\t\\t\\t\\t\\t\\t\\n\\t\\t\\t\\t\\t\\t\\t\\t\\t\\t\\t\\n\\t\\t\\t\\t\\t\\t\\t\\t\\t\\t\\t\\t\\n\\t\\t\\t\\t39,581.75\\n\\t\\t\\t\\n\\t\\t\\t\\t\\t\\t\\t\\t\\t\\t\\t\\n\\t\\t\\t\\t\\t\\t\\t\\t\\t\\t</td>\\n\\t\\t\\t\\t\\t\\t\\t\\t\\t\\t\\n\\t\\t\\t\\t\\t\\t\\t\\t\\t\\n\\t\\t\\t\\t\\t\\t\\t\\t\\t\\t\\n\\t\\t\\t\\t\\t\\t\\t\\t\\t\\t\\n\\t\\t\\t\\t\\t\\t\\t\\t\\t\\t\\n\\t\\t\\t\\t\\t\\t\\t\\t\\t\\t\\t\\n\\t\\t\\t\\t\\t\\t\\t\\t\\t\\t\\n\\t\\t\\t\\t\\t\\t\\t\\t\\t\\t\\n\\t\\t\\t\\t\\t\\t\\t\\t\\t\\t\\n\\t\\t\\t\\t\\t\\t\\t\\t\\t\\t\\t\\n\\t\\t\\t\\t\\t\\t\\t\\t\\t\\t\\n\\t\\t\\t\\t\\t\\t\\t\\t\\t\\t<td class=\" null last cell_strong\">\\n\\t\\t\\t\\t\\t\\t\\t\\t\\t\\t\\t&nbsp;\\n\\t\\t\\t\\t\\t\\t\\t\\t\\t\\t\\t\\n\\t\\t\\t\\t\\t\\t\\t\\t\\t\\t</td>\\n\\t\\t\\t\\t\\t\\t\\t\\t\\t\\t\\n\\t\\t\\t\\t\\t\\t\\t\\t\\t\\n\\t\\t\\t\\t\\t\\t\\t\\t</tr>\\n\\t\\t\\t\\t\\t\\t\\t\\t<tr>\\n\\t\\t\\t\\t\\t\\t\\t\\t\\t<th scope=\"row\" class=\"h_th2 th_cop_anal17\"><strong>EPS(\\xbf\\xf8)</strong></th>\\n\\t\\t\\t\\t\\t\\t\\t\\t\\t\\n\\t\\t\\t\\t\\t\\t\\t\\t\\t\\t\\n\\t\\t\\t\\t\\t\\t\\t\\t\\t\\t\\n\\t\\t\\t\\t\\t\\t\\t\\t\\t\\t\\n\\t\\t\\t\\t\\t\\t\\t\\t\\t\\t\\n\\t\\t\\t\\t\\t\\t\\t\\t\\t\\t\\n\\t\\t\\t\\t\\t\\t\\t\\t\\t\\t<td class=\"\">\\n\\t\\t\\t\\t\\t\\t\\t\\t\\t\\t\\t\\n\\t\\t\\t\\t\\t\\t\\t\\t\\t\\t\\t\\n\\t\\t\\t\\t\\t\\t\\t\\t\\t\\t\\t\\t\\n\\t\\t\\t\\t5,777\\n\\t\\t\\t\\n\\t\\t\\t\\t\\t\\t\\t\\t\\t\\t\\t\\n\\t\\t\\t\\t\\t\\t\\t\\t\\t\\t</td>\\n\\t\\t\\t\\t\\t\\t\\t\\t\\t\\t\\n\\t\\t\\t\\t\\t\\t\\t\\t\\t\\n\\t\\t\\t\\t\\t\\t\\t\\t\\t\\t\\n\\t\\t\\t\\t\\t\\t\\t\\t\\t\\t\\n\\t\\t\\t\\t\\t\\t\\t\\t\\t\\t\\n\\t\\t\\t\\t\\t\\t\\t\\t\\t\\t\\n\\t\\t\\t\\t\\t\\t\\t\\t\\t\\t\\n\\t\\t\\t\\t\\t\\t\\t\\t\\t\\t<td class=\"\">\\n\\t\\t\\t\\t\\t\\t\\t\\t\\t\\t\\t\\n\\t\\t\\t\\t\\t\\t\\t\\t\\t\\t\\t\\n\\t\\t\\t\\t\\t\\t\\t\\t\\t\\t\\t\\t\\n\\t\\t\\t\\t8,057\\n\\t\\t\\t\\n\\t\\t\\t\\t\\t\\t\\t\\t\\t\\t\\t\\n\\t\\t\\t\\t\\t\\t\\t\\t\\t\\t</td>\\n\\t\\t\\t\\t\\t\\t\\t\\t\\t\\t\\n\\t\\t\\t\\t\\t\\t\\t\\t\\t\\n\\t\\t\\t\\t\\t\\t\\t\\t\\t\\t\\n\\t\\t\\t\\t\\t\\t\\t\\t\\t\\t\\n\\t\\t\\t\\t\\t\\t\\t\\t\\t\\t\\n\\t\\t\\t\\t\\t\\t\\t\\t\\t\\t\\n\\t\\t\\t\\t\\t\\t\\t\\t\\t\\t\\n\\t\\t\\t\\t\\t\\t\\t\\t\\t\\t<td class=\"\">\\n\\t\\t\\t\\t\\t\\t\\t\\t\\t\\t\\t\\n\\t\\t\\t\\t\\t\\t\\t\\t\\t\\t\\t\\n\\t\\t\\t\\t\\t\\t\\t\\t\\t\\t\\t\\t\\n\\t\\t\\t\\t2,131\\n\\t\\t\\t\\n\\t\\t\\t\\t\\t\\t\\t\\t\\t\\t\\t\\n\\t\\t\\t\\t\\t\\t\\t\\t\\t\\t</td>\\n\\t\\t\\t\\t\\t\\t\\t\\t\\t\\t\\n\\t\\t\\t\\t\\t\\t\\t\\t\\t\\n\\t\\t\\t\\t\\t\\t\\t\\t\\t\\t\\n\\t\\t\\t\\t\\t\\t\\t\\t\\t\\t\\n\\t\\t\\t\\t\\t\\t\\t\\t\\t\\t\\n\\t\\t\\t\\t\\t\\t\\t\\t\\t\\t\\n\\t\\t\\t\\t\\t\\t\\t\\t\\t\\t\\t\\n\\t\\t\\t\\t\\t\\t\\t\\t\\t\\t\\n\\t\\t\\t\\t\\t\\t\\t\\t\\t\\t\\n\\t\\t\\t\\t\\t\\t\\t\\t\\t\\t<td class=\" t_line cell_strong\">\\n\\t\\t\\t\\t\\t\\t\\t\\t\\t\\t\\t\\n\\t\\t\\t\\t\\t\\t\\t\\t\\t\\t\\t\\n\\t\\t\\t\\t\\t\\t\\t\\t\\t\\t\\t\\t\\n\\t\\t\\t\\t5,909\\n\\t\\t\\t\\n\\t\\t\\t\\t\\t\\t\\t\\t\\t\\t\\t\\n\\t\\t\\t\\t\\t\\t\\t\\t\\t\\t</td>\\n\\t\\t\\t\\t\\t\\t\\t\\t\\t\\t\\n\\t\\t\\t\\t\\t\\t\\t\\t\\t\\n\\t\\t\\t\\t\\t\\t\\t\\t\\t\\t\\n\\t\\t\\t\\t\\t\\t\\t\\t\\t\\t\\n\\t\\t\\t\\t\\t\\t\\t\\t\\t\\t\\n\\t\\t\\t\\t\\t\\t\\t\\t\\t\\t\\n\\t\\t\\t\\t\\t\\t\\t\\t\\t\\t\\n\\t\\t\\t\\t\\t\\t\\t\\t\\t\\t<td class=\"\">\\n\\t\\t\\t\\t\\t\\t\\t\\t\\t\\t\\t\\n\\t\\t\\t\\t\\t\\t\\t\\t\\t\\t\\t\\n\\t\\t\\t\\t\\t\\t\\t\\t\\t\\t\\t\\t\\n\\t\\t\\t\\t206\\n\\t\\t\\t\\n\\t\\t\\t\\t\\t\\t\\t\\t\\t\\t\\t\\n\\t\\t\\t\\t\\t\\t\\t\\t\\t\\t</td>\\n\\t\\t\\t\\t\\t\\t\\t\\t\\t\\t\\n\\t\\t\\t\\t\\t\\t\\t\\t\\t\\n\\t\\t\\t\\t\\t\\t\\t\\t\\t\\t\\n\\t\\t\\t\\t\\t\\t\\t\\t\\t\\t\\n\\t\\t\\t\\t\\t\\t\\t\\t\\t\\t\\n\\t\\t\\t\\t\\t\\t\\t\\t\\t\\t\\n\\t\\t\\t\\t\\t\\t\\t\\t\\t\\t\\n\\t\\t\\t\\t\\t\\t\\t\\t\\t\\t<td class=\"\">\\n\\t\\t\\t\\t\\t\\t\\t\\t\\t\\t\\t\\n\\t\\t\\t\\t\\t\\t\\t\\t\\t\\t\\t\\n\\t\\t\\t\\t\\t\\t\\t\\t\\t\\t\\t\\t\\n\\t\\t\\t\\t228\\n\\t\\t\\t\\n\\t\\t\\t\\t\\t\\t\\t\\t\\t\\t\\t\\n\\t\\t\\t\\t\\t\\t\\t\\t\\t\\t</td>\\n\\t\\t\\t\\t\\t\\t\\t\\t\\t\\t\\n\\t\\t\\t\\t\\t\\t\\t\\t\\t\\n\\t\\t\\t\\t\\t\\t\\t\\t\\t\\t\\n\\t\\t\\t\\t\\t\\t\\t\\t\\t\\t\\n\\t\\t\\t\\t\\t\\t\\t\\t\\t\\t\\n\\t\\t\\t\\t\\t\\t\\t\\t\\t\\t\\n\\t\\t\\t\\t\\t\\t\\t\\t\\t\\t\\n\\t\\t\\t\\t\\t\\t\\t\\t\\t\\t<td class=\"\">\\n\\t\\t\\t\\t\\t\\t\\t\\t\\t\\t\\t\\n\\t\\t\\t\\t\\t\\t\\t\\t\\t\\t\\t\\n\\t\\t\\t\\t\\t\\t\\t\\t\\t\\t\\t\\t\\n\\t\\t\\t\\t810\\n\\t\\t\\t\\n\\t\\t\\t\\t\\t\\t\\t\\t\\t\\t\\t\\n\\t\\t\\t\\t\\t\\t\\t\\t\\t\\t</td>\\n\\t\\t\\t\\t\\t\\t\\t\\t\\t\\t\\n\\t\\t\\t\\t\\t\\t\\t\\t\\t\\n\\t\\t\\t\\t\\t\\t\\t\\t\\t\\t\\n\\t\\t\\t\\t\\t\\t\\t\\t\\t\\t\\n\\t\\t\\t\\t\\t\\t\\t\\t\\t\\t\\n\\t\\t\\t\\t\\t\\t\\t\\t\\t\\t\\n\\t\\t\\t\\t\\t\\t\\t\\t\\t\\t\\n\\t\\t\\t\\t\\t\\t\\t\\t\\t\\t<td class=\"\">\\n\\t\\t\\t\\t\\t\\t\\t\\t\\t\\t\\t\\n\\t\\t\\t\\t\\t\\t\\t\\t\\t\\t\\t\\n\\t\\t\\t\\t\\t\\t\\t\\t\\t\\t\\t\\t\\n\\t\\t\\t\\t887\\n\\t\\t\\t\\n\\t\\t\\t\\t\\t\\t\\t\\t\\t\\t\\t\\n\\t\\t\\t\\t\\t\\t\\t\\t\\t\\t</td>\\n\\t\\t\\t\\t\\t\\t\\t\\t\\t\\t\\n\\t\\t\\t\\t\\t\\t\\t\\t\\t\\n\\t\\t\\t\\t\\t\\t\\t\\t\\t\\t\\n\\t\\t\\t\\t\\t\\t\\t\\t\\t\\t\\n\\t\\t\\t\\t\\t\\t\\t\\t\\t\\t\\n\\t\\t\\t\\t\\t\\t\\t\\t\\t\\t\\n\\t\\t\\t\\t\\t\\t\\t\\t\\t\\t\\n\\t\\t\\t\\t\\t\\t\\t\\t\\t\\t<td class=\"\">\\n\\t\\t\\t\\t\\t\\t\\t\\t\\t\\t\\t\\n\\t\\t\\t\\t\\t\\t\\t\\t\\t\\t\\t\\n\\t\\t\\t\\t\\t\\t\\t\\t\\t\\t\\t\\t\\n\\t\\t\\t\\t975\\n\\t\\t\\t\\n\\t\\t\\t\\t\\t\\t\\t\\t\\t\\t\\t\\n\\t\\t\\t\\t\\t\\t\\t\\t\\t\\t</td>\\n\\t\\t\\t\\t\\t\\t\\t\\t\\t\\t\\n\\t\\t\\t\\t\\t\\t\\t\\t\\t\\n\\t\\t\\t\\t\\t\\t\\t\\t\\t\\t\\n\\t\\t\\t\\t\\t\\t\\t\\t\\t\\t\\n\\t\\t\\t\\t\\t\\t\\t\\t\\t\\t\\n\\t\\t\\t\\t\\t\\t\\t\\t\\t\\t\\n\\t\\t\\t\\t\\t\\t\\t\\t\\t\\t\\n\\t\\t\\t\\t\\t\\t\\t\\t\\t\\t\\t\\n\\t\\t\\t\\t\\t\\t\\t\\t\\t\\t\\n\\t\\t\\t\\t\\t\\t\\t\\t\\t\\t<td class=\" last cell_strong\">\\n\\t\\t\\t\\t\\t\\t\\t\\t\\t\\t\\t\\n\\t\\t\\t\\t\\t\\t\\t\\t\\t\\t\\t\\n\\t\\t\\t\\t\\t\\t\\t\\t\\t\\t\\t\\t\\n\\t\\t\\t\\t1,071\\n\\t\\t\\t\\n\\t\\t\\t\\t\\t\\t\\t\\t\\t\\t\\t\\n\\t\\t\\t\\t\\t\\t\\t\\t\\t\\t</td>\\n\\t\\t\\t\\t\\t\\t\\t\\t\\t\\t\\n\\t\\t\\t\\t\\t\\t\\t\\t\\t\\n\\t\\t\\t\\t\\t\\t\\t\\t</tr>\\n\\t\\t\\t\\t\\t\\t\\t\\t\\n\\t\\t\\t\\t\\t\\t\\t\\t<tr>\\n\\t\\t\\t\\t\\t\\t\\t\\t\\t<th scope=\"row\" class=\"h_th2 th_cop_anal20\"><strong>PER(\\xb9\\xe8)</strong></th>\\n\\t\\t\\t\\t\\t\\t\\t\\t\\t\\n\\t\\t\\t\\t\\t\\t\\t\\t\\t\\t\\n\\t\\t\\t\\t\\t\\t\\t\\t\\t\\t\\n\\t\\t\\t\\t\\t\\t\\t\\t\\t\\t\\n\\t\\t\\t\\t\\t\\t\\t\\t\\t\\t\\n\\t\\t\\t\\t\\t\\t\\t\\t\\t\\t\\n\\t\\t\\t\\t\\t\\t\\t\\t\\t\\t<td class=\"\">\\n\\t\\t\\t\\t\\t\\t\\t\\t\\t\\t\\t\\n\\t\\t\\t\\t\\t\\t\\t\\t\\t\\t\\t\\n\\t\\t\\t\\t\\t\\t\\t\\t\\t\\t\\t\\t\\n\\t\\t\\t\\t13.55\\n\\t\\t\\t\\n\\t\\t\\t\\t\\t\\t\\t\\t\\t\\t\\t\\n\\t\\t\\t\\t\\t\\t\\t\\t\\t\\t</td>\\n\\t\\t\\t\\t\\t\\t\\t\\t\\t\\t\\n\\t\\t\\t\\t\\t\\t\\t\\t\\t\\n\\t\\t\\t\\t\\t\\t\\t\\t\\t\\t\\n\\t\\t\\t\\t\\t\\t\\t\\t\\t\\t\\n\\t\\t\\t\\t\\t\\t\\t\\t\\t\\t\\n\\t\\t\\t\\t\\t\\t\\t\\t\\t\\t\\n\\t\\t\\t\\t\\t\\t\\t\\t\\t\\t\\n\\t\\t\\t\\t\\t\\t\\t\\t\\t\\t<td class=\"\">\\n\\t\\t\\t\\t\\t\\t\\t\\t\\t\\t\\t\\n\\t\\t\\t\\t\\t\\t\\t\\t\\t\\t\\t\\n\\t\\t\\t\\t\\t\\t\\t\\t\\t\\t\\t\\t\\n\\t\\t\\t\\t6.86\\n\\t\\t\\t\\n\\t\\t\\t\\t\\t\\t\\t\\t\\t\\t\\t\\n\\t\\t\\t\\t\\t\\t\\t\\t\\t\\t</td>\\n\\t\\t\\t\\t\\t\\t\\t\\t\\t\\t\\n\\t\\t\\t\\t\\t\\t\\t\\t\\t\\n\\t\\t\\t\\t\\t\\t\\t\\t\\t\\t\\n\\t\\t\\t\\t\\t\\t\\t\\t\\t\\t\\n\\t\\t\\t\\t\\t\\t\\t\\t\\t\\t\\n\\t\\t\\t\\t\\t\\t\\t\\t\\t\\t\\n\\t\\t\\t\\t\\t\\t\\t\\t\\t\\t\\n\\t\\t\\t\\t\\t\\t\\t\\t\\t\\t<td class=\"\">\\n\\t\\t\\t\\t\\t\\t\\t\\t\\t\\t\\t\\n\\t\\t\\t\\t\\t\\t\\t\\t\\t\\t\\t\\n\\t\\t\\t\\t\\t\\t\\t\\t\\t\\t\\t\\t\\n\\t\\t\\t\\t36.84\\n\\t\\t\\t\\n\\t\\t\\t\\t\\t\\t\\t\\t\\t\\t\\t\\n\\t\\t\\t\\t\\t\\t\\t\\t\\t\\t</td>\\n\\t\\t\\t\\t\\t\\t\\t\\t\\t\\t\\n\\t\\t\\t\\t\\t\\t\\t\\t\\t\\n\\t\\t\\t\\t\\t\\t\\t\\t\\t\\t\\n\\t\\t\\t\\t\\t\\t\\t\\t\\t\\t\\n\\t\\t\\t\\t\\t\\t\\t\\t\\t\\t\\n\\t\\t\\t\\t\\t\\t\\t\\t\\t\\t\\n\\t\\t\\t\\t\\t\\t\\t\\t\\t\\t\\t\\n\\t\\t\\t\\t\\t\\t\\t\\t\\t\\t\\n\\t\\t\\t\\t\\t\\t\\t\\t\\t\\t\\n\\t\\t\\t\\t\\t\\t\\t\\t\\t\\t<td class=\" t_line cell_strong\">\\n\\t\\t\\t\\t\\t\\t\\t\\t\\t\\t\\t\\n\\t\\t\\t\\t\\t\\t\\t\\t\\t\\t\\t\\n\\t\\t\\t\\t\\t\\t\\t\\t\\t\\t\\t\\t\\n\\t\\t\\t\\t14.06\\n\\t\\t\\t\\n\\t\\t\\t\\t\\t\\t\\t\\t\\t\\t\\t\\n\\t\\t\\t\\t\\t\\t\\t\\t\\t\\t</td>\\n\\t\\t\\t\\t\\t\\t\\t\\t\\t\\t\\n\\t\\t\\t\\t\\t\\t\\t\\t\\t\\n\\t\\t\\t\\t\\t\\t\\t\\t\\t\\t\\n\\t\\t\\t\\t\\t\\t\\t\\t\\t\\t\\n\\t\\t\\t\\t\\t\\t\\t\\t\\t\\t\\n\\t\\t\\t\\t\\t\\t\\t\\t\\t\\t\\n\\t\\t\\t\\t\\t\\t\\t\\t\\t\\t\\n\\t\\t\\t\\t\\t\\t\\t\\t\\t\\t<td class=\"\">\\n\\t\\t\\t\\t\\t\\t\\t\\t\\t\\t\\t\\n\\t\\t\\t\\t\\t\\t\\t\\t\\t\\t\\t\\n\\t\\t\\t\\t\\t\\t\\t\\t\\t\\t\\t\\t\\n\\t\\t\\t\\t9.66\\n\\t\\t\\t\\n\\t\\t\\t\\t\\t\\t\\t\\t\\t\\t\\t\\n\\t\\t\\t\\t\\t\\t\\t\\t\\t\\t</td>\\n\\t\\t\\t\\t\\t\\t\\t\\t\\t\\t\\n\\t\\t\\t\\t\\t\\t\\t\\t\\t\\n\\t\\t\\t\\t\\t\\t\\t\\t\\t\\t\\n\\t\\t\\t\\t\\t\\t\\t\\t\\t\\t\\n\\t\\t\\t\\t\\t\\t\\t\\t\\t\\t\\n\\t\\t\\t\\t\\t\\t\\t\\t\\t\\t\\n\\t\\t\\t\\t\\t\\t\\t\\t\\t\\t\\n\\t\\t\\t\\t\\t\\t\\t\\t\\t\\t<td class=\"\">\\n\\t\\t\\t\\t\\t\\t\\t\\t\\t\\t\\t\\n\\t\\t\\t\\t\\t\\t\\t\\t\\t\\t\\t\\n\\t\\t\\t\\t\\t\\t\\t\\t\\t\\t\\t\\t\\n\\t\\t\\t\\t13.78\\n\\t\\t\\t\\n\\t\\t\\t\\t\\t\\t\\t\\t\\t\\t\\t\\n\\t\\t\\t\\t\\t\\t\\t\\t\\t\\t</td>\\n\\t\\t\\t\\t\\t\\t\\t\\t\\t\\t\\n\\t\\t\\t\\t\\t\\t\\t\\t\\t\\n\\t\\t\\t\\t\\t\\t\\t\\t\\t\\t\\n\\t\\t\\t\\t\\t\\t\\t\\t\\t\\t\\n\\t\\t\\t\\t\\t\\t\\t\\t\\t\\t\\n\\t\\t\\t\\t\\t\\t\\t\\t\\t\\t\\n\\t\\t\\t\\t\\t\\t\\t\\t\\t\\t\\n\\t\\t\\t\\t\\t\\t\\t\\t\\t\\t<td class=\"\">\\n\\t\\t\\t\\t\\t\\t\\t\\t\\t\\t\\t\\n\\t\\t\\t\\t\\t\\t\\t\\t\\t\\t\\t\\n\\t\\t\\t\\t\\t\\t\\t\\t\\t\\t\\t\\t\\n\\t\\t\\t\\t14.54\\n\\t\\t\\t\\n\\t\\t\\t\\t\\t\\t\\t\\t\\t\\t\\t\\n\\t\\t\\t\\t\\t\\t\\t\\t\\t\\t</td>\\n\\t\\t\\t\\t\\t\\t\\t\\t\\t\\t\\n\\t\\t\\t\\t\\t\\t\\t\\t\\t\\n\\t\\t\\t\\t\\t\\t\\t\\t\\t\\t\\n\\t\\t\\t\\t\\t\\t\\t\\t\\t\\t\\n\\t\\t\\t\\t\\t\\t\\t\\t\\t\\t\\n\\t\\t\\t\\t\\t\\t\\t\\t\\t\\t\\n\\t\\t\\t\\t\\t\\t\\t\\t\\t\\t\\n\\t\\t\\t\\t\\t\\t\\t\\t\\t\\t<td class=\"\">\\n\\t\\t\\t\\t\\t\\t\\t\\t\\t\\t\\t\\n\\t\\t\\t\\t\\t\\t\\t\\t\\t\\t\\t\\n\\t\\t\\t\\t\\t\\t\\t\\t\\t\\t\\t\\t\\n\\t\\t\\t\\t36.84\\n\\t\\t\\t\\n\\t\\t\\t\\t\\t\\t\\t\\t\\t\\t\\t\\n\\t\\t\\t\\t\\t\\t\\t\\t\\t\\t</td>\\n\\t\\t\\t\\t\\t\\t\\t\\t\\t\\t\\n\\t\\t\\t\\t\\t\\t\\t\\t\\t\\n\\t\\t\\t\\t\\t\\t\\t\\t\\t\\t\\n\\t\\t\\t\\t\\t\\t\\t\\t\\t\\t\\n\\t\\t\\t\\t\\t\\t\\t\\t\\t\\t\\n\\t\\t\\t\\t\\t\\t\\t\\t\\t\\t\\n\\t\\t\\t\\t\\t\\t\\t\\t\\t\\t\\n\\t\\t\\t\\t\\t\\t\\t\\t\\t\\t<td class=\"\">\\n\\t\\t\\t\\t\\t\\t\\t\\t\\t\\t\\t\\n\\t\\t\\t\\t\\t\\t\\t\\t\\t\\t\\t\\n\\t\\t\\t\\t\\t\\t\\t\\t\\t\\t\\t\\t\\n\\t\\t\\t\\t28.42\\n\\t\\t\\t\\n\\t\\t\\t\\t\\t\\t\\t\\t\\t\\t\\t\\n\\t\\t\\t\\t\\t\\t\\t\\t\\t\\t</td>\\n\\t\\t\\t\\t\\t\\t\\t\\t\\t\\t\\n\\t\\t\\t\\t\\t\\t\\t\\t\\t\\n\\t\\t\\t\\t\\t\\t\\t\\t\\t\\t\\n\\t\\t\\t\\t\\t\\t\\t\\t\\t\\t\\n\\t\\t\\t\\t\\t\\t\\t\\t\\t\\t\\n\\t\\t\\t\\t\\t\\t\\t\\t\\t\\t\\n\\t\\t\\t\\t\\t\\t\\t\\t\\t\\t\\n\\t\\t\\t\\t\\t\\t\\t\\t\\t\\t\\t\\n\\t\\t\\t\\t\\t\\t\\t\\t\\t\\t\\n\\t\\t\\t\\t\\t\\t\\t\\t\\t\\t<td class=\" last cell_strong\">\\n\\t\\t\\t\\t\\t\\t\\t\\t\\t\\t\\t\\n\\t\\t\\t\\t\\t\\t\\t\\t\\t\\t\\t\\n\\t\\t\\t\\t\\t\\t\\t\\t\\t\\t\\t\\t\\n\\t\\t\\t\\t76.10\\n\\t\\t\\t\\n\\t\\t\\t\\t\\t\\t\\t\\t\\t\\t\\t\\n\\t\\t\\t\\t\\t\\t\\t\\t\\t\\t</td>\\n\\t\\t\\t\\t\\t\\t\\t\\t\\t\\t\\n\\t\\t\\t\\t\\t\\t\\t\\t\\t\\n\\t\\t\\t\\t\\t\\t\\t\\t</tr>\\n\\t\\t\\t\\t\\t\\t\\t\\t\\n\\t\\t\\t\\t\\t\\t\\t\\t<tr>\\n\\t\\t\\t\\t\\t\\t\\t\\t\\t<th scope=\"row\" class=\"h_th2 th_cop_anal18\"><strong>BPS(\\xbf\\xf8)</strong></th>\\n\\t\\t\\t\\t\\t\\t\\t\\t\\t\\n\\t\\t\\t\\t\\t\\t\\t\\t\\t\\t\\n\\t\\t\\t\\t\\t\\t\\t\\t\\t\\t\\n\\t\\t\\t\\t\\t\\t\\t\\t\\t\\t\\n\\t\\t\\t\\t\\t\\t\\t\\t\\t\\t\\n\\t\\t\\t\\t\\t\\t\\t\\t\\t\\t\\n\\t\\t\\t\\t\\t\\t\\t\\t\\t\\t<td class=\"\">\\n\\t\\t\\t\\t\\t\\t\\t\\t\\t\\t\\t\\n\\t\\t\\t\\t\\t\\t\\t\\t\\t\\t\\t\\n\\t\\t\\t\\t\\t\\t\\t\\t\\t\\t\\t\\t\\n\\t\\t\\t\\t43,611\\n\\t\\t\\t\\n\\t\\t\\t\\t\\t\\t\\t\\t\\t\\t\\t\\n\\t\\t\\t\\t\\t\\t\\t\\t\\t\\t</td>\\n\\t\\t\\t\\t\\t\\t\\t\\t\\t\\t\\n\\t\\t\\t\\t\\t\\t\\t\\t\\t\\n\\t\\t\\t\\t\\t\\t\\t\\t\\t\\t\\n\\t\\t\\t\\t\\t\\t\\t\\t\\t\\t\\n\\t\\t\\t\\t\\t\\t\\t\\t\\t\\t\\n\\t\\t\\t\\t\\t\\t\\t\\t\\t\\t\\n\\t\\t\\t\\t\\t\\t\\t\\t\\t\\t\\n\\t\\t\\t\\t\\t\\t\\t\\t\\t\\t<td class=\"\">\\n\\t\\t\\t\\t\\t\\t\\t\\t\\t\\t\\t\\n\\t\\t\\t\\t\\t\\t\\t\\t\\t\\t\\t\\n\\t\\t\\t\\t\\t\\t\\t\\t\\t\\t\\t\\t\\n\\t\\t\\t\\t50,817\\n\\t\\t\\t\\n\\t\\t\\t\\t\\t\\t\\t\\t\\t\\t\\t\\n\\t\\t\\t\\t\\t\\t\\t\\t\\t\\t</td>\\n\\t\\t\\t\\t\\t\\t\\t\\t\\t\\t\\n\\t\\t\\t\\t\\t\\t\\t\\t\\t\\n\\t\\t\\t\\t\\t\\t\\t\\t\\t\\t\\n\\t\\t\\t\\t\\t\\t\\t\\t\\t\\t\\n\\t\\t\\t\\t\\t\\t\\t\\t\\t\\t\\n\\t\\t\\t\\t\\t\\t\\t\\t\\t\\t\\n\\t\\t\\t\\t\\t\\t\\t\\t\\t\\t\\n\\t\\t\\t\\t\\t\\t\\t\\t\\t\\t<td class=\"\">\\n\\t\\t\\t\\t\\t\\t\\t\\t\\t\\t\\t\\n\\t\\t\\t\\t\\t\\t\\t\\t\\t\\t\\t\\n\\t\\t\\t\\t\\t\\t\\t\\t\\t\\t\\t\\t\\n\\t\\t\\t\\t52,002\\n\\t\\t\\t\\n\\t\\t\\t\\t\\t\\t\\t\\t\\t\\t\\t\\n\\t\\t\\t\\t\\t\\t\\t\\t\\t\\t</td>\\n\\t\\t\\t\\t\\t\\t\\t\\t\\t\\t\\n\\t\\t\\t\\t\\t\\t\\t\\t\\t\\n\\t\\t\\t\\t\\t\\t\\t\\t\\t\\t\\n\\t\\t\\t\\t\\t\\t\\t\\t\\t\\t\\n\\t\\t\\t\\t\\t\\t\\t\\t\\t\\t\\n\\t\\t\\t\\t\\t\\t\\t\\t\\t\\t\\n\\t\\t\\t\\t\\t\\t\\t\\t\\t\\t\\t\\n\\t\\t\\t\\t\\t\\t\\t\\t\\t\\t\\n\\t\\t\\t\\t\\t\\t\\t\\t\\t\\t\\n\\t\\t\\t\\t\\t\\t\\t\\t\\t\\t<td class=\" t_line cell_strong\">\\n\\t\\t\\t\\t\\t\\t\\t\\t\\t\\t\\t\\n\\t\\t\\t\\t\\t\\t\\t\\t\\t\\t\\t\\n\\t\\t\\t\\t\\t\\t\\t\\t\\t\\t\\t\\t\\n\\t\\t\\t\\t57,098\\n\\t\\t\\t\\n\\t\\t\\t\\t\\t\\t\\t\\t\\t\\t\\t\\n\\t\\t\\t\\t\\t\\t\\t\\t\\t\\t</td>\\n\\t\\t\\t\\t\\t\\t\\t\\t\\t\\t\\n\\t\\t\\t\\t\\t\\t\\t\\t\\t\\n\\t\\t\\t\\t\\t\\t\\t\\t\\t\\t\\n\\t\\t\\t\\t\\t\\t\\t\\t\\t\\t\\n\\t\\t\\t\\t\\t\\t\\t\\t\\t\\t\\n\\t\\t\\t\\t\\t\\t\\t\\t\\t\\t\\n\\t\\t\\t\\t\\t\\t\\t\\t\\t\\t\\n\\t\\t\\t\\t\\t\\t\\t\\t\\t\\t<td class=\"\">\\n\\t\\t\\t\\t\\t\\t\\t\\t\\t\\t\\t\\n\\t\\t\\t\\t\\t\\t\\t\\t\\t\\t\\t\\n\\t\\t\\t\\t\\t\\t\\t\\t\\t\\t\\t\\t\\n\\t\\t\\t\\t51,529\\n\\t\\t\\t\\n\\t\\t\\t\\t\\t\\t\\t\\t\\t\\t\\t\\n\\t\\t\\t\\t\\t\\t\\t\\t\\t\\t</td>\\n\\t\\t\\t\\t\\t\\t\\t\\t\\t\\t\\n\\t\\t\\t\\t\\t\\t\\t\\t\\t\\n\\t\\t\\t\\t\\t\\t\\t\\t\\t\\t\\n\\t\\t\\t\\t\\t\\t\\t\\t\\t\\t\\n\\t\\t\\t\\t\\t\\t\\t\\t\\t\\t\\n\\t\\t\\t\\t\\t\\t\\t\\t\\t\\t\\n\\t\\t\\t\\t\\t\\t\\t\\t\\t\\t\\n\\t\\t\\t\\t\\t\\t\\t\\t\\t\\t<td class=\"\">\\n\\t\\t\\t\\t\\t\\t\\t\\t\\t\\t\\t\\n\\t\\t\\t\\t\\t\\t\\t\\t\\t\\t\\t\\n\\t\\t\\t\\t\\t\\t\\t\\t\\t\\t\\t\\t\\n\\t\\t\\t\\t51,385\\n\\t\\t\\t\\n\\t\\t\\t\\t\\t\\t\\t\\t\\t\\t\\t\\n\\t\\t\\t\\t\\t\\t\\t\\t\\t\\t</td>\\n\\t\\t\\t\\t\\t\\t\\t\\t\\t\\t\\n\\t\\t\\t\\t\\t\\t\\t\\t\\t\\n\\t\\t\\t\\t\\t\\t\\t\\t\\t\\t\\n\\t\\t\\t\\t\\t\\t\\t\\t\\t\\t\\n\\t\\t\\t\\t\\t\\t\\t\\t\\t\\t\\n\\t\\t\\t\\t\\t\\t\\t\\t\\t\\t\\n\\t\\t\\t\\t\\t\\t\\t\\t\\t\\t\\n\\t\\t\\t\\t\\t\\t\\t\\t\\t\\t<td class=\"\">\\n\\t\\t\\t\\t\\t\\t\\t\\t\\t\\t\\t\\n\\t\\t\\t\\t\\t\\t\\t\\t\\t\\t\\t\\n\\t\\t\\t\\t\\t\\t\\t\\t\\t\\t\\t\\t\\n\\t\\t\\t\\t52,068\\n\\t\\t\\t\\n\\t\\t\\t\\t\\t\\t\\t\\t\\t\\t\\t\\n\\t\\t\\t\\t\\t\\t\\t\\t\\t\\t</td>\\n\\t\\t\\t\\t\\t\\t\\t\\t\\t\\t\\n\\t\\t\\t\\t\\t\\t\\t\\t\\t\\n\\t\\t\\t\\t\\t\\t\\t\\t\\t\\t\\n\\t\\t\\t\\t\\t\\t\\t\\t\\t\\t\\n\\t\\t\\t\\t\\t\\t\\t\\t\\t\\t\\n\\t\\t\\t\\t\\t\\t\\t\\t\\t\\t\\n\\t\\t\\t\\t\\t\\t\\t\\t\\t\\t\\n\\t\\t\\t\\t\\t\\t\\t\\t\\t\\t<td class=\"\">\\n\\t\\t\\t\\t\\t\\t\\t\\t\\t\\t\\t\\n\\t\\t\\t\\t\\t\\t\\t\\t\\t\\t\\t\\n\\t\\t\\t\\t\\t\\t\\t\\t\\t\\t\\t\\t\\n\\t\\t\\t\\t52,002\\n\\t\\t\\t\\n\\t\\t\\t\\t\\t\\t\\t\\t\\t\\t\\t\\n\\t\\t\\t\\t\\t\\t\\t\\t\\t\\t</td>\\n\\t\\t\\t\\t\\t\\t\\t\\t\\t\\t\\n\\t\\t\\t\\t\\t\\t\\t\\t\\t\\n\\t\\t\\t\\t\\t\\t\\t\\t\\t\\t\\n\\t\\t\\t\\t\\t\\t\\t\\t\\t\\t\\n\\t\\t\\t\\t\\t\\t\\t\\t\\t\\t\\n\\t\\t\\t\\t\\t\\t\\t\\t\\t\\t\\n\\t\\t\\t\\t\\t\\t\\t\\t\\t\\t\\n\\t\\t\\t\\t\\t\\t\\t\\t\\t\\t<td class=\"\">\\n\\t\\t\\t\\t\\t\\t\\t\\t\\t\\t\\t\\n\\t\\t\\t\\t\\t\\t\\t\\t\\t\\t\\t\\n\\t\\t\\t\\t\\t\\t\\t\\t\\t\\t\\t\\t\\n\\t\\t\\t\\t53,339\\n\\t\\t\\t\\n\\t\\t\\t\\t\\t\\t\\t\\t\\t\\t\\t\\n\\t\\t\\t\\t\\t\\t\\t\\t\\t\\t</td>\\n\\t\\t\\t\\t\\t\\t\\t\\t\\t\\t\\n\\t\\t\\t\\t\\t\\t\\t\\t\\t\\n\\t\\t\\t\\t\\t\\t\\t\\t\\t\\t\\n\\t\\t\\t\\t\\t\\t\\t\\t\\t\\t\\n\\t\\t\\t\\t\\t\\t\\t\\t\\t\\t\\n\\t\\t\\t\\t\\t\\t\\t\\t\\t\\t\\t\\n\\t\\t\\t\\t\\t\\t\\t\\t\\t\\t\\n\\t\\t\\t\\t\\t\\t\\t\\t\\t\\t\\n\\t\\t\\t\\t\\t\\t\\t\\t\\t\\t\\n\\t\\t\\t\\t\\t\\t\\t\\t\\t\\t\\t\\n\\t\\t\\t\\t\\t\\t\\t\\t\\t\\t\\n\\t\\t\\t\\t\\t\\t\\t\\t\\t\\t<td class=\" null last cell_strong\">\\n\\t\\t\\t\\t\\t\\t\\t\\t\\t\\t\\t&nbsp;\\n\\t\\t\\t\\t\\t\\t\\t\\t\\t\\t\\t\\n\\t\\t\\t\\t\\t\\t\\t\\t\\t\\t</td>\\n\\t\\t\\t\\t\\t\\t\\t\\t\\t\\t\\n\\t\\t\\t\\t\\t\\t\\t\\t\\t\\n\\t\\t\\t\\t\\t\\t\\t\\t</tr>\\n\\t\\t\\t\\t\\t\\t\\t\\t\\n\\t\\t\\t\\t\\t\\t\\t\\t<tr class=\"line_end\">\\n\\t\\t\\t\\t\\t\\t\\t\\t\\t<th scope=\"row\" class=\"h_th2 th_cop_anal21\"><strong>PBR(\\xb9\\xe8)</strong></th>\\n\\t\\t\\t\\t\\t\\t\\t\\t\\t\\n\\t\\t\\t\\t\\t\\t\\t\\t\\t\\t\\n\\t\\t\\t\\t\\t\\t\\t\\t\\t\\t\\n\\t\\t\\t\\t\\t\\t\\t\\t\\t\\t\\n\\t\\t\\t\\t\\t\\t\\t\\t\\t\\t\\n\\t\\t\\t\\t\\t\\t\\t\\t\\t\\t\\n\\t\\t\\t\\t\\t\\t\\t\\t\\t\\t<td class=\"\">\\n\\t\\t\\t\\t\\t\\t\\t\\t\\t\\t\\t\\n\\t\\t\\t\\t\\t\\t\\t\\t\\t\\t\\t\\n\\t\\t\\t\\t\\t\\t\\t\\t\\t\\t\\t\\t\\n\\t\\t\\t\\t1.80\\n\\t\\t\\t\\n\\t\\t\\t\\t\\t\\t\\t\\t\\t\\t\\t\\n\\t\\t\\t\\t\\t\\t\\t\\t\\t\\t</td>\\n\\t\\t\\t\\t\\t\\t\\t\\t\\t\\t\\n\\t\\t\\t\\t\\t\\t\\t\\t\\t\\n\\t\\t\\t\\t\\t\\t\\t\\t\\t\\t\\n\\t\\t\\t\\t\\t\\t\\t\\t\\t\\t\\n\\t\\t\\t\\t\\t\\t\\t\\t\\t\\t\\n\\t\\t\\t\\t\\t\\t\\t\\t\\t\\t\\n\\t\\t\\t\\t\\t\\t\\t\\t\\t\\t\\n\\t\\t\\t\\t\\t\\t\\t\\t\\t\\t<td class=\"\">\\n\\t\\t\\t\\t\\t\\t\\t\\t\\t\\t\\t\\n\\t\\t\\t\\t\\t\\t\\t\\t\\t\\t\\t\\n\\t\\t\\t\\t\\t\\t\\t\\t\\t\\t\\t\\t\\n\\t\\t\\t\\t1.09\\n\\t\\t\\t\\n\\t\\t\\t\\t\\t\\t\\t\\t\\t\\t\\t\\n\\t\\t\\t\\t\\t\\t\\t\\t\\t\\t</td>\\n\\t\\t\\t\\t\\t\\t\\t\\t\\t\\t\\n\\t\\t\\t\\t\\t\\t\\t\\t\\t\\n\\t\\t\\t\\t\\t\\t\\t\\t\\t\\t\\n\\t\\t\\t\\t\\t\\t\\t\\t\\t\\t\\n\\t\\t\\t\\t\\t\\t\\t\\t\\t\\t\\n\\t\\t\\t\\t\\t\\t\\t\\t\\t\\t\\n\\t\\t\\t\\t\\t\\t\\t\\t\\t\\t\\n\\t\\t\\t\\t\\t\\t\\t\\t\\t\\t<td class=\"\">\\n\\t\\t\\t\\t\\t\\t\\t\\t\\t\\t\\t\\n\\t\\t\\t\\t\\t\\t\\t\\t\\t\\t\\t\\n\\t\\t\\t\\t\\t\\t\\t\\t\\t\\t\\t\\t\\n\\t\\t\\t\\t1.51\\n\\t\\t\\t\\n\\t\\t\\t\\t\\t\\t\\t\\t\\t\\t\\t\\n\\t\\t\\t\\t\\t\\t\\t\\t\\t\\t</td>\\n\\t\\t\\t\\t\\t\\t\\t\\t\\t\\t\\n\\t\\t\\t\\t\\t\\t\\t\\t\\t\\n\\t\\t\\t\\t\\t\\t\\t\\t\\t\\t\\n\\t\\t\\t\\t\\t\\t\\t\\t\\t\\t\\n\\t\\t\\t\\t\\t\\t\\t\\t\\t\\t\\n\\t\\t\\t\\t\\t\\t\\t\\t\\t\\t\\n\\t\\t\\t\\t\\t\\t\\t\\t\\t\\t\\t\\n\\t\\t\\t\\t\\t\\t\\t\\t\\t\\t\\n\\t\\t\\t\\t\\t\\t\\t\\t\\t\\t\\n\\t\\t\\t\\t\\t\\t\\t\\t\\t\\t<td class=\" t_line cell_strong\">\\n\\t\\t\\t\\t\\t\\t\\t\\t\\t\\t\\t\\n\\t\\t\\t\\t\\t\\t\\t\\t\\t\\t\\t\\n\\t\\t\\t\\t\\t\\t\\t\\t\\t\\t\\t\\t\\n\\t\\t\\t\\t1.46\\n\\t\\t\\t\\n\\t\\t\\t\\t\\t\\t\\t\\t\\t\\t\\t\\n\\t\\t\\t\\t\\t\\t\\t\\t\\t\\t</td>\\n\\t\\t\\t\\t\\t\\t\\t\\t\\t\\t\\n\\t\\t\\t\\t\\t\\t\\t\\t\\t\\n\\t\\t\\t\\t\\t\\t\\t\\t\\t\\t\\n\\t\\t\\t\\t\\t\\t\\t\\t\\t\\t\\n\\t\\t\\t\\t\\t\\t\\t\\t\\t\\t\\n\\t\\t\\t\\t\\t\\t\\t\\t\\t\\t\\n\\t\\t\\t\\t\\t\\t\\t\\t\\t\\t\\n\\t\\t\\t\\t\\t\\t\\t\\t\\t\\t<td class=\"\">\\n\\t\\t\\t\\t\\t\\t\\t\\t\\t\\t\\t\\n\\t\\t\\t\\t\\t\\t\\t\\t\\t\\t\\t\\n\\t\\t\\t\\t\\t\\t\\t\\t\\t\\t\\t\\t\\n\\t\\t\\t\\t1.24\\n\\t\\t\\t\\n\\t\\t\\t\\t\\t\\t\\t\\t\\t\\t\\t\\n\\t\\t\\t\\t\\t\\t\\t\\t\\t\\t</td>\\n\\t\\t\\t\\t\\t\\t\\t\\t\\t\\t\\n\\t\\t\\t\\t\\t\\t\\t\\t\\t\\n\\t\\t\\t\\t\\t\\t\\t\\t\\t\\t\\n\\t\\t\\t\\t\\t\\t\\t\\t\\t\\t\\n\\t\\t\\t\\t\\t\\t\\t\\t\\t\\t\\n\\t\\t\\t\\t\\t\\t\\t\\t\\t\\t\\n\\t\\t\\t\\t\\t\\t\\t\\t\\t\\t\\n\\t\\t\\t\\t\\t\\t\\t\\t\\t\\t<td class=\"\">\\n\\t\\t\\t\\t\\t\\t\\t\\t\\t\\t\\t\\n\\t\\t\\t\\t\\t\\t\\t\\t\\t\\t\\t\\n\\t\\t\\t\\t\\t\\t\\t\\t\\t\\t\\t\\t\\n\\t\\t\\t\\t1.41\\n\\t\\t\\t\\n\\t\\t\\t\\t\\t\\t\\t\\t\\t\\t\\t\\n\\t\\t\\t\\t\\t\\t\\t\\t\\t\\t</td>\\n\\t\\t\\t\\t\\t\\t\\t\\t\\t\\t\\n\\t\\t\\t\\t\\t\\t\\t\\t\\t\\n\\t\\t\\t\\t\\t\\t\\t\\t\\t\\t\\n\\t\\t\\t\\t\\t\\t\\t\\t\\t\\t\\n\\t\\t\\t\\t\\t\\t\\t\\t\\t\\t\\n\\t\\t\\t\\t\\t\\t\\t\\t\\t\\t\\n\\t\\t\\t\\t\\t\\t\\t\\t\\t\\t\\n\\t\\t\\t\\t\\t\\t\\t\\t\\t\\t<td class=\"\">\\n\\t\\t\\t\\t\\t\\t\\t\\t\\t\\t\\t\\n\\t\\t\\t\\t\\t\\t\\t\\t\\t\\t\\t\\n\\t\\t\\t\\t\\t\\t\\t\\t\\t\\t\\t\\t\\n\\t\\t\\t\\t1.31\\n\\t\\t\\t\\n\\t\\t\\t\\t\\t\\t\\t\\t\\t\\t\\t\\n\\t\\t\\t\\t\\t\\t\\t\\t\\t\\t</td>\\n\\t\\t\\t\\t\\t\\t\\t\\t\\t\\t\\n\\t\\t\\t\\t\\t\\t\\t\\t\\t\\n\\t\\t\\t\\t\\t\\t\\t\\t\\t\\t\\n\\t\\t\\t\\t\\t\\t\\t\\t\\t\\t\\n\\t\\t\\t\\t\\t\\t\\t\\t\\t\\t\\n\\t\\t\\t\\t\\t\\t\\t\\t\\t\\t\\n\\t\\t\\t\\t\\t\\t\\t\\t\\t\\t\\n\\t\\t\\t\\t\\t\\t\\t\\t\\t\\t<td class=\"\">\\n\\t\\t\\t\\t\\t\\t\\t\\t\\t\\t\\t\\n\\t\\t\\t\\t\\t\\t\\t\\t\\t\\t\\t\\n\\t\\t\\t\\t\\t\\t\\t\\t\\t\\t\\t\\t\\n\\t\\t\\t\\t1.51\\n\\t\\t\\t\\n\\t\\t\\t\\t\\t\\t\\t\\t\\t\\t\\t\\n\\t\\t\\t\\t\\t\\t\\t\\t\\t\\t</td>\\n\\t\\t\\t\\t\\t\\t\\t\\t\\t\\t\\n\\t\\t\\t\\t\\t\\t\\t\\t\\t\\n\\t\\t\\t\\t\\t\\t\\t\\t\\t\\t\\n\\t\\t\\t\\t\\t\\t\\t\\t\\t\\t\\n\\t\\t\\t\\t\\t\\t\\t\\t\\t\\t\\n\\t\\t\\t\\t\\t\\t\\t\\t\\t\\t\\n\\t\\t\\t\\t\\t\\t\\t\\t\\t\\t\\n\\t\\t\\t\\t\\t\\t\\t\\t\\t\\t<td class=\"\">\\n\\t\\t\\t\\t\\t\\t\\t\\t\\t\\t\\t\\n\\t\\t\\t\\t\\t\\t\\t\\t\\t\\t\\t\\n\\t\\t\\t\\t\\t\\t\\t\\t\\t\\t\\t\\t\\n\\t\\t\\t\\t1.54\\n\\t\\t\\t\\n\\t\\t\\t\\t\\t\\t\\t\\t\\t\\t\\t\\n\\t\\t\\t\\t\\t\\t\\t\\t\\t\\t</td>\\n\\t\\t\\t\\t\\t\\t\\t\\t\\t\\t\\n\\t\\t\\t\\t\\t\\t\\t\\t\\t\\n\\t\\t\\t\\t\\t\\t\\t\\t\\t\\t\\n\\t\\t\\t\\t\\t\\t\\t\\t\\t\\t\\n\\t\\t\\t\\t\\t\\t\\t\\t\\t\\t\\n\\t\\t\\t\\t\\t\\t\\t\\t\\t\\t\\t\\n\\t\\t\\t\\t\\t\\t\\t\\t\\t\\t\\n\\t\\t\\t\\t\\t\\t\\t\\t\\t\\t\\n\\t\\t\\t\\t\\t\\t\\t\\t\\t\\t\\n\\t\\t\\t\\t\\t\\t\\t\\t\\t\\t\\t\\n\\t\\t\\t\\t\\t\\t\\t\\t\\t\\t\\n\\t\\t\\t\\t\\t\\t\\t\\t\\t\\t<td class=\" null last cell_strong\">\\n\\t\\t\\t\\t\\t\\t\\t\\t\\t\\t\\t&nbsp;\\n\\t\\t\\t\\t\\t\\t\\t\\t\\t\\t\\t\\n\\t\\t\\t\\t\\t\\t\\t\\t\\t\\t</td>\\n\\t\\t\\t\\t\\t\\t\\t\\t\\t\\t\\n\\t\\t\\t\\t\\t\\t\\t\\t\\t\\n\\t\\t\\t\\t\\t\\t\\t\\t</tr>\\n\\t\\t\\t\\t\\t\\t\\t\\t\\n\\t\\t\\t\\t\\t\\t\\t\\t<tr>\\n\\t\\t\\t\\t\\t\\t\\t\\t\\t<th scope=\"row\" class=\"h_th2 th_cop_anal19\"><strong>\\xc1\\xd6\\xb4\\xe7\\xb9\\xe8\\xb4\\xe7\\xb1\\xdd(\\xbf\\xf8)</strong></th>\\n\\t\\t\\t\\t\\t\\t\\t\\t\\t\\n\\t\\t\\t\\t\\t\\t\\t\\t\\t\\t\\n\\t\\t\\t\\t\\t\\t\\t\\t\\t\\t\\n\\t\\t\\t\\t\\t\\t\\t\\t\\t\\t\\n\\t\\t\\t\\t\\t\\t\\t\\t\\t\\t\\n\\t\\t\\t\\t\\t\\t\\t\\t\\t\\t<td class=\"\">\\n\\t\\t\\t\\t\\t\\t\\t\\t\\t\\t\\t\\n\\t\\t\\t\\t\\t\\t\\t\\t\\t\\t\\t\\t\\n\\t\\t\\t\\t1,444\\n\\t\\t\\t\\n\\t\\t\\t\\t\\t\\t\\t\\t\\t\\t\\t\\n\\t\\t\\t\\t\\t\\t\\t\\t\\t\\t</td>\\n\\t\\t\\t\\t\\t\\t\\t\\t\\t\\t\\n\\t\\t\\t\\t\\t\\t\\t\\t\\t\\n\\t\\t\\t\\t\\t\\t\\t\\t\\t\\t\\n\\t\\t\\t\\t\\t\\t\\t\\t\\t\\t\\n\\t\\t\\t\\t\\t\\t\\t\\t\\t\\t\\n\\t\\t\\t\\t\\t\\t\\t\\t\\t\\t\\n\\t\\t\\t\\t\\t\\t\\t\\t\\t\\t<td class=\"\">\\n\\t\\t\\t\\t\\t\\t\\t\\t\\t\\t\\t\\n\\t\\t\\t\\t\\t\\t\\t\\t\\t\\t\\t\\t\\n\\t\\t\\t\\t1,444\\n\\t\\t\\t\\n\\t\\t\\t\\t\\t\\t\\t\\t\\t\\t\\t\\n\\t\\t\\t\\t\\t\\t\\t\\t\\t\\t</td>\\n\\t\\t\\t\\t\\t\\t\\t\\t\\t\\t\\n\\t\\t\\t\\t\\t\\t\\t\\t\\t\\n\\t\\t\\t\\t\\t\\t\\t\\t\\t\\t\\n\\t\\t\\t\\t\\t\\t\\t\\t\\t\\t\\n\\t\\t\\t\\t\\t\\t\\t\\t\\t\\t\\n\\t\\t\\t\\t\\t\\t\\t\\t\\t\\t\\n\\t\\t\\t\\t\\t\\t\\t\\t\\t\\t<td class=\"\">\\n\\t\\t\\t\\t\\t\\t\\t\\t\\t\\t\\t\\n\\t\\t\\t\\t\\t\\t\\t\\t\\t\\t\\t\\t\\n\\t\\t\\t\\t1,444\\n\\t\\t\\t\\n\\t\\t\\t\\t\\t\\t\\t\\t\\t\\t\\t\\n\\t\\t\\t\\t\\t\\t\\t\\t\\t\\t</td>\\n\\t\\t\\t\\t\\t\\t\\t\\t\\t\\t\\n\\t\\t\\t\\t\\t\\t\\t\\t\\t\\n\\t\\t\\t\\t\\t\\t\\t\\t\\t\\t\\n\\t\\t\\t\\t\\t\\t\\t\\t\\t\\t\\n\\t\\t\\t\\t\\t\\t\\t\\t\\t\\t\\n\\t\\t\\t\\t\\t\\t\\t\\t\\t\\t\\t\\n\\t\\t\\t\\t\\t\\t\\t\\t\\t\\t\\n\\t\\t\\t\\t\\t\\t\\t\\t\\t\\t\\n\\t\\t\\t\\t\\t\\t\\t\\t\\t\\t<td class=\" t_line cell_strong\">\\n\\t\\t\\t\\t\\t\\t\\t\\t\\t\\t\\t\\n\\t\\t\\t\\t\\t\\t\\t\\t\\t\\t\\t\\t\\n\\t\\t\\t\\t1,508\\n\\t\\t\\t\\n\\t\\t\\t\\t\\t\\t\\t\\t\\t\\t\\t\\n\\t\\t\\t\\t\\t\\t\\t\\t\\t\\t</td>\\n\\t\\t\\t\\t\\t\\t\\t\\t\\t\\t\\n\\t\\t\\t\\t\\t\\t\\t\\t\\t\\n\\t\\t\\t\\t\\t\\t\\t\\t\\t\\t\\n\\t\\t\\t\\t\\t\\t\\t\\t\\t\\t\\n\\t\\t\\t\\t\\t\\t\\t\\t\\t\\t\\n\\t\\t\\t\\t\\t\\t\\t\\t\\t\\t\\n\\t\\t\\t\\t\\t\\t\\t\\t\\t\\t<td class=\"\">\\n\\t\\t\\t\\t\\t\\t\\t\\t\\t\\t\\t\\n\\t\\t\\t\\t\\t\\t\\t\\t\\t\\t\\t\\t\\n\\t\\t\\t\\t361\\n\\t\\t\\t\\n\\t\\t\\t\\t\\t\\t\\t\\t\\t\\t\\t\\n\\t\\t\\t\\t\\t\\t\\t\\t\\t\\t</td>\\n\\t\\t\\t\\t\\t\\t\\t\\t\\t\\t\\n\\t\\t\\t\\t\\t\\t\\t\\t\\t\\n\\t\\t\\t\\t\\t\\t\\t\\t\\t\\t\\n\\t\\t\\t\\t\\t\\t\\t\\t\\t\\t\\n\\t\\t\\t\\t\\t\\t\\t\\t\\t\\t\\n\\t\\t\\t\\t\\t\\t\\t\\t\\t\\t\\n\\t\\t\\t\\t\\t\\t\\t\\t\\t\\t<td class=\"\">\\n\\t\\t\\t\\t\\t\\t\\t\\t\\t\\t\\t\\n\\t\\t\\t\\t\\t\\t\\t\\t\\t\\t\\t\\t\\n\\t\\t\\t\\t361\\n\\t\\t\\t\\n\\t\\t\\t\\t\\t\\t\\t\\t\\t\\t\\t\\n\\t\\t\\t\\t\\t\\t\\t\\t\\t\\t</td>\\n\\t\\t\\t\\t\\t\\t\\t\\t\\t\\t\\n\\t\\t\\t\\t\\t\\t\\t\\t\\t\\n\\t\\t\\t\\t\\t\\t\\t\\t\\t\\t\\n\\t\\t\\t\\t\\t\\t\\t\\t\\t\\t\\n\\t\\t\\t\\t\\t\\t\\t\\t\\t\\t\\n\\t\\t\\t\\t\\t\\t\\t\\t\\t\\t\\n\\t\\t\\t\\t\\t\\t\\t\\t\\t\\t<td class=\"\">\\n\\t\\t\\t\\t\\t\\t\\t\\t\\t\\t\\t\\n\\t\\t\\t\\t\\t\\t\\t\\t\\t\\t\\t\\t\\n\\t\\t\\t\\t361\\n\\t\\t\\t\\n\\t\\t\\t\\t\\t\\t\\t\\t\\t\\t\\t\\n\\t\\t\\t\\t\\t\\t\\t\\t\\t\\t</td>\\n\\t\\t\\t\\t\\t\\t\\t\\t\\t\\t\\n\\t\\t\\t\\t\\t\\t\\t\\t\\t\\n\\t\\t\\t\\t\\t\\t\\t\\t\\t\\t\\n\\t\\t\\t\\t\\t\\t\\t\\t\\t\\t\\n\\t\\t\\t\\t\\t\\t\\t\\t\\t\\t\\n\\t\\t\\t\\t\\t\\t\\t\\t\\t\\t\\n\\t\\t\\t\\t\\t\\t\\t\\t\\t\\t<td class=\"\">\\n\\t\\t\\t\\t\\t\\t\\t\\t\\t\\t\\t\\n\\t\\t\\t\\t\\t\\t\\t\\t\\t\\t\\t\\t\\n\\t\\t\\t\\t361\\n\\t\\t\\t\\n\\t\\t\\t\\t\\t\\t\\t\\t\\t\\t\\t\\n\\t\\t\\t\\t\\t\\t\\t\\t\\t\\t</td>\\n\\t\\t\\t\\t\\t\\t\\t\\t\\t\\t\\n\\t\\t\\t\\t\\t\\t\\t\\t\\t\\n\\t\\t\\t\\t\\t\\t\\t\\t\\t\\t\\n\\t\\t\\t\\t\\t\\t\\t\\t\\t\\t\\n\\t\\t\\t\\t\\t\\t\\t\\t\\t\\t\\n\\t\\t\\t\\t\\t\\t\\t\\t\\t\\t\\n\\t\\t\\t\\t\\t\\t\\t\\t\\t\\t<td class=\"\">\\n\\t\\t\\t\\t\\t\\t\\t\\t\\t\\t\\t\\n\\t\\t\\t\\t\\t\\t\\t\\t\\t\\t\\t\\t\\n\\t\\t\\t\\t361\\n\\t\\t\\t\\n\\t\\t\\t\\t\\t\\t\\t\\t\\t\\t\\t\\n\\t\\t\\t\\t\\t\\t\\t\\t\\t\\t</td>\\n\\t\\t\\t\\t\\t\\t\\t\\t\\t\\t\\n\\t\\t\\t\\t\\t\\t\\t\\t\\t\\n\\t\\t\\t\\t\\t\\t\\t\\t\\t\\t\\n\\t\\t\\t\\t\\t\\t\\t\\t\\t\\t\\n\\t\\t\\t\\t\\t\\t\\t\\t\\t\\t\\t\\n\\t\\t\\t\\t\\t\\t\\t\\t\\t\\t\\n\\t\\t\\t\\t\\t\\t\\t\\t\\t\\t\\n\\t\\t\\t\\t\\t\\t\\t\\t\\t\\t\\n\\t\\t\\t\\t\\t\\t\\t\\t\\t\\t\\t\\n\\t\\t\\t\\t\\t\\t\\t\\t\\t\\t\\n\\t\\t\\t\\t\\t\\t\\t\\t\\t\\t<td class=\"no_data 2 last cell_strong\">\\n\\t\\t\\t\\t\\t\\t\\t\\t\\t\\t\\t\\n\\t\\t\\t\\t\\t\\t\\t\\t\\t\\t</td>\\n\\t\\t\\t\\t\\t\\t\\t\\t\\t\\t\\n\\t\\t\\t\\t\\t\\t\\t\\t\\t\\n\\n\\t\\t\\t\\t\\t\\t\\t\\t</tr>\\n\\t\\t\\t\\t\\t\\t\\t\\t<tr>\\n\\t\\t\\t\\t\\t\\t\\t\\t\\t<th scope=\"row\" class=\"h_th2 th_cop_anal22\"><strong>\\xbd\\xc3\\xb0\\xa1\\xb9\\xe8\\xb4\\xe7\\xb7\\xfc(%)</strong></th>\\n\\t\\t\\t\\t\\t\\t\\t\\t\\t\\n\\t\\t\\t\\t\\t\\t\\t\\t\\t\\t\\n\\t\\t\\t\\t\\t\\t\\t\\t\\t\\t\\n\\t\\t\\t\\t\\t\\t\\t\\t\\t\\t\\n\\t\\t\\t\\t\\t\\t\\t\\t\\t\\t\\n\\t\\t\\t\\t\\t\\t\\t\\t\\t\\t<td class=\"\">\\n\\t\\t\\t\\t\\t\\t\\t\\t\\t\\t\\t\\n\\t\\t\\t\\t\\t\\t\\t\\t\\t\\t\\t\\t\\n\\t\\t\\t\\t1.84\\n\\t\\t\\t\\n\\t\\t\\t\\t\\t\\t\\t\\t\\t\\t\\t\\n\\t\\t\\t\\t\\t\\t\\t\\t\\t\\t</td>\\n\\t\\t\\t\\t\\t\\t\\t\\t\\t\\t\\n\\t\\t\\t\\t\\t\\t\\t\\t\\t\\n\\t\\t\\t\\t\\t\\t\\t\\t\\t\\t\\n\\t\\t\\t\\t\\t\\t\\t\\t\\t\\t\\n\\t\\t\\t\\t\\t\\t\\t\\t\\t\\t\\n\\t\\t\\t\\t\\t\\t\\t\\t\\t\\t\\n\\t\\t\\t\\t\\t\\t\\t\\t\\t\\t<td class=\"\">\\n\\t\\t\\t\\t\\t\\t\\t\\t\\t\\t\\t\\n\\t\\t\\t\\t\\t\\t\\t\\t\\t\\t\\t\\t\\n\\t\\t\\t\\t2.61\\n\\t\\t\\t\\n\\t\\t\\t\\t\\t\\t\\t\\t\\t\\t\\t\\n\\t\\t\\t\\t\\t\\t\\t\\t\\t\\t</td>\\n\\t\\t\\t\\t\\t\\t\\t\\t\\t\\t\\n\\t\\t\\t\\t\\t\\t\\t\\t\\t\\n\\t\\t\\t\\t\\t\\t\\t\\t\\t\\t\\n\\t\\t\\t\\t\\t\\t\\t\\t\\t\\t\\n\\t\\t\\t\\t\\t\\t\\t\\t\\t\\t\\n\\t\\t\\t\\t\\t\\t\\t\\t\\t\\t\\n\\t\\t\\t\\t\\t\\t\\t\\t\\t\\t<td class=\"\">\\n\\t\\t\\t\\t\\t\\t\\t\\t\\t\\t\\t\\n\\t\\t\\t\\t\\t\\t\\t\\t\\t\\t\\t\\t\\n\\t\\t\\t\\t1.84\\n\\t\\t\\t\\n\\t\\t\\t\\t\\t\\t\\t\\t\\t\\t\\t\\n\\t\\t\\t\\t\\t\\t\\t\\t\\t\\t</td>\\n\\t\\t\\t\\t\\t\\t\\t\\t\\t\\t\\n\\t\\t\\t\\t\\t\\t\\t\\t\\t\\n\\t\\t\\t\\t\\t\\t\\t\\t\\t\\t\\n\\t\\t\\t\\t\\t\\t\\t\\t\\t\\t\\n\\t\\t\\t\\t\\t\\t\\t\\t\\t\\t\\t\\n\\t\\t\\t\\t\\t\\t\\t\\t\\t\\t\\n\\t\\t\\t\\t\\t\\t\\t\\t\\t\\t\\n\\t\\t\\t\\t\\t\\t\\t\\t\\t\\t\\t\\n\\t\\t\\t\\t\\t\\t\\t\\t\\t\\t\\n\\t\\t\\t\\t\\t\\t\\t\\t\\t\\t\\n\\t\\t\\t\\t\\t\\t\\t\\t\\t\\t<td class=\"no_data 2 t_line cell_strong\">\\n\\t\\t\\t\\t\\t\\t\\t\\t\\t\\t\\t\\n\\t\\t\\t\\t\\t\\t\\t\\t\\t\\t</td>\\n\\t\\t\\t\\t\\t\\t\\t\\t\\t\\t\\n\\t\\t\\t\\t\\t\\t\\t\\t\\t\\n\\t\\t\\t\\t\\t\\t\\t\\t\\t\\t\\n\\t\\t\\t\\t\\t\\t\\t\\t\\t\\t\\n\\t\\t\\t\\t\\t\\t\\t\\t\\t\\t\\n\\t\\t\\t\\t\\t\\t\\t\\t\\t\\t\\n\\t\\t\\t\\t\\t\\t\\t\\t\\t\\t<td class=\"\">\\n\\t\\t\\t\\t\\t\\t\\t\\t\\t\\t\\t\\n\\t\\t\\t\\t\\t\\t\\t\\t\\t\\t\\t\\t\\n\\t\\t\\t\\t0.56\\n\\t\\t\\t\\n\\t\\t\\t\\t\\t\\t\\t\\t\\t\\t\\t\\n\\t\\t\\t\\t\\t\\t\\t\\t\\t\\t</td>\\n\\t\\t\\t\\t\\t\\t\\t\\t\\t\\t\\n\\t\\t\\t\\t\\t\\t\\t\\t\\t\\n\\t\\t\\t\\t\\t\\t\\t\\t\\t\\t\\n\\t\\t\\t\\t\\t\\t\\t\\t\\t\\t\\n\\t\\t\\t\\t\\t\\t\\t\\t\\t\\t\\n\\t\\t\\t\\t\\t\\t\\t\\t\\t\\t\\n\\t\\t\\t\\t\\t\\t\\t\\t\\t\\t<td class=\"\">\\n\\t\\t\\t\\t\\t\\t\\t\\t\\t\\t\\t\\n\\t\\t\\t\\t\\t\\t\\t\\t\\t\\t\\t\\t\\n\\t\\t\\t\\t0.50\\n\\t\\t\\t\\n\\t\\t\\t\\t\\t\\t\\t\\t\\t\\t\\t\\n\\t\\t\\t\\t\\t\\t\\t\\t\\t\\t</td>\\n\\t\\t\\t\\t\\t\\t\\t\\t\\t\\t\\n\\t\\t\\t\\t\\t\\t\\t\\t\\t\\n\\t\\t\\t\\t\\t\\t\\t\\t\\t\\t\\n\\t\\t\\t\\t\\t\\t\\t\\t\\t\\t\\n\\t\\t\\t\\t\\t\\t\\t\\t\\t\\t\\n\\t\\t\\t\\t\\t\\t\\t\\t\\t\\t\\n\\t\\t\\t\\t\\t\\t\\t\\t\\t\\t<td class=\"\">\\n\\t\\t\\t\\t\\t\\t\\t\\t\\t\\t\\t\\n\\t\\t\\t\\t\\t\\t\\t\\t\\t\\t\\t\\t\\n\\t\\t\\t\\t0.53\\n\\t\\t\\t\\n\\t\\t\\t\\t\\t\\t\\t\\t\\t\\t\\t\\n\\t\\t\\t\\t\\t\\t\\t\\t\\t\\t</td>\\n\\t\\t\\t\\t\\t\\t\\t\\t\\t\\t\\n\\t\\t\\t\\t\\t\\t\\t\\t\\t\\n\\t\\t\\t\\t\\t\\t\\t\\t\\t\\t\\n\\t\\t\\t\\t\\t\\t\\t\\t\\t\\t\\n\\t\\t\\t\\t\\t\\t\\t\\t\\t\\t\\n\\t\\t\\t\\t\\t\\t\\t\\t\\t\\t\\n\\t\\t\\t\\t\\t\\t\\t\\t\\t\\t<td class=\"\">\\n\\t\\t\\t\\t\\t\\t\\t\\t\\t\\t\\t\\n\\t\\t\\t\\t\\t\\t\\t\\t\\t\\t\\t\\t\\n\\t\\t\\t\\t0.46\\n\\t\\t\\t\\n\\t\\t\\t\\t\\t\\t\\t\\t\\t\\t\\t\\n\\t\\t\\t\\t\\t\\t\\t\\t\\t\\t</td>\\n\\t\\t\\t\\t\\t\\t\\t\\t\\t\\t\\n\\t\\t\\t\\t\\t\\t\\t\\t\\t\\n\\t\\t\\t\\t\\t\\t\\t\\t\\t\\t\\n\\t\\t\\t\\t\\t\\t\\t\\t\\t\\t\\n\\t\\t\\t\\t\\t\\t\\t\\t\\t\\t\\n\\t\\t\\t\\t\\t\\t\\t\\t\\t\\t\\n\\t\\t\\t\\t\\t\\t\\t\\t\\t\\t<td class=\"\">\\n\\t\\t\\t\\t\\t\\t\\t\\t\\t\\t\\t\\n\\t\\t\\t\\t\\t\\t\\t\\t\\t\\t\\t\\t\\n\\t\\t\\t\\t0.44\\n\\t\\t\\t\\n\\t\\t\\t\\t\\t\\t\\t\\t\\t\\t\\t\\n\\t\\t\\t\\t\\t\\t\\t\\t\\t\\t</td>\\n\\t\\t\\t\\t\\t\\t\\t\\t\\t\\t\\n\\t\\t\\t\\t\\t\\t\\t\\t\\t\\n\\t\\t\\t\\t\\t\\t\\t\\t\\t\\t\\n\\t\\t\\t\\t\\t\\t\\t\\t\\t\\t\\n\\t\\t\\t\\t\\t\\t\\t\\t\\t\\t\\t\\n\\t\\t\\t\\t\\t\\t\\t\\t\\t\\t\\n\\t\\t\\t\\t\\t\\t\\t\\t\\t\\t\\n\\t\\t\\t\\t\\t\\t\\t\\t\\t\\t\\n\\t\\t\\t\\t\\t\\t\\t\\t\\t\\t\\t\\n\\t\\t\\t\\t\\t\\t\\t\\t\\t\\t\\n\\t\\t\\t\\t\\t\\t\\t\\t\\t\\t<td class=\"no_data 2 last cell_strong\">\\n\\t\\t\\t\\t\\t\\t\\t\\t\\t\\t\\t\\n\\t\\t\\t\\t\\t\\t\\t\\t\\t\\t</td>\\n\\t\\t\\t\\t\\t\\t\\t\\t\\t\\t\\n\\t\\t\\t\\t\\t\\t\\t\\t\\t\\n\\n\\t\\t\\t\\t\\t\\t\\t\\t</tr>\\n\\t\\t\\t\\t\\t\\t\\t\\t<tr>\\n\\t\\t\\t\\t\\t\\t\\t\\t\\t<th scope=\"row\" class=\"h_th2 th_cop_anal23\"><strong>\\xb9\\xe8\\xb4\\xe7\\xbc\\xba\\xc7\\xe2(%)</strong></th>\\n\\t\\t\\t\\t\\t\\t\\t\\t\\t\\n\\t\\t\\t\\t\\t\\t\\t\\t\\t\\t\\n\\t\\t\\t\\t\\t\\t\\t\\t\\t\\t\\n\\t\\t\\t\\t\\t\\t\\t\\t\\t\\t\\n\\t\\t\\t\\t\\t\\t\\t\\t\\t\\t\\n\\t\\t\\t\\t\\t\\t\\t\\t\\t\\t<td class=\"\">\\n\\t\\t\\t\\t\\t\\t\\t\\t\\t\\t\\t\\n\\t\\t\\t\\t\\t\\t\\t\\t\\t\\t\\t\\t\\n\\t\\t\\t\\t25.00\\n\\t\\t\\t\\n\\t\\t\\t\\t\\t\\t\\t\\t\\t\\t\\t\\n\\t\\t\\t\\t\\t\\t\\t\\t\\t\\t</td>\\n\\t\\t\\t\\t\\t\\t\\t\\t\\t\\t\\n\\t\\t\\t\\t\\t\\t\\t\\t\\t\\n\\t\\t\\t\\t\\t\\t\\t\\t\\t\\t\\n\\t\\t\\t\\t\\t\\t\\t\\t\\t\\t\\n\\t\\t\\t\\t\\t\\t\\t\\t\\t\\t\\n\\t\\t\\t\\t\\t\\t\\t\\t\\t\\t\\n\\t\\t\\t\\t\\t\\t\\t\\t\\t\\t<td class=\"\">\\n\\t\\t\\t\\t\\t\\t\\t\\t\\t\\t\\t\\n\\t\\t\\t\\t\\t\\t\\t\\t\\t\\t\\t\\t\\n\\t\\t\\t\\t17.92\\n\\t\\t\\t\\n\\t\\t\\t\\t\\t\\t\\t\\t\\t\\t\\t\\n\\t\\t\\t\\t\\t\\t\\t\\t\\t\\t</td>\\n\\t\\t\\t\\t\\t\\t\\t\\t\\t\\t\\n\\t\\t\\t\\t\\t\\t\\t\\t\\t\\n\\t\\t\\t\\t\\t\\t\\t\\t\\t\\t\\n\\t\\t\\t\\t\\t\\t\\t\\t\\t\\t\\n\\t\\t\\t\\t\\t\\t\\t\\t\\t\\t\\n\\t\\t\\t\\t\\t\\t\\t\\t\\t\\t\\n\\t\\t\\t\\t\\t\\t\\t\\t\\t\\t<td class=\"\">\\n\\t\\t\\t\\t\\t\\t\\t\\t\\t\\t\\t\\n\\t\\t\\t\\t\\t\\t\\t\\t\\t\\t\\t\\t\\n\\t\\t\\t\\t67.78\\n\\t\\t\\t\\n\\t\\t\\t\\t\\t\\t\\t\\t\\t\\t\\t\\n\\t\\t\\t\\t\\t\\t\\t\\t\\t\\t</td>\\n\\t\\t\\t\\t\\t\\t\\t\\t\\t\\t\\n\\t\\t\\t\\t\\t\\t\\t\\t\\t\\n\\t\\t\\t\\t\\t\\t\\t\\t\\t\\t\\n\\t\\t\\t\\t\\t\\t\\t\\t\\t\\t\\n\\t\\t\\t\\t\\t\\t\\t\\t\\t\\t\\t\\n\\t\\t\\t\\t\\t\\t\\t\\t\\t\\t\\n\\t\\t\\t\\t\\t\\t\\t\\t\\t\\t\\n\\t\\t\\t\\t\\t\\t\\t\\t\\t\\t\\t\\n\\t\\t\\t\\t\\t\\t\\t\\t\\t\\t\\n\\t\\t\\t\\t\\t\\t\\t\\t\\t\\t\\n\\t\\t\\t\\t\\t\\t\\t\\t\\t\\t<td class=\"no_data 2 t_line cell_strong\">\\n\\t\\t\\t\\t\\t\\t\\t\\t\\t\\t\\t\\n\\t\\t\\t\\t\\t\\t\\t\\t\\t\\t</td>\\n\\t\\t\\t\\t\\t\\t\\t\\t\\t\\t\\n\\t\\t\\t\\t\\t\\t\\t\\t\\t\\n\\t\\t\\t\\t\\t\\t\\t\\t\\t\\t\\n\\t\\t\\t\\t\\t\\t\\t\\t\\t\\t\\n\\t\\t\\t\\t\\t\\t\\t\\t\\t\\t\\n\\t\\t\\t\\t\\t\\t\\t\\t\\t\\t\\n\\t\\t\\t\\t\\t\\t\\t\\t\\t\\t<td class=\"\">\\n\\t\\t\\t\\t\\t\\t\\t\\t\\t\\t\\t\\n\\t\\t\\t\\t\\t\\t\\t\\t\\t\\t\\t\\t\\n\\t\\t\\t\\t175.00\\n\\t\\t\\t\\n\\t\\t\\t\\t\\t\\t\\t\\t\\t\\t\\t\\n\\t\\t\\t\\t\\t\\t\\t\\t\\t\\t</td>\\n\\t\\t\\t\\t\\t\\t\\t\\t\\t\\t\\n\\t\\t\\t\\t\\t\\t\\t\\t\\t\\n\\t\\t\\t\\t\\t\\t\\t\\t\\t\\t\\n\\t\\t\\t\\t\\t\\t\\t\\t\\t\\t\\n\\t\\t\\t\\t\\t\\t\\t\\t\\t\\t\\n\\t\\t\\t\\t\\t\\t\\t\\t\\t\\t\\n\\t\\t\\t\\t\\t\\t\\t\\t\\t\\t<td class=\"\">\\n\\t\\t\\t\\t\\t\\t\\t\\t\\t\\t\\t\\n\\t\\t\\t\\t\\t\\t\\t\\t\\t\\t\\t\\t\\n\\t\\t\\t\\t158.51\\n\\t\\t\\t\\n\\t\\t\\t\\t\\t\\t\\t\\t\\t\\t\\t\\n\\t\\t\\t\\t\\t\\t\\t\\t\\t\\t</td>\\n\\t\\t\\t\\t\\t\\t\\t\\t\\t\\t\\n\\t\\t\\t\\t\\t\\t\\t\\t\\t\\n\\t\\t\\t\\t\\t\\t\\t\\t\\t\\t\\n\\t\\t\\t\\t\\t\\t\\t\\t\\t\\t\\n\\t\\t\\t\\t\\t\\t\\t\\t\\t\\t\\n\\t\\t\\t\\t\\t\\t\\t\\t\\t\\t\\n\\t\\t\\t\\t\\t\\t\\t\\t\\t\\t<td class=\"\">\\n\\t\\t\\t\\t\\t\\t\\t\\t\\t\\t\\t\\n\\t\\t\\t\\t\\t\\t\\t\\t\\t\\t\\t\\t\\n\\t\\t\\t\\t44.57\\n\\t\\t\\t\\n\\t\\t\\t\\t\\t\\t\\t\\t\\t\\t\\t\\n\\t\\t\\t\\t\\t\\t\\t\\t\\t\\t</td>\\n\\t\\t\\t\\t\\t\\t\\t\\t\\t\\t\\n\\t\\t\\t\\t\\t\\t\\t\\t\\t\\n\\t\\t\\t\\t\\t\\t\\t\\t\\t\\t\\n\\t\\t\\t\\t\\t\\t\\t\\t\\t\\t\\n\\t\\t\\t\\t\\t\\t\\t\\t\\t\\t\\n\\t\\t\\t\\t\\t\\t\\t\\t\\t\\t\\n\\t\\t\\t\\t\\t\\t\\t\\t\\t\\t<td class=\"\">\\n\\t\\t\\t\\t\\t\\t\\t\\t\\t\\t\\t\\n\\t\\t\\t\\t\\t\\t\\t\\t\\t\\t\\t\\t\\n\\t\\t\\t\\t40.72\\n\\t\\t\\t\\n\\t\\t\\t\\t\\t\\t\\t\\t\\t\\t\\t\\n\\t\\t\\t\\t\\t\\t\\t\\t\\t\\t</td>\\n\\t\\t\\t\\t\\t\\t\\t\\t\\t\\t\\n\\t\\t\\t\\t\\t\\t\\t\\t\\t\\n\\t\\t\\t\\t\\t\\t\\t\\t\\t\\t\\n\\t\\t\\t\\t\\t\\t\\t\\t\\t\\t\\n\\t\\t\\t\\t\\t\\t\\t\\t\\t\\t\\n\\t\\t\\t\\t\\t\\t\\t\\t\\t\\t\\n\\t\\t\\t\\t\\t\\t\\t\\t\\t\\t<td class=\"\">\\n\\t\\t\\t\\t\\t\\t\\t\\t\\t\\t\\t\\n\\t\\t\\t\\t\\t\\t\\t\\t\\t\\t\\t\\t\\n\\t\\t\\t\\t37.04\\n\\t\\t\\t\\n\\t\\t\\t\\t\\t\\t\\t\\t\\t\\t\\t\\n\\t\\t\\t\\t\\t\\t\\t\\t\\t\\t</td>\\n\\t\\t\\t\\t\\t\\t\\t\\t\\t\\t\\n\\t\\t\\t\\t\\t\\t\\t\\t\\t\\n\\t\\t\\t\\t\\t\\t\\t\\t\\t\\t\\n\\t\\t\\t\\t\\t\\t\\t\\t\\t\\t\\n\\t\\t\\t\\t\\t\\t\\t\\t\\t\\t\\t\\n\\t\\t\\t\\t\\t\\t\\t\\t\\t\\t\\n\\t\\t\\t\\t\\t\\t\\t\\t\\t\\t\\n\\t\\t\\t\\t\\t\\t\\t\\t\\t\\t\\n\\t\\t\\t\\t\\t\\t\\t\\t\\t\\t\\t\\n\\t\\t\\t\\t\\t\\t\\t\\t\\t\\t\\n\\t\\t\\t\\t\\t\\t\\t\\t\\t\\t<td class=\"no_data 2 last cell_strong\">\\n\\t\\t\\t\\t\\t\\t\\t\\t\\t\\t\\t\\n\\t\\t\\t\\t\\t\\t\\t\\t\\t\\t</td>\\n\\t\\t\\t\\t\\t\\t\\t\\t\\t\\t\\n\\t\\t\\t\\t\\t\\t\\t\\t\\t\\n\\n\\t\\t\\t\\t\\t\\t\\t\\t</tr>\\n\\t\\t\\t\\t\\t\\t\\t\\t</tbody>\\n\\t\\t\\t\\t\\t\\t\\t</table>\\n\\t\\t\\t\\t\\t\\t</div>\\n\\t\\t\\t\\t\\t\\t<div class=\"dsc_ifrs\">\\n\\t\\t\\t\\t\\t\\t\\t<ul>\\n\\t\\t\\t\\t\\t\\t\\t\\t<li>\\xba\\xd0\\xb1\\xe2 \\xbd\\xc7\\xc0\\xfb\\xc0\\xba \\xc7\\xd8\\xb4\\xe7 \\xba\\xd0\\xb1\\xe2\\xb1\\xee\\xc1\\xf6\\xc0\\xc7 \\xb4\\xa9\\xc0\\xfb \\xbd\\xc7\\xc0\\xfb\\xbf\\xa1\\xbc\\xad \\xc1\\xf7\\xc0\\xfc \\xba\\xd0\\xb1\\xe2\\xb1\\xee\\xc1\\xf6\\xc0\\xc7 \\xb4\\xa9\\xc0\\xfb \\xbd\\xc7\\xc0\\xfb\\xc0\\xbb \\xc2\\xf7\\xb0\\xa8\\xc7\\xcf\\xb4\\xc2 \\xb9\\xe6\\xbd\\xc4\\xc0\\xb8\\xb7\\xce \\xb0\\xe8\\xbb\\xea\\xb5\\xc7\\xb9\\xc7\\xb7\\xce,<br>\\xb1\\xe2\\xbe\\xf7\\xbf\\xa1\\xbc\\xad \\xb0\\xf8\\xbd\\xc3\\xc7\\xd1 \\xba\\xd0\\xb1\\xe2 \\xbd\\xc7\\xc0\\xfb\\xb0\\xfa \\xc2\\xf7\\xc0\\xcc\\xb0\\xa1 \\xc0\\xd6\\xc0\\xbb \\xbc\\xf6 \\xc0\\xd6\\xbd\\xc0\\xb4\\xcf\\xb4\\xd9.</li>\\n\\t\\t\\t\\t\\t\\t\\t\\t<li>\\xc4\\xc1\\xbc\\xbe\\xbc\\xad\\xbd\\xba(<em>E</em>) : \\xc3\\xd6\\xb1\\xd9 3\\xb0\\xb3\\xbf\\xf9\\xb0\\xa3 \\xc1\\xf5\\xb1\\xc7\\xbb\\xe7\\xbf\\xa1\\xbc\\xad \\xb9\\xdf\\xc7\\xa5\\xc7\\xd1 \\xc0\\xfc\\xb8\\xc1\\xc4\\xa1\\xc0\\xc7 \\xc6\\xf2\\xb1\\xd5\\xb0\\xaa\\xc0\\xd4\\xb4\\xcf\\xb4\\xd9.</li>\\n\\t\\t\\t\\t\\t\\t\\t</ul>\\n\\t\\t\\t\\t\\t\\t</div>\\n\\t\\t\\t\\t\\t\\t<div class=\"ly_moreifrs\" style=\"display:none\">\\n\\t\\t\\t\\t\\t\\t\\t<ul class=\"blind\">\\n\\t\\t\\t\\t\\t\\t\\t\\t<li> \\xbc\\xd5\\xc0\\xcd\\xb0\\xe8\\xbb\\xea\\xbc\\xad\\n\\t\\t\\t\\t\\t\\t\\t\\t\\t<dl>\\n\\t\\t\\t\\t\\t\\t\\t\\t\\t\\t<dt>\\xc1\\xb6\\xc1\\xa4\\xbf\\xb5\\xbe\\xf7\\xc0\\xcc\\xc0\\xcd</dt>\\n\\t\\t\\t\\t\\t\\t\\t\\t\\t\\t<dd>\\xb8\\xc5\\xc3\\xe2\\xbe\\xd7-\\xb8\\xc5\\xc3\\xe2\\xbf\\xf8\\xb0\\xa1-\\xc6\\xc7\\xb0\\xfc\\xba\\xf1</dd>\\n\\t\\t\\t\\t\\t\\t\\t\\t\\t\\t<dt>\\xc1\\xf6\\xb9\\xe8\\xc1\\xd6\\xc1\\xd6\\xc1\\xf6\\xba\\xd0</dt>\\n\\t\\t\\t\\t\\t\\t\\t\\t\\t\\t<dd>\\xc1\\xf6\\xb9\\xe8\\xc8\\xb8\\xbb\\xf3\\xc0\\xc7 \\xc1\\xf6\\xba\\xd0\\xbf\\xa1 \\xb1\\xcd\\xbc\\xd3\\xb5\\xc7\\xb4\\xc2 \\xb4\\xe7\\xb1\\xe2\\xbc\\xf8\\xc0\\xcc\\xc0\\xcd</dd>\\n\\t\\t\\t\\t\\t\\t\\t\\t\\t\\t<dt>\\xba\\xf1\\xc1\\xf6\\xb9\\xe8\\xc1\\xd6\\xc1\\xd6\\xc1\\xf6\\xba\\xd0</dt>\\n\\t\\t\\t\\t\\t\\t\\t\\t\\t\\t<dd>\\xc1\\xbe\\xbc\\xd3\\xc8\\xb8\\xbb\\xe7\\xc0\\xc7 \\xc1\\xf6\\xba\\xd0\\xbf\\xa1 \\xb1\\xcd\\xbc\\xd3\\xb5\\xc7\\xb4\\xc2 \\xb4\\xe7\\xb1\\xe2\\xbc\\xf8\\xc0\\xcc\\xc0\\xcd</dd>\\n\\t\\t\\t\\t\\t\\t\\t\\t\\t</dl>\\n\\t\\t\\t\\t\\t\\t\\t\\t</li>\\n\\t\\t\\t\\t\\t\\t\\t\\t<li> \\xbc\\xf6\\xc0\\xcd\\xbc\\xba\\n\\t\\t\\t\\t\\t\\t\\t\\t\\t<dl>\\n\\t\\t\\t\\t\\t\\t\\t\\t\\t\\t<dt>\\xc1\\xb6\\xc1\\xa4\\xbf\\xb5\\xbe\\xf7\\xc0\\xcc\\xc0\\xcd\\xb7\\xfc</dt>\\n\\t\\t\\t\\t\\t\\t\\t\\t\\t\\t<dd>\\xc1\\xb6\\xc1\\xa4\\xbf\\xb5\\xbe\\xf7\\xc0\\xcc\\xc0\\xcd/\\xb8\\xc5\\xc3\\xe2\\xbe\\xd7</dd>\\n\\t\\t\\t\\t\\t\\t\\t\\t\\t\\t<dt>ROE(\\xc1\\xf6\\xb9\\xe8\\xc1\\xd6\\xc1\\xd6\\xc1\\xf6\\xba\\xd0)</dt>\\n\\t\\t\\t\\t\\t\\t\\t\\t\\t\\t<dd>\\xc1\\xf6\\xb9\\xe8\\xc1\\xd6\\xc1\\xd6\\xc1\\xf6\\xba\\xd0 \\xb4\\xe7\\xb1\\xe2\\xbc\\xf8\\xc0\\xcc\\xc0\\xcd / (\\xc0\\xda\\xba\\xbb\\xc3\\xd1\\xb0\\xe8 - \\xba\\xf1\\xc1\\xf6\\xb9\\xe8\\xc1\\xd6\\xc1\\xd6\\xc1\\xf6\\xba\\xd0)</dd>\\n\\t\\t\\t\\t\\t\\t\\t\\t\\t</dl>\\n\\t\\t\\t\\t\\t\\t\\t\\t</li>\\n\\t\\t\\t\\t\\t\\t\\t\\t<li> \\xb0\\xa1\\xc4\\xa1\\xc1\\xf6\\xc7\\xa5\\n\\t\\t\\t\\t\\t\\t\\t\\t\\t<dl>\\n\\t\\t\\t\\t\\t\\t\\t\\t\\t\\t<dt>EPS(\\xc1\\xf6\\xb9\\xe8\\xc1\\xd6\\xc1\\xd6\\xc1\\xf6\\xba\\xd0)</dt>\\n\\t\\t\\t\\t\\t\\t\\t\\t\\t\\t<dd>\\xc1\\xf6\\xb9\\xe8\\xc1\\xd6\\xc1\\xd6\\xc1\\xf6\\xba\\xd0 \\xb4\\xe7\\xb1\\xe2\\xbc\\xf8\\xc0\\xcc\\xc0\\xcd/\\xc1\\xf6\\xb9\\xe8\\xc1\\xd6\\xc1\\xd6 \\xc6\\xf2\\xb1\\xd5\\xb9\\xdf\\xc7\\xe0\\xc1\\xd6\\xbd\\xc4\\xbc\\xf6(\\xbf\\xec\\xbc\\xb1\\xc1\\xd6+\\xba\\xb8\\xc5\\xeb\\xc1\\xd6)</dd>\\n\\t\\t\\t\\t\\t\\t\\t\\t\\t\\t<dt>BPS(\\xc1\\xf6\\xb9\\xe8\\xc1\\xd6\\xc1\\xd6\\xc1\\xf6\\xba\\xd0</dt>\\n\\t\\t\\t\\t\\t\\t\\t\\t\\t\\t<dd>\\xc1\\xf6\\xb9\\xe8\\xc1\\xd6\\xc1\\xd6\\xc1\\xf6\\xba\\xd0 \\xb1\\xcd\\xbc\\xd3 \\xbc\\xf8\\xc0\\xda\\xbb\\xea/\\xc1\\xf6\\xb9\\xe8\\xc1\\xd6\\xc1\\xd6 \\xb1\\xe2\\xb8\\xbb\\xb9\\xdf\\xc7\\xe0\\xc1\\xd6\\xbd\\xc4(\\xbf\\xec\\xbc\\xb1\\xc1\\xd6+\\xba\\xb8\\xc5\\xeb\\xc1\\xd6)</dd>\\n\\t\\t\\t\\t\\t\\t\\t\\t\\t</dl>\\n\\t\\t\\t\\t\\t\\t\\t\\t</li>\\n\\t\\t\\t\\t\\t\\t\\t</ul>\\n\\t\\t\\t\\t\\t\\t</div>\\n\\t\\t\\t\\t\\t\\t<div class=\"dummy\"></div>\\n\\t\\t\\t\\t\\t\\t<span class=\"btn_more\"><a href=\"/item/coinfo.naver?code=005930&target=finsum_more\">\\xb4\\xf5\\xba\\xb8\\xb1\\xe2</a></span>\\n\\t\\t\\t\\t\\t\\n\\t\\t\\t\\t\\t\\n\\t\\t\\t\\t\\n\\t\\t\\t</div>\\n\\t\\t\\t\\n\\t\\t\\t\\n\\t\\t\\t<hr>\\n\\t\\t\\t\\n\\t\\t\\t\\n\\t\\t\\t\\n\\t\\t\\t\\n\\t\\t\\t\\t<div class=\"section trade_compare\">\\n\\t\\t\\t\\t\\t<h4 class=\"h_sub sub_tit7\"><span>\\xb5\\xbf\\xc1\\xbe\\xbe\\xf7\\xc1\\xbe\\xba\\xf1\\xb1\\xb3</span><em style=\"position:relative;left:70px;\">(\\xbe\\xf7\\xc1\\xbe\\xb8\\xed : <a href=\"/sise/sise_group_detail.naver?type=upjong&no=278\">\\xb9\\xdd\\xb5\\xb5\\xc3\\xbc\\xbf\\xcd\\xb9\\xdd\\xb5\\xb5\\xc3\\xbc\\xc0\\xe5\\xba\\xf1</a><span class=\"bar\">\\xa3\\xfc</span>\\xc0\\xe7\\xb9\\xab\\xc1\\xa4\\xba\\xb8: 2024.03 \\xba\\xd0\\xb1\\xe2 \\xb1\\xe2\\xc1\\xd8)</em></h4>\\n\\t\\t\\t\\t\\t<table summary=\"\\xb5\\xbf\\xc1\\xbe\\xbe\\xf7\\xc1\\xbe \\xba\\xf1\\xb1\\xb3\\xbf\\xa1 \\xb0\\xfc\\xc7\\xd1\\xc7\\xa5\\xc0\\xcc\\xb8\\xe7 \\xc1\\xbe\\xb8\\xf1\\xb8\\xed\\xbf\\xa1 \\xb5\\xfb\\xb6\\xf3 \\xc1\\xa4\\xba\\xb8\\xb8\\xa6 \\xc1\\xa6\\xb0\\xf8\\xc7\\xd5\\xb4\\xcf\\xb4\\xd9.\"  class=\"tb_type1 tb_num\">\\n\\t\\t\\t\\t\\t\\t<caption>\\xb5\\xbf\\xc1\\xbe\\xbe\\xf7\\xc1\\xbe\\xba\\xf1\\xb1\\xb3</caption>\\n\\t\\t\\t\\t\\t\\t<thead>\\n\\t\\t\\t\\t\\t\\t<tr>\\n\\t\\t\\t\\t\\t\\t\\t<th class=\"h_th2 th_cop_comp1\"><span>\\xc1\\xbe\\xb8\\xf1\\xb8\\xed</span></th>\\n\\t\\t\\t\\t\\t\\t\\t\\n\\t\\t\\t\\t\\t\\t\\t\\n\\t\\t\\t\\t\\t\\t\\t\\t<th scope=\"col\"><a href=\"/item/main.naver?code=005930\">\\xbb\\xef\\xbc\\xba\\xc0\\xfc\\xc0\\xda<span class=\"star\">*</span><em>005930</em></a></th>\\n\\t\\t\\t\\t\\t\\t\\t\\t\\n\\t\\t\\t\\t\\t\\t\\t\\n\\t\\t\\t\\t\\t\\t\\t\\t<th scope=\"col\"><a href=\"/item/main.naver?code=000660\">SK\\xc7\\xcf\\xc0\\xcc\\xb4\\xd0\\xbd\\xba<span class=\"star\">*</span><em>000660</em></a></th>\\n\\t\\t\\t\\t\\t\\t\\t\\t\\n\\t\\t\\t\\t\\t\\t\\t\\n\\t\\t\\t\\t\\t\\t\\t\\t<th scope=\"col\"><a href=\"/item/main.naver?code=042700\">\\xc7\\xd1\\xb9\\xcc\\xb9\\xdd\\xb5\\xb5\\xc3\\xbc<span class=\"star\">*</span><em>042700</em></a></th>\\n\\t\\t\\t\\t\\t\\t\\t\\t\\n\\t\\t\\t\\t\\t\\t\\t\\n\\t\\t\\t\\t\\t\\t\\t\\t<th scope=\"col\"><a href=\"/item/main.naver?code=402340\">SK\\xbd\\xba\\xc4\\xf9\\xbe\\xee<span class=\"star\">*</span><em>402340</em></a></th>\\n\\t\\t\\t\\t\\t\\t\\t\\t\\n\\t\\t\\t\\t\\t\\t\\t\\n\\t\\t\\t\\t\\t\\t\\t\\t<th scope=\"col\"><a href=\"/item/main.naver?code=058470\">\\xb8\\xae\\xb3\\xeb\\xb0\\xf8\\xbe\\xf7<em>058470</em></a></th>\\n\\t\\t\\t\\t\\t\\t\\t\\t\\n\\t\\t\\t\\t\\t\\t\\t\\n\\t\\t\\t\\t\\t\\t\\t\\n\\t\\t\\t\\t\\t\\t</tr>\\n\\t\\t\\t\\t\\t\\t</thead>\\n\\t\\t\\t\\t\\t\\t<tbody>\\n\\t\\t\\t\\t\\t\\t<tr>\\n\\t\\t\\t\\t\\t\\t\\t<th scope=\"row\" class=\"h_th2 th_cop_comp2\"><span>\\xc7\\xf6\\xc0\\xe7\\xb0\\xa1</span></th>\\n\\t\\t\\t\\t\\t\\t\\t\\n\\t\\t\\t\\t\\t\\t\\t\\t\\n\\t\\t\\t\\t\\t\\t\\t\\t\\t\\n\\t\\t\\t\\t\\t\\t\\t\\t\\t\\n\\t\\t\\t\\t\\t\\t\\t\\t\\t\\n\\t\\t\\t\\t\\t\\t\\t\\t\\t\\t<td>79,600</td>\\n\\t\\t\\t\\t\\t\\t\\t\\t\\t\\n\\t\\t\\t\\t\\t\\t\\t\\t\\n\\t\\t\\t\\t\\t\\t\\t\\n\\t\\t\\t\\t\\t\\t\\t\\t\\n\\t\\t\\t\\t\\t\\t\\t\\t\\t\\n\\t\\t\\t\\t\\t\\t\\t\\t\\t\\n\\t\\t\\t\\t\\t\\t\\t\\t\\t\\n\\t\\t\\t\\t\\t\\t\\t\\t\\t\\t<td>173,200</td>\\n\\t\\t\\t\\t\\t\\t\\t\\t\\t\\n\\t\\t\\t\\t\\t\\t\\t\\t\\n\\t\\t\\t\\t\\t\\t\\t\\n\\t\\t\\t\\t\\t\\t\\t\\t\\n\\t\\t\\t\\t\\t\\t\\t\\t\\t\\n\\t\\t\\t\\t\\t\\t\\t\\t\\t\\n\\t\\t\\t\\t\\t\\t\\t\\t\\t\\n\\t\\t\\t\\t\\t\\t\\t\\t\\t\\t<td>115,400</td>\\n\\t\\t\\t\\t\\t\\t\\t\\t\\t\\n\\t\\t\\t\\t\\t\\t\\t\\t\\n\\t\\t\\t\\t\\t\\t\\t\\n\\t\\t\\t\\t\\t\\t\\t\\t\\n\\t\\t\\t\\t\\t\\t\\t\\t\\t\\n\\t\\t\\t\\t\\t\\t\\t\\t\\t\\n\\t\\t\\t\\t\\t\\t\\t\\t\\t\\n\\t\\t\\t\\t\\t\\t\\t\\t\\t\\t<td>75,900</td>\\n\\t\\t\\t\\t\\t\\t\\t\\t\\t\\n\\t\\t\\t\\t\\t\\t\\t\\t\\n\\t\\t\\t\\t\\t\\t\\t\\n\\t\\t\\t\\t\\t\\t\\t\\t\\n\\t\\t\\t\\t\\t\\t\\t\\t\\t\\n\\t\\t\\t\\t\\t\\t\\t\\t\\t\\n\\t\\t\\t\\t\\t\\t\\t\\t\\t\\n\\t\\t\\t\\t\\t\\t\\t\\t\\t\\t<td>189,400</td>\\n\\t\\t\\t\\t\\t\\t\\t\\t\\t\\n\\t\\t\\t\\t\\t\\t\\t\\t\\n\\t\\t\\t\\t\\t\\t\\t\\n\\t\\t\\t\\t\\t\\t\\t\\n\\t\\t\\t\\t\\t\\t</tr>\\n\\t\\t\\t\\t\\t\\t<tr>\\n\\t\\t\\t\\t\\t\\t\\t<th scope=\"row\" class=\"h_th2 th_cop_comp3\"><span>\\xc0\\xfc\\xc0\\xcf\\xb4\\xeb\\xba\\xf1</span></th>\\n\\t\\t\\t\\t\\t\\t\\t\\n\\t\\t\\t\\t\\t\\t\\t\\t\\n\\t\\t\\t\\t\\t\\t\\t\\t\\n\\t\\t\\t\\t\\t\\t\\t\\t\\t\\n\\t\\t\\t\\t\\t\\t\\t\\t\\t\\n\\t\\t\\t\\t\\t\\t\\t\\t\\t\\t<td>\\n\\t\\t\\t\\t<em class=\"f_down down\"><span>\\xc7\\xcf\\xc7\\xe2</span>\\n\\t\\t\\t\\t3,500\\n\\t\\t\\t\\t</em>\\n\\t\\t\\t</td>\\n\\t\\t\\t\\t\\t\\t\\t\\t\\t\\n\\t\\t\\t\\t\\t\\t\\t\\t\\n\\t\\t\\t\\t\\t\\t\\t\\n\\t\\t\\t\\t\\t\\t\\t\\t\\n\\t\\t\\t\\t\\t\\t\\t\\t\\n\\t\\t\\t\\t\\t\\t\\t\\t\\t\\n\\t\\t\\t\\t\\t\\t\\t\\t\\t\\n\\t\\t\\t\\t\\t\\t\\t\\t\\t\\t<td>\\n\\t\\t\\t\\t<em class=\"f_down down\"><span>\\xc7\\xcf\\xc7\\xe2</span>\\n\\t\\t\\t\\t20,100\\n\\t\\t\\t\\t</em>\\n\\t\\t\\t</td>\\n\\t\\t\\t\\t\\t\\t\\t\\t\\t\\n\\t\\t\\t\\t\\t\\t\\t\\t\\n\\t\\t\\t\\t\\t\\t\\t\\n\\t\\t\\t\\t\\t\\t\\t\\t\\n\\t\\t\\t\\t\\t\\t\\t\\t\\n\\t\\t\\t\\t\\t\\t\\t\\t\\t\\n\\t\\t\\t\\t\\t\\t\\t\\t\\t\\n\\t\\t\\t\\t\\t\\t\\t\\t\\t\\t<td>\\n\\t\\t\\t\\t<em class=\"f_down down\"><span>\\xc7\\xcf\\xc7\\xe2</span>\\n\\t\\t\\t\\t11,900\\n\\t\\t\\t\\t</em>\\n\\t\\t\\t</td>\\n\\t\\t\\t\\t\\t\\t\\t\\t\\t\\n\\t\\t\\t\\t\\t\\t\\t\\t\\n\\t\\t\\t\\t\\t\\t\\t\\n\\t\\t\\t\\t\\t\\t\\t\\t\\n\\t\\t\\t\\t\\t\\t\\t\\t\\n\\t\\t\\t\\t\\t\\t\\t\\t\\t\\n\\t\\t\\t\\t\\t\\t\\t\\t\\t\\n\\t\\t\\t\\t\\t\\t\\t\\t\\t\\t<td>\\n\\t\\t\\t\\t<em class=\"f_down down\"><span>\\xc7\\xcf\\xc7\\xe2</span>\\n\\t\\t\\t\\t7,400\\n\\t\\t\\t\\t</em>\\n\\t\\t\\t</td>\\n\\t\\t\\t\\t\\t\\t\\t\\t\\t\\n\\t\\t\\t\\t\\t\\t\\t\\t\\n\\t\\t\\t\\t\\t\\t\\t\\n\\t\\t\\t\\t\\t\\t\\t\\t\\n\\t\\t\\t\\t\\t\\t\\t\\t\\n\\t\\t\\t\\t\\t\\t\\t\\t\\t\\n\\t\\t\\t\\t\\t\\t\\t\\t\\t\\n\\t\\t\\t\\t\\t\\t\\t\\t\\t\\t<td>\\n\\t\\t\\t\\t<em class=\"f_down down\"><span>\\xc7\\xcf\\xc7\\xe2</span>\\n\\t\\t\\t\\t12,100\\n\\t\\t\\t\\t</em>\\n\\t\\t\\t</td>\\n\\t\\t\\t\\t\\t\\t\\t\\t\\t\\n\\t\\t\\t\\t\\t\\t\\t\\t\\n\\t\\t\\t\\t\\t\\t\\t\\n\\t\\t\\t\\t\\t\\t</tr>\\n\\t\\t\\t\\t\\t\\t<tr>\\n\\t\\t\\t\\t\\t\\t\\t<th scope=\"row\" class=\"h_th2 th_cop_comp4\"><span>\\xb5\\xee\\xb6\\xf4\\xb7\\xfc</span></th>\\n\\t\\t\\t\\t\\t\\t\\t\\n\\t\\t\\t\\t\\t\\t\\t\\t\\n\\t\\t\\t\\t\\t\\t\\t\\t\\t\\n\\t\\t\\t\\t\\t\\t\\t\\t\\t\\n\\t\\t\\t\\t\\t\\t\\t\\t\\t\\t<td>\\n\\t\\t\\t\\t<em class=\"f_down\"><span>\\xc7\\xcf\\xc7\\xe2</span>\\n\\t\\t\\t\\t-4.21%\\n\\t\\t\\t\\t</em>\\n\\t\\t\\t</td>\\n\\t\\t\\t\\t\\t\\t\\t\\t\\t\\n\\t\\t\\t\\t\\t\\t\\t\\t\\n\\t\\t\\t\\t\\t\\t\\t\\n\\t\\t\\t\\t\\t\\t\\t\\t\\n\\t\\t\\t\\t\\t\\t\\t\\t\\t\\n\\t\\t\\t\\t\\t\\t\\t\\t\\t\\n\\t\\t\\t\\t\\t\\t\\t\\t\\t\\t<td>\\n\\t\\t\\t\\t<em class=\"f_down\"><span>\\xc7\\xcf\\xc7\\xe2</span>\\n\\t\\t\\t\\t-10.40%\\n\\t\\t\\t\\t</em>\\n\\t\\t\\t</td>\\n\\t\\t\\t\\t\\t\\t\\t\\t\\t\\n\\t\\t\\t\\t\\t\\t\\t\\t\\n\\t\\t\\t\\t\\t\\t\\t\\n\\t\\t\\t\\t\\t\\t\\t\\t\\n\\t\\t\\t\\t\\t\\t\\t\\t\\t\\n\\t\\t\\t\\t\\t\\t\\t\\t\\t\\n\\t\\t\\t\\t\\t\\t\\t\\t\\t\\t<td>\\n\\t\\t\\t\\t<em class=\"f_down\"><span>\\xc7\\xcf\\xc7\\xe2</span>\\n\\t\\t\\t\\t-9.35%\\n\\t\\t\\t\\t</em>\\n\\t\\t\\t</td>\\n\\t\\t\\t\\t\\t\\t\\t\\t\\t\\n\\t\\t\\t\\t\\t\\t\\t\\t\\n\\t\\t\\t\\t\\t\\t\\t\\n\\t\\t\\t\\t\\t\\t\\t\\t\\n\\t\\t\\t\\t\\t\\t\\t\\t\\t\\n\\t\\t\\t\\t\\t\\t\\t\\t\\t\\n\\t\\t\\t\\t\\t\\t\\t\\t\\t\\t<td>\\n\\t\\t\\t\\t<em class=\"f_down\"><span>\\xc7\\xcf\\xc7\\xe2</span>\\n\\t\\t\\t\\t-8.88%\\n\\t\\t\\t\\t</em>\\n\\t\\t\\t</td>\\n\\t\\t\\t\\t\\t\\t\\t\\t\\t\\n\\t\\t\\t\\t\\t\\t\\t\\t\\n\\t\\t\\t\\t\\t\\t\\t\\n\\t\\t\\t\\t\\t\\t\\t\\t\\n\\t\\t\\t\\t\\t\\t\\t\\t\\t\\n\\t\\t\\t\\t\\t\\t\\t\\t\\t\\n\\t\\t\\t\\t\\t\\t\\t\\t\\t\\t<td>\\n\\t\\t\\t\\t<em class=\"f_down\"><span>\\xc7\\xcf\\xc7\\xe2</span>\\n\\t\\t\\t\\t-6.00%\\n\\t\\t\\t\\t</em>\\n\\t\\t\\t</td>\\n\\t\\t\\t\\t\\t\\t\\t\\t\\t\\n\\t\\t\\t\\t\\t\\t\\t\\t\\n\\t\\t\\t\\t\\t\\t\\t\\n\\t\\t\\t\\t\\t\\t</tr>\\n\\t\\t\\t\\t\\t\\t<tr>\\n\\t\\t\\t\\t\\t\\t\\t<th scope=\"row\" class=\"h_th2 th_cop_comp5\"><span>\\xbd\\xc3\\xb0\\xa1\\xc3\\xd1\\xbe\\xd7(\\xbe\\xef)</span></th>\\n\\t\\t\\t\\t\\t\\t\\t\\n\\t\\t\\t\\t\\t\\t\\t\\t\\n\\t\\t\\t\\t\\t\\t\\t\\t\\t\\n\\t\\t\\t\\t\\t\\t\\t\\t\\t\\n\\t\\t\\t\\t\\t\\t\\t\\t\\t\\n\\t\\t\\t\\t\\t\\t\\t\\t\\t\\t<td>4,751,946</td>\\n\\t\\t\\t\\t\\t\\t\\t\\t\\t\\n\\t\\t\\t\\t\\t\\t\\t\\t\\n\\t\\t\\t\\t\\t\\t\\t\\n\\t\\t\\t\\t\\t\\t\\t\\t\\n\\t\\t\\t\\t\\t\\t\\t\\t\\t\\n\\t\\t\\t\\t\\t\\t\\t\\t\\t\\n\\t\\t\\t\\t\\t\\t\\t\\t\\t\\n\\t\\t\\t\\t\\t\\t\\t\\t\\t\\t<td>1,260,900</td>\\n\\t\\t\\t\\t\\t\\t\\t\\t\\t\\n\\t\\t\\t\\t\\t\\t\\t\\t\\n\\t\\t\\t\\t\\t\\t\\t\\n\\t\\t\\t\\t\\t\\t\\t\\t\\n\\t\\t\\t\\t\\t\\t\\t\\t\\t\\n\\t\\t\\t\\t\\t\\t\\t\\t\\t\\n\\t\\t\\t\\t\\t\\t\\t\\t\\t\\n\\t\\t\\t\\t\\t\\t\\t\\t\\t\\t<td>111,930</td>\\n\\t\\t\\t\\t\\t\\t\\t\\t\\t\\n\\t\\t\\t\\t\\t\\t\\t\\t\\n\\t\\t\\t\\t\\t\\t\\t\\n\\t\\t\\t\\t\\t\\t\\t\\t\\n\\t\\t\\t\\t\\t\\t\\t\\t\\t\\n\\t\\t\\t\\t\\t\\t\\t\\t\\t\\n\\t\\t\\t\\t\\t\\t\\t\\t\\t\\n\\t\\t\\t\\t\\t\\t\\t\\t\\t\\t<td>102,275</td>\\n\\t\\t\\t\\t\\t\\t\\t\\t\\t\\n\\t\\t\\t\\t\\t\\t\\t\\t\\n\\t\\t\\t\\t\\t\\t\\t\\n\\t\\t\\t\\t\\t\\t\\t\\t\\n\\t\\t\\t\\t\\t\\t\\t\\t\\t\\n\\t\\t\\t\\t\\t\\t\\t\\t\\t\\n\\t\\t\\t\\t\\t\\t\\t\\t\\t\\n\\t\\t\\t\\t\\t\\t\\t\\t\\t\\t<td>28,869</td>\\n\\t\\t\\t\\t\\t\\t\\t\\t\\t\\n\\t\\t\\t\\t\\t\\t\\t\\t\\n\\t\\t\\t\\t\\t\\t\\t\\n\\t\\t\\t\\t\\t\\t</tr>\\n\\t\\t\\t\\t\\t\\t<tr>\\n\\t\\t\\t\\t\\t\\t\\t<th scope=\"row\" class=\"h_th2 th_cop_comp6\"><span>\\xbf\\xdc\\xb1\\xb9\\xc0\\xce\\xba\\xf1\\xc0\\xb2(%)</span></th>\\n\\t\\t\\t\\t\\t\\t\\t\\n\\t\\t\\t\\t\\t\\t\\t\\t\\n\\t\\t\\t\\t\\t\\t\\t\\t\\t\\n\\t\\t\\t\\t\\t\\t\\t\\t\\t\\n\\t\\t\\t\\t\\t\\t\\t\\t\\t\\n\\t\\t\\t\\t\\t\\t\\t\\t\\t\\t<td>56.48</td>\\n\\t\\t\\t\\t\\t\\t\\t\\t\\t\\n\\t\\t\\t\\t\\t\\t\\t\\t\\n\\t\\t\\t\\t\\t\\t\\t\\n\\t\\t\\t\\t\\t\\t\\t\\t\\n\\t\\t\\t\\t\\t\\t\\t\\t\\t\\n\\t\\t\\t\\t\\t\\t\\t\\t\\t\\n\\t\\t\\t\\t\\t\\t\\t\\t\\t\\n\\t\\t\\t\\t\\t\\t\\t\\t\\t\\t<td>54.84</td>\\n\\t\\t\\t\\t\\t\\t\\t\\t\\t\\n\\t\\t\\t\\t\\t\\t\\t\\t\\n\\t\\t\\t\\t\\t\\t\\t\\n\\t\\t\\t\\t\\t\\t\\t\\t\\n\\t\\t\\t\\t\\t\\t\\t\\t\\t\\n\\t\\t\\t\\t\\t\\t\\t\\t\\t\\n\\t\\t\\t\\t\\t\\t\\t\\t\\t\\n\\t\\t\\t\\t\\t\\t\\t\\t\\t\\t<td>13.05</td>\\n\\t\\t\\t\\t\\t\\t\\t\\t\\t\\n\\t\\t\\t\\t\\t\\t\\t\\t\\n\\t\\t\\t\\t\\t\\t\\t\\n\\t\\t\\t\\t\\t\\t\\t\\t\\n\\t\\t\\t\\t\\t\\t\\t\\t\\t\\n\\t\\t\\t\\t\\t\\t\\t\\t\\t\\n\\t\\t\\t\\t\\t\\t\\t\\t\\t\\n\\t\\t\\t\\t\\t\\t\\t\\t\\t\\t<td>52.85</td>\\n\\t\\t\\t\\t\\t\\t\\t\\t\\t\\n\\t\\t\\t\\t\\t\\t\\t\\t\\n\\t\\t\\t\\t\\t\\t\\t\\n\\t\\t\\t\\t\\t\\t\\t\\t\\n\\t\\t\\t\\t\\t\\t\\t\\t\\t\\n\\t\\t\\t\\t\\t\\t\\t\\t\\t\\n\\t\\t\\t\\t\\t\\t\\t\\t\\t\\n\\t\\t\\t\\t\\t\\t\\t\\t\\t\\t<td>36.16</td>\\n\\t\\t\\t\\t\\t\\t\\t\\t\\t\\n\\t\\t\\t\\t\\t\\t\\t\\t\\n\\t\\t\\t\\t\\t\\t\\t\\n\\t\\t\\t\\t\\t\\t</tr>\\n\\t\\t\\t\\t\\t\\t<tr>\\n\\t\\t\\t\\t\\t\\t\\t<th scope=\"row\" class=\"h_th2 th_cop_comp7\"><span>\\xb8\\xc5\\xc3\\xe2\\xbe\\xd7(\\xbe\\xef)</span></th>\\n\\t\\t\\t\\t\\t\\t\\t\\n\\t\\t\\t\\t\\t\\t\\t\\t\\n\\t\\t\\t\\t\\t\\t\\t\\t\\t\\n\\t\\t\\t\\t\\t\\t\\t\\t\\t\\n\\t\\t\\t\\t\\t\\t\\t\\t\\t\\n\\t\\t\\t\\t\\t\\t\\t\\t\\t\\t<td>719,156</td>\\n\\t\\t\\t\\t\\t\\t\\t\\t\\t\\n\\t\\t\\t\\t\\t\\t\\t\\t\\n\\t\\t\\t\\t\\t\\t\\t\\n\\t\\t\\t\\t\\t\\t\\t\\t\\n\\t\\t\\t\\t\\t\\t\\t\\t\\t\\n\\t\\t\\t\\t\\t\\t\\t\\t\\t\\n\\t\\t\\t\\t\\t\\t\\t\\t\\t\\n\\t\\t\\t\\t\\t\\t\\t\\t\\t\\t<td>124,296</td>\\n\\t\\t\\t\\t\\t\\t\\t\\t\\t\\n\\t\\t\\t\\t\\t\\t\\t\\t\\n\\t\\t\\t\\t\\t\\t\\t\\n\\t\\t\\t\\t\\t\\t\\t\\t\\n\\t\\t\\t\\t\\t\\t\\t\\t\\t\\n\\t\\t\\t\\t\\t\\t\\t\\t\\t\\n\\t\\t\\t\\t\\t\\t\\t\\t\\t\\n\\t\\t\\t\\t\\t\\t\\t\\t\\t\\t<td>773</td>\\n\\t\\t\\t\\t\\t\\t\\t\\t\\t\\n\\t\\t\\t\\t\\t\\t\\t\\t\\n\\t\\t\\t\\t\\t\\t\\t\\n\\t\\t\\t\\t\\t\\t\\t\\t\\n\\t\\t\\t\\t\\t\\t\\t\\t\\t\\n\\t\\t\\t\\t\\t\\t\\t\\t\\t\\n\\t\\t\\t\\t\\t\\t\\t\\t\\t\\n\\t\\t\\t\\t\\t\\t\\t\\t\\t\\t<td>8,857</td>\\n\\t\\t\\t\\t\\t\\t\\t\\t\\t\\n\\t\\t\\t\\t\\t\\t\\t\\t\\n\\t\\t\\t\\t\\t\\t\\t\\n\\t\\t\\t\\t\\t\\t\\t\\t\\n\\t\\t\\t\\t\\t\\t\\t\\t\\t\\n\\t\\t\\t\\t\\t\\t\\t\\t\\t\\n\\t\\t\\t\\t\\t\\t\\t\\t\\t\\n\\t\\t\\t\\t\\t\\t\\t\\t\\t\\t<td>549</td>\\n\\t\\t\\t\\t\\t\\t\\t\\t\\t\\n\\t\\t\\t\\t\\t\\t\\t\\t\\n\\t\\t\\t\\t\\t\\t\\t\\n\\t\\t\\t\\t\\t\\t</tr>\\n\\t\\t\\t\\t\\t\\t<tr>\\n\\t\\t\\t\\t\\t\\t\\t<th scope=\"row\" class=\"h_th2 th_cop_comp8\"><span>\\xbf\\xb5\\xbe\\xf7\\xc0\\xcc\\xc0\\xcd(\\xbe\\xef)</span></th>\\n\\t\\t\\t\\t\\t\\t\\t\\n\\t\\t\\t\\t\\t\\t\\t\\t\\n\\t\\t\\t\\t\\t\\t\\t\\t\\t\\n\\t\\t\\t\\t\\t\\t\\t\\t\\t\\n\\t\\t\\t\\t\\t\\t\\t\\t\\t\\n\\t\\t\\t\\t\\t\\t\\t\\t\\t\\t<td>66,060</td>\\n\\t\\t\\t\\t\\t\\t\\t\\t\\t\\n\\t\\t\\t\\t\\t\\t\\t\\t\\n\\t\\t\\t\\t\\t\\t\\t\\n\\t\\t\\t\\t\\t\\t\\t\\t\\n\\t\\t\\t\\t\\t\\t\\t\\t\\t\\n\\t\\t\\t\\t\\t\\t\\t\\t\\t\\n\\t\\t\\t\\t\\t\\t\\t\\t\\t\\n\\t\\t\\t\\t\\t\\t\\t\\t\\t\\t<td>28,860</td>\\n\\t\\t\\t\\t\\t\\t\\t\\t\\t\\n\\t\\t\\t\\t\\t\\t\\t\\t\\n\\t\\t\\t\\t\\t\\t\\t\\n\\t\\t\\t\\t\\t\\t\\t\\t\\n\\t\\t\\t\\t\\t\\t\\t\\t\\t\\n\\t\\t\\t\\t\\t\\t\\t\\t\\t\\n\\t\\t\\t\\t\\t\\t\\t\\t\\t\\n\\t\\t\\t\\t\\t\\t\\t\\t\\t\\t<td>287</td>\\n\\t\\t\\t\\t\\t\\t\\t\\t\\t\\n\\t\\t\\t\\t\\t\\t\\t\\t\\n\\t\\t\\t\\t\\t\\t\\t\\n\\t\\t\\t\\t\\t\\t\\t\\t\\n\\t\\t\\t\\t\\t\\t\\t\\t\\t\\n\\t\\t\\t\\t\\t\\t\\t\\t\\t\\n\\t\\t\\t\\t\\t\\t\\t\\t\\t\\n\\t\\t\\t\\t\\t\\t\\t\\t\\t\\t<td>3,238</td>\\n\\t\\t\\t\\t\\t\\t\\t\\t\\t\\n\\t\\t\\t\\t\\t\\t\\t\\t\\n\\t\\t\\t\\t\\t\\t\\t\\n\\t\\t\\t\\t\\t\\t\\t\\t\\n\\t\\t\\t\\t\\t\\t\\t\\t\\t\\n\\t\\t\\t\\t\\t\\t\\t\\t\\t\\n\\t\\t\\t\\t\\t\\t\\t\\t\\t\\n\\t\\t\\t\\t\\t\\t\\t\\t\\t\\t<td>233</td>\\n\\t\\t\\t\\t\\t\\t\\t\\t\\t\\n\\t\\t\\t\\t\\t\\t\\t\\t\\n\\t\\t\\t\\t\\t\\t\\t\\n\\t\\t\\t\\t\\t\\t</tr>\\n\\t\\t\\t\\t\\t\\t<tr>\\n\\t\\t\\t\\t\\t\\t\\t<th scope=\"row\" class=\"h_th2 th_cop_comp15\"><span>\\xc1\\xb6\\xc1\\xa4\\xbf\\xb5\\xbe\\xf7\\xc0\\xcc\\xc0\\xcd(\\xbe\\xef)</span></th>\\n\\t\\t\\t\\t\\t\\t\\t\\n\\t\\t\\t\\t\\t\\t\\t\\t\\n\\t\\t\\t\\t\\t\\t\\t\\t\\t\\n\\t\\t\\t\\t\\t\\t\\t\\t\\t\\n\\t\\t\\t\\t\\t\\t\\t\\t\\t\\n\\t\\t\\t\\t\\t\\t\\t\\t\\t\\t<td>66,060</td>\\n\\t\\t\\t\\t\\t\\t\\t\\t\\t\\n\\t\\t\\t\\t\\t\\t\\t\\t\\n\\t\\t\\t\\t\\t\\t\\t\\n\\t\\t\\t\\t\\t\\t\\t\\t\\n\\t\\t\\t\\t\\t\\t\\t\\t\\t\\n\\t\\t\\t\\t\\t\\t\\t\\t\\t\\n\\t\\t\\t\\t\\t\\t\\t\\t\\t\\n\\t\\t\\t\\t\\t\\t\\t\\t\\t\\t<td>28,860</td>\\n\\t\\t\\t\\t\\t\\t\\t\\t\\t\\n\\t\\t\\t\\t\\t\\t\\t\\t\\n\\t\\t\\t\\t\\t\\t\\t\\n\\t\\t\\t\\t\\t\\t\\t\\t\\n\\t\\t\\t\\t\\t\\t\\t\\t\\t\\n\\t\\t\\t\\t\\t\\t\\t\\t\\t\\n\\t\\t\\t\\t\\t\\t\\t\\t\\t\\n\\t\\t\\t\\t\\t\\t\\t\\t\\t\\t<td>287</td>\\n\\t\\t\\t\\t\\t\\t\\t\\t\\t\\n\\t\\t\\t\\t\\t\\t\\t\\t\\n\\t\\t\\t\\t\\t\\t\\t\\n\\t\\t\\t\\t\\t\\t\\t\\t\\n\\t\\t\\t\\t\\t\\t\\t\\t\\t\\n\\t\\t\\t\\t\\t\\t\\t\\t\\t\\n\\t\\t\\t\\t\\t\\t\\t\\t\\t\\n\\t\\t\\t\\t\\t\\t\\t\\t\\t\\t<td>3,238</td>\\n\\t\\t\\t\\t\\t\\t\\t\\t\\t\\n\\t\\t\\t\\t\\t\\t\\t\\t\\n\\t\\t\\t\\t\\t\\t\\t\\n\\t\\t\\t\\t\\t\\t\\t\\t\\n\\t\\t\\t\\t\\t\\t\\t\\t\\t\\n\\t\\t\\t\\t\\t\\t\\t\\t\\t\\n\\t\\t\\t\\t\\t\\t\\t\\t\\t\\n\\t\\t\\t\\t\\t\\t\\t\\t\\t\\t<td>233</td>\\n\\t\\t\\t\\t\\t\\t\\t\\t\\t\\n\\t\\t\\t\\t\\t\\t\\t\\t\\n\\t\\t\\t\\t\\t\\t\\t\\n\\t\\t\\t\\t\\t\\t</tr>\\n\\t\\t\\t\\t\\t\\t<tr>\\n\\t\\t\\t\\t\\t\\t\\t<th scope=\"row\" class=\"h_th2 th_cop_comp9\"><span>\\xbf\\xb5\\xbe\\xf7\\xc0\\xcc\\xc0\\xcd\\xc1\\xf5\\xb0\\xa1\\xc0\\xb2(%)</span></th>\\n\\t\\t\\t\\t\\t\\t\\t\\n\\t\\t\\t\\t\\t\\t\\t\\t\\n\\t\\t\\t\\t\\t\\t\\t\\t\\t\\n\\t\\t\\t\\t\\t\\t\\t\\t\\t\\n\\t\\t\\t\\t\\t\\t\\t\\t\\t\\n\\t\\t\\t\\t\\t\\t\\t\\t\\t\\t<td>133.86</td>\\n\\t\\t\\t\\t\\t\\t\\t\\t\\t\\n\\t\\t\\t\\t\\t\\t\\t\\t\\n\\t\\t\\t\\t\\t\\t\\t\\n\\t\\t\\t\\t\\t\\t\\t\\t\\n\\t\\t\\t\\t\\t\\t\\t\\t\\t\\n\\t\\t\\t\\t\\t\\t\\t\\t\\t\\n\\t\\t\\t\\t\\t\\t\\t\\t\\t\\n\\t\\t\\t\\t\\t\\t\\t\\t\\t\\t<td>734.03</td>\\n\\t\\t\\t\\t\\t\\t\\t\\t\\t\\n\\t\\t\\t\\t\\t\\t\\t\\t\\n\\t\\t\\t\\t\\t\\t\\t\\n\\t\\t\\t\\t\\t\\t\\t\\t\\n\\t\\t\\t\\t\\t\\t\\t\\t\\t\\n\\t\\t\\t\\t\\t\\t\\t\\t\\t\\n\\t\\t\\t\\t\\t\\t\\t\\t\\t\\n\\t\\t\\t\\t\\t\\t\\t\\t\\t\\t<td>55.86</td>\\n\\t\\t\\t\\t\\t\\t\\t\\t\\t\\n\\t\\t\\t\\t\\t\\t\\t\\t\\n\\t\\t\\t\\t\\t\\t\\t\\n\\t\\t\\t\\t\\t\\t\\t\\t\\n\\t\\t\\t\\t\\t\\t\\t\\t\\t\\n\\t\\t\\t\\t\\t\\t\\t\\t\\t\\n\\t\\t\\t\\t\\t\\t\\t\\t\\t\\n\\t\\t\\t\\t\\t\\t\\t\\t\\t\\t<td>179.87</td>\\n\\t\\t\\t\\t\\t\\t\\t\\t\\t\\n\\t\\t\\t\\t\\t\\t\\t\\t\\n\\t\\t\\t\\t\\t\\t\\t\\n\\t\\t\\t\\t\\t\\t\\t\\t\\n\\t\\t\\t\\t\\t\\t\\t\\t\\t\\n\\t\\t\\t\\t\\t\\t\\t\\t\\t\\n\\t\\t\\t\\t\\t\\t\\t\\t\\t\\n\\t\\t\\t\\t\\t\\t\\t\\t\\t\\t<td>-22.92</td>\\n\\t\\t\\t\\t\\t\\t\\t\\t\\t\\n\\t\\t\\t\\t\\t\\t\\t\\t\\n\\t\\t\\t\\t\\t\\t\\t\\n\\t\\t\\t\\t\\t\\t</tr>\\n\\t\\t\\t\\t\\t\\t<tr>\\n\\t\\t\\t\\t\\t\\t\\t<th scope=\"row\" class=\"h_th2 th_cop_comp10\"><span>\\xb4\\xe7\\xb1\\xe2\\xbc\\xf8\\xc0\\xcc\\xc0\\xcd(\\xbe\\xef)</span></th>\\n\\t\\t\\t\\t\\t\\t\\t\\n\\t\\t\\t\\t\\t\\t\\t\\t\\n\\t\\t\\t\\t\\t\\t\\t\\t\\t\\n\\t\\t\\t\\t\\t\\t\\t\\t\\t\\n\\t\\t\\t\\t\\t\\t\\t\\t\\t\\n\\t\\t\\t\\t\\t\\t\\t\\t\\t\\t<td>67,547</td>\\n\\t\\t\\t\\t\\t\\t\\t\\t\\t\\n\\t\\t\\t\\t\\t\\t\\t\\t\\n\\t\\t\\t\\t\\t\\t\\t\\n\\t\\t\\t\\t\\t\\t\\t\\t\\n\\t\\t\\t\\t\\t\\t\\t\\t\\t\\n\\t\\t\\t\\t\\t\\t\\t\\t\\t\\n\\t\\t\\t\\t\\t\\t\\t\\t\\t\\n\\t\\t\\t\\t\\t\\t\\t\\t\\t\\t<td>19,170</td>\\n\\t\\t\\t\\t\\t\\t\\t\\t\\t\\n\\t\\t\\t\\t\\t\\t\\t\\t\\n\\t\\t\\t\\t\\t\\t\\t\\n\\t\\t\\t\\t\\t\\t\\t\\t\\n\\t\\t\\t\\t\\t\\t\\t\\t\\t\\n\\t\\t\\t\\t\\t\\t\\t\\t\\t\\n\\t\\t\\t\\t\\t\\t\\t\\t\\t\\n\\t\\t\\t\\t\\t\\t\\t\\t\\t\\t<td>696</td>\\n\\t\\t\\t\\t\\t\\t\\t\\t\\t\\n\\t\\t\\t\\t\\t\\t\\t\\t\\n\\t\\t\\t\\t\\t\\t\\t\\n\\t\\t\\t\\t\\t\\t\\t\\t\\n\\t\\t\\t\\t\\t\\t\\t\\t\\t\\n\\t\\t\\t\\t\\t\\t\\t\\t\\t\\n\\t\\t\\t\\t\\t\\t\\t\\t\\t\\n\\t\\t\\t\\t\\t\\t\\t\\t\\t\\t<td>3,333</td>\\n\\t\\t\\t\\t\\t\\t\\t\\t\\t\\n\\t\\t\\t\\t\\t\\t\\t\\t\\n\\t\\t\\t\\t\\t\\t\\t\\n\\t\\t\\t\\t\\t\\t\\t\\t\\n\\t\\t\\t\\t\\t\\t\\t\\t\\t\\n\\t\\t\\t\\t\\t\\t\\t\\t\\t\\n\\t\\t\\t\\t\\t\\t\\t\\t\\t\\n\\t\\t\\t\\t\\t\\t\\t\\t\\t\\t<td>206</td>\\n\\t\\t\\t\\t\\t\\t\\t\\t\\t\\n\\t\\t\\t\\t\\t\\t\\t\\t\\n\\t\\t\\t\\t\\t\\t\\t\\n\\t\\t\\t\\t\\t\\t</tr>\\n\\t\\t\\t\\t\\t\\t<tr>\\n\\t\\t\\t\\t\\t\\t\\t<th scope=\"row\" class=\"h_th2 th_cop_comp11\"><span>\\xc1\\xd6\\xb4\\xe7\\xbc\\xf8\\xc0\\xcc\\xc0\\xcd(\\xbf\\xf8)</span></th>\\n\\t\\t\\t\\t\\t\\t\\t\\n\\t\\t\\t\\t\\t\\t\\t\\t\\n\\t\\t\\t\\t\\t\\t\\t\\t\\t\\n\\t\\t\\t\\t\\t\\t\\t\\t\\t\\n\\t\\t\\t\\t\\t\\t\\t\\t\\t\\n\\t\\t\\t\\t\\t\\t\\t\\t\\t\\t<td>974.73</td>\\n\\t\\t\\t\\t\\t\\t\\t\\t\\t\\n\\t\\t\\t\\t\\t\\t\\t\\t\\n\\t\\t\\t\\t\\t\\t\\t\\n\\t\\t\\t\\t\\t\\t\\t\\t\\n\\t\\t\\t\\t\\t\\t\\t\\t\\t\\n\\t\\t\\t\\t\\t\\t\\t\\t\\t\\n\\t\\t\\t\\t\\t\\t\\t\\t\\t\\n\\t\\t\\t\\t\\t\\t\\t\\t\\t\\t<td>2,636.33</td>\\n\\t\\t\\t\\t\\t\\t\\t\\t\\t\\n\\t\\t\\t\\t\\t\\t\\t\\t\\n\\t\\t\\t\\t\\t\\t\\t\\n\\t\\t\\t\\t\\t\\t\\t\\t\\n\\t\\t\\t\\t\\t\\t\\t\\t\\t\\n\\t\\t\\t\\t\\t\\t\\t\\t\\t\\n\\t\\t\\t\\t\\t\\t\\t\\t\\t\\n\\t\\t\\t\\t\\t\\t\\t\\t\\t\\t<td>715.04</td>\\n\\t\\t\\t\\t\\t\\t\\t\\t\\t\\n\\t\\t\\t\\t\\t\\t\\t\\t\\n\\t\\t\\t\\t\\t\\t\\t\\n\\t\\t\\t\\t\\t\\t\\t\\t\\n\\t\\t\\t\\t\\t\\t\\t\\t\\t\\n\\t\\t\\t\\t\\t\\t\\t\\t\\t\\n\\t\\t\\t\\t\\t\\t\\t\\t\\t\\n\\t\\t\\t\\t\\t\\t\\t\\t\\t\\t<td>2,481.64</td>\\n\\t\\t\\t\\t\\t\\t\\t\\t\\t\\n\\t\\t\\t\\t\\t\\t\\t\\t\\n\\t\\t\\t\\t\\t\\t\\t\\n\\t\\t\\t\\t\\t\\t\\t\\t\\n\\t\\t\\t\\t\\t\\t\\t\\t\\t\\n\\t\\t\\t\\t\\t\\t\\t\\t\\t\\n\\t\\t\\t\\t\\t\\t\\t\\t\\t\\n\\t\\t\\t\\t\\t\\t\\t\\t\\t\\t<td>1,351.67</td>\\n\\t\\t\\t\\t\\t\\t\\t\\t\\t\\n\\t\\t\\t\\t\\t\\t\\t\\t\\n\\t\\t\\t\\t\\t\\t\\t\\n\\t\\t\\t\\t\\t\\t</tr>\\n\\t\\t\\t\\t\\t\\t<tr>\\n\\t\\t\\t\\t\\t\\t\\t<th scope=\"row\" class=\"h_th2 th_cop_comp12\"><span>ROE(%)</span></th>\\n\\t\\t\\t\\t\\t\\t\\t\\n\\t\\t\\t\\t\\t\\t\\t\\t\\n\\t\\t\\t\\t\\t\\t\\t\\t\\t\\n\\t\\t\\t\\t\\t\\t\\t\\t\\t\\n\\t\\t\\t\\t\\t\\t\\t\\t\\t\\n\\t\\t\\t\\t\\t\\t\\t\\t\\t\\t<td>5.53</td>\\n\\t\\t\\t\\t\\t\\t\\t\\t\\t\\n\\t\\t\\t\\t\\t\\t\\t\\t\\n\\t\\t\\t\\t\\t\\t\\t\\n\\t\\t\\t\\t\\t\\t\\t\\t\\n\\t\\t\\t\\t\\t\\t\\t\\t\\t\\n\\t\\t\\t\\t\\t\\t\\t\\t\\t\\n\\t\\t\\t\\t\\t\\t\\t\\t\\t\\n\\t\\t\\t\\t\\t\\t\\t\\t\\t\\t<td>-7.92</td>\\n\\t\\t\\t\\t\\t\\t\\t\\t\\t\\n\\t\\t\\t\\t\\t\\t\\t\\t\\n\\t\\t\\t\\t\\t\\t\\t\\n\\t\\t\\t\\t\\t\\t\\t\\t\\n\\t\\t\\t\\t\\t\\t\\t\\t\\t\\n\\t\\t\\t\\t\\t\\t\\t\\t\\t\\n\\t\\t\\t\\t\\t\\t\\t\\t\\t\\n\\t\\t\\t\\t\\t\\t\\t\\t\\t\\t<td>36.10</td>\\n\\t\\t\\t\\t\\t\\t\\t\\t\\t\\n\\t\\t\\t\\t\\t\\t\\t\\t\\n\\t\\t\\t\\t\\t\\t\\t\\n\\t\\t\\t\\t\\t\\t\\t\\t\\n\\t\\t\\t\\t\\t\\t\\t\\t\\t\\n\\t\\t\\t\\t\\t\\t\\t\\t\\t\\n\\t\\t\\t\\t\\t\\t\\t\\t\\t\\n\\t\\t\\t\\t\\t\\t\\t\\t\\t\\t<td>-2.57</td>\\n\\t\\t\\t\\t\\t\\t\\t\\t\\t\\n\\t\\t\\t\\t\\t\\t\\t\\t\\n\\t\\t\\t\\t\\t\\t\\t\\n\\t\\t\\t\\t\\t\\t\\t\\t\\n\\t\\t\\t\\t\\t\\t\\t\\t\\t\\n\\t\\t\\t\\t\\t\\t\\t\\t\\t\\n\\t\\t\\t\\t\\t\\t\\t\\t\\t\\n\\t\\t\\t\\t\\t\\t\\t\\t\\t\\t<td>23.26</td>\\n\\t\\t\\t\\t\\t\\t\\t\\t\\t\\n\\t\\t\\t\\t\\t\\t\\t\\t\\n\\t\\t\\t\\t\\t\\t\\t\\n\\t\\t\\t\\t\\t\\t</tr>\\n\\t\\t\\t\\t\\t\\t<tr>\\n\\t\\t\\t\\t\\t\\t\\t<th scope=\"row\" class=\"h_th2 th_cop_comp13\"><span>PER(%)</span></th>\\n\\t\\t\\t\\t\\t\\t\\t\\n\\t\\t\\t\\t\\t\\t\\t\\t\\n\\t\\t\\t\\t\\t\\t\\t\\t\\t\\n\\t\\t\\t\\t\\t\\t\\t\\t\\t\\n\\t\\t\\t\\t\\t\\t\\t\\t\\t\\n\\t\\t\\t\\t\\t\\t\\t\\t\\t\\t<td>27.46</td>\\n\\t\\t\\t\\t\\t\\t\\t\\t\\t\\n\\t\\t\\t\\t\\t\\t\\t\\t\\n\\t\\t\\t\\t\\t\\t\\t\\n\\t\\t\\t\\t\\t\\t\\t\\t\\n\\t\\t\\t\\t\\t\\t\\t\\t\\t\\n\\t\\t\\t\\t\\t\\t\\t\\t\\t\\n\\t\\t\\t\\t\\t\\t\\t\\t\\t\\n\\t\\t\\t\\t\\t\\t\\t\\t\\t\\t<td>-27.34</td>\\n\\t\\t\\t\\t\\t\\t\\t\\t\\t\\n\\t\\t\\t\\t\\t\\t\\t\\t\\n\\t\\t\\t\\t\\t\\t\\t\\n\\t\\t\\t\\t\\t\\t\\t\\t\\n\\t\\t\\t\\t\\t\\t\\t\\t\\t\\n\\t\\t\\t\\t\\t\\t\\t\\t\\t\\n\\t\\t\\t\\t\\t\\t\\t\\t\\t\\n\\t\\t\\t\\t\\t\\t\\t\\t\\t\\t<td>55.16</td>\\n\\t\\t\\t\\t\\t\\t\\t\\t\\t\\n\\t\\t\\t\\t\\t\\t\\t\\t\\n\\t\\t\\t\\t\\t\\t\\t\\n\\t\\t\\t\\t\\t\\t\\t\\t\\n\\t\\t\\t\\t\\t\\t\\t\\t\\t\\n\\t\\t\\t\\t\\t\\t\\t\\t\\t\\n\\t\\t\\t\\t\\t\\t\\t\\t\\t\\n\\t\\t\\t\\t\\t\\t\\t\\t\\t\\t<td>-25.84</td>\\n\\t\\t\\t\\t\\t\\t\\t\\t\\t\\n\\t\\t\\t\\t\\t\\t\\t\\t\\n\\t\\t\\t\\t\\t\\t\\t\\n\\t\\t\\t\\t\\t\\t\\t\\t\\n\\t\\t\\t\\t\\t\\t\\t\\t\\t\\n\\t\\t\\t\\t\\t\\t\\t\\t\\t\\n\\t\\t\\t\\t\\t\\t\\t\\t\\t\\n\\t\\t\\t\\t\\t\\t\\t\\t\\t\\t<td>24.93</td>\\n\\t\\t\\t\\t\\t\\t\\t\\t\\t\\n\\t\\t\\t\\t\\t\\t\\t\\t\\n\\t\\t\\t\\t\\t\\t\\t\\n\\t\\t\\t\\t\\t\\t</tr>\\n\\t\\t\\t\\t\\t\\t<tr>\\n\\t\\t\\t\\t\\t\\t\\t<th scope=\"row\" class=\"h_th2 th_cop_comp14\"><span>PBR(\\xb9\\xe8)</span></th>\\n\\t\\t\\t\\t\\t\\t\\t\\n\\t\\t\\t\\t\\t\\t\\t\\t\\n\\t\\t\\t\\t\\t\\t\\t\\t\\t\\n\\t\\t\\t\\t\\t\\t\\t\\t\\t\\n\\t\\t\\t\\t\\t\\t\\t\\t\\t\\n\\t\\t\\t\\t\\t\\t\\t\\t\\t\\t<td>1.49</td>\\n\\t\\t\\t\\t\\t\\t\\t\\t\\t\\n\\t\\t\\t\\t\\t\\t\\t\\t\\n\\t\\t\\t\\t\\t\\t\\t\\n\\t\\t\\t\\t\\t\\t\\t\\t\\n\\t\\t\\t\\t\\t\\t\\t\\t\\t\\n\\t\\t\\t\\t\\t\\t\\t\\t\\t\\n\\t\\t\\t\\t\\t\\t\\t\\t\\t\\n\\t\\t\\t\\t\\t\\t\\t\\t\\t\\t<td>2.15</td>\\n\\t\\t\\t\\t\\t\\t\\t\\t\\t\\n\\t\\t\\t\\t\\t\\t\\t\\t\\n\\t\\t\\t\\t\\t\\t\\t\\n\\t\\t\\t\\t\\t\\t\\t\\t\\n\\t\\t\\t\\t\\t\\t\\t\\t\\t\\n\\t\\t\\t\\t\\t\\t\\t\\t\\t\\n\\t\\t\\t\\t\\t\\t\\t\\t\\t\\n\\t\\t\\t\\t\\t\\t\\t\\t\\t\\t<td>17.85</td>\\n\\t\\t\\t\\t\\t\\t\\t\\t\\t\\n\\t\\t\\t\\t\\t\\t\\t\\t\\n\\t\\t\\t\\t\\t\\t\\t\\n\\t\\t\\t\\t\\t\\t\\t\\t\\n\\t\\t\\t\\t\\t\\t\\t\\t\\t\\n\\t\\t\\t\\t\\t\\t\\t\\t\\t\\n\\t\\t\\t\\t\\t\\t\\t\\t\\t\\n\\t\\t\\t\\t\\t\\t\\t\\t\\t\\t<td>0.65</td>\\n\\t\\t\\t\\t\\t\\t\\t\\t\\t\\n\\t\\t\\t\\t\\t\\t\\t\\t\\n\\t\\t\\t\\t\\t\\t\\t\\n\\t\\t\\t\\t\\t\\t\\t\\t\\n\\t\\t\\t\\t\\t\\t\\t\\t\\t\\n\\t\\t\\t\\t\\t\\t\\t\\t\\t\\n\\t\\t\\t\\t\\t\\t\\t\\t\\t\\n\\t\\t\\t\\t\\t\\t\\t\\t\\t\\t<td>5.40</td>\\n\\t\\t\\t\\t\\t\\t\\t\\t\\t\\n\\t\\t\\t\\t\\t\\t\\t\\t\\n\\t\\t\\t\\t\\t\\t\\t\\n\\t\\t\\t\\t\\t\\t</tr>\\n\\t\\t\\t\\t\\t\\t</tbody>\\n\\t\\t\\t\\t\\t</table>\\n\\t\\t\\t\\t\\t<a href=\"/sise/sise_group_detail.naver?type=upjong&no=278\" class=\"more\" onClick=\"clickcr(this, \\'dle.22\\', \\'\\', \\'\\', event);\">\\xb4\\xf5\\xba\\xb8\\xb1\\xe2</a>\\n\\t\\t\\t\\t</div>\\n\\t\\t\\t\\t\\n\\t\\t\\t\\t<hr>\\n\\t\\t\\t\\t<div class=\"dsc_ifrs2\">\\n\\t\\t\\t\\t\\t<ul>\\n\\t\\t\\t\\t\\t\\t<li>PER, PBR \\xbc\\xf6\\xc4\\xa1\\xb4\\xc2 \\xc3\\xd6\\xb1\\xd9 4\\xba\\xd0\\xb1\\xe2 \\xb1\\xe2\\xc1\\xd8\\xc0\\xd4\\xb4\\xcf\\xb4\\xd9.</li>\\n\\t\\t\\t\\t\\t\\t<li><em>*</em> \\xc1\\xbe\\xb8\\xf1\\xc0\\xba IFRS (\\xbf\\xac\\xb0\\xe1) \\xc8\\xb8\\xb0\\xe8\\xb1\\xe2\\xc1\\xd8\\xc0\\xbb \\xc0\\xfb\\xbf\\xeb\\xc7\\xd1 \\xc1\\xbe\\xb8\\xf1\\xc0\\xd4\\xb4\\xcf\\xb4\\xd9. (\\xc3\\xd6\\xb1\\xd9 \\xba\\xd0\\xb1\\xe2\\xba\\xb8\\xb0\\xed\\xbc\\xad \\xb1\\xe2\\xc1\\xd8\\xc0\\xcc\\xb8\\xe7, \\xb1\\xe2\\xc1\\xd8 \\xba\\xd0\\xb1\\xe2\\xb4\\xc2 \\xbe\\xf7\\xc1\\xbe\\xb8\\xb6\\xb4\\xd9 \\xb4\\xd9\\xb8\\xa6 \\xbc\\xf6 \\xc0\\xd6\\xbd\\xc0\\xb4\\xcf\\xb4\\xd9.)</li>\\n\\t\\t\\t\\t\\t\\t<li>IFRS (\\xbf\\xac\\xb0\\xe1) \\xc0\\xfb\\xbf\\xeb \\xc1\\xbe\\xb8\\xf1\\xc0\\xc7 \\xb4\\xe7\\xb1\\xe2\\xbc\\xf8\\xc0\\xcc\\xc0\\xcd \\xb9\\xd7 \\xb0\\xa1\\xc4\\xa1\\xc1\\xf6\\xc7\\xa5(\\xc1\\xd6\\xb4\\xe7\\xbc\\xf8\\xc0\\xcc\\xc0\\xcd, PER, PBR)\\xb4\\xc2 \\xc1\\xf6\\xb9\\xe8\\xc1\\xd6\\xc1\\xd6\\xc1\\xf6\\xba\\xd0\\xc0\\xbb \\xb1\\xe2\\xc1\\xd8\\xc0\\xb8\\xb7\\xce \\xbb\\xea\\xc3\\xe2\\xc7\\xcf\\xbf\\xb4\\xbd\\xc0\\xb4\\xcf\\xb4\\xd9.</li>\\n\\t\\t\\t\\t\\t</ul>\\n\\t\\t\\t\\t</div>\\n\\t\\t\\t\\n\\t\\t\\n\\n\\t\\t\\n\\t\\t\\n\\t\\n\\n</div>\\n\\n\\n<div id=\"aside\">\\n\\t<div class=\"bg_line\"></div>\\n\\t<div class=\"aside_invest_info\">\\n\\t\\t<div id=\"tab_invest\" class=\"tab tab_invest1\">\\n\\t\\t\\t<a href=\"javascript:showArea(\\'tab_invest\\', \\'tab tab_invest1\\', \\'tab_con1\\', \\'tab_con2\\')\" onClick=\"clickcr(this, \\'sop.18\\', \\'\\', \\'2\\', event)\"><span>\\xc5\\xf5\\xc0\\xda\\xc1\\xa4\\xba\\xb8</span></a>\\n\\t\\t\\t<a href=\"javascript:showArea(\\'tab_invest\\', \\'tab tab_invest2\\', \\'tab_con2\\', \\'tab_con1\\')\" onClick=\"clickcr(this, \\'sop.20\\', \\'\\', \\'2\\', event)\"><span>\\xc8\\xa3\\xb0\\xa110\\xb4\\xdc\\xb0\\xe8</span></a>\\n\\t\\t</div>\\n\\n\\t\\t\\n\\t\\t<div id=\"tab_con1\" class=\"tab_con1\" style=\"display:block\">\\n\\t\\t\\n\\t\\t\\t\\n\\t\\t\\t\\n\\t\\t\\t\\t\\n\\t\\t\\t\\t\\t\\n\\t\\t\\t\\t\\t\\n\\t\\t\\t\\t\\t\\t<h3 class=\"blind\">\\xc5\\xf5\\xc0\\xda\\xc1\\xa4\\xba\\xb8</h3>\\n\\t\\t\\t\\t\\t\\t<div class=\"first\">\\n\\t\\t\\t\\t\\t\\t<table summary=\"\\xbd\\xc3\\xb0\\xa1\\xc3\\xd1\\xbe\\xd7 \\xc1\\xa4\\xba\\xb8\">\\n\\t\\t\\t\\t\\t\\t<caption>\\xbd\\xc3\\xb0\\xa1\\xc3\\xd1\\xbe\\xd7</caption>\\n\\t\\t\\t\\t\\t\\t\\n\\t\\t\\t\\t\\t\\t\\t\\n\\t\\t\\t\\t\\t\\t\\t\\t\\n\\t\\t\\t\\t\\t\\t\\t\\n\\t\\t\\t\\t\\t\\t\\t\\n\\t\\t\\t\\t\\t\\t\\n\\t\\t\\t\\t\\t\\t<tr class=\"strong\">\\n\\t\\t\\t\\t\\t\\t\\t<th scope=\"row\">\\xbd\\xc3\\xb0\\xa1\\xc3\\xd1\\xbe\\xd7</th>\\n\\t\\t\\t\\t\\t\\t\\t<td><em id=\"_market_sum\">\\n\\t\\t\\t\\t\\t\\t\\t\\t\\n\\t\\t\\t\\t\\t\\t\\t\\t\\n\\t\\t\\t\\t\\t\\t\\t\\t\\t\\n\\t\\t\\t\\t\\t\\t\\t\\t\\t\\n\\t\\t\\t\\t\\t\\t\\t\\t\\t\\t\\n\\t\\t\\t\\t\\t\\t\\t\\t\\t\\t\\n\\t\\t\\t\\t\\t\\t\\t\\t\\t\\t475\\xc1\\xb6\\n\\t\\t\\t\\t\\t\\t\\t\\t\\t\\t\\n\\t\\t\\t\\t\\t\\t\\t\\t\\t\\t\\t1,947\\n\\t\\t\\t\\t\\t\\t\\t\\t\\t\\t\\n\\t\\t\\t\\t\\t\\t\\t\\t\\t\\n\\t\\t\\t\\t\\t\\t\\t\\t</em>\\xbe\\xef\\xbf\\xf8</td>\\n\\t\\t\\t\\t\\t\\t</tr>\\n\\t\\t\\t\\t\\t\\t\\n\\t\\t\\t\\t\\t\\t\\t<tr><th scope=\"row\">\\n\\t\\t\\t\\t\\t\\t\\t\\t\\n\\t\\t\\t\\t\\t\\t\\t\\t\\t<a class=\"link_site\" href=\"/sise/sise_market_sum.naver\" class=\"link_site\" onClick=\"clickcr(this, \\'sop.19\\', \\'\\', \\'1\\', event)\">\\xbd\\xc3\\xb0\\xa1\\xc3\\xd1\\xbe\\xd7\\xbc\\xf8\\xc0\\xa7</a>\\n\\t\\t\\t\\t\\t\\t\\t\\t\\t\\n\\t\\t\\t\\t\\t\\t\\t\\t\\n\\t\\t\\t\\t\\t\\t\\t</th><td>\\xc4\\xda\\xbd\\xba\\xc7\\xc7 <em>1</em>\\xc0\\xa7</td></tr>\\n\\t\\t\\t\\t\\t\\t\\n\\t\\t\\t\\t\\t\\t<tr>\\n\\t\\t\\t\\t\\t\\t\\t<th scope=\"row\">\\xbb\\xf3\\xc0\\xe5\\xc1\\xd6\\xbd\\xc4\\xbc\\xf6</th>\\n\\t\\t\\t\\t\\t\\t\\t<td><em>5,969,782,550</em></td>\\n\\t\\t\\t\\t\\t\\t</tr>\\n\\t\\t\\t\\t\\t\\t\\n\\t\\t\\t\\t\\t\\t\\t<tr><th scope=\"row\">\\xbe\\xd7\\xb8\\xe9\\xb0\\xa1<span class=\"bar\">l</span>\\xb8\\xc5\\xb8\\xc5\\xb4\\xdc\\xc0\\xa7</th>\\n\\t\\t\\t\\t\\t\\t\\t\\t<td>\\n\\t\\t\\t\\t\\t\\t\\t\\t\\t<em>100</em>\\xbf\\xf8\\n\\t\\t\\t\\t\\t\\t\\t\\t\\t<span class=\"bar\">l</span>\\n\\t\\t\\t\\t\\t\\t\\t\\t\\t<em>1</em>\\xc1\\xd6\\n\\t\\t\\t\\t\\t\\t\\t\\t</td>\\n\\t\\t\\t\\t\\t\\t\\t</tr>\\n\\t\\t\\t\\t\\t\\t\\n\\t\\t\\t\\t\\t\\t\\n\\t\\t\\t\\t\\t\\t</table>\\n\\t\\t\\t\\t\\t\\t</div>\\n\\n\\t\\t\\t\\t\\t\\t\\n\\t\\t\\t\\t\\t\\t\\t<div class=\"gray\">\\n\\t\\t\\t\\t\\t\\t\\t<table summary=\"\\xbf\\xdc\\xb1\\xb9\\xc0\\xce\\xc7\\xd1\\xb5\\xb5\\xc1\\xd6\\xbd\\xc4\\xbc\\xf6 \\xc1\\xa4\\xba\\xb8\" class=\"lwidth\">\\n\\t\\t\\t\\t\\t\\t\\t<caption>\\xbf\\xdc\\xb1\\xb9\\xc0\\xce\\xc7\\xd1\\xb5\\xb5\\xc1\\xd6\\xbd\\xc4\\xbc\\xf6</caption>\\n\\t\\t\\t\\t\\t\\t\\t<tr>\\n\\t\\t\\t\\t\\t\\t\\t\\t<th scope=\"row\">\\xbf\\xdc\\xb1\\xb9\\xc0\\xce\\xc7\\xd1\\xb5\\xb5\\xc1\\xd6\\xbd\\xc4\\xbc\\xf6(A)</th>\\n\\t\\t\\t\\t\\t\\t\\t\\t<td><em>5,969,782,550</em></td>\\n\\t\\t\\t\\t\\t\\t\\t</tr>\\n\\t\\t\\t\\t\\t\\t\\t<tr>\\n\\t\\t\\t\\t\\t\\t\\t\\t<th scope=\"row\">\\xbf\\xdc\\xb1\\xb9\\xc0\\xce\\xba\\xb8\\xc0\\xaf\\xc1\\xd6\\xbd\\xc4\\xbc\\xf6(B)</th>\\n\\t\\t\\t\\t\\t\\t\\t\\t<td><em>3,371,460,876</em></td>\\n\\t\\t\\t\\t\\t\\t\\t</tr>\\n\\t\\t\\t\\t\\t\\t\\t<tr class=\"strong\">\\n\\t\\t\\t\\t\\t\\t\\t\\t<th scope=\"row\"><strong>\\xbf\\xdc\\xb1\\xb9\\xc0\\xce\\xbc\\xd2\\xc1\\xf8\\xc0\\xb2(B/A)</strong><a href=\"javascript:togglePannel(\\'helpPannel0\\');\" onMouseOver=\"showPannel(\\'helpPannel0\\');\" onMouseOut=\"hidePannel(\\'helpPannel0\\');\"><img src=\"https://ssl.pstatic.net/static/nfinance/2018/10/26/btn_help.png\" width=\"11\" height=\"11\" alt=\"\\xbf\\xdc\\xb1\\xb9\\xc0\\xce\\xbc\\xd2\\xc1\\xf8\\xc0\\xb2(B/A) \\xbb\\xf3\\xbc\\xbc\\xbc\\xb3\\xb8\\xed\"></a>\\n\\t\\t\\t\\t\\t\\t\\t\\t\\t<div class=\"lyr_section\">\\n\\t\\t                                 <div id=\"helpPannel0\" class=\"tooltip_lyr\" style=\"display:none\">\\n\\t\\t                                     <p>\\xbf\\xdc\\xb1\\xb9\\xc0\\xce(\\xc7\\xd1\\xb5\\xb5)\\xbc\\xd2\\xc1\\xf8\\xc0\\xb2\\xc0\\xcc\\xb6\\xf5 \\xbf\\xdc\\xb1\\xb9\\xc0\\xce\\xba\\xb8\\xc0\\xaf\\xc1\\xd6\\xbd\\xc4\\xbc\\xf6\\xb8\\xa6 \\xbf\\xdc\\xb1\\xb9\\xc0\\xce\\xc7\\xd1\\xb5\\xb5\\xc1\\xd6\\xbd\\xc4\\xbc\\xf6\\xc0\\xb8\\xb7\\xce \\xb3\\xaa\\xb4\\xab \\xb0\\xaa\\xc0\\xd4\\xb4\\xcf\\xb4\\xd9.</p>\\n\\t\\t                                     <p>\\xc0\\xcf\\xb9\\xdd\\xc0\\xfb\\xc0\\xce \\xb0\\xe6\\xbf\\xec\\xbf\\xa1\\xb4\\xc2 \\xbf\\xdc\\xb1\\xb9\\xc0\\xce\\xc7\\xd1\\xb5\\xb5\\xc1\\xd6\\xbd\\xc4\\xbc\\xf6\\xbf\\xcd \\xbb\\xf3\\xc0\\xe5\\xc1\\xd6\\xbd\\xc4\\xbc\\xf6\\xb0\\xa1 \\xb0\\xb0\\xbe\\xc6\\xbc\\xad \\xbf\\xdc\\xb1\\xb9\\xc0\\xce \\xbc\\xd2\\xc1\\xf8\\xc0\\xb2\\xb0\\xfa \\xba\\xb8\\xc0\\xaf\\xc0\\xb2\\xc0\\xcc \\xb5\\xbf\\xc0\\xcf\\xc7\\xcf\\xc1\\xf6\\xb8\\xb8, \\xb1\\xb9\\xb0\\xa1 \\xb1\\xe2\\xb0\\xa3\\xbb\\xea\\xbe\\xf7\\xc0\\xc7 \\xb0\\xe6\\xbf\\xec \\xc7\\xd1\\xb5\\xb5\\xc1\\xd6\\xbd\\xc4\\xbc\\xf6\\xb0\\xa1 \\xc1\\xa4\\xc7\\xd8\\xc1\\xae \\xc0\\xd6\\xbe\\xee \\xb5\\xce \\xba\\xf1\\xc0\\xb2\\xc0\\xcc \\xb4\\xde\\xb6\\xf3\\xc1\\xfa \\xbc\\xf6 \\xc0\\xd6\\xbd\\xc0\\xb4\\xcf\\xb4\\xd9.(Ex. \\xc7\\xd1\\xb1\\xb9\\xc0\\xfc\\xb7\\xc2)</p>\\n\\t\\t                                     <span class=\"arrow\"></span>\\n\\t\\t                                 </div>\\n\\t\\t                            </div>\\n\\t\\t\\t\\t\\t\\t\\t\\t</th>\\n\\t\\t\\t\\t\\t\\t\\t\\t<td><em>56.48%</em></td>\\n\\t\\t\\t\\t\\t\\t\\t</tr>\\n\\t\\t\\t\\t\\t\\t\\t</table>\\n\\t\\t\\t\\t\\t\\t\\t</div>\\n\\t\\t\\t\\t\\t\\t\\n\\n\\t\\t\\t\\t\\t\\t<div>\\n\\t\\t\\t\\t\\t\\t<table summary=\"\\xc5\\xf5\\xc0\\xda\\xc0\\xc7\\xb0\\xdf \\xc1\\xa4\\xba\\xb8\" class=\"rwidth\">\\n\\t\\t\\t\\t\\t\\t\\n\\t\\t\\t\\t\\t\\t\\t<caption>\\xc5\\xf5\\xc0\\xda\\xc0\\xc7\\xb0\\xdf</caption>\\n\\t\\t\\t\\t\\t\\t\\t<tr><th scope=\"row\" style=\"width:115px\">\\xc5\\xf5\\xc0\\xda\\xc0\\xc7\\xb0\\xdf<span class=\"bar\">l</span>\\xb8\\xf1\\xc7\\xa5\\xc1\\xd6\\xb0\\xa1</th>\\n\\t\\t\\t\\t\\t\\t\\t<td style=\"width:115px\">\\n\\t\\t\\t\\t\\t\\t\\t\\n\\t\\t\\t\\t\\t\\t\\t\\t\\n\\t\\t\\t\\t\\t\\t\\t\\t\\n\\t\\t\\t\\t\\t\\t\\t\\t\\t<span class=\"f_up\"><em>4.00</em>\\xb8\\xc5\\xbc\\xf6</span>\\n\\t\\t\\t\\t\\t\\t\\t\\t\\n\\t\\t\\t\\t\\t\\t\\t\\t\\n\\t\\t\\t\\t\\t\\t\\t\\t\\n\\t\\t\\t\\t\\t\\t\\t\\t\\n\\t\\t\\t\\t\\t\\t\\t\\n\\t\\t\\t\\t\\t\\t\\t<span class=\"bar\">l</span>\\n\\t\\t\\t\\t\\t\\t\\t\\n\\t\\t\\t\\t\\t\\t\\t\\t\\n\\t\\t\\t\\t\\t\\t\\t\\t<em>111,167</em>\\n\\t\\t\\t\\t\\t\\t\\t\\n\\t\\t\\t\\t\\t\\t\\t</td></tr>\\n\\t\\t\\t\\t\\t\\t\\n\\t\\t\\t\\t\\t\\t<tr>\\n\\t\\t\\t\\t\\t\\t\\t<th scope=\"row\">52\\xc1\\xd6\\xc3\\xd6\\xb0\\xed<span class=\"bar\">l</span>\\xc3\\xd6\\xc0\\xfa\\n\\t\\t\\t\\t\\t\\t\\t\\t\\n\\t\\t\\t\\t\\t\\t\\t</th>\\n\\t\\t\\t\\t\\t\\t\\t\\n\\t\\t\\t\\t\\t\\t\\t\\t\\n\\t\\t\\t\\t\\t\\t\\t\\t\\n\\t\\t\\t\\t\\t\\t\\t\\t\\t<td>\\n\\t\\t\\t\\t\\t\\t\\t\\t\\t\\t<em>88,800</em>\\n\\t\\t\\t\\t\\t\\t\\t\\t\\t\\t<span class=\"bar\">l</span>\\n\\t\\t\\t\\t\\t\\t\\t\\t\\t\\t<em>65,800</em>\\n\\t\\t\\t\\t\\t\\t\\t\\t\\t</td>\\n\\t\\t\\t\\t\\t\\t\\t\\t\\n\\t\\t\\t\\t\\t\\t\\t\\n\\t\\t\\t\\t\\t\\t</tr>\\n\\t\\t\\t\\t\\t\\t</table>\\n\\t\\t\\t\\t\\t\\t</div>\\n\\n\\t\\t\\t\\t\\t\\t\\n\\t\\t\\t\\t\\t\\t\\t<div>\\n\\t\\t\\t\\t\\t\\t\\t<table summary=\"PER/EPS \\xc1\\xa4\\xba\\xb8\" class=\"per_table\">\\n\\t\\t\\t\\t\\t\\t\\t<caption>PER/EPS</caption>\\n\\t\\t                    <tbody>\\n\\t\\t                    <tr>\\n\\t \\t\\t\\t\\t\\t\\t\\t<th scope=\"row\">\\n\\t \\t\\t\\t\\t\\t\\t\\t\\tPER<span class=\"bar\">l</span>EPS<span class=\"date\">(2024.03)</span><a href=\"javascript:togglePannel(\\'helpPannel1\\');\" onMouseOver=\"showPannel(\\'helpPannel1\\');\" onMouseOut=\"hidePannel(\\'helpPannel1\\');\"><img src=\"https://ssl.pstatic.net/static/nfinance/2018/10/26/btn_help.png\" width=\"11\" height=\"11\" alt=\"\\xc3\\xdf\\xc1\\xa4PER EPS \\xbb\\xf3\\xbc\\xbc\\xbc\\xb3\\xb8\\xed\"></a>\\n\\t \\t\\t\\t\\t\\t\\t\\t\\t<div class=\"lyr_section\">\\n\\t \\t\\t\\t\\t\\t\\t\\t\\t\\t<div id=\"helpPannel1\" class=\"tooltip_lyr\" style=\"display:none\">\\n\\t \\t\\t\\t\\t\\t\\t\\t\\t\\t\\t<p>\\n\\t \\t\\t\\t\\t\\t\\t\\t\\t\\t\\t\\t<strong>PER = \\xc7\\xf6\\xc0\\xe7\\xb0\\xa1 \\xa1\\xc0 EPS</strong>\\n\\t\\t\\t\\t\\t\\t\\t\\t\\t\\t\\t\\tEPS\\xb4\\xc2 \\xc1\\xf6\\xb9\\xe8\\xb1\\xe2\\xbe\\xf7\\xb1\\xcd\\xbc\\xd3 \\xc3\\xd6\\xb1\\xd9 4\\xba\\xd0\\xb1\\xe2 \\xc7\\xd5\\xbb\\xea \\xbc\\xf8\\xc0\\xcc\\xc0\\xcd\\xc0\\xbb\\n\\t\\t\\t\\t\\t\\t\\t\\t\\t\\t\\t\\t\\xbc\\xf6\\xc1\\xa4\\xc6\\xf2\\xb1\\xd5\\xb9\\xdf\\xc7\\xe0\\xc1\\xd6\\xbd\\xc4\\xbc\\xf6\\xb7\\xce \\xb3\\xaa\\xb4\\xab \\xb0\\xaa\\xc0\\xcc\\xb8\\xe7, \\xba\\xb8\\xc5\\xeb\\xc1\\xd6\\xbf\\xcd\\n\\t\\t\\t\\t\\t\\t\\t\\t\\t\\t\\t\\t\\xbf\\xec\\xbc\\xb1\\xc1\\xd6\\xb8\\xa6 \\xc7\\xd5\\xbb\\xea\\xc7\\xd8\\xbc\\xad \\xb0\\xe8\\xbb\\xea\\xc7\\xd5\\xb4\\xcf\\xb4\\xd9.\\n\\t\\t\\t\\t\\t\\t\\t\\t\\t\\t\\t</p>\\n\\t\\t\\t\\t\\t\\t\\t\\t\\t\\t\\t<span class=\"arrow\"></span>\\n\\t \\t\\t\\t\\t\\t\\t\\t\\t\\t</div>\\n\\t \\t\\t\\t\\t\\t\\t\\t\\t</div>\\n\\t \\t\\t\\t\\t\\t\\t\\t</th>\\n\\t\\t\\t\\t\\t\\t\\t\\t<td>\\n\\t\\t\\t\\t\\t\\t\\t\\t\\t\\n\\t\\t\\t\\t\\t\\t\\t\\t\\t\\n\\t\\t\\t\\t\\t\\t\\t\\t\\t\\t\\n\\t\\t\\t\\t\\t\\t\\t\\t\\t\\t<em id=\"_per\">27.46</em>\\xb9\\xe8\\n\\t\\t\\t\\t\\t\\t\\t\\t\\t\\n\\t\\t\\t\\t\\t\\t\\t\\t\\t<span class=\"bar\">l</span>\\n\\t\\t\\t\\t\\t\\t\\t\\t\\t\\n\\t\\t\\t\\t\\t\\t\\t\\t\\t\\t\\n\\t\\t\\t\\t\\t\\t\\t\\t\\t\\t<em id=\"_eps\">2,899</em>\\xbf\\xf8\\n\\t\\t\\t\\t\\t\\t\\t\\t\\t\\n\\t \\t\\t\\t\\t\\t\\t\\t</td>\\n \\t\\t\\t\\t\\t\\t    </tr>\\n\\t\\t                    </tbody>\\n\\t\\t                    <tr>\\n\\t\\t                        <th scope=\"row\">\\xc3\\xdf\\xc1\\xa4PER<span class=\"bar\">l</span>EPS<a href=\"javascript:togglePannel(\\'helpPannel3\\');\" onMouseOver=\"showPannel(\\'helpPannel3\\');\" onMouseOut=\"hidePannel(\\'helpPannel3\\');\"><img src=\"https://ssl.pstatic.net/static/nfinance/2018/10/26/btn_help.png\" width=\"11\" height=\"11\" alt=\"\\xc3\\xdf\\xc1\\xa4PER EPS \\xbb\\xf3\\xbc\\xbc\\xbc\\xb3\\xb8\\xed\"></a>\\n \\t\\t\\t\\t\\t\\t\\t\\t<div class=\"lyr_section\">\\n\\t\\t\\t\\t\\t\\t\\t\\t\\t\\t<div id=\"helpPannel3\" class=\"tooltip_lyr tooltip_lyr2\" style=\"display:none\">\\n\\t\\t\\t\\t\\t\\t\\t\\t\\t\\t\\t<p>\\n\\t\\t\\t\\t\\t\\t\\t\\t\\t\\t\\t\\t<strong>\\xc3\\xdf\\xc1\\xa4PER = \\xc7\\xf6\\xc0\\xe7\\xb0\\xa1\\xa1\\xc0\\xc3\\xdf\\xc1\\xa4EPS</strong>\\n\\t\\t\\t\\t\\t\\t\\t\\t\\t\\t\\t\\t\\xc3\\xdf\\xc1\\xa4EPS\\xb4\\xc2 \\xbf\\xc3\\xc7\\xd8 \\xbf\\xb9\\xbb\\xf3EPS\\xbf\\xa1 \\xb4\\xeb\\xc7\\xd1 \\xc1\\xf5\\xb1\\xc7\\xbb\\xe7 \\xc3\\xdf\\xc1\\xa4 \\xc6\\xf2\\xb1\\xd5\\xb0\\xaa(\\xc4\\xc1\\xbc\\xbe\\xbc\\xad\\xbd\\xba)\\xc0\\xb8\\xb7\\xce \\xbf\\xa1\\xc7\\xc1\\xbe\\xd8\\xb0\\xa1\\xc0\\xcc\\xb5\\xe5\\xbf\\xa1\\xbc\\xad \\xc1\\xa6\\xb0\\xf8\\xc7\\xd5\\xb4\\xcf\\xb4\\xd9. \\xc3\\xdf\\xc1\\xa4 \\xc1\\xf5\\xb1\\xc7\\xbb\\xe7\\xb0\\xa1 3\\xb0\\xb3 \\xc0\\xcc\\xbb\\xf3\\xc0\\xce \\xb0\\xe6\\xbf\\xec\\xbf\\xa1\\xb8\\xb8 \\xc1\\xa6\\xb0\\xf8\\xc7\\xd5\\xb4\\xcf\\xb4\\xd9.\\n\\t\\t\\t\\t\\t\\t\\t\\t\\t\\t\\t</p>\\n\\t\\t\\t\\t\\t\\t\\t\\t\\t\\t\\t<span class=\"arrow\"></span>\\n\\t\\t\\t\\t\\t\\t\\t\\t\\t\\t</div>\\n\\t\\t\\t\\t\\t\\t\\t\\t\\t</div>\\n\\t\\t\\t\\t\\t\\t\\t\\t</th>\\n\\t\\t\\t\\t\\t\\t\\t\\t<td>\\n\\t\\t\\t\\t\\t\\t\\t\\t\\t\\n\\t\\t\\t\\t\\t\\t\\t\\t\\t\\t\\n\\t\\t\\t\\t\\t\\t\\t\\t\\t\\t<em id=\"_cns_per\">13.00</em>\\xb9\\xe8\\n\\t\\t\\t\\t\\t\\t\\t\\t\\t\\n\\t\\t\\t\\t\\t\\t\\t\\t\\t<span class=\"bar\">l</span>\\n\\t\\t\\t\\t\\t\\t\\t\\t\\t\\n\\t\\t\\t\\t\\t\\t\\t\\t\\t\\t\\n\\t\\t\\t\\t\\t\\t\\t\\t\\t\\t<em id=\"_cns_eps\">5,909</em>\\xbf\\xf8\\n\\t\\t\\t\\t\\t\\t\\t\\t\\t\\n\\t\\t\\t\\t\\t\\t\\t\\t</td>\\n\\t\\t\\t\\t\\t\\t\\t</tr>\\n\\t\\t\\t\\t\\t\\t\\t<tr>\\n\\t\\t\\t\\t\\t\\t\\t\\t<th scope=\"row\">PBR<span class=\"bar\">l</span>BPS <span class=\"date\">(2024.03)</span><a href=\"javascript:togglePannel(\\'helpPannel4\\');\" onMouseOver=\"showPannel(\\'helpPannel4\\');\" onMouseOut=\"hidePannel(\\'helpPannel4\\');\"><img src=\"https://ssl.pstatic.net/static/nfinance/2018/10/26/btn_help.png\" width=\"11\" height=\"11\" alt=\"PBR | BPS \\xbb\\xf3\\xbc\\xbc\\xbc\\xb3\\xb8\\xed\"></a>\\n\\t\\t\\t\\t\\t\\t\\t\\t\\t<div class=\"lyr_section\">\\n\\t\\t\\t\\t\\t\\t\\t\\t\\t\\t<div id=\"helpPannel4\" class=\"tooltip_lyr tooltip_lyr3\" style=\"display:none\">\\n\\t\\t\\t\\t\\t\\t\\t\\t\\t\\t\\t<p>\\n\\t\\t\\t\\t\\t\\t\\t\\t\\t\\t\\t\\t<strong>PBR= \\xc7\\xf6\\xc0\\xe7\\xb0\\xa1 \\xa1\\xc0 BPS</strong>\\n\\t\\t\\t\\t\\t\\t\\t\\t\\t\\t\\t\\tBPS\\xb4\\xc2 \\xc3\\xd6\\xb1\\xd9 \\xba\\xd0\\xb1\\xe2 \\xc0\\xda\\xba\\xbb\\xc3\\xd1\\xb0\\xe8\\xb8\\xa6 \\xbc\\xf6\\xc1\\xa4\\xb1\\xe2\\xb8\\xbb\\xc0\\xaf\\xc5\\xeb\\xc1\\xd6\\xbd\\xc4\\xbc\\xf6\\xb7\\xce\\n\\t\\t\\t\\t\\t\\t\\t\\t\\t\\t\\t\\t\\xb3\\xaa\\xb4\\xab \\xb0\\xaa\\xc0\\xcc\\xb8\\xe7, \\xba\\xb8\\xc5\\xeb\\xc1\\xd6\\xbf\\xcd \\xbf\\xec\\xbc\\xb1\\xc1\\xd6\\xb8\\xa6 \\xc7\\xd5\\xbb\\xea\\xc7\\xd8\\xbc\\xad \\xb0\\xe8\\xbb\\xea\\xc7\\xd5\\xb4\\xcf\\xb4\\xd9.\\n\\t\\t\\t\\t\\t\\t\\t\\t\\t\\t\\t</p>\\n\\t\\t\\t\\t\\t\\t\\t\\t\\t\\t\\t<span class=\"arrow\"></span>\\n\\t\\t\\t\\t\\t\\t\\t\\t\\t\\t</div>\\n\\t\\t\\t\\t\\t\\t\\t\\t\\t</div>\\n\\t\\t\\t\\t\\t\\t\\t\\t</th>\\n\\t\\t\\t\\t\\t\\t\\t\\t<td>\\n\\t\\t\\t\\t\\t\\t\\t\\t\\t\\n\\t\\t\\t\\t\\t\\t\\t\\t\\t\\t\\n\\t\\t\\t\\t\\t\\t\\t\\t\\t\\t<em id=\"_pbr\">1.49</em>\\xb9\\xe8\\n\\t\\t\\t\\t\\t\\t\\t\\t\\t\\n\\t\\t\\t\\t\\t\\t\\t\\t\\t<span class=\"bar\">l</span>\\n\\t\\t\\t\\t\\t\\t\\t\\t\\t\\n\\t\\t\\t\\t\\t\\t\\t\\t\\t\\t\\n\\t\\t\\t\\t\\t\\t\\t\\t\\t\\t<em>53,339</em>\\xbf\\xf8\\n\\t\\t\\t\\t\\t\\t\\t\\t\\t\\n\\t\\t\\t\\t\\t\\t\\t\\t</td>\\n\\t\\t\\t\\t\\t\\t\\t</tr>\\n\\t\\t\\t\\t\\t\\t\\t<tr>\\n\\t\\t\\t\\t\\t\\t\\t\\t\\n\\t\\t\\t\\t\\t\\t\\t\\t\\n\\t\\t\\t\\t\\t\\t\\t\\t\\n\\t\\t\\t\\t\\t\\t\\t\\t\\n\\t\\t\\t\\t\\t\\t\\t\\t<th scope=\"row\">\\xb9\\xe8\\xb4\\xe7\\xbc\\xf6\\xc0\\xcd\\xb7\\xfc<span class=\"bar\">l</span><span>2023.12</span><a href=\"javascript:togglePannel(\\'helpPannel5\\');\" onMouseOver=\"showPannel(\\'helpPannel5\\');\" onMouseOut=\"hidePannel(\\'helpPannel5\\');\"><img src=\"https://ssl.pstatic.net/static/nfinance/2018/10/26/btn_help.png\" width=\"11\" height=\"11\" alt=\"\\xb9\\xe8\\xb4\\xe7\\xbc\\xf6\\xc0\\xcd\\xb7\\xfc \\xbb\\xf3\\xbc\\xbc\\xbc\\xb3\\xb8\\xed\"></a>\\n\\t\\t\\t\\t\\t\\t\\t\\t\\t<div class=\"lyr_section\">\\n\\t\\t\\t\\t\\t\\t\\t\\t\\t\\t<div id=\"helpPannel5\" class=\"tooltip_lyr dividend_layer\"  style=\"display:none\">\\n\\t\\t\\t\\t\\t\\t\\t\\t\\t\\t\\t<strong>\\xb9\\xe8\\xb4\\xe7\\xbc\\xf6\\xc0\\xcd\\xb7\\xfc = (\\xb9\\xe8\\xb4\\xe7\\xb1\\xdd / \\xc7\\xf6\\xc0\\xe7\\xb0\\xa1) x 100</strong>\\n\\t\\t\\t\\t\\t\\t\\t\\t\\t\\t\\t<p>\\xb9\\xe8\\xb4\\xe7\\xb1\\xdd\\xc0\\xba \\xc3\\xd6\\xb1\\xd9 \\xb0\\xe1\\xbb\\xea\\xbf\\xac\\xb5\\xb5 \\xb1\\xe2\\xc1\\xd8\\xc0\\xc7 \\xc1\\xdf\\xb0\\xa3\\xb9\\xe8\\xb4\\xe7\\xc0\\xbb \\xc6\\xf7\\xc7\\xd4\\xc7\\xd1 \\xc3\\xd1 \\xb9\\xe8\\xb4\\xe7\\xb1\\xdd\\xc0\\xd4\\xb4\\xcf\\xb4\\xd9.</p>\\n\\t\\t\\t\\t\\t\\t\\t\\t\\t\\t\\t<span class=\"arrow\"></span>\\n\\t\\t\\t\\t\\t\\t\\t\\t\\t\\t</div>\\n\\t\\t\\t\\t\\t\\t\\t\\t\\t</div>\\n\\t\\t\\t\\t\\t\\t\\t\\t</th>\\n\\t\\t\\t\\t\\t\\t\\t\\t<td>\\n\\t\\t\\t\\t\\t\\t\\t\\t\\t\\n\\t\\t\\t\\t\\t\\t\\t\\t\\t\\t\\n\\t\\t\\t\\t\\t\\t\\t\\t\\t\\t<em id=\"_dvr\">1.81</em>%\\n\\t\\t\\t\\t\\t\\t\\t\\t\\t\\n\\t\\t\\t\\t\\t\\t\\t\\t</td>\\n\\t\\t\\t\\t\\t\\t\\t</tr>\\n\\t\\t\\t\\t\\t\\t\\t</table>\\n\\t\\t\\t\\t\\t\\t\\t</div>\\n\\t\\t\\t\\t\\t\\t\\t<div class=\"gray\">\\n\\t\\t\\t\\t\\t\\t\\t<table summary=\"\\xb5\\xbf\\xc0\\xcf\\xbe\\xf7\\xc1\\xbe PER \\xc1\\xa4\\xba\\xb8\">\\n\\t\\t\\t\\t\\t\\t\\t<caption>\\xb5\\xbf\\xc0\\xcf\\xbe\\xf7\\xc1\\xbe PER</caption>\\n\\t\\t\\t\\t\\t\\t\\t<tr class=\"strong\">\\n\\t\\t\\t\\t\\t\\t\\t\\t<th scope=\"row\"><a class=\"link_site\" href=\"/sise/sise_group_detail.naver?type=upjong&no=278\" class=\"link_site\" onClick=\"clickcr(this, \\'sop.19\\', \\'\\', \\'2\\', event)\">\\xb5\\xbf\\xc0\\xcf\\xbe\\xf7\\xc1\\xbe PER</a></th>\\n\\t\\t\\t\\t\\t\\t\\t\\t<td>\\n\\t\\t\\t\\t\\t\\t\\t\\t\\t\\n\\t\\t\\t\\t\\t\\t\\t\\t\\t\\t\\n\\t\\t\\t\\t\\t\\t\\t\\t\\t\\t<em>45.10</em>\\xb9\\xe8\\n\\t\\t\\t\\t\\t\\t\\t\\t\\t\\n\\t\\t\\t\\t\\t\\t\\t\\t</td>\\n\\t\\t\\t\\t\\t\\t\\t</tr>\\n\\t\\t\\t\\t\\t\\t\\t<tr>\\n\\t\\t\\t\\t\\t\\t\\t\\t<th scope=\"row\"><a class=\"link_site\" href=\"/sise/sise_group_detail.naver?type=upjong&no=278\" class=\"link_site\" onClick=\"clickcr(this, \\'sop.19\\', \\'\\', \\'3\\', event)\">\\xb5\\xbf\\xc0\\xcf\\xbe\\xf7\\xc1\\xbe \\xb5\\xee\\xb6\\xf4\\xb7\\xfc</a></th>\\n\\t\\t\\t\\t\\t\\t\\t\\t\\n\\t\\t\\t\\t\\t\\t\\t\\t\\t\\n\\t\\t\\t\\t\\t\\t\\t\\t\\t\\n\\t\\t\\t\\t<td class=\"f_down\"><em>\\n\\t\\t\\t\\t-5.67%\\n\\t\\t\\t\\t</em></td>\\n\\t\\t\\t\\n\\t\\t\\t\\t\\t\\t\\t\\t\\n\\t\\t\\t\\t\\t\\t\\t</tr>\\n\\t\\t\\t\\t\\t\\t\\t</table>\\n\\t\\t\\t\\t\\t\\t\\t</div>\\n\\t\\t\\t\\t\\t\\t\\n\\t\\t\\t\\t\\t\\n\\t\\t\\t\\t\\n\\t\\t\\t\\n\\t\\t\\n\\t\\t</div>\\n\\n\\t\\t\\n\\t\\t<div id=\"tab_con2\" class=\"tab_con2\" style=\"display:none\">\\n\\t\\t\\t<h3 class=\"blind\">\\xc8\\xa3\\xb0\\xa1 10\\xb4\\xdc\\xb0\\xe8</h3>\\n\\t\\t\\t<table summary=\"\\xc8\\xa3\\xb0\\xa110\\xb4\\xdc\\xb0\\xe8 \\xc1\\xa4\\xba\\xb8\">\\n\\t\\t\\t<caption>\\xc8\\xa3\\xb0\\xa1 10\\xb4\\xdc\\xb0\\xe8</caption>\\n\\t\\t\\t<tr>\\n\\t\\t\\t\\t<th scope=\"col\">\\xb8\\xc5\\xb5\\xb5\\xc0\\xdc\\xb7\\xae</th>\\n\\t\\t\\t\\t<th scope=\"col\">\\xc8\\xa3\\xb0\\xa1<span class=\"txt_color\">(20\\xba\\xd0\\xc1\\xf6\\xbf\\xac)</span></th>\\n\\t\\t\\t\\t<th scope=\"col\" class=\"th_r\">\\xb8\\xc5\\xbc\\xf6\\xc0\\xdc\\xb7\\xae</th>\\n\\t\\t\\t</tr>\\n\\t\\t\\t<tr><td colspan=\"3\" class=\"space\"></td></tr>\\n\\t\\t\\t\\n\\t\\t\\t\\t<tr class=\"f_down\">\\n\\t\\t\\t\\t<td>\\n\\t\\t\\t\\t\\n\\t\\t\\t\\t\\t\\n\\t\\t\\t\\t\\t33,914\\n\\t\\t\\t\\t\\n\\t\\t\\t\\t</td>\\n\\t\\t\\t\\t<td>\\n\\t\\t\\t\\t\\n\\t\\t\\t\\t\\t\\n\\t\\t\\t\\t\\t80,600\\n\\t\\t\\t\\t\\n\\t\\t\\t\\t</td>\\n\\t\\t\\t\\t<td class=\"td_r\"></td>\\n\\t\\t\\t\\t</tr>\\n\\t\\t\\t\\n\\t\\t\\t\\t<tr class=\"f_down\">\\n\\t\\t\\t\\t<td>\\n\\t\\t\\t\\t\\n\\t\\t\\t\\t\\t\\n\\t\\t\\t\\t\\t56,827\\n\\t\\t\\t\\t\\n\\t\\t\\t\\t</td>\\n\\t\\t\\t\\t<td>\\n\\t\\t\\t\\t\\n\\t\\t\\t\\t\\t\\n\\t\\t\\t\\t\\t80,500\\n\\t\\t\\t\\t\\n\\t\\t\\t\\t</td>\\n\\t\\t\\t\\t<td class=\"td_r\"></td>\\n\\t\\t\\t\\t</tr>\\n\\t\\t\\t\\n\\t\\t\\t\\t<tr class=\"f_down\">\\n\\t\\t\\t\\t<td>\\n\\t\\t\\t\\t\\n\\t\\t\\t\\t\\t\\n\\t\\t\\t\\t\\t41,440\\n\\t\\t\\t\\t\\n\\t\\t\\t\\t</td>\\n\\t\\t\\t\\t<td>\\n\\t\\t\\t\\t\\n\\t\\t\\t\\t\\t\\n\\t\\t\\t\\t\\t80,400\\n\\t\\t\\t\\t\\n\\t\\t\\t\\t</td>\\n\\t\\t\\t\\t<td class=\"td_r\"></td>\\n\\t\\t\\t\\t</tr>\\n\\t\\t\\t\\n\\t\\t\\t\\t<tr class=\"f_down\">\\n\\t\\t\\t\\t<td>\\n\\t\\t\\t\\t\\n\\t\\t\\t\\t\\t\\n\\t\\t\\t\\t\\t50,624\\n\\t\\t\\t\\t\\n\\t\\t\\t\\t</td>\\n\\t\\t\\t\\t<td>\\n\\t\\t\\t\\t\\n\\t\\t\\t\\t\\t\\n\\t\\t\\t\\t\\t80,300\\n\\t\\t\\t\\t\\n\\t\\t\\t\\t</td>\\n\\t\\t\\t\\t<td class=\"td_r\"></td>\\n\\t\\t\\t\\t</tr>\\n\\t\\t\\t\\n\\t\\t\\t\\t<tr class=\"f_down\">\\n\\t\\t\\t\\t<td>\\n\\t\\t\\t\\t\\n\\t\\t\\t\\t\\t\\n\\t\\t\\t\\t\\t26,557\\n\\t\\t\\t\\t\\n\\t\\t\\t\\t</td>\\n\\t\\t\\t\\t<td>\\n\\t\\t\\t\\t\\n\\t\\t\\t\\t\\t\\n\\t\\t\\t\\t\\t80,200\\n\\t\\t\\t\\t\\n\\t\\t\\t\\t</td>\\n\\t\\t\\t\\t<td class=\"td_r\"></td>\\n\\t\\t\\t\\t</tr>\\n\\t\\t\\t\\n\\t\\t\\t\\t<tr class=\"f_down\">\\n\\t\\t\\t\\t<td>\\n\\t\\t\\t\\t\\n\\t\\t\\t\\t\\t\\n\\t\\t\\t\\t\\t28,212\\n\\t\\t\\t\\t\\n\\t\\t\\t\\t</td>\\n\\t\\t\\t\\t<td>\\n\\t\\t\\t\\t\\n\\t\\t\\t\\t\\t\\n\\t\\t\\t\\t\\t80,100\\n\\t\\t\\t\\t\\n\\t\\t\\t\\t</td>\\n\\t\\t\\t\\t<td class=\"td_r\"></td>\\n\\t\\t\\t\\t</tr>\\n\\t\\t\\t\\n\\t\\t\\t\\t<tr class=\"f_down\">\\n\\t\\t\\t\\t<td>\\n\\t\\t\\t\\t\\n\\t\\t\\t\\t\\t\\n\\t\\t\\t\\t\\t175,173\\n\\t\\t\\t\\t\\n\\t\\t\\t\\t</td>\\n\\t\\t\\t\\t<td>\\n\\t\\t\\t\\t\\n\\t\\t\\t\\t\\t\\n\\t\\t\\t\\t\\t80,000\\n\\t\\t\\t\\t\\n\\t\\t\\t\\t</td>\\n\\t\\t\\t\\t<td class=\"td_r\"></td>\\n\\t\\t\\t\\t</tr>\\n\\t\\t\\t\\n\\t\\t\\t\\t<tr class=\"f_down\">\\n\\t\\t\\t\\t<td>\\n\\t\\t\\t\\t\\n\\t\\t\\t\\t\\t\\n\\t\\t\\t\\t\\t75,805\\n\\t\\t\\t\\t\\n\\t\\t\\t\\t</td>\\n\\t\\t\\t\\t<td>\\n\\t\\t\\t\\t\\n\\t\\t\\t\\t\\t\\n\\t\\t\\t\\t\\t79,900\\n\\t\\t\\t\\t\\n\\t\\t\\t\\t</td>\\n\\t\\t\\t\\t<td class=\"td_r\"></td>\\n\\t\\t\\t\\t</tr>\\n\\t\\t\\t\\n\\t\\t\\t\\t<tr class=\"f_down\">\\n\\t\\t\\t\\t<td>\\n\\t\\t\\t\\t\\n\\t\\t\\t\\t\\t\\n\\t\\t\\t\\t\\t34,246\\n\\t\\t\\t\\t\\n\\t\\t\\t\\t</td>\\n\\t\\t\\t\\t<td>\\n\\t\\t\\t\\t\\n\\t\\t\\t\\t\\t\\n\\t\\t\\t\\t\\t79,800\\n\\t\\t\\t\\t\\n\\t\\t\\t\\t</td>\\n\\t\\t\\t\\t<td class=\"td_r\"></td>\\n\\t\\t\\t\\t</tr>\\n\\t\\t\\t\\n\\t\\t\\t<tr class=\"f_down strong\">\\n\\t\\t\\t\\t<td>\\n\\t\\t\\t\\t\\n\\t\\t\\t\\t\\t\\n\\t\\t\\t\\t\\t45,341\\n\\t\\t\\t\\t\\n\\t\\t\\t\\t</td>\\n\\t\\t\\t\\t<td>\\n\\t\\t\\t\\t\\n\\t\\t\\t\\t\\t\\n\\t\\t\\t\\t\\t79,700\\n\\t\\t\\t\\t\\n\\t\\t\\t\\t</td>\\n\\t\\t\\t\\t<td class=\"td_r\"></td>\\n\\t\\t\\t</tr>\\n\\t\\t\\t<tr><td colspan=\"3\" class=\"line_dot\"></td></tr>\\n\\t\\t\\t<tr class=\"f_up strong\">\\n\\t\\t\\t\\t<td></td>\\n\\t\\t\\t\\t<td>\\n\\t\\t\\t\\t\\n\\t\\t\\t\\t\\t\\n\\t\\t\\t\\t\\t79,600\\n\\t\\t\\t\\t\\n\\t\\t\\t\\t</td>\\n\\t\\t\\t\\t<td class=\"td_r\">\\n\\t\\t\\t\\t\\n\\t\\t\\t\\t\\t\\n\\t\\t\\t\\t\\t34,106\\n\\t\\t\\t\\t\\n\\t\\t\\t\\t</td>\\n\\t\\t\\t</tr>\\n\\t\\t\\t\\n\\t\\t\\t\\t<tr class=\"f_up\">\\n\\t\\t\\t\\t<td></td>\\n\\t\\t\\t\\t<td>\\n\\t\\t\\t\\t\\n\\t\\t\\t\\t\\t\\n\\t\\t\\t\\t\\t79,500\\n\\t\\t\\t\\t\\n\\t\\t\\t\\t</td>\\n\\t\\t\\t\\t<td class=\"td_r\">\\n\\t\\t\\t\\t\\n\\t\\t\\t\\t\\t\\n\\t\\t\\t\\t\\t261,119\\n\\t\\t\\t\\t\\n\\t\\t\\t\\t</td>\\n\\t\\t\\t\\t</tr>\\n\\t\\t\\t\\n\\t\\t\\t\\t<tr class=\"f_up\">\\n\\t\\t\\t\\t<td></td>\\n\\t\\t\\t\\t<td>\\n\\t\\t\\t\\t\\n\\t\\t\\t\\t\\t\\n\\t\\t\\t\\t\\t79,400\\n\\t\\t\\t\\t\\n\\t\\t\\t\\t</td>\\n\\t\\t\\t\\t<td class=\"td_r\">\\n\\t\\t\\t\\t\\n\\t\\t\\t\\t\\t\\n\\t\\t\\t\\t\\t161,428\\n\\t\\t\\t\\t\\n\\t\\t\\t\\t</td>\\n\\t\\t\\t\\t</tr>\\n\\t\\t\\t\\n\\t\\t\\t\\t<tr class=\"f_up\">\\n\\t\\t\\t\\t<td></td>\\n\\t\\t\\t\\t<td>\\n\\t\\t\\t\\t\\n\\t\\t\\t\\t\\t\\n\\t\\t\\t\\t\\t79,300\\n\\t\\t\\t\\t\\n\\t\\t\\t\\t</td>\\n\\t\\t\\t\\t<td class=\"td_r\">\\n\\t\\t\\t\\t\\n\\t\\t\\t\\t\\t\\n\\t\\t\\t\\t\\t95,542\\n\\t\\t\\t\\t\\n\\t\\t\\t\\t</td>\\n\\t\\t\\t\\t</tr>\\n\\t\\t\\t\\n\\t\\t\\t\\t<tr class=\"f_up\">\\n\\t\\t\\t\\t<td></td>\\n\\t\\t\\t\\t<td>\\n\\t\\t\\t\\t\\n\\t\\t\\t\\t\\t\\n\\t\\t\\t\\t\\t79,200\\n\\t\\t\\t\\t\\n\\t\\t\\t\\t</td>\\n\\t\\t\\t\\t<td class=\"td_r\">\\n\\t\\t\\t\\t\\n\\t\\t\\t\\t\\t\\n\\t\\t\\t\\t\\t101,404\\n\\t\\t\\t\\t\\n\\t\\t\\t\\t</td>\\n\\t\\t\\t\\t</tr>\\n\\t\\t\\t\\n\\t\\t\\t\\t<tr class=\"f_up\">\\n\\t\\t\\t\\t<td></td>\\n\\t\\t\\t\\t<td>\\n\\t\\t\\t\\t\\n\\t\\t\\t\\t\\t\\n\\t\\t\\t\\t\\t79,100\\n\\t\\t\\t\\t\\n\\t\\t\\t\\t</td>\\n\\t\\t\\t\\t<td class=\"td_r\">\\n\\t\\t\\t\\t\\n\\t\\t\\t\\t\\t\\n\\t\\t\\t\\t\\t126,989\\n\\t\\t\\t\\t\\n\\t\\t\\t\\t</td>\\n\\t\\t\\t\\t</tr>\\n\\t\\t\\t\\n\\t\\t\\t\\t<tr class=\"f_up\">\\n\\t\\t\\t\\t<td></td>\\n\\t\\t\\t\\t<td>\\n\\t\\t\\t\\t\\n\\t\\t\\t\\t\\t\\n\\t\\t\\t\\t\\t79,000\\n\\t\\t\\t\\t\\n\\t\\t\\t\\t</td>\\n\\t\\t\\t\\t<td class=\"td_r\">\\n\\t\\t\\t\\t\\n\\t\\t\\t\\t\\t\\n\\t\\t\\t\\t\\t275,556\\n\\t\\t\\t\\t\\n\\t\\t\\t\\t</td>\\n\\t\\t\\t\\t</tr>\\n\\t\\t\\t\\n\\t\\t\\t\\t<tr class=\"f_up\">\\n\\t\\t\\t\\t<td></td>\\n\\t\\t\\t\\t<td>\\n\\t\\t\\t\\t\\n\\t\\t\\t\\t\\t\\n\\t\\t\\t\\t\\t78,900\\n\\t\\t\\t\\t\\n\\t\\t\\t\\t</td>\\n\\t\\t\\t\\t<td class=\"td_r\">\\n\\t\\t\\t\\t\\n\\t\\t\\t\\t\\t\\n\\t\\t\\t\\t\\t76,815\\n\\t\\t\\t\\t\\n\\t\\t\\t\\t</td>\\n\\t\\t\\t\\t</tr>\\n\\t\\t\\t\\n\\t\\t\\t\\t<tr class=\"f_up\">\\n\\t\\t\\t\\t<td></td>\\n\\t\\t\\t\\t<td>\\n\\t\\t\\t\\t\\n\\t\\t\\t\\t\\t\\n\\t\\t\\t\\t\\t78,800\\n\\t\\t\\t\\t\\n\\t\\t\\t\\t</td>\\n\\t\\t\\t\\t<td class=\"td_r\">\\n\\t\\t\\t\\t\\n\\t\\t\\t\\t\\t\\n\\t\\t\\t\\t\\t52,820\\n\\t\\t\\t\\t\\n\\t\\t\\t\\t</td>\\n\\t\\t\\t\\t</tr>\\n\\t\\t\\t\\n\\t\\t\\t\\t<tr class=\"f_up\">\\n\\t\\t\\t\\t<td></td>\\n\\t\\t\\t\\t<td>\\n\\t\\t\\t\\t\\n\\t\\t\\t\\t\\t\\n\\t\\t\\t\\t\\t78,700\\n\\t\\t\\t\\t\\n\\t\\t\\t\\t</td>\\n\\t\\t\\t\\t<td class=\"td_r\">\\n\\t\\t\\t\\t\\n\\t\\t\\t\\t\\t\\n\\t\\t\\t\\t\\t25,557\\n\\t\\t\\t\\t\\n\\t\\t\\t\\t</td>\\n\\t\\t\\t\\t</tr>\\n\\t\\t\\t\\n\\t\\t\\t<tr><td colspan=\"3\" class=\"space\"></td></tr>\\n\\t\\t\\t<tr class=\"total\">\\n\\t\\t\\t\\t<td class=\"f_down\">\\n\\t\\t\\t\\t\\t\\n\\t\\t\\t\\t\\t\\t\\n\\t\\t\\t\\t\\t\\t568,139\\n\\t\\t\\t\\t\\t\\n\\t\\t\\t\\t</td>\\n\\t\\t\\t\\t<td>\\xc0\\xdc\\xb7\\xae\\xc7\\xd5\\xb0\\xe8</td>\\n\\t\\t\\t\\t<td class=\"f_up\">\\n\\t\\t\\t\\t\\t\\n\\t\\t\\t\\t\\t\\t\\n\\t\\t\\t\\t\\t\\t1,211,336\\n\\t\\t\\t\\t\\t\\n\\t\\t\\t\\t</td>\\n\\t\\t\\t</tr>\\n\\t\\t\\t</table>\\n\\t\\t</div>\\n\\t</div>\\n\\n\\n\\n\\n\\t\\n<script language=javascript src=\"https://ssl.pstatic.net/imgstock/static.pc/20240725112316/js/item_main_right_area.js\"></script>\\n\\n\\t<div class=\"aside_section cop_list\">\\n\\t\\t\\n\\t\\t\\t\\n\\t\\t\\t\\t<div id=\"tab_search\" class=\"tab tab_search1\">\\n\\t\\t\\t\\n\\t\\t\\t\\n\\t\\t\\n\\t\\t<a href=\"javascript:showRecent(\\'tab_search\\', \\'tab tab_search1\\', \\'005930\\', \\'recent\\')\" onClick=\"jindo.$Cookie().set(\\'summary_item_type\\', \\'recent\\', 30, \\'finance.naver.com\\'); clickcr(this, \\'rch.1\\', \\'\\', \\'\\', event);\"><span>\\xc3\\xd6\\xb1\\xd9\\xc1\\xb6\\xc8\\xb8</span></a>\\n\\t\\t<a href=\"javascript:showRecent(\\'tab_search\\', \\'tab tab_search2\\', \\'005930\\', \\'mystock\\')\" onClick=\"jindo.$Cookie().set(\\'summary_item_type\\', \\'mystock\\', 30, \\'finance.naver.com\\'); clickcr(this, \\'rch.3\\', \\'\\', \\'\\', event);\"><span>MY STOCK</span></a>\\n\\t\\t<!-- [D] \\xc8\\xb0\\xbc\\xba\\xc8\\xad\\xb5\\xc8 \\xc5\\xc7\\xb8\\xde\\xb4\\xba\\xbf\\xa1 \\xb5\\xfb\\xb6\\xf3 blind text \\xba\\xaf\\xb0\\xe6\\xc7\\xd8\\xc1\\xd6\\xbc\\xbc\\xbf\\xe4 -->\\n\\t\\t<h2 class=\"blind\" id=\"blind_text_tab_search\">\\xc3\\xd6\\xb1\\xd9\\xc1\\xb6\\xc8\\xb8</h2>\\n\\t</div>\\n\\n\\t\\n\\t<script type=\"text/template\" id=\"recent_list_none\">\\n\\t\\t<div class=\"no_result\">\\n\\t\\t\\t<img src=\"https://ssl.pstatic.net/static/nfinance/img/no_result_aside1_v2.gif\" width=\"144\" height=\"13\" border=\"0\" alt=\"\\xc3\\xd6\\xb1\\xd9 \\xc1\\xb6\\xc8\\xb8\\xb5\\xc8 \\xc1\\xbe\\xb8\\xf1\\xc0\\xcc \\xbe\\xf8\\xbd\\xc0\\xb4\\xcf\\xb4\\xd9.\" class=\"noresult_txt1\">\\n\\t\\t</div>\\n\\t</script>\\n\\t<script type=\"text/template\" id=\"mystock_logout\">\\n\\t\\t<div class=\"no_result\">\\n\\t\\t\\t<map name=\"no_result_aside2\">\\n\\t\\t\\t<area shape=\"rect\" coords=\"6,38,107,52\" href=\"javascript:naver_login()\" alt=\"My stock \\xb7\\xce\\xb1\\xd7\\xc0\\xce\">\\n\\t\\t\\t</map>\\n\\t\\t\\t<img src=\"https://ssl.pstatic.net/imgstock/item_renewal/no_result_aside2.gif\" width=\"116\" height=\"53\" border=\"0\" usemap=\"#no_result_aside2\" title=\"\" alt=\"\\xb7\\xce\\xb1\\xd7\\xc0\\xce\\xc7\\xcf\\xbd\\xc3\\xb8\\xe9 \\xb5\\xee\\xb7\\xcf\\xc7\\xcf\\xbd\\xc5 \\xc1\\xbe\\xb8\\xf1\\xc0\\xc7 \\xbd\\xc3\\xbc\\xbc\\xb0\\xa1 \\xc1\\xa6\\xb0\\xf8\\xb5\\xcb\\xb4\\xcf\\xb4\\xd9.\" class=\"noresult_txt2\">\\n\\t\\t</div>\\n\\t</script>\\n\\t<script type=\"text/template\" id=\"mystock_list_none\">\\n\\t\\t<div class=\"no_result\">\\n\\t\\t\\t<map name=\"no_result_aside3\">\\n\\t\\t\\t<area shape=\"rect\" coords=\"11,38,125,52\" href=\"/mystock/\" alt=\"My stock \\xb9\\xd9\\xb7\\xce\\xb0\\xa1\\xb1\\xe2\">\\n\\t\\t\\t</map>\\n\\t\\t\\t<img src=\"https://ssl.pstatic.net/imgstock/item_renewal/no_result_aside3.gif\" width=\"137\" height=\"53\" border=\"0\" usemap=\"#no_result_aside3\" title=\"\" alt=\"MY STOCK\\xbf\\xa1 \\xb0\\xfc\\xbd\\xc9\\xc1\\xbe\\xb8\\xf1\\xc0\\xbb \\xb5\\xee\\xb7\\xcf\\xc7\\xcf\\xbd\\xc3\\xb8\\xe9 \\xbd\\xc3\\xbc\\xbc\\xb0\\xa1 \\xc1\\xa6\\xb0\\xf8\\xb5\\xcb\\xb4\\xcf\\xb4\\xd9.\" class=\"noresult_txt3\">\\n\\t\\t</div>\\n\\t</script>\\n\\t<script type=\"text/template\" id=\"recent_list_exist\">\\n\\t\\t{if type == \"recent\"}\\n\\t\\t\\t{set listNclicksId=\"rch.2\"}\\n\\t\\t\\t<table summary=\"\\xc3\\xd6\\xb1\\xd9\\xc1\\xb6\\xc8\\xb8 \\xb8\\xae\\xbd\\xba\\xc6\\xae\" class=\"con_search1\">\\n\\t\\t\\t<caption>\\xc3\\xd6\\xb1\\xd9\\xc1\\xb6\\xc8\\xb8</caption>\\n\\t\\t\\t\\t<colgroup><col><col width=\"50\"><col width=\"72\"></colgroup>\\n\\t\\t{else}\\n\\t\\t\\t{set listNclicksId=\"rch.4\"}\\n\\t\\t\\t<table summary=\"MY STOCK \\xb8\\xae\\xbd\\xba\\xc6\\xae\" class=\"con_search2\">\\n\\t\\t\\t<caption>MY STOCK</caption>\\n\\t\\t\\t\\t<colgroup><col><col width=\"60\"><col width=\"60\"></colgroup>\\n\\t\\t{/if}\\n\\t\\t\\t<thead>\\n\\t\\t\\t<tr>\\n\\t\\t\\t\\t<th>\\xbe\\xf7\\xc3\\xbc\\xb8\\xed</th>\\n\\t\\t\\t\\t<th scope=\"col\">\\xb0\\xc5\\xb7\\xa1\\xb7\\xae</th>\\n\\t\\t\\t\\t<th scope=\"col\">\\xc0\\xfc\\xc0\\xcf\\xba\\xf1</th>\\n\\t\\t\\t</tr>\\n\\t\\t\\t</thead>\\n\\t\\t\\t{for index:itemList in item_list}\\n\\t\\t\\t\\t{if index == 5 || index == 10}\\n\\t\\t\\t\\t\\t<tr><td colspan=\"3\" class=\"line\"></td></tr>\\n\\t\\t\\t\\t{/if}\\n\\t\\t\\t\\t<tr>\\n\\t\\t\\t\\t\\t<th scope=\"row\">\\n\\t\\t\\t\\t\\t<a href=\"/item/main.naver?code={=itemList.itemcode}\" onClick=\"clickcr(this, \\'{=listNclicksId}\\', \\'{=itemList.itemcode}\\', \\'{=index + 1}\\', event);\" target=_top>{=itemList.itemname}</a>\\n\\t\\t\\t\\t\\t</th>\\n\\t\\t\\t\\t\\t<td id=\"nowVal_td_{=index}\">{=itemList.now_val}</td>\\n\\t\\t\\t\\t\\t<td>\\n\\t\\t\\t\\t\\t\\t{if itemList.risefall == \\'1\\'}\\n\\t\\t\\t\\t\\t\\t\\t<em class=\"f_up up_arrow\" id=\"changeVal_em_{=index}\"><span id=\"changeVal_span_{=index}\">\\xbb\\xf3\\xc7\\xd1\\xb0\\xa1</span>{=itemList.change_val}</em>\\n\\t\\t\\t\\t\\t\\t{elseif itemList.risefall == \\'2\\'}\\n\\t\\t\\t\\t\\t\\t\\t<em class=\"f_up up\" id=\"changeVal_em_{=index}\"><span id=\"changeVal_span_{=index}\">\\xbb\\xf3\\xc7\\xe2</span>{=itemList.change_val}</em>\\n\\t\\t\\t\\t\\t\\t{elseif itemList.risefall == \\'4\\'}\\n\\t\\t\\t\\t\\t\\t\\t<em class=\"f_down down_arrow\" id=\"changeVal_em_{=index}\"><span id=\"changeVal_span_{=index}\">\\xc7\\xcf\\xc7\\xd1\\xb0\\xa1</span>{=itemList.change_val}</em>\\n\\t\\t\\t\\t\\t\\t{elseif itemList.risefall == \\'5\\'}\\n\\t\\t\\t\\t\\t\\t\\t<em class=\"f_down down\" id=\"changeVal_em_{=index}\"><span id=\"changeVal_span_{=index}\">\\xc7\\xcf\\xc7\\xe2</span>{=itemList.change_val}</em>\\n\\t\\t\\t\\t\\t\\t{else}\\n\\t\\t\\t\\t\\t\\t\\t<em class=\"sam\" id=\"changeVal_em_{=index}\"><span id=\"changeVal_span_{=index}\">\\xba\\xb8\\xc7\\xd5</span></em>\\n\\t\\t\\t\\t\\t\\t{/if}\\n\\t\\t\\t\\t\\t\\t{if type == \"recent\"}\\n\\t\\t\\t\\t\\t\\t\\t<a href=\"javascript:deleteCodeFromRecent(\\'{=itemList.itemcode}\\', \\'{=code}\\', \\'{=type}\\', \\'{=page}\\')\"><img src=\"https://ssl.pstatic.net/imgstock/item_renewal/btn_delete.gif\" alt=\"\\xbb\\xe8\\xc1\\xa6\" width=\"11\" height=\"11\"></a>\\n\\t\\t\\t\\t\\t\\t{/if}\\n\\t\\t\\t\\t\\t</td>\\n\\t\\t\\t\\t</tr>\\n\\t\\t\\t{/for}\\n\\t\\t</table>\\n\\t</script>\\n\\t<div id=\"recent_area\"></div>\\n\\n\\t\\n\\t<script type=\"text/template\" id=\"recent_btn_tmpl\">\\n\\t\\t<span>\\n\\t\\t\\t{if prev_page != 0 || next_page != 0}\\n\\t\\t\\t{if prev_page == 0}\\n\\t\\t\\t\\t<a href=\"#\" onClick=\"clickcr(this, \\'rch.5\\', \\'\\', \\'\\', event); return false;\"><img src=\"https://ssl.pstatic.net/static/nfinance/btn_prev2.gif\" width=\"17\" height=\"15\" alt=\"\\xc0\\xcc\\xc0\\xfc\"></a>\\n\\t\\t\\t{elseif prev_page > 0}\\n\\t\\t\\t\\t<a href=\"javascript:movePage(\\'{=code}\\', \\'{=type}\\', \\'{=prev_page}\\');\" onClick=\"clickcr(this, \\'rch.5\\', \\'\\', \\'\\', event)\"><img src=\"https://ssl.pstatic.net/static/nfinance/btn_prev2.gif\" width=\"17\" height=\"15\" alt=\"\\xc0\\xcc\\xc0\\xfc\"></a>\\n\\t\\t\\t{/if}\\n\\t\\t\\t{if next_page == 0}\\n\\t\\t\\t\\t<a href=\"#\" onClick=\"clickcr(this, \\'rch.6\\', \\'\\', \\'\\', event); return false;\"><img src=\"https://ssl.pstatic.net/static/nfinance/btn_next2.gif\" width=\"17\" height=\"15\" alt=\"\\xb4\\xd9\\xc0\\xbd\"></a>\\n\\t\\t\\t{elseif next_page > 0}\\n\\t\\t\\t\\t<a href=\"javascript:movePage(\\'{=code}\\', \\'{=type}\\', \\'{=next_page}\\');\" onClick=\"clickcr(this, \\'rch.6\\', \\'\\', \\'\\', event)\"><img src=\"https://ssl.pstatic.net/static/nfinance/btn_next2.gif\" width=\"17\" height=\"15\" alt=\"\\xb4\\xd9\\xc0\\xbd\"></a>\\n\\t\\t\\t{/if}\\n\\t\\t\\t{/if}\\n\\t\\t</span>\\n\\t\\t{if type != \\'recent\\'}\\n\\t\\t<a href=\"/mystock/\" class=\"more\" onClick=\"clickcr(this, \\'rch.7\\', \\'\\', \\'\\', event)\">\\xb4\\xf5\\xba\\xb8\\xb1\\xe2</a>\\n\\t\\t{/if}\\n\\t</script>\\n\\t<div id=\"recent_button\" class=\"more_info\"></div>\\n\\n\\t\\n\\t<script type=\"text/javascript\">\\n\\tvar comment_code = \"005930\";\\n\\tvar comment_type = \"recent\";\\n\\tvar comment_page = \"1\";\\n\\t\\n\\t\\tjindo.$Fn(function() {\\n\\t\\t\\tmovePage(\\'005930\\', \\'recent\\', \\'1\\');\\n\\t\\t}).attach(document,\"domready\");\\n\\t\\n\\t</script>\\n\\n\\n\\n\\n\\t<script>\\n\\t\\tif (ieVersion === -1 || ieVersion > 10) {\\n\\t\\t\\twindow.gladsdk = window.gladsdk || { cmd: [] };\\n\\n\\t\\t\\tgladsdk.cmd.push(function() {\\n\\t\\t\\t\\tgladsdk.defineAdSlot({\\n\\t\\t\\t\\t\\tadUnitId: \"p_new_stock_sidebox\",\\n\\t\\t\\t\\t\\tadSlotElementId: \"_IframeBannerRight\",\\n\\t\\t\\t\\t\\tuct: \"KR\",\\n\\t\\t\\t\\t\\tcustomParam: {\\n\\t\\t\\t\\t\\t\\tcalp: \"domestic\"\\n\\t\\t\\t\\t\\t},\\n\\t\\t\\t\\t});\\n\\t\\t\\t})\\n\\t\\t}\\n\\t</script>\\n\\n\\t<div class=\"aside_section ad_banner\">\\n\\t\\t<div id=\"_IframeBannerRight\">\\n\\t\\t\\t<script>\\n\\t\\t\\t\\tif (ieVersion === -1 || ieVersion > 10) {\\n\\t\\t\\t\\t\\tgladsdk.cmd.push(function() {\\n\\t\\t\\t\\t\\t\\tgladsdk.displayAd(\"_IframeBannerRight\");\\n\\t\\t\\t\\t\\t});\\n\\t\\t\\t\\t}\\n\\t\\t\\t</script>\\n\\t\\t</div>\\n\\t</div>\\n\\n\\n\\n\\n<div class=\"aside_section cop_list\">\\n\\t <h2 class=\"h_sub sub_tit9\"><span>\\xc0\\xce\\xb1\\xe2\\xb0\\xcb\\xbb\\xf6\\xc1\\xbe\\xb8\\xf1</span></h2>\\n\\t<div id=\"tab_fav\" class=\"tab tab_fav1\">\\n\\t\\t<a href=\"javascript:showArea(\\'tab_fav\\', \\'tab tab_fav1\\', \\'fav_kospi\\', \\'fav_kosdaq\\')\" onClick=\"clickcr(this, \\'pss.1\\', \\'\\', \\'\\', event);\"><span>\\xc4\\xda\\xbd\\xba\\xc7\\xc7</span></a>\\n\\t\\t<a href=\"javascript:showArea(\\'tab_fav\\', \\'tab tab_fav2\\', \\'fav_kosdaq\\', \\'fav_kospi\\')\" onClick=\"clickcr(this, \\'pss.3\\', \\'\\', \\'\\', event);\"><span>\\xc4\\xda\\xbd\\xba\\xb4\\xda</span></a>\\n\\t\\t<!-- [D] \\xc8\\xb0\\xbc\\xba\\xc8\\xad\\xb5\\xc8 \\xc5\\xc7\\xb8\\xde\\xb4\\xba\\xbf\\xa1 \\xb5\\xfb\\xb6\\xf3 blind text \\xba\\xaf\\xb0\\xe6\\xc7\\xd8\\xc1\\xd6\\xbc\\xbc\\xbf\\xe4 -->\\n\\t\\t<h3 class=\"blind\" id=\"blind_text_tab_fav\">\\xc4\\xda\\xbd\\xba\\xc7\\xc7</h3>\\n\\t</div>\\n\\n\\t<div id=\"fav_kospi\" style=\"display:block\">\\n\\t<table summary=\"\\xc4\\xda\\xbd\\xba\\xc7\\xc7 \\xc0\\xce\\xb1\\xe2\\xb0\\xcb\\xbb\\xf6\\xc1\\xbe\\xb8\\xf1 \\xb8\\xae\\xbd\\xba\\xc6\\xae\" class=\"rank\">\\n\\t<caption>\\xc4\\xda\\xbd\\xba\\xc7\\xc7 \\xc0\\xce\\xb1\\xe2\\xb0\\xcb\\xbb\\xf6\\xc1\\xbe\\xb8\\xf1</caption>\\n\\t<colgroup><col><col width=\"60\"><col width=\"86\"></colgroup>\\n\\t<thead>\\n\\t<tr>\\n\\t\\t<th>\\xbe\\xf7\\xc3\\xbc\\xb8\\xed</th>\\n\\t\\t<th scope=\"col\">\\xb0\\xc5\\xb7\\xa1\\xb7\\xae</th>\\n\\t\\t<th scope=\"col\">\\xc0\\xfc\\xc0\\xcf\\xba\\xf1</th>\\n\\t</tr>\\n\\t</thead>\\n\\t\\n\\t\\t\\n\\t\\t<tr>\\n\\t\\t\\t<th scope=\"row\" class=\"no1\"><a href=\"/item/main.naver?code=000660\" target=_top onClick=\"clickcr(this, \\'pss.2\\', \\'\\', \\'1\\', event);\">SK\\xc7\\xcf\\xc0\\xcc\\xb4\\xd0\\xbd\\xba</a></th>\\n\\t\\t\\t<td>173,200</td>\\n\\t\\t\\t<td>\\n\\t\\t\\t\\t\\n\\t\\t\\t\\t<em class=\"f_down down\"><span>\\xc7\\xcf\\xc7\\xe2</span>\\n\\t\\t\\t\\t20,100\\n\\t\\t\\t\\t</em>\\n\\t\\t\\t\\n\\t\\t\\t</td>\\n\\t\\t</tr>\\n\\t\\n\\t\\t\\n\\t\\t<tr>\\n\\t\\t\\t<th scope=\"row\" class=\"no2\"><a href=\"/item/main.naver?code=005930\" target=_top onClick=\"clickcr(this, \\'pss.2\\', \\'\\', \\'2\\', event);\">\\xbb\\xef\\xbc\\xba\\xc0\\xfc\\xc0\\xda</a></th>\\n\\t\\t\\t<td>79,600</td>\\n\\t\\t\\t<td>\\n\\t\\t\\t\\t\\n\\t\\t\\t\\t<em class=\"f_down down\"><span>\\xc7\\xcf\\xc7\\xe2</span>\\n\\t\\t\\t\\t3,500\\n\\t\\t\\t\\t</em>\\n\\t\\t\\t\\n\\t\\t\\t</td>\\n\\t\\t</tr>\\n\\t\\n\\t\\t\\n\\t\\t<tr>\\n\\t\\t\\t<th scope=\"row\" class=\"no3\"><a href=\"/item/main.naver?code=042700\" target=_top onClick=\"clickcr(this, \\'pss.2\\', \\'\\', \\'3\\', event);\">\\xc7\\xd1\\xb9\\xcc\\xb9\\xdd\\xb5\\xb5\\xc3\\xbc</a></th>\\n\\t\\t\\t<td>115,400</td>\\n\\t\\t\\t<td>\\n\\t\\t\\t\\t\\n\\t\\t\\t\\t<em class=\"f_down down\"><span>\\xc7\\xcf\\xc7\\xe2</span>\\n\\t\\t\\t\\t11,900\\n\\t\\t\\t\\t</em>\\n\\t\\t\\t\\n\\t\\t\\t</td>\\n\\t\\t</tr>\\n\\t\\n\\t\\t\\n\\t\\t<tr>\\n\\t\\t\\t<th scope=\"row\" class=\"no4\"><a href=\"/item/main.naver?code=004090\" target=_top onClick=\"clickcr(this, \\'pss.2\\', \\'\\', \\'4\\', event);\">\\xc7\\xd1\\xb1\\xb9\\xbc\\xae\\xc0\\xaf</a></th>\\n\\t\\t\\t<td>23,000</td>\\n\\t\\t\\t<td>\\n\\t\\t\\t\\t\\n\\t\\t\\t\\t<em class=\"f_up up\"><span>\\xbb\\xf3\\xc7\\xe2</span>\\n\\t\\t\\t\\t2,800\\n\\t\\t\\t\\t</em>\\n\\t\\t\\t\\n\\t\\t\\t</td>\\n\\t\\t</tr>\\n\\t\\n\\t\\t\\n\\t\\t<tr>\\n\\t\\t\\t<th scope=\"row\" class=\"no5\"><a href=\"/item/main.naver?code=034020\" target=_top onClick=\"clickcr(this, \\'pss.2\\', \\'\\', \\'5\\', event);\">\\xb5\\xce\\xbb\\xea\\xbf\\xa1\\xb3\\xca\\xba\\xf4\\xb8\\xae..</a></th>\\n\\t\\t\\t<td>17,690</td>\\n\\t\\t\\t<td>\\n\\t\\t\\t\\t\\n\\t\\t\\t\\t<em class=\"f_down down\"><span>\\xc7\\xcf\\xc7\\xe2</span>\\n\\t\\t\\t\\t1,020\\n\\t\\t\\t\\t</em>\\n\\t\\t\\t\\n\\t\\t\\t</td>\\n\\t\\t</tr>\\n\\t\\n\\t\\t\\n\\t\\t\\t<tr><td colspan=\"3\" class=\"line\"></td></tr>\\n\\t\\t\\n\\t\\t<tr>\\n\\t\\t\\t<th scope=\"row\" class=\"no6\"><a href=\"/item/main.naver?code=267260\" target=_top onClick=\"clickcr(this, \\'pss.2\\', \\'\\', \\'6\\', event);\">HD\\xc7\\xf6\\xb4\\xeb\\xc0\\xcf\\xb7\\xba\\xc6\\xae..</a></th>\\n\\t\\t\\t<td>275,000</td>\\n\\t\\t\\t<td>\\n\\t\\t\\t\\t\\n\\t\\t\\t\\t<em class=\"f_down down\"><span>\\xc7\\xcf\\xc7\\xe2</span>\\n\\t\\t\\t\\t45,500\\n\\t\\t\\t\\t</em>\\n\\t\\t\\t\\n\\t\\t\\t</td>\\n\\t\\t</tr>\\n\\t\\n\\t\\t\\n\\t\\t<tr>\\n\\t\\t\\t<th scope=\"row\" class=\"no7\"><a href=\"/item/main.naver?code=068270\" target=_top onClick=\"clickcr(this, \\'pss.2\\', \\'\\', \\'7\\', event);\">\\xbc\\xbf\\xc6\\xae\\xb8\\xae\\xbf\\xc2</a></th>\\n\\t\\t\\t<td>193,600</td>\\n\\t\\t\\t<td>\\n\\t\\t\\t\\t\\n\\t\\t\\t\\t<em class=\"f_down down\"><span>\\xc7\\xcf\\xc7\\xe2</span>\\n\\t\\t\\t\\t6,400\\n\\t\\t\\t\\t</em>\\n\\t\\t\\t\\n\\t\\t\\t</td>\\n\\t\\t</tr>\\n\\t\\n\\t\\t\\n\\t\\t<tr>\\n\\t\\t\\t<th scope=\"row\" class=\"no8\"><a href=\"/item/main.naver?code=062040\" target=_top onClick=\"clickcr(this, \\'pss.2\\', \\'\\', \\'8\\', event);\">\\xbb\\xea\\xc0\\xcf\\xc0\\xfc\\xb1\\xe2</a></th>\\n\\t\\t\\t<td>52,800</td>\\n\\t\\t\\t<td>\\n\\t\\t\\t\\t\\n\\t\\t\\t\\t<em class=\"f_up up\"><span>\\xbb\\xf3\\xc7\\xe2</span>\\n\\t\\t\\t\\t700\\n\\t\\t\\t\\t</em>\\n\\t\\t\\t\\n\\t\\t\\t</td>\\n\\t\\t</tr>\\n\\t\\n\\t\\t\\n\\t\\t<tr>\\n\\t\\t\\t<th scope=\"row\" class=\"no9\"><a href=\"/item/main.naver?code=006400\" target=_top onClick=\"clickcr(this, \\'pss.2\\', \\'\\', \\'9\\', event);\">\\xbb\\xef\\xbc\\xbaSDI</a></th>\\n\\t\\t\\t<td>336,500</td>\\n\\t\\t\\t<td>\\n\\t\\t\\t\\t\\n\\t\\t\\t\\t<em class=\"f_up up\"><span>\\xbb\\xf3\\xc7\\xe2</span>\\n\\t\\t\\t\\t2,500\\n\\t\\t\\t\\t</em>\\n\\t\\t\\t\\n\\t\\t\\t</td>\\n\\t\\t</tr>\\n\\t\\n\\t\\t\\n\\t\\t<tr>\\n\\t\\t\\t<th scope=\"row\" class=\"no10\"><a href=\"/item/main.naver?code=003670\" target=_top onClick=\"clickcr(this, \\'pss.2\\', \\'\\', \\'10\\', event);\">\\xc6\\xf7\\xbd\\xba\\xc4\\xda\\xc7\\xbb\\xc3\\xb3\\xbf\\xa5</a></th>\\n\\t\\t\\t<td>226,000</td>\\n\\t\\t\\t<td>\\n\\t\\t\\t\\t\\n\\t\\t\\t\\t<em class=\"f_up up\"><span>\\xbb\\xf3\\xc7\\xe2</span>\\n\\t\\t\\t\\t4,500\\n\\t\\t\\t\\t</em>\\n\\t\\t\\t\\n\\t\\t\\t</td>\\n\\t\\t</tr>\\n\\t\\n\\t</table>\\n\\t</div>\\n\\t<div id=\"fav_kosdaq\" style=\"display:none\">\\n\\t<table summary=\"\\xc4\\xda\\xbd\\xba\\xb4\\xda \\xc0\\xce\\xb1\\xe2\\xb0\\xcb\\xbb\\xf6\\xc1\\xbe\\xb8\\xf1 \\xb8\\xae\\xbd\\xba\\xc6\\xae\" class=\"rank\">\\n\\t<caption>\\xc4\\xda\\xbd\\xba\\xc7\\xc7 \\xc0\\xce\\xb1\\xe2\\xb0\\xcb\\xbb\\xf6\\xc1\\xbe\\xb8\\xf1</caption>\\n\\t<colgroup><col><col width=\"50\"><col width=\"86\"></colgroup>\\n\\t<thead>\\n\\t<tr>\\n\\t\\t<th>\\xbe\\xf7\\xc3\\xbc\\xb8\\xed</th>\\n\\t\\t<th scope=\"col\">\\xb0\\xc5\\xb7\\xa1\\xb7\\xae</th>\\n\\t\\t<th scope=\"col\">\\xc0\\xfc\\xc0\\xcf\\xba\\xf1</th>\\n\\t</tr>\\n\\t</thead>\\n\\t\\n\\t\\t\\n\\t\\t<tr>\\n\\t\\t\\t<th scope=\"row\" class=\"no1\"><a href=\"/item/main.naver?code=253840\" target=_top onClick=\"clickcr(this, \\'pss.4\\', \\'\\', \\'1\\', event);\">\\xbc\\xf6\\xc1\\xa8\\xc5\\xd8</a></th>\\n\\t\\t\\t<td>7,810</td>\\n\\t\\t\\t<td>\\n\\t\\t\\t\\t<em class=\"f_up up\"><span>\\xbb\\xf3\\xc7\\xe2</span>\\n\\t\\t\\t\\t1,600\\n\\t\\t\\t\\t</em>\\n\\t\\t\\t</td>\\n\\t\\t</tr>\\n\\t\\n\\t\\t\\n\\t\\t<tr>\\n\\t\\t\\t<th scope=\"row\" class=\"no2\"><a href=\"/item/main.naver?code=247540\" target=_top onClick=\"clickcr(this, \\'pss.4\\', \\'\\', \\'2\\', event);\">\\xbf\\xa1\\xc4\\xda\\xc7\\xc1\\xb7\\xce\\xba\\xf1\\xbf\\xa5</a></th>\\n\\t\\t\\t<td>185,900</td>\\n\\t\\t\\t<td>\\n\\t\\t\\t\\t<em class=\"f_up up\"><span>\\xbb\\xf3\\xc7\\xe2</span>\\n\\t\\t\\t\\t800\\n\\t\\t\\t\\t</em>\\n\\t\\t\\t</td>\\n\\t\\t</tr>\\n\\t\\n\\t\\t\\n\\t\\t<tr>\\n\\t\\t\\t<th scope=\"row\" class=\"no3\"><a href=\"/item/main.naver?code=084650\" target=_top onClick=\"clickcr(this, \\'pss.4\\', \\'\\', \\'3\\', event);\">\\xb7\\xa6\\xc1\\xf6\\xb3\\xeb\\xb9\\xcd\\xbd\\xba</a></th>\\n\\t\\t\\t<td>3,080</td>\\n\\t\\t\\t<td>\\n\\t\\t\\t\\t<em class=\"f_up up\"><span>\\xbb\\xf3\\xc7\\xe2</span>\\n\\t\\t\\t\\t410\\n\\t\\t\\t\\t</em>\\n\\t\\t\\t</td>\\n\\t\\t</tr>\\n\\t\\n\\t\\t\\n\\t\\t<tr>\\n\\t\\t\\t<th scope=\"row\" class=\"no4\"><a href=\"/item/main.naver?code=196170\" target=_top onClick=\"clickcr(this, \\'pss.4\\', \\'\\', \\'4\\', event);\">\\xbe\\xcb\\xc5\\xd7\\xbf\\xc0\\xc1\\xa8</a></th>\\n\\t\\t\\t<td>295,000</td>\\n\\t\\t\\t<td>\\n\\t\\t\\t\\t<em class=\"f_down down\"><span>\\xc7\\xcf\\xc7\\xe2</span>\\n\\t\\t\\t\\t24,000\\n\\t\\t\\t\\t</em>\\n\\t\\t\\t</td>\\n\\t\\t</tr>\\n\\t\\n\\t\\t\\n\\t\\t<tr>\\n\\t\\t\\t<th scope=\"row\" class=\"no5\"><a href=\"/item/main.naver?code=299660\" target=_top onClick=\"clickcr(this, \\'pss.4\\', \\'\\', \\'5\\', event);\">\\xbc\\xbf\\xb8\\xae\\xb5\\xe5</a></th>\\n\\t\\t\\t<td>5,640</td>\\n\\t\\t\\t<td>\\n\\t\\t\\t\\t<em class=\"f_up up\"><span>\\xbb\\xf3\\xc7\\xe2</span>\\n\\t\\t\\t\\t910\\n\\t\\t\\t\\t</em>\\n\\t\\t\\t</td>\\n\\t\\t</tr>\\n\\t\\n\\t\\t\\n\\t\\t\\t<tr><td colspan=\"3\" class=\"line\"></td></tr>\\n\\t\\t\\n\\t\\t<tr>\\n\\t\\t\\t<th scope=\"row\" class=\"no6\"><a href=\"/item/main.naver?code=028300\" target=_top onClick=\"clickcr(this, \\'pss.4\\', \\'\\', \\'6\\', event);\">HLB</a></th>\\n\\t\\t\\t<td>81,000</td>\\n\\t\\t\\t<td>\\n\\t\\t\\t\\t<em class=\"f_down down\"><span>\\xc7\\xcf\\xc7\\xe2</span>\\n\\t\\t\\t\\t1,800\\n\\t\\t\\t\\t</em>\\n\\t\\t\\t</td>\\n\\t\\t</tr>\\n\\t\\n\\t\\t\\n\\t\\t<tr>\\n\\t\\t\\t<th scope=\"row\" class=\"no7\"><a href=\"/item/main.naver?code=024060\" target=_top onClick=\"clickcr(this, \\'pss.4\\', \\'\\', \\'7\\', event);\">\\xc8\\xef\\xb1\\xb8\\xbc\\xae\\xc0\\xaf</a></th>\\n\\t\\t\\t<td>18,830</td>\\n\\t\\t\\t<td>\\n\\t\\t\\t\\t<em class=\"f_up up\"><span>\\xbb\\xf3\\xc7\\xe2</span>\\n\\t\\t\\t\\t610\\n\\t\\t\\t\\t</em>\\n\\t\\t\\t</td>\\n\\t\\t</tr>\\n\\t\\n\\t\\t\\n\\t\\t<tr>\\n\\t\\t\\t<th scope=\"row\" class=\"no8\"><a href=\"/item/main.naver?code=086520\" target=_top onClick=\"clickcr(this, \\'pss.4\\', \\'\\', \\'8\\', event);\">\\xbf\\xa1\\xc4\\xda\\xc7\\xc1\\xb7\\xce</a></th>\\n\\t\\t\\t<td>91,200</td>\\n\\t\\t\\t<td>\\n\\t\\t\\t\\t<em class=\"f_down down\"><span>\\xc7\\xcf\\xc7\\xe2</span>\\n\\t\\t\\t\\t2,400\\n\\t\\t\\t\\t</em>\\n\\t\\t\\t</td>\\n\\t\\t</tr>\\n\\t\\n\\t\\t\\n\\t\\t<tr>\\n\\t\\t\\t<th scope=\"row\" class=\"no9\"><a href=\"/item/main.naver?code=096530\" target=_top onClick=\"clickcr(this, \\'pss.4\\', \\'\\', \\'9\\', event);\">\\xbe\\xbe\\xc1\\xa8</a></th>\\n\\t\\t\\t<td>22,800</td>\\n\\t\\t\\t<td>\\n\\t\\t\\t\\t<em class=\"f_up up\"><span>\\xbb\\xf3\\xc7\\xe2</span>\\n\\t\\t\\t\\t1,500\\n\\t\\t\\t\\t</em>\\n\\t\\t\\t</td>\\n\\t\\t</tr>\\n\\t\\n\\t\\t\\n\\t\\t<tr>\\n\\t\\t\\t<th scope=\"row\" class=\"no10\"><a href=\"/item/main.naver?code=225570\" target=_top onClick=\"clickcr(this, \\'pss.4\\', \\'\\', \\'10\\', event);\">\\xb3\\xd8\\xbd\\xbc\\xb0\\xd4\\xc0\\xd3\\xc1\\xee</a></th>\\n\\t\\t\\t<td>28,500</td>\\n\\t\\t\\t<td>\\n\\t\\t\\t\\t<em class=\"f_down down\"><span>\\xc7\\xcf\\xc7\\xe2</span>\\n\\t\\t\\t\\t300\\n\\t\\t\\t\\t</em>\\n\\t\\t\\t</td>\\n\\t\\t</tr>\\n\\t\\n\\t</table>\\n\\t</div>\\n</div>\\n\\n\\n\\n<div class=\"aside_section rate\">\\n\\t<h2 class=\"h_sub sub_tit8\"><span>\\xbd\\xc3\\xbc\\xbc\\xc1\\xa4\\xba\\xb8\\xb9\\xd9\\xb7\\xce\\xb0\\xa1\\xb1\\xe2</span></h2>\\n\\t<p>\\n\\t\\t<a href=\"/sise/sise_index.naver?code=KOSPI\" onClick=\"clickcr(this, \\'quk.2\\', \\'\\', \\'\\', event);\">\\xc4\\xda\\xbd\\xba\\xc7\\xc7</a>\\n\\t\\t<a href=\"/sise/sise_index.naver?code=KOSDAQ\" onClick=\"clickcr(this, \\'quk.3\\', \\'\\', \\'\\', event);\">\\xc4\\xda\\xbd\\xba\\xb4\\xda</a>\\n\\t\\t<a href=\"/sise/sise_index.naver?code=FUT\" onClick=\"clickcr(this, \\'quk.4\\', \\'\\', \\'\\', event);\">\\xbc\\xb1\\xb9\\xb0</a>\\n\\t\\t<a href=\"/sise/konex.naver\" class=\"end\" onClick=\"clickcr(this, \\'quk.konex\\', \\'\\', \\'\\', event);\">\\xc4\\xda\\xb3\\xd8\\xbd\\xba</a><br>\\n\\t\\t<a href=\"/sise/sise_index.naver?code=KPI200\" onClick=\"clickcr(this, \\'quk.30\\', \\'\\', \\'\\', event);\">\\xc4\\xda\\xbd\\xba\\xc7\\xc7200</a>\\n\\t\\t<a href=\"/sise/etf.naver\" onClick=\"clickcr(this, \\'quk.31\\', \\'\\', \\'\\', event);\">ETF</a>\\n\\t\\t<a href=\"/sise/sise_group.naver?type=upjong\" onClick=\"clickcr(this, \\'quk.5\\', \\'\\', \\'\\', event);\"><strong>\\xbe\\xf7\\xc1\\xbe\\xba\\xb0</strong></a>\\n\\t\\t<a href=\"/sise/theme.naver\" class=\"end\" onClick=\"clickcr(this, \\'quk.6\\', \\'\\', \\'\\', event);\">\\xc5\\xd7\\xb8\\xb6\\xba\\xb0</a><br>\\n\\t\\t<a href=\"/sise/sise_upper.naver\" onClick=\"clickcr(this, \\'quk.7\\', \\'\\', \\'\\', event);\"><strong>\\xbb\\xf3\\xc7\\xd1\\xb0\\xa1</strong></a>\\n\\t\\t<a href=\"/sise/sise_lower.naver\" onClick=\"clickcr(this, \\'quk.8\\', \\'\\', \\'\\', event);\">\\xc7\\xcf\\xc7\\xd1\\xb0\\xa1</a>\\n\\t\\t<a href=\"/sise/sise_rise.naver\" onClick=\"clickcr(this, \\'quk.9\\', \\'\\', \\'\\', event);\">\\xbb\\xf3\\xbd\\xc2</a>\\n\\t\\t<a href=\"/sise/sise_steady.naver\" onClick=\"clickcr(this, \\'quk.10\\', \\'\\', \\'\\', event);\">\\xba\\xb8\\xc7\\xd5</a>\\n\\t\\t<a href=\"/sise/sise_fall.naver\" class=\"end\" onClick=\"clickcr(this, \\'quk.11\\', \\'\\', \\'\\', event);\">\\xc7\\xcf\\xb6\\xf4</a><br>\\n\\t\\t<a href=\"/sise/sise_quant.naver\" onClick=\"clickcr(this, \\'quk.12\\', \\'\\', \\'\\', event);\">\\xb0\\xc5\\xb7\\xa1\\xbb\\xf3\\xc0\\xa7</a>\\n\\t\\t<a href=\"/sise/sise_quant_high.naver\" onClick=\"clickcr(this, \\'quk.13\\', \\'\\', \\'\\', event);\"><strong>\\xb1\\xde\\xc1\\xf5</strong></a>\\n\\t\\t<a href=\"/sise/sise_quant_low.naver\" class=\"end\" onClick=\"clickcr(this, \\'quk.14\\', \\'\\', \\'\\', event);\">\\xb1\\xde\\xb0\\xa8</a><br>\\n\\t\\t<a href=\"/sise/sise_high_down.naver\" onClick=\"clickcr(this, \\'quk.15\\', \\'\\', \\'\\', event);\">\\xb0\\xed\\xb0\\xa1\\xb4\\xeb\\xba\\xf1\\xb1\\xde\\xb6\\xf4</a>\\n\\t\\t<a href=\"/sise/sise_low_up.naver\" class=\"end\" onClick=\"clickcr(this, \\'quk.16\\', \\'\\', \\'\\', event);\">\\xc0\\xfa\\xb0\\xa1\\xb4\\xeb\\xba\\xf1\\xb1\\xde\\xb5\\xee</a>\\n\\t</p>\\n\\t<p>\\n\\t\\t<a href=\"/sise/sise_market_sum.naver\" onClick=\"clickcr(this, \\'quk.17\\', \\'\\', \\'\\', event);\"><strong>\\xbd\\xc3\\xb0\\xa1\\xc3\\xd1\\xbe\\xd7\\xbb\\xf3\\xc0\\xa7</strong></a>\\n\\t\\t<a href=\"/sise/sise_foreign_hold.naver\" class=\"end\" onClick=\"clickcr(this, \\'quk.18\\', \\'\\', \\'\\', event);\">\\xbf\\xdc\\xb1\\xb9\\xc0\\xce\\xba\\xb8\\xc0\\xaf\\xc7\\xf6\\xc8\\xb2</a><br>\\n\\t\\t<a href=\"/sise/sise_deal_rank.naver\" onClick=\"clickcr(this, \\'quk.19\\', \\'\\', \\'\\', event);\">\\xbf\\xdc\\xb1\\xb9\\xc0\\xce\\xb8\\xc5\\xb8\\xc5</a>\\n\\t\\t<a href=\"/sise/sise_deal_rank.naver?investor_gubun=1000\" onClick=\"clickcr(this, \\'quk.19-1\\', \\'\\', \\'\\', event);\">\\xb1\\xe2\\xb0\\xfc\\xb8\\xc5\\xb8\\xc5</a>\\n\\t\\t<a href=\"/sise/sise_program.naver\" class=\"end\" onClick=\"clickcr(this, \\'quk.20\\', \\'\\', \\'\\', event);\">\\xc7\\xc1\\xb7\\xce\\xb1\\xd7\\xb7\\xa5\\xb8\\xc5\\xb8\\xc5</a><br>\\n\\t\\t<a href=\"/sise/management.naver\" onClick=\"clickcr(this, \\'quk.21\\', \\'\\', \\'\\', event);\">\\xb0\\xfc\\xb8\\xae\\xa1\\xa4\\xb0\\xa8\\xb8\\xae\\xc1\\xbe\\xb8\\xf1</a>\\n\\t\\t<a href=\"/sise/sise_new_stock.naver\" class=\"end\" onClick=\"clickcr(this, \\'quk.22\\', \\'\\', \\'\\', event);\">\\xbd\\xc5\\xb1\\xd4\\xbb\\xf3\\xc0\\xe5\\xc1\\xbe\\xb8\\xf1</a><br>\\n\\t\\t<a href=\"/sise/sise_deposit.naver\" onClick=\"clickcr(this, \\'quk.23\\', \\'\\', \\'\\', event);\">\\xc1\\xf5\\xbd\\xc3\\xc0\\xda\\xb1\\xdd\\xb5\\xbf\\xc7\\xe2</a>\\n\\t\\t<a href=\"/sise/sise_trans_style.naver\" class=\"end\" onClick=\"clickcr(this, \\'quk.24\\', \\'\\', \\'\\', event);\">\\xc5\\xf5\\xc0\\xda\\xc0\\xda\\xba\\xb0\\xb8\\xc5\\xb8\\xc5\\xb5\\xbf\\xc7\\xe2</a>\\n\\t</p>\\n\\t<p>\\n\\t\\t<a href=\"/sise/item_gap.naver\" onClick=\"clickcr(this, \\'quk.25\\', \\'\\', \\'\\', event);\">\\xb0\\xb8\\xbb\\xf3\\xbd\\xc2 \\xc1\\xbe\\xb8\\xf1</a>\\n\\t\\t<a href=\"/sise/item_gold.naver\" class=\"end\" onClick=\"clickcr(this, \\'quk.26\\', \\'\\', \\'\\', event);\">\\xb0\\xf1\\xb5\\xe7\\xc5\\xa9\\xb7\\xce\\xbd\\xba \\xc1\\xbe\\xb8\\xf1</a><br>\\n\\t\\t<a href=\"/sise/item_igyuk.naver\" onClick=\"clickcr(this, \\'quk.27\\', \\'\\', \\'\\', event);\">\\xc0\\xcc\\xb0\\xdd\\xb5\\xb5\\xb0\\xfa\\xbf\\xad\\xc1\\xbe\\xb8\\xf1</a>\\n\\t\\t<a href=\"/sise/item_overheating_1.naver\" class=\"end\" onClick=\"clickcr(this, \\'quk.28\\', \\'\\', \\'\\', event);\">\\xc5\\xf5\\xc0\\xda\\xbd\\xc9\\xb8\\xae\\xb0\\xfa\\xbf\\xad\\xc1\\xbe\\xb8\\xf1</a><br>\\n\\t\\t<a href=\"/sise/item_overheating_2.naver\" class=\"end\" onClick=\"clickcr(this, \\'quk.29\\', \\'\\', \\'\\', event);\">\\xbb\\xf3\\xb4\\xeb\\xb0\\xad\\xb5\\xb5\\xb0\\xfa\\xbf\\xad\\xc1\\xbe\\xb8\\xf1</a>\\n\\t</p>\\n\\t<a href=\"/sise/\" class=\"more\" onClick=\"clickcr(this, \\'quk.1\\', \\'\\', \\'\\', event);\">\\xb4\\xf5\\xba\\xb8\\xb1\\xe2</a>\\n\\t<div class=\"hidden_line\"></div>\\n</div>\\n\\n\\n\\n<div class=\"aside_section notice\">\\n\\t<h2 class=\"h_sub sub_tit10\"><span>\\xb0\\xf8\\xc1\\xf6\\xbb\\xe7\\xc7\\xd7</span></h2>\\n\\t<ul>\\n\\t\\t\\n\\t\\t\\t<li><a href=\"\"  onClick=\"clickcr(this, \\'ice.2\\', \\'\\', \\'1\\', event)\"></a></li>\\n\\t\\t\\n\\t\\t\\t<li><a href=\"\"  onClick=\"clickcr(this, \\'ice.2\\', \\'\\', \\'2\\', event)\"></a></li>\\n\\t\\t\\n\\t\\t\\t<li><a href=\"\"  onClick=\"clickcr(this, \\'ice.2\\', \\'\\', \\'3\\', event)\"></a></li>\\n\\t\\t\\n\\t\\t\\t<li><a href=\"\"  onClick=\"clickcr(this, \\'ice.2\\', \\'\\', \\'4\\', event)\"></a></li>\\n\\t\\t\\n\\t\\t\\t<li><a href=\"\"  onClick=\"clickcr(this, \\'ice.2\\', \\'\\', \\'5\\', event)\"></a></li>\\n\\t\\t\\n\\t</ul>\\n\\t<a href=\"/notice.naver\" class=\"more\" onClick=\"clickcr(this, \\'ice.1\\', \\'\\', \\'\\', event);\">\\xb4\\xf5\\xba\\xb8\\xb1\\xe2</a>\\n</div>\\n\\n\\n</div>\\n\\n\\n\\n</div>\\n</div>\\n\\n</div>\\n\\n\\n\\n\\n\\t<div id=\"footer\">\\n\\t\\t\\n\\t\\t<ul>\\n\\t\\t\\t<li class=\"first\">\\n\\t\\t\\t\\t<a href=\"https://new-m.pay.naver.com/member/terms-policy/naver-financial-service\" onClick=\"clickcr(this, \\'fot.service\\', \\'\\', \\'\\', event);\" target=\"_blank\">\\xc0\\xcc\\xbf\\xeb\\xbe\\xe0\\xb0\\xfc</a>\\n\\t\\t\\t</li>\\n\\t\\t\\t<li>\\n\\t\\t\\t\\t<a href=\"https://new-m.pay.naver.com/member/terms-policy/privacy\" onClick=\"clickcr(this, \\'fot.privacy\\', \\'\\', \\'\\', event);\" target=\"_blank\"><strong>\\xb0\\xb3\\xc0\\xce\\xc1\\xa4\\xba\\xb8\\xc3\\xb3\\xb8\\xae\\xb9\\xe6\\xc4\\xa7</strong></a>\\n\\t\\t\\t</li>\\n\\t\\t\\t<li>\\n\\t\\t\\t\\t<a href=\"/rules.naver\" onClick=\"clickcr(this, \\'fot.policy\\', \\'\\', \\'\\', event);\" target=\"_blank\">\\xb0\\xd4\\xbd\\xc3\\xc6\\xc7 \\xbf\\xee\\xbf\\xb5\\xbf\\xf8\\xc4\\xa2</a>\\n\\t\\t\\t</li>\\n\\t\\t\\t<li>\\n\\t\\t\\t\\t<a href=\"https://help.naver.com/alias/contents2/finance/finance_1.naver\" onclick=\"clickcr(this, \\'fot.help\\', \\'\\', \\'\\', event);\" target=\"_blank\">\\xc1\\xf5\\xb1\\xc7 \\xb0\\xed\\xb0\\xb4\\xbc\\xbe\\xc5\\xcd</a>\\n\\t\\t\\t</li>\\n\\t\\t</ul>\\n\\t\\t<p class=\"desc\">\\n\\t\\t\\t\\xb3\\xd7\\xc0\\xcc\\xb9\\xf6\\xc6\\xc4\\xc0\\xcc\\xb3\\xbd\\xbc\\xc8(\\xc1\\xd6)\\xc0\\xcc \\xc1\\xa6\\xb0\\xf8\\xc7\\xcf\\xb4\\xc2 \\xb1\\xdd\\xc0\\xb6 \\xc1\\xa4\\xba\\xb8\\xb4\\xc2 <a href=\"javascript:;\" onclick=\"togglePanelFooter(\\'footerPanel0\\');\" class=\"desc_help\">\\xc4\\xdc\\xc5\\xd9\\xc3\\xf7 \\xc1\\xa6\\xb0\\xf8\\xbe\\xf7\\xc3\\xbc</a>\\xb7\\xce\\xba\\xce\\xc5\\xcd \\xb9\\xde\\xb4\\xc2 \\xc5\\xf5\\xc0\\xda \\xc2\\xfc\\xb0\\xed\\xbb\\xe7\\xc7\\xd7\\xc0\\xcc\\xb8\\xe7, \\xbf\\xc0\\xb7\\xf9\\xb0\\xa1 \\xb9\\xdf\\xbb\\xfd\\xc7\\xcf\\xb0\\xc5\\xb3\\xaa \\xc1\\xf6\\xbf\\xac\\xb5\\xc9 \\xbc\\xf6 \\xc0\\xd6\\xbd\\xc0\\xb4\\xcf\\xb4\\xd9.<br/>\\n\\t\\t\\t\\xb3\\xd7\\xc0\\xcc\\xb9\\xf6\\xc6\\xc4\\xc0\\xcc\\xb3\\xbd\\xbc\\xc8(\\xc1\\xd6)\\xb0\\xfa \\xc4\\xdc\\xc5\\xd9\\xc3\\xf7 \\xc1\\xa6\\xb0\\xf8\\xbe\\xf7\\xc3\\xbc\\xb4\\xc2 \\xc1\\xa6\\xb0\\xf8\\xb5\\xc8 \\xc1\\xa4\\xba\\xb8\\xbf\\xa1 \\xc0\\xc7\\xc7\\xd1 \\xc5\\xf5\\xc0\\xda \\xb0\\xe1\\xb0\\xfa\\xbf\\xa1 \\xb9\\xfd\\xc0\\xfb\\xc0\\xce \\xc3\\xa5\\xc0\\xd3\\xc0\\xbb \\xc1\\xf6\\xc1\\xf6 \\xbe\\xca\\xbd\\xc0\\xb4\\xcf\\xb4\\xd9. \\xb0\\xd4\\xbd\\xc3\\xb5\\xc8 \\xc1\\xa4\\xba\\xb8\\xb4\\xc2 \\xb9\\xab\\xb4\\xdc\\xc0\\xb8\\xb7\\xce \\xb9\\xe8\\xc6\\xf7\\xc7\\xd2 \\xbc\\xf6 \\xbe\\xf8\\xbd\\xc0\\xb4\\xcf\\xb4\\xd9.\\n\\t\\t</p>\\n\\t\\t<address>\\n\\t\\t\\t<a href=\"https://www.naverfincorp.com/\" target=\"_blank\" class=\"logo\" onClick=\"clickcr(this, \\'fot.nhn\\', \\'\\', \\'\\', event);\"><img src=\"https://ssl.pstatic.net/static/nfinance/img/logo_financial.png\" width=\"160\" height=\"12\" alt=\"NAVER FINANCIAL\"></a>\\n\\t\\t</address>\\n\\t\\t<div id=\"footerPanel0\" class=\"provider_layer\" style=\"display:none\" tabindex=\"0\" onblur=\"hidePannel(\\'footerPanel0\\')\">\\n\\t\\t\\t<strong class=\"provider_layer__tit\">\\xb3\\xd7\\xc0\\xcc\\xb9\\xf6\\xc6\\xc4\\xc0\\xcc\\xb3\\xbd\\xbc\\xc8\\xbf\\xa1 \\xc4\\xdc\\xc5\\xd9\\xc3\\xf7 \\xc1\\xa6\\xb0\\xf8</strong>\\n\\t\\t\\t<div class=\"provider_layer__txt\">\\n\\t\\t\\t\\t<strong>\\xbf\\xa1\\xc7\\xc1\\xbe\\xd8\\xb0\\xa1\\xc0\\xcc\\xb5\\xe5</strong> \\xb1\\xe2\\xbe\\xf7 \\xb9\\xd7 \\xc0\\xe7\\xb9\\xab\\xc1\\xa4\\xba\\xb8<br>\\n\\t\\t\\t\\t<strong>KG\\xc1\\xa6\\xb7\\xce\\xc0\\xce</strong> \\xc7\\xd8\\xbf\\xdc \\xbd\\xc3\\xbc\\xbc, \\xbd\\xc3\\xc0\\xe5\\xc1\\xf6\\xc7\\xa5 \\xc1\\xa4\\xba\\xb8<br>\\n\\t\\t\\t\\t<strong>\\xc7\\xd1\\xb1\\xb9\\xbf\\xb9\\xc5\\xb9\\xb0\\xe1\\xc1\\xa6\\xbf\\xf8</strong> \\xc1\\xd6\\xc1\\xd6\\xc3\\xd1\\xc8\\xb8\\xc0\\xcf, \\xc0\\xfc\\xc0\\xda\\xc5\\xf5\\xc7\\xa5 \\xc1\\xa4\\xba\\xb8<br>\\n\\t\\t\\t\\t<strong>\\xc0\\xce\\xc6\\xf7\\xbd\\xba\\xc5\\xb9</strong> \\xb1\\xb9\\xb3\\xbb \\xc5\\xd7\\xb8\\xb6 \\xc1\\xa4\\xba\\xb8\\n\\t\\t\\t</div>\\n\\t\\t\\t<div class=\"provider_layer__info\">\\n\\t\\t\\t\\t<strong class=\"provider_layer__tit\">\\xb3\\xd7\\xc0\\xcc\\xb9\\xf6\\xbf\\xa1 \\xc4\\xdc\\xc5\\xd9\\xc3\\xf7 \\xc1\\xa6\\xb0\\xf8</strong>\\n\\t\\t\\t\\t<div class=\"provider_layer__txt\">\\n\\t\\t\\t\\t\\t<strong>\\xc4\\xda\\xbd\\xba\\xc4\\xde</strong> \\xb1\\xb9\\xb3\\xbb \\xbd\\xc3\\xbc\\xbc \\xc1\\xa4\\xba\\xb8\\n\\t\\t\\t\\t</div>\\n\\t\\t\\t</div>\\n\\t\\t\\t<button type=\"button\" class=\"button_close\" onclick=\"hidePannel(\\'footerPanel0\\')\">\\n\\t\\t\\t\\t<img src=\"https://ssl.pstatic.net/static/nfinance/2022/footer_close.png\" width=\"20\" height=\"20\" alt=\"\\xb4\\xdd\\xb1\\xe2\">\\n\\t\\t\\t</button>\\n\\t\\t</div>\\n\\n\\t\\t\\n\\t\\t\\n\\t\\t\\n\\t</div>\\n\\n\\n\\n<script type=\"text/javascript\">\\nfunction isVisible(obj) {\\n    if (obj == document) return true\\n \\n    if (!obj) return false\\n    if (!obj.parentNode) return false\\n    if (obj.style) {\\n        if (obj.style.display == \\'none\\') return false\\n        if (obj.style.visibility == \\'hidden\\') return false\\n    }\\n \\n    if (window.getComputedStyle) {\\n        var style = window.getComputedStyle(obj, \"\")\\n        if (style.display == \\'none\\') return false\\n        if (style.visibility == \\'hidden\\') return false\\n    }\\n \\n    var style = obj.currentStyle\\n    if (style) {\\n        if (style[\\'display\\'] == \\'none\\') return false\\n        if (style[\\'visibility\\'] == \\'hidden\\') return false\\n    }\\n \\n    return isVisible(obj.parentNode)\\n}\\n\\nfunction isChildOf(myobj, containerObj) {\\n\\twhile(myobj != undefined) {\\n\\t\\tif (myobj == document.body) {\\n\\t\\t\\tbreak;\\n\\t\\t} \\n\\t\\tif (myobj == containerObj) {\\n\\t\\t\\treturn true;\\n\\t\\t}\\n\\t\\tmyobj = myobj.parentElement;\\n\\t}\\n\\treturn false;\\t\\n}\\n\\nfunction gnbLayerClose(e){\\n\\tvar target = e.target ? e.target : e.srcElement;\\n\\tif (isVisible(document.getElementById(\\'gnb_service_lyr\\')) || isVisible(document.getElementById(\\'gnb_notice_lyr\\')) ||isVisible(document.getElementById(\\'gnb_my_lyr\\')) ) {\\n\\t\\tif (!isChildOf(target, document.getElementById(\\'gnb\\'))) {\\n\\t\\t\\tgnbAllLayerClose();\\n\\t\\t}\\n\\t}\\t\\n}\\n\\nvar isIE = (navigator.userAgent.toLowerCase().indexOf(\"msie\")!=-1 && window.document.all) ? true:false;\\nif (isIE) {\\n\\tdocument.attachEvent(\\'onmousedown\\', gnbLayerClose);\\n} else {\\n\\twindow.addEventListener(\\'mousedown\\', gnbLayerClose);\\n}\\n\\nfunction showPannel(layerId){\\n    var layer = jindo.$(layerId);\\n    layer.style.display=\\'block\\';\\n\\n    if (layerId == \"summary_lyr\") {\\n        var layerHeight = jindo.$Element(layer).height();\\n        jindo.$Element(\"summary_ifr\").height(layerHeight);\\n    }\\n}\\n\\nfunction hidePannel(layerId){\\n    var layer = jindo.$(layerId);\\n    layer.style.display=\\'none\\';\\n}\\n\\nfunction togglePanelFooter(layerId) {\\n    var elTargetLayer = jindo.$Element(jindo.$$.getSingle(\"#\" + layerId));\\n\\n    if (elTargetLayer != null) {\\n        if (elTargetLayer.visible()) {\\n            hidePannel(layerId);\\n        } else {\\n            showPannel(layerId);\\n        }\\n    }\\n}\\n\\n// add data-useragent\\ndocument.documentElement.setAttribute(\\'data-useragent\\',navigator.userAgent);\\n\\n// _replaceNewsLink class \\xc7\\xcf\\xc0\\xa7\\xc0\\xc7 a \\xc5\\xc2\\xb1\\xd7 \\xc1\\xb6\\xc8\\xb8 \\xc8\\xc4 redirect\\njindo.$Fn(function () {\\n\\tjindo.$$(\"._replaceNewsLink a\").forEach(function(ele){\\n\\t\\tvar urls = ele.href.split(\"?\");\\n\\t\\tif (urls[0].indexOf(\"/news_read.naver\") > 0 || urls[0].indexOf(\"/newsRead.naver\") > 0) {\\n\\t\\t\\tvar param = jindo.$S(urls[1]).parseString();\\n\\t\\t\\tvar oid = param.office_id ? param.office_id : param.officeId;\\n\\t\\t\\tvar aid = param.article_id ? param.article_id : param.articleId;\\n\\n\\t\\t\\tele.target = \"_blank\";\\n\\t\\t\\tele.href = jindo.$S(\"https://n.news.naver.com/mnews/article/%s/%s\").format(oid, aid);\\n\\t\\t}\\n\\t});\\n}).attach(document, \"domready\");\\n</script>\\n\\n</div>\\n</body>\\n</html>\\n\\n<script language=\"javascript\" type=\"text/javascript\">\\n\\tjindo.$Fn(function(){\\n\\t\\tjindo.EllipseText.factory(jindo.$$(\".new_bbs DIV.sub_section li span.txt\"), {nAssistWidth: 9});\\n\\t}).attach(document,\\'domready\\');\\n</script>\\n'"
      ]
     },
     "execution_count": 75,
     "metadata": {},
     "output_type": "execute_result"
    }
   ],
   "source": [
    "html.read()"
   ]
  },
  {
   "cell_type": "code",
   "execution_count": 79,
   "metadata": {},
   "outputs": [],
   "source": [
    "html_content = str(html.read().decode(\"ms949\"))"
   ]
  },
  {
   "cell_type": "code",
   "execution_count": 80,
   "metadata": {},
   "outputs": [
    {
     "data": {
      "text/plain": [
       "'\\n\\n\\t\\n\\t\\n\\t\\n\\t\\n<html lang=\\'ko\\'>\\n<head>\\n\\n\\n\\t\\n\\t\\t<title>삼성전자 : 네이버페이 증권</title>\\n\\t\\n\\t\\n\\n\\n\\n\\n<meta http-equiv=\"Content-Type\" content=\"text/html; charset=utf-8\" />\\n\\n<meta http-equiv=\"Content-Script-Type\" content=\"text/javascript\">\\n<meta http-equiv=\"Content-Style-Type\" content=\"text/css\">\\n<meta name=\"apple-mobile-web-app-title\" content=\"네이버페이 증권\" />\\n\\n\\n\\n\\n\\n\\t\\n    \\n        <meta property=\"og:url\" content=\"https://finance.naver.com/item/main.naver?code=005930\"/>\\n        \\n\\t\\t\\t\\n\\t\\t    \\n\\t\\t    \\t<meta property=\"og:title\" content=\"삼성전자 - 네이버페이 증권 : 네이버페이 증권\"/>\\n\\t\\t     \\n\\t\\t\\n\\t\\t\\n\\t\\t\\t\\n\\t\\t\\t   <meta property=\"og:description\" content=\"관심종목의 실시간 주가를 가장 빠르게 확인하는 곳\"/>\\n\\t\\t    \\n\\t\\t    \\n\\t\\t\\n\\t\\t \\n\\t\\t\\t\\n\\t\\t\\t    <meta property=\"og:image\" content=\"https://ssl.pstatic.net/static/m/stock/im/2016/08/og_stock-200.png\"/>\\n\\t\\t    \\n\\t\\t    \\n\\t\\t\\n    \\n\\n<meta property=\"og:type\" content=\"article\"/>\\n<meta property=\"og:article:thumbnailUrl\" content=\"\"/>\\n<meta property=\"og:article:author\" content=\"네이버페이 증권\"/>\\n<meta property=\"og:article:author:url\" content=\"htt'"
      ]
     },
     "execution_count": 80,
     "metadata": {},
     "output_type": "execute_result"
    }
   ],
   "source": [
    "html_content[0:1000]"
   ]
  },
  {
   "cell_type": "code",
   "execution_count": 66,
   "metadata": {},
   "outputs": [],
   "source": [
    "stock_results = re.findall(\n",
    "    \"(\\<dl class=\\\"blind\\\"\\>)([\\s\\S]+?)(\\<\\/dl\\>)\", html_content)"
   ]
  },
  {
   "cell_type": "code",
   "execution_count": 67,
   "metadata": {},
   "outputs": [],
   "source": [
    "samsung_stock = stock_results[0]"
   ]
  },
  {
   "cell_type": "code",
   "execution_count": 68,
   "metadata": {},
   "outputs": [
    {
     "data": {
      "text/plain": [
       "('<dl class=\"blind\">',\n",
       " '\\n\\t        <dt>종목 시세 정보</dt>\\n\\t        <dd>2024년 08월 02일 15시 29분 기준 장중</dd>\\n\\t        <dd>종목명 삼성전자</dd>\\n\\t        <dd>종목코드 005930 코스피</dd>\\n\\t        <dd>현재가 79,700 전일대비 하락 3,400 마이너스 4.09 퍼센트</dd>\\n\\t        <dd>전일가 83,100</dd>\\n\\t        <dd>시가 81,000</dd>\\n\\t        <dd>고가 81,400</dd>\\n\\t        <dd>상한가 108,000</dd>\\n\\t        <dd>저가 79,500</dd>\\n\\t        <dd>하한가 58,200</dd>\\n\\t        <dd>거래량 24,113,017</dd>\\n\\t        <dd>거래대금 1,938,209백만</dd>\\n        ',\n",
       " '</dl>')"
      ]
     },
     "execution_count": 68,
     "metadata": {},
     "output_type": "execute_result"
    }
   ],
   "source": [
    "samsung_stock"
   ]
  },
  {
   "cell_type": "code",
   "execution_count": 69,
   "metadata": {},
   "outputs": [],
   "source": [
    "samsung_index = samsung_stock[1]"
   ]
  },
  {
   "cell_type": "code",
   "execution_count": 70,
   "metadata": {},
   "outputs": [],
   "source": [
    "index_list = re.findall(\"(\\<dd\\>)([\\s\\S]+?)(\\<\\/dd\\>)\", samsung_index)"
   ]
  },
  {
   "cell_type": "code",
   "execution_count": 71,
   "metadata": {},
   "outputs": [
    {
     "name": "stdout",
     "output_type": "stream",
     "text": [
      "2024년 08월 02일 15시 29분 기준 장중\n",
      "종목명 삼성전자\n",
      "종목코드 005930 코스피\n",
      "현재가 79,700 전일대비 하락 3,400 마이너스 4.09 퍼센트\n",
      "전일가 83,100\n",
      "시가 81,000\n",
      "고가 81,400\n",
      "상한가 108,000\n",
      "저가 79,500\n",
      "하한가 58,200\n",
      "거래량 24,113,017\n",
      "거래대금 1,938,209백만\n"
     ]
    }
   ],
   "source": [
    "for index in index_list:\n",
    "    print(index[1])                # 세 개의 튜플 값 중 두 번째 값"
   ]
  },
  {
   "cell_type": "code",
   "execution_count": 81,
   "metadata": {},
   "outputs": [],
   "source": [
    "s_code = requests.get('https://finance.naver.com/item/main.nhn?code=005930')"
   ]
  },
  {
   "cell_type": "code",
   "execution_count": 82,
   "metadata": {},
   "outputs": [
    {
     "data": {
      "text/plain": [
       "<Response [200]>"
      ]
     },
     "execution_count": 82,
     "metadata": {},
     "output_type": "execute_result"
    }
   ],
   "source": [
    "s_code"
   ]
  },
  {
   "cell_type": "code",
   "execution_count": 84,
   "metadata": {},
   "outputs": [],
   "source": [
    "bs = BeautifulSoup(s_code.content, \"html.parser\")"
   ]
  },
  {
   "cell_type": "code",
   "execution_count": 85,
   "metadata": {},
   "outputs": [],
   "source": [
    "ls = bs.find_all('dl', {'class': 'blind'})"
   ]
  },
  {
   "cell_type": "code",
   "execution_count": 86,
   "metadata": {},
   "outputs": [
    {
     "data": {
      "text/plain": [
       "[<dl class=\"blind\">\n",
       " <dt>종목 시세 정보</dt>\n",
       " <dd>2024년 08월 02일 16시 10분 기준 장마감</dd>\n",
       " <dd>종목명 삼성전자</dd>\n",
       " <dd>종목코드 005930 코스피</dd>\n",
       " <dd>현재가 79,600 전일대비 하락 3,500 마이너스 4.21 퍼센트</dd>\n",
       " <dd>전일가 83,100</dd>\n",
       " <dd>시가 81,000</dd>\n",
       " <dd>고가 81,400</dd>\n",
       " <dd>상한가 108,000</dd>\n",
       " <dd>저가 79,500</dd>\n",
       " <dd>하한가 58,200</dd>\n",
       " <dd>거래량 25,422,371</dd>\n",
       " <dd>거래대금 2,042,433백만</dd>\n",
       " </dl>,\n",
       " <dl class=\"blind\">\n",
       " <dt><strong>삼성전자</strong></dt>\n",
       " <dd>오늘의시세 79,600 포인트</dd>\n",
       " <dd>3,500 포인트 하락</dd>\n",
       " <dd>4.21% 마이너스</dd>\n",
       " </dl>]"
      ]
     },
     "execution_count": 86,
     "metadata": {},
     "output_type": "execute_result"
    }
   ],
   "source": [
    "ls"
   ]
  },
  {
   "cell_type": "code",
   "execution_count": 87,
   "metadata": {},
   "outputs": [
    {
     "name": "stdout",
     "output_type": "stream",
     "text": [
      "\n",
      "종목 시세 정보\n",
      "2024년 08월 02일 16시 10분 기준 장마감\n",
      "종목명 삼성전자\n",
      "종목코드 005930 코스피\n",
      "현재가 79,600 전일대비 하락 3,500 마이너스 4.21 퍼센트\n",
      "전일가 83,100\n",
      "시가 81,000\n",
      "고가 81,400\n",
      "상한가 108,000\n",
      "저가 79,500\n",
      "하한가 58,200\n",
      "거래량 25,422,371\n",
      "거래대금 2,042,433백만\n",
      "\n",
      "\n",
      "삼성전자\n",
      "오늘의시세 79,600 포인트\n",
      "3,500 포인트 하락\n",
      "4.21% 마이너스\n",
      "\n"
     ]
    }
   ],
   "source": [
    "for i in ls:\n",
    "    print(i.text)"
   ]
  },
  {
   "cell_type": "code",
   "execution_count": 130,
   "metadata": {},
   "outputs": [],
   "source": [
    "s_code = requests.get(\n",
    "    'https://upbit.com/exchange?code=CRIX.UPBIT.KRW-BTC#:~:text=%ED%99%94%EB%A9%B4%20%EC%84%A4%EC%A0%95-,90%2C299%2C000,KRW,-%2D1.62%25')"
   ]
  },
  {
   "cell_type": "code",
   "execution_count": 121,
   "metadata": {},
   "outputs": [
    {
     "data": {
      "text/plain": [
       "<Response [200]>"
      ]
     },
     "execution_count": 121,
     "metadata": {},
     "output_type": "execute_result"
    }
   ],
   "source": [
    "s_code"
   ]
  },
  {
   "cell_type": "code",
   "execution_count": 131,
   "metadata": {},
   "outputs": [],
   "source": [
    "bs = BeautifulSoup(s_code.content, \"html.parser\")"
   ]
  },
  {
   "cell_type": "code",
   "execution_count": 123,
   "metadata": {},
   "outputs": [
    {
     "data": {
      "text/plain": [
       "<!DOCTYPE html>\n",
       "<html><head> <title>비트코인(BTC) | 업비트(UPbit) 시세 확인 및 거래</title>\n",
       "<meta content=\"비트코인 시세, 비트코인 가격, 비트코인 거래, 비트코인 정보 등 비트코인의 모든 것, 가장 신뢰받는 디지털 자산 거래소 업비트에서 확인해보세요.\" name=\"description\"/>\n",
       "<meta content=\"upbit, 업빗, 업비트, 비트코인, 이더리움, 디지털자산, 디지털자산거래소, 비트코인, Bitcoin, BTC\" name=\"keywords\"/>\n",
       "<meta content=\"https://upbit.com/exchange?code=CRIX.UPBIT.KRW-BTC\" property=\"og:url\"/>\n",
       "<meta content=\"업비트(Upbit)\" property=\"og:site_name\"/>\n",
       "<meta content=\"비트코인(BTC) | 업비트(UPbit) 시세 확인 및 거래\" property=\"og:title\"/>\n",
       "<meta content=\"https://static.upbit.com/upbit-pc/seo/upbit_facebook.png\" property=\"og:image\"/>\n",
       "<meta content=\"1200\" property=\"og:image:width\"/>\n",
       "<meta content=\"627\" property=\"og:image:height\"/>\n",
       "<meta content=\"비트코인 시세, 비트코인 가격, 비트코인 거래, 비트코인 정보 등 비트코인의 모든 것, 가장 신뢰받는 디지털 자산 거래소 업비트에서 확인해보세요.\" property=\"og:description\"/>\n",
       "<meta content=\"ko_kr\" property=\"og:locale\"/>\n",
       "<meta content=\"website\" property=\"og:type\"/>\n",
       "<meta content=\"summary\" name=\"twitter:card\"/>\n",
       "<meta content=\"https://upbit.com/exchange?code=CRIX.UPBIT.KRW-BTC\" name=\"twitter:url\"/>\n",
       "<meta content=\"업비트(Upbit)\" name=\"twitter:site_name\"/>\n",
       "<meta content=\"비트코인(BTC) | 업비트(UPbit) 시세 확인 및 거래\" name=\"twitter:title\"/>\n",
       "<meta content=\"https://static.upbit.com/upbit-pc/seo/upbit_facebook.png\" name=\"twitter:image\"/>\n",
       "<meta content=\"1200\" name=\"twitter:image:width\"/>\n",
       "<meta content=\"627\" name=\"twitter:image:height\"/>\n",
       "<meta content=\"비트코인 시세, 비트코인 가격, 비트코인 거래, 비트코인 정보 등 비트코인의 모든 것, 가장 신뢰받는 디지털 자산 거래소 업비트에서 확인해보세요.\" name=\"twitter:description\"/>\n",
       "<meta content=\"ko_kr\" name=\"twitter:locale\"/>\n",
       "<meta content=\"website\" name=\"twitter:type\"/>\n",
       "<meta content=\"두나무\" name=\"author\"/>\n",
       "<meta content=\"https://static.upbit.com/upbit-pc/seo/upbit_facebook.png\" name=\"image\"/>\n",
       "<link href=\"https://upbit.com/exchange/CRIX.UPBIT.KRW-BTC\" rel=\"canonical\"/> <meta content=\"Mon, 06 Jan 1990 00:00:01 GMT\" http-equiv=\"Expires\"><meta content=\"-1\" http-equiv=\"Expires\"><meta content=\"no-cache\" http-equiv=\"Pragma\"><meta content=\"no-cache\" http-equiv=\"Cache-Control\"><meta charset=\"utf-8\"><meta content=\"IE=edge\" http-equiv=\"X-UA-Compatible\"><meta content=\"telephone=no\" name=\"format-detection\"><meta content=\"width=device-width,user-scalable=no,initial-scale=1,maximum-scale=1,minimum-scale=1\" name=\"viewport\"><meta content=\"width=device-width,initial-scale=1,maximum-scale=1,minimum-scale=1,user-scalable=no\" name=\"viewport\"><link href=\"/favicon.jpg\" rel=\"icon\" sizes=\"32x32\" type=\"image/jpg\"/><link href=\"/favicon.jpg\" rel=\"shortcut icon\"/><link href=\"/manifest.json\" rel=\"manifest\"/><link href=\"https://fonts.googleapis.com\" rel=\"preconnect\"/><link crossorigin=\"\" href=\"https://fonts.gstatic.com\" rel=\"preconnect\"/><link href=\"https://fonts.googleapis.com/css2?family=Noto+Sans+KR:wght@300;400;500;700&amp;family=Roboto:wght@300;400;500;700&amp;display=swap\" rel=\"stylesheet\"/><link href=\"https://fonts.googleapis.com/css?family=Droid+Sans\" rel=\"stylesheet\"/><noscript><img height=\"1\" src=\"https://www.facebook.com/tr?id=621223061560463&amp;ev=PageView&amp;noscript=1\" width=\"1\"/></noscript><script type=\"application/ld+json\">{\n",
       "        \"@context\": \"https://schema.org\",\n",
       "        \"@type\": \"Organization\",\n",
       "        \"name\": \"업비트(Upbit)\",\n",
       "        \"url\": \"https://upbit.com\",\n",
       "        \"sameAs\": [\n",
       "          \"https://play.google.com/store/apps/details?id=com.dunamu.exchange\",\n",
       "          \"https://apps.apple.com/kr/app/id1256371195\",\n",
       "          \"https://twitter.com/Official_Upbit\",\n",
       "          \"https://blog.naver.com/dunamupr\",\n",
       "          \"https://www.instagram.com/upbit_official\",\n",
       "          \"https://www.youtube.com/@UpbitOfficial\"\n",
       "        ]\n",
       "      }</script><script src=\"https://t1.daumcdn.net/mapjsapi/bundle/postcode/prod/postcode.v2.js\"></script><script crossorigin=\"anonymous\" defer=\"defer\" integrity=\"sha384-1NnL+YvbQTXgSAkrnGJ8ae6eDZAnzcLFIV4DZpODZz9X27L81HU8rvhKelPhmJkI\" src=\"https://cdn.upbit.com/upbit-web/sri-v2-manifest-bundle-ac9a9eab71178d50d875.js\"></script><script crossorigin=\"anonymous\" defer=\"defer\" integrity=\"sha384-ppYLm0pM/2uMfdmOTe/rDvbAVpEVPxBYNzNSvq6i6X/CQwTyr1p4OF5rczmdtiGw\" src=\"https://cdn.upbit.com/upbit-web/sri-v2-client-source-bundle-2f13032ebff364001146.js\"></script><script crossorigin=\"anonymous\" defer=\"defer\" integrity=\"sha384-K0hO1wKDZ2ogqPtPbx6Ku61+d+D57stPfs4vdCbmDR+tBnOeEcjB5rFK2Pj9mUnU\" src=\"https://cdn.upbit.com/upbit-web/sri-v2-locale-vendor-bundle-1a4b4733a06e1019440f.js\"></script><script crossorigin=\"anonymous\" defer=\"defer\" integrity=\"sha384-ziDPS0O+yrKvJJocjycdWISUn3zIlgfaZZ4fk2qVbLlNo6p9PI97td3qlnuqQWA2\" src=\"https://cdn.upbit.com/upbit-web/sri-v2-react-vendor-bundle-317213fe9f2f84ba5607.js\"></script><script crossorigin=\"anonymous\" defer=\"defer\" integrity=\"sha384-QxYsZeXTPwH2J0tMbhK1Qy6B+6OmHgSIJPBoh2vZNQweMFcKSnGXiKWB6aFbFQoX\" src=\"https://cdn.upbit.com/upbit-web/sri-v2-chartiq-vendor-be089e5a-bundle-bb650615996d73d63598.js\"></script><script crossorigin=\"anonymous\" defer=\"defer\" integrity=\"sha384-AiHVr/+fAuoIXvM6OMm+axFfMzsbLi0dXR8kZQNlXamohIFbD5tK6ZFlFrU6IGyj\" src=\"https://cdn.upbit.com/upbit-web/sri-v2-chartiq-vendor-f0f2e7e7-bundle-ce69778935fa260e8739.js\"></script><script crossorigin=\"anonymous\" defer=\"defer\" integrity=\"sha384-r2h8S1P6EHimvjoyVdQqaveEhj3FSVbrnrDdVRRtUcZ+okvXITeGx8zXxJ06tPdV\" src=\"https://cdn.upbit.com/upbit-web/sri-v2-chartiq-vendor-646f3c4c-bundle-510a5eb3549c1d7b6eac.js\"></script><script crossorigin=\"anonymous\" defer=\"defer\" integrity=\"sha384-y5+LhgrNr2v0hNT3bv5OjZvnxQDuZ4cpeXoeNXsDFxYiH7+DVGwnomZ2vwwNukK1\" src=\"https://cdn.upbit.com/upbit-web/sri-v2-design-system-vendor-7c24480e-bundle-e38493bcb5fe3a43a355.js\"></script><script crossorigin=\"anonymous\" defer=\"defer\" integrity=\"sha384-SvGUKNlrA6PDTt92eWNNkzZJy7YHQs2mgWIkAwzV/G1hojRPgOloL7grE2z4wIAl\" src=\"https://cdn.upbit.com/upbit-web/sri-v2-design-system-vendor-2f5eac24-bundle-263d1f22859f0ae9c215.js\"></script><script crossorigin=\"anonymous\" defer=\"defer\" integrity=\"sha384-jMBnw0IjkVOTJETvYJ8D1VitPV5yGYU9HYgwAGQoDcR5wFKhN2AgovpZjtIG+cDC\" src=\"https://cdn.upbit.com/upbit-web/sri-v2-lodash-vendor-bundle-705c45bbd605ef43e1cf.js\"></script><script crossorigin=\"anonymous\" defer=\"defer\" integrity=\"sha384-R2cGRSudB92165iUhsAaUOKit0k4sHd0o8qKDIiB4yWda4y25axDv9Y2voHl4vP3\" src=\"https://cdn.upbit.com/upbit-web/sri-v2-vendors-cdd60c62-bundle-2b51f12d8bb4e233aa31.js\"></script><script crossorigin=\"anonymous\" defer=\"defer\" integrity=\"sha384-ztdNpesGFQZu0yFLyYPQJmcMYGreHz2fAKYbrvwE0S8hgt0rRZPuGqlQTPF+dY9B\" src=\"https://cdn.upbit.com/upbit-web/sri-v2-vendors-d2eb5610-bundle-7f82a7b2f587042b1a91.js\"></script><script crossorigin=\"anonymous\" defer=\"defer\" integrity=\"sha384-8AktgClToIgIV7wwCza0Vrp4KwtvMdxDZhtL+eKiDyu0Q/gXnwV42uBSlFoc004y\" src=\"https://cdn.upbit.com/upbit-web/sri-v2-vendors-536eaa00-bundle-e6b207832945a9125ff0.js\"></script><script crossorigin=\"anonymous\" defer=\"defer\" integrity=\"sha384-DWI9ffpf0cBnrBuHZ+SIBgDGlDQmvBGGKDiDBwFXqenOUlQmw6QOWeWBkIBMzBJn\" src=\"https://cdn.upbit.com/upbit-web/sri-v2-vendors-f82e0cd2-bundle-aea11eea6a96e98a6b52.js\"></script><script crossorigin=\"anonymous\" defer=\"defer\" integrity=\"sha384-np5Kw++jiNDEcfeHIphVsKlr74pUFdE/FiO6TC1PkurjeZOE8bRj1ulqBJkmXac7\" src=\"https://cdn.upbit.com/upbit-web/sri-v2-vendors-9241dc7c-bundle-1540475d6661d5fa9579.js\"></script><script crossorigin=\"anonymous\" defer=\"defer\" integrity=\"sha384-6Qp5Lofws4sIyrbJbyQO7DHYRa0pu6piUN6tkX5rB6pNDPjbdYLBBue117V8rPGK\" src=\"https://cdn.upbit.com/upbit-web/sri-v2-vendors-27545368-bundle-044d10601409245d7709.js\"></script><script crossorigin=\"anonymous\" defer=\"defer\" integrity=\"sha384-14T1xj8nIdKSqiL/2jYDyhTDZH//JCnp9PRZKMiRImvmStNQUu01XNYhnk9693fA\" src=\"https://cdn.upbit.com/upbit-web/sri-v2-vendors-866ab763-bundle-27962fd6b6817060ee03.js\"></script><script crossorigin=\"anonymous\" defer=\"defer\" integrity=\"sha384-lfK/5fI4lKdkeO4yl7A/ypPSbww2P4csAlcnlWqf/I3VPsAYrZSqELQQ3xMF+F/8\" src=\"https://cdn.upbit.com/upbit-web/sri-v2-commons-91ce39bd-bundle-4b4cb612354f1a5723ab.js\"></script><script crossorigin=\"anonymous\" defer=\"defer\" integrity=\"sha384-7K2mv2D2D5kQY7xtYIKWk/QGIw+WkEj44M+XaaSsFl8EEBpJCrwe1GgsAjdpmxqv\" src=\"https://cdn.upbit.com/upbit-web/sri-v2-commons-7fff9fb1-bundle-61846b45656847a4f661.js\"></script><script crossorigin=\"anonymous\" defer=\"defer\" integrity=\"sha384-2+YSs1X+5igQvJ3hcA3rIlFYXTXYwoJXyw4Y3s8DhsPDb4LWoN0O5KwBTj/F9IWy\" src=\"https://cdn.upbit.com/upbit-web/sri-v2-commons-6a227378-bundle-a99086a5098281ca4285.js\"></script><script crossorigin=\"anonymous\" defer=\"defer\" integrity=\"sha384-k/9wgvWH3Qqh8kTX6i8w69/DRb7G9+Nx+ntIex2e0Aly/LPkRkyjq4apux+TNz0d\" src=\"https://cdn.upbit.com/upbit-web/sri-v2-commons-9a8b795a-bundle-cdbd345c81342580e40d.js\"></script><script crossorigin=\"anonymous\" defer=\"defer\" integrity=\"sha384-oZQjniol8hxtDZYLJBfySubHODEKLcc92H0OvZb1TZQklr0rVmUu9rJrsI1T480f\" src=\"https://cdn.upbit.com/upbit-web/sri-v2-KR_PC-1f890bb4-bundle-a2203e1df5c9bc2675cf.js\"></script><script crossorigin=\"anonymous\" defer=\"defer\" integrity=\"sha384-Nw0vnT72p/tlqUnFW2z9wwrGAQHILwRnDOOM5ZDB/Wa9OBGDtXf7pZ5C+ZRvcuEL\" src=\"https://cdn.upbit.com/upbit-web/sri-v2-KR_PC-9a8b795a-bundle-7db49e8ad0291071a951.js\"></script><link crossorigin=\"anonymous\" href=\"https://cdn.upbit.com/upbit-web/sri-v2-react-vendor-common-fe1d888d26f4a27f5972.css\" integrity=\"sha384-9CMu9UtP03ZwBj9WbhZ5Ao8V0xUifTi/lbh34DxnhCzAdu8vSY8a0Ee6NnnREb0q\" rel=\"stylesheet\"/><link crossorigin=\"anonymous\" href=\"https://cdn.upbit.com/upbit-web/sri-v2-chartiq-vendor-72d0fca8-common-34b4ffb8e91bf3147fb7.css\" integrity=\"sha384-v/OU0XsAamjpKgwTFCJJ7uGRRlI+ui8O+TEwGbV3MeqIDpst3Kiz6jTMqxiNskW7\" rel=\"stylesheet\"/><link crossorigin=\"anonymous\" href=\"https://cdn.upbit.com/upbit-web/sri-v2-commons-91ce39bd-common-c477037e2a5e4e4cf822.css\" integrity=\"sha384-3N38V1jcIlLvtbD9wHsitzLbh303qcdE3NZkTtY0AVZllzMeIrQlTer9FfCBkHWs\" rel=\"stylesheet\"/><link crossorigin=\"anonymous\" href=\"https://cdn.upbit.com/upbit-web/sri-v2-commons-7fff9fb1-common-5bb94be4de24eab1a7fc.css\" integrity=\"sha384-uPhyyqZDHS2RJplcjNo/zirxT05eXN33LOP58Mt+tAPcswDSpDy7JVlfGGh5DMnY\" rel=\"stylesheet\"/><link crossorigin=\"anonymous\" href=\"https://cdn.upbit.com/upbit-web/sri-v2-KR_PC-1f890bb4-common-633dda5b75e6d56cd41c.css\" integrity=\"sha384-gJPeCMR8Zz+ckiNSrunMy6NturAYPx7KzjYNwr8wFos2LO5VW8DLIrfm7tELZZdQ\" rel=\"stylesheet\"/></meta></meta></meta></meta></meta></meta></meta></meta></meta></head><body class=\"\"> <script nonce=\"cbf1cf5dcef0b86dff57fafa9ca51bf7\">\n",
       "  window.__PRELOADED_STATE__=JSON.parse(`{\"local\":{\"entry\":\"KR_PC\"},\"entities\":{\"crixMasters\":{\"CRIX.UPBIT.KRW-BTC\":{\"code\":\"CRIX.UPBIT.KRW-BTC\",\"localName\":\"비트코인\",\"koreanName\":\"비트코인\",\"englishName\":\"Bitcoin\",\"pair\":\"BTC\\u002FKRW\",\"baseCurrencyCode\":\"BTC\",\"quoteCurrencyCode\":\"KRW\",\"exchange\":\"UPBIT\",\"marketState\":\"ACTIVE\",\"marketStateForIOS\":\"ACTIVE\",\"isTradingSuspended\":false,\"baseCurrencyDecimalPlace\":8,\"quoteCurrencyDecimalPlace\":0,\"listingDate\":\"2017-09-26\",\"timestamp\":1501485295000,\"tradeStatus\":\"ACTIVE\",\"tradeSupportedMarket\":true}}}}`);\n",
       "</script>\n",
       "<div id=\"root\"></div><div id=\"modal\"></div></body></html>"
      ]
     },
     "execution_count": 123,
     "metadata": {},
     "output_type": "execute_result"
    }
   ],
   "source": [
    "bs"
   ]
  },
  {
   "cell_type": "code",
   "execution_count": 132,
   "metadata": {},
   "outputs": [],
   "source": [
    "ls = bs.find('.mainB section article .marketB .ty01 span.first')"
   ]
  },
  {
   "cell_type": "code",
   "execution_count": 125,
   "metadata": {},
   "outputs": [],
   "source": [
    "ls"
   ]
  },
  {
   "cell_type": "code",
   "execution_count": 129,
   "metadata": {},
   "outputs": [
    {
     "data": {
      "text/plain": [
       "[]"
      ]
     },
     "execution_count": 129,
     "metadata": {},
     "output_type": "execute_result"
    }
   ],
   "source": [
    "bs.select('#UpbitLayout')"
   ]
  },
  {
   "cell_type": "code",
   "execution_count": null,
   "metadata": {},
   "outputs": [],
   "source": [
    "# UpbitLayout > div:nth-child(4) > div > section.ty01 > article:nth-child(1) > div > span.marketB"
   ]
  },
  {
   "cell_type": "code",
   "execution_count": 110,
   "metadata": {},
   "outputs": [],
   "source": [
    "import requests\n",
    "from bs4 import BeautifulSoup\n",
    "\n",
    "# Upbit 비트코인 시세 URL\n",
    "url = \"https://upbit.com/exchange/CRIX.UPBIT.KRW-BTC\"\n",
    "\n",
    "# URL에서 HTML 받아오기\n",
    "response = requests.get(url)\n",
    "html_content = response.content"
   ]
  },
  {
   "cell_type": "code",
   "execution_count": 111,
   "metadata": {},
   "outputs": [
    {
     "data": {
      "text/plain": [
       "b'<!doctype html><html><head> <title>\\xeb\\xb9\\x84\\xed\\x8a\\xb8\\xec\\xbd\\x94\\xec\\x9d\\xb8(BTC) | \\xec\\x97\\x85\\xeb\\xb9\\x84\\xed\\x8a\\xb8(UPbit) \\xec\\x8b\\x9c\\xec\\x84\\xb8 \\xed\\x99\\x95\\xec\\x9d\\xb8 \\xeb\\xb0\\x8f \\xea\\xb1\\xb0\\xeb\\x9e\\x98</title>\\n    <meta name=\"description\" content=\"\\xeb\\xb9\\x84\\xed\\x8a\\xb8\\xec\\xbd\\x94\\xec\\x9d\\xb8 \\xec\\x8b\\x9c\\xec\\x84\\xb8, \\xeb\\xb9\\x84\\xed\\x8a\\xb8\\xec\\xbd\\x94\\xec\\x9d\\xb8 \\xea\\xb0\\x80\\xea\\xb2\\xa9, \\xeb\\xb9\\x84\\xed\\x8a\\xb8\\xec\\xbd\\x94\\xec\\x9d\\xb8 \\xea\\xb1\\xb0\\xeb\\x9e\\x98, \\xeb\\xb9\\x84\\xed\\x8a\\xb8\\xec\\xbd\\x94\\xec\\x9d\\xb8 \\xec\\xa0\\x95\\xeb\\xb3\\xb4 \\xeb\\x93\\xb1 \\xeb\\xb9\\x84\\xed\\x8a\\xb8\\xec\\xbd\\x94\\xec\\x9d\\xb8\\xec\\x9d\\x98 \\xeb\\xaa\\xa8\\xeb\\x93\\xa0 \\xea\\xb2\\x83, \\xea\\xb0\\x80\\xec\\x9e\\xa5 \\xec\\x8b\\xa0\\xeb\\xa2\\xb0\\xeb\\xb0\\x9b\\xeb\\x8a\\x94 \\xeb\\x94\\x94\\xec\\xa7\\x80\\xed\\x84\\xb8 \\xec\\x9e\\x90\\xec\\x82\\xb0 \\xea\\xb1\\xb0\\xeb\\x9e\\x98\\xec\\x86\\x8c \\xec\\x97\\x85\\xeb\\xb9\\x84\\xed\\x8a\\xb8\\xec\\x97\\x90\\xec\\x84\\x9c \\xed\\x99\\x95\\xec\\x9d\\xb8\\xed\\x95\\xb4\\xeb\\xb3\\xb4\\xec\\x84\\xb8\\xec\\x9a\\x94.\">\\n    <meta name=\"keywords\" content=\"upbit, \\xec\\x97\\x85\\xeb\\xb9\\x97, \\xec\\x97\\x85\\xeb\\xb9\\x84\\xed\\x8a\\xb8, \\xeb\\xb9\\x84\\xed\\x8a\\xb8\\xec\\xbd\\x94\\xec\\x9d\\xb8, \\xec\\x9d\\xb4\\xeb\\x8d\\x94\\xeb\\xa6\\xac\\xec\\x9b\\x80, \\xeb\\x94\\x94\\xec\\xa7\\x80\\xed\\x84\\xb8\\xec\\x9e\\x90\\xec\\x82\\xb0, \\xeb\\x94\\x94\\xec\\xa7\\x80\\xed\\x84\\xb8\\xec\\x9e\\x90\\xec\\x82\\xb0\\xea\\xb1\\xb0\\xeb\\x9e\\x98\\xec\\x86\\x8c, \\xeb\\xb9\\x84\\xed\\x8a\\xb8\\xec\\xbd\\x94\\xec\\x9d\\xb8, Bitcoin, BTC\">\\n    <meta property=\"og:url\" content=\"https://upbit.com/exchange/CRIX.UPBIT.KRW-BTC\">\\n    <meta property=\"og:site_name\" content=\"\\xec\\x97\\x85\\xeb\\xb9\\x84\\xed\\x8a\\xb8(Upbit)\">\\n    <meta property=\"og:title\" content=\"\\xeb\\xb9\\x84\\xed\\x8a\\xb8\\xec\\xbd\\x94\\xec\\x9d\\xb8(BTC) | \\xec\\x97\\x85\\xeb\\xb9\\x84\\xed\\x8a\\xb8(UPbit) \\xec\\x8b\\x9c\\xec\\x84\\xb8 \\xed\\x99\\x95\\xec\\x9d\\xb8 \\xeb\\xb0\\x8f \\xea\\xb1\\xb0\\xeb\\x9e\\x98\">\\n    <meta property=\"og:image\" content=\"https://static.upbit.com/upbit-pc/seo/upbit_facebook.png\">\\n    <meta property=\"og:image:width\" content=\"1200\">\\n    <meta property=\"og:image:height\" content=\"627\">\\n    <meta property=\"og:description\" content=\"\\xeb\\xb9\\x84\\xed\\x8a\\xb8\\xec\\xbd\\x94\\xec\\x9d\\xb8 \\xec\\x8b\\x9c\\xec\\x84\\xb8, \\xeb\\xb9\\x84\\xed\\x8a\\xb8\\xec\\xbd\\x94\\xec\\x9d\\xb8 \\xea\\xb0\\x80\\xea\\xb2\\xa9, \\xeb\\xb9\\x84\\xed\\x8a\\xb8\\xec\\xbd\\x94\\xec\\x9d\\xb8 \\xea\\xb1\\xb0\\xeb\\x9e\\x98, \\xeb\\xb9\\x84\\xed\\x8a\\xb8\\xec\\xbd\\x94\\xec\\x9d\\xb8 \\xec\\xa0\\x95\\xeb\\xb3\\xb4 \\xeb\\x93\\xb1 \\xeb\\xb9\\x84\\xed\\x8a\\xb8\\xec\\xbd\\x94\\xec\\x9d\\xb8\\xec\\x9d\\x98 \\xeb\\xaa\\xa8\\xeb\\x93\\xa0 \\xea\\xb2\\x83, \\xea\\xb0\\x80\\xec\\x9e\\xa5 \\xec\\x8b\\xa0\\xeb\\xa2\\xb0\\xeb\\xb0\\x9b\\xeb\\x8a\\x94 \\xeb\\x94\\x94\\xec\\xa7\\x80\\xed\\x84\\xb8 \\xec\\x9e\\x90\\xec\\x82\\xb0 \\xea\\xb1\\xb0\\xeb\\x9e\\x98\\xec\\x86\\x8c \\xec\\x97\\x85\\xeb\\xb9\\x84\\xed\\x8a\\xb8\\xec\\x97\\x90\\xec\\x84\\x9c \\xed\\x99\\x95\\xec\\x9d\\xb8\\xed\\x95\\xb4\\xeb\\xb3\\xb4\\xec\\x84\\xb8\\xec\\x9a\\x94.\">\\n    <meta property=\"og:locale\" content=\"ko_kr\">\\n    <meta property=\"og:type\" content=\"website\">\\n    <meta name=\"twitter:card\" content=\"summary\">\\n    <meta name=\"twitter:url\" content=\"https://upbit.com/exchange/CRIX.UPBIT.KRW-BTC\">\\n    <meta name=\"twitter:site_name\" content=\"\\xec\\x97\\x85\\xeb\\xb9\\x84\\xed\\x8a\\xb8(Upbit)\">\\n    <meta name=\"twitter:title\" content=\"\\xeb\\xb9\\x84\\xed\\x8a\\xb8\\xec\\xbd\\x94\\xec\\x9d\\xb8(BTC) | \\xec\\x97\\x85\\xeb\\xb9\\x84\\xed\\x8a\\xb8(UPbit) \\xec\\x8b\\x9c\\xec\\x84\\xb8 \\xed\\x99\\x95\\xec\\x9d\\xb8 \\xeb\\xb0\\x8f \\xea\\xb1\\xb0\\xeb\\x9e\\x98\">\\n    <meta name=\"twitter:image\" content=\"https://static.upbit.com/upbit-pc/seo/upbit_facebook.png\">\\n    <meta name=\"twitter:image:width\" content=\"1200\">\\n    <meta name=\"twitter:image:height\" content=\"627\">\\n    <meta name=\"twitter:description\" content=\"\\xeb\\xb9\\x84\\xed\\x8a\\xb8\\xec\\xbd\\x94\\xec\\x9d\\xb8 \\xec\\x8b\\x9c\\xec\\x84\\xb8, \\xeb\\xb9\\x84\\xed\\x8a\\xb8\\xec\\xbd\\x94\\xec\\x9d\\xb8 \\xea\\xb0\\x80\\xea\\xb2\\xa9, \\xeb\\xb9\\x84\\xed\\x8a\\xb8\\xec\\xbd\\x94\\xec\\x9d\\xb8 \\xea\\xb1\\xb0\\xeb\\x9e\\x98, \\xeb\\xb9\\x84\\xed\\x8a\\xb8\\xec\\xbd\\x94\\xec\\x9d\\xb8 \\xec\\xa0\\x95\\xeb\\xb3\\xb4 \\xeb\\x93\\xb1 \\xeb\\xb9\\x84\\xed\\x8a\\xb8\\xec\\xbd\\x94\\xec\\x9d\\xb8\\xec\\x9d\\x98 \\xeb\\xaa\\xa8\\xeb\\x93\\xa0 \\xea\\xb2\\x83, \\xea\\xb0\\x80\\xec\\x9e\\xa5 \\xec\\x8b\\xa0\\xeb\\xa2\\xb0\\xeb\\xb0\\x9b\\xeb\\x8a\\x94 \\xeb\\x94\\x94\\xec\\xa7\\x80\\xed\\x84\\xb8 \\xec\\x9e\\x90\\xec\\x82\\xb0 \\xea\\xb1\\xb0\\xeb\\x9e\\x98\\xec\\x86\\x8c \\xec\\x97\\x85\\xeb\\xb9\\x84\\xed\\x8a\\xb8\\xec\\x97\\x90\\xec\\x84\\x9c \\xed\\x99\\x95\\xec\\x9d\\xb8\\xed\\x95\\xb4\\xeb\\xb3\\xb4\\xec\\x84\\xb8\\xec\\x9a\\x94.\">\\n    <meta name=\"twitter:locale\" content=\"ko_kr\">\\n    <meta name=\"twitter:type\" content=\"website\">\\n    <meta name=\"author\" content=\"\\xeb\\x91\\x90\\xeb\\x82\\x98\\xeb\\xac\\xb4\">\\n    <meta name=\"image\" content=\"https://static.upbit.com/upbit-pc/seo/upbit_facebook.png\">\\n    \\n    <link rel=\"canonical\" href=\"https://upbit.com/exchange/CRIX.UPBIT.KRW-BTC\" />  <meta http-equiv=\"Expires\" content=\"Mon, 06 Jan 1990 00:00:01 GMT\"/><meta http-equiv=\"Expires\" content=\"-1\"/><meta http-equiv=\"Pragma\" content=\"no-cache\"/><meta http-equiv=\"Cache-Control\" content=\"no-cache\"/><meta charset=\"UTF-8\"/><meta http-equiv=\"X-UA-Compatible\" content=\"IE=edge\"/><meta name=\"format-detection\" content=\"telephone=no\"/><meta content=\"width=device-width,user-scalable=no,initial-scale=1,maximum-scale=1,minimum-scale=1\" name=\"viewport\"/><meta name=\"viewport\" content=\"width=device-width,initial-scale=1,maximum-scale=1,minimum-scale=1,user-scalable=no\"/><link rel=\"icon\" type=\"image/jpg\" href=\"/favicon.jpg\" sizes=\"32x32\"/><link rel=\"shortcut icon\" href=\"/favicon.jpg\"/><link rel=\"manifest\" href=\"/manifest.json\"/><link rel=\"preconnect\" href=\"https://fonts.googleapis.com\"/><link rel=\"preconnect\" href=\"https://fonts.gstatic.com\" crossorigin/><link href=\"https://fonts.googleapis.com/css2?family=Noto+Sans+KR:wght@300;400;500;700&family=Roboto:wght@300;400;500;700&display=swap\" rel=\"stylesheet\"/><link href=\"https://fonts.googleapis.com/css?family=Droid+Sans\" rel=\"stylesheet\"/><noscript><img height=\"1\" width=\"1\" src=\"https://www.facebook.com/tr?id=621223061560463&ev=PageView&noscript=1\"/></noscript><script type=\"application/ld+json\">{\\n        \"@context\": \"https://schema.org\",\\n        \"@type\": \"Organization\",\\n        \"name\": \"\\xec\\x97\\x85\\xeb\\xb9\\x84\\xed\\x8a\\xb8(Upbit)\",\\n        \"url\": \"https://upbit.com\",\\n        \"sameAs\": [\\n          \"https://play.google.com/store/apps/details?id=com.dunamu.exchange\",\\n          \"https://apps.apple.com/kr/app/id1256371195\",\\n          \"https://twitter.com/Official_Upbit\",\\n          \"https://blog.naver.com/dunamupr\",\\n          \"https://www.instagram.com/upbit_official\",\\n          \"https://www.youtube.com/@UpbitOfficial\"\\n        ]\\n      }</script><script src=\"https://t1.daumcdn.net/mapjsapi/bundle/postcode/prod/postcode.v2.js\"></script><script defer=\"defer\" src=\"https://cdn.upbit.com/upbit-web/sri-v2-manifest-bundle-ac9a9eab71178d50d875.js\" integrity=\"sha384-1NnL+YvbQTXgSAkrnGJ8ae6eDZAnzcLFIV4DZpODZz9X27L81HU8rvhKelPhmJkI\" crossorigin=\"anonymous\"></script><script defer=\"defer\" src=\"https://cdn.upbit.com/upbit-web/sri-v2-client-source-bundle-2f13032ebff364001146.js\" integrity=\"sha384-ppYLm0pM/2uMfdmOTe/rDvbAVpEVPxBYNzNSvq6i6X/CQwTyr1p4OF5rczmdtiGw\" crossorigin=\"anonymous\"></script><script defer=\"defer\" src=\"https://cdn.upbit.com/upbit-web/sri-v2-locale-vendor-bundle-1a4b4733a06e1019440f.js\" integrity=\"sha384-K0hO1wKDZ2ogqPtPbx6Ku61+d+D57stPfs4vdCbmDR+tBnOeEcjB5rFK2Pj9mUnU\" crossorigin=\"anonymous\"></script><script defer=\"defer\" src=\"https://cdn.upbit.com/upbit-web/sri-v2-react-vendor-bundle-317213fe9f2f84ba5607.js\" integrity=\"sha384-ziDPS0O+yrKvJJocjycdWISUn3zIlgfaZZ4fk2qVbLlNo6p9PI97td3qlnuqQWA2\" crossorigin=\"anonymous\"></script><script defer=\"defer\" src=\"https://cdn.upbit.com/upbit-web/sri-v2-chartiq-vendor-be089e5a-bundle-bb650615996d73d63598.js\" integrity=\"sha384-QxYsZeXTPwH2J0tMbhK1Qy6B+6OmHgSIJPBoh2vZNQweMFcKSnGXiKWB6aFbFQoX\" crossorigin=\"anonymous\"></script><script defer=\"defer\" src=\"https://cdn.upbit.com/upbit-web/sri-v2-chartiq-vendor-f0f2e7e7-bundle-ce69778935fa260e8739.js\" integrity=\"sha384-AiHVr/+fAuoIXvM6OMm+axFfMzsbLi0dXR8kZQNlXamohIFbD5tK6ZFlFrU6IGyj\" crossorigin=\"anonymous\"></script><script defer=\"defer\" src=\"https://cdn.upbit.com/upbit-web/sri-v2-chartiq-vendor-646f3c4c-bundle-510a5eb3549c1d7b6eac.js\" integrity=\"sha384-r2h8S1P6EHimvjoyVdQqaveEhj3FSVbrnrDdVRRtUcZ+okvXITeGx8zXxJ06tPdV\" crossorigin=\"anonymous\"></script><script defer=\"defer\" src=\"https://cdn.upbit.com/upbit-web/sri-v2-design-system-vendor-7c24480e-bundle-e38493bcb5fe3a43a355.js\" integrity=\"sha384-y5+LhgrNr2v0hNT3bv5OjZvnxQDuZ4cpeXoeNXsDFxYiH7+DVGwnomZ2vwwNukK1\" crossorigin=\"anonymous\"></script><script defer=\"defer\" src=\"https://cdn.upbit.com/upbit-web/sri-v2-design-system-vendor-2f5eac24-bundle-263d1f22859f0ae9c215.js\" integrity=\"sha384-SvGUKNlrA6PDTt92eWNNkzZJy7YHQs2mgWIkAwzV/G1hojRPgOloL7grE2z4wIAl\" crossorigin=\"anonymous\"></script><script defer=\"defer\" src=\"https://cdn.upbit.com/upbit-web/sri-v2-lodash-vendor-bundle-705c45bbd605ef43e1cf.js\" integrity=\"sha384-jMBnw0IjkVOTJETvYJ8D1VitPV5yGYU9HYgwAGQoDcR5wFKhN2AgovpZjtIG+cDC\" crossorigin=\"anonymous\"></script><script defer=\"defer\" src=\"https://cdn.upbit.com/upbit-web/sri-v2-vendors-cdd60c62-bundle-2b51f12d8bb4e233aa31.js\" integrity=\"sha384-R2cGRSudB92165iUhsAaUOKit0k4sHd0o8qKDIiB4yWda4y25axDv9Y2voHl4vP3\" crossorigin=\"anonymous\"></script><script defer=\"defer\" src=\"https://cdn.upbit.com/upbit-web/sri-v2-vendors-d2eb5610-bundle-7f82a7b2f587042b1a91.js\" integrity=\"sha384-ztdNpesGFQZu0yFLyYPQJmcMYGreHz2fAKYbrvwE0S8hgt0rRZPuGqlQTPF+dY9B\" crossorigin=\"anonymous\"></script><script defer=\"defer\" src=\"https://cdn.upbit.com/upbit-web/sri-v2-vendors-536eaa00-bundle-e6b207832945a9125ff0.js\" integrity=\"sha384-8AktgClToIgIV7wwCza0Vrp4KwtvMdxDZhtL+eKiDyu0Q/gXnwV42uBSlFoc004y\" crossorigin=\"anonymous\"></script><script defer=\"defer\" src=\"https://cdn.upbit.com/upbit-web/sri-v2-vendors-f82e0cd2-bundle-aea11eea6a96e98a6b52.js\" integrity=\"sha384-DWI9ffpf0cBnrBuHZ+SIBgDGlDQmvBGGKDiDBwFXqenOUlQmw6QOWeWBkIBMzBJn\" crossorigin=\"anonymous\"></script><script defer=\"defer\" src=\"https://cdn.upbit.com/upbit-web/sri-v2-vendors-9241dc7c-bundle-1540475d6661d5fa9579.js\" integrity=\"sha384-np5Kw++jiNDEcfeHIphVsKlr74pUFdE/FiO6TC1PkurjeZOE8bRj1ulqBJkmXac7\" crossorigin=\"anonymous\"></script><script defer=\"defer\" src=\"https://cdn.upbit.com/upbit-web/sri-v2-vendors-27545368-bundle-044d10601409245d7709.js\" integrity=\"sha384-6Qp5Lofws4sIyrbJbyQO7DHYRa0pu6piUN6tkX5rB6pNDPjbdYLBBue117V8rPGK\" crossorigin=\"anonymous\"></script><script defer=\"defer\" src=\"https://cdn.upbit.com/upbit-web/sri-v2-vendors-866ab763-bundle-27962fd6b6817060ee03.js\" integrity=\"sha384-14T1xj8nIdKSqiL/2jYDyhTDZH//JCnp9PRZKMiRImvmStNQUu01XNYhnk9693fA\" crossorigin=\"anonymous\"></script><script defer=\"defer\" src=\"https://cdn.upbit.com/upbit-web/sri-v2-commons-91ce39bd-bundle-4b4cb612354f1a5723ab.js\" integrity=\"sha384-lfK/5fI4lKdkeO4yl7A/ypPSbww2P4csAlcnlWqf/I3VPsAYrZSqELQQ3xMF+F/8\" crossorigin=\"anonymous\"></script><script defer=\"defer\" src=\"https://cdn.upbit.com/upbit-web/sri-v2-commons-7fff9fb1-bundle-61846b45656847a4f661.js\" integrity=\"sha384-7K2mv2D2D5kQY7xtYIKWk/QGIw+WkEj44M+XaaSsFl8EEBpJCrwe1GgsAjdpmxqv\" crossorigin=\"anonymous\"></script><script defer=\"defer\" src=\"https://cdn.upbit.com/upbit-web/sri-v2-commons-6a227378-bundle-a99086a5098281ca4285.js\" integrity=\"sha384-2+YSs1X+5igQvJ3hcA3rIlFYXTXYwoJXyw4Y3s8DhsPDb4LWoN0O5KwBTj/F9IWy\" crossorigin=\"anonymous\"></script><script defer=\"defer\" src=\"https://cdn.upbit.com/upbit-web/sri-v2-commons-9a8b795a-bundle-cdbd345c81342580e40d.js\" integrity=\"sha384-k/9wgvWH3Qqh8kTX6i8w69/DRb7G9+Nx+ntIex2e0Aly/LPkRkyjq4apux+TNz0d\" crossorigin=\"anonymous\"></script><script defer=\"defer\" src=\"https://cdn.upbit.com/upbit-web/sri-v2-KR_PC-1f890bb4-bundle-a2203e1df5c9bc2675cf.js\" integrity=\"sha384-oZQjniol8hxtDZYLJBfySubHODEKLcc92H0OvZb1TZQklr0rVmUu9rJrsI1T480f\" crossorigin=\"anonymous\"></script><script defer=\"defer\" src=\"https://cdn.upbit.com/upbit-web/sri-v2-KR_PC-9a8b795a-bundle-7db49e8ad0291071a951.js\" integrity=\"sha384-Nw0vnT72p/tlqUnFW2z9wwrGAQHILwRnDOOM5ZDB/Wa9OBGDtXf7pZ5C+ZRvcuEL\" crossorigin=\"anonymous\"></script><link href=\"https://cdn.upbit.com/upbit-web/sri-v2-react-vendor-common-fe1d888d26f4a27f5972.css\" rel=\"stylesheet\" integrity=\"sha384-9CMu9UtP03ZwBj9WbhZ5Ao8V0xUifTi/lbh34DxnhCzAdu8vSY8a0Ee6NnnREb0q\" crossorigin=\"anonymous\"><link href=\"https://cdn.upbit.com/upbit-web/sri-v2-chartiq-vendor-72d0fca8-common-34b4ffb8e91bf3147fb7.css\" rel=\"stylesheet\" integrity=\"sha384-v/OU0XsAamjpKgwTFCJJ7uGRRlI+ui8O+TEwGbV3MeqIDpst3Kiz6jTMqxiNskW7\" crossorigin=\"anonymous\"><link href=\"https://cdn.upbit.com/upbit-web/sri-v2-commons-91ce39bd-common-c477037e2a5e4e4cf822.css\" rel=\"stylesheet\" integrity=\"sha384-3N38V1jcIlLvtbD9wHsitzLbh303qcdE3NZkTtY0AVZllzMeIrQlTer9FfCBkHWs\" crossorigin=\"anonymous\"><link href=\"https://cdn.upbit.com/upbit-web/sri-v2-commons-7fff9fb1-common-5bb94be4de24eab1a7fc.css\" rel=\"stylesheet\" integrity=\"sha384-uPhyyqZDHS2RJplcjNo/zirxT05eXN33LOP58Mt+tAPcswDSpDy7JVlfGGh5DMnY\" crossorigin=\"anonymous\"><link href=\"https://cdn.upbit.com/upbit-web/sri-v2-KR_PC-1f890bb4-common-633dda5b75e6d56cd41c.css\" rel=\"stylesheet\" integrity=\"sha384-gJPeCMR8Zz+ckiNSrunMy6NturAYPx7KzjYNwr8wFos2LO5VW8DLIrfm7tELZZdQ\" crossorigin=\"anonymous\"></head><body class=\"\"> <script nonce=\"3969231b4c4a091a83307d2b14a7dbaf\">\\n  window.__PRELOADED_STATE__=JSON.parse(`{\"local\":{\"entry\":\"KR_PC\"},\"entities\":{\"crixMasters\":{\"CRIX.UPBIT.KRW-BTC\":{\"code\":\"CRIX.UPBIT.KRW-BTC\",\"localName\":\"\\xeb\\xb9\\x84\\xed\\x8a\\xb8\\xec\\xbd\\x94\\xec\\x9d\\xb8\",\"koreanName\":\"\\xeb\\xb9\\x84\\xed\\x8a\\xb8\\xec\\xbd\\x94\\xec\\x9d\\xb8\",\"englishName\":\"Bitcoin\",\"pair\":\"BTC\\\\u002FKRW\",\"baseCurrencyCode\":\"BTC\",\"quoteCurrencyCode\":\"KRW\",\"exchange\":\"UPBIT\",\"marketState\":\"ACTIVE\",\"marketStateForIOS\":\"ACTIVE\",\"isTradingSuspended\":false,\"baseCurrencyDecimalPlace\":8,\"quoteCurrencyDecimalPlace\":0,\"listingDate\":\"2017-09-26\",\"timestamp\":1501485295000,\"tradeStatus\":\"ACTIVE\",\"tradeSupportedMarket\":true}}}}`);\\n</script>\\n <div id=\"root\"></div><div id=\"modal\"></div></body></html>'"
      ]
     },
     "execution_count": 111,
     "metadata": {},
     "output_type": "execute_result"
    }
   ],
   "source": [
    "html_content"
   ]
  },
  {
   "cell_type": "code",
   "execution_count": 112,
   "metadata": {},
   "outputs": [],
   "source": [
    "# BeautifulSoup으로 HTML 파싱하기\n",
    "soup = BeautifulSoup(html_content, \"html.parser\")"
   ]
  },
  {
   "cell_type": "code",
   "execution_count": 115,
   "metadata": {},
   "outputs": [
    {
     "data": {
      "text/plain": [
       "<!DOCTYPE html>\n",
       "<html><head> <title>비트코인(BTC) | 업비트(UPbit) 시세 확인 및 거래</title>\n",
       "<meta content=\"비트코인 시세, 비트코인 가격, 비트코인 거래, 비트코인 정보 등 비트코인의 모든 것, 가장 신뢰받는 디지털 자산 거래소 업비트에서 확인해보세요.\" name=\"description\"/>\n",
       "<meta content=\"upbit, 업빗, 업비트, 비트코인, 이더리움, 디지털자산, 디지털자산거래소, 비트코인, Bitcoin, BTC\" name=\"keywords\"/>\n",
       "<meta content=\"https://upbit.com/exchange/CRIX.UPBIT.KRW-BTC\" property=\"og:url\"/>\n",
       "<meta content=\"업비트(Upbit)\" property=\"og:site_name\"/>\n",
       "<meta content=\"비트코인(BTC) | 업비트(UPbit) 시세 확인 및 거래\" property=\"og:title\"/>\n",
       "<meta content=\"https://static.upbit.com/upbit-pc/seo/upbit_facebook.png\" property=\"og:image\"/>\n",
       "<meta content=\"1200\" property=\"og:image:width\"/>\n",
       "<meta content=\"627\" property=\"og:image:height\"/>\n",
       "<meta content=\"비트코인 시세, 비트코인 가격, 비트코인 거래, 비트코인 정보 등 비트코인의 모든 것, 가장 신뢰받는 디지털 자산 거래소 업비트에서 확인해보세요.\" property=\"og:description\"/>\n",
       "<meta content=\"ko_kr\" property=\"og:locale\"/>\n",
       "<meta content=\"website\" property=\"og:type\"/>\n",
       "<meta content=\"summary\" name=\"twitter:card\"/>\n",
       "<meta content=\"https://upbit.com/exchange/CRIX.UPBIT.KRW-BTC\" name=\"twitter:url\"/>\n",
       "<meta content=\"업비트(Upbit)\" name=\"twitter:site_name\"/>\n",
       "<meta content=\"비트코인(BTC) | 업비트(UPbit) 시세 확인 및 거래\" name=\"twitter:title\"/>\n",
       "<meta content=\"https://static.upbit.com/upbit-pc/seo/upbit_facebook.png\" name=\"twitter:image\"/>\n",
       "<meta content=\"1200\" name=\"twitter:image:width\"/>\n",
       "<meta content=\"627\" name=\"twitter:image:height\"/>\n",
       "<meta content=\"비트코인 시세, 비트코인 가격, 비트코인 거래, 비트코인 정보 등 비트코인의 모든 것, 가장 신뢰받는 디지털 자산 거래소 업비트에서 확인해보세요.\" name=\"twitter:description\"/>\n",
       "<meta content=\"ko_kr\" name=\"twitter:locale\"/>\n",
       "<meta content=\"website\" name=\"twitter:type\"/>\n",
       "<meta content=\"두나무\" name=\"author\"/>\n",
       "<meta content=\"https://static.upbit.com/upbit-pc/seo/upbit_facebook.png\" name=\"image\"/>\n",
       "<link href=\"https://upbit.com/exchange/CRIX.UPBIT.KRW-BTC\" rel=\"canonical\"/> <meta content=\"Mon, 06 Jan 1990 00:00:01 GMT\" http-equiv=\"Expires\"><meta content=\"-1\" http-equiv=\"Expires\"><meta content=\"no-cache\" http-equiv=\"Pragma\"><meta content=\"no-cache\" http-equiv=\"Cache-Control\"><meta charset=\"utf-8\"><meta content=\"IE=edge\" http-equiv=\"X-UA-Compatible\"><meta content=\"telephone=no\" name=\"format-detection\"><meta content=\"width=device-width,user-scalable=no,initial-scale=1,maximum-scale=1,minimum-scale=1\" name=\"viewport\"><meta content=\"width=device-width,initial-scale=1,maximum-scale=1,minimum-scale=1,user-scalable=no\" name=\"viewport\"><link href=\"/favicon.jpg\" rel=\"icon\" sizes=\"32x32\" type=\"image/jpg\"/><link href=\"/favicon.jpg\" rel=\"shortcut icon\"/><link href=\"/manifest.json\" rel=\"manifest\"/><link href=\"https://fonts.googleapis.com\" rel=\"preconnect\"/><link crossorigin=\"\" href=\"https://fonts.gstatic.com\" rel=\"preconnect\"/><link href=\"https://fonts.googleapis.com/css2?family=Noto+Sans+KR:wght@300;400;500;700&amp;family=Roboto:wght@300;400;500;700&amp;display=swap\" rel=\"stylesheet\"/><link href=\"https://fonts.googleapis.com/css?family=Droid+Sans\" rel=\"stylesheet\"/><noscript><img height=\"1\" src=\"https://www.facebook.com/tr?id=621223061560463&amp;ev=PageView&amp;noscript=1\" width=\"1\"/></noscript><script type=\"application/ld+json\">{\n",
       "        \"@context\": \"https://schema.org\",\n",
       "        \"@type\": \"Organization\",\n",
       "        \"name\": \"업비트(Upbit)\",\n",
       "        \"url\": \"https://upbit.com\",\n",
       "        \"sameAs\": [\n",
       "          \"https://play.google.com/store/apps/details?id=com.dunamu.exchange\",\n",
       "          \"https://apps.apple.com/kr/app/id1256371195\",\n",
       "          \"https://twitter.com/Official_Upbit\",\n",
       "          \"https://blog.naver.com/dunamupr\",\n",
       "          \"https://www.instagram.com/upbit_official\",\n",
       "          \"https://www.youtube.com/@UpbitOfficial\"\n",
       "        ]\n",
       "      }</script><script src=\"https://t1.daumcdn.net/mapjsapi/bundle/postcode/prod/postcode.v2.js\"></script><script crossorigin=\"anonymous\" defer=\"defer\" integrity=\"sha384-1NnL+YvbQTXgSAkrnGJ8ae6eDZAnzcLFIV4DZpODZz9X27L81HU8rvhKelPhmJkI\" src=\"https://cdn.upbit.com/upbit-web/sri-v2-manifest-bundle-ac9a9eab71178d50d875.js\"></script><script crossorigin=\"anonymous\" defer=\"defer\" integrity=\"sha384-ppYLm0pM/2uMfdmOTe/rDvbAVpEVPxBYNzNSvq6i6X/CQwTyr1p4OF5rczmdtiGw\" src=\"https://cdn.upbit.com/upbit-web/sri-v2-client-source-bundle-2f13032ebff364001146.js\"></script><script crossorigin=\"anonymous\" defer=\"defer\" integrity=\"sha384-K0hO1wKDZ2ogqPtPbx6Ku61+d+D57stPfs4vdCbmDR+tBnOeEcjB5rFK2Pj9mUnU\" src=\"https://cdn.upbit.com/upbit-web/sri-v2-locale-vendor-bundle-1a4b4733a06e1019440f.js\"></script><script crossorigin=\"anonymous\" defer=\"defer\" integrity=\"sha384-ziDPS0O+yrKvJJocjycdWISUn3zIlgfaZZ4fk2qVbLlNo6p9PI97td3qlnuqQWA2\" src=\"https://cdn.upbit.com/upbit-web/sri-v2-react-vendor-bundle-317213fe9f2f84ba5607.js\"></script><script crossorigin=\"anonymous\" defer=\"defer\" integrity=\"sha384-QxYsZeXTPwH2J0tMbhK1Qy6B+6OmHgSIJPBoh2vZNQweMFcKSnGXiKWB6aFbFQoX\" src=\"https://cdn.upbit.com/upbit-web/sri-v2-chartiq-vendor-be089e5a-bundle-bb650615996d73d63598.js\"></script><script crossorigin=\"anonymous\" defer=\"defer\" integrity=\"sha384-AiHVr/+fAuoIXvM6OMm+axFfMzsbLi0dXR8kZQNlXamohIFbD5tK6ZFlFrU6IGyj\" src=\"https://cdn.upbit.com/upbit-web/sri-v2-chartiq-vendor-f0f2e7e7-bundle-ce69778935fa260e8739.js\"></script><script crossorigin=\"anonymous\" defer=\"defer\" integrity=\"sha384-r2h8S1P6EHimvjoyVdQqaveEhj3FSVbrnrDdVRRtUcZ+okvXITeGx8zXxJ06tPdV\" src=\"https://cdn.upbit.com/upbit-web/sri-v2-chartiq-vendor-646f3c4c-bundle-510a5eb3549c1d7b6eac.js\"></script><script crossorigin=\"anonymous\" defer=\"defer\" integrity=\"sha384-y5+LhgrNr2v0hNT3bv5OjZvnxQDuZ4cpeXoeNXsDFxYiH7+DVGwnomZ2vwwNukK1\" src=\"https://cdn.upbit.com/upbit-web/sri-v2-design-system-vendor-7c24480e-bundle-e38493bcb5fe3a43a355.js\"></script><script crossorigin=\"anonymous\" defer=\"defer\" integrity=\"sha384-SvGUKNlrA6PDTt92eWNNkzZJy7YHQs2mgWIkAwzV/G1hojRPgOloL7grE2z4wIAl\" src=\"https://cdn.upbit.com/upbit-web/sri-v2-design-system-vendor-2f5eac24-bundle-263d1f22859f0ae9c215.js\"></script><script crossorigin=\"anonymous\" defer=\"defer\" integrity=\"sha384-jMBnw0IjkVOTJETvYJ8D1VitPV5yGYU9HYgwAGQoDcR5wFKhN2AgovpZjtIG+cDC\" src=\"https://cdn.upbit.com/upbit-web/sri-v2-lodash-vendor-bundle-705c45bbd605ef43e1cf.js\"></script><script crossorigin=\"anonymous\" defer=\"defer\" integrity=\"sha384-R2cGRSudB92165iUhsAaUOKit0k4sHd0o8qKDIiB4yWda4y25axDv9Y2voHl4vP3\" src=\"https://cdn.upbit.com/upbit-web/sri-v2-vendors-cdd60c62-bundle-2b51f12d8bb4e233aa31.js\"></script><script crossorigin=\"anonymous\" defer=\"defer\" integrity=\"sha384-ztdNpesGFQZu0yFLyYPQJmcMYGreHz2fAKYbrvwE0S8hgt0rRZPuGqlQTPF+dY9B\" src=\"https://cdn.upbit.com/upbit-web/sri-v2-vendors-d2eb5610-bundle-7f82a7b2f587042b1a91.js\"></script><script crossorigin=\"anonymous\" defer=\"defer\" integrity=\"sha384-8AktgClToIgIV7wwCza0Vrp4KwtvMdxDZhtL+eKiDyu0Q/gXnwV42uBSlFoc004y\" src=\"https://cdn.upbit.com/upbit-web/sri-v2-vendors-536eaa00-bundle-e6b207832945a9125ff0.js\"></script><script crossorigin=\"anonymous\" defer=\"defer\" integrity=\"sha384-DWI9ffpf0cBnrBuHZ+SIBgDGlDQmvBGGKDiDBwFXqenOUlQmw6QOWeWBkIBMzBJn\" src=\"https://cdn.upbit.com/upbit-web/sri-v2-vendors-f82e0cd2-bundle-aea11eea6a96e98a6b52.js\"></script><script crossorigin=\"anonymous\" defer=\"defer\" integrity=\"sha384-np5Kw++jiNDEcfeHIphVsKlr74pUFdE/FiO6TC1PkurjeZOE8bRj1ulqBJkmXac7\" src=\"https://cdn.upbit.com/upbit-web/sri-v2-vendors-9241dc7c-bundle-1540475d6661d5fa9579.js\"></script><script crossorigin=\"anonymous\" defer=\"defer\" integrity=\"sha384-6Qp5Lofws4sIyrbJbyQO7DHYRa0pu6piUN6tkX5rB6pNDPjbdYLBBue117V8rPGK\" src=\"https://cdn.upbit.com/upbit-web/sri-v2-vendors-27545368-bundle-044d10601409245d7709.js\"></script><script crossorigin=\"anonymous\" defer=\"defer\" integrity=\"sha384-14T1xj8nIdKSqiL/2jYDyhTDZH//JCnp9PRZKMiRImvmStNQUu01XNYhnk9693fA\" src=\"https://cdn.upbit.com/upbit-web/sri-v2-vendors-866ab763-bundle-27962fd6b6817060ee03.js\"></script><script crossorigin=\"anonymous\" defer=\"defer\" integrity=\"sha384-lfK/5fI4lKdkeO4yl7A/ypPSbww2P4csAlcnlWqf/I3VPsAYrZSqELQQ3xMF+F/8\" src=\"https://cdn.upbit.com/upbit-web/sri-v2-commons-91ce39bd-bundle-4b4cb612354f1a5723ab.js\"></script><script crossorigin=\"anonymous\" defer=\"defer\" integrity=\"sha384-7K2mv2D2D5kQY7xtYIKWk/QGIw+WkEj44M+XaaSsFl8EEBpJCrwe1GgsAjdpmxqv\" src=\"https://cdn.upbit.com/upbit-web/sri-v2-commons-7fff9fb1-bundle-61846b45656847a4f661.js\"></script><script crossorigin=\"anonymous\" defer=\"defer\" integrity=\"sha384-2+YSs1X+5igQvJ3hcA3rIlFYXTXYwoJXyw4Y3s8DhsPDb4LWoN0O5KwBTj/F9IWy\" src=\"https://cdn.upbit.com/upbit-web/sri-v2-commons-6a227378-bundle-a99086a5098281ca4285.js\"></script><script crossorigin=\"anonymous\" defer=\"defer\" integrity=\"sha384-k/9wgvWH3Qqh8kTX6i8w69/DRb7G9+Nx+ntIex2e0Aly/LPkRkyjq4apux+TNz0d\" src=\"https://cdn.upbit.com/upbit-web/sri-v2-commons-9a8b795a-bundle-cdbd345c81342580e40d.js\"></script><script crossorigin=\"anonymous\" defer=\"defer\" integrity=\"sha384-oZQjniol8hxtDZYLJBfySubHODEKLcc92H0OvZb1TZQklr0rVmUu9rJrsI1T480f\" src=\"https://cdn.upbit.com/upbit-web/sri-v2-KR_PC-1f890bb4-bundle-a2203e1df5c9bc2675cf.js\"></script><script crossorigin=\"anonymous\" defer=\"defer\" integrity=\"sha384-Nw0vnT72p/tlqUnFW2z9wwrGAQHILwRnDOOM5ZDB/Wa9OBGDtXf7pZ5C+ZRvcuEL\" src=\"https://cdn.upbit.com/upbit-web/sri-v2-KR_PC-9a8b795a-bundle-7db49e8ad0291071a951.js\"></script><link crossorigin=\"anonymous\" href=\"https://cdn.upbit.com/upbit-web/sri-v2-react-vendor-common-fe1d888d26f4a27f5972.css\" integrity=\"sha384-9CMu9UtP03ZwBj9WbhZ5Ao8V0xUifTi/lbh34DxnhCzAdu8vSY8a0Ee6NnnREb0q\" rel=\"stylesheet\"/><link crossorigin=\"anonymous\" href=\"https://cdn.upbit.com/upbit-web/sri-v2-chartiq-vendor-72d0fca8-common-34b4ffb8e91bf3147fb7.css\" integrity=\"sha384-v/OU0XsAamjpKgwTFCJJ7uGRRlI+ui8O+TEwGbV3MeqIDpst3Kiz6jTMqxiNskW7\" rel=\"stylesheet\"/><link crossorigin=\"anonymous\" href=\"https://cdn.upbit.com/upbit-web/sri-v2-commons-91ce39bd-common-c477037e2a5e4e4cf822.css\" integrity=\"sha384-3N38V1jcIlLvtbD9wHsitzLbh303qcdE3NZkTtY0AVZllzMeIrQlTer9FfCBkHWs\" rel=\"stylesheet\"/><link crossorigin=\"anonymous\" href=\"https://cdn.upbit.com/upbit-web/sri-v2-commons-7fff9fb1-common-5bb94be4de24eab1a7fc.css\" integrity=\"sha384-uPhyyqZDHS2RJplcjNo/zirxT05eXN33LOP58Mt+tAPcswDSpDy7JVlfGGh5DMnY\" rel=\"stylesheet\"/><link crossorigin=\"anonymous\" href=\"https://cdn.upbit.com/upbit-web/sri-v2-KR_PC-1f890bb4-common-633dda5b75e6d56cd41c.css\" integrity=\"sha384-gJPeCMR8Zz+ckiNSrunMy6NturAYPx7KzjYNwr8wFos2LO5VW8DLIrfm7tELZZdQ\" rel=\"stylesheet\"/></meta></meta></meta></meta></meta></meta></meta></meta></meta></head><body class=\"\"> <script nonce=\"3969231b4c4a091a83307d2b14a7dbaf\">\n",
       "  window.__PRELOADED_STATE__=JSON.parse(`{\"local\":{\"entry\":\"KR_PC\"},\"entities\":{\"crixMasters\":{\"CRIX.UPBIT.KRW-BTC\":{\"code\":\"CRIX.UPBIT.KRW-BTC\",\"localName\":\"비트코인\",\"koreanName\":\"비트코인\",\"englishName\":\"Bitcoin\",\"pair\":\"BTC\\u002FKRW\",\"baseCurrencyCode\":\"BTC\",\"quoteCurrencyCode\":\"KRW\",\"exchange\":\"UPBIT\",\"marketState\":\"ACTIVE\",\"marketStateForIOS\":\"ACTIVE\",\"isTradingSuspended\":false,\"baseCurrencyDecimalPlace\":8,\"quoteCurrencyDecimalPlace\":0,\"listingDate\":\"2017-09-26\",\"timestamp\":1501485295000,\"tradeStatus\":\"ACTIVE\",\"tradeSupportedMarket\":true}}}}`);\n",
       "</script>\n",
       "<div id=\"root\"></div><div id=\"modal\"></div></body></html>"
      ]
     },
     "execution_count": 115,
     "metadata": {},
     "output_type": "execute_result"
    }
   ],
   "source": [
    "soup"
   ]
  },
  {
   "cell_type": "code",
   "execution_count": 113,
   "metadata": {},
   "outputs": [],
   "source": [
    "\n",
    "\n",
    "# 현재 비트코인 시세 추출\n",
    "current_price = soup.find(\"strong\", {\"class\": \"price\"})"
   ]
  },
  {
   "cell_type": "code",
   "execution_count": 114,
   "metadata": {},
   "outputs": [],
   "source": [
    "current_price"
   ]
  },
  {
   "cell_type": "code",
   "execution_count": 109,
   "metadata": {},
   "outputs": [
    {
     "name": "stdout",
     "output_type": "stream",
     "text": [
      "현재 비트코인 가격: None\n"
     ]
    }
   ],
   "source": [
    "\n",
    "\n",
    "print(f\"현재 비트코인 가격: {current_price}\")"
   ]
  },
  {
   "cell_type": "code",
   "execution_count": 135,
   "metadata": {},
   "outputs": [
    {
     "name": "stdout",
     "output_type": "stream",
     "text": [
      "Channels:\n",
      " - conda-forge\n",
      " - defaults\n",
      "Platform: win-64\n",
      "Collecting package metadata (repodata.json): ...working... done\n",
      "Solving environment: ...working... done\n",
      "\n",
      "## Package Plan ##\n",
      "\n",
      "  environment location: c:\\ProgramData\\anaconda3\\envs\\myfirstvirtual1\n",
      "\n",
      "  added / updated specs:\n",
      "    - schedule\n",
      "\n",
      "\n",
      "The following packages will be downloaded:\n",
      "\n",
      "    package                    |            build\n",
      "    ---------------------------|-----------------\n",
      "    ca-certificates-2024.7.4   |       h56e8100_0         151 KB  conda-forge\n",
      "    certifi-2024.7.4           |     pyhd8ed1ab_0         156 KB  conda-forge\n",
      "    openssl-3.3.1              |       h2466b09_2         8.0 MB  conda-forge\n",
      "    schedule-1.2.2             |     pyhd8ed1ab_0          17 KB  conda-forge\n",
      "    ucrt-10.0.22621.0          |       h57928b3_0         1.2 MB  conda-forge\n",
      "    vc14_runtime-14.40.33810   |      ha82c5b3_20         734 KB  conda-forge\n",
      "    vs2015_runtime-14.40.33810 |      h3bf8584_20          17 KB  conda-forge\n",
      "    ------------------------------------------------------------\n",
      "                                           Total:        10.3 MB\n",
      "\n",
      "The following NEW packages will be INSTALLED:\n",
      "\n",
      "  schedule           conda-forge/noarch::schedule-1.2.2-pyhd8ed1ab_0 \n",
      "  ucrt               conda-forge/win-64::ucrt-10.0.22621.0-h57928b3_0 \n",
      "  vc14_runtime       conda-forge/win-64::vc14_runtime-14.40.33810-ha82c5b3_20 \n",
      "\n",
      "The following packages will be UPDATED:\n",
      "\n",
      "  ca-certificates    pkgs/main::ca-certificates-2024.7.2-h~ --> conda-forge::ca-certificates-2024.7.4-h56e8100_0 \n",
      "  openssl              pkgs/main::openssl-3.0.14-h827c3e9_0 --> conda-forge::openssl-3.3.1-h2466b09_2 \n",
      "  vs2015_runtime     pkgs/main::vs2015_runtime-14.29.30133~ --> conda-forge::vs2015_runtime-14.40.33810-h3bf8584_20 \n",
      "\n",
      "The following packages will be SUPERSEDED by a higher-priority channel:\n",
      "\n",
      "  certifi            pkgs/main/win-64::certifi-2024.7.4-py~ --> conda-forge/noarch::certifi-2024.7.4-pyhd8ed1ab_0 \n",
      "\n",
      "\n",
      "\n",
      "Downloading and Extracting Packages: ...working... done\n",
      "Preparing transaction: ...working... done\n",
      "Verifying transaction: ...working... done\n",
      "Executing transaction: ...working... done\n",
      "\n",
      "Note: you may need to restart the kernel to use updated packages.\n"
     ]
    }
   ],
   "source": [
    "conda install -c conda-forge schedule"
   ]
  },
  {
   "cell_type": "code",
   "execution_count": 141,
   "metadata": {},
   "outputs": [],
   "source": [
    "from datetime import datetime\n",
    "import schedule\n",
    "import requests\n",
    "from bs4 import BeautifulSoup"
   ]
  },
  {
   "cell_type": "code",
   "execution_count": 148,
   "metadata": {},
   "outputs": [],
   "source": [
    "url = \"https://crix-api-cdn.upbit.com/v1/crix/recent?codes=CRIX.UPBIT.KRW-BTC,CRIX.UPBIT.KRW-ETH,CRIX.UPBIT.KRW-USDT,CRIX.UPBIT.KRW-SOL,CRIX.UPBIT.KRW-XRP\"\n",
    "response = requests.get(url)\n",
    "soup = BeautifulSoup(response.content, \"html.parser\")"
   ]
  },
  {
   "cell_type": "code",
   "execution_count": 149,
   "metadata": {},
   "outputs": [
    {
     "data": {
      "text/plain": [
       "[{\"code\":\"CRIX.UPBIT.KRW-BTC\",\"tradeDate\":\"20240802\",\"tradeTime\":\"080854\",\"tradeDateKst\":\"20240802\",\"tradeTimeKst\":\"170854\",\"tradeTimestamp\":1722586134809,\"openingPrice\":91789000.00000000,\"highPrice\":92200000.00000000,\"lowPrice\":89600000.00000000,\"tradePrice\":90350000.00000000,\"prevClosingPrice\":91789000.00000000,\"change\":\"FALL\",\"changePrice\":1439000.00000000,\"signedChangePrice\":-1439000.00000000,\"changeRate\":0.0156772598,\"signedChangeRate\":-0.0156772598,\"tradeVolume\":0.00078092,\"accTradePrice\":114130338791.1648800000000000,\"accTradePrice24h\":369533279326.89488000,\"accTradeVolume\":1260.71225688,\"accTradeVolume24h\":4097.49926019,\"askBid\":\"BID\",\"accAskVolume\":646.72065421,\"accBidVolume\":613.99160267,\"highest52WeekPrice\":105000000.00000000,\"highest52WeekDate\":\"2024-03-14\",\"lowest52WeekPrice\":34100000.00000000,\"lowest52WeekDate\":\"2023-09-11\",\"tradeStatus\":null,\"marketState\":\"ACTIVE\",\"marketStateForIOS\":\"ACTIVE\",\"isTradingSuspended\":false,\"delistingDate\":null,\"marketWarning\":\"NONE\",\"timestamp\":1722586134840},{\"code\":\"CRIX.UPBIT.KRW-ETH\",\"tradeDate\":\"20240802\",\"tradeTime\":\"080855\",\"tradeDateKst\":\"20240802\",\"tradeTimeKst\":\"170855\",\"tradeTimestamp\":1722586135431,\"openingPrice\":4500000.00000000,\"highPrice\":4521000.00000000,\"lowPrice\":4390000.00000000,\"tradePrice\":4426000.00000000,\"prevClosingPrice\":4500000.00000000,\"change\":\"FALL\",\"changePrice\":74000.00000000,\"signedChangePrice\":-74000.00000000,\"changeRate\":0.0164444444,\"signedChangeRate\":-0.0164444444,\"tradeVolume\":0.03802661,\"accTradePrice\":25647671374.6705200000000000,\"accTradePrice24h\":78785815972.40951000,\"accTradeVolume\":5769.92195093,\"accTradeVolume24h\":17748.46795208,\"askBid\":\"BID\",\"accAskVolume\":3142.16342906,\"accBidVolume\":2627.75852187,\"highest52WeekPrice\":5783000.00000000,\"highest52WeekDate\":\"2024-03-13\",\"lowest52WeekPrice\":2087000.00000000,\"lowest52WeekDate\":\"2023-10-12\",\"tradeStatus\":null,\"marketState\":\"ACTIVE\",\"marketStateForIOS\":\"ACTIVE\",\"isTradingSuspended\":false,\"delistingDate\":null,\"marketWarning\":\"NONE\",\"timestamp\":1722586135450},{\"code\":\"CRIX.UPBIT.KRW-USDT\",\"tradeDate\":\"20240802\",\"tradeTime\":\"080841\",\"tradeDateKst\":\"20240802\",\"tradeTimeKst\":\"170841\",\"tradeTimestamp\":1722586121562,\"openingPrice\":1405.00000000,\"highPrice\":1408.00000000,\"lowPrice\":1401.00000000,\"tradePrice\":1405.00000000,\"prevClosingPrice\":1405.00000000,\"change\":\"EVEN\",\"changePrice\":0E-8,\"signedChangePrice\":0E-8,\"changeRate\":0,\"signedChangeRate\":0,\"tradeVolume\":183.75947161,\"accTradePrice\":11838606217.0639044900000000,\"accTradePrice24h\":51922889009.39662262,\"accTradeVolume\":8432188.83246265,\"accTradeVolume24h\":36933079.95002257,\"askBid\":\"ASK\",\"accAskVolume\":2974823.67301848,\"accBidVolume\":5457365.15944417,\"highest52WeekPrice\":1448.00000000,\"highest52WeekDate\":\"2024-07-05\",\"lowest52WeekPrice\":1289.00000000,\"lowest52WeekDate\":\"2024-06-07\",\"tradeStatus\":null,\"marketState\":\"ACTIVE\",\"marketStateForIOS\":\"ACTIVE\",\"isTradingSuspended\":false,\"delistingDate\":null,\"marketWarning\":\"NONE\",\"timestamp\":1722586121592},{\"code\":\"CRIX.UPBIT.KRW-SOL\",\"tradeDate\":\"20240802\",\"tradeTime\":\"080852\",\"tradeDateKst\":\"20240802\",\"tradeTimeKst\":\"170852\",\"tradeTimestamp\":1722586132092,\"openingPrice\":235400.00000000,\"highPrice\":238250.00000000,\"lowPrice\":223600.00000000,\"tradePrice\":227500.00000000,\"prevClosingPrice\":235300.00000000,\"change\":\"FALL\",\"changePrice\":7800.00000000,\"signedChangePrice\":-7800.00000000,\"changeRate\":0.0331491713,\"signedChangeRate\":-0.0331491713,\"tradeVolume\":2.38253529,\"accTradePrice\":70030371007.3894025000000000,\"accTradePrice24h\":183148088930.12718600,\"accTradeVolume\":304859.77585660,\"accTradeVolume24h\":791624.78830553,\"askBid\":\"ASK\",\"accAskVolume\":170491.90145568,\"accBidVolume\":134367.87440092,\"highest52WeekPrice\":307500.00000000,\"highest52WeekDate\":\"2024-03-18\",\"lowest52WeekPrice\":23730.00000000,\"lowest52WeekDate\":\"2023-09-11\",\"tradeStatus\":null,\"marketState\":\"ACTIVE\",\"marketStateForIOS\":\"ACTIVE\",\"isTradingSuspended\":false,\"delistingDate\":null,\"marketWarning\":\"NONE\",\"timestamp\":1722586132114},{\"code\":\"CRIX.UPBIT.KRW-XRP\",\"tradeDate\":\"20240802\",\"tradeTime\":\"080852\",\"tradeDateKst\":\"20240802\",\"tradeTimeKst\":\"170852\",\"tradeTimestamp\":1722586132826,\"openingPrice\":837.70000000,\"highPrice\":838.70000000,\"lowPrice\":782.10000000,\"tradePrice\":803.40000000,\"prevClosingPrice\":837.30000000,\"change\":\"FALL\",\"changePrice\":33.90000000,\"signedChangePrice\":-33.90000000,\"changeRate\":0.0404872805,\"signedChangeRate\":-0.0404872805,\"tradeVolume\":662.63849400,\"accTradePrice\":134415328884.4629190600000000,\"accTradePrice24h\":295418182109.27808222,\"accTradeVolume\":166278310.04205497,\"accTradeVolume24h\":359281247.17805082,\"askBid\":\"BID\",\"accAskVolume\":99779878.02233292,\"accBidVolume\":66498432.01972205,\"highest52WeekPrice\":1033.00000000,\"highest52WeekDate\":\"2024-03-11\",\"lowest52WeekPrice\":560.20000000,\"lowest52WeekDate\":\"2024-07-05\",\"tradeStatus\":null,\"marketState\":\"ACTIVE\",\"marketStateForIOS\":\"ACTIVE\",\"isTradingSuspended\":false,\"delistingDate\":null,\"marketWarning\":\"NONE\",\"timestamp\":1722586132859}]"
      ]
     },
     "execution_count": 149,
     "metadata": {},
     "output_type": "execute_result"
    }
   ],
   "source": [
    "soup"
   ]
  },
  {
   "cell_type": "code",
   "execution_count": 152,
   "metadata": {},
   "outputs": [
    {
     "data": {
      "text/plain": [
       "bs4.BeautifulSoup"
      ]
     },
     "execution_count": 152,
     "metadata": {},
     "output_type": "execute_result"
    }
   ],
   "source": [
    "type(soup)"
   ]
  },
  {
   "cell_type": "code",
   "execution_count": 154,
   "metadata": {},
   "outputs": [
    {
     "data": {
      "text/plain": [
       "['[{\"code\":\"CRIX.UPBIT.KRW-BTC\",\"tradeDate\":\"20240802\",\"tradeTime\":\"080854\",\"tradeDateKst\":\"20240802\",\"tradeTimeKst\":\"170854\",\"tradeTimestamp\":1722586134809,\"openingPrice\":91789000.00000000,\"highPrice\":92200000.00000000,\"lowPrice\":89600000.00000000,\"tradePrice\":90350000.00000000,\"prevClosingPrice\":91789000.00000000,\"change\":\"FALL\",\"changePrice\":1439000.00000000,\"signedChangePrice\":-1439000.00000000,\"changeRate\":0.0156772598,\"signedChangeRate\":-0.0156772598,\"tradeVolume\":0.00078092,\"accTradePrice\":114130338791.1648800000000000,\"accTradePrice24h\":369533279326.89488000,\"accTradeVolume\":1260.71225688,\"accTradeVolume24h\":4097.49926019,\"askBid\":\"BID\",\"accAskVolume\":646.72065421,\"accBidVolume\":613.99160267,\"highest52WeekPrice\":105000000.00000000,\"highest52WeekDate\":\"2024-03-14\",\"lowest52WeekPrice\":34100000.00000000,\"lowest52WeekDate\":\"2023-09-11\",\"tradeStatus\":null,\"marketState\":\"ACTIVE\",\"marketStateForIOS\":\"ACTIVE\",\"isTradingSuspended\":false,\"delistingDate\":null,\"marketWarning\":\"NONE\",\"timestamp\":1722586134840},{\"code\":\"CRIX.UPBIT.KRW-ETH\",\"tradeDate\":\"20240802\",\"tradeTime\":\"080855\",\"tradeDateKst\":\"20240802\",\"tradeTimeKst\":\"170855\",\"tradeTimestamp\":1722586135431,\"openingPrice\":4500000.00000000,\"highPrice\":4521000.00000000,\"lowPrice\":4390000.00000000,\"tradePrice\":4426000.00000000,\"prevClosingPrice\":4500000.00000000,\"change\":\"FALL\",\"changePrice\":74000.00000000,\"signedChangePrice\":-74000.00000000,\"changeRate\":0.0164444444,\"signedChangeRate\":-0.0164444444,\"tradeVolume\":0.03802661,\"accTradePrice\":25647671374.6705200000000000,\"accTradePrice24h\":78785815972.40951000,\"accTradeVolume\":5769.92195093,\"accTradeVolume24h\":17748.46795208,\"askBid\":\"BID\",\"accAskVolume\":3142.16342906,\"accBidVolume\":2627.75852187,\"highest52WeekPrice\":5783000.00000000,\"highest52WeekDate\":\"2024-03-13\",\"lowest52WeekPrice\":2087000.00000000,\"lowest52WeekDate\":\"2023-10-12\",\"tradeStatus\":null,\"marketState\":\"ACTIVE\",\"marketStateForIOS\":\"ACTIVE\",\"isTradingSuspended\":false,\"delistingDate\":null,\"marketWarning\":\"NONE\",\"timestamp\":1722586135450},{\"code\":\"CRIX.UPBIT.KRW-USDT\",\"tradeDate\":\"20240802\",\"tradeTime\":\"080841\",\"tradeDateKst\":\"20240802\",\"tradeTimeKst\":\"170841\",\"tradeTimestamp\":1722586121562,\"openingPrice\":1405.00000000,\"highPrice\":1408.00000000,\"lowPrice\":1401.00000000,\"tradePrice\":1405.00000000,\"prevClosingPrice\":1405.00000000,\"change\":\"EVEN\",\"changePrice\":0E-8,\"signedChangePrice\":0E-8,\"changeRate\":0,\"signedChangeRate\":0,\"tradeVolume\":183.75947161,\"accTradePrice\":11838606217.0639044900000000,\"accTradePrice24h\":51922889009.39662262,\"accTradeVolume\":8432188.83246265,\"accTradeVolume24h\":36933079.95002257,\"askBid\":\"ASK\",\"accAskVolume\":2974823.67301848,\"accBidVolume\":5457365.15944417,\"highest52WeekPrice\":1448.00000000,\"highest52WeekDate\":\"2024-07-05\",\"lowest52WeekPrice\":1289.00000000,\"lowest52WeekDate\":\"2024-06-07\",\"tradeStatus\":null,\"marketState\":\"ACTIVE\",\"marketStateForIOS\":\"ACTIVE\",\"isTradingSuspended\":false,\"delistingDate\":null,\"marketWarning\":\"NONE\",\"timestamp\":1722586121592},{\"code\":\"CRIX.UPBIT.KRW-SOL\",\"tradeDate\":\"20240802\",\"tradeTime\":\"080852\",\"tradeDateKst\":\"20240802\",\"tradeTimeKst\":\"170852\",\"tradeTimestamp\":1722586132092,\"openingPrice\":235400.00000000,\"highPrice\":238250.00000000,\"lowPrice\":223600.00000000,\"tradePrice\":227500.00000000,\"prevClosingPrice\":235300.00000000,\"change\":\"FALL\",\"changePrice\":7800.00000000,\"signedChangePrice\":-7800.00000000,\"changeRate\":0.0331491713,\"signedChangeRate\":-0.0331491713,\"tradeVolume\":2.38253529,\"accTradePrice\":70030371007.3894025000000000,\"accTradePrice24h\":183148088930.12718600,\"accTradeVolume\":304859.77585660,\"accTradeVolume24h\":791624.78830553,\"askBid\":\"ASK\",\"accAskVolume\":170491.90145568,\"accBidVolume\":134367.87440092,\"highest52WeekPrice\":307500.00000000,\"highest52WeekDate\":\"2024-03-18\",\"lowest52WeekPrice\":23730.00000000,\"lowest52WeekDate\":\"2023-09-11\",\"tradeStatus\":null,\"marketState\":\"ACTIVE\",\"marketStateForIOS\":\"ACTIVE\",\"isTradingSuspended\":false,\"delistingDate\":null,\"marketWarning\":\"NONE\",\"timestamp\":1722586132114},{\"code\":\"CRIX.UPBIT.KRW-XRP\",\"tradeDate\":\"20240802\",\"tradeTime\":\"080852\",\"tradeDateKst\":\"20240802\",\"tradeTimeKst\":\"170852\",\"tradeTimestamp\":1722586132826,\"openingPrice\":837.70000000,\"highPrice\":838.70000000,\"lowPrice\":782.10000000,\"tradePrice\":803.40000000,\"prevClosingPrice\":837.30000000,\"change\":\"FALL\",\"changePrice\":33.90000000,\"signedChangePrice\":-33.90000000,\"changeRate\":0.0404872805,\"signedChangeRate\":-0.0404872805,\"tradeVolume\":662.63849400,\"accTradePrice\":134415328884.4629190600000000,\"accTradePrice24h\":295418182109.27808222,\"accTradeVolume\":166278310.04205497,\"accTradeVolume24h\":359281247.17805082,\"askBid\":\"BID\",\"accAskVolume\":99779878.02233292,\"accBidVolume\":66498432.01972205,\"highest52WeekPrice\":1033.00000000,\"highest52WeekDate\":\"2024-03-11\",\"lowest52WeekPrice\":560.20000000,\"lowest52WeekDate\":\"2024-07-05\",\"tradeStatus\":null,\"marketState\":\"ACTIVE\",\"marketStateForIOS\":\"ACTIVE\",\"isTradingSuspended\":false,\"delistingDate\":null,\"marketWarning\":\"NONE\",\"timestamp\":1722586132859}]']"
      ]
     },
     "execution_count": 154,
     "metadata": {},
     "output_type": "execute_result"
    }
   ],
   "source": [
    "soup.contents"
   ]
  },
  {
   "cell_type": "code",
   "execution_count": 156,
   "metadata": {},
   "outputs": [
    {
     "data": {
      "text/plain": [
       "1"
      ]
     },
     "execution_count": 156,
     "metadata": {},
     "output_type": "execute_result"
    }
   ],
   "source": [
    "len(soup.contents)"
   ]
  },
  {
   "cell_type": "code",
   "execution_count": 157,
   "metadata": {},
   "outputs": [
    {
     "data": {
      "text/plain": [
       "bs4.element.NavigableString"
      ]
     },
     "execution_count": 157,
     "metadata": {},
     "output_type": "execute_result"
    }
   ],
   "source": [
    "type(soup.contents[0])"
   ]
  },
  {
   "cell_type": "code",
   "execution_count": 159,
   "metadata": {},
   "outputs": [
    {
     "name": "stdout",
     "output_type": "stream",
     "text": [
      "[ { \" c o d e \" : \" C R I X . U P B I T . K R W - B T C \" , \" t r a d e D a t e \" : \" 2 0 2 4 0 8 0 2 \" , \" t r a d e T i m e \" : \" 0 8 0 8 5 4 \" , \" t r a d e D a t e K s t \" : \" 2 0 2 4 0 8 0 2 \" , \" t r a d e T i m e K s t \" : \" 1 7 0 8 5 4 \" , \" t r a d e T i m e s t a m p \" : 1 7 2 2 5 8 6 1 3 4 8 0 9 , \" o p e n i n g P r i c e \" : 9 1 7 8 9 0 0 0 . 0 0 0 0 0 0 0 0 , \" h i g h P r i c e \" : 9 2 2 0 0 0 0 0 . 0 0 0 0 0 0 0 0 , \" l o w P r i c e \" : 8 9 6 0 0 0 0 0 . 0 0 0 0 0 0 0 0 , \" t r a d e P r i c e \" : 9 0 3 5 0 0 0 0 . 0 0 0 0 0 0 0 0 , \" p r e v C l o s i n g P r i c e \" : 9 1 7 8 9 0 0 0 . 0 0 0 0 0 0 0 0 , \" c h a n g e \" : \" F A L L \" , \" c h a n g e P r i c e \" : 1 4 3 9 0 0 0 . 0 0 0 0 0 0 0 0 , \" s i g n e d C h a n g e P r i c e \" : - 1 4 3 9 0 0 0 . 0 0 0 0 0 0 0 0 , \" c h a n g e R a t e \" : 0 . 0 1 5 6 7 7 2 5 9 8 , \" s i g n e d C h a n g e R a t e \" : - 0 . 0 1 5 6 7 7 2 5 9 8 , \" t r a d e V o l u m e \" : 0 . 0 0 0 7 8 0 9 2 , \" a c c T r a d e P r i c e \" : 1 1 4 1 3 0 3 3 8 7 9 1 . 1 6 4 8 8 0 0 0 0 0 0 0 0 0 0 0 , \" a c c T r a d e P r i c e 2 4 h \" : 3 6 9 5 3 3 2 7 9 3 2 6 . 8 9 4 8 8 0 0 0 , \" a c c T r a d e V o l u m e \" : 1 2 6 0 . 7 1 2 2 5 6 8 8 , \" a c c T r a d e V o l u m e 2 4 h \" : 4 0 9 7 . 4 9 9 2 6 0 1 9 , \" a s k B i d \" : \" B I D \" , \" a c c A s k V o l u m e \" : 6 4 6 . 7 2 0 6 5 4 2 1 , \" a c c B i d V o l u m e \" : 6 1 3 . 9 9 1 6 0 2 6 7 , \" h i g h e s t 5 2 W e e k P r i c e \" : 1 0 5 0 0 0 0 0 0 . 0 0 0 0 0 0 0 0 , \" h i g h e s t 5 2 W e e k D a t e \" : \" 2 0 2 4 - 0 3 - 1 4 \" , \" l o w e s t 5 2 W e e k P r i c e \" : 3 4 1 0 0 0 0 0 . 0 0 0 0 0 0 0 0 , \" l o w e s t 5 2 W e e k D a t e \" : \" 2 0 2 3 - 0 9 - 1 1 \" , \" t r a d e S t a t u s \" : n u l l , \" m a r k e t S t a t e \" : \" A C T I V E \" , \" m a r k e t S t a t e F o r I O S \" : \" A C T I V E \" , \" i s T r a d i n g S u s p e n d e d \" : f a l s e , \" d e l i s t i n g D a t e \" : n u l l , \" m a r k e t W a r n i n g \" : \" N O N E \" , \" t i m e s t a m p \" : 1 7 2 2 5 8 6 1 3 4 8 4 0 } , { \" c o d e \" : \" C R I X . U P B I T . K R W - E T H \" , \" t r a d e D a t e \" : \" 2 0 2 4 0 8 0 2 \" , \" t r a d e T i m e \" : \" 0 8 0 8 5 5 \" , \" t r a d e D a t e K s t \" : \" 2 0 2 4 0 8 0 2 \" , \" t r a d e T i m e K s t \" : \" 1 7 0 8 5 5 \" , \" t r a d e T i m e s t a m p \" : 1 7 2 2 5 8 6 1 3 5 4 3 1 , \" o p e n i n g P r i c e \" : 4 5 0 0 0 0 0 . 0 0 0 0 0 0 0 0 , \" h i g h P r i c e \" : 4 5 2 1 0 0 0 . 0 0 0 0 0 0 0 0 , \" l o w P r i c e \" : 4 3 9 0 0 0 0 . 0 0 0 0 0 0 0 0 , \" t r a d e P r i c e \" : 4 4 2 6 0 0 0 . 0 0 0 0 0 0 0 0 , \" p r e v C l o s i n g P r i c e \" : 4 5 0 0 0 0 0 . 0 0 0 0 0 0 0 0 , \" c h a n g e \" : \" F A L L \" , \" c h a n g e P r i c e \" : 7 4 0 0 0 . 0 0 0 0 0 0 0 0 , \" s i g n e d C h a n g e P r i c e \" : - 7 4 0 0 0 . 0 0 0 0 0 0 0 0 , \" c h a n g e R a t e \" : 0 . 0 1 6 4 4 4 4 4 4 4 , \" s i g n e d C h a n g e R a t e \" : - 0 . 0 1 6 4 4 4 4 4 4 4 , \" t r a d e V o l u m e \" : 0 . 0 3 8 0 2 6 6 1 , \" a c c T r a d e P r i c e \" : 2 5 6 4 7 6 7 1 3 7 4 . 6 7 0 5 2 0 0 0 0 0 0 0 0 0 0 0 , \" a c c T r a d e P r i c e 2 4 h \" : 7 8 7 8 5 8 1 5 9 7 2 . 4 0 9 5 1 0 0 0 , \" a c c T r a d e V o l u m e \" : 5 7 6 9 . 9 2 1 9 5 0 9 3 , \" a c c T r a d e V o l u m e 2 4 h \" : 1 7 7 4 8 . 4 6 7 9 5 2 0 8 , \" a s k B i d \" : \" B I D \" , \" a c c A s k V o l u m e \" : 3 1 4 2 . 1 6 3 4 2 9 0 6 , \" a c c B i d V o l u m e \" : 2 6 2 7 . 7 5 8 5 2 1 8 7 , \" h i g h e s t 5 2 W e e k P r i c e \" : 5 7 8 3 0 0 0 . 0 0 0 0 0 0 0 0 , \" h i g h e s t 5 2 W e e k D a t e \" : \" 2 0 2 4 - 0 3 - 1 3 \" , \" l o w e s t 5 2 W e e k P r i c e \" : 2 0 8 7 0 0 0 . 0 0 0 0 0 0 0 0 , \" l o w e s t 5 2 W e e k D a t e \" : \" 2 0 2 3 - 1 0 - 1 2 \" , \" t r a d e S t a t u s \" : n u l l , \" m a r k e t S t a t e \" : \" A C T I V E \" , \" m a r k e t S t a t e F o r I O S \" : \" A C T I V E \" , \" i s T r a d i n g S u s p e n d e d \" : f a l s e , \" d e l i s t i n g D a t e \" : n u l l , \" m a r k e t W a r n i n g \" : \" N O N E \" , \" t i m e s t a m p \" : 1 7 2 2 5 8 6 1 3 5 4 5 0 } , { \" c o d e \" : \" C R I X . U P B I T . K R W - U S D T \" , \" t r a d e D a t e \" : \" 2 0 2 4 0 8 0 2 \" , \" t r a d e T i m e \" : \" 0 8 0 8 4 1 \" , \" t r a d e D a t e K s t \" : \" 2 0 2 4 0 8 0 2 \" , \" t r a d e T i m e K s t \" : \" 1 7 0 8 4 1 \" , \" t r a d e T i m e s t a m p \" : 1 7 2 2 5 8 6 1 2 1 5 6 2 , \" o p e n i n g P r i c e \" : 1 4 0 5 . 0 0 0 0 0 0 0 0 , \" h i g h P r i c e \" : 1 4 0 8 . 0 0 0 0 0 0 0 0 , \" l o w P r i c e \" : 1 4 0 1 . 0 0 0 0 0 0 0 0 , \" t r a d e P r i c e \" : 1 4 0 5 . 0 0 0 0 0 0 0 0 , \" p r e v C l o s i n g P r i c e \" : 1 4 0 5 . 0 0 0 0 0 0 0 0 , \" c h a n g e \" : \" E V E N \" , \" c h a n g e P r i c e \" : 0 E - 8 , \" s i g n e d C h a n g e P r i c e \" : 0 E - 8 , \" c h a n g e R a t e \" : 0 , \" s i g n e d C h a n g e R a t e \" : 0 , \" t r a d e V o l u m e \" : 1 8 3 . 7 5 9 4 7 1 6 1 , \" a c c T r a d e P r i c e \" : 1 1 8 3 8 6 0 6 2 1 7 . 0 6 3 9 0 4 4 9 0 0 0 0 0 0 0 0 , \" a c c T r a d e P r i c e 2 4 h \" : 5 1 9 2 2 8 8 9 0 0 9 . 3 9 6 6 2 2 6 2 , \" a c c T r a d e V o l u m e \" : 8 4 3 2 1 8 8 . 8 3 2 4 6 2 6 5 , \" a c c T r a d e V o l u m e 2 4 h \" : 3 6 9 3 3 0 7 9 . 9 5 0 0 2 2 5 7 , \" a s k B i d \" : \" A S K \" , \" a c c A s k V o l u m e \" : 2 9 7 4 8 2 3 . 6 7 3 0 1 8 4 8 , \" a c c B i d V o l u m e \" : 5 4 5 7 3 6 5 . 1 5 9 4 4 4 1 7 , \" h i g h e s t 5 2 W e e k P r i c e \" : 1 4 4 8 . 0 0 0 0 0 0 0 0 , \" h i g h e s t 5 2 W e e k D a t e \" : \" 2 0 2 4 - 0 7 - 0 5 \" , \" l o w e s t 5 2 W e e k P r i c e \" : 1 2 8 9 . 0 0 0 0 0 0 0 0 , \" l o w e s t 5 2 W e e k D a t e \" : \" 2 0 2 4 - 0 6 - 0 7 \" , \" t r a d e S t a t u s \" : n u l l , \" m a r k e t S t a t e \" : \" A C T I V E \" , \" m a r k e t S t a t e F o r I O S \" : \" A C T I V E \" , \" i s T r a d i n g S u s p e n d e d \" : f a l s e , \" d e l i s t i n g D a t e \" : n u l l , \" m a r k e t W a r n i n g \" : \" N O N E \" , \" t i m e s t a m p \" : 1 7 2 2 5 8 6 1 2 1 5 9 2 } , { \" c o d e \" : \" C R I X . U P B I T . K R W - S O L \" , \" t r a d e D a t e \" : \" 2 0 2 4 0 8 0 2 \" , \" t r a d e T i m e \" : \" 0 8 0 8 5 2 \" , \" t r a d e D a t e K s t \" : \" 2 0 2 4 0 8 0 2 \" , \" t r a d e T i m e K s t \" : \" 1 7 0 8 5 2 \" , \" t r a d e T i m e s t a m p \" : 1 7 2 2 5 8 6 1 3 2 0 9 2 , \" o p e n i n g P r i c e \" : 2 3 5 4 0 0 . 0 0 0 0 0 0 0 0 , \" h i g h P r i c e \" : 2 3 8 2 5 0 . 0 0 0 0 0 0 0 0 , \" l o w P r i c e \" : 2 2 3 6 0 0 . 0 0 0 0 0 0 0 0 , \" t r a d e P r i c e \" : 2 2 7 5 0 0 . 0 0 0 0 0 0 0 0 , \" p r e v C l o s i n g P r i c e \" : 2 3 5 3 0 0 . 0 0 0 0 0 0 0 0 , \" c h a n g e \" : \" F A L L \" , \" c h a n g e P r i c e \" : 7 8 0 0 . 0 0 0 0 0 0 0 0 , \" s i g n e d C h a n g e P r i c e \" : - 7 8 0 0 . 0 0 0 0 0 0 0 0 , \" c h a n g e R a t e \" : 0 . 0 3 3 1 4 9 1 7 1 3 , \" s i g n e d C h a n g e R a t e \" : - 0 . 0 3 3 1 4 9 1 7 1 3 , \" t r a d e V o l u m e \" : 2 . 3 8 2 5 3 5 2 9 , \" a c c T r a d e P r i c e \" : 7 0 0 3 0 3 7 1 0 0 7 . 3 8 9 4 0 2 5 0 0 0 0 0 0 0 0 0 , \" a c c T r a d e P r i c e 2 4 h \" : 1 8 3 1 4 8 0 8 8 9 3 0 . 1 2 7 1 8 6 0 0 , \" a c c T r a d e V o l u m e \" : 3 0 4 8 5 9 . 7 7 5 8 5 6 6 0 , \" a c c T r a d e V o l u m e 2 4 h \" : 7 9 1 6 2 4 . 7 8 8 3 0 5 5 3 , \" a s k B i d \" : \" A S K \" , \" a c c A s k V o l u m e \" : 1 7 0 4 9 1 . 9 0 1 4 5 5 6 8 , \" a c c B i d V o l u m e \" : 1 3 4 3 6 7 . 8 7 4 4 0 0 9 2 , \" h i g h e s t 5 2 W e e k P r i c e \" : 3 0 7 5 0 0 . 0 0 0 0 0 0 0 0 , \" h i g h e s t 5 2 W e e k D a t e \" : \" 2 0 2 4 - 0 3 - 1 8 \" , \" l o w e s t 5 2 W e e k P r i c e \" : 2 3 7 3 0 . 0 0 0 0 0 0 0 0 , \" l o w e s t 5 2 W e e k D a t e \" : \" 2 0 2 3 - 0 9 - 1 1 \" , \" t r a d e S t a t u s \" : n u l l , \" m a r k e t S t a t e \" : \" A C T I V E \" , \" m a r k e t S t a t e F o r I O S \" : \" A C T I V E \" , \" i s T r a d i n g S u s p e n d e d \" : f a l s e , \" d e l i s t i n g D a t e \" : n u l l , \" m a r k e t W a r n i n g \" : \" N O N E \" , \" t i m e s t a m p \" : 1 7 2 2 5 8 6 1 3 2 1 1 4 } , { \" c o d e \" : \" C R I X . U P B I T . K R W - X R P \" , \" t r a d e D a t e \" : \" 2 0 2 4 0 8 0 2 \" , \" t r a d e T i m e \" : \" 0 8 0 8 5 2 \" , \" t r a d e D a t e K s t \" : \" 2 0 2 4 0 8 0 2 \" , \" t r a d e T i m e K s t \" : \" 1 7 0 8 5 2 \" , \" t r a d e T i m e s t a m p \" : 1 7 2 2 5 8 6 1 3 2 8 2 6 , \" o p e n i n g P r i c e \" : 8 3 7 . 7 0 0 0 0 0 0 0 , \" h i g h P r i c e \" : 8 3 8 . 7 0 0 0 0 0 0 0 , \" l o w P r i c e \" : 7 8 2 . 1 0 0 0 0 0 0 0 , \" t r a d e P r i c e \" : 8 0 3 . 4 0 0 0 0 0 0 0 , \" p r e v C l o s i n g P r i c e \" : 8 3 7 . 3 0 0 0 0 0 0 0 , \" c h a n g e \" : \" F A L L \" , \" c h a n g e P r i c e \" : 3 3 . 9 0 0 0 0 0 0 0 , \" s i g n e d C h a n g e P r i c e \" : - 3 3 . 9 0 0 0 0 0 0 0 , \" c h a n g e R a t e \" : 0 . 0 4 0 4 8 7 2 8 0 5 , \" s i g n e d C h a n g e R a t e \" : - 0 . 0 4 0 4 8 7 2 8 0 5 , \" t r a d e V o l u m e \" : 6 6 2 . 6 3 8 4 9 4 0 0 , \" a c c T r a d e P r i c e \" : 1 3 4 4 1 5 3 2 8 8 8 4 . 4 6 2 9 1 9 0 6 0 0 0 0 0 0 0 0 , \" a c c T r a d e P r i c e 2 4 h \" : 2 9 5 4 1 8 1 8 2 1 0 9 . 2 7 8 0 8 2 2 2 , \" a c c T r a d e V o l u m e \" : 1 6 6 2 7 8 3 1 0 . 0 4 2 0 5 4 9 7 , \" a c c T r a d e V o l u m e 2 4 h \" : 3 5 9 2 8 1 2 4 7 . 1 7 8 0 5 0 8 2 , \" a s k B i d \" : \" B I D \" , \" a c c A s k V o l u m e \" : 9 9 7 7 9 8 7 8 . 0 2 2 3 3 2 9 2 , \" a c c B i d V o l u m e \" : 6 6 4 9 8 4 3 2 . 0 1 9 7 2 2 0 5 , \" h i g h e s t 5 2 W e e k P r i c e \" : 1 0 3 3 . 0 0 0 0 0 0 0 0 , \" h i g h e s t 5 2 W e e k D a t e \" : \" 2 0 2 4 - 0 3 - 1 1 \" , \" l o w e s t 5 2 W e e k P r i c e \" : 5 6 0 . 2 0 0 0 0 0 0 0 , \" l o w e s t 5 2 W e e k D a t e \" : \" 2 0 2 4 - 0 7 - 0 5 \" , \" t r a d e S t a t u s \" : n u l l , \" m a r k e t S t a t e \" : \" A C T I V E \" , \" m a r k e t S t a t e F o r I O S \" : \" A C T I V E \" , \" i s T r a d i n g S u s p e n d e d \" : f a l s e , \" d e l i s t i n g D a t e \" : n u l l , \" m a r k e t W a r n i n g \" : \" N O N E \" , \" t i m e s t a m p \" : 1 7 2 2 5 8 6 1 3 2 8 5 9 } ] "
     ]
    }
   ],
   "source": [
    "for i in soup.contents[0]:\n",
    "    print(i, end=' ')"
   ]
  },
  {
   "cell_type": "code",
   "execution_count": 153,
   "metadata": {},
   "outputs": [
    {
     "name": "stdout",
     "output_type": "stream",
     "text": [
      "[{\"code\":\"CRIX.UPBIT.KRW-BTC\",\"tradeDate\":\"20240802\",\"tradeTime\":\"080854\",\"tradeDateKst\":\"20240802\",\"tradeTimeKst\":\"170854\",\"tradeTimestamp\":1722586134809,\"openingPrice\":91789000.00000000,\"highPrice\":92200000.00000000,\"lowPrice\":89600000.00000000,\"tradePrice\":90350000.00000000,\"prevClosingPrice\":91789000.00000000,\"change\":\"FALL\",\"changePrice\":1439000.00000000,\"signedChangePrice\":-1439000.00000000,\"changeRate\":0.0156772598,\"signedChangeRate\":-0.0156772598,\"tradeVolume\":0.00078092,\"accTradePrice\":114130338791.1648800000000000,\"accTradePrice24h\":369533279326.89488000,\"accTradeVolume\":1260.71225688,\"accTradeVolume24h\":4097.49926019,\"askBid\":\"BID\",\"accAskVolume\":646.72065421,\"accBidVolume\":613.99160267,\"highest52WeekPrice\":105000000.00000000,\"highest52WeekDate\":\"2024-03-14\",\"lowest52WeekPrice\":34100000.00000000,\"lowest52WeekDate\":\"2023-09-11\",\"tradeStatus\":null,\"marketState\":\"ACTIVE\",\"marketStateForIOS\":\"ACTIVE\",\"isTradingSuspended\":false,\"delistingDate\":null,\"marketWarning\":\"NONE\",\"timestamp\":1722586134840},{\"code\":\"CRIX.UPBIT.KRW-ETH\",\"tradeDate\":\"20240802\",\"tradeTime\":\"080855\",\"tradeDateKst\":\"20240802\",\"tradeTimeKst\":\"170855\",\"tradeTimestamp\":1722586135431,\"openingPrice\":4500000.00000000,\"highPrice\":4521000.00000000,\"lowPrice\":4390000.00000000,\"tradePrice\":4426000.00000000,\"prevClosingPrice\":4500000.00000000,\"change\":\"FALL\",\"changePrice\":74000.00000000,\"signedChangePrice\":-74000.00000000,\"changeRate\":0.0164444444,\"signedChangeRate\":-0.0164444444,\"tradeVolume\":0.03802661,\"accTradePrice\":25647671374.6705200000000000,\"accTradePrice24h\":78785815972.40951000,\"accTradeVolume\":5769.92195093,\"accTradeVolume24h\":17748.46795208,\"askBid\":\"BID\",\"accAskVolume\":3142.16342906,\"accBidVolume\":2627.75852187,\"highest52WeekPrice\":5783000.00000000,\"highest52WeekDate\":\"2024-03-13\",\"lowest52WeekPrice\":2087000.00000000,\"lowest52WeekDate\":\"2023-10-12\",\"tradeStatus\":null,\"marketState\":\"ACTIVE\",\"marketStateForIOS\":\"ACTIVE\",\"isTradingSuspended\":false,\"delistingDate\":null,\"marketWarning\":\"NONE\",\"timestamp\":1722586135450},{\"code\":\"CRIX.UPBIT.KRW-USDT\",\"tradeDate\":\"20240802\",\"tradeTime\":\"080841\",\"tradeDateKst\":\"20240802\",\"tradeTimeKst\":\"170841\",\"tradeTimestamp\":1722586121562,\"openingPrice\":1405.00000000,\"highPrice\":1408.00000000,\"lowPrice\":1401.00000000,\"tradePrice\":1405.00000000,\"prevClosingPrice\":1405.00000000,\"change\":\"EVEN\",\"changePrice\":0E-8,\"signedChangePrice\":0E-8,\"changeRate\":0,\"signedChangeRate\":0,\"tradeVolume\":183.75947161,\"accTradePrice\":11838606217.0639044900000000,\"accTradePrice24h\":51922889009.39662262,\"accTradeVolume\":8432188.83246265,\"accTradeVolume24h\":36933079.95002257,\"askBid\":\"ASK\",\"accAskVolume\":2974823.67301848,\"accBidVolume\":5457365.15944417,\"highest52WeekPrice\":1448.00000000,\"highest52WeekDate\":\"2024-07-05\",\"lowest52WeekPrice\":1289.00000000,\"lowest52WeekDate\":\"2024-06-07\",\"tradeStatus\":null,\"marketState\":\"ACTIVE\",\"marketStateForIOS\":\"ACTIVE\",\"isTradingSuspended\":false,\"delistingDate\":null,\"marketWarning\":\"NONE\",\"timestamp\":1722586121592},{\"code\":\"CRIX.UPBIT.KRW-SOL\",\"tradeDate\":\"20240802\",\"tradeTime\":\"080852\",\"tradeDateKst\":\"20240802\",\"tradeTimeKst\":\"170852\",\"tradeTimestamp\":1722586132092,\"openingPrice\":235400.00000000,\"highPrice\":238250.00000000,\"lowPrice\":223600.00000000,\"tradePrice\":227500.00000000,\"prevClosingPrice\":235300.00000000,\"change\":\"FALL\",\"changePrice\":7800.00000000,\"signedChangePrice\":-7800.00000000,\"changeRate\":0.0331491713,\"signedChangeRate\":-0.0331491713,\"tradeVolume\":2.38253529,\"accTradePrice\":70030371007.3894025000000000,\"accTradePrice24h\":183148088930.12718600,\"accTradeVolume\":304859.77585660,\"accTradeVolume24h\":791624.78830553,\"askBid\":\"ASK\",\"accAskVolume\":170491.90145568,\"accBidVolume\":134367.87440092,\"highest52WeekPrice\":307500.00000000,\"highest52WeekDate\":\"2024-03-18\",\"lowest52WeekPrice\":23730.00000000,\"lowest52WeekDate\":\"2023-09-11\",\"tradeStatus\":null,\"marketState\":\"ACTIVE\",\"marketStateForIOS\":\"ACTIVE\",\"isTradingSuspended\":false,\"delistingDate\":null,\"marketWarning\":\"NONE\",\"timestamp\":1722586132114},{\"code\":\"CRIX.UPBIT.KRW-XRP\",\"tradeDate\":\"20240802\",\"tradeTime\":\"080852\",\"tradeDateKst\":\"20240802\",\"tradeTimeKst\":\"170852\",\"tradeTimestamp\":1722586132826,\"openingPrice\":837.70000000,\"highPrice\":838.70000000,\"lowPrice\":782.10000000,\"tradePrice\":803.40000000,\"prevClosingPrice\":837.30000000,\"change\":\"FALL\",\"changePrice\":33.90000000,\"signedChangePrice\":-33.90000000,\"changeRate\":0.0404872805,\"signedChangeRate\":-0.0404872805,\"tradeVolume\":662.63849400,\"accTradePrice\":134415328884.4629190600000000,\"accTradePrice24h\":295418182109.27808222,\"accTradeVolume\":166278310.04205497,\"accTradeVolume24h\":359281247.17805082,\"askBid\":\"BID\",\"accAskVolume\":99779878.02233292,\"accBidVolume\":66498432.01972205,\"highest52WeekPrice\":1033.00000000,\"highest52WeekDate\":\"2024-03-11\",\"lowest52WeekPrice\":560.20000000,\"lowest52WeekDate\":\"2024-07-05\",\"tradeStatus\":null,\"marketState\":\"ACTIVE\",\"marketStateForIOS\":\"ACTIVE\",\"isTradingSuspended\":false,\"delistingDate\":null,\"marketWarning\":\"NONE\",\"timestamp\":1722586132859}]\n"
     ]
    }
   ],
   "source": [
    "for i in soup:\n",
    "    print(i)"
   ]
  },
  {
   "cell_type": "code",
   "execution_count": 160,
   "metadata": {},
   "outputs": [],
   "source": [
    "with open('bitcoin.txt', 'w') as f:\n",
    "    for i in soup:\n",
    "        # print(i)\n",
    "        f.write(i)"
   ]
  },
  {
   "cell_type": "code",
   "execution_count": null,
   "metadata": {},
   "outputs": [],
   "source": []
  }
 ],
 "metadata": {
  "kernelspec": {
   "display_name": "myfirstvirtual1",
   "language": "python",
   "name": "python3"
  },
  "language_info": {
   "codemirror_mode": {
    "name": "ipython",
    "version": 3
   },
   "file_extension": ".py",
   "mimetype": "text/x-python",
   "name": "python",
   "nbconvert_exporter": "python",
   "pygments_lexer": "ipython3",
   "version": "3.9.19"
  }
 },
 "nbformat": 4,
 "nbformat_minor": 2
}
