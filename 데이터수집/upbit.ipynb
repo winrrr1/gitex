{
 "cells": [
  {
   "cell_type": "code",
   "execution_count": 49,
   "metadata": {},
   "outputs": [],
   "source": [
    "# conda install -c conda-forge schedule\n",
    "from datetime import datetime\n",
    "import schedule\n",
    "import requests\n",
    "from bs4 import BeautifulSoup"
   ]
  },
  {
   "cell_type": "code",
   "execution_count": 50,
   "metadata": {},
   "outputs": [],
   "source": [
    "s_code = requests.get(\n",
    "    'https://upbit.com/exchange?code=CRIX.UPBIT.KRW-BTC#:~:text=%ED%99%94%EB%A9%B4%20%EC%84%A4%EC%A0%95-,90%2C299%2C000,KRW,-%2D1.62%25')"
   ]
  },
  {
   "cell_type": "code",
   "execution_count": 51,
   "metadata": {},
   "outputs": [
    {
     "data": {
      "text/plain": [
       "<Response [200]>"
      ]
     },
     "execution_count": 51,
     "metadata": {},
     "output_type": "execute_result"
    }
   ],
   "source": [
    "s_code"
   ]
  },
  {
   "cell_type": "code",
   "execution_count": 52,
   "metadata": {},
   "outputs": [],
   "source": [
    "bs = BeautifulSoup(s_code.content, \"html.parser\")"
   ]
  },
  {
   "cell_type": "code",
   "execution_count": 53,
   "metadata": {},
   "outputs": [
    {
     "data": {
      "text/plain": [
       "<!DOCTYPE html>\n",
       "<html><head> <title>비트코인(BTC) | 업비트(UPbit) 시세 확인 및 거래</title>\n",
       "<meta content=\"비트코인 시세, 비트코인 가격, 비트코인 거래, 비트코인 정보 등 비트코인의 모든 것, 가장 신뢰받는 디지털 자산 거래소 업비트에서 확인해보세요.\" name=\"description\"/>\n",
       "<meta content=\"upbit, 업빗, 업비트, 비트코인, 이더리움, 디지털자산, 디지털자산거래소, 비트코인, Bitcoin, BTC\" name=\"keywords\"/>\n",
       "<meta content=\"https://upbit.com/exchange?code=CRIX.UPBIT.KRW-BTC\" property=\"og:url\"/>\n",
       "<meta content=\"업비트(Upbit)\" property=\"og:site_name\"/>\n",
       "<meta content=\"비트코인(BTC) | 업비트(UPbit) 시세 확인 및 거래\" property=\"og:title\"/>\n",
       "<meta content=\"https://static.upbit.com/upbit-pc/seo/upbit_facebook.png\" property=\"og:image\"/>\n",
       "<meta content=\"1200\" property=\"og:image:width\"/>\n",
       "<meta content=\"627\" property=\"og:image:height\"/>\n",
       "<meta content=\"비트코인 시세, 비트코인 가격, 비트코인 거래, 비트코인 정보 등 비트코인의 모든 것, 가장 신뢰받는 디지털 자산 거래소 업비트에서 확인해보세요.\" property=\"og:description\"/>\n",
       "<meta content=\"ko_kr\" property=\"og:locale\"/>\n",
       "<meta content=\"website\" property=\"og:type\"/>\n",
       "<meta content=\"summary\" name=\"twitter:card\"/>\n",
       "<meta content=\"https://upbit.com/exchange?code=CRIX.UPBIT.KRW-BTC\" name=\"twitter:url\"/>\n",
       "<meta content=\"업비트(Upbit)\" name=\"twitter:site_name\"/>\n",
       "<meta content=\"비트코인(BTC) | 업비트(UPbit) 시세 확인 및 거래\" name=\"twitter:title\"/>\n",
       "<meta content=\"https://static.upbit.com/upbit-pc/seo/upbit_facebook.png\" name=\"twitter:image\"/>\n",
       "<meta content=\"1200\" name=\"twitter:image:width\"/>\n",
       "<meta content=\"627\" name=\"twitter:image:height\"/>\n",
       "<meta content=\"비트코인 시세, 비트코인 가격, 비트코인 거래, 비트코인 정보 등 비트코인의 모든 것, 가장 신뢰받는 디지털 자산 거래소 업비트에서 확인해보세요.\" name=\"twitter:description\"/>\n",
       "<meta content=\"ko_kr\" name=\"twitter:locale\"/>\n",
       "<meta content=\"website\" name=\"twitter:type\"/>\n",
       "<meta content=\"두나무\" name=\"author\"/>\n",
       "<meta content=\"https://static.upbit.com/upbit-pc/seo/upbit_facebook.png\" name=\"image\"/>\n",
       "<link href=\"https://upbit.com/exchange/CRIX.UPBIT.KRW-BTC\" rel=\"canonical\"/> <meta content=\"Mon, 06 Jan 1990 00:00:01 GMT\" http-equiv=\"Expires\"><meta content=\"-1\" http-equiv=\"Expires\"><meta content=\"no-cache\" http-equiv=\"Pragma\"><meta content=\"no-cache\" http-equiv=\"Cache-Control\"><meta charset=\"utf-8\"><meta content=\"IE=edge\" http-equiv=\"X-UA-Compatible\"><meta content=\"telephone=no\" name=\"format-detection\"><meta content=\"width=device-width,user-scalable=no,initial-scale=1,maximum-scale=1,minimum-scale=1\" name=\"viewport\"><meta content=\"width=device-width,initial-scale=1,maximum-scale=1,minimum-scale=1,user-scalable=no\" name=\"viewport\"><link href=\"/favicon.jpg\" rel=\"icon\" sizes=\"32x32\" type=\"image/jpg\"/><link href=\"/favicon.jpg\" rel=\"shortcut icon\"/><link href=\"/manifest.json\" rel=\"manifest\"/><link href=\"https://fonts.googleapis.com\" rel=\"preconnect\"/><link crossorigin=\"\" href=\"https://fonts.gstatic.com\" rel=\"preconnect\"/><link href=\"https://fonts.googleapis.com/css2?family=Noto+Sans+KR:wght@300;400;500;700&amp;family=Roboto:wght@300;400;500;700&amp;display=swap\" rel=\"stylesheet\"/><link href=\"https://fonts.googleapis.com/css?family=Droid+Sans\" rel=\"stylesheet\"/><noscript><img height=\"1\" src=\"https://www.facebook.com/tr?id=621223061560463&amp;ev=PageView&amp;noscript=1\" width=\"1\"/></noscript><script type=\"application/ld+json\">{\n",
       "        \"@context\": \"https://schema.org\",\n",
       "        \"@type\": \"Organization\",\n",
       "        \"name\": \"업비트(Upbit)\",\n",
       "        \"url\": \"https://upbit.com\",\n",
       "        \"sameAs\": [\n",
       "          \"https://play.google.com/store/apps/details?id=com.dunamu.exchange\",\n",
       "          \"https://apps.apple.com/kr/app/id1256371195\",\n",
       "          \"https://twitter.com/Official_Upbit\",\n",
       "          \"https://blog.naver.com/dunamupr\",\n",
       "          \"https://www.instagram.com/upbit_official\",\n",
       "          \"https://www.youtube.com/@UpbitOfficial\"\n",
       "        ]\n",
       "      }</script><script src=\"https://t1.daumcdn.net/mapjsapi/bundle/postcode/prod/postcode.v2.js\"></script><script crossorigin=\"anonymous\" defer=\"defer\" integrity=\"sha384-1NnL+YvbQTXgSAkrnGJ8ae6eDZAnzcLFIV4DZpODZz9X27L81HU8rvhKelPhmJkI\" src=\"https://cdn.upbit.com/upbit-web/sri-v2-manifest-bundle-ac9a9eab71178d50d875.js\"></script><script crossorigin=\"anonymous\" defer=\"defer\" integrity=\"sha384-ppYLm0pM/2uMfdmOTe/rDvbAVpEVPxBYNzNSvq6i6X/CQwTyr1p4OF5rczmdtiGw\" src=\"https://cdn.upbit.com/upbit-web/sri-v2-client-source-bundle-2f13032ebff364001146.js\"></script><script crossorigin=\"anonymous\" defer=\"defer\" integrity=\"sha384-K0hO1wKDZ2ogqPtPbx6Ku61+d+D57stPfs4vdCbmDR+tBnOeEcjB5rFK2Pj9mUnU\" src=\"https://cdn.upbit.com/upbit-web/sri-v2-locale-vendor-bundle-1a4b4733a06e1019440f.js\"></script><script crossorigin=\"anonymous\" defer=\"defer\" integrity=\"sha384-ziDPS0O+yrKvJJocjycdWISUn3zIlgfaZZ4fk2qVbLlNo6p9PI97td3qlnuqQWA2\" src=\"https://cdn.upbit.com/upbit-web/sri-v2-react-vendor-bundle-317213fe9f2f84ba5607.js\"></script><script crossorigin=\"anonymous\" defer=\"defer\" integrity=\"sha384-QxYsZeXTPwH2J0tMbhK1Qy6B+6OmHgSIJPBoh2vZNQweMFcKSnGXiKWB6aFbFQoX\" src=\"https://cdn.upbit.com/upbit-web/sri-v2-chartiq-vendor-be089e5a-bundle-bb650615996d73d63598.js\"></script><script crossorigin=\"anonymous\" defer=\"defer\" integrity=\"sha384-AiHVr/+fAuoIXvM6OMm+axFfMzsbLi0dXR8kZQNlXamohIFbD5tK6ZFlFrU6IGyj\" src=\"https://cdn.upbit.com/upbit-web/sri-v2-chartiq-vendor-f0f2e7e7-bundle-ce69778935fa260e8739.js\"></script><script crossorigin=\"anonymous\" defer=\"defer\" integrity=\"sha384-r2h8S1P6EHimvjoyVdQqaveEhj3FSVbrnrDdVRRtUcZ+okvXITeGx8zXxJ06tPdV\" src=\"https://cdn.upbit.com/upbit-web/sri-v2-chartiq-vendor-646f3c4c-bundle-510a5eb3549c1d7b6eac.js\"></script><script crossorigin=\"anonymous\" defer=\"defer\" integrity=\"sha384-y5+LhgrNr2v0hNT3bv5OjZvnxQDuZ4cpeXoeNXsDFxYiH7+DVGwnomZ2vwwNukK1\" src=\"https://cdn.upbit.com/upbit-web/sri-v2-design-system-vendor-7c24480e-bundle-e38493bcb5fe3a43a355.js\"></script><script crossorigin=\"anonymous\" defer=\"defer\" integrity=\"sha384-SvGUKNlrA6PDTt92eWNNkzZJy7YHQs2mgWIkAwzV/G1hojRPgOloL7grE2z4wIAl\" src=\"https://cdn.upbit.com/upbit-web/sri-v2-design-system-vendor-2f5eac24-bundle-263d1f22859f0ae9c215.js\"></script><script crossorigin=\"anonymous\" defer=\"defer\" integrity=\"sha384-jMBnw0IjkVOTJETvYJ8D1VitPV5yGYU9HYgwAGQoDcR5wFKhN2AgovpZjtIG+cDC\" src=\"https://cdn.upbit.com/upbit-web/sri-v2-lodash-vendor-bundle-705c45bbd605ef43e1cf.js\"></script><script crossorigin=\"anonymous\" defer=\"defer\" integrity=\"sha384-R2cGRSudB92165iUhsAaUOKit0k4sHd0o8qKDIiB4yWda4y25axDv9Y2voHl4vP3\" src=\"https://cdn.upbit.com/upbit-web/sri-v2-vendors-cdd60c62-bundle-2b51f12d8bb4e233aa31.js\"></script><script crossorigin=\"anonymous\" defer=\"defer\" integrity=\"sha384-ztdNpesGFQZu0yFLyYPQJmcMYGreHz2fAKYbrvwE0S8hgt0rRZPuGqlQTPF+dY9B\" src=\"https://cdn.upbit.com/upbit-web/sri-v2-vendors-d2eb5610-bundle-7f82a7b2f587042b1a91.js\"></script><script crossorigin=\"anonymous\" defer=\"defer\" integrity=\"sha384-8AktgClToIgIV7wwCza0Vrp4KwtvMdxDZhtL+eKiDyu0Q/gXnwV42uBSlFoc004y\" src=\"https://cdn.upbit.com/upbit-web/sri-v2-vendors-536eaa00-bundle-e6b207832945a9125ff0.js\"></script><script crossorigin=\"anonymous\" defer=\"defer\" integrity=\"sha384-DWI9ffpf0cBnrBuHZ+SIBgDGlDQmvBGGKDiDBwFXqenOUlQmw6QOWeWBkIBMzBJn\" src=\"https://cdn.upbit.com/upbit-web/sri-v2-vendors-f82e0cd2-bundle-aea11eea6a96e98a6b52.js\"></script><script crossorigin=\"anonymous\" defer=\"defer\" integrity=\"sha384-np5Kw++jiNDEcfeHIphVsKlr74pUFdE/FiO6TC1PkurjeZOE8bRj1ulqBJkmXac7\" src=\"https://cdn.upbit.com/upbit-web/sri-v2-vendors-9241dc7c-bundle-1540475d6661d5fa9579.js\"></script><script crossorigin=\"anonymous\" defer=\"defer\" integrity=\"sha384-6Qp5Lofws4sIyrbJbyQO7DHYRa0pu6piUN6tkX5rB6pNDPjbdYLBBue117V8rPGK\" src=\"https://cdn.upbit.com/upbit-web/sri-v2-vendors-27545368-bundle-044d10601409245d7709.js\"></script><script crossorigin=\"anonymous\" defer=\"defer\" integrity=\"sha384-14T1xj8nIdKSqiL/2jYDyhTDZH//JCnp9PRZKMiRImvmStNQUu01XNYhnk9693fA\" src=\"https://cdn.upbit.com/upbit-web/sri-v2-vendors-866ab763-bundle-27962fd6b6817060ee03.js\"></script><script crossorigin=\"anonymous\" defer=\"defer\" integrity=\"sha384-lfK/5fI4lKdkeO4yl7A/ypPSbww2P4csAlcnlWqf/I3VPsAYrZSqELQQ3xMF+F/8\" src=\"https://cdn.upbit.com/upbit-web/sri-v2-commons-91ce39bd-bundle-4b4cb612354f1a5723ab.js\"></script><script crossorigin=\"anonymous\" defer=\"defer\" integrity=\"sha384-7K2mv2D2D5kQY7xtYIKWk/QGIw+WkEj44M+XaaSsFl8EEBpJCrwe1GgsAjdpmxqv\" src=\"https://cdn.upbit.com/upbit-web/sri-v2-commons-7fff9fb1-bundle-61846b45656847a4f661.js\"></script><script crossorigin=\"anonymous\" defer=\"defer\" integrity=\"sha384-2+YSs1X+5igQvJ3hcA3rIlFYXTXYwoJXyw4Y3s8DhsPDb4LWoN0O5KwBTj/F9IWy\" src=\"https://cdn.upbit.com/upbit-web/sri-v2-commons-6a227378-bundle-a99086a5098281ca4285.js\"></script><script crossorigin=\"anonymous\" defer=\"defer\" integrity=\"sha384-k/9wgvWH3Qqh8kTX6i8w69/DRb7G9+Nx+ntIex2e0Aly/LPkRkyjq4apux+TNz0d\" src=\"https://cdn.upbit.com/upbit-web/sri-v2-commons-9a8b795a-bundle-cdbd345c81342580e40d.js\"></script><script crossorigin=\"anonymous\" defer=\"defer\" integrity=\"sha384-oZQjniol8hxtDZYLJBfySubHODEKLcc92H0OvZb1TZQklr0rVmUu9rJrsI1T480f\" src=\"https://cdn.upbit.com/upbit-web/sri-v2-KR_PC-1f890bb4-bundle-a2203e1df5c9bc2675cf.js\"></script><script crossorigin=\"anonymous\" defer=\"defer\" integrity=\"sha384-Nw0vnT72p/tlqUnFW2z9wwrGAQHILwRnDOOM5ZDB/Wa9OBGDtXf7pZ5C+ZRvcuEL\" src=\"https://cdn.upbit.com/upbit-web/sri-v2-KR_PC-9a8b795a-bundle-7db49e8ad0291071a951.js\"></script><link crossorigin=\"anonymous\" href=\"https://cdn.upbit.com/upbit-web/sri-v2-react-vendor-common-fe1d888d26f4a27f5972.css\" integrity=\"sha384-9CMu9UtP03ZwBj9WbhZ5Ao8V0xUifTi/lbh34DxnhCzAdu8vSY8a0Ee6NnnREb0q\" rel=\"stylesheet\"/><link crossorigin=\"anonymous\" href=\"https://cdn.upbit.com/upbit-web/sri-v2-chartiq-vendor-72d0fca8-common-34b4ffb8e91bf3147fb7.css\" integrity=\"sha384-v/OU0XsAamjpKgwTFCJJ7uGRRlI+ui8O+TEwGbV3MeqIDpst3Kiz6jTMqxiNskW7\" rel=\"stylesheet\"/><link crossorigin=\"anonymous\" href=\"https://cdn.upbit.com/upbit-web/sri-v2-commons-91ce39bd-common-c477037e2a5e4e4cf822.css\" integrity=\"sha384-3N38V1jcIlLvtbD9wHsitzLbh303qcdE3NZkTtY0AVZllzMeIrQlTer9FfCBkHWs\" rel=\"stylesheet\"/><link crossorigin=\"anonymous\" href=\"https://cdn.upbit.com/upbit-web/sri-v2-commons-7fff9fb1-common-5bb94be4de24eab1a7fc.css\" integrity=\"sha384-uPhyyqZDHS2RJplcjNo/zirxT05eXN33LOP58Mt+tAPcswDSpDy7JVlfGGh5DMnY\" rel=\"stylesheet\"/><link crossorigin=\"anonymous\" href=\"https://cdn.upbit.com/upbit-web/sri-v2-KR_PC-1f890bb4-common-633dda5b75e6d56cd41c.css\" integrity=\"sha384-gJPeCMR8Zz+ckiNSrunMy6NturAYPx7KzjYNwr8wFos2LO5VW8DLIrfm7tELZZdQ\" rel=\"stylesheet\"/></meta></meta></meta></meta></meta></meta></meta></meta></meta></head><body class=\"\"> <script nonce=\"3ac4947b75a72ee3778ebc4e89ad86a5\">\n",
       "  window.__PRELOADED_STATE__=JSON.parse(`{\"local\":{\"entry\":\"KR_PC\"},\"entities\":{\"crixMasters\":{\"CRIX.UPBIT.KRW-BTC\":{\"code\":\"CRIX.UPBIT.KRW-BTC\",\"localName\":\"비트코인\",\"koreanName\":\"비트코인\",\"englishName\":\"Bitcoin\",\"pair\":\"BTC\\u002FKRW\",\"baseCurrencyCode\":\"BTC\",\"quoteCurrencyCode\":\"KRW\",\"exchange\":\"UPBIT\",\"marketState\":\"ACTIVE\",\"marketStateForIOS\":\"ACTIVE\",\"isTradingSuspended\":false,\"baseCurrencyDecimalPlace\":8,\"quoteCurrencyDecimalPlace\":0,\"listingDate\":\"2017-09-26\",\"timestamp\":1501485295000,\"tradeStatus\":\"ACTIVE\",\"tradeSupportedMarket\":true}}}}`);\n",
       "</script>\n",
       "<div id=\"root\"></div><div id=\"modal\"></div></body></html>"
      ]
     },
     "execution_count": 53,
     "metadata": {},
     "output_type": "execute_result"
    }
   ],
   "source": [
    "bs"
   ]
  },
  {
   "cell_type": "code",
   "execution_count": 54,
   "metadata": {},
   "outputs": [],
   "source": [
    "ls = bs.find('.mainB section article .marketB .ty01 span.first')"
   ]
  },
  {
   "cell_type": "code",
   "execution_count": 55,
   "metadata": {},
   "outputs": [],
   "source": [
    "ls"
   ]
  },
  {
   "cell_type": "code",
   "execution_count": 56,
   "metadata": {},
   "outputs": [
    {
     "data": {
      "text/plain": [
       "[]"
      ]
     },
     "execution_count": 56,
     "metadata": {},
     "output_type": "execute_result"
    }
   ],
   "source": [
    "bs.select('#UpbitLayout')"
   ]
  },
  {
   "cell_type": "code",
   "execution_count": 57,
   "metadata": {},
   "outputs": [],
   "source": [
    "# UpbitLayout > div:nth-child(4) > div > section.ty01 > article:nth-child(1) > div > span.marketB"
   ]
  },
  {
   "cell_type": "code",
   "execution_count": 58,
   "metadata": {},
   "outputs": [],
   "source": [
    "import requests\n",
    "from bs4 import BeautifulSoup\n",
    "\n",
    "# Upbit 비트코인 시세 URL\n",
    "url = \"https://upbit.com/exchange/CRIX.UPBIT.KRW-BTC\"\n",
    "\n",
    "# URL에서 HTML 받아오기\n",
    "response = requests.get(url)\n",
    "html_content = response.content"
   ]
  },
  {
   "cell_type": "code",
   "execution_count": 59,
   "metadata": {},
   "outputs": [
    {
     "data": {
      "text/plain": [
       "b'<!doctype html><html><head> <title>\\xeb\\xb9\\x84\\xed\\x8a\\xb8\\xec\\xbd\\x94\\xec\\x9d\\xb8(BTC) | \\xec\\x97\\x85\\xeb\\xb9\\x84\\xed\\x8a\\xb8(UPbit) \\xec\\x8b\\x9c\\xec\\x84\\xb8 \\xed\\x99\\x95\\xec\\x9d\\xb8 \\xeb\\xb0\\x8f \\xea\\xb1\\xb0\\xeb\\x9e\\x98</title>\\n    <meta name=\"description\" content=\"\\xeb\\xb9\\x84\\xed\\x8a\\xb8\\xec\\xbd\\x94\\xec\\x9d\\xb8 \\xec\\x8b\\x9c\\xec\\x84\\xb8, \\xeb\\xb9\\x84\\xed\\x8a\\xb8\\xec\\xbd\\x94\\xec\\x9d\\xb8 \\xea\\xb0\\x80\\xea\\xb2\\xa9, \\xeb\\xb9\\x84\\xed\\x8a\\xb8\\xec\\xbd\\x94\\xec\\x9d\\xb8 \\xea\\xb1\\xb0\\xeb\\x9e\\x98, \\xeb\\xb9\\x84\\xed\\x8a\\xb8\\xec\\xbd\\x94\\xec\\x9d\\xb8 \\xec\\xa0\\x95\\xeb\\xb3\\xb4 \\xeb\\x93\\xb1 \\xeb\\xb9\\x84\\xed\\x8a\\xb8\\xec\\xbd\\x94\\xec\\x9d\\xb8\\xec\\x9d\\x98 \\xeb\\xaa\\xa8\\xeb\\x93\\xa0 \\xea\\xb2\\x83, \\xea\\xb0\\x80\\xec\\x9e\\xa5 \\xec\\x8b\\xa0\\xeb\\xa2\\xb0\\xeb\\xb0\\x9b\\xeb\\x8a\\x94 \\xeb\\x94\\x94\\xec\\xa7\\x80\\xed\\x84\\xb8 \\xec\\x9e\\x90\\xec\\x82\\xb0 \\xea\\xb1\\xb0\\xeb\\x9e\\x98\\xec\\x86\\x8c \\xec\\x97\\x85\\xeb\\xb9\\x84\\xed\\x8a\\xb8\\xec\\x97\\x90\\xec\\x84\\x9c \\xed\\x99\\x95\\xec\\x9d\\xb8\\xed\\x95\\xb4\\xeb\\xb3\\xb4\\xec\\x84\\xb8\\xec\\x9a\\x94.\">\\n    <meta name=\"keywords\" content=\"upbit, \\xec\\x97\\x85\\xeb\\xb9\\x97, \\xec\\x97\\x85\\xeb\\xb9\\x84\\xed\\x8a\\xb8, \\xeb\\xb9\\x84\\xed\\x8a\\xb8\\xec\\xbd\\x94\\xec\\x9d\\xb8, \\xec\\x9d\\xb4\\xeb\\x8d\\x94\\xeb\\xa6\\xac\\xec\\x9b\\x80, \\xeb\\x94\\x94\\xec\\xa7\\x80\\xed\\x84\\xb8\\xec\\x9e\\x90\\xec\\x82\\xb0, \\xeb\\x94\\x94\\xec\\xa7\\x80\\xed\\x84\\xb8\\xec\\x9e\\x90\\xec\\x82\\xb0\\xea\\xb1\\xb0\\xeb\\x9e\\x98\\xec\\x86\\x8c, \\xeb\\xb9\\x84\\xed\\x8a\\xb8\\xec\\xbd\\x94\\xec\\x9d\\xb8, Bitcoin, BTC\">\\n    <meta property=\"og:url\" content=\"https://upbit.com/exchange/CRIX.UPBIT.KRW-BTC\">\\n    <meta property=\"og:site_name\" content=\"\\xec\\x97\\x85\\xeb\\xb9\\x84\\xed\\x8a\\xb8(Upbit)\">\\n    <meta property=\"og:title\" content=\"\\xeb\\xb9\\x84\\xed\\x8a\\xb8\\xec\\xbd\\x94\\xec\\x9d\\xb8(BTC) | \\xec\\x97\\x85\\xeb\\xb9\\x84\\xed\\x8a\\xb8(UPbit) \\xec\\x8b\\x9c\\xec\\x84\\xb8 \\xed\\x99\\x95\\xec\\x9d\\xb8 \\xeb\\xb0\\x8f \\xea\\xb1\\xb0\\xeb\\x9e\\x98\">\\n    <meta property=\"og:image\" content=\"https://static.upbit.com/upbit-pc/seo/upbit_facebook.png\">\\n    <meta property=\"og:image:width\" content=\"1200\">\\n    <meta property=\"og:image:height\" content=\"627\">\\n    <meta property=\"og:description\" content=\"\\xeb\\xb9\\x84\\xed\\x8a\\xb8\\xec\\xbd\\x94\\xec\\x9d\\xb8 \\xec\\x8b\\x9c\\xec\\x84\\xb8, \\xeb\\xb9\\x84\\xed\\x8a\\xb8\\xec\\xbd\\x94\\xec\\x9d\\xb8 \\xea\\xb0\\x80\\xea\\xb2\\xa9, \\xeb\\xb9\\x84\\xed\\x8a\\xb8\\xec\\xbd\\x94\\xec\\x9d\\xb8 \\xea\\xb1\\xb0\\xeb\\x9e\\x98, \\xeb\\xb9\\x84\\xed\\x8a\\xb8\\xec\\xbd\\x94\\xec\\x9d\\xb8 \\xec\\xa0\\x95\\xeb\\xb3\\xb4 \\xeb\\x93\\xb1 \\xeb\\xb9\\x84\\xed\\x8a\\xb8\\xec\\xbd\\x94\\xec\\x9d\\xb8\\xec\\x9d\\x98 \\xeb\\xaa\\xa8\\xeb\\x93\\xa0 \\xea\\xb2\\x83, \\xea\\xb0\\x80\\xec\\x9e\\xa5 \\xec\\x8b\\xa0\\xeb\\xa2\\xb0\\xeb\\xb0\\x9b\\xeb\\x8a\\x94 \\xeb\\x94\\x94\\xec\\xa7\\x80\\xed\\x84\\xb8 \\xec\\x9e\\x90\\xec\\x82\\xb0 \\xea\\xb1\\xb0\\xeb\\x9e\\x98\\xec\\x86\\x8c \\xec\\x97\\x85\\xeb\\xb9\\x84\\xed\\x8a\\xb8\\xec\\x97\\x90\\xec\\x84\\x9c \\xed\\x99\\x95\\xec\\x9d\\xb8\\xed\\x95\\xb4\\xeb\\xb3\\xb4\\xec\\x84\\xb8\\xec\\x9a\\x94.\">\\n    <meta property=\"og:locale\" content=\"ko_kr\">\\n    <meta property=\"og:type\" content=\"website\">\\n    <meta name=\"twitter:card\" content=\"summary\">\\n    <meta name=\"twitter:url\" content=\"https://upbit.com/exchange/CRIX.UPBIT.KRW-BTC\">\\n    <meta name=\"twitter:site_name\" content=\"\\xec\\x97\\x85\\xeb\\xb9\\x84\\xed\\x8a\\xb8(Upbit)\">\\n    <meta name=\"twitter:title\" content=\"\\xeb\\xb9\\x84\\xed\\x8a\\xb8\\xec\\xbd\\x94\\xec\\x9d\\xb8(BTC) | \\xec\\x97\\x85\\xeb\\xb9\\x84\\xed\\x8a\\xb8(UPbit) \\xec\\x8b\\x9c\\xec\\x84\\xb8 \\xed\\x99\\x95\\xec\\x9d\\xb8 \\xeb\\xb0\\x8f \\xea\\xb1\\xb0\\xeb\\x9e\\x98\">\\n    <meta name=\"twitter:image\" content=\"https://static.upbit.com/upbit-pc/seo/upbit_facebook.png\">\\n    <meta name=\"twitter:image:width\" content=\"1200\">\\n    <meta name=\"twitter:image:height\" content=\"627\">\\n    <meta name=\"twitter:description\" content=\"\\xeb\\xb9\\x84\\xed\\x8a\\xb8\\xec\\xbd\\x94\\xec\\x9d\\xb8 \\xec\\x8b\\x9c\\xec\\x84\\xb8, \\xeb\\xb9\\x84\\xed\\x8a\\xb8\\xec\\xbd\\x94\\xec\\x9d\\xb8 \\xea\\xb0\\x80\\xea\\xb2\\xa9, \\xeb\\xb9\\x84\\xed\\x8a\\xb8\\xec\\xbd\\x94\\xec\\x9d\\xb8 \\xea\\xb1\\xb0\\xeb\\x9e\\x98, \\xeb\\xb9\\x84\\xed\\x8a\\xb8\\xec\\xbd\\x94\\xec\\x9d\\xb8 \\xec\\xa0\\x95\\xeb\\xb3\\xb4 \\xeb\\x93\\xb1 \\xeb\\xb9\\x84\\xed\\x8a\\xb8\\xec\\xbd\\x94\\xec\\x9d\\xb8\\xec\\x9d\\x98 \\xeb\\xaa\\xa8\\xeb\\x93\\xa0 \\xea\\xb2\\x83, \\xea\\xb0\\x80\\xec\\x9e\\xa5 \\xec\\x8b\\xa0\\xeb\\xa2\\xb0\\xeb\\xb0\\x9b\\xeb\\x8a\\x94 \\xeb\\x94\\x94\\xec\\xa7\\x80\\xed\\x84\\xb8 \\xec\\x9e\\x90\\xec\\x82\\xb0 \\xea\\xb1\\xb0\\xeb\\x9e\\x98\\xec\\x86\\x8c \\xec\\x97\\x85\\xeb\\xb9\\x84\\xed\\x8a\\xb8\\xec\\x97\\x90\\xec\\x84\\x9c \\xed\\x99\\x95\\xec\\x9d\\xb8\\xed\\x95\\xb4\\xeb\\xb3\\xb4\\xec\\x84\\xb8\\xec\\x9a\\x94.\">\\n    <meta name=\"twitter:locale\" content=\"ko_kr\">\\n    <meta name=\"twitter:type\" content=\"website\">\\n    <meta name=\"author\" content=\"\\xeb\\x91\\x90\\xeb\\x82\\x98\\xeb\\xac\\xb4\">\\n    <meta name=\"image\" content=\"https://static.upbit.com/upbit-pc/seo/upbit_facebook.png\">\\n    \\n    <link rel=\"canonical\" href=\"https://upbit.com/exchange/CRIX.UPBIT.KRW-BTC\" />  <meta http-equiv=\"Expires\" content=\"Mon, 06 Jan 1990 00:00:01 GMT\"/><meta http-equiv=\"Expires\" content=\"-1\"/><meta http-equiv=\"Pragma\" content=\"no-cache\"/><meta http-equiv=\"Cache-Control\" content=\"no-cache\"/><meta charset=\"UTF-8\"/><meta http-equiv=\"X-UA-Compatible\" content=\"IE=edge\"/><meta name=\"format-detection\" content=\"telephone=no\"/><meta content=\"width=device-width,user-scalable=no,initial-scale=1,maximum-scale=1,minimum-scale=1\" name=\"viewport\"/><meta name=\"viewport\" content=\"width=device-width,initial-scale=1,maximum-scale=1,minimum-scale=1,user-scalable=no\"/><link rel=\"icon\" type=\"image/jpg\" href=\"/favicon.jpg\" sizes=\"32x32\"/><link rel=\"shortcut icon\" href=\"/favicon.jpg\"/><link rel=\"manifest\" href=\"/manifest.json\"/><link rel=\"preconnect\" href=\"https://fonts.googleapis.com\"/><link rel=\"preconnect\" href=\"https://fonts.gstatic.com\" crossorigin/><link href=\"https://fonts.googleapis.com/css2?family=Noto+Sans+KR:wght@300;400;500;700&family=Roboto:wght@300;400;500;700&display=swap\" rel=\"stylesheet\"/><link href=\"https://fonts.googleapis.com/css?family=Droid+Sans\" rel=\"stylesheet\"/><noscript><img height=\"1\" width=\"1\" src=\"https://www.facebook.com/tr?id=621223061560463&ev=PageView&noscript=1\"/></noscript><script type=\"application/ld+json\">{\\n        \"@context\": \"https://schema.org\",\\n        \"@type\": \"Organization\",\\n        \"name\": \"\\xec\\x97\\x85\\xeb\\xb9\\x84\\xed\\x8a\\xb8(Upbit)\",\\n        \"url\": \"https://upbit.com\",\\n        \"sameAs\": [\\n          \"https://play.google.com/store/apps/details?id=com.dunamu.exchange\",\\n          \"https://apps.apple.com/kr/app/id1256371195\",\\n          \"https://twitter.com/Official_Upbit\",\\n          \"https://blog.naver.com/dunamupr\",\\n          \"https://www.instagram.com/upbit_official\",\\n          \"https://www.youtube.com/@UpbitOfficial\"\\n        ]\\n      }</script><script src=\"https://t1.daumcdn.net/mapjsapi/bundle/postcode/prod/postcode.v2.js\"></script><script defer=\"defer\" src=\"https://cdn.upbit.com/upbit-web/sri-v2-manifest-bundle-ac9a9eab71178d50d875.js\" integrity=\"sha384-1NnL+YvbQTXgSAkrnGJ8ae6eDZAnzcLFIV4DZpODZz9X27L81HU8rvhKelPhmJkI\" crossorigin=\"anonymous\"></script><script defer=\"defer\" src=\"https://cdn.upbit.com/upbit-web/sri-v2-client-source-bundle-2f13032ebff364001146.js\" integrity=\"sha384-ppYLm0pM/2uMfdmOTe/rDvbAVpEVPxBYNzNSvq6i6X/CQwTyr1p4OF5rczmdtiGw\" crossorigin=\"anonymous\"></script><script defer=\"defer\" src=\"https://cdn.upbit.com/upbit-web/sri-v2-locale-vendor-bundle-1a4b4733a06e1019440f.js\" integrity=\"sha384-K0hO1wKDZ2ogqPtPbx6Ku61+d+D57stPfs4vdCbmDR+tBnOeEcjB5rFK2Pj9mUnU\" crossorigin=\"anonymous\"></script><script defer=\"defer\" src=\"https://cdn.upbit.com/upbit-web/sri-v2-react-vendor-bundle-317213fe9f2f84ba5607.js\" integrity=\"sha384-ziDPS0O+yrKvJJocjycdWISUn3zIlgfaZZ4fk2qVbLlNo6p9PI97td3qlnuqQWA2\" crossorigin=\"anonymous\"></script><script defer=\"defer\" src=\"https://cdn.upbit.com/upbit-web/sri-v2-chartiq-vendor-be089e5a-bundle-bb650615996d73d63598.js\" integrity=\"sha384-QxYsZeXTPwH2J0tMbhK1Qy6B+6OmHgSIJPBoh2vZNQweMFcKSnGXiKWB6aFbFQoX\" crossorigin=\"anonymous\"></script><script defer=\"defer\" src=\"https://cdn.upbit.com/upbit-web/sri-v2-chartiq-vendor-f0f2e7e7-bundle-ce69778935fa260e8739.js\" integrity=\"sha384-AiHVr/+fAuoIXvM6OMm+axFfMzsbLi0dXR8kZQNlXamohIFbD5tK6ZFlFrU6IGyj\" crossorigin=\"anonymous\"></script><script defer=\"defer\" src=\"https://cdn.upbit.com/upbit-web/sri-v2-chartiq-vendor-646f3c4c-bundle-510a5eb3549c1d7b6eac.js\" integrity=\"sha384-r2h8S1P6EHimvjoyVdQqaveEhj3FSVbrnrDdVRRtUcZ+okvXITeGx8zXxJ06tPdV\" crossorigin=\"anonymous\"></script><script defer=\"defer\" src=\"https://cdn.upbit.com/upbit-web/sri-v2-design-system-vendor-7c24480e-bundle-e38493bcb5fe3a43a355.js\" integrity=\"sha384-y5+LhgrNr2v0hNT3bv5OjZvnxQDuZ4cpeXoeNXsDFxYiH7+DVGwnomZ2vwwNukK1\" crossorigin=\"anonymous\"></script><script defer=\"defer\" src=\"https://cdn.upbit.com/upbit-web/sri-v2-design-system-vendor-2f5eac24-bundle-263d1f22859f0ae9c215.js\" integrity=\"sha384-SvGUKNlrA6PDTt92eWNNkzZJy7YHQs2mgWIkAwzV/G1hojRPgOloL7grE2z4wIAl\" crossorigin=\"anonymous\"></script><script defer=\"defer\" src=\"https://cdn.upbit.com/upbit-web/sri-v2-lodash-vendor-bundle-705c45bbd605ef43e1cf.js\" integrity=\"sha384-jMBnw0IjkVOTJETvYJ8D1VitPV5yGYU9HYgwAGQoDcR5wFKhN2AgovpZjtIG+cDC\" crossorigin=\"anonymous\"></script><script defer=\"defer\" src=\"https://cdn.upbit.com/upbit-web/sri-v2-vendors-cdd60c62-bundle-2b51f12d8bb4e233aa31.js\" integrity=\"sha384-R2cGRSudB92165iUhsAaUOKit0k4sHd0o8qKDIiB4yWda4y25axDv9Y2voHl4vP3\" crossorigin=\"anonymous\"></script><script defer=\"defer\" src=\"https://cdn.upbit.com/upbit-web/sri-v2-vendors-d2eb5610-bundle-7f82a7b2f587042b1a91.js\" integrity=\"sha384-ztdNpesGFQZu0yFLyYPQJmcMYGreHz2fAKYbrvwE0S8hgt0rRZPuGqlQTPF+dY9B\" crossorigin=\"anonymous\"></script><script defer=\"defer\" src=\"https://cdn.upbit.com/upbit-web/sri-v2-vendors-536eaa00-bundle-e6b207832945a9125ff0.js\" integrity=\"sha384-8AktgClToIgIV7wwCza0Vrp4KwtvMdxDZhtL+eKiDyu0Q/gXnwV42uBSlFoc004y\" crossorigin=\"anonymous\"></script><script defer=\"defer\" src=\"https://cdn.upbit.com/upbit-web/sri-v2-vendors-f82e0cd2-bundle-aea11eea6a96e98a6b52.js\" integrity=\"sha384-DWI9ffpf0cBnrBuHZ+SIBgDGlDQmvBGGKDiDBwFXqenOUlQmw6QOWeWBkIBMzBJn\" crossorigin=\"anonymous\"></script><script defer=\"defer\" src=\"https://cdn.upbit.com/upbit-web/sri-v2-vendors-9241dc7c-bundle-1540475d6661d5fa9579.js\" integrity=\"sha384-np5Kw++jiNDEcfeHIphVsKlr74pUFdE/FiO6TC1PkurjeZOE8bRj1ulqBJkmXac7\" crossorigin=\"anonymous\"></script><script defer=\"defer\" src=\"https://cdn.upbit.com/upbit-web/sri-v2-vendors-27545368-bundle-044d10601409245d7709.js\" integrity=\"sha384-6Qp5Lofws4sIyrbJbyQO7DHYRa0pu6piUN6tkX5rB6pNDPjbdYLBBue117V8rPGK\" crossorigin=\"anonymous\"></script><script defer=\"defer\" src=\"https://cdn.upbit.com/upbit-web/sri-v2-vendors-866ab763-bundle-27962fd6b6817060ee03.js\" integrity=\"sha384-14T1xj8nIdKSqiL/2jYDyhTDZH//JCnp9PRZKMiRImvmStNQUu01XNYhnk9693fA\" crossorigin=\"anonymous\"></script><script defer=\"defer\" src=\"https://cdn.upbit.com/upbit-web/sri-v2-commons-91ce39bd-bundle-4b4cb612354f1a5723ab.js\" integrity=\"sha384-lfK/5fI4lKdkeO4yl7A/ypPSbww2P4csAlcnlWqf/I3VPsAYrZSqELQQ3xMF+F/8\" crossorigin=\"anonymous\"></script><script defer=\"defer\" src=\"https://cdn.upbit.com/upbit-web/sri-v2-commons-7fff9fb1-bundle-61846b45656847a4f661.js\" integrity=\"sha384-7K2mv2D2D5kQY7xtYIKWk/QGIw+WkEj44M+XaaSsFl8EEBpJCrwe1GgsAjdpmxqv\" crossorigin=\"anonymous\"></script><script defer=\"defer\" src=\"https://cdn.upbit.com/upbit-web/sri-v2-commons-6a227378-bundle-a99086a5098281ca4285.js\" integrity=\"sha384-2+YSs1X+5igQvJ3hcA3rIlFYXTXYwoJXyw4Y3s8DhsPDb4LWoN0O5KwBTj/F9IWy\" crossorigin=\"anonymous\"></script><script defer=\"defer\" src=\"https://cdn.upbit.com/upbit-web/sri-v2-commons-9a8b795a-bundle-cdbd345c81342580e40d.js\" integrity=\"sha384-k/9wgvWH3Qqh8kTX6i8w69/DRb7G9+Nx+ntIex2e0Aly/LPkRkyjq4apux+TNz0d\" crossorigin=\"anonymous\"></script><script defer=\"defer\" src=\"https://cdn.upbit.com/upbit-web/sri-v2-KR_PC-1f890bb4-bundle-a2203e1df5c9bc2675cf.js\" integrity=\"sha384-oZQjniol8hxtDZYLJBfySubHODEKLcc92H0OvZb1TZQklr0rVmUu9rJrsI1T480f\" crossorigin=\"anonymous\"></script><script defer=\"defer\" src=\"https://cdn.upbit.com/upbit-web/sri-v2-KR_PC-9a8b795a-bundle-7db49e8ad0291071a951.js\" integrity=\"sha384-Nw0vnT72p/tlqUnFW2z9wwrGAQHILwRnDOOM5ZDB/Wa9OBGDtXf7pZ5C+ZRvcuEL\" crossorigin=\"anonymous\"></script><link href=\"https://cdn.upbit.com/upbit-web/sri-v2-react-vendor-common-fe1d888d26f4a27f5972.css\" rel=\"stylesheet\" integrity=\"sha384-9CMu9UtP03ZwBj9WbhZ5Ao8V0xUifTi/lbh34DxnhCzAdu8vSY8a0Ee6NnnREb0q\" crossorigin=\"anonymous\"><link href=\"https://cdn.upbit.com/upbit-web/sri-v2-chartiq-vendor-72d0fca8-common-34b4ffb8e91bf3147fb7.css\" rel=\"stylesheet\" integrity=\"sha384-v/OU0XsAamjpKgwTFCJJ7uGRRlI+ui8O+TEwGbV3MeqIDpst3Kiz6jTMqxiNskW7\" crossorigin=\"anonymous\"><link href=\"https://cdn.upbit.com/upbit-web/sri-v2-commons-91ce39bd-common-c477037e2a5e4e4cf822.css\" rel=\"stylesheet\" integrity=\"sha384-3N38V1jcIlLvtbD9wHsitzLbh303qcdE3NZkTtY0AVZllzMeIrQlTer9FfCBkHWs\" crossorigin=\"anonymous\"><link href=\"https://cdn.upbit.com/upbit-web/sri-v2-commons-7fff9fb1-common-5bb94be4de24eab1a7fc.css\" rel=\"stylesheet\" integrity=\"sha384-uPhyyqZDHS2RJplcjNo/zirxT05eXN33LOP58Mt+tAPcswDSpDy7JVlfGGh5DMnY\" crossorigin=\"anonymous\"><link href=\"https://cdn.upbit.com/upbit-web/sri-v2-KR_PC-1f890bb4-common-633dda5b75e6d56cd41c.css\" rel=\"stylesheet\" integrity=\"sha384-gJPeCMR8Zz+ckiNSrunMy6NturAYPx7KzjYNwr8wFos2LO5VW8DLIrfm7tELZZdQ\" crossorigin=\"anonymous\"></head><body class=\"\"> <script nonce=\"d93b2a8b252050dca626a15b8637bafa\">\\n  window.__PRELOADED_STATE__=JSON.parse(`{\"local\":{\"entry\":\"KR_PC\"},\"entities\":{\"crixMasters\":{\"CRIX.UPBIT.KRW-BTC\":{\"code\":\"CRIX.UPBIT.KRW-BTC\",\"localName\":\"\\xeb\\xb9\\x84\\xed\\x8a\\xb8\\xec\\xbd\\x94\\xec\\x9d\\xb8\",\"koreanName\":\"\\xeb\\xb9\\x84\\xed\\x8a\\xb8\\xec\\xbd\\x94\\xec\\x9d\\xb8\",\"englishName\":\"Bitcoin\",\"pair\":\"BTC\\\\u002FKRW\",\"baseCurrencyCode\":\"BTC\",\"quoteCurrencyCode\":\"KRW\",\"exchange\":\"UPBIT\",\"marketState\":\"ACTIVE\",\"marketStateForIOS\":\"ACTIVE\",\"isTradingSuspended\":false,\"baseCurrencyDecimalPlace\":8,\"quoteCurrencyDecimalPlace\":0,\"listingDate\":\"2017-09-26\",\"timestamp\":1501485295000,\"tradeStatus\":\"ACTIVE\",\"tradeSupportedMarket\":true}}}}`);\\n</script>\\n <div id=\"root\"></div><div id=\"modal\"></div></body></html>'"
      ]
     },
     "execution_count": 59,
     "metadata": {},
     "output_type": "execute_result"
    }
   ],
   "source": [
    "html_content"
   ]
  },
  {
   "cell_type": "code",
   "execution_count": 60,
   "metadata": {},
   "outputs": [],
   "source": [
    "# BeautifulSoup으로 HTML 파싱하기\n",
    "soup = BeautifulSoup(html_content, \"html.parser\")"
   ]
  },
  {
   "cell_type": "code",
   "execution_count": 61,
   "metadata": {},
   "outputs": [
    {
     "data": {
      "text/plain": [
       "<!DOCTYPE html>\n",
       "<html><head> <title>비트코인(BTC) | 업비트(UPbit) 시세 확인 및 거래</title>\n",
       "<meta content=\"비트코인 시세, 비트코인 가격, 비트코인 거래, 비트코인 정보 등 비트코인의 모든 것, 가장 신뢰받는 디지털 자산 거래소 업비트에서 확인해보세요.\" name=\"description\"/>\n",
       "<meta content=\"upbit, 업빗, 업비트, 비트코인, 이더리움, 디지털자산, 디지털자산거래소, 비트코인, Bitcoin, BTC\" name=\"keywords\"/>\n",
       "<meta content=\"https://upbit.com/exchange/CRIX.UPBIT.KRW-BTC\" property=\"og:url\"/>\n",
       "<meta content=\"업비트(Upbit)\" property=\"og:site_name\"/>\n",
       "<meta content=\"비트코인(BTC) | 업비트(UPbit) 시세 확인 및 거래\" property=\"og:title\"/>\n",
       "<meta content=\"https://static.upbit.com/upbit-pc/seo/upbit_facebook.png\" property=\"og:image\"/>\n",
       "<meta content=\"1200\" property=\"og:image:width\"/>\n",
       "<meta content=\"627\" property=\"og:image:height\"/>\n",
       "<meta content=\"비트코인 시세, 비트코인 가격, 비트코인 거래, 비트코인 정보 등 비트코인의 모든 것, 가장 신뢰받는 디지털 자산 거래소 업비트에서 확인해보세요.\" property=\"og:description\"/>\n",
       "<meta content=\"ko_kr\" property=\"og:locale\"/>\n",
       "<meta content=\"website\" property=\"og:type\"/>\n",
       "<meta content=\"summary\" name=\"twitter:card\"/>\n",
       "<meta content=\"https://upbit.com/exchange/CRIX.UPBIT.KRW-BTC\" name=\"twitter:url\"/>\n",
       "<meta content=\"업비트(Upbit)\" name=\"twitter:site_name\"/>\n",
       "<meta content=\"비트코인(BTC) | 업비트(UPbit) 시세 확인 및 거래\" name=\"twitter:title\"/>\n",
       "<meta content=\"https://static.upbit.com/upbit-pc/seo/upbit_facebook.png\" name=\"twitter:image\"/>\n",
       "<meta content=\"1200\" name=\"twitter:image:width\"/>\n",
       "<meta content=\"627\" name=\"twitter:image:height\"/>\n",
       "<meta content=\"비트코인 시세, 비트코인 가격, 비트코인 거래, 비트코인 정보 등 비트코인의 모든 것, 가장 신뢰받는 디지털 자산 거래소 업비트에서 확인해보세요.\" name=\"twitter:description\"/>\n",
       "<meta content=\"ko_kr\" name=\"twitter:locale\"/>\n",
       "<meta content=\"website\" name=\"twitter:type\"/>\n",
       "<meta content=\"두나무\" name=\"author\"/>\n",
       "<meta content=\"https://static.upbit.com/upbit-pc/seo/upbit_facebook.png\" name=\"image\"/>\n",
       "<link href=\"https://upbit.com/exchange/CRIX.UPBIT.KRW-BTC\" rel=\"canonical\"/> <meta content=\"Mon, 06 Jan 1990 00:00:01 GMT\" http-equiv=\"Expires\"><meta content=\"-1\" http-equiv=\"Expires\"><meta content=\"no-cache\" http-equiv=\"Pragma\"><meta content=\"no-cache\" http-equiv=\"Cache-Control\"><meta charset=\"utf-8\"><meta content=\"IE=edge\" http-equiv=\"X-UA-Compatible\"><meta content=\"telephone=no\" name=\"format-detection\"><meta content=\"width=device-width,user-scalable=no,initial-scale=1,maximum-scale=1,minimum-scale=1\" name=\"viewport\"><meta content=\"width=device-width,initial-scale=1,maximum-scale=1,minimum-scale=1,user-scalable=no\" name=\"viewport\"><link href=\"/favicon.jpg\" rel=\"icon\" sizes=\"32x32\" type=\"image/jpg\"/><link href=\"/favicon.jpg\" rel=\"shortcut icon\"/><link href=\"/manifest.json\" rel=\"manifest\"/><link href=\"https://fonts.googleapis.com\" rel=\"preconnect\"/><link crossorigin=\"\" href=\"https://fonts.gstatic.com\" rel=\"preconnect\"/><link href=\"https://fonts.googleapis.com/css2?family=Noto+Sans+KR:wght@300;400;500;700&amp;family=Roboto:wght@300;400;500;700&amp;display=swap\" rel=\"stylesheet\"/><link href=\"https://fonts.googleapis.com/css?family=Droid+Sans\" rel=\"stylesheet\"/><noscript><img height=\"1\" src=\"https://www.facebook.com/tr?id=621223061560463&amp;ev=PageView&amp;noscript=1\" width=\"1\"/></noscript><script type=\"application/ld+json\">{\n",
       "        \"@context\": \"https://schema.org\",\n",
       "        \"@type\": \"Organization\",\n",
       "        \"name\": \"업비트(Upbit)\",\n",
       "        \"url\": \"https://upbit.com\",\n",
       "        \"sameAs\": [\n",
       "          \"https://play.google.com/store/apps/details?id=com.dunamu.exchange\",\n",
       "          \"https://apps.apple.com/kr/app/id1256371195\",\n",
       "          \"https://twitter.com/Official_Upbit\",\n",
       "          \"https://blog.naver.com/dunamupr\",\n",
       "          \"https://www.instagram.com/upbit_official\",\n",
       "          \"https://www.youtube.com/@UpbitOfficial\"\n",
       "        ]\n",
       "      }</script><script src=\"https://t1.daumcdn.net/mapjsapi/bundle/postcode/prod/postcode.v2.js\"></script><script crossorigin=\"anonymous\" defer=\"defer\" integrity=\"sha384-1NnL+YvbQTXgSAkrnGJ8ae6eDZAnzcLFIV4DZpODZz9X27L81HU8rvhKelPhmJkI\" src=\"https://cdn.upbit.com/upbit-web/sri-v2-manifest-bundle-ac9a9eab71178d50d875.js\"></script><script crossorigin=\"anonymous\" defer=\"defer\" integrity=\"sha384-ppYLm0pM/2uMfdmOTe/rDvbAVpEVPxBYNzNSvq6i6X/CQwTyr1p4OF5rczmdtiGw\" src=\"https://cdn.upbit.com/upbit-web/sri-v2-client-source-bundle-2f13032ebff364001146.js\"></script><script crossorigin=\"anonymous\" defer=\"defer\" integrity=\"sha384-K0hO1wKDZ2ogqPtPbx6Ku61+d+D57stPfs4vdCbmDR+tBnOeEcjB5rFK2Pj9mUnU\" src=\"https://cdn.upbit.com/upbit-web/sri-v2-locale-vendor-bundle-1a4b4733a06e1019440f.js\"></script><script crossorigin=\"anonymous\" defer=\"defer\" integrity=\"sha384-ziDPS0O+yrKvJJocjycdWISUn3zIlgfaZZ4fk2qVbLlNo6p9PI97td3qlnuqQWA2\" src=\"https://cdn.upbit.com/upbit-web/sri-v2-react-vendor-bundle-317213fe9f2f84ba5607.js\"></script><script crossorigin=\"anonymous\" defer=\"defer\" integrity=\"sha384-QxYsZeXTPwH2J0tMbhK1Qy6B+6OmHgSIJPBoh2vZNQweMFcKSnGXiKWB6aFbFQoX\" src=\"https://cdn.upbit.com/upbit-web/sri-v2-chartiq-vendor-be089e5a-bundle-bb650615996d73d63598.js\"></script><script crossorigin=\"anonymous\" defer=\"defer\" integrity=\"sha384-AiHVr/+fAuoIXvM6OMm+axFfMzsbLi0dXR8kZQNlXamohIFbD5tK6ZFlFrU6IGyj\" src=\"https://cdn.upbit.com/upbit-web/sri-v2-chartiq-vendor-f0f2e7e7-bundle-ce69778935fa260e8739.js\"></script><script crossorigin=\"anonymous\" defer=\"defer\" integrity=\"sha384-r2h8S1P6EHimvjoyVdQqaveEhj3FSVbrnrDdVRRtUcZ+okvXITeGx8zXxJ06tPdV\" src=\"https://cdn.upbit.com/upbit-web/sri-v2-chartiq-vendor-646f3c4c-bundle-510a5eb3549c1d7b6eac.js\"></script><script crossorigin=\"anonymous\" defer=\"defer\" integrity=\"sha384-y5+LhgrNr2v0hNT3bv5OjZvnxQDuZ4cpeXoeNXsDFxYiH7+DVGwnomZ2vwwNukK1\" src=\"https://cdn.upbit.com/upbit-web/sri-v2-design-system-vendor-7c24480e-bundle-e38493bcb5fe3a43a355.js\"></script><script crossorigin=\"anonymous\" defer=\"defer\" integrity=\"sha384-SvGUKNlrA6PDTt92eWNNkzZJy7YHQs2mgWIkAwzV/G1hojRPgOloL7grE2z4wIAl\" src=\"https://cdn.upbit.com/upbit-web/sri-v2-design-system-vendor-2f5eac24-bundle-263d1f22859f0ae9c215.js\"></script><script crossorigin=\"anonymous\" defer=\"defer\" integrity=\"sha384-jMBnw0IjkVOTJETvYJ8D1VitPV5yGYU9HYgwAGQoDcR5wFKhN2AgovpZjtIG+cDC\" src=\"https://cdn.upbit.com/upbit-web/sri-v2-lodash-vendor-bundle-705c45bbd605ef43e1cf.js\"></script><script crossorigin=\"anonymous\" defer=\"defer\" integrity=\"sha384-R2cGRSudB92165iUhsAaUOKit0k4sHd0o8qKDIiB4yWda4y25axDv9Y2voHl4vP3\" src=\"https://cdn.upbit.com/upbit-web/sri-v2-vendors-cdd60c62-bundle-2b51f12d8bb4e233aa31.js\"></script><script crossorigin=\"anonymous\" defer=\"defer\" integrity=\"sha384-ztdNpesGFQZu0yFLyYPQJmcMYGreHz2fAKYbrvwE0S8hgt0rRZPuGqlQTPF+dY9B\" src=\"https://cdn.upbit.com/upbit-web/sri-v2-vendors-d2eb5610-bundle-7f82a7b2f587042b1a91.js\"></script><script crossorigin=\"anonymous\" defer=\"defer\" integrity=\"sha384-8AktgClToIgIV7wwCza0Vrp4KwtvMdxDZhtL+eKiDyu0Q/gXnwV42uBSlFoc004y\" src=\"https://cdn.upbit.com/upbit-web/sri-v2-vendors-536eaa00-bundle-e6b207832945a9125ff0.js\"></script><script crossorigin=\"anonymous\" defer=\"defer\" integrity=\"sha384-DWI9ffpf0cBnrBuHZ+SIBgDGlDQmvBGGKDiDBwFXqenOUlQmw6QOWeWBkIBMzBJn\" src=\"https://cdn.upbit.com/upbit-web/sri-v2-vendors-f82e0cd2-bundle-aea11eea6a96e98a6b52.js\"></script><script crossorigin=\"anonymous\" defer=\"defer\" integrity=\"sha384-np5Kw++jiNDEcfeHIphVsKlr74pUFdE/FiO6TC1PkurjeZOE8bRj1ulqBJkmXac7\" src=\"https://cdn.upbit.com/upbit-web/sri-v2-vendors-9241dc7c-bundle-1540475d6661d5fa9579.js\"></script><script crossorigin=\"anonymous\" defer=\"defer\" integrity=\"sha384-6Qp5Lofws4sIyrbJbyQO7DHYRa0pu6piUN6tkX5rB6pNDPjbdYLBBue117V8rPGK\" src=\"https://cdn.upbit.com/upbit-web/sri-v2-vendors-27545368-bundle-044d10601409245d7709.js\"></script><script crossorigin=\"anonymous\" defer=\"defer\" integrity=\"sha384-14T1xj8nIdKSqiL/2jYDyhTDZH//JCnp9PRZKMiRImvmStNQUu01XNYhnk9693fA\" src=\"https://cdn.upbit.com/upbit-web/sri-v2-vendors-866ab763-bundle-27962fd6b6817060ee03.js\"></script><script crossorigin=\"anonymous\" defer=\"defer\" integrity=\"sha384-lfK/5fI4lKdkeO4yl7A/ypPSbww2P4csAlcnlWqf/I3VPsAYrZSqELQQ3xMF+F/8\" src=\"https://cdn.upbit.com/upbit-web/sri-v2-commons-91ce39bd-bundle-4b4cb612354f1a5723ab.js\"></script><script crossorigin=\"anonymous\" defer=\"defer\" integrity=\"sha384-7K2mv2D2D5kQY7xtYIKWk/QGIw+WkEj44M+XaaSsFl8EEBpJCrwe1GgsAjdpmxqv\" src=\"https://cdn.upbit.com/upbit-web/sri-v2-commons-7fff9fb1-bundle-61846b45656847a4f661.js\"></script><script crossorigin=\"anonymous\" defer=\"defer\" integrity=\"sha384-2+YSs1X+5igQvJ3hcA3rIlFYXTXYwoJXyw4Y3s8DhsPDb4LWoN0O5KwBTj/F9IWy\" src=\"https://cdn.upbit.com/upbit-web/sri-v2-commons-6a227378-bundle-a99086a5098281ca4285.js\"></script><script crossorigin=\"anonymous\" defer=\"defer\" integrity=\"sha384-k/9wgvWH3Qqh8kTX6i8w69/DRb7G9+Nx+ntIex2e0Aly/LPkRkyjq4apux+TNz0d\" src=\"https://cdn.upbit.com/upbit-web/sri-v2-commons-9a8b795a-bundle-cdbd345c81342580e40d.js\"></script><script crossorigin=\"anonymous\" defer=\"defer\" integrity=\"sha384-oZQjniol8hxtDZYLJBfySubHODEKLcc92H0OvZb1TZQklr0rVmUu9rJrsI1T480f\" src=\"https://cdn.upbit.com/upbit-web/sri-v2-KR_PC-1f890bb4-bundle-a2203e1df5c9bc2675cf.js\"></script><script crossorigin=\"anonymous\" defer=\"defer\" integrity=\"sha384-Nw0vnT72p/tlqUnFW2z9wwrGAQHILwRnDOOM5ZDB/Wa9OBGDtXf7pZ5C+ZRvcuEL\" src=\"https://cdn.upbit.com/upbit-web/sri-v2-KR_PC-9a8b795a-bundle-7db49e8ad0291071a951.js\"></script><link crossorigin=\"anonymous\" href=\"https://cdn.upbit.com/upbit-web/sri-v2-react-vendor-common-fe1d888d26f4a27f5972.css\" integrity=\"sha384-9CMu9UtP03ZwBj9WbhZ5Ao8V0xUifTi/lbh34DxnhCzAdu8vSY8a0Ee6NnnREb0q\" rel=\"stylesheet\"/><link crossorigin=\"anonymous\" href=\"https://cdn.upbit.com/upbit-web/sri-v2-chartiq-vendor-72d0fca8-common-34b4ffb8e91bf3147fb7.css\" integrity=\"sha384-v/OU0XsAamjpKgwTFCJJ7uGRRlI+ui8O+TEwGbV3MeqIDpst3Kiz6jTMqxiNskW7\" rel=\"stylesheet\"/><link crossorigin=\"anonymous\" href=\"https://cdn.upbit.com/upbit-web/sri-v2-commons-91ce39bd-common-c477037e2a5e4e4cf822.css\" integrity=\"sha384-3N38V1jcIlLvtbD9wHsitzLbh303qcdE3NZkTtY0AVZllzMeIrQlTer9FfCBkHWs\" rel=\"stylesheet\"/><link crossorigin=\"anonymous\" href=\"https://cdn.upbit.com/upbit-web/sri-v2-commons-7fff9fb1-common-5bb94be4de24eab1a7fc.css\" integrity=\"sha384-uPhyyqZDHS2RJplcjNo/zirxT05eXN33LOP58Mt+tAPcswDSpDy7JVlfGGh5DMnY\" rel=\"stylesheet\"/><link crossorigin=\"anonymous\" href=\"https://cdn.upbit.com/upbit-web/sri-v2-KR_PC-1f890bb4-common-633dda5b75e6d56cd41c.css\" integrity=\"sha384-gJPeCMR8Zz+ckiNSrunMy6NturAYPx7KzjYNwr8wFos2LO5VW8DLIrfm7tELZZdQ\" rel=\"stylesheet\"/></meta></meta></meta></meta></meta></meta></meta></meta></meta></head><body class=\"\"> <script nonce=\"d93b2a8b252050dca626a15b8637bafa\">\n",
       "  window.__PRELOADED_STATE__=JSON.parse(`{\"local\":{\"entry\":\"KR_PC\"},\"entities\":{\"crixMasters\":{\"CRIX.UPBIT.KRW-BTC\":{\"code\":\"CRIX.UPBIT.KRW-BTC\",\"localName\":\"비트코인\",\"koreanName\":\"비트코인\",\"englishName\":\"Bitcoin\",\"pair\":\"BTC\\u002FKRW\",\"baseCurrencyCode\":\"BTC\",\"quoteCurrencyCode\":\"KRW\",\"exchange\":\"UPBIT\",\"marketState\":\"ACTIVE\",\"marketStateForIOS\":\"ACTIVE\",\"isTradingSuspended\":false,\"baseCurrencyDecimalPlace\":8,\"quoteCurrencyDecimalPlace\":0,\"listingDate\":\"2017-09-26\",\"timestamp\":1501485295000,\"tradeStatus\":\"ACTIVE\",\"tradeSupportedMarket\":true}}}}`);\n",
       "</script>\n",
       "<div id=\"root\"></div><div id=\"modal\"></div></body></html>"
      ]
     },
     "execution_count": 61,
     "metadata": {},
     "output_type": "execute_result"
    }
   ],
   "source": [
    "soup"
   ]
  },
  {
   "cell_type": "code",
   "execution_count": 62,
   "metadata": {},
   "outputs": [],
   "source": [
    "# 현재 비트코인 시세 추출\n",
    "current_price = soup.find(\"strong\", {\"class\": \"price\"})"
   ]
  },
  {
   "cell_type": "code",
   "execution_count": 63,
   "metadata": {},
   "outputs": [],
   "source": [
    "current_price"
   ]
  },
  {
   "cell_type": "code",
   "execution_count": 64,
   "metadata": {},
   "outputs": [
    {
     "name": "stdout",
     "output_type": "stream",
     "text": [
      "현재 비트코인 가격: None\n"
     ]
    }
   ],
   "source": [
    "print(f\"현재 비트코인 가격: {current_price}\")"
   ]
  },
  {
   "cell_type": "markdown",
   "metadata": {},
   "source": [
    "---"
   ]
  },
  {
   "cell_type": "code",
   "execution_count": 39,
   "metadata": {},
   "outputs": [],
   "source": [
    "url = \"https://crix-api-cdn.upbit.com/v1/crix/recent?codes=CRIX.UPBIT.KRW-BTC,CRIX.UPBIT.KRW-ETH,CRIX.UPBIT.KRW-USDT,CRIX.UPBIT.KRW-SOL,CRIX.UPBIT.KRW-XRP\"\n",
    "response = requests.get(url)\n",
    "soup = BeautifulSoup(response.content, \"html.parser\")"
   ]
  },
  {
   "cell_type": "code",
   "execution_count": 40,
   "metadata": {},
   "outputs": [
    {
     "data": {
      "text/plain": [
       "[{\"code\":\"CRIX.UPBIT.KRW-BTC\",\"tradeDate\":\"20240802\",\"tradeTime\":\"093731\",\"tradeDateKst\":\"20240802\",\"tradeTimeKst\":\"183731\",\"tradeTimestamp\":1722591451128,\"openingPrice\":91789000.00000000,\"highPrice\":92200000.00000000,\"lowPrice\":89600000.00000000,\"tradePrice\":90587000.00000000,\"prevClosingPrice\":91789000.00000000,\"change\":\"FALL\",\"changePrice\":1202000.00000000,\"signedChangePrice\":-1202000.00000000,\"changeRate\":0.0130952511,\"signedChangeRate\":-0.0130952511,\"tradeVolume\":0.00110392,\"accTradePrice\":124192385375.6900500000000000,\"accTradePrice24h\":366947715780.38731000,\"accTradeVolume\":1372.09711722,\"accTradeVolume24h\":4069.44404635,\"askBid\":\"BID\",\"accAskVolume\":694.31544488,\"accBidVolume\":677.78167234,\"highest52WeekPrice\":105000000.00000000,\"highest52WeekDate\":\"2024-03-14\",\"lowest52WeekPrice\":34100000.00000000,\"lowest52WeekDate\":\"2023-09-11\",\"tradeStatus\":null,\"marketState\":\"ACTIVE\",\"marketStateForIOS\":\"ACTIVE\",\"isTradingSuspended\":false,\"delistingDate\":null,\"marketWarning\":\"NONE\",\"timestamp\":1722591451149},{\"code\":\"CRIX.UPBIT.KRW-ETH\",\"tradeDate\":\"20240802\",\"tradeTime\":\"093744\",\"tradeDateKst\":\"20240802\",\"tradeTimeKst\":\"183744\",\"tradeTimestamp\":1722591464554,\"openingPrice\":4500000.00000000,\"highPrice\":4521000.00000000,\"lowPrice\":4390000.00000000,\"tradePrice\":4433000.00000000,\"prevClosingPrice\":4500000.00000000,\"change\":\"FALL\",\"changePrice\":67000.00000000,\"signedChangePrice\":-67000.00000000,\"changeRate\":0.0148888889,\"signedChangeRate\":-0.0148888889,\"tradeVolume\":0.18304007,\"accTradePrice\":27840498236.1532100000000000,\"accTradePrice24h\":77768671722.34690000,\"accTradeVolume\":6265.62413987,\"accTradeVolume24h\":17527.06502615,\"askBid\":\"ASK\",\"accAskVolume\":3390.57725812,\"accBidVolume\":2875.04688175,\"highest52WeekPrice\":5783000.00000000,\"highest52WeekDate\":\"2024-03-13\",\"lowest52WeekPrice\":2087000.00000000,\"lowest52WeekDate\":\"2023-10-12\",\"tradeStatus\":null,\"marketState\":\"ACTIVE\",\"marketStateForIOS\":\"ACTIVE\",\"isTradingSuspended\":false,\"delistingDate\":null,\"marketWarning\":\"NONE\",\"timestamp\":1722591464587},{\"code\":\"CRIX.UPBIT.KRW-USDT\",\"tradeDate\":\"20240802\",\"tradeTime\":\"093742\",\"tradeDateKst\":\"20240802\",\"tradeTimeKst\":\"183742\",\"tradeTimestamp\":1722591462420,\"openingPrice\":1405.00000000,\"highPrice\":1408.00000000,\"lowPrice\":1401.00000000,\"tradePrice\":1403.00000000,\"prevClosingPrice\":1405.00000000,\"change\":\"FALL\",\"changePrice\":2.00000000,\"signedChangePrice\":-2.00000000,\"changeRate\":0.0014234875,\"signedChangeRate\":-0.0014234875,\"tradeVolume\":584.54410000,\"accTradePrice\":12853751110.2378216800000000,\"accTradePrice24h\":48370876220.72959117,\"accTradeVolume\":9155023.37555547,\"accTradeVolume24h\":34403104.42729721,\"askBid\":\"ASK\",\"accAskVolume\":3243472.55755016,\"accBidVolume\":5911550.81800531,\"highest52WeekPrice\":1448.00000000,\"highest52WeekDate\":\"2024-07-05\",\"lowest52WeekPrice\":1289.00000000,\"lowest52WeekDate\":\"2024-06-07\",\"tradeStatus\":null,\"marketState\":\"ACTIVE\",\"marketStateForIOS\":\"ACTIVE\",\"isTradingSuspended\":false,\"delistingDate\":null,\"marketWarning\":\"NONE\",\"timestamp\":1722591462454},{\"code\":\"CRIX.UPBIT.KRW-SOL\",\"tradeDate\":\"20240802\",\"tradeTime\":\"093745\",\"tradeDateKst\":\"20240802\",\"tradeTimeKst\":\"183745\",\"tradeTimestamp\":1722591465095,\"openingPrice\":235400.00000000,\"highPrice\":238250.00000000,\"lowPrice\":223600.00000000,\"tradePrice\":230300.00000000,\"prevClosingPrice\":235300.00000000,\"change\":\"FALL\",\"changePrice\":5000.00000000,\"signedChangePrice\":-5000.00000000,\"changeRate\":0.0212494688,\"signedChangeRate\":-0.0212494688,\"tradeVolume\":1.70117798,\"accTradePrice\":78318563967.2272350000000000,\"accTradePrice24h\":185533050717.30871750,\"accTradeVolume\":341120.27970356,\"accTradeVolume24h\":803072.88363726,\"askBid\":\"BID\",\"accAskVolume\":187342.02454472,\"accBidVolume\":153778.25515884,\"highest52WeekPrice\":307500.00000000,\"highest52WeekDate\":\"2024-03-18\",\"lowest52WeekPrice\":23730.00000000,\"lowest52WeekDate\":\"2023-09-11\",\"tradeStatus\":null,\"marketState\":\"ACTIVE\",\"marketStateForIOS\":\"ACTIVE\",\"isTradingSuspended\":false,\"delistingDate\":null,\"marketWarning\":\"NONE\",\"timestamp\":1722591465117},{\"code\":\"CRIX.UPBIT.KRW-XRP\",\"tradeDate\":\"20240802\",\"tradeTime\":\"093745\",\"tradeDateKst\":\"20240802\",\"tradeTimeKst\":\"183745\",\"tradeTimestamp\":1722591465089,\"openingPrice\":837.70000000,\"highPrice\":838.70000000,\"lowPrice\":782.10000000,\"tradePrice\":809.50000000,\"prevClosingPrice\":837.30000000,\"change\":\"FALL\",\"changePrice\":27.80000000,\"signedChangePrice\":-27.80000000,\"changeRate\":0.0332019587,\"signedChangeRate\":-0.0332019587,\"tradeVolume\":38.41877702,\"accTradePrice\":144553599187.7200359170000000,\"accTradePrice24h\":296798148079.56804573,\"accTradeVolume\":178906800.50078765,\"accTradeVolume24h\":361652553.28456834,\"askBid\":\"BID\",\"accAskVolume\":106350776.69621074,\"accBidVolume\":72556023.80457691,\"highest52WeekPrice\":1033.00000000,\"highest52WeekDate\":\"2024-03-11\",\"lowest52WeekPrice\":560.20000000,\"lowest52WeekDate\":\"2024-07-05\",\"tradeStatus\":null,\"marketState\":\"ACTIVE\",\"marketStateForIOS\":\"ACTIVE\",\"isTradingSuspended\":false,\"delistingDate\":null,\"marketWarning\":\"NONE\",\"timestamp\":1722591465113}]"
      ]
     },
     "execution_count": 40,
     "metadata": {},
     "output_type": "execute_result"
    }
   ],
   "source": [
    "soup"
   ]
  },
  {
   "cell_type": "code",
   "execution_count": 41,
   "metadata": {},
   "outputs": [
    {
     "data": {
      "text/plain": [
       "['[{\"code\":\"CRIX.UPBIT.KRW-BTC\",\"tradeDate\":\"20240802\",\"tradeTime\":\"093731\",\"tradeDateKst\":\"20240802\",\"tradeTimeKst\":\"183731\",\"tradeTimestamp\":1722591451128,\"openingPrice\":91789000.00000000,\"highPrice\":92200000.00000000,\"lowPrice\":89600000.00000000,\"tradePrice\":90587000.00000000,\"prevClosingPrice\":91789000.00000000,\"change\":\"FALL\",\"changePrice\":1202000.00000000,\"signedChangePrice\":-1202000.00000000,\"changeRate\":0.0130952511,\"signedChangeRate\":-0.0130952511,\"tradeVolume\":0.00110392,\"accTradePrice\":124192385375.6900500000000000,\"accTradePrice24h\":366947715780.38731000,\"accTradeVolume\":1372.09711722,\"accTradeVolume24h\":4069.44404635,\"askBid\":\"BID\",\"accAskVolume\":694.31544488,\"accBidVolume\":677.78167234,\"highest52WeekPrice\":105000000.00000000,\"highest52WeekDate\":\"2024-03-14\",\"lowest52WeekPrice\":34100000.00000000,\"lowest52WeekDate\":\"2023-09-11\",\"tradeStatus\":null,\"marketState\":\"ACTIVE\",\"marketStateForIOS\":\"ACTIVE\",\"isTradingSuspended\":false,\"delistingDate\":null,\"marketWarning\":\"NONE\",\"timestamp\":1722591451149},{\"code\":\"CRIX.UPBIT.KRW-ETH\",\"tradeDate\":\"20240802\",\"tradeTime\":\"093744\",\"tradeDateKst\":\"20240802\",\"tradeTimeKst\":\"183744\",\"tradeTimestamp\":1722591464554,\"openingPrice\":4500000.00000000,\"highPrice\":4521000.00000000,\"lowPrice\":4390000.00000000,\"tradePrice\":4433000.00000000,\"prevClosingPrice\":4500000.00000000,\"change\":\"FALL\",\"changePrice\":67000.00000000,\"signedChangePrice\":-67000.00000000,\"changeRate\":0.0148888889,\"signedChangeRate\":-0.0148888889,\"tradeVolume\":0.18304007,\"accTradePrice\":27840498236.1532100000000000,\"accTradePrice24h\":77768671722.34690000,\"accTradeVolume\":6265.62413987,\"accTradeVolume24h\":17527.06502615,\"askBid\":\"ASK\",\"accAskVolume\":3390.57725812,\"accBidVolume\":2875.04688175,\"highest52WeekPrice\":5783000.00000000,\"highest52WeekDate\":\"2024-03-13\",\"lowest52WeekPrice\":2087000.00000000,\"lowest52WeekDate\":\"2023-10-12\",\"tradeStatus\":null,\"marketState\":\"ACTIVE\",\"marketStateForIOS\":\"ACTIVE\",\"isTradingSuspended\":false,\"delistingDate\":null,\"marketWarning\":\"NONE\",\"timestamp\":1722591464587},{\"code\":\"CRIX.UPBIT.KRW-USDT\",\"tradeDate\":\"20240802\",\"tradeTime\":\"093742\",\"tradeDateKst\":\"20240802\",\"tradeTimeKst\":\"183742\",\"tradeTimestamp\":1722591462420,\"openingPrice\":1405.00000000,\"highPrice\":1408.00000000,\"lowPrice\":1401.00000000,\"tradePrice\":1403.00000000,\"prevClosingPrice\":1405.00000000,\"change\":\"FALL\",\"changePrice\":2.00000000,\"signedChangePrice\":-2.00000000,\"changeRate\":0.0014234875,\"signedChangeRate\":-0.0014234875,\"tradeVolume\":584.54410000,\"accTradePrice\":12853751110.2378216800000000,\"accTradePrice24h\":48370876220.72959117,\"accTradeVolume\":9155023.37555547,\"accTradeVolume24h\":34403104.42729721,\"askBid\":\"ASK\",\"accAskVolume\":3243472.55755016,\"accBidVolume\":5911550.81800531,\"highest52WeekPrice\":1448.00000000,\"highest52WeekDate\":\"2024-07-05\",\"lowest52WeekPrice\":1289.00000000,\"lowest52WeekDate\":\"2024-06-07\",\"tradeStatus\":null,\"marketState\":\"ACTIVE\",\"marketStateForIOS\":\"ACTIVE\",\"isTradingSuspended\":false,\"delistingDate\":null,\"marketWarning\":\"NONE\",\"timestamp\":1722591462454},{\"code\":\"CRIX.UPBIT.KRW-SOL\",\"tradeDate\":\"20240802\",\"tradeTime\":\"093745\",\"tradeDateKst\":\"20240802\",\"tradeTimeKst\":\"183745\",\"tradeTimestamp\":1722591465095,\"openingPrice\":235400.00000000,\"highPrice\":238250.00000000,\"lowPrice\":223600.00000000,\"tradePrice\":230300.00000000,\"prevClosingPrice\":235300.00000000,\"change\":\"FALL\",\"changePrice\":5000.00000000,\"signedChangePrice\":-5000.00000000,\"changeRate\":0.0212494688,\"signedChangeRate\":-0.0212494688,\"tradeVolume\":1.70117798,\"accTradePrice\":78318563967.2272350000000000,\"accTradePrice24h\":185533050717.30871750,\"accTradeVolume\":341120.27970356,\"accTradeVolume24h\":803072.88363726,\"askBid\":\"BID\",\"accAskVolume\":187342.02454472,\"accBidVolume\":153778.25515884,\"highest52WeekPrice\":307500.00000000,\"highest52WeekDate\":\"2024-03-18\",\"lowest52WeekPrice\":23730.00000000,\"lowest52WeekDate\":\"2023-09-11\",\"tradeStatus\":null,\"marketState\":\"ACTIVE\",\"marketStateForIOS\":\"ACTIVE\",\"isTradingSuspended\":false,\"delistingDate\":null,\"marketWarning\":\"NONE\",\"timestamp\":1722591465117},{\"code\":\"CRIX.UPBIT.KRW-XRP\",\"tradeDate\":\"20240802\",\"tradeTime\":\"093745\",\"tradeDateKst\":\"20240802\",\"tradeTimeKst\":\"183745\",\"tradeTimestamp\":1722591465089,\"openingPrice\":837.70000000,\"highPrice\":838.70000000,\"lowPrice\":782.10000000,\"tradePrice\":809.50000000,\"prevClosingPrice\":837.30000000,\"change\":\"FALL\",\"changePrice\":27.80000000,\"signedChangePrice\":-27.80000000,\"changeRate\":0.0332019587,\"signedChangeRate\":-0.0332019587,\"tradeVolume\":38.41877702,\"accTradePrice\":144553599187.7200359170000000,\"accTradePrice24h\":296798148079.56804573,\"accTradeVolume\":178906800.50078765,\"accTradeVolume24h\":361652553.28456834,\"askBid\":\"BID\",\"accAskVolume\":106350776.69621074,\"accBidVolume\":72556023.80457691,\"highest52WeekPrice\":1033.00000000,\"highest52WeekDate\":\"2024-03-11\",\"lowest52WeekPrice\":560.20000000,\"lowest52WeekDate\":\"2024-07-05\",\"tradeStatus\":null,\"marketState\":\"ACTIVE\",\"marketStateForIOS\":\"ACTIVE\",\"isTradingSuspended\":false,\"delistingDate\":null,\"marketWarning\":\"NONE\",\"timestamp\":1722591465113}]']"
      ]
     },
     "execution_count": 41,
     "metadata": {},
     "output_type": "execute_result"
    }
   ],
   "source": [
    "soup.contents"
   ]
  },
  {
   "cell_type": "code",
   "execution_count": 42,
   "metadata": {},
   "outputs": [
    {
     "data": {
      "text/plain": [
       "1"
      ]
     },
     "execution_count": 42,
     "metadata": {},
     "output_type": "execute_result"
    }
   ],
   "source": [
    "len(soup.contents)"
   ]
  },
  {
   "cell_type": "code",
   "execution_count": 43,
   "metadata": {},
   "outputs": [
    {
     "data": {
      "text/plain": [
       "bs4.element.NavigableString"
      ]
     },
     "execution_count": 43,
     "metadata": {},
     "output_type": "execute_result"
    }
   ],
   "source": [
    "type(soup.contents[0])"
   ]
  },
  {
   "cell_type": "code",
   "execution_count": 44,
   "metadata": {},
   "outputs": [
    {
     "name": "stdout",
     "output_type": "stream",
     "text": [
      "[ { \" c o d e \" : \" C R I X . U P B I T . K R W - B T C \" , \" t r a d e D a t e \" : \" 2 0 2 4 0 8 0 2 \" , \" t r a d e T i m e \" : \" 0 9 3 7 3 1 \" , \" t r a d e D a t e K s t \" : \" 2 0 2 4 0 8 0 2 \" , \" t r a d e T i m e K s t \" : \" 1 8 3 7 3 1 \" , \" t r a d e T i m e s t a m p \" : 1 7 2 2 5 9 1 4 5 1 1 2 8 , \" o p e n i n g P r i c e \" : 9 1 7 8 9 0 0 0 . 0 0 0 0 0 0 0 0 , \" h i g h P r i c e \" : 9 2 2 0 0 0 0 0 . 0 0 0 0 0 0 0 0 , \" l o w P r i c e \" : 8 9 6 0 0 0 0 0 . 0 0 0 0 0 0 0 0 , \" t r a d e P r i c e \" : 9 0 5 8 7 0 0 0 . 0 0 0 0 0 0 0 0 , \" p r e v C l o s i n g P r i c e \" : 9 1 7 8 9 0 0 0 . 0 0 0 0 0 0 0 0 , \" c h a n g e \" : \" F A L L \" , \" c h a n g e P r i c e \" : 1 2 0 2 0 0 0 . 0 0 0 0 0 0 0 0 , \" s i g n e d C h a n g e P r i c e \" : - 1 2 0 2 0 0 0 . 0 0 0 0 0 0 0 0 , \" c h a n g e R a t e \" : 0 . 0 1 3 0 9 5 2 5 1 1 , \" s i g n e d C h a n g e R a t e \" : - 0 . 0 1 3 0 9 5 2 5 1 1 , \" t r a d e V o l u m e \" : 0 . 0 0 1 1 0 3 9 2 , \" a c c T r a d e P r i c e \" : 1 2 4 1 9 2 3 8 5 3 7 5 . 6 9 0 0 5 0 0 0 0 0 0 0 0 0 0 0 , \" a c c T r a d e P r i c e 2 4 h \" : 3 6 6 9 4 7 7 1 5 7 8 0 . 3 8 7 3 1 0 0 0 , \" a c c T r a d e V o l u m e \" : 1 3 7 2 . 0 9 7 1 1 7 2 2 , \" a c c T r a d e V o l u m e 2 4 h \" : 4 0 6 9 . 4 4 4 0 4 6 3 5 , \" a s k B i d \" : \" B I D \" , \" a c c A s k V o l u m e \" : 6 9 4 . 3 1 5 4 4 4 8 8 , \" a c c B i d V o l u m e \" : 6 7 7 . 7 8 1 6 7 2 3 4 , \" h i g h e s t 5 2 W e e k P r i c e \" : 1 0 5 0 0 0 0 0 0 . 0 0 0 0 0 0 0 0 , \" h i g h e s t 5 2 W e e k D a t e \" : \" 2 0 2 4 - 0 3 - 1 4 \" , \" l o w e s t 5 2 W e e k P r i c e \" : 3 4 1 0 0 0 0 0 . 0 0 0 0 0 0 0 0 , \" l o w e s t 5 2 W e e k D a t e \" : \" 2 0 2 3 - 0 9 - 1 1 \" , \" t r a d e S t a t u s \" : n u l l , \" m a r k e t S t a t e \" : \" A C T I V E \" , \" m a r k e t S t a t e F o r I O S \" : \" A C T I V E \" , \" i s T r a d i n g S u s p e n d e d \" : f a l s e , \" d e l i s t i n g D a t e \" : n u l l , \" m a r k e t W a r n i n g \" : \" N O N E \" , \" t i m e s t a m p \" : 1 7 2 2 5 9 1 4 5 1 1 4 9 } , { \" c o d e \" : \" C R I X . U P B I T . K R W - E T H \" , \" t r a d e D a t e \" : \" 2 0 2 4 0 8 0 2 \" , \" t r a d e T i m e \" : \" 0 9 3 7 4 4 \" , \" t r a d e D a t e K s t \" : \" 2 0 2 4 0 8 0 2 \" , \" t r a d e T i m e K s t \" : \" 1 8 3 7 4 4 \" , \" t r a d e T i m e s t a m p \" : 1 7 2 2 5 9 1 4 6 4 5 5 4 , \" o p e n i n g P r i c e \" : 4 5 0 0 0 0 0 . 0 0 0 0 0 0 0 0 , \" h i g h P r i c e \" : 4 5 2 1 0 0 0 . 0 0 0 0 0 0 0 0 , \" l o w P r i c e \" : 4 3 9 0 0 0 0 . 0 0 0 0 0 0 0 0 , \" t r a d e P r i c e \" : 4 4 3 3 0 0 0 . 0 0 0 0 0 0 0 0 , \" p r e v C l o s i n g P r i c e \" : 4 5 0 0 0 0 0 . 0 0 0 0 0 0 0 0 , \" c h a n g e \" : \" F A L L \" , \" c h a n g e P r i c e \" : 6 7 0 0 0 . 0 0 0 0 0 0 0 0 , \" s i g n e d C h a n g e P r i c e \" : - 6 7 0 0 0 . 0 0 0 0 0 0 0 0 , \" c h a n g e R a t e \" : 0 . 0 1 4 8 8 8 8 8 8 9 , \" s i g n e d C h a n g e R a t e \" : - 0 . 0 1 4 8 8 8 8 8 8 9 , \" t r a d e V o l u m e \" : 0 . 1 8 3 0 4 0 0 7 , \" a c c T r a d e P r i c e \" : 2 7 8 4 0 4 9 8 2 3 6 . 1 5 3 2 1 0 0 0 0 0 0 0 0 0 0 0 , \" a c c T r a d e P r i c e 2 4 h \" : 7 7 7 6 8 6 7 1 7 2 2 . 3 4 6 9 0 0 0 0 , \" a c c T r a d e V o l u m e \" : 6 2 6 5 . 6 2 4 1 3 9 8 7 , \" a c c T r a d e V o l u m e 2 4 h \" : 1 7 5 2 7 . 0 6 5 0 2 6 1 5 , \" a s k B i d \" : \" A S K \" , \" a c c A s k V o l u m e \" : 3 3 9 0 . 5 7 7 2 5 8 1 2 , \" a c c B i d V o l u m e \" : 2 8 7 5 . 0 4 6 8 8 1 7 5 , \" h i g h e s t 5 2 W e e k P r i c e \" : 5 7 8 3 0 0 0 . 0 0 0 0 0 0 0 0 , \" h i g h e s t 5 2 W e e k D a t e \" : \" 2 0 2 4 - 0 3 - 1 3 \" , \" l o w e s t 5 2 W e e k P r i c e \" : 2 0 8 7 0 0 0 . 0 0 0 0 0 0 0 0 , \" l o w e s t 5 2 W e e k D a t e \" : \" 2 0 2 3 - 1 0 - 1 2 \" , \" t r a d e S t a t u s \" : n u l l , \" m a r k e t S t a t e \" : \" A C T I V E \" , \" m a r k e t S t a t e F o r I O S \" : \" A C T I V E \" , \" i s T r a d i n g S u s p e n d e d \" : f a l s e , \" d e l i s t i n g D a t e \" : n u l l , \" m a r k e t W a r n i n g \" : \" N O N E \" , \" t i m e s t a m p \" : 1 7 2 2 5 9 1 4 6 4 5 8 7 } , { \" c o d e \" : \" C R I X . U P B I T . K R W - U S D T \" , \" t r a d e D a t e \" : \" 2 0 2 4 0 8 0 2 \" , \" t r a d e T i m e \" : \" 0 9 3 7 4 2 \" , \" t r a d e D a t e K s t \" : \" 2 0 2 4 0 8 0 2 \" , \" t r a d e T i m e K s t \" : \" 1 8 3 7 4 2 \" , \" t r a d e T i m e s t a m p \" : 1 7 2 2 5 9 1 4 6 2 4 2 0 , \" o p e n i n g P r i c e \" : 1 4 0 5 . 0 0 0 0 0 0 0 0 , \" h i g h P r i c e \" : 1 4 0 8 . 0 0 0 0 0 0 0 0 , \" l o w P r i c e \" : 1 4 0 1 . 0 0 0 0 0 0 0 0 , \" t r a d e P r i c e \" : 1 4 0 3 . 0 0 0 0 0 0 0 0 , \" p r e v C l o s i n g P r i c e \" : 1 4 0 5 . 0 0 0 0 0 0 0 0 , \" c h a n g e \" : \" F A L L \" , \" c h a n g e P r i c e \" : 2 . 0 0 0 0 0 0 0 0 , \" s i g n e d C h a n g e P r i c e \" : - 2 . 0 0 0 0 0 0 0 0 , \" c h a n g e R a t e \" : 0 . 0 0 1 4 2 3 4 8 7 5 , \" s i g n e d C h a n g e R a t e \" : - 0 . 0 0 1 4 2 3 4 8 7 5 , \" t r a d e V o l u m e \" : 5 8 4 . 5 4 4 1 0 0 0 0 , \" a c c T r a d e P r i c e \" : 1 2 8 5 3 7 5 1 1 1 0 . 2 3 7 8 2 1 6 8 0 0 0 0 0 0 0 0 , \" a c c T r a d e P r i c e 2 4 h \" : 4 8 3 7 0 8 7 6 2 2 0 . 7 2 9 5 9 1 1 7 , \" a c c T r a d e V o l u m e \" : 9 1 5 5 0 2 3 . 3 7 5 5 5 5 4 7 , \" a c c T r a d e V o l u m e 2 4 h \" : 3 4 4 0 3 1 0 4 . 4 2 7 2 9 7 2 1 , \" a s k B i d \" : \" A S K \" , \" a c c A s k V o l u m e \" : 3 2 4 3 4 7 2 . 5 5 7 5 5 0 1 6 , \" a c c B i d V o l u m e \" : 5 9 1 1 5 5 0 . 8 1 8 0 0 5 3 1 , \" h i g h e s t 5 2 W e e k P r i c e \" : 1 4 4 8 . 0 0 0 0 0 0 0 0 , \" h i g h e s t 5 2 W e e k D a t e \" : \" 2 0 2 4 - 0 7 - 0 5 \" , \" l o w e s t 5 2 W e e k P r i c e \" : 1 2 8 9 . 0 0 0 0 0 0 0 0 , \" l o w e s t 5 2 W e e k D a t e \" : \" 2 0 2 4 - 0 6 - 0 7 \" , \" t r a d e S t a t u s \" : n u l l , \" m a r k e t S t a t e \" : \" A C T I V E \" , \" m a r k e t S t a t e F o r I O S \" : \" A C T I V E \" , \" i s T r a d i n g S u s p e n d e d \" : f a l s e , \" d e l i s t i n g D a t e \" : n u l l , \" m a r k e t W a r n i n g \" : \" N O N E \" , \" t i m e s t a m p \" : 1 7 2 2 5 9 1 4 6 2 4 5 4 } , { \" c o d e \" : \" C R I X . U P B I T . K R W - S O L \" , \" t r a d e D a t e \" : \" 2 0 2 4 0 8 0 2 \" , \" t r a d e T i m e \" : \" 0 9 3 7 4 5 \" , \" t r a d e D a t e K s t \" : \" 2 0 2 4 0 8 0 2 \" , \" t r a d e T i m e K s t \" : \" 1 8 3 7 4 5 \" , \" t r a d e T i m e s t a m p \" : 1 7 2 2 5 9 1 4 6 5 0 9 5 , \" o p e n i n g P r i c e \" : 2 3 5 4 0 0 . 0 0 0 0 0 0 0 0 , \" h i g h P r i c e \" : 2 3 8 2 5 0 . 0 0 0 0 0 0 0 0 , \" l o w P r i c e \" : 2 2 3 6 0 0 . 0 0 0 0 0 0 0 0 , \" t r a d e P r i c e \" : 2 3 0 3 0 0 . 0 0 0 0 0 0 0 0 , \" p r e v C l o s i n g P r i c e \" : 2 3 5 3 0 0 . 0 0 0 0 0 0 0 0 , \" c h a n g e \" : \" F A L L \" , \" c h a n g e P r i c e \" : 5 0 0 0 . 0 0 0 0 0 0 0 0 , \" s i g n e d C h a n g e P r i c e \" : - 5 0 0 0 . 0 0 0 0 0 0 0 0 , \" c h a n g e R a t e \" : 0 . 0 2 1 2 4 9 4 6 8 8 , \" s i g n e d C h a n g e R a t e \" : - 0 . 0 2 1 2 4 9 4 6 8 8 , \" t r a d e V o l u m e \" : 1 . 7 0 1 1 7 7 9 8 , \" a c c T r a d e P r i c e \" : 7 8 3 1 8 5 6 3 9 6 7 . 2 2 7 2 3 5 0 0 0 0 0 0 0 0 0 0 , \" a c c T r a d e P r i c e 2 4 h \" : 1 8 5 5 3 3 0 5 0 7 1 7 . 3 0 8 7 1 7 5 0 , \" a c c T r a d e V o l u m e \" : 3 4 1 1 2 0 . 2 7 9 7 0 3 5 6 , \" a c c T r a d e V o l u m e 2 4 h \" : 8 0 3 0 7 2 . 8 8 3 6 3 7 2 6 , \" a s k B i d \" : \" B I D \" , \" a c c A s k V o l u m e \" : 1 8 7 3 4 2 . 0 2 4 5 4 4 7 2 , \" a c c B i d V o l u m e \" : 1 5 3 7 7 8 . 2 5 5 1 5 8 8 4 , \" h i g h e s t 5 2 W e e k P r i c e \" : 3 0 7 5 0 0 . 0 0 0 0 0 0 0 0 , \" h i g h e s t 5 2 W e e k D a t e \" : \" 2 0 2 4 - 0 3 - 1 8 \" , \" l o w e s t 5 2 W e e k P r i c e \" : 2 3 7 3 0 . 0 0 0 0 0 0 0 0 , \" l o w e s t 5 2 W e e k D a t e \" : \" 2 0 2 3 - 0 9 - 1 1 \" , \" t r a d e S t a t u s \" : n u l l , \" m a r k e t S t a t e \" : \" A C T I V E \" , \" m a r k e t S t a t e F o r I O S \" : \" A C T I V E \" , \" i s T r a d i n g S u s p e n d e d \" : f a l s e , \" d e l i s t i n g D a t e \" : n u l l , \" m a r k e t W a r n i n g \" : \" N O N E \" , \" t i m e s t a m p \" : 1 7 2 2 5 9 1 4 6 5 1 1 7 } , { \" c o d e \" : \" C R I X . U P B I T . K R W - X R P \" , \" t r a d e D a t e \" : \" 2 0 2 4 0 8 0 2 \" , \" t r a d e T i m e \" : \" 0 9 3 7 4 5 \" , \" t r a d e D a t e K s t \" : \" 2 0 2 4 0 8 0 2 \" , \" t r a d e T i m e K s t \" : \" 1 8 3 7 4 5 \" , \" t r a d e T i m e s t a m p \" : 1 7 2 2 5 9 1 4 6 5 0 8 9 , \" o p e n i n g P r i c e \" : 8 3 7 . 7 0 0 0 0 0 0 0 , \" h i g h P r i c e \" : 8 3 8 . 7 0 0 0 0 0 0 0 , \" l o w P r i c e \" : 7 8 2 . 1 0 0 0 0 0 0 0 , \" t r a d e P r i c e \" : 8 0 9 . 5 0 0 0 0 0 0 0 , \" p r e v C l o s i n g P r i c e \" : 8 3 7 . 3 0 0 0 0 0 0 0 , \" c h a n g e \" : \" F A L L \" , \" c h a n g e P r i c e \" : 2 7 . 8 0 0 0 0 0 0 0 , \" s i g n e d C h a n g e P r i c e \" : - 2 7 . 8 0 0 0 0 0 0 0 , \" c h a n g e R a t e \" : 0 . 0 3 3 2 0 1 9 5 8 7 , \" s i g n e d C h a n g e R a t e \" : - 0 . 0 3 3 2 0 1 9 5 8 7 , \" t r a d e V o l u m e \" : 3 8 . 4 1 8 7 7 7 0 2 , \" a c c T r a d e P r i c e \" : 1 4 4 5 5 3 5 9 9 1 8 7 . 7 2 0 0 3 5 9 1 7 0 0 0 0 0 0 0 , \" a c c T r a d e P r i c e 2 4 h \" : 2 9 6 7 9 8 1 4 8 0 7 9 . 5 6 8 0 4 5 7 3 , \" a c c T r a d e V o l u m e \" : 1 7 8 9 0 6 8 0 0 . 5 0 0 7 8 7 6 5 , \" a c c T r a d e V o l u m e 2 4 h \" : 3 6 1 6 5 2 5 5 3 . 2 8 4 5 6 8 3 4 , \" a s k B i d \" : \" B I D \" , \" a c c A s k V o l u m e \" : 1 0 6 3 5 0 7 7 6 . 6 9 6 2 1 0 7 4 , \" a c c B i d V o l u m e \" : 7 2 5 5 6 0 2 3 . 8 0 4 5 7 6 9 1 , \" h i g h e s t 5 2 W e e k P r i c e \" : 1 0 3 3 . 0 0 0 0 0 0 0 0 , \" h i g h e s t 5 2 W e e k D a t e \" : \" 2 0 2 4 - 0 3 - 1 1 \" , \" l o w e s t 5 2 W e e k P r i c e \" : 5 6 0 . 2 0 0 0 0 0 0 0 , \" l o w e s t 5 2 W e e k D a t e \" : \" 2 0 2 4 - 0 7 - 0 5 \" , \" t r a d e S t a t u s \" : n u l l , \" m a r k e t S t a t e \" : \" A C T I V E \" , \" m a r k e t S t a t e F o r I O S \" : \" A C T I V E \" , \" i s T r a d i n g S u s p e n d e d \" : f a l s e , \" d e l i s t i n g D a t e \" : n u l l , \" m a r k e t W a r n i n g \" : \" N O N E \" , \" t i m e s t a m p \" : 1 7 2 2 5 9 1 4 6 5 1 1 3 } ] "
     ]
    }
   ],
   "source": [
    "for i in soup.contents[0]:\n",
    "    print(i, end=' ')"
   ]
  },
  {
   "cell_type": "code",
   "execution_count": 45,
   "metadata": {},
   "outputs": [
    {
     "name": "stdout",
     "output_type": "stream",
     "text": [
      "[{\"code\":\"CRIX.UPBIT.KRW-BTC\",\"tradeDate\":\"20240802\",\"tradeTime\":\"093731\",\"tradeDateKst\":\"20240802\",\"tradeTimeKst\":\"183731\",\"tradeTimestamp\":1722591451128,\"openingPrice\":91789000.00000000,\"highPrice\":92200000.00000000,\"lowPrice\":89600000.00000000,\"tradePrice\":90587000.00000000,\"prevClosingPrice\":91789000.00000000,\"change\":\"FALL\",\"changePrice\":1202000.00000000,\"signedChangePrice\":-1202000.00000000,\"changeRate\":0.0130952511,\"signedChangeRate\":-0.0130952511,\"tradeVolume\":0.00110392,\"accTradePrice\":124192385375.6900500000000000,\"accTradePrice24h\":366947715780.38731000,\"accTradeVolume\":1372.09711722,\"accTradeVolume24h\":4069.44404635,\"askBid\":\"BID\",\"accAskVolume\":694.31544488,\"accBidVolume\":677.78167234,\"highest52WeekPrice\":105000000.00000000,\"highest52WeekDate\":\"2024-03-14\",\"lowest52WeekPrice\":34100000.00000000,\"lowest52WeekDate\":\"2023-09-11\",\"tradeStatus\":null,\"marketState\":\"ACTIVE\",\"marketStateForIOS\":\"ACTIVE\",\"isTradingSuspended\":false,\"delistingDate\":null,\"marketWarning\":\"NONE\",\"timestamp\":1722591451149},{\"code\":\"CRIX.UPBIT.KRW-ETH\",\"tradeDate\":\"20240802\",\"tradeTime\":\"093744\",\"tradeDateKst\":\"20240802\",\"tradeTimeKst\":\"183744\",\"tradeTimestamp\":1722591464554,\"openingPrice\":4500000.00000000,\"highPrice\":4521000.00000000,\"lowPrice\":4390000.00000000,\"tradePrice\":4433000.00000000,\"prevClosingPrice\":4500000.00000000,\"change\":\"FALL\",\"changePrice\":67000.00000000,\"signedChangePrice\":-67000.00000000,\"changeRate\":0.0148888889,\"signedChangeRate\":-0.0148888889,\"tradeVolume\":0.18304007,\"accTradePrice\":27840498236.1532100000000000,\"accTradePrice24h\":77768671722.34690000,\"accTradeVolume\":6265.62413987,\"accTradeVolume24h\":17527.06502615,\"askBid\":\"ASK\",\"accAskVolume\":3390.57725812,\"accBidVolume\":2875.04688175,\"highest52WeekPrice\":5783000.00000000,\"highest52WeekDate\":\"2024-03-13\",\"lowest52WeekPrice\":2087000.00000000,\"lowest52WeekDate\":\"2023-10-12\",\"tradeStatus\":null,\"marketState\":\"ACTIVE\",\"marketStateForIOS\":\"ACTIVE\",\"isTradingSuspended\":false,\"delistingDate\":null,\"marketWarning\":\"NONE\",\"timestamp\":1722591464587},{\"code\":\"CRIX.UPBIT.KRW-USDT\",\"tradeDate\":\"20240802\",\"tradeTime\":\"093742\",\"tradeDateKst\":\"20240802\",\"tradeTimeKst\":\"183742\",\"tradeTimestamp\":1722591462420,\"openingPrice\":1405.00000000,\"highPrice\":1408.00000000,\"lowPrice\":1401.00000000,\"tradePrice\":1403.00000000,\"prevClosingPrice\":1405.00000000,\"change\":\"FALL\",\"changePrice\":2.00000000,\"signedChangePrice\":-2.00000000,\"changeRate\":0.0014234875,\"signedChangeRate\":-0.0014234875,\"tradeVolume\":584.54410000,\"accTradePrice\":12853751110.2378216800000000,\"accTradePrice24h\":48370876220.72959117,\"accTradeVolume\":9155023.37555547,\"accTradeVolume24h\":34403104.42729721,\"askBid\":\"ASK\",\"accAskVolume\":3243472.55755016,\"accBidVolume\":5911550.81800531,\"highest52WeekPrice\":1448.00000000,\"highest52WeekDate\":\"2024-07-05\",\"lowest52WeekPrice\":1289.00000000,\"lowest52WeekDate\":\"2024-06-07\",\"tradeStatus\":null,\"marketState\":\"ACTIVE\",\"marketStateForIOS\":\"ACTIVE\",\"isTradingSuspended\":false,\"delistingDate\":null,\"marketWarning\":\"NONE\",\"timestamp\":1722591462454},{\"code\":\"CRIX.UPBIT.KRW-SOL\",\"tradeDate\":\"20240802\",\"tradeTime\":\"093745\",\"tradeDateKst\":\"20240802\",\"tradeTimeKst\":\"183745\",\"tradeTimestamp\":1722591465095,\"openingPrice\":235400.00000000,\"highPrice\":238250.00000000,\"lowPrice\":223600.00000000,\"tradePrice\":230300.00000000,\"prevClosingPrice\":235300.00000000,\"change\":\"FALL\",\"changePrice\":5000.00000000,\"signedChangePrice\":-5000.00000000,\"changeRate\":0.0212494688,\"signedChangeRate\":-0.0212494688,\"tradeVolume\":1.70117798,\"accTradePrice\":78318563967.2272350000000000,\"accTradePrice24h\":185533050717.30871750,\"accTradeVolume\":341120.27970356,\"accTradeVolume24h\":803072.88363726,\"askBid\":\"BID\",\"accAskVolume\":187342.02454472,\"accBidVolume\":153778.25515884,\"highest52WeekPrice\":307500.00000000,\"highest52WeekDate\":\"2024-03-18\",\"lowest52WeekPrice\":23730.00000000,\"lowest52WeekDate\":\"2023-09-11\",\"tradeStatus\":null,\"marketState\":\"ACTIVE\",\"marketStateForIOS\":\"ACTIVE\",\"isTradingSuspended\":false,\"delistingDate\":null,\"marketWarning\":\"NONE\",\"timestamp\":1722591465117},{\"code\":\"CRIX.UPBIT.KRW-XRP\",\"tradeDate\":\"20240802\",\"tradeTime\":\"093745\",\"tradeDateKst\":\"20240802\",\"tradeTimeKst\":\"183745\",\"tradeTimestamp\":1722591465089,\"openingPrice\":837.70000000,\"highPrice\":838.70000000,\"lowPrice\":782.10000000,\"tradePrice\":809.50000000,\"prevClosingPrice\":837.30000000,\"change\":\"FALL\",\"changePrice\":27.80000000,\"signedChangePrice\":-27.80000000,\"changeRate\":0.0332019587,\"signedChangeRate\":-0.0332019587,\"tradeVolume\":38.41877702,\"accTradePrice\":144553599187.7200359170000000,\"accTradePrice24h\":296798148079.56804573,\"accTradeVolume\":178906800.50078765,\"accTradeVolume24h\":361652553.28456834,\"askBid\":\"BID\",\"accAskVolume\":106350776.69621074,\"accBidVolume\":72556023.80457691,\"highest52WeekPrice\":1033.00000000,\"highest52WeekDate\":\"2024-03-11\",\"lowest52WeekPrice\":560.20000000,\"lowest52WeekDate\":\"2024-07-05\",\"tradeStatus\":null,\"marketState\":\"ACTIVE\",\"marketStateForIOS\":\"ACTIVE\",\"isTradingSuspended\":false,\"delistingDate\":null,\"marketWarning\":\"NONE\",\"timestamp\":1722591465113}]\n"
     ]
    }
   ],
   "source": [
    "for i in soup:\n",
    "    print(i)"
   ]
  },
  {
   "cell_type": "code",
   "execution_count": 48,
   "metadata": {},
   "outputs": [
    {
     "name": "stdout",
     "output_type": "stream",
     "text": [
      "[{\"code\":\"CRIX.UPBIT.KRW-BTC\",\"tradeDate\":\"20240802\",\"tradeTime\":\"093731\",\"tradeDateKst\":\"20240802\",\"tradeTimeKst\":\"183731\",\"tradeTimestamp\":1722591451128,\"openingPrice\":91789000.00000000,\"highPrice\":92200000.00000000,\"lowPrice\":89600000.00000000,\"tradePrice\":90587000.00000000,\"prevClosingPrice\":91789000.00000000,\"change\":\"FALL\",\"changePrice\":1202000.00000000,\"signedChangePrice\":-1202000.00000000,\"changeRate\":0.0130952511,\"signedChangeRate\":-0.0130952511,\"tradeVolume\":0.00110392,\"accTradePrice\":124192385375.6900500000000000,\"accTradePrice24h\":366947715780.38731000,\"accTradeVolume\":1372.09711722,\"accTradeVolume24h\":4069.44404635,\"askBid\":\"BID\",\"accAskVolume\":694.31544488,\"accBidVolume\":677.78167234,\"highest52WeekPrice\":105000000.00000000,\"highest52WeekDate\":\"2024-03-14\",\"lowest52WeekPrice\":34100000.00000000,\"lowest52WeekDate\":\"2023-09-11\",\"tradeStatus\":null,\"marketState\":\"ACTIVE\",\"marketStateForIOS\":\"ACTIVE\",\"isTradingSuspended\":false,\"delistingDate\":null,\"marketWarning\":\"NONE\",\"timestamp\":1722591451149},{\"code\":\"CRIX.UPBIT.KRW-ETH\",\"tradeDate\":\"20240802\",\"tradeTime\":\"093744\",\"tradeDateKst\":\"20240802\",\"tradeTimeKst\":\"183744\",\"tradeTimestamp\":1722591464554,\"openingPrice\":4500000.00000000,\"highPrice\":4521000.00000000,\"lowPrice\":4390000.00000000,\"tradePrice\":4433000.00000000,\"prevClosingPrice\":4500000.00000000,\"change\":\"FALL\",\"changePrice\":67000.00000000,\"signedChangePrice\":-67000.00000000,\"changeRate\":0.0148888889,\"signedChangeRate\":-0.0148888889,\"tradeVolume\":0.18304007,\"accTradePrice\":27840498236.1532100000000000,\"accTradePrice24h\":77768671722.34690000,\"accTradeVolume\":6265.62413987,\"accTradeVolume24h\":17527.06502615,\"askBid\":\"ASK\",\"accAskVolume\":3390.57725812,\"accBidVolume\":2875.04688175,\"highest52WeekPrice\":5783000.00000000,\"highest52WeekDate\":\"2024-03-13\",\"lowest52WeekPrice\":2087000.00000000,\"lowest52WeekDate\":\"2023-10-12\",\"tradeStatus\":null,\"marketState\":\"ACTIVE\",\"marketStateForIOS\":\"ACTIVE\",\"isTradingSuspended\":false,\"delistingDate\":null,\"marketWarning\":\"NONE\",\"timestamp\":1722591464587},{\"code\":\"CRIX.UPBIT.KRW-USDT\",\"tradeDate\":\"20240802\",\"tradeTime\":\"093742\",\"tradeDateKst\":\"20240802\",\"tradeTimeKst\":\"183742\",\"tradeTimestamp\":1722591462420,\"openingPrice\":1405.00000000,\"highPrice\":1408.00000000,\"lowPrice\":1401.00000000,\"tradePrice\":1403.00000000,\"prevClosingPrice\":1405.00000000,\"change\":\"FALL\",\"changePrice\":2.00000000,\"signedChangePrice\":-2.00000000,\"changeRate\":0.0014234875,\"signedChangeRate\":-0.0014234875,\"tradeVolume\":584.54410000,\"accTradePrice\":12853751110.2378216800000000,\"accTradePrice24h\":48370876220.72959117,\"accTradeVolume\":9155023.37555547,\"accTradeVolume24h\":34403104.42729721,\"askBid\":\"ASK\",\"accAskVolume\":3243472.55755016,\"accBidVolume\":5911550.81800531,\"highest52WeekPrice\":1448.00000000,\"highest52WeekDate\":\"2024-07-05\",\"lowest52WeekPrice\":1289.00000000,\"lowest52WeekDate\":\"2024-06-07\",\"tradeStatus\":null,\"marketState\":\"ACTIVE\",\"marketStateForIOS\":\"ACTIVE\",\"isTradingSuspended\":false,\"delistingDate\":null,\"marketWarning\":\"NONE\",\"timestamp\":1722591462454},{\"code\":\"CRIX.UPBIT.KRW-SOL\",\"tradeDate\":\"20240802\",\"tradeTime\":\"093745\",\"tradeDateKst\":\"20240802\",\"tradeTimeKst\":\"183745\",\"tradeTimestamp\":1722591465095,\"openingPrice\":235400.00000000,\"highPrice\":238250.00000000,\"lowPrice\":223600.00000000,\"tradePrice\":230300.00000000,\"prevClosingPrice\":235300.00000000,\"change\":\"FALL\",\"changePrice\":5000.00000000,\"signedChangePrice\":-5000.00000000,\"changeRate\":0.0212494688,\"signedChangeRate\":-0.0212494688,\"tradeVolume\":1.70117798,\"accTradePrice\":78318563967.2272350000000000,\"accTradePrice24h\":185533050717.30871750,\"accTradeVolume\":341120.27970356,\"accTradeVolume24h\":803072.88363726,\"askBid\":\"BID\",\"accAskVolume\":187342.02454472,\"accBidVolume\":153778.25515884,\"highest52WeekPrice\":307500.00000000,\"highest52WeekDate\":\"2024-03-18\",\"lowest52WeekPrice\":23730.00000000,\"lowest52WeekDate\":\"2023-09-11\",\"tradeStatus\":null,\"marketState\":\"ACTIVE\",\"marketStateForIOS\":\"ACTIVE\",\"isTradingSuspended\":false,\"delistingDate\":null,\"marketWarning\":\"NONE\",\"timestamp\":1722591465117},{\"code\":\"CRIX.UPBIT.KRW-XRP\",\"tradeDate\":\"20240802\",\"tradeTime\":\"093745\",\"tradeDateKst\":\"20240802\",\"tradeTimeKst\":\"183745\",\"tradeTimestamp\":1722591465089,\"openingPrice\":837.70000000,\"highPrice\":838.70000000,\"lowPrice\":782.10000000,\"tradePrice\":809.50000000,\"prevClosingPrice\":837.30000000,\"change\":\"FALL\",\"changePrice\":27.80000000,\"signedChangePrice\":-27.80000000,\"changeRate\":0.0332019587,\"signedChangeRate\":-0.0332019587,\"tradeVolume\":38.41877702,\"accTradePrice\":144553599187.7200359170000000,\"accTradePrice24h\":296798148079.56804573,\"accTradeVolume\":178906800.50078765,\"accTradeVolume24h\":361652553.28456834,\"askBid\":\"BID\",\"accAskVolume\":106350776.69621074,\"accBidVolume\":72556023.80457691,\"highest52WeekPrice\":1033.00000000,\"highest52WeekDate\":\"2024-03-11\",\"lowest52WeekPrice\":560.20000000,\"lowest52WeekDate\":\"2024-07-05\",\"tradeStatus\":null,\"marketState\":\"ACTIVE\",\"marketStateForIOS\":\"ACTIVE\",\"isTradingSuspended\":false,\"delistingDate\":null,\"marketWarning\":\"NONE\",\"timestamp\":1722591465113}]\n"
     ]
    }
   ],
   "source": [
    "with open('bitcoin.txt', 'w') as f:\n",
    "    for i in soup:\n",
    "        print(i)\n",
    "        f.write(i)"
   ]
  },
  {
   "cell_type": "code",
   "execution_count": null,
   "metadata": {},
   "outputs": [],
   "source": []
  }
 ],
 "metadata": {
  "kernelspec": {
   "display_name": "ai1",
   "language": "python",
   "name": "python3"
  },
  "language_info": {
   "codemirror_mode": {
    "name": "ipython",
    "version": 3
   },
   "file_extension": ".py",
   "mimetype": "text/x-python",
   "name": "python",
   "nbconvert_exporter": "python",
   "pygments_lexer": "ipython3",
   "version": "3.9.19"
  }
 },
 "nbformat": 4,
 "nbformat_minor": 2
}
